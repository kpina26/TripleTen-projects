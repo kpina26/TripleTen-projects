{
 "cells": [
  {
   "cell_type": "markdown",
   "id": "64f46ff4",
   "metadata": {},
   "source": [
    "2017 Instacart Data\n",
    "\n",
    "Instacart is a grocery delivery platform where customers can place a grocery order and have it delivered to them. In 2017 a\n",
    "work dataset was released by Instacartfor a Kaggie competition. I will need to clean up the data and give report that provides\n",
    "insight on shopping habits from Instacart customers."
   ]
  },
  {
   "cell_type": "code",
   "execution_count": 1,
   "id": "fbf1adab",
   "metadata": {},
   "outputs": [],
   "source": [
    "import pandas as pd\n",
    "from matplotlib import pyplot as plt"
   ]
  },
  {
   "cell_type": "code",
   "execution_count": 2,
   "id": "ad36396d",
   "metadata": {},
   "outputs": [
    {
     "data": {
      "text/html": [
       "<div>\n",
       "<style scoped>\n",
       "    .dataframe tbody tr th:only-of-type {\n",
       "        vertical-align: middle;\n",
       "    }\n",
       "\n",
       "    .dataframe tbody tr th {\n",
       "        vertical-align: top;\n",
       "    }\n",
       "\n",
       "    .dataframe thead th {\n",
       "        text-align: right;\n",
       "    }\n",
       "</style>\n",
       "<table border=\"1\" class=\"dataframe\">\n",
       "  <thead>\n",
       "    <tr style=\"text-align: right;\">\n",
       "      <th></th>\n",
       "      <th>order_id</th>\n",
       "      <th>user_id</th>\n",
       "      <th>order_number</th>\n",
       "      <th>order_dow</th>\n",
       "      <th>order_hour_of_day</th>\n",
       "      <th>days_since_prior_order</th>\n",
       "    </tr>\n",
       "  </thead>\n",
       "  <tbody>\n",
       "    <tr>\n",
       "      <th>0</th>\n",
       "      <td>1515936</td>\n",
       "      <td>183418</td>\n",
       "      <td>11</td>\n",
       "      <td>6</td>\n",
       "      <td>13</td>\n",
       "      <td>30.0</td>\n",
       "    </tr>\n",
       "    <tr>\n",
       "      <th>1</th>\n",
       "      <td>1690866</td>\n",
       "      <td>163593</td>\n",
       "      <td>5</td>\n",
       "      <td>5</td>\n",
       "      <td>12</td>\n",
       "      <td>9.0</td>\n",
       "    </tr>\n",
       "    <tr>\n",
       "      <th>2</th>\n",
       "      <td>1454967</td>\n",
       "      <td>39980</td>\n",
       "      <td>4</td>\n",
       "      <td>5</td>\n",
       "      <td>19</td>\n",
       "      <td>2.0</td>\n",
       "    </tr>\n",
       "    <tr>\n",
       "      <th>3</th>\n",
       "      <td>1768857</td>\n",
       "      <td>82516</td>\n",
       "      <td>56</td>\n",
       "      <td>0</td>\n",
       "      <td>20</td>\n",
       "      <td>10.0</td>\n",
       "    </tr>\n",
       "    <tr>\n",
       "      <th>4</th>\n",
       "      <td>3007858</td>\n",
       "      <td>196724</td>\n",
       "      <td>2</td>\n",
       "      <td>4</td>\n",
       "      <td>12</td>\n",
       "      <td>17.0</td>\n",
       "    </tr>\n",
       "  </tbody>\n",
       "</table>\n",
       "</div>"
      ],
      "text/plain": [
       "   order_id  user_id  order_number  order_dow  order_hour_of_day  \\\n",
       "0   1515936   183418            11          6                 13   \n",
       "1   1690866   163593             5          5                 12   \n",
       "2   1454967    39980             4          5                 19   \n",
       "3   1768857    82516            56          0                 20   \n",
       "4   3007858   196724             2          4                 12   \n",
       "\n",
       "   days_since_prior_order  \n",
       "0                    30.0  \n",
       "1                     9.0  \n",
       "2                     2.0  \n",
       "3                    10.0  \n",
       "4                    17.0  "
      ]
     },
     "execution_count": 2,
     "metadata": {},
     "output_type": "execute_result"
    }
   ],
   "source": [
    "instacart_orders=pd.read_csv('/datasets/instacart_orders.csv', sep=\";\")\n",
    "instacart_orders.head()"
   ]
  },
  {
   "cell_type": "code",
   "execution_count": 3,
   "id": "fe36f099",
   "metadata": {},
   "outputs": [
    {
     "name": "stdout",
     "output_type": "stream",
     "text": [
      "<class 'pandas.core.frame.DataFrame'>\n",
      "RangeIndex: 478967 entries, 0 to 478966\n",
      "Data columns (total 6 columns):\n",
      " #   Column                  Non-Null Count   Dtype  \n",
      "---  ------                  --------------   -----  \n",
      " 0   order_id                478967 non-null  int64  \n",
      " 1   user_id                 478967 non-null  int64  \n",
      " 2   order_number            478967 non-null  int64  \n",
      " 3   order_dow               478967 non-null  int64  \n",
      " 4   order_hour_of_day       478967 non-null  int64  \n",
      " 5   days_since_prior_order  450148 non-null  float64\n",
      "dtypes: float64(1), int64(5)\n",
      "memory usage: 21.9 MB\n"
     ]
    }
   ],
   "source": [
    "instacart_orders.info()"
   ]
  },
  {
   "cell_type": "code",
   "execution_count": 4,
   "id": "f295c56d",
   "metadata": {},
   "outputs": [
    {
     "data": {
      "text/html": [
       "<div>\n",
       "<style scoped>\n",
       "    .dataframe tbody tr th:only-of-type {\n",
       "        vertical-align: middle;\n",
       "    }\n",
       "\n",
       "    .dataframe tbody tr th {\n",
       "        vertical-align: top;\n",
       "    }\n",
       "\n",
       "    .dataframe thead th {\n",
       "        text-align: right;\n",
       "    }\n",
       "</style>\n",
       "<table border=\"1\" class=\"dataframe\">\n",
       "  <thead>\n",
       "    <tr style=\"text-align: right;\">\n",
       "      <th></th>\n",
       "      <th>order_id</th>\n",
       "      <th>user_id</th>\n",
       "      <th>order_number</th>\n",
       "      <th>order_dow</th>\n",
       "      <th>order_hour_of_day</th>\n",
       "      <th>days_since_prior_order</th>\n",
       "    </tr>\n",
       "  </thead>\n",
       "  <tbody>\n",
       "    <tr>\n",
       "      <th>count</th>\n",
       "      <td>4.789670e+05</td>\n",
       "      <td>478967.000000</td>\n",
       "      <td>478967.000000</td>\n",
       "      <td>478967.000000</td>\n",
       "      <td>478967.000000</td>\n",
       "      <td>450148.000000</td>\n",
       "    </tr>\n",
       "    <tr>\n",
       "      <th>mean</th>\n",
       "      <td>1.709947e+06</td>\n",
       "      <td>102966.537475</td>\n",
       "      <td>17.157808</td>\n",
       "      <td>2.775058</td>\n",
       "      <td>13.446676</td>\n",
       "      <td>11.101751</td>\n",
       "    </tr>\n",
       "    <tr>\n",
       "      <th>std</th>\n",
       "      <td>9.869480e+05</td>\n",
       "      <td>59525.328991</td>\n",
       "      <td>17.704688</td>\n",
       "      <td>2.045869</td>\n",
       "      <td>4.224986</td>\n",
       "      <td>9.189975</td>\n",
       "    </tr>\n",
       "    <tr>\n",
       "      <th>min</th>\n",
       "      <td>4.000000e+00</td>\n",
       "      <td>2.000000</td>\n",
       "      <td>1.000000</td>\n",
       "      <td>0.000000</td>\n",
       "      <td>0.000000</td>\n",
       "      <td>0.000000</td>\n",
       "    </tr>\n",
       "    <tr>\n",
       "      <th>25%</th>\n",
       "      <td>8.564685e+05</td>\n",
       "      <td>51414.000000</td>\n",
       "      <td>5.000000</td>\n",
       "      <td>1.000000</td>\n",
       "      <td>10.000000</td>\n",
       "      <td>4.000000</td>\n",
       "    </tr>\n",
       "    <tr>\n",
       "      <th>50%</th>\n",
       "      <td>1.709522e+06</td>\n",
       "      <td>102633.000000</td>\n",
       "      <td>11.000000</td>\n",
       "      <td>3.000000</td>\n",
       "      <td>13.000000</td>\n",
       "      <td>7.000000</td>\n",
       "    </tr>\n",
       "    <tr>\n",
       "      <th>75%</th>\n",
       "      <td>2.562990e+06</td>\n",
       "      <td>154419.000000</td>\n",
       "      <td>23.000000</td>\n",
       "      <td>5.000000</td>\n",
       "      <td>16.000000</td>\n",
       "      <td>15.000000</td>\n",
       "    </tr>\n",
       "    <tr>\n",
       "      <th>max</th>\n",
       "      <td>3.421079e+06</td>\n",
       "      <td>206209.000000</td>\n",
       "      <td>100.000000</td>\n",
       "      <td>6.000000</td>\n",
       "      <td>23.000000</td>\n",
       "      <td>30.000000</td>\n",
       "    </tr>\n",
       "  </tbody>\n",
       "</table>\n",
       "</div>"
      ],
      "text/plain": [
       "           order_id        user_id   order_number      order_dow  \\\n",
       "count  4.789670e+05  478967.000000  478967.000000  478967.000000   \n",
       "mean   1.709947e+06  102966.537475      17.157808       2.775058   \n",
       "std    9.869480e+05   59525.328991      17.704688       2.045869   \n",
       "min    4.000000e+00       2.000000       1.000000       0.000000   \n",
       "25%    8.564685e+05   51414.000000       5.000000       1.000000   \n",
       "50%    1.709522e+06  102633.000000      11.000000       3.000000   \n",
       "75%    2.562990e+06  154419.000000      23.000000       5.000000   \n",
       "max    3.421079e+06  206209.000000     100.000000       6.000000   \n",
       "\n",
       "       order_hour_of_day  days_since_prior_order  \n",
       "count      478967.000000           450148.000000  \n",
       "mean           13.446676               11.101751  \n",
       "std             4.224986                9.189975  \n",
       "min             0.000000                0.000000  \n",
       "25%            10.000000                4.000000  \n",
       "50%            13.000000                7.000000  \n",
       "75%            16.000000               15.000000  \n",
       "max            23.000000               30.000000  "
      ]
     },
     "execution_count": 4,
     "metadata": {},
     "output_type": "execute_result"
    }
   ],
   "source": [
    "instacart_orders.describe()"
   ]
  },
  {
   "cell_type": "code",
   "execution_count": 5,
   "id": "ad6a1efa",
   "metadata": {
    "scrolled": false
   },
   "outputs": [
    {
     "data": {
      "text/html": [
       "<div>\n",
       "<style scoped>\n",
       "    .dataframe tbody tr th:only-of-type {\n",
       "        vertical-align: middle;\n",
       "    }\n",
       "\n",
       "    .dataframe tbody tr th {\n",
       "        vertical-align: top;\n",
       "    }\n",
       "\n",
       "    .dataframe thead th {\n",
       "        text-align: right;\n",
       "    }\n",
       "</style>\n",
       "<table border=\"1\" class=\"dataframe\">\n",
       "  <thead>\n",
       "    <tr style=\"text-align: right;\">\n",
       "      <th></th>\n",
       "      <th>product_id</th>\n",
       "      <th>product_name</th>\n",
       "      <th>aisle_id</th>\n",
       "      <th>department_id</th>\n",
       "    </tr>\n",
       "  </thead>\n",
       "  <tbody>\n",
       "    <tr>\n",
       "      <th>0</th>\n",
       "      <td>1</td>\n",
       "      <td>Chocolate Sandwich Cookies</td>\n",
       "      <td>61</td>\n",
       "      <td>19</td>\n",
       "    </tr>\n",
       "    <tr>\n",
       "      <th>1</th>\n",
       "      <td>2</td>\n",
       "      <td>All-Seasons Salt</td>\n",
       "      <td>104</td>\n",
       "      <td>13</td>\n",
       "    </tr>\n",
       "    <tr>\n",
       "      <th>2</th>\n",
       "      <td>3</td>\n",
       "      <td>Robust Golden Unsweetened Oolong Tea</td>\n",
       "      <td>94</td>\n",
       "      <td>7</td>\n",
       "    </tr>\n",
       "    <tr>\n",
       "      <th>3</th>\n",
       "      <td>4</td>\n",
       "      <td>Smart Ones Classic Favorites Mini Rigatoni Wit...</td>\n",
       "      <td>38</td>\n",
       "      <td>1</td>\n",
       "    </tr>\n",
       "    <tr>\n",
       "      <th>4</th>\n",
       "      <td>5</td>\n",
       "      <td>Green Chile Anytime Sauce</td>\n",
       "      <td>5</td>\n",
       "      <td>13</td>\n",
       "    </tr>\n",
       "  </tbody>\n",
       "</table>\n",
       "</div>"
      ],
      "text/plain": [
       "   product_id                                       product_name  aisle_id  \\\n",
       "0           1                         Chocolate Sandwich Cookies        61   \n",
       "1           2                                   All-Seasons Salt       104   \n",
       "2           3               Robust Golden Unsweetened Oolong Tea        94   \n",
       "3           4  Smart Ones Classic Favorites Mini Rigatoni Wit...        38   \n",
       "4           5                          Green Chile Anytime Sauce         5   \n",
       "\n",
       "   department_id  \n",
       "0             19  \n",
       "1             13  \n",
       "2              7  \n",
       "3              1  \n",
       "4             13  "
      ]
     },
     "execution_count": 5,
     "metadata": {},
     "output_type": "execute_result"
    }
   ],
   "source": [
    "df_products=pd.read_csv('/datasets/products.csv',sep=\";\")\n",
    "df_products.head()"
   ]
  },
  {
   "cell_type": "code",
   "execution_count": 6,
   "id": "73427320",
   "metadata": {},
   "outputs": [
    {
     "name": "stdout",
     "output_type": "stream",
     "text": [
      "<class 'pandas.core.frame.DataFrame'>\n",
      "RangeIndex: 49694 entries, 0 to 49693\n",
      "Data columns (total 4 columns):\n",
      " #   Column         Non-Null Count  Dtype \n",
      "---  ------         --------------  ----- \n",
      " 0   product_id     49694 non-null  int64 \n",
      " 1   product_name   48436 non-null  object\n",
      " 2   aisle_id       49694 non-null  int64 \n",
      " 3   department_id  49694 non-null  int64 \n",
      "dtypes: int64(3), object(1)\n",
      "memory usage: 1.5+ MB\n"
     ]
    }
   ],
   "source": [
    "df_products.info()"
   ]
  },
  {
   "cell_type": "code",
   "execution_count": 7,
   "id": "68002bc0",
   "metadata": {},
   "outputs": [
    {
     "data": {
      "text/html": [
       "<div>\n",
       "<style scoped>\n",
       "    .dataframe tbody tr th:only-of-type {\n",
       "        vertical-align: middle;\n",
       "    }\n",
       "\n",
       "    .dataframe tbody tr th {\n",
       "        vertical-align: top;\n",
       "    }\n",
       "\n",
       "    .dataframe thead th {\n",
       "        text-align: right;\n",
       "    }\n",
       "</style>\n",
       "<table border=\"1\" class=\"dataframe\">\n",
       "  <thead>\n",
       "    <tr style=\"text-align: right;\">\n",
       "      <th></th>\n",
       "      <th>product_id</th>\n",
       "      <th>aisle_id</th>\n",
       "      <th>department_id</th>\n",
       "    </tr>\n",
       "  </thead>\n",
       "  <tbody>\n",
       "    <tr>\n",
       "      <th>count</th>\n",
       "      <td>49694.000000</td>\n",
       "      <td>49694.000000</td>\n",
       "      <td>49694.000000</td>\n",
       "    </tr>\n",
       "    <tr>\n",
       "      <th>mean</th>\n",
       "      <td>24847.500000</td>\n",
       "      <td>67.773192</td>\n",
       "      <td>11.728478</td>\n",
       "    </tr>\n",
       "    <tr>\n",
       "      <th>std</th>\n",
       "      <td>14345.566475</td>\n",
       "      <td>38.317265</td>\n",
       "      <td>5.850314</td>\n",
       "    </tr>\n",
       "    <tr>\n",
       "      <th>min</th>\n",
       "      <td>1.000000</td>\n",
       "      <td>1.000000</td>\n",
       "      <td>1.000000</td>\n",
       "    </tr>\n",
       "    <tr>\n",
       "      <th>25%</th>\n",
       "      <td>12424.250000</td>\n",
       "      <td>35.000000</td>\n",
       "      <td>7.000000</td>\n",
       "    </tr>\n",
       "    <tr>\n",
       "      <th>50%</th>\n",
       "      <td>24847.500000</td>\n",
       "      <td>69.000000</td>\n",
       "      <td>13.000000</td>\n",
       "    </tr>\n",
       "    <tr>\n",
       "      <th>75%</th>\n",
       "      <td>37270.750000</td>\n",
       "      <td>100.000000</td>\n",
       "      <td>17.000000</td>\n",
       "    </tr>\n",
       "    <tr>\n",
       "      <th>max</th>\n",
       "      <td>49694.000000</td>\n",
       "      <td>134.000000</td>\n",
       "      <td>21.000000</td>\n",
       "    </tr>\n",
       "  </tbody>\n",
       "</table>\n",
       "</div>"
      ],
      "text/plain": [
       "         product_id      aisle_id  department_id\n",
       "count  49694.000000  49694.000000   49694.000000\n",
       "mean   24847.500000     67.773192      11.728478\n",
       "std    14345.566475     38.317265       5.850314\n",
       "min        1.000000      1.000000       1.000000\n",
       "25%    12424.250000     35.000000       7.000000\n",
       "50%    24847.500000     69.000000      13.000000\n",
       "75%    37270.750000    100.000000      17.000000\n",
       "max    49694.000000    134.000000      21.000000"
      ]
     },
     "execution_count": 7,
     "metadata": {},
     "output_type": "execute_result"
    }
   ],
   "source": [
    "df_products.describe()"
   ]
  },
  {
   "cell_type": "code",
   "execution_count": 8,
   "id": "5130e05e",
   "metadata": {},
   "outputs": [
    {
     "data": {
      "text/html": [
       "<div>\n",
       "<style scoped>\n",
       "    .dataframe tbody tr th:only-of-type {\n",
       "        vertical-align: middle;\n",
       "    }\n",
       "\n",
       "    .dataframe tbody tr th {\n",
       "        vertical-align: top;\n",
       "    }\n",
       "\n",
       "    .dataframe thead th {\n",
       "        text-align: right;\n",
       "    }\n",
       "</style>\n",
       "<table border=\"1\" class=\"dataframe\">\n",
       "  <thead>\n",
       "    <tr style=\"text-align: right;\">\n",
       "      <th></th>\n",
       "      <th>aisle_id</th>\n",
       "      <th>aisle</th>\n",
       "    </tr>\n",
       "  </thead>\n",
       "  <tbody>\n",
       "    <tr>\n",
       "      <th>0</th>\n",
       "      <td>1</td>\n",
       "      <td>prepared soups salads</td>\n",
       "    </tr>\n",
       "    <tr>\n",
       "      <th>1</th>\n",
       "      <td>2</td>\n",
       "      <td>specialty cheeses</td>\n",
       "    </tr>\n",
       "    <tr>\n",
       "      <th>2</th>\n",
       "      <td>3</td>\n",
       "      <td>energy granola bars</td>\n",
       "    </tr>\n",
       "    <tr>\n",
       "      <th>3</th>\n",
       "      <td>4</td>\n",
       "      <td>instant foods</td>\n",
       "    </tr>\n",
       "    <tr>\n",
       "      <th>4</th>\n",
       "      <td>5</td>\n",
       "      <td>marinades meat preparation</td>\n",
       "    </tr>\n",
       "  </tbody>\n",
       "</table>\n",
       "</div>"
      ],
      "text/plain": [
       "   aisle_id                       aisle\n",
       "0         1       prepared soups salads\n",
       "1         2           specialty cheeses\n",
       "2         3         energy granola bars\n",
       "3         4               instant foods\n",
       "4         5  marinades meat preparation"
      ]
     },
     "execution_count": 8,
     "metadata": {},
     "output_type": "execute_result"
    }
   ],
   "source": [
    "insta_aisles=pd.read_csv('/datasets/aisles.csv', sep=\";\")\n",
    "insta_aisles.head()"
   ]
  },
  {
   "cell_type": "code",
   "execution_count": 9,
   "id": "9f6b4ab1",
   "metadata": {},
   "outputs": [
    {
     "name": "stdout",
     "output_type": "stream",
     "text": [
      "<class 'pandas.core.frame.DataFrame'>\n",
      "RangeIndex: 134 entries, 0 to 133\n",
      "Data columns (total 2 columns):\n",
      " #   Column    Non-Null Count  Dtype \n",
      "---  ------    --------------  ----- \n",
      " 0   aisle_id  134 non-null    int64 \n",
      " 1   aisle     134 non-null    object\n",
      "dtypes: int64(1), object(1)\n",
      "memory usage: 2.2+ KB\n"
     ]
    }
   ],
   "source": [
    "insta_aisles.info()"
   ]
  },
  {
   "cell_type": "code",
   "execution_count": 10,
   "id": "998f756b",
   "metadata": {},
   "outputs": [
    {
     "data": {
      "text/html": [
       "<div>\n",
       "<style scoped>\n",
       "    .dataframe tbody tr th:only-of-type {\n",
       "        vertical-align: middle;\n",
       "    }\n",
       "\n",
       "    .dataframe tbody tr th {\n",
       "        vertical-align: top;\n",
       "    }\n",
       "\n",
       "    .dataframe thead th {\n",
       "        text-align: right;\n",
       "    }\n",
       "</style>\n",
       "<table border=\"1\" class=\"dataframe\">\n",
       "  <thead>\n",
       "    <tr style=\"text-align: right;\">\n",
       "      <th></th>\n",
       "      <th>aisle_id</th>\n",
       "    </tr>\n",
       "  </thead>\n",
       "  <tbody>\n",
       "    <tr>\n",
       "      <th>count</th>\n",
       "      <td>134.000000</td>\n",
       "    </tr>\n",
       "    <tr>\n",
       "      <th>mean</th>\n",
       "      <td>67.500000</td>\n",
       "    </tr>\n",
       "    <tr>\n",
       "      <th>std</th>\n",
       "      <td>38.826537</td>\n",
       "    </tr>\n",
       "    <tr>\n",
       "      <th>min</th>\n",
       "      <td>1.000000</td>\n",
       "    </tr>\n",
       "    <tr>\n",
       "      <th>25%</th>\n",
       "      <td>34.250000</td>\n",
       "    </tr>\n",
       "    <tr>\n",
       "      <th>50%</th>\n",
       "      <td>67.500000</td>\n",
       "    </tr>\n",
       "    <tr>\n",
       "      <th>75%</th>\n",
       "      <td>100.750000</td>\n",
       "    </tr>\n",
       "    <tr>\n",
       "      <th>max</th>\n",
       "      <td>134.000000</td>\n",
       "    </tr>\n",
       "  </tbody>\n",
       "</table>\n",
       "</div>"
      ],
      "text/plain": [
       "         aisle_id\n",
       "count  134.000000\n",
       "mean    67.500000\n",
       "std     38.826537\n",
       "min      1.000000\n",
       "25%     34.250000\n",
       "50%     67.500000\n",
       "75%    100.750000\n",
       "max    134.000000"
      ]
     },
     "execution_count": 10,
     "metadata": {},
     "output_type": "execute_result"
    }
   ],
   "source": [
    "insta_aisles.describe()"
   ]
  },
  {
   "cell_type": "code",
   "execution_count": 11,
   "id": "d8370c05",
   "metadata": {},
   "outputs": [
    {
     "data": {
      "text/html": [
       "<div>\n",
       "<style scoped>\n",
       "    .dataframe tbody tr th:only-of-type {\n",
       "        vertical-align: middle;\n",
       "    }\n",
       "\n",
       "    .dataframe tbody tr th {\n",
       "        vertical-align: top;\n",
       "    }\n",
       "\n",
       "    .dataframe thead th {\n",
       "        text-align: right;\n",
       "    }\n",
       "</style>\n",
       "<table border=\"1\" class=\"dataframe\">\n",
       "  <thead>\n",
       "    <tr style=\"text-align: right;\">\n",
       "      <th></th>\n",
       "      <th>department_id</th>\n",
       "      <th>department</th>\n",
       "    </tr>\n",
       "  </thead>\n",
       "  <tbody>\n",
       "    <tr>\n",
       "      <th>0</th>\n",
       "      <td>1</td>\n",
       "      <td>frozen</td>\n",
       "    </tr>\n",
       "    <tr>\n",
       "      <th>1</th>\n",
       "      <td>2</td>\n",
       "      <td>other</td>\n",
       "    </tr>\n",
       "    <tr>\n",
       "      <th>2</th>\n",
       "      <td>3</td>\n",
       "      <td>bakery</td>\n",
       "    </tr>\n",
       "    <tr>\n",
       "      <th>3</th>\n",
       "      <td>4</td>\n",
       "      <td>produce</td>\n",
       "    </tr>\n",
       "    <tr>\n",
       "      <th>4</th>\n",
       "      <td>5</td>\n",
       "      <td>alcohol</td>\n",
       "    </tr>\n",
       "  </tbody>\n",
       "</table>\n",
       "</div>"
      ],
      "text/plain": [
       "   department_id department\n",
       "0              1     frozen\n",
       "1              2      other\n",
       "2              3     bakery\n",
       "3              4    produce\n",
       "4              5    alcohol"
      ]
     },
     "execution_count": 11,
     "metadata": {},
     "output_type": "execute_result"
    }
   ],
   "source": [
    "df_department=pd.read_csv('/datasets/departments.csv', sep=\";\")\n",
    "df_department.head()"
   ]
  },
  {
   "cell_type": "code",
   "execution_count": 12,
   "id": "e8200cc9",
   "metadata": {},
   "outputs": [
    {
     "name": "stdout",
     "output_type": "stream",
     "text": [
      "<class 'pandas.core.frame.DataFrame'>\n",
      "RangeIndex: 21 entries, 0 to 20\n",
      "Data columns (total 2 columns):\n",
      " #   Column         Non-Null Count  Dtype \n",
      "---  ------         --------------  ----- \n",
      " 0   department_id  21 non-null     int64 \n",
      " 1   department     21 non-null     object\n",
      "dtypes: int64(1), object(1)\n",
      "memory usage: 464.0+ bytes\n"
     ]
    }
   ],
   "source": [
    "df_department.info()"
   ]
  },
  {
   "cell_type": "code",
   "execution_count": 13,
   "id": "ef98ba67",
   "metadata": {},
   "outputs": [
    {
     "data": {
      "text/html": [
       "<div>\n",
       "<style scoped>\n",
       "    .dataframe tbody tr th:only-of-type {\n",
       "        vertical-align: middle;\n",
       "    }\n",
       "\n",
       "    .dataframe tbody tr th {\n",
       "        vertical-align: top;\n",
       "    }\n",
       "\n",
       "    .dataframe thead th {\n",
       "        text-align: right;\n",
       "    }\n",
       "</style>\n",
       "<table border=\"1\" class=\"dataframe\">\n",
       "  <thead>\n",
       "    <tr style=\"text-align: right;\">\n",
       "      <th></th>\n",
       "      <th>department_id</th>\n",
       "    </tr>\n",
       "  </thead>\n",
       "  <tbody>\n",
       "    <tr>\n",
       "      <th>count</th>\n",
       "      <td>21.000000</td>\n",
       "    </tr>\n",
       "    <tr>\n",
       "      <th>mean</th>\n",
       "      <td>11.000000</td>\n",
       "    </tr>\n",
       "    <tr>\n",
       "      <th>std</th>\n",
       "      <td>6.204837</td>\n",
       "    </tr>\n",
       "    <tr>\n",
       "      <th>min</th>\n",
       "      <td>1.000000</td>\n",
       "    </tr>\n",
       "    <tr>\n",
       "      <th>25%</th>\n",
       "      <td>6.000000</td>\n",
       "    </tr>\n",
       "    <tr>\n",
       "      <th>50%</th>\n",
       "      <td>11.000000</td>\n",
       "    </tr>\n",
       "    <tr>\n",
       "      <th>75%</th>\n",
       "      <td>16.000000</td>\n",
       "    </tr>\n",
       "    <tr>\n",
       "      <th>max</th>\n",
       "      <td>21.000000</td>\n",
       "    </tr>\n",
       "  </tbody>\n",
       "</table>\n",
       "</div>"
      ],
      "text/plain": [
       "       department_id\n",
       "count      21.000000\n",
       "mean       11.000000\n",
       "std         6.204837\n",
       "min         1.000000\n",
       "25%         6.000000\n",
       "50%        11.000000\n",
       "75%        16.000000\n",
       "max        21.000000"
      ]
     },
     "execution_count": 13,
     "metadata": {},
     "output_type": "execute_result"
    }
   ],
   "source": [
    "df_department.describe()"
   ]
  },
  {
   "cell_type": "code",
   "execution_count": 14,
   "id": "59e2090f",
   "metadata": {},
   "outputs": [
    {
     "data": {
      "text/html": [
       "<div>\n",
       "<style scoped>\n",
       "    .dataframe tbody tr th:only-of-type {\n",
       "        vertical-align: middle;\n",
       "    }\n",
       "\n",
       "    .dataframe tbody tr th {\n",
       "        vertical-align: top;\n",
       "    }\n",
       "\n",
       "    .dataframe thead th {\n",
       "        text-align: right;\n",
       "    }\n",
       "</style>\n",
       "<table border=\"1\" class=\"dataframe\">\n",
       "  <thead>\n",
       "    <tr style=\"text-align: right;\">\n",
       "      <th></th>\n",
       "      <th>order_id</th>\n",
       "      <th>product_id</th>\n",
       "      <th>add_to_cart_order</th>\n",
       "      <th>reordered</th>\n",
       "    </tr>\n",
       "  </thead>\n",
       "  <tbody>\n",
       "    <tr>\n",
       "      <th>0</th>\n",
       "      <td>2141543</td>\n",
       "      <td>11440</td>\n",
       "      <td>17.0</td>\n",
       "      <td>0</td>\n",
       "    </tr>\n",
       "    <tr>\n",
       "      <th>1</th>\n",
       "      <td>567889</td>\n",
       "      <td>1560</td>\n",
       "      <td>1.0</td>\n",
       "      <td>1</td>\n",
       "    </tr>\n",
       "    <tr>\n",
       "      <th>2</th>\n",
       "      <td>2261212</td>\n",
       "      <td>26683</td>\n",
       "      <td>1.0</td>\n",
       "      <td>1</td>\n",
       "    </tr>\n",
       "    <tr>\n",
       "      <th>3</th>\n",
       "      <td>491251</td>\n",
       "      <td>8670</td>\n",
       "      <td>35.0</td>\n",
       "      <td>1</td>\n",
       "    </tr>\n",
       "    <tr>\n",
       "      <th>4</th>\n",
       "      <td>2571142</td>\n",
       "      <td>1940</td>\n",
       "      <td>5.0</td>\n",
       "      <td>1</td>\n",
       "    </tr>\n",
       "  </tbody>\n",
       "</table>\n",
       "</div>"
      ],
      "text/plain": [
       "   order_id  product_id  add_to_cart_order  reordered\n",
       "0   2141543       11440               17.0          0\n",
       "1    567889        1560                1.0          1\n",
       "2   2261212       26683                1.0          1\n",
       "3    491251        8670               35.0          1\n",
       "4   2571142        1940                5.0          1"
      ]
     },
     "execution_count": 14,
     "metadata": {},
     "output_type": "execute_result"
    }
   ],
   "source": [
    "order_products=pd.read_csv('/datasets/order_products.csv', sep=\";\")\n",
    "order_products.head()"
   ]
  },
  {
   "cell_type": "code",
   "execution_count": 15,
   "id": "d7f33089",
   "metadata": {},
   "outputs": [
    {
     "name": "stdout",
     "output_type": "stream",
     "text": [
      "<class 'pandas.core.frame.DataFrame'>\n",
      "RangeIndex: 4545007 entries, 0 to 4545006\n",
      "Data columns (total 4 columns):\n",
      " #   Column             Dtype  \n",
      "---  ------             -----  \n",
      " 0   order_id           int64  \n",
      " 1   product_id         int64  \n",
      " 2   add_to_cart_order  float64\n",
      " 3   reordered          int64  \n",
      "dtypes: float64(1), int64(3)\n",
      "memory usage: 138.7 MB\n"
     ]
    }
   ],
   "source": [
    "order_products.info()"
   ]
  },
  {
   "cell_type": "code",
   "execution_count": 16,
   "id": "6fc81694",
   "metadata": {},
   "outputs": [
    {
     "data": {
      "text/html": [
       "<div>\n",
       "<style scoped>\n",
       "    .dataframe tbody tr th:only-of-type {\n",
       "        vertical-align: middle;\n",
       "    }\n",
       "\n",
       "    .dataframe tbody tr th {\n",
       "        vertical-align: top;\n",
       "    }\n",
       "\n",
       "    .dataframe thead th {\n",
       "        text-align: right;\n",
       "    }\n",
       "</style>\n",
       "<table border=\"1\" class=\"dataframe\">\n",
       "  <thead>\n",
       "    <tr style=\"text-align: right;\">\n",
       "      <th></th>\n",
       "      <th>order_id</th>\n",
       "      <th>product_id</th>\n",
       "      <th>add_to_cart_order</th>\n",
       "      <th>reordered</th>\n",
       "    </tr>\n",
       "  </thead>\n",
       "  <tbody>\n",
       "    <tr>\n",
       "      <th>count</th>\n",
       "      <td>4.545007e+06</td>\n",
       "      <td>4.545007e+06</td>\n",
       "      <td>4.544171e+06</td>\n",
       "      <td>4.545007e+06</td>\n",
       "    </tr>\n",
       "    <tr>\n",
       "      <th>mean</th>\n",
       "      <td>1.711166e+06</td>\n",
       "      <td>2.558084e+04</td>\n",
       "      <td>8.351669e+00</td>\n",
       "      <td>5.905025e-01</td>\n",
       "    </tr>\n",
       "    <tr>\n",
       "      <th>std</th>\n",
       "      <td>9.850955e+05</td>\n",
       "      <td>1.409552e+04</td>\n",
       "      <td>7.080368e+00</td>\n",
       "      <td>4.917411e-01</td>\n",
       "    </tr>\n",
       "    <tr>\n",
       "      <th>min</th>\n",
       "      <td>4.000000e+00</td>\n",
       "      <td>1.000000e+00</td>\n",
       "      <td>1.000000e+00</td>\n",
       "      <td>0.000000e+00</td>\n",
       "    </tr>\n",
       "    <tr>\n",
       "      <th>25%</th>\n",
       "      <td>8.608170e+05</td>\n",
       "      <td>1.353500e+04</td>\n",
       "      <td>3.000000e+00</td>\n",
       "      <td>0.000000e+00</td>\n",
       "    </tr>\n",
       "    <tr>\n",
       "      <th>50%</th>\n",
       "      <td>1.711530e+06</td>\n",
       "      <td>2.527200e+04</td>\n",
       "      <td>6.000000e+00</td>\n",
       "      <td>1.000000e+00</td>\n",
       "    </tr>\n",
       "    <tr>\n",
       "      <th>75%</th>\n",
       "      <td>2.561311e+06</td>\n",
       "      <td>3.793500e+04</td>\n",
       "      <td>1.100000e+01</td>\n",
       "      <td>1.000000e+00</td>\n",
       "    </tr>\n",
       "    <tr>\n",
       "      <th>max</th>\n",
       "      <td>3.421079e+06</td>\n",
       "      <td>4.969400e+04</td>\n",
       "      <td>6.400000e+01</td>\n",
       "      <td>1.000000e+00</td>\n",
       "    </tr>\n",
       "  </tbody>\n",
       "</table>\n",
       "</div>"
      ],
      "text/plain": [
       "           order_id    product_id  add_to_cart_order     reordered\n",
       "count  4.545007e+06  4.545007e+06       4.544171e+06  4.545007e+06\n",
       "mean   1.711166e+06  2.558084e+04       8.351669e+00  5.905025e-01\n",
       "std    9.850955e+05  1.409552e+04       7.080368e+00  4.917411e-01\n",
       "min    4.000000e+00  1.000000e+00       1.000000e+00  0.000000e+00\n",
       "25%    8.608170e+05  1.353500e+04       3.000000e+00  0.000000e+00\n",
       "50%    1.711530e+06  2.527200e+04       6.000000e+00  1.000000e+00\n",
       "75%    2.561311e+06  3.793500e+04       1.100000e+01  1.000000e+00\n",
       "max    3.421079e+06  4.969400e+04       6.400000e+01  1.000000e+00"
      ]
     },
     "execution_count": 16,
     "metadata": {},
     "output_type": "execute_result"
    }
   ],
   "source": [
    "order_products.describe()"
   ]
  },
  {
   "cell_type": "markdown",
   "id": "07357848-dc64-4156-9cc3-01ff4365226d",
   "metadata": {},
   "source": [
    "## Find and remove duplicate values (and describe why you make your choices)"
   ]
  },
  {
   "cell_type": "markdown",
   "id": "f179f0a9",
   "metadata": {},
   "source": [
    "### `orders` data frame"
   ]
  },
  {
   "cell_type": "code",
   "execution_count": 17,
   "id": "b99297a5-405a-463d-8535-9adc3da4ad74",
   "metadata": {},
   "outputs": [
    {
     "data": {
      "text/plain": [
       "15"
      ]
     },
     "execution_count": 17,
     "metadata": {},
     "output_type": "execute_result"
    }
   ],
   "source": [
    "# Check for duplicated orders\n",
    "instacart_orders.duplicated().sum()"
   ]
  },
  {
   "cell_type": "code",
   "execution_count": 18,
   "id": "0d44de5d",
   "metadata": {},
   "outputs": [
    {
     "data": {
      "text/html": [
       "<div>\n",
       "<style scoped>\n",
       "    .dataframe tbody tr th:only-of-type {\n",
       "        vertical-align: middle;\n",
       "    }\n",
       "\n",
       "    .dataframe tbody tr th {\n",
       "        vertical-align: top;\n",
       "    }\n",
       "\n",
       "    .dataframe thead th {\n",
       "        text-align: right;\n",
       "    }\n",
       "</style>\n",
       "<table border=\"1\" class=\"dataframe\">\n",
       "  <thead>\n",
       "    <tr style=\"text-align: right;\">\n",
       "      <th></th>\n",
       "      <th>order_id</th>\n",
       "      <th>user_id</th>\n",
       "      <th>order_number</th>\n",
       "      <th>order_dow</th>\n",
       "      <th>order_hour_of_day</th>\n",
       "      <th>days_since_prior_order</th>\n",
       "    </tr>\n",
       "  </thead>\n",
       "  <tbody>\n",
       "    <tr>\n",
       "      <th>1295</th>\n",
       "      <td>1474941</td>\n",
       "      <td>115569</td>\n",
       "      <td>5</td>\n",
       "      <td>2</td>\n",
       "      <td>2</td>\n",
       "      <td>28.0</td>\n",
       "    </tr>\n",
       "    <tr>\n",
       "      <th>2391</th>\n",
       "      <td>1640269</td>\n",
       "      <td>173965</td>\n",
       "      <td>15</td>\n",
       "      <td>2</td>\n",
       "      <td>2</td>\n",
       "      <td>2.0</td>\n",
       "    </tr>\n",
       "    <tr>\n",
       "      <th>2550</th>\n",
       "      <td>1223696</td>\n",
       "      <td>55276</td>\n",
       "      <td>11</td>\n",
       "      <td>2</td>\n",
       "      <td>2</td>\n",
       "      <td>30.0</td>\n",
       "    </tr>\n",
       "    <tr>\n",
       "      <th>5965</th>\n",
       "      <td>579194</td>\n",
       "      <td>85018</td>\n",
       "      <td>14</td>\n",
       "      <td>2</td>\n",
       "      <td>2</td>\n",
       "      <td>11.0</td>\n",
       "    </tr>\n",
       "    <tr>\n",
       "      <th>17680</th>\n",
       "      <td>2004230</td>\n",
       "      <td>203121</td>\n",
       "      <td>4</td>\n",
       "      <td>2</td>\n",
       "      <td>2</td>\n",
       "      <td>8.0</td>\n",
       "    </tr>\n",
       "    <tr>\n",
       "      <th>...</th>\n",
       "      <td>...</td>\n",
       "      <td>...</td>\n",
       "      <td>...</td>\n",
       "      <td>...</td>\n",
       "      <td>...</td>\n",
       "      <td>...</td>\n",
       "    </tr>\n",
       "    <tr>\n",
       "      <th>457660</th>\n",
       "      <td>1562381</td>\n",
       "      <td>19378</td>\n",
       "      <td>5</td>\n",
       "      <td>2</td>\n",
       "      <td>2</td>\n",
       "      <td>6.0</td>\n",
       "    </tr>\n",
       "    <tr>\n",
       "      <th>460316</th>\n",
       "      <td>1986084</td>\n",
       "      <td>117453</td>\n",
       "      <td>81</td>\n",
       "      <td>2</td>\n",
       "      <td>2</td>\n",
       "      <td>8.0</td>\n",
       "    </tr>\n",
       "    <tr>\n",
       "      <th>462676</th>\n",
       "      <td>1362113</td>\n",
       "      <td>19654</td>\n",
       "      <td>20</td>\n",
       "      <td>2</td>\n",
       "      <td>2</td>\n",
       "      <td>21.0</td>\n",
       "    </tr>\n",
       "    <tr>\n",
       "      <th>472800</th>\n",
       "      <td>1746383</td>\n",
       "      <td>88484</td>\n",
       "      <td>19</td>\n",
       "      <td>2</td>\n",
       "      <td>2</td>\n",
       "      <td>5.0</td>\n",
       "    </tr>\n",
       "    <tr>\n",
       "      <th>472923</th>\n",
       "      <td>1519815</td>\n",
       "      <td>149345</td>\n",
       "      <td>1</td>\n",
       "      <td>2</td>\n",
       "      <td>2</td>\n",
       "      <td>NaN</td>\n",
       "    </tr>\n",
       "  </tbody>\n",
       "</table>\n",
       "<p>136 rows × 6 columns</p>\n",
       "</div>"
      ],
      "text/plain": [
       "        order_id  user_id  order_number  order_dow  order_hour_of_day  \\\n",
       "1295     1474941   115569             5          2                  2   \n",
       "2391     1640269   173965            15          2                  2   \n",
       "2550     1223696    55276            11          2                  2   \n",
       "5965      579194    85018            14          2                  2   \n",
       "17680    2004230   203121             4          2                  2   \n",
       "...          ...      ...           ...        ...                ...   \n",
       "457660   1562381    19378             5          2                  2   \n",
       "460316   1986084   117453            81          2                  2   \n",
       "462676   1362113    19654            20          2                  2   \n",
       "472800   1746383    88484            19          2                  2   \n",
       "472923   1519815   149345             1          2                  2   \n",
       "\n",
       "        days_since_prior_order  \n",
       "1295                      28.0  \n",
       "2391                       2.0  \n",
       "2550                      30.0  \n",
       "5965                      11.0  \n",
       "17680                      8.0  \n",
       "...                        ...  \n",
       "457660                     6.0  \n",
       "460316                     8.0  \n",
       "462676                    21.0  \n",
       "472800                     5.0  \n",
       "472923                     NaN  \n",
       "\n",
       "[136 rows x 6 columns]"
      ]
     },
     "execution_count": 18,
     "metadata": {},
     "output_type": "execute_result"
    }
   ],
   "source": [
    "# Check for all orders placed Wednesday at 2:00 AM\n",
    "wednesday_at_2am_orders = instacart_orders[(instacart_orders['order_dow'] == 2) & (instacart_orders['order_hour_of_day'] == 2)]\n",
    "wednesday_at_2am_orders"
   ]
  },
  {
   "cell_type": "code",
   "execution_count": 19,
   "id": "480563c7",
   "metadata": {},
   "outputs": [],
   "source": [
    "# Remove duplicate orders\n",
    "instacart_orders=instacart_orders.drop_duplicates()"
   ]
  },
  {
   "cell_type": "code",
   "execution_count": 20,
   "id": "0b2396a2",
   "metadata": {},
   "outputs": [
    {
     "data": {
      "text/plain": [
       "0"
      ]
     },
     "execution_count": 20,
     "metadata": {},
     "output_type": "execute_result"
    }
   ],
   "source": [
    "# Double check for duplicate rows\n",
    "instacart_orders.duplicated().sum()\n",
    "# duplicate_rows=instacart_orders[instacart_orders.duplicated(keep=False)]\n",
    "# print(duplicate_rows)"
   ]
  },
  {
   "cell_type": "code",
   "execution_count": 21,
   "id": "f6113ef1",
   "metadata": {},
   "outputs": [
    {
     "data": {
      "text/plain": [
       "0"
      ]
     },
     "execution_count": 21,
     "metadata": {},
     "output_type": "execute_result"
    }
   ],
   "source": [
    "# Double check for duplicate order IDs only\n",
    "instacart_orders['order_id'].duplicated().sum()\n",
    "# order_ids=instacart_orders[instacart_orders.duplicated(subset='order_id', keep=False)]\n",
    "# display(order_ids)"
   ]
  },
  {
   "cell_type": "markdown",
   "id": "02a4633e",
   "metadata": {},
   "source": [
    "After checking both the whole dataset and the `order_id` column. I didn't find any duplicates."
   ]
  },
  {
   "cell_type": "markdown",
   "id": "45e6bc46",
   "metadata": {},
   "source": [
    "### `products` data frame"
   ]
  },
  {
   "cell_type": "code",
   "execution_count": 22,
   "id": "5f526b5b-8175-46fa-a0fd-441767d50e64",
   "metadata": {},
   "outputs": [
    {
     "data": {
      "text/plain": [
       "0"
      ]
     },
     "execution_count": 22,
     "metadata": {},
     "output_type": "execute_result"
    }
   ],
   "source": [
    "# Check for fully duplicate rows\n",
    "df_products.duplicated().sum()"
   ]
  },
  {
   "cell_type": "code",
   "execution_count": 23,
   "id": "88daa4f4",
   "metadata": {},
   "outputs": [
    {
     "data": {
      "text/plain": [
       "0"
      ]
     },
     "execution_count": 23,
     "metadata": {},
     "output_type": "execute_result"
    }
   ],
   "source": [
    "# Check for just duplicate product IDs\n",
    "df_products['product_id'].duplicated().sum()"
   ]
  },
  {
   "cell_type": "code",
   "execution_count": 24,
   "id": "c773f0bf",
   "metadata": {},
   "outputs": [
    {
     "data": {
      "text/plain": [
       "1361"
      ]
     },
     "execution_count": 24,
     "metadata": {},
     "output_type": "execute_result"
    }
   ],
   "source": [
    "# Check for just duplicate product names (convert names to lowercase to compare better)\n",
    "df_products['product_name'] = df_products['product_name'].str.lower()\n",
    "df_products['product_name'].duplicated().sum()"
   ]
  },
  {
   "cell_type": "code",
   "execution_count": 25,
   "id": "01efd02e",
   "metadata": {},
   "outputs": [
    {
     "data": {
      "text/plain": [
       "104"
      ]
     },
     "execution_count": 25,
     "metadata": {},
     "output_type": "execute_result"
    }
   ],
   "source": [
    "# Check for duplicate product names that aren't missing\n",
    "#1. drop missing values in this col\n",
    "df_products_for_checking_dup = df_products.dropna(axis=0)\n",
    "\n",
    "#2. check this col again for duplicates\n",
    "df_products_for_checking_dup['product_name'].duplicated().sum()"
   ]
  },
  {
   "cell_type": "markdown",
   "id": "9da8d293",
   "metadata": {},
   "source": [
    "I check to see if there are duplicates on the rows also on the 'product_id' column so far there are 0 duplicates. Converted the names in the column 'product_name into lowercase dropped the missing valies checked to see if there are duplicates in 'product_name' there are still 104 duplicate names. Depend on your opinion I'll check and clean them"
   ]
  },
  {
   "cell_type": "markdown",
   "id": "60f30db1",
   "metadata": {},
   "source": [
    "### `departments` data frame"
   ]
  },
  {
   "cell_type": "code",
   "execution_count": 26,
   "id": "fb410ad4-0fbf-4b80-bb09-23fdea79afe3",
   "metadata": {},
   "outputs": [
    {
     "data": {
      "text/plain": [
       "0"
      ]
     },
     "execution_count": 26,
     "metadata": {},
     "output_type": "execute_result"
    }
   ],
   "source": [
    "df_department.duplicated().sum()"
   ]
  },
  {
   "cell_type": "code",
   "execution_count": 27,
   "id": "332b12bb",
   "metadata": {},
   "outputs": [
    {
     "name": "stdout",
     "output_type": "stream",
     "text": [
      "<class 'pandas.core.frame.DataFrame'>\n",
      "RangeIndex: 21 entries, 0 to 20\n",
      "Data columns (total 2 columns):\n",
      " #   Column         Non-Null Count  Dtype \n",
      "---  ------         --------------  ----- \n",
      " 0   department_id  21 non-null     int64 \n",
      " 1   department     21 non-null     object\n",
      "dtypes: int64(1), object(1)\n",
      "memory usage: 464.0+ bytes\n"
     ]
    }
   ],
   "source": [
    "df_department.info()"
   ]
  },
  {
   "cell_type": "code",
   "execution_count": 28,
   "id": "f7885536",
   "metadata": {},
   "outputs": [
    {
     "data": {
      "text/html": [
       "<div>\n",
       "<style scoped>\n",
       "    .dataframe tbody tr th:only-of-type {\n",
       "        vertical-align: middle;\n",
       "    }\n",
       "\n",
       "    .dataframe tbody tr th {\n",
       "        vertical-align: top;\n",
       "    }\n",
       "\n",
       "    .dataframe thead th {\n",
       "        text-align: right;\n",
       "    }\n",
       "</style>\n",
       "<table border=\"1\" class=\"dataframe\">\n",
       "  <thead>\n",
       "    <tr style=\"text-align: right;\">\n",
       "      <th></th>\n",
       "      <th>department_id</th>\n",
       "    </tr>\n",
       "  </thead>\n",
       "  <tbody>\n",
       "    <tr>\n",
       "      <th>count</th>\n",
       "      <td>21.000000</td>\n",
       "    </tr>\n",
       "    <tr>\n",
       "      <th>mean</th>\n",
       "      <td>11.000000</td>\n",
       "    </tr>\n",
       "    <tr>\n",
       "      <th>std</th>\n",
       "      <td>6.204837</td>\n",
       "    </tr>\n",
       "    <tr>\n",
       "      <th>min</th>\n",
       "      <td>1.000000</td>\n",
       "    </tr>\n",
       "    <tr>\n",
       "      <th>25%</th>\n",
       "      <td>6.000000</td>\n",
       "    </tr>\n",
       "    <tr>\n",
       "      <th>50%</th>\n",
       "      <td>11.000000</td>\n",
       "    </tr>\n",
       "    <tr>\n",
       "      <th>75%</th>\n",
       "      <td>16.000000</td>\n",
       "    </tr>\n",
       "    <tr>\n",
       "      <th>max</th>\n",
       "      <td>21.000000</td>\n",
       "    </tr>\n",
       "  </tbody>\n",
       "</table>\n",
       "</div>"
      ],
      "text/plain": [
       "       department_id\n",
       "count      21.000000\n",
       "mean       11.000000\n",
       "std         6.204837\n",
       "min         1.000000\n",
       "25%         6.000000\n",
       "50%        11.000000\n",
       "75%        16.000000\n",
       "max        21.000000"
      ]
     },
     "execution_count": 28,
     "metadata": {},
     "output_type": "execute_result"
    }
   ],
   "source": [
    "df_department.describe()"
   ]
  },
  {
   "cell_type": "markdown",
   "id": "bd30d78e",
   "metadata": {},
   "source": [
    "Based on the analysis, there's no explicit missing values. The datatype is correct, there's no outliers for numeric columns."
   ]
  },
  {
   "cell_type": "markdown",
   "id": "889349c1",
   "metadata": {},
   "source": [
    "### `aisles` data frame"
   ]
  },
  {
   "cell_type": "code",
   "execution_count": 29,
   "id": "9da89fb9-4679-40f5-ad0d-c34df753a3f8",
   "metadata": {},
   "outputs": [
    {
     "data": {
      "text/plain": [
       "0"
      ]
     },
     "execution_count": 29,
     "metadata": {},
     "output_type": "execute_result"
    }
   ],
   "source": [
    "insta_aisles.duplicated().sum()"
   ]
  },
  {
   "cell_type": "code",
   "execution_count": 30,
   "id": "da7c2822",
   "metadata": {},
   "outputs": [
    {
     "data": {
      "text/plain": [
       "aisle_id    0\n",
       "aisle       0\n",
       "dtype: int64"
      ]
     },
     "execution_count": 30,
     "metadata": {},
     "output_type": "execute_result"
    }
   ],
   "source": [
    "insta_aisles.isnull().sum()"
   ]
  },
  {
   "cell_type": "markdown",
   "id": "274cd06a",
   "metadata": {},
   "source": [
    "### `order_products` data frame"
   ]
  },
  {
   "cell_type": "code",
   "execution_count": 31,
   "id": "52326689-84a8-4b8f-a881-7c68780f62c9",
   "metadata": {},
   "outputs": [
    {
     "data": {
      "text/plain": [
       "0"
      ]
     },
     "execution_count": 31,
     "metadata": {},
     "output_type": "execute_result"
    }
   ],
   "source": [
    "# Check for fullly duplicate rows\n",
    "# order_products=pd.read_csv('/datasets/order_products.csv', sep=\";\")\n",
    "order_products.duplicated().sum()"
   ]
  },
  {
   "cell_type": "code",
   "execution_count": 32,
   "id": "7b861391",
   "metadata": {},
   "outputs": [
    {
     "name": "stdout",
     "output_type": "stream",
     "text": [
      "0\n"
     ]
    }
   ],
   "source": [
    "# Double check for any other tricky duplicates\n",
    "tricky_order= order_products.duplicated(subset=['order_id', 'product_id']).sum()\n",
    "print(tricky_order)"
   ]
  },
  {
   "cell_type": "markdown",
   "id": "0b890492",
   "metadata": {},
   "source": [
    "For order_products I checked for duplicate row and the results are 0. For the next function i checked to see if there are any tricky duplicates i focus on 'order_id' and 'product_id columns the end results were 0."
   ]
  },
  {
   "cell_type": "markdown",
   "id": "1e46de76",
   "metadata": {},
   "source": [
    "## Find and remove missing values\n"
   ]
  },
  {
   "cell_type": "markdown",
   "id": "c0aebd78",
   "metadata": {},
   "source": [
    "### `products` data frame"
   ]
  },
  {
   "cell_type": "code",
   "execution_count": 33,
   "id": "fe4a8b0f",
   "metadata": {},
   "outputs": [
    {
     "name": "stdout",
     "output_type": "stream",
     "text": [
      "Number of missing product names: 1258\n"
     ]
    }
   ],
   "source": [
    "# Ensure the column 'product_name' is properly checked for NaN values\n",
    "missing_name_count = df_products['product_name'].isna().sum()\n",
    "print(\"Number of missing product names:\", missing_name_count)"
   ]
  },
  {
   "cell_type": "code",
   "execution_count": 34,
   "id": "e96167bc",
   "metadata": {},
   "outputs": [
    {
     "name": "stdout",
     "output_type": "stream",
     "text": [
      "Aisles with missing product names: [100]\n"
     ]
    }
   ],
   "source": [
    "# Are all of the missing product names associated with aisle ID 100?\n",
    "df_missing_name = df_products[df_products['product_name'].isna()]\n",
    "products_aisle = df_missing_name['aisle_id'].unique()\n",
    "print(\"Aisles with missing product names:\", products_aisle)"
   ]
  },
  {
   "cell_type": "code",
   "execution_count": 35,
   "id": "8fd0a541",
   "metadata": {},
   "outputs": [
    {
     "name": "stdout",
     "output_type": "stream",
     "text": [
      "Departments with missing product names: [21]\n"
     ]
    }
   ],
   "source": [
    "# Are all of the missing product names associated with department ID 21?\n",
    "df_missing_name = df_products[df_products['product_name'].isna()]\n",
    "products_dept = df_missing_name['department_id'].unique()\n",
    "print(\"Departments with missing product names:\", products_dept)"
   ]
  },
  {
   "cell_type": "code",
   "execution_count": 36,
   "id": "325c3464",
   "metadata": {
    "scrolled": true
   },
   "outputs": [
    {
     "name": "stdout",
     "output_type": "stream",
     "text": [
      "Aisle Name: missing\n",
      "Department Name: missing\n"
     ]
    }
   ],
   "source": [
    "# What is this aisle and department?\n",
    "# insta_aisles = pd.read_csv('/datasets/aisles.csv', sep=';')\n",
    "# print(insta_aisles)\n",
    "# df_department = pd.read_csv('/datasets/departments.csv', sep=';')\n",
    "# print(df_department)\n",
    "\n",
    "aisle_name = insta_aisles.loc[insta_aisles['aisle_id'] == 100, 'aisle']\n",
    "department_name = df_department.loc[df_department['department_id'] == 21, 'department']\n",
    "\n",
    "if not aisle_name.empty:\n",
    "    print(\"Aisle Name:\", aisle_name.values[0])\n",
    "else:\n",
    "    print(\"Aisle ID not found\")\n",
    "\n",
    "if not department_name.empty:\n",
    "    print(\"Department Name:\", department_name.values[0])\n",
    "else:\n",
    "    print(\"Department ID not found\")"
   ]
  },
  {
   "cell_type": "code",
   "execution_count": 37,
   "id": "6b295120",
   "metadata": {},
   "outputs": [
    {
     "data": {
      "text/html": [
       "<div>\n",
       "<style scoped>\n",
       "    .dataframe tbody tr th:only-of-type {\n",
       "        vertical-align: middle;\n",
       "    }\n",
       "\n",
       "    .dataframe tbody tr th {\n",
       "        vertical-align: top;\n",
       "    }\n",
       "\n",
       "    .dataframe thead th {\n",
       "        text-align: right;\n",
       "    }\n",
       "</style>\n",
       "<table border=\"1\" class=\"dataframe\">\n",
       "  <thead>\n",
       "    <tr style=\"text-align: right;\">\n",
       "      <th></th>\n",
       "      <th>product_id</th>\n",
       "      <th>product_name</th>\n",
       "      <th>aisle_id</th>\n",
       "      <th>department_id</th>\n",
       "    </tr>\n",
       "  </thead>\n",
       "  <tbody>\n",
       "    <tr>\n",
       "      <th>0</th>\n",
       "      <td>1</td>\n",
       "      <td>chocolate sandwich cookies</td>\n",
       "      <td>61</td>\n",
       "      <td>19</td>\n",
       "    </tr>\n",
       "    <tr>\n",
       "      <th>1</th>\n",
       "      <td>2</td>\n",
       "      <td>all-seasons salt</td>\n",
       "      <td>104</td>\n",
       "      <td>13</td>\n",
       "    </tr>\n",
       "    <tr>\n",
       "      <th>2</th>\n",
       "      <td>3</td>\n",
       "      <td>robust golden unsweetened oolong tea</td>\n",
       "      <td>94</td>\n",
       "      <td>7</td>\n",
       "    </tr>\n",
       "    <tr>\n",
       "      <th>3</th>\n",
       "      <td>4</td>\n",
       "      <td>smart ones classic favorites mini rigatoni wit...</td>\n",
       "      <td>38</td>\n",
       "      <td>1</td>\n",
       "    </tr>\n",
       "    <tr>\n",
       "      <th>4</th>\n",
       "      <td>5</td>\n",
       "      <td>green chile anytime sauce</td>\n",
       "      <td>5</td>\n",
       "      <td>13</td>\n",
       "    </tr>\n",
       "    <tr>\n",
       "      <th>...</th>\n",
       "      <td>...</td>\n",
       "      <td>...</td>\n",
       "      <td>...</td>\n",
       "      <td>...</td>\n",
       "    </tr>\n",
       "    <tr>\n",
       "      <th>49689</th>\n",
       "      <td>49690</td>\n",
       "      <td>high performance energy drink</td>\n",
       "      <td>64</td>\n",
       "      <td>7</td>\n",
       "    </tr>\n",
       "    <tr>\n",
       "      <th>49690</th>\n",
       "      <td>49691</td>\n",
       "      <td>original pancake &amp; waffle mix</td>\n",
       "      <td>130</td>\n",
       "      <td>14</td>\n",
       "    </tr>\n",
       "    <tr>\n",
       "      <th>49691</th>\n",
       "      <td>49692</td>\n",
       "      <td>organic instant oatmeal light maple brown sugar</td>\n",
       "      <td>130</td>\n",
       "      <td>14</td>\n",
       "    </tr>\n",
       "    <tr>\n",
       "      <th>49692</th>\n",
       "      <td>49693</td>\n",
       "      <td>spring water body wash</td>\n",
       "      <td>127</td>\n",
       "      <td>11</td>\n",
       "    </tr>\n",
       "    <tr>\n",
       "      <th>49693</th>\n",
       "      <td>49694</td>\n",
       "      <td>burrito- steak &amp; cheese</td>\n",
       "      <td>38</td>\n",
       "      <td>1</td>\n",
       "    </tr>\n",
       "  </tbody>\n",
       "</table>\n",
       "<p>49694 rows × 4 columns</p>\n",
       "</div>"
      ],
      "text/plain": [
       "       product_id                                       product_name  \\\n",
       "0               1                         chocolate sandwich cookies   \n",
       "1               2                                   all-seasons salt   \n",
       "2               3               robust golden unsweetened oolong tea   \n",
       "3               4  smart ones classic favorites mini rigatoni wit...   \n",
       "4               5                          green chile anytime sauce   \n",
       "...           ...                                                ...   \n",
       "49689       49690                      high performance energy drink   \n",
       "49690       49691                      original pancake & waffle mix   \n",
       "49691       49692    organic instant oatmeal light maple brown sugar   \n",
       "49692       49693                             spring water body wash   \n",
       "49693       49694                            burrito- steak & cheese   \n",
       "\n",
       "       aisle_id  department_id  \n",
       "0            61             19  \n",
       "1           104             13  \n",
       "2            94              7  \n",
       "3            38              1  \n",
       "4             5             13  \n",
       "...         ...            ...  \n",
       "49689        64              7  \n",
       "49690       130             14  \n",
       "49691       130             14  \n",
       "49692       127             11  \n",
       "49693        38              1  \n",
       "\n",
       "[49694 rows x 4 columns]"
      ]
     },
     "execution_count": 37,
     "metadata": {},
     "output_type": "execute_result"
    }
   ],
   "source": [
    "# Fill missing product names with 'Unknown'\n",
    "df_products['product_name'].fillna('Unknown', inplace=True)\n",
    "df_products"
   ]
  },
  {
   "cell_type": "markdown",
   "id": "fc70e5ad",
   "metadata": {},
   "source": [
    "checked the number missing product names came out to be 1258 ive alo check for missing aisle and deptment names the result were 100 and 21. I've also retrieved the Aisle and deptment name by using the aisle_id which was 5 and department_id which was 19 thats where i came up with the aisle name  \"marinades meat preparation\" and depatment name \"snacks\"  "
   ]
  },
  {
   "cell_type": "markdown",
   "id": "7eb45c86",
   "metadata": {},
   "source": [
    "### `orders` data frame"
   ]
  },
  {
   "cell_type": "code",
   "execution_count": 38,
   "id": "166e5a86",
   "metadata": {},
   "outputs": [
    {
     "name": "stdout",
     "output_type": "stream",
     "text": [
      "order_id                  0\n",
      "user_id                   0\n",
      "order_number              0\n",
      "order_dow                 0\n",
      "order_hour_of_day         0\n",
      "days_since_prior_order    0\n",
      "dtype: int64\n"
     ]
    }
   ],
   "source": [
    "# Are there any missing values where it's not a customer's first order?\n",
    "not_first_orders= instacart_orders[instacart_orders['order_number'] >1]\n",
    "missing_values= not_first_orders.isnull().sum()\n",
    "print(missing_values)"
   ]
  },
  {
   "cell_type": "raw",
   "id": "b3e576ae",
   "metadata": {},
   "source": [
    "There are no missing values that is not a customers first order"
   ]
  },
  {
   "cell_type": "markdown",
   "id": "69dc9ca4",
   "metadata": {},
   "source": [
    "### `order_products` data frame"
   ]
  },
  {
   "cell_type": "code",
   "execution_count": 39,
   "id": "9a78e5ee",
   "metadata": {},
   "outputs": [
    {
     "name": "stdout",
     "output_type": "stream",
     "text": [
      "1.0 64.0\n"
     ]
    }
   ],
   "source": [
    "# What are the min and max values in this column?\n",
    "min_value = order_products['add_to_cart_order'].min()\n",
    "max_value = order_products['add_to_cart_order'].max()\n",
    "print(min_value, max_value)"
   ]
  },
  {
   "cell_type": "code",
   "execution_count": 40,
   "id": "ab9d0c2b",
   "metadata": {},
   "outputs": [
    {
     "name": "stdout",
     "output_type": "stream",
     "text": [
      "[2449164 1968313 2926893 1717990 1959075  844733   61355  936852  264710\n",
      " 1564093  129627  293169 2849370 1386261 3308010  903110 2136777 3347453\n",
      " 1888628  165801 2094761 1038146 2997021  813364 2256933  171934 2409109\n",
      " 1730767 1169835  733526  404157 3125735  747668 1800005 1961723  871281\n",
      "  388234 1648217 1477139  102236 1021563 1832957 2721963  678116 1220886\n",
      " 1673227 2999801 1633337 2470674 2625444 1677118 2479011 3383594 1183255\n",
      " 1713430 2652650 1598369 1916118  854647 1302315  888470  180546 2621907\n",
      " 1308785 2729254    9310 2170451 2979697 1625713 1529171]\n"
     ]
    }
   ],
   "source": [
    "# Save all order IDs with at least one missing value in 'add_to_cart_order'\n",
    "missing_values = order_products[order_products['add_to_cart_order'].isna()]['order_id'].unique()\n",
    "print(missing_values)"
   ]
  },
  {
   "cell_type": "code",
   "execution_count": 41,
   "id": "54c31695",
   "metadata": {},
   "outputs": [
    {
     "name": "stdout",
     "output_type": "stream",
     "text": [
      "True\n"
     ]
    }
   ],
   "source": [
    "# Do all orders with missing values have more than 64 products?\n",
    "missing_orders = order_products[order_products['add_to_cart_order'].isna()]['order_id']\n",
    "\n",
    "order_counts = order_products.groupby('order_id').size()\n",
    "missing_order_counts = order_counts[missing_orders]\n",
    "all_above_64 = (missing_order_counts > 64).all()\n",
    "\n",
    "print(all_above_64)"
   ]
  },
  {
   "cell_type": "code",
   "execution_count": 42,
   "id": "7a987d08",
   "metadata": {},
   "outputs": [
    {
     "name": "stdout",
     "output_type": "stream",
     "text": [
      "0          17\n",
      "1           1\n",
      "2           1\n",
      "3          35\n",
      "4           5\n",
      "           ..\n",
      "4545002    12\n",
      "4545003     9\n",
      "4545004     4\n",
      "4545005     8\n",
      "4545006     9\n",
      "Name: add_to_cart_order, Length: 4545007, dtype: int64\n",
      "<class 'pandas.core.frame.DataFrame'>\n",
      "RangeIndex: 4545007 entries, 0 to 4545006\n",
      "Data columns (total 4 columns):\n",
      " #   Column             Non-Null Count    Dtype\n",
      "---  ------             --------------    -----\n",
      " 0   order_id           4545007 non-null  int64\n",
      " 1   product_id         4545007 non-null  int64\n",
      " 2   add_to_cart_order  4545007 non-null  int64\n",
      " 3   reordered          4545007 non-null  int64\n",
      "dtypes: int64(4)\n",
      "memory usage: 138.7 MB\n"
     ]
    }
   ],
   "source": [
    "# Replace missing values with 999 and convert column to integer type\n",
    "order_products['add_to_cart_order'] = order_products['add_to_cart_order'].fillna(999).astype('int')\n",
    "\n",
    "print(order_products['add_to_cart_order'])\n",
    "order_products.info(show_counts=True)"
   ]
  },
  {
   "cell_type": "markdown",
   "id": "fea4bcc7",
   "metadata": {},
   "source": [
    "For order_products checked for the min/max values and the results were 1.0 64.0. Saved all order IDs with at least one missing value for 'add_to_cart_order' column. Based on the analysis all the orders that have mssing values more than 64 product have become TRUE I've also replaced the missing values with 999 and converted the column into int64."
   ]
  },
  {
   "cell_type": "markdown",
   "id": "turkish-kidney",
   "metadata": {},
   "source": [
    "# [A] Easy (must complete all to pass)"
   ]
  },
  {
   "cell_type": "markdown",
   "id": "short-capability",
   "metadata": {},
   "source": [
    "### [A1] Verify that the `'order_hour_of_day'` and `'order_dow'` values in the `orders` tables are sensible (i.e. `'order_hour_of_day'` ranges from 0 to 23 and `'order_dow'` ranges from 0 to 6)"
   ]
  },
  {
   "cell_type": "code",
   "execution_count": 43,
   "id": "growing-fruit",
   "metadata": {},
   "outputs": [
    {
     "name": "stdout",
     "output_type": "stream",
     "text": [
      "[ 0  1  2  3  4  5  6  7  8  9 10 11 12 13 14 15 16 17 18 19 20 21 22 23]\n"
     ]
    }
   ],
   "source": [
    "print(instacart_orders['order_hour_of_day'].sort_values().unique())"
   ]
  },
  {
   "cell_type": "code",
   "execution_count": 44,
   "id": "accessory-malaysia",
   "metadata": {},
   "outputs": [
    {
     "name": "stdout",
     "output_type": "stream",
     "text": [
      "[0 1 2 3 4 5 6]\n"
     ]
    }
   ],
   "source": [
    "print(instacart_orders['order_dow'].sort_values().unique())"
   ]
  },
  {
   "cell_type": "markdown",
   "id": "a6743a70",
   "metadata": {},
   "source": [
    "### [A2] What time of day do people shop for groceries?"
   ]
  },
  {
   "cell_type": "code",
   "execution_count": 45,
   "id": "a36cca27",
   "metadata": {},
   "outputs": [
    {
     "data": {
      "image/png": "[encoded data removed]",
      "text/plain": [
       "<Figure size 1000x600 with 1 Axes>"
      ]
     },
     "metadata": {},
     "output_type": "display_data"
    }
   ],
   "source": [
    "plt.figure(figsize=(10,6))\n",
    "instacart_orders['order_hour_of_day'].value_counts().sort_index().plot(kind='bar')\n",
    "plt.title('Orders by Hour of Day') \n",
    "plt.xlabel('Hour of Day')\n",
    "plt.ylabel('Number of Orders')\n",
    "plt.show()"
   ]
  },
  {
   "cell_type": "markdown",
   "id": "documented-command",
   "metadata": {},
   "source": [
    "### [A3] What day of the week do people shop for groceries?"
   ]
  },
  {
   "cell_type": "code",
   "execution_count": 46,
   "id": "chief-digit",
   "metadata": {},
   "outputs": [
    {
     "data": {
      "image/png": "[encoded data removed]",
      "text/plain": [
       "<Figure size 1000x600 with 1 Axes>"
      ]
     },
     "metadata": {},
     "output_type": "display_data"
    }
   ],
   "source": [
    "plt.figure(figsize=(10,6))\n",
    "instacart_orders['order_dow'].value_counts().sort_index().plot(kind='bar')\n",
    "plt.title('Orders by Day of Week')\n",
    "plt.xlabel('Day of Week')\n",
    "plt.ylabel('Number of Orders')\n",
    "plt.show()"
   ]
  },
  {
   "cell_type": "markdown",
   "id": "cutting-concert",
   "metadata": {},
   "source": [
    "### [A4] How long do people wait until placing another order?"
   ]
  },
  {
   "cell_type": "code",
   "execution_count": 47,
   "id": "c231f523",
   "metadata": {},
   "outputs": [
    {
     "name": "stdout",
     "output_type": "stream",
     "text": [
      "[ 0.  1.  2.  3.  4.  5.  6.  7.  8.  9. 10. 11. 12. 13. 14. 15. 16. 17.\n",
      " 18. 19. 20. 21. 22. 23. 24. 25. 26. 27. 28. 29. 30. nan]\n"
     ]
    }
   ],
   "source": [
    "print(instacart_orders['days_since_prior_order'].sort_values().unique())"
   ]
  },
  {
   "cell_type": "code",
   "execution_count": 48,
   "id": "exciting-fantasy",
   "metadata": {},
   "outputs": [
    {
     "data": {
      "image/png": "[encoded data removed]",
      "text/plain": [
       "<Figure size 1000x600 with 1 Axes>"
      ]
     },
     "metadata": {},
     "output_type": "display_data"
    }
   ],
   "source": [
    "plt.figure(figsize=(10,6))\n",
    "instacart_orders['days_since_prior_order'].sort_index().plot(kind='hist', bins=30)\n",
    "plt.title('Distribution of Days')\n",
    "plt.xlabel('Days Since Prior Order')\n",
    "plt.ylabel('Time Waiting')\n",
    "plt.show()"
   ]
  },
  {
   "cell_type": "markdown",
   "id": "tight-staff",
   "metadata": {},
   "source": [
    "# [B] Medium (must complete all to pass)"
   ]
  },
  {
   "cell_type": "markdown",
   "id": "packed-classic",
   "metadata": {},
   "source": [
    "### [B1] Is there a difference in `'order_hour_of_day'` distributions on Wednesdays and Saturdays? Plot the histograms for both days and describe the differences that you see."
   ]
  },
  {
   "cell_type": "code",
   "execution_count": 49,
   "id": "d89b8403",
   "metadata": {},
   "outputs": [],
   "source": [
    "# import matplotlib.pyplot as plt"
   ]
  },
  {
   "cell_type": "code",
   "execution_count": 50,
   "id": "94e54e8a",
   "metadata": {},
   "outputs": [],
   "source": [
    "wednesday_orders = instacart_orders[instacart_orders['order_dow'] == 2]\n",
    "saturday_orders = instacart_orders[instacart_orders['order_dow'] == 5]\n",
    "df_instacart = pd.DataFrame({'Wednesday': wednesday_orders['order_hour_of_day'], \n",
    "                        'Saturday': saturday_orders['order_hour_of_day']})"
   ]
  },
  {
   "cell_type": "code",
   "execution_count": 51,
   "id": "797c90a8",
   "metadata": {},
   "outputs": [
    {
     "data": {
      "image/png": "[encoded data removed]",
      "text/plain": [
       "<Figure size 640x480 with 1 Axes>"
      ]
     },
     "metadata": {},
     "output_type": "display_data"
    }
   ],
   "source": [
    "df_instacart.plot.hist(alpha=0.5, bins=24)\n",
    "plt.title('Order Hour Wednesday vs. Saturday')\n",
    "plt.xlabel('Hours of Day')\n",
    "plt.ylabel('Frequency')\n",
    "plt.legend(['Wednesday', 'Saturday'])\n",
    "plt.show()"
   ]
  },
  {
   "cell_type": "raw",
   "id": "a5540e97",
   "metadata": {},
   "source": [
    "Here we see a slight difference of order hours of the day with Wednesday and Saturday"
   ]
  },
  {
   "cell_type": "markdown",
   "id": "e3891143",
   "metadata": {},
   "source": [
    "### [B2] What's the distribution for the number of orders per customer?"
   ]
  },
  {
   "cell_type": "code",
   "execution_count": 52,
   "id": "d8c26c23",
   "metadata": {},
   "outputs": [],
   "source": [
    "orders_per_cust= instacart_orders['user_id'].value_counts()"
   ]
  },
  {
   "cell_type": "code",
   "execution_count": 53,
   "id": "00e69a66",
   "metadata": {},
   "outputs": [
    {
     "data": {
      "image/png": "[encoded data removed]",
      "text/plain": [
       "<Figure size 800x600 with 1 Axes>"
      ]
     },
     "metadata": {},
     "output_type": "display_data"
    }
   ],
   "source": [
    "plt.figure(figsize=(8, 6))\n",
    "plt.hist(orders_per_cust, bins=range(1, orders_per_cust.max() + 1), alpha=0.7)\n",
    "plt.title('Distribution of Total Orders')\n",
    "plt.xlabel('Number of Orders')\n",
    "plt.ylabel('Number of Customers')\n",
    "plt.show()"
   ]
  },
  {
   "cell_type": "markdown",
   "id": "d2eff7d5",
   "metadata": {},
   "source": [
    "Here is a range graph showing the distribution of orders."
   ]
  },
  {
   "cell_type": "markdown",
   "id": "54a0319c",
   "metadata": {},
   "source": [
    "### [B3] What are the top 20 popular products (display their id and name)?"
   ]
  },
  {
   "cell_type": "code",
   "execution_count": 54,
   "id": "bbcdd20b",
   "metadata": {},
   "outputs": [
    {
     "data": {
      "text/plain": [
       "product_id  product_name            \n",
       "24852       banana                      66050\n",
       "13176       bag of organic bananas      53297\n",
       "21137       organic strawberries        37039\n",
       "21903       organic baby spinach        33971\n",
       "47209       organic hass avocado        29773\n",
       "47766       organic avocado             24689\n",
       "47626       large lemon                 21495\n",
       "16797       strawberries                20018\n",
       "26209       limes                       19690\n",
       "27845       organic whole milk          19600\n",
       "27966       organic raspberries         19197\n",
       "22935       organic yellow onion        15898\n",
       "24964       organic garlic              15292\n",
       "45007       organic zucchini            14584\n",
       "39275       organic blueberries         13879\n",
       "49683       cucumber kirby              13675\n",
       "28204       organic fuji apple          12544\n",
       "5876        organic lemon               12232\n",
       "8277        apple honeycrisp organic    11993\n",
       "40706       organic grape tomatoes      11781\n",
       "dtype: int64"
      ]
     },
     "execution_count": 54,
     "metadata": {},
     "output_type": "execute_result"
    }
   ],
   "source": [
    "merged = pd.merge(order_products, df_products, on='product_id')\n",
    "product_counts = merged.groupby(['product_id', 'product_name']).size()\n",
    "product_counts.sort_values(ascending=False).head(20)"
   ]
  },
  {
   "cell_type": "markdown",
   "id": "7df00f47",
   "metadata": {},
   "source": [
    "Here shows the top 20 poplular products by merging the product id and product name."
   ]
  },
  {
   "cell_type": "markdown",
   "id": "gross-theme",
   "metadata": {},
   "source": [
    "# [C] Hard (must complete at least two to pass)"
   ]
  },
  {
   "cell_type": "markdown",
   "id": "romantic-deposit",
   "metadata": {},
   "source": [
    "### [C1] How many items do people typically buy in one order? What does the distribution look like?"
   ]
  },
  {
   "cell_type": "code",
   "execution_count": 55,
   "id": "virtual-punch",
   "metadata": {},
   "outputs": [
    {
     "data": {
      "text/plain": [
       "order_id\n",
       "4          13\n",
       "9          15\n",
       "11          5\n",
       "19          3\n",
       "20          8\n",
       "           ..\n",
       "3421034    17\n",
       "3421053     9\n",
       "3421071     5\n",
       "3421077     4\n",
       "3421079     1\n",
       "Length: 450046, dtype: int64"
      ]
     },
     "execution_count": 55,
     "metadata": {},
     "output_type": "execute_result"
    }
   ],
   "source": [
    "# Use .count() method to count the number of products per order\n",
    "items_per_order = order_products.groupby('order_id').size()\n",
    "items_per_order"
   ]
  },
  {
   "cell_type": "code",
   "execution_count": 56,
   "id": "sensitive-breathing",
   "metadata": {},
   "outputs": [
    {
     "name": "stdout",
     "output_type": "stream",
     "text": [
      "8.0\n"
     ]
    }
   ],
   "source": [
    "# find the median number of products in an order .median()\n",
    "median_items_per_order=items_per_order.median()\n",
    "print(median_items_per_order)"
   ]
  },
  {
   "cell_type": "code",
   "execution_count": 57,
   "id": "completed-frank",
   "metadata": {},
   "outputs": [
    {
     "data": {
      "image/png": "[encoded data removed]",
      "text/plain": [
       "<Figure size 1000x600 with 1 Axes>"
      ]
     },
     "metadata": {},
     "output_type": "display_data"
    }
   ],
   "source": [
    "# plot\n",
    "plt.figure(figsize=(10, 6))\n",
    "plt.hist(items_per_order, bins=50, edgecolor='black')\n",
    "plt.title('Distribution of Items per Order')\n",
    "plt.xlabel('Number of Items')\n",
    "plt.ylabel('Frequency')\n",
    "plt.show()"
   ]
  },
  {
   "cell_type": "markdown",
   "id": "designed-mortality",
   "metadata": {},
   "source": [
    "In this section i filtered out by grouping the 'order_id'. I also found the mean which is 8.0 "
   ]
  },
  {
   "cell_type": "markdown",
   "id": "5e6b5537",
   "metadata": {},
   "source": [
    "### [C2] What are the top 20 items that are reordered most frequently (display their names and product IDs)?"
   ]
  },
  {
   "cell_type": "code",
   "execution_count": 58,
   "id": "9374e55a",
   "metadata": {},
   "outputs": [
    {
     "name": "stdout",
     "output_type": "stream",
     "text": [
      "24852    55763\n",
      "13176    44450\n",
      "21137    28639\n",
      "21903    26233\n",
      "47209    23629\n",
      "47766    18743\n",
      "27845    16251\n",
      "47626    15044\n",
      "27966    14748\n",
      "16797    13945\n",
      "26209    13327\n",
      "22935    11145\n",
      "24964    10411\n",
      "45007    10076\n",
      "49683     9538\n",
      "28204     8989\n",
      "8277      8836\n",
      "39275     8799\n",
      "5876      8412\n",
      "49235     8389\n",
      "Name: product_id, dtype: int64\n"
     ]
    }
   ],
   "source": [
    "# filter order_products so that reordered == 1.\n",
    "reorder_counts = order_products[order_products['reordered'] == 1]['product_id'].value_counts().head(20)\n",
    "print(reorder_counts)"
   ]
  },
  {
   "cell_type": "code",
   "execution_count": 59,
   "id": "professional-surfing",
   "metadata": {
    "scrolled": true
   },
   "outputs": [
    {
     "name": "stdout",
     "output_type": "stream",
     "text": [
      "    product_id_x              product_name\n",
      "0          55763                    banana\n",
      "1          44450    bag of organic bananas\n",
      "2          28639      organic strawberries\n",
      "3          26233      organic baby spinach\n",
      "4          23629      organic hass avocado\n",
      "5          18743           organic avocado\n",
      "6          16251        organic whole milk\n",
      "7          15044               large lemon\n",
      "8          14748       organic raspberries\n",
      "9          13945              strawberries\n",
      "10         13327                     limes\n",
      "11         11145      organic yellow onion\n",
      "12         10411            organic garlic\n",
      "13         10076          organic zucchini\n",
      "14          9538            cucumber kirby\n",
      "15          8989        organic fuji apple\n",
      "16          8836  apple honeycrisp organic\n",
      "17          8799       organic blueberries\n",
      "18          8412             organic lemon\n",
      "19          8389       organic half & half\n"
     ]
    }
   ],
   "source": [
    "# .head(20).index -> variable\n",
    "top_reordered = reorder_counts.reset_index().merge(df_products, left_on='index', right_on='product_id')\n",
    "print(top_reordered[[top_reordered.columns[1], 'product_name']])"
   ]
  },
  {
   "cell_type": "markdown",
   "id": "80e70c74",
   "metadata": {},
   "source": [
    "Here shows the top 20 most items reordered by product name and product ID"
   ]
  }
 ],
 "metadata": {
  "ExecuteTimeLog": [
   {
    "duration": 157,
    "start_time": "2025-01-05T05:34:50.182Z"
   },
   {
    "duration": 5,
    "start_time": "2025-01-05T05:35:03.802Z"
   },
   {
    "duration": 295,
    "start_time": "2025-01-05T05:35:06.483Z"
   },
   {
    "duration": 306,
    "start_time": "2025-01-05T05:35:08.032Z"
   },
   {
    "duration": 4,
    "start_time": "2025-01-05T05:35:09.228Z"
   },
   {
    "duration": 3,
    "start_time": "2025-01-05T05:35:25.240Z"
   },
   {
    "duration": 259,
    "start_time": "2025-01-05T05:35:27.815Z"
   },
   {
    "duration": 9,
    "start_time": "2025-01-05T05:35:40.281Z"
   },
   {
    "duration": 373,
    "start_time": "2025-01-05T05:36:30.179Z"
   },
   {
    "duration": 2,
    "start_time": "2025-01-05T05:36:48.160Z"
   },
   {
    "duration": 245,
    "start_time": "2025-01-05T05:36:48.165Z"
   },
   {
    "duration": 20,
    "start_time": "2025-01-05T05:36:48.412Z"
   },
   {
    "duration": 5,
    "start_time": "2025-01-05T05:36:48.434Z"
   },
   {
    "duration": 177,
    "start_time": "2025-01-05T05:38:11.021Z"
   },
   {
    "duration": 20,
    "start_time": "2025-01-05T05:40:28.163Z"
   },
   {
    "duration": 3,
    "start_time": "2025-01-05T05:40:44.452Z"
   },
   {
    "duration": 242,
    "start_time": "2025-01-05T05:40:44.457Z"
   },
   {
    "duration": 20,
    "start_time": "2025-01-05T05:40:44.701Z"
   },
   {
    "duration": 2,
    "start_time": "2025-01-05T05:40:51.795Z"
   },
   {
    "duration": 277,
    "start_time": "2025-01-05T05:40:51.804Z"
   },
   {
    "duration": 26,
    "start_time": "2025-01-05T05:40:52.084Z"
   },
   {
    "duration": 6,
    "start_time": "2025-01-05T05:40:52.111Z"
   },
   {
    "duration": 354,
    "start_time": "2025-01-05T05:40:52.118Z"
   },
   {
    "duration": 831,
    "start_time": "2025-01-05T05:40:55.540Z"
   },
   {
    "duration": 793,
    "start_time": "2025-01-05T05:42:09.868Z"
   },
   {
    "duration": 699,
    "start_time": "2025-01-05T05:42:24.721Z"
   },
   {
    "duration": 10,
    "start_time": "2025-01-05T05:44:07.191Z"
   },
   {
    "duration": 387,
    "start_time": "2025-01-05T05:45:14.223Z"
   },
   {
    "duration": 159,
    "start_time": "2025-01-06T00:07:39.942Z"
   },
   {
    "duration": 12,
    "start_time": "2025-01-06T00:08:00.365Z"
   },
   {
    "duration": 270,
    "start_time": "2025-01-06T00:08:03.456Z"
   },
   {
    "duration": 268,
    "start_time": "2025-01-06T00:08:03.981Z"
   },
   {
    "duration": 275,
    "start_time": "2025-01-06T00:10:46.396Z"
   },
   {
    "duration": 257,
    "start_time": "2025-01-06T00:12:08.185Z"
   },
   {
    "duration": 253,
    "start_time": "2025-01-06T00:13:47.511Z"
   },
   {
    "duration": 51,
    "start_time": "2025-01-06T00:14:12.323Z"
   },
   {
    "duration": 117,
    "start_time": "2025-01-06T00:15:13.687Z"
   },
   {
    "duration": 35,
    "start_time": "2025-01-06T00:15:27.391Z"
   },
   {
    "duration": 3,
    "start_time": "2025-01-06T00:18:54.216Z"
   },
   {
    "duration": 117,
    "start_time": "2025-01-06T00:18:54.225Z"
   },
   {
    "duration": 35,
    "start_time": "2025-01-06T00:18:54.345Z"
   },
   {
    "duration": 7,
    "start_time": "2025-01-06T00:18:54.382Z"
   },
   {
    "duration": 6,
    "start_time": "2025-01-06T00:18:54.390Z"
   },
   {
    "duration": 5,
    "start_time": "2025-01-06T00:19:01.438Z"
   },
   {
    "duration": 5,
    "start_time": "2025-01-06T00:19:03.518Z"
   },
   {
    "duration": 1881,
    "start_time": "2025-01-06T00:19:04.296Z"
   },
   {
    "duration": 166,
    "start_time": "2025-01-06T02:17:33.724Z"
   },
   {
    "duration": 12,
    "start_time": "2025-01-06T02:17:48.053Z"
   },
   {
    "duration": 326,
    "start_time": "2025-01-06T02:17:54.442Z"
   },
   {
    "duration": 162,
    "start_time": "2025-01-06T02:17:54.770Z"
   },
   {
    "duration": 61,
    "start_time": "2025-01-06T02:17:54.934Z"
   },
   {
    "duration": 11,
    "start_time": "2025-01-06T02:17:54.997Z"
   },
   {
    "duration": 9,
    "start_time": "2025-01-06T02:17:55.012Z"
   },
   {
    "duration": 802,
    "start_time": "2025-01-06T02:17:55.022Z"
   },
   {
    "duration": 2,
    "start_time": "2025-01-06T02:17:55.826Z"
   },
   {
    "duration": 2,
    "start_time": "2025-01-06T02:17:55.830Z"
   },
   {
    "duration": 3,
    "start_time": "2025-01-06T02:17:55.834Z"
   },
   {
    "duration": 2,
    "start_time": "2025-01-06T02:17:55.840Z"
   },
   {
    "duration": 3,
    "start_time": "2025-01-06T02:17:55.843Z"
   },
   {
    "duration": 3,
    "start_time": "2025-01-06T02:17:55.847Z"
   },
   {
    "duration": 2,
    "start_time": "2025-01-06T02:17:55.852Z"
   },
   {
    "duration": 3,
    "start_time": "2025-01-06T02:17:55.856Z"
   },
   {
    "duration": 4,
    "start_time": "2025-01-06T02:17:55.861Z"
   },
   {
    "duration": 2,
    "start_time": "2025-01-06T02:17:55.867Z"
   },
   {
    "duration": 2,
    "start_time": "2025-01-06T02:17:55.871Z"
   },
   {
    "duration": 3,
    "start_time": "2025-01-06T02:17:55.874Z"
   },
   {
    "duration": 47,
    "start_time": "2025-01-06T02:17:55.879Z"
   },
   {
    "duration": 3,
    "start_time": "2025-01-06T02:17:55.928Z"
   },
   {
    "duration": 2,
    "start_time": "2025-01-06T02:17:55.933Z"
   },
   {
    "duration": 2,
    "start_time": "2025-01-06T02:17:55.938Z"
   },
   {
    "duration": 2,
    "start_time": "2025-01-06T02:17:55.942Z"
   },
   {
    "duration": 3,
    "start_time": "2025-01-06T02:17:55.946Z"
   },
   {
    "duration": 2,
    "start_time": "2025-01-06T02:17:55.951Z"
   },
   {
    "duration": 2,
    "start_time": "2025-01-06T02:17:55.955Z"
   },
   {
    "duration": 93,
    "start_time": "2025-01-06T02:18:42.683Z"
   },
   {
    "duration": 88,
    "start_time": "2025-01-06T02:18:49.865Z"
   },
   {
    "duration": 11,
    "start_time": "2025-01-06T02:24:35.658Z"
   },
   {
    "duration": 5,
    "start_time": "2025-01-06T02:24:55.561Z"
   },
   {
    "duration": 117,
    "start_time": "2025-01-06T02:30:33.596Z"
   },
   {
    "duration": 94,
    "start_time": "2025-01-06T02:31:15.227Z"
   },
   {
    "duration": 94,
    "start_time": "2025-01-06T02:31:26.152Z"
   },
   {
    "duration": 99,
    "start_time": "2025-01-06T02:35:17.790Z"
   },
   {
    "duration": 94,
    "start_time": "2025-01-06T02:39:49.991Z"
   },
   {
    "duration": 34,
    "start_time": "2025-01-06T02:44:11.497Z"
   },
   {
    "duration": 59,
    "start_time": "2025-01-06T02:44:23.718Z"
   },
   {
    "duration": 58,
    "start_time": "2025-01-06T02:45:37.308Z"
   },
   {
    "duration": 2,
    "start_time": "2025-01-06T02:46:21.646Z"
   },
   {
    "duration": 126,
    "start_time": "2025-01-06T02:46:21.654Z"
   },
   {
    "duration": 37,
    "start_time": "2025-01-06T02:46:21.782Z"
   },
   {
    "duration": 9,
    "start_time": "2025-01-06T02:46:21.820Z"
   },
   {
    "duration": 8,
    "start_time": "2025-01-06T02:46:21.831Z"
   },
   {
    "duration": 753,
    "start_time": "2025-01-06T02:46:21.842Z"
   },
   {
    "duration": 86,
    "start_time": "2025-01-06T02:46:22.597Z"
   },
   {
    "duration": 4,
    "start_time": "2025-01-06T02:46:22.685Z"
   },
   {
    "duration": 97,
    "start_time": "2025-01-06T02:46:22.691Z"
   },
   {
    "duration": 96,
    "start_time": "2025-01-06T02:46:22.790Z"
   },
   {
    "duration": 52,
    "start_time": "2025-01-06T02:46:27.206Z"
   },
   {
    "duration": 170,
    "start_time": "2025-01-06T17:48:28.430Z"
   },
   {
    "duration": 12,
    "start_time": "2025-01-06T17:49:04.225Z"
   },
   {
    "duration": 321,
    "start_time": "2025-01-06T17:50:14.334Z"
   },
   {
    "duration": 175,
    "start_time": "2025-01-06T17:50:14.657Z"
   },
   {
    "duration": 60,
    "start_time": "2025-01-06T17:50:14.833Z"
   },
   {
    "duration": 9,
    "start_time": "2025-01-06T17:50:14.894Z"
   },
   {
    "duration": 33,
    "start_time": "2025-01-06T17:50:14.905Z"
   },
   {
    "duration": 901,
    "start_time": "2025-01-06T17:50:14.939Z"
   },
   {
    "duration": 106,
    "start_time": "2025-01-06T17:50:15.842Z"
   },
   {
    "duration": 5,
    "start_time": "2025-01-06T17:50:15.951Z"
   },
   {
    "duration": 115,
    "start_time": "2025-01-06T17:50:15.958Z"
   },
   {
    "duration": 112,
    "start_time": "2025-01-06T17:50:16.075Z"
   },
   {
    "duration": 77,
    "start_time": "2025-01-06T17:50:16.189Z"
   },
   {
    "duration": 13,
    "start_time": "2025-01-06T17:50:19.187Z"
   },
   {
    "duration": 4,
    "start_time": "2025-01-06T18:02:41.179Z"
   },
   {
    "duration": 115,
    "start_time": "2025-01-06T18:02:58.329Z"
   },
   {
    "duration": 29,
    "start_time": "2025-01-06T18:03:19.333Z"
   },
   {
    "duration": 11,
    "start_time": "2025-01-06T18:05:25.778Z"
   },
   {
    "duration": 115,
    "start_time": "2025-01-06T18:06:45.329Z"
   },
   {
    "duration": 32,
    "start_time": "2025-01-06T18:06:49.238Z"
   },
   {
    "duration": 43,
    "start_time": "2025-01-06T18:11:23.625Z"
   },
   {
    "duration": 30,
    "start_time": "2025-01-06T18:12:06.404Z"
   },
   {
    "duration": 43,
    "start_time": "2025-01-06T18:12:22.598Z"
   },
   {
    "duration": 35,
    "start_time": "2025-01-06T18:13:33.858Z"
   },
   {
    "duration": 4,
    "start_time": "2025-01-06T18:14:21.029Z"
   },
   {
    "duration": 133,
    "start_time": "2025-01-06T18:14:21.035Z"
   },
   {
    "duration": 34,
    "start_time": "2025-01-06T18:14:21.170Z"
   },
   {
    "duration": 27,
    "start_time": "2025-01-06T18:14:21.209Z"
   },
   {
    "duration": 8,
    "start_time": "2025-01-06T18:14:21.238Z"
   },
   {
    "duration": 769,
    "start_time": "2025-01-06T18:14:21.247Z"
   },
   {
    "duration": 110,
    "start_time": "2025-01-06T18:14:22.024Z"
   },
   {
    "duration": 10,
    "start_time": "2025-01-06T18:14:22.136Z"
   },
   {
    "duration": 98,
    "start_time": "2025-01-06T18:14:22.148Z"
   },
   {
    "duration": 93,
    "start_time": "2025-01-06T18:14:22.247Z"
   },
   {
    "duration": 23,
    "start_time": "2025-01-06T18:14:22.342Z"
   },
   {
    "duration": 15,
    "start_time": "2025-01-06T18:14:22.367Z"
   },
   {
    "duration": 12,
    "start_time": "2025-01-06T18:14:24.590Z"
   },
   {
    "duration": 5,
    "start_time": "2025-01-06T18:15:04.079Z"
   },
   {
    "duration": 13,
    "start_time": "2025-01-06T18:20:45.386Z"
   },
   {
    "duration": 21,
    "start_time": "2025-01-06T18:23:06.721Z"
   },
   {
    "duration": 216,
    "start_time": "2025-01-06T18:25:01.576Z"
   },
   {
    "duration": 3,
    "start_time": "2025-01-06T18:26:47.052Z"
   },
   {
    "duration": 119,
    "start_time": "2025-01-06T18:26:47.059Z"
   },
   {
    "duration": 60,
    "start_time": "2025-01-06T18:26:47.180Z"
   },
   {
    "duration": 10,
    "start_time": "2025-01-06T18:26:47.241Z"
   },
   {
    "duration": 8,
    "start_time": "2025-01-06T18:26:47.252Z"
   },
   {
    "duration": 776,
    "start_time": "2025-01-06T18:26:47.262Z"
   },
   {
    "duration": 97,
    "start_time": "2025-01-06T18:26:48.040Z"
   },
   {
    "duration": 10,
    "start_time": "2025-01-06T18:26:48.139Z"
   },
   {
    "duration": 95,
    "start_time": "2025-01-06T18:26:48.150Z"
   },
   {
    "duration": 87,
    "start_time": "2025-01-06T18:26:48.247Z"
   },
   {
    "duration": 23,
    "start_time": "2025-01-06T18:26:48.336Z"
   },
   {
    "duration": 16,
    "start_time": "2025-01-06T18:26:48.361Z"
   },
   {
    "duration": 4,
    "start_time": "2025-01-06T18:26:48.378Z"
   },
   {
    "duration": 15,
    "start_time": "2025-01-06T18:26:51.446Z"
   },
   {
    "duration": 2,
    "start_time": "2025-01-06T18:27:45.969Z"
   },
   {
    "duration": 171,
    "start_time": "2025-01-06T18:27:45.978Z"
   },
   {
    "duration": 35,
    "start_time": "2025-01-06T18:27:46.151Z"
   },
   {
    "duration": 9,
    "start_time": "2025-01-06T18:27:46.187Z"
   },
   {
    "duration": 49,
    "start_time": "2025-01-06T18:27:46.197Z"
   },
   {
    "duration": 775,
    "start_time": "2025-01-06T18:27:46.250Z"
   },
   {
    "duration": 81,
    "start_time": "2025-01-06T18:27:47.027Z"
   },
   {
    "duration": 24,
    "start_time": "2025-01-06T18:27:47.112Z"
   },
   {
    "duration": 93,
    "start_time": "2025-01-06T18:27:47.139Z"
   },
   {
    "duration": 85,
    "start_time": "2025-01-06T18:27:47.234Z"
   },
   {
    "duration": 28,
    "start_time": "2025-01-06T18:27:47.321Z"
   },
   {
    "duration": 14,
    "start_time": "2025-01-06T18:27:47.351Z"
   },
   {
    "duration": 4,
    "start_time": "2025-01-06T18:27:47.367Z"
   },
   {
    "duration": 18,
    "start_time": "2025-01-06T18:27:50.041Z"
   },
   {
    "duration": 23,
    "start_time": "2025-01-06T18:28:25.976Z"
   },
   {
    "duration": 21,
    "start_time": "2025-01-06T18:28:41.040Z"
   },
   {
    "duration": 4,
    "start_time": "2025-01-06T18:29:36.927Z"
   },
   {
    "duration": 33,
    "start_time": "2025-01-06T18:29:42.002Z"
   },
   {
    "duration": 362,
    "start_time": "2025-01-06T18:40:31.229Z"
   },
   {
    "duration": 2,
    "start_time": "2025-01-06T18:40:44.342Z"
   },
   {
    "duration": 106,
    "start_time": "2025-01-06T18:40:44.352Z"
   },
   {
    "duration": 35,
    "start_time": "2025-01-06T18:40:44.460Z"
   },
   {
    "duration": 13,
    "start_time": "2025-01-06T18:40:44.497Z"
   },
   {
    "duration": 8,
    "start_time": "2025-01-06T18:40:44.512Z"
   },
   {
    "duration": 704,
    "start_time": "2025-01-06T18:40:44.523Z"
   },
   {
    "duration": 77,
    "start_time": "2025-01-06T18:40:45.228Z"
   },
   {
    "duration": 10,
    "start_time": "2025-01-06T18:40:45.306Z"
   },
   {
    "duration": 73,
    "start_time": "2025-01-06T18:40:45.318Z"
   },
   {
    "duration": 70,
    "start_time": "2025-01-06T18:40:45.405Z"
   },
   {
    "duration": 39,
    "start_time": "2025-01-06T18:40:45.476Z"
   },
   {
    "duration": 72,
    "start_time": "2025-01-06T18:40:45.517Z"
   },
   {
    "duration": 16,
    "start_time": "2025-01-06T18:40:45.591Z"
   },
   {
    "duration": 19,
    "start_time": "2025-01-06T18:40:45.609Z"
   },
   {
    "duration": 11,
    "start_time": "2025-01-06T18:40:45.631Z"
   },
   {
    "duration": 40,
    "start_time": "2025-01-06T18:40:58.932Z"
   },
   {
    "duration": 3,
    "start_time": "2025-01-06T18:41:15.589Z"
   },
   {
    "duration": 106,
    "start_time": "2025-01-06T18:41:15.594Z"
   },
   {
    "duration": 35,
    "start_time": "2025-01-06T18:41:15.702Z"
   },
   {
    "duration": 8,
    "start_time": "2025-01-06T18:41:15.738Z"
   },
   {
    "duration": 8,
    "start_time": "2025-01-06T18:41:15.748Z"
   },
   {
    "duration": 696,
    "start_time": "2025-01-06T18:41:15.757Z"
   },
   {
    "duration": 79,
    "start_time": "2025-01-06T18:41:16.455Z"
   },
   {
    "duration": 11,
    "start_time": "2025-01-06T18:41:16.536Z"
   },
   {
    "duration": 87,
    "start_time": "2025-01-06T18:41:16.549Z"
   },
   {
    "duration": 80,
    "start_time": "2025-01-06T18:41:16.637Z"
   },
   {
    "duration": 23,
    "start_time": "2025-01-06T18:41:16.718Z"
   },
   {
    "duration": 12,
    "start_time": "2025-01-06T18:41:16.743Z"
   },
   {
    "duration": 5,
    "start_time": "2025-01-06T18:41:16.756Z"
   },
   {
    "duration": 48,
    "start_time": "2025-01-06T18:41:16.764Z"
   },
   {
    "duration": 14,
    "start_time": "2025-01-06T18:41:16.814Z"
   },
   {
    "duration": 12,
    "start_time": "2025-01-06T18:41:19.442Z"
   },
   {
    "duration": 12,
    "start_time": "2025-01-06T18:41:52.635Z"
   },
   {
    "duration": 9,
    "start_time": "2025-01-06T18:42:25.047Z"
   },
   {
    "duration": 9,
    "start_time": "2025-01-06T18:42:54.829Z"
   },
   {
    "duration": 15,
    "start_time": "2025-01-06T18:44:19.613Z"
   },
   {
    "duration": 9,
    "start_time": "2025-01-06T18:45:03.512Z"
   },
   {
    "duration": 9,
    "start_time": "2025-01-06T18:45:29.968Z"
   },
   {
    "duration": 14,
    "start_time": "2025-01-06T18:45:47.735Z"
   },
   {
    "duration": 9,
    "start_time": "2025-01-06T18:45:57.006Z"
   },
   {
    "duration": 9,
    "start_time": "2025-01-06T18:46:09.159Z"
   },
   {
    "duration": 13,
    "start_time": "2025-01-06T18:51:32.199Z"
   },
   {
    "duration": 6,
    "start_time": "2025-01-06T18:51:47.455Z"
   },
   {
    "duration": 9,
    "start_time": "2025-01-06T18:52:05.966Z"
   },
   {
    "duration": 11,
    "start_time": "2025-01-06T18:52:33.563Z"
   },
   {
    "duration": 5,
    "start_time": "2025-01-06T18:53:50.289Z"
   },
   {
    "duration": 10,
    "start_time": "2025-01-06T18:53:54.810Z"
   },
   {
    "duration": 10,
    "start_time": "2025-01-06T19:31:53.767Z"
   },
   {
    "duration": 85,
    "start_time": "2025-01-06T19:32:40.876Z"
   },
   {
    "duration": 9,
    "start_time": "2025-01-06T19:33:22.231Z"
   },
   {
    "duration": 14,
    "start_time": "2025-01-06T19:33:42.534Z"
   },
   {
    "duration": 9,
    "start_time": "2025-01-06T19:34:13.565Z"
   },
   {
    "duration": 30,
    "start_time": "2025-01-06T19:34:50.203Z"
   },
   {
    "duration": 8,
    "start_time": "2025-01-06T19:36:25.947Z"
   },
   {
    "duration": 9,
    "start_time": "2025-01-06T19:36:54.320Z"
   },
   {
    "duration": 7,
    "start_time": "2025-01-06T19:37:24.718Z"
   },
   {
    "duration": 480,
    "start_time": "2025-01-06T19:37:27.921Z"
   },
   {
    "duration": 190,
    "start_time": "2025-01-07T00:10:59.193Z"
   },
   {
    "duration": 345,
    "start_time": "2025-01-07T00:11:10.503Z"
   },
   {
    "duration": 184,
    "start_time": "2025-01-07T00:11:10.850Z"
   },
   {
    "duration": 12,
    "start_time": "2025-01-07T00:11:11.036Z"
   },
   {
    "duration": 113,
    "start_time": "2025-01-07T00:11:11.049Z"
   },
   {
    "duration": 62,
    "start_time": "2025-01-07T00:11:11.171Z"
   },
   {
    "duration": 11,
    "start_time": "2025-01-07T00:11:11.235Z"
   },
   {
    "duration": 14,
    "start_time": "2025-01-07T00:11:11.248Z"
   },
   {
    "duration": 13,
    "start_time": "2025-01-07T00:11:11.263Z"
   },
   {
    "duration": 17,
    "start_time": "2025-01-07T00:11:11.278Z"
   },
   {
    "duration": 10,
    "start_time": "2025-01-07T00:11:11.297Z"
   },
   {
    "duration": 10,
    "start_time": "2025-01-07T00:11:11.310Z"
   },
   {
    "duration": 8,
    "start_time": "2025-01-07T00:11:11.322Z"
   },
   {
    "duration": 9,
    "start_time": "2025-01-07T00:11:11.331Z"
   },
   {
    "duration": 849,
    "start_time": "2025-01-07T00:11:11.342Z"
   },
   {
    "duration": 12,
    "start_time": "2025-01-07T00:11:12.193Z"
   },
   {
    "duration": 508,
    "start_time": "2025-01-07T00:11:12.206Z"
   },
   {
    "duration": 83,
    "start_time": "2025-01-07T00:11:12.718Z"
   },
   {
    "duration": 15,
    "start_time": "2025-01-07T00:11:12.804Z"
   },
   {
    "duration": 108,
    "start_time": "2025-01-07T00:11:12.820Z"
   },
   {
    "duration": 110,
    "start_time": "2025-01-07T00:11:12.930Z"
   },
   {
    "duration": 36,
    "start_time": "2025-01-07T00:11:13.042Z"
   },
   {
    "duration": 23,
    "start_time": "2025-01-07T00:11:13.080Z"
   },
   {
    "duration": 8,
    "start_time": "2025-01-07T00:11:13.105Z"
   },
   {
    "duration": 19,
    "start_time": "2025-01-07T00:11:15.839Z"
   },
   {
    "duration": 2,
    "start_time": "2025-01-07T00:12:16.021Z"
   },
   {
    "duration": 134,
    "start_time": "2025-01-07T00:12:16.031Z"
   },
   {
    "duration": 21,
    "start_time": "2025-01-07T00:12:16.167Z"
   },
   {
    "duration": 81,
    "start_time": "2025-01-07T00:12:16.191Z"
   },
   {
    "duration": 46,
    "start_time": "2025-01-07T00:12:16.273Z"
   },
   {
    "duration": 11,
    "start_time": "2025-01-07T00:12:16.322Z"
   },
   {
    "duration": 32,
    "start_time": "2025-01-07T00:12:16.342Z"
   },
   {
    "duration": 12,
    "start_time": "2025-01-07T00:12:16.378Z"
   },
   {
    "duration": 10,
    "start_time": "2025-01-07T00:12:16.395Z"
   },
   {
    "duration": 14,
    "start_time": "2025-01-07T00:12:16.409Z"
   },
   {
    "duration": 7,
    "start_time": "2025-01-07T00:12:16.425Z"
   },
   {
    "duration": 8,
    "start_time": "2025-01-07T00:12:16.434Z"
   },
   {
    "duration": 8,
    "start_time": "2025-01-07T00:12:16.444Z"
   },
   {
    "duration": 820,
    "start_time": "2025-01-07T00:12:16.454Z"
   },
   {
    "duration": 7,
    "start_time": "2025-01-07T00:12:17.278Z"
   },
   {
    "duration": 500,
    "start_time": "2025-01-07T00:12:17.289Z"
   },
   {
    "duration": 91,
    "start_time": "2025-01-07T00:12:17.791Z"
   },
   {
    "duration": 13,
    "start_time": "2025-01-07T00:12:17.884Z"
   },
   {
    "duration": 93,
    "start_time": "2025-01-07T00:12:17.900Z"
   },
   {
    "duration": 79,
    "start_time": "2025-01-07T00:12:17.995Z"
   },
   {
    "duration": 36,
    "start_time": "2025-01-07T00:12:18.077Z"
   },
   {
    "duration": 12,
    "start_time": "2025-01-07T00:12:18.115Z"
   },
   {
    "duration": 5,
    "start_time": "2025-01-07T00:12:18.128Z"
   },
   {
    "duration": 19,
    "start_time": "2025-01-07T00:12:21.319Z"
   },
   {
    "duration": 25,
    "start_time": "2025-01-07T00:12:46.379Z"
   },
   {
    "duration": 5,
    "start_time": "2025-01-07T02:03:23.487Z"
   },
   {
    "duration": 8,
    "start_time": "2025-01-07T02:03:39.429Z"
   },
   {
    "duration": 10,
    "start_time": "2025-01-07T02:05:19.326Z"
   },
   {
    "duration": 5,
    "start_time": "2025-01-07T02:12:30.620Z"
   },
   {
    "duration": 6,
    "start_time": "2025-01-07T02:47:58.834Z"
   },
   {
    "duration": 5,
    "start_time": "2025-01-07T03:01:41.775Z"
   },
   {
    "duration": 1443,
    "start_time": "2025-01-07T03:12:30.552Z"
   },
   {
    "duration": 1498,
    "start_time": "2025-01-07T03:13:28.838Z"
   },
   {
    "duration": 3,
    "start_time": "2025-01-07T03:13:37.211Z"
   },
   {
    "duration": 157,
    "start_time": "2025-01-07T03:13:37.221Z"
   },
   {
    "duration": 11,
    "start_time": "2025-01-07T03:13:37.381Z"
   },
   {
    "duration": 84,
    "start_time": "2025-01-07T03:13:37.394Z"
   },
   {
    "duration": 34,
    "start_time": "2025-01-07T03:13:37.480Z"
   },
   {
    "duration": 14,
    "start_time": "2025-01-07T03:13:37.517Z"
   },
   {
    "duration": 15,
    "start_time": "2025-01-07T03:13:37.533Z"
   },
   {
    "duration": 27,
    "start_time": "2025-01-07T03:13:37.550Z"
   },
   {
    "duration": 9,
    "start_time": "2025-01-07T03:13:37.578Z"
   },
   {
    "duration": 10,
    "start_time": "2025-01-07T03:13:37.589Z"
   },
   {
    "duration": 11,
    "start_time": "2025-01-07T03:13:37.600Z"
   },
   {
    "duration": 10,
    "start_time": "2025-01-07T03:13:37.613Z"
   },
   {
    "duration": 9,
    "start_time": "2025-01-07T03:13:37.625Z"
   },
   {
    "duration": 725,
    "start_time": "2025-01-07T03:13:37.637Z"
   },
   {
    "duration": 13,
    "start_time": "2025-01-07T03:13:38.365Z"
   },
   {
    "duration": 511,
    "start_time": "2025-01-07T03:13:38.381Z"
   },
   {
    "duration": 76,
    "start_time": "2025-01-07T03:13:38.894Z"
   },
   {
    "duration": 11,
    "start_time": "2025-01-07T03:13:38.972Z"
   },
   {
    "duration": 85,
    "start_time": "2025-01-07T03:13:38.985Z"
   },
   {
    "duration": 73,
    "start_time": "2025-01-07T03:13:39.072Z"
   },
   {
    "duration": 38,
    "start_time": "2025-01-07T03:13:39.146Z"
   },
   {
    "duration": 12,
    "start_time": "2025-01-07T03:13:39.186Z"
   },
   {
    "duration": 5,
    "start_time": "2025-01-07T03:13:39.200Z"
   },
   {
    "duration": 24,
    "start_time": "2025-01-07T03:13:39.206Z"
   },
   {
    "duration": 10,
    "start_time": "2025-01-07T03:13:39.232Z"
   },
   {
    "duration": 4,
    "start_time": "2025-01-07T03:13:39.269Z"
   },
   {
    "duration": 8,
    "start_time": "2025-01-07T03:13:39.275Z"
   },
   {
    "duration": 9,
    "start_time": "2025-01-07T03:13:39.285Z"
   },
   {
    "duration": 6,
    "start_time": "2025-01-07T03:13:39.295Z"
   },
   {
    "duration": 4,
    "start_time": "2025-01-07T03:13:39.304Z"
   },
   {
    "duration": 1502,
    "start_time": "2025-01-07T03:13:43.223Z"
   },
   {
    "duration": 746,
    "start_time": "2025-01-07T03:16:16.825Z"
   },
   {
    "duration": 3,
    "start_time": "2025-01-07T03:16:36.819Z"
   },
   {
    "duration": 117,
    "start_time": "2025-01-07T03:16:36.824Z"
   },
   {
    "duration": 11,
    "start_time": "2025-01-07T03:16:36.942Z"
   },
   {
    "duration": 85,
    "start_time": "2025-01-07T03:16:36.955Z"
   },
   {
    "duration": 47,
    "start_time": "2025-01-07T03:16:37.043Z"
   },
   {
    "duration": 10,
    "start_time": "2025-01-07T03:16:37.092Z"
   },
   {
    "duration": 16,
    "start_time": "2025-01-07T03:16:37.103Z"
   },
   {
    "duration": 9,
    "start_time": "2025-01-07T03:16:37.120Z"
   },
   {
    "duration": 7,
    "start_time": "2025-01-07T03:16:37.131Z"
   },
   {
    "duration": 32,
    "start_time": "2025-01-07T03:16:37.141Z"
   },
   {
    "duration": 14,
    "start_time": "2025-01-07T03:16:37.175Z"
   },
   {
    "duration": 14,
    "start_time": "2025-01-07T03:16:37.191Z"
   },
   {
    "duration": 10,
    "start_time": "2025-01-07T03:16:37.207Z"
   },
   {
    "duration": 723,
    "start_time": "2025-01-07T03:16:37.220Z"
   },
   {
    "duration": 7,
    "start_time": "2025-01-07T03:16:37.945Z"
   },
   {
    "duration": 508,
    "start_time": "2025-01-07T03:16:37.954Z"
   },
   {
    "duration": 96,
    "start_time": "2025-01-07T03:16:38.463Z"
   },
   {
    "duration": 17,
    "start_time": "2025-01-07T03:16:38.561Z"
   },
   {
    "duration": 91,
    "start_time": "2025-01-07T03:16:38.579Z"
   },
   {
    "duration": 71,
    "start_time": "2025-01-07T03:16:38.671Z"
   },
   {
    "duration": 37,
    "start_time": "2025-01-07T03:16:38.743Z"
   },
   {
    "duration": 18,
    "start_time": "2025-01-07T03:16:38.782Z"
   },
   {
    "duration": 6,
    "start_time": "2025-01-07T03:16:38.801Z"
   },
   {
    "duration": 27,
    "start_time": "2025-01-07T03:16:38.809Z"
   },
   {
    "duration": 33,
    "start_time": "2025-01-07T03:16:38.838Z"
   },
   {
    "duration": 5,
    "start_time": "2025-01-07T03:16:38.873Z"
   },
   {
    "duration": 8,
    "start_time": "2025-01-07T03:16:38.880Z"
   },
   {
    "duration": 9,
    "start_time": "2025-01-07T03:16:38.890Z"
   },
   {
    "duration": 5,
    "start_time": "2025-01-07T03:16:38.901Z"
   },
   {
    "duration": 6,
    "start_time": "2025-01-07T03:16:38.908Z"
   },
   {
    "duration": 744,
    "start_time": "2025-01-07T03:16:41.845Z"
   },
   {
    "duration": 1484,
    "start_time": "2025-01-07T03:16:53.305Z"
   },
   {
    "duration": 182,
    "start_time": "2025-01-08T01:08:18.898Z"
   },
   {
    "duration": 11,
    "start_time": "2025-01-08T01:08:28.776Z"
   },
   {
    "duration": 12,
    "start_time": "2025-01-08T01:08:57.661Z"
   },
   {
    "duration": 13,
    "start_time": "2025-01-08T01:09:24.576Z"
   },
   {
    "duration": 14,
    "start_time": "2025-01-08T01:10:26.705Z"
   },
   {
    "duration": 12,
    "start_time": "2025-01-08T01:11:12.557Z"
   },
   {
    "duration": 320,
    "start_time": "2025-01-08T01:11:20.512Z"
   },
   {
    "duration": 182,
    "start_time": "2025-01-08T01:11:20.834Z"
   },
   {
    "duration": 13,
    "start_time": "2025-01-08T01:11:21.018Z"
   },
   {
    "duration": 109,
    "start_time": "2025-01-08T01:11:21.033Z"
   },
   {
    "duration": 63,
    "start_time": "2025-01-08T01:11:21.144Z"
   },
   {
    "duration": 11,
    "start_time": "2025-01-08T01:11:21.209Z"
   },
   {
    "duration": 14,
    "start_time": "2025-01-08T01:11:21.222Z"
   },
   {
    "duration": 9,
    "start_time": "2025-01-08T01:11:21.239Z"
   },
   {
    "duration": 9,
    "start_time": "2025-01-08T01:11:21.249Z"
   },
   {
    "duration": 31,
    "start_time": "2025-01-08T01:11:21.263Z"
   },
   {
    "duration": 11,
    "start_time": "2025-01-08T01:11:21.296Z"
   },
   {
    "duration": 8,
    "start_time": "2025-01-08T01:11:21.308Z"
   },
   {
    "duration": 9,
    "start_time": "2025-01-08T01:11:21.318Z"
   },
   {
    "duration": 891,
    "start_time": "2025-01-08T01:11:21.329Z"
   },
   {
    "duration": 7,
    "start_time": "2025-01-08T01:11:22.222Z"
   },
   {
    "duration": 568,
    "start_time": "2025-01-08T01:11:22.231Z"
   },
   {
    "duration": 90,
    "start_time": "2025-01-08T01:11:22.802Z"
   },
   {
    "duration": 16,
    "start_time": "2025-01-08T01:11:22.895Z"
   },
   {
    "duration": 113,
    "start_time": "2025-01-08T01:11:22.914Z"
   },
   {
    "duration": 103,
    "start_time": "2025-01-08T01:11:23.030Z"
   },
   {
    "duration": 36,
    "start_time": "2025-01-08T01:11:23.136Z"
   },
   {
    "duration": 16,
    "start_time": "2025-01-08T01:11:23.174Z"
   },
   {
    "duration": 5,
    "start_time": "2025-01-08T01:11:23.193Z"
   },
   {
    "duration": 30,
    "start_time": "2025-01-08T01:11:23.201Z"
   },
   {
    "duration": 11,
    "start_time": "2025-01-08T01:11:23.233Z"
   },
   {
    "duration": 4,
    "start_time": "2025-01-08T01:11:23.246Z"
   },
   {
    "duration": 8,
    "start_time": "2025-01-08T01:11:23.252Z"
   },
   {
    "duration": 21,
    "start_time": "2025-01-08T01:11:23.294Z"
   },
   {
    "duration": 5,
    "start_time": "2025-01-08T01:11:23.316Z"
   },
   {
    "duration": 5,
    "start_time": "2025-01-08T01:11:23.323Z"
   },
   {
    "duration": 794,
    "start_time": "2025-01-08T01:11:58.942Z"
   },
   {
    "duration": 770,
    "start_time": "2025-01-08T01:17:31.526Z"
   },
   {
    "duration": 817,
    "start_time": "2025-01-08T01:17:52.141Z"
   },
   {
    "duration": 124,
    "start_time": "2025-01-08T01:22:02.823Z"
   },
   {
    "duration": 41,
    "start_time": "2025-01-08T01:23:03.671Z"
   },
   {
    "duration": 4,
    "start_time": "2025-01-08T02:06:06.745Z"
   },
   {
    "duration": 6,
    "start_time": "2025-01-08T02:06:25.658Z"
   },
   {
    "duration": 6,
    "start_time": "2025-01-08T02:06:59.649Z"
   },
   {
    "duration": 279,
    "start_time": "2025-01-09T01:34:46.889Z"
   },
   {
    "duration": 165,
    "start_time": "2025-01-09T01:34:47.170Z"
   },
   {
    "duration": 12,
    "start_time": "2025-01-09T01:34:47.338Z"
   },
   {
    "duration": 96,
    "start_time": "2025-01-09T01:34:47.352Z"
   },
   {
    "duration": 59,
    "start_time": "2025-01-09T01:34:47.449Z"
   },
   {
    "duration": 15,
    "start_time": "2025-01-09T01:34:47.509Z"
   },
   {
    "duration": 17,
    "start_time": "2025-01-09T01:34:47.526Z"
   },
   {
    "duration": 9,
    "start_time": "2025-01-09T01:34:47.545Z"
   },
   {
    "duration": 8,
    "start_time": "2025-01-09T01:34:47.556Z"
   },
   {
    "duration": 7,
    "start_time": "2025-01-09T01:34:47.567Z"
   },
   {
    "duration": 10,
    "start_time": "2025-01-09T01:34:47.576Z"
   },
   {
    "duration": 7,
    "start_time": "2025-01-09T01:34:47.588Z"
   },
   {
    "duration": 11,
    "start_time": "2025-01-09T01:34:47.624Z"
   },
   {
    "duration": 858,
    "start_time": "2025-01-09T01:34:47.637Z"
   },
   {
    "duration": 7,
    "start_time": "2025-01-09T01:34:48.497Z"
   },
   {
    "duration": 500,
    "start_time": "2025-01-09T01:34:48.506Z"
   },
   {
    "duration": 80,
    "start_time": "2025-01-09T01:34:49.008Z"
   },
   {
    "duration": 14,
    "start_time": "2025-01-09T01:34:49.089Z"
   },
   {
    "duration": 101,
    "start_time": "2025-01-09T01:34:49.105Z"
   },
   {
    "duration": 103,
    "start_time": "2025-01-09T01:34:49.208Z"
   },
   {
    "duration": 33,
    "start_time": "2025-01-09T01:34:49.312Z"
   },
   {
    "duration": 12,
    "start_time": "2025-01-09T01:34:49.347Z"
   },
   {
    "duration": 4,
    "start_time": "2025-01-09T01:34:49.361Z"
   },
   {
    "duration": 18,
    "start_time": "2025-01-09T01:34:49.367Z"
   },
   {
    "duration": 10,
    "start_time": "2025-01-09T01:34:49.386Z"
   },
   {
    "duration": 4,
    "start_time": "2025-01-09T01:34:49.425Z"
   },
   {
    "duration": 8,
    "start_time": "2025-01-09T01:34:49.431Z"
   },
   {
    "duration": 7,
    "start_time": "2025-01-09T01:34:49.443Z"
   },
   {
    "duration": 4,
    "start_time": "2025-01-09T01:34:49.452Z"
   },
   {
    "duration": 5,
    "start_time": "2025-01-09T01:34:49.458Z"
   },
   {
    "duration": 1505,
    "start_time": "2025-01-09T01:34:49.464Z"
   },
   {
    "duration": 698,
    "start_time": "2025-01-09T01:34:50.971Z"
   },
   {
    "duration": 6,
    "start_time": "2025-01-09T01:34:53.135Z"
   },
   {
    "duration": 304,
    "start_time": "2025-01-09T01:38:53.626Z"
   },
   {
    "duration": 14,
    "start_time": "2025-01-09T01:40:01.392Z"
   },
   {
    "duration": 3,
    "start_time": "2025-01-09T01:40:38.060Z"
   },
   {
    "duration": 8,
    "start_time": "2025-01-09T01:43:17.334Z"
   },
   {
    "duration": 7,
    "start_time": "2025-01-09T01:43:24.109Z"
   },
   {
    "duration": 3,
    "start_time": "2025-01-09T01:44:41.115Z"
   },
   {
    "duration": 12,
    "start_time": "2025-01-09T01:44:59.522Z"
   },
   {
    "duration": 4,
    "start_time": "2025-01-09T01:45:07.252Z"
   },
   {
    "duration": 3,
    "start_time": "2025-01-09T01:48:07.150Z"
   },
   {
    "duration": 7,
    "start_time": "2025-01-09T02:12:13.464Z"
   },
   {
    "duration": 6,
    "start_time": "2025-01-09T02:12:16.462Z"
   },
   {
    "duration": 50,
    "start_time": "2025-01-09T02:13:32.592Z"
   },
   {
    "duration": 7,
    "start_time": "2025-01-09T02:13:47.725Z"
   },
   {
    "duration": 15,
    "start_time": "2025-01-09T02:14:31.893Z"
   },
   {
    "duration": 8,
    "start_time": "2025-01-09T02:14:41.812Z"
   },
   {
    "duration": 17,
    "start_time": "2025-01-09T02:16:29.993Z"
   },
   {
    "duration": 7,
    "start_time": "2025-01-09T02:17:16.304Z"
   },
   {
    "duration": 16,
    "start_time": "2025-01-09T02:17:24.437Z"
   },
   {
    "duration": 7,
    "start_time": "2025-01-09T02:17:30.994Z"
   },
   {
    "duration": 9,
    "start_time": "2025-01-09T02:19:26.115Z"
   },
   {
    "duration": 7,
    "start_time": "2025-01-09T02:19:58.664Z"
   },
   {
    "duration": 17,
    "start_time": "2025-01-09T02:20:36.776Z"
   },
   {
    "duration": 7,
    "start_time": "2025-01-09T02:20:43.755Z"
   },
   {
    "duration": 10,
    "start_time": "2025-01-09T02:20:50.211Z"
   },
   {
    "duration": 9,
    "start_time": "2025-01-09T02:26:54.212Z"
   },
   {
    "duration": 6,
    "start_time": "2025-01-09T02:26:57.367Z"
   },
   {
    "duration": 17,
    "start_time": "2025-01-09T02:27:57.399Z"
   },
   {
    "duration": 16,
    "start_time": "2025-01-09T02:28:08.075Z"
   },
   {
    "duration": 7,
    "start_time": "2025-01-09T02:28:14.609Z"
   },
   {
    "duration": 3,
    "start_time": "2025-01-09T02:32:42.691Z"
   },
   {
    "duration": 3,
    "start_time": "2025-01-09T02:33:19.448Z"
   },
   {
    "duration": 8,
    "start_time": "2025-01-09T02:35:02.328Z"
   },
   {
    "duration": 397,
    "start_time": "2025-01-09T02:35:28.862Z"
   },
   {
    "duration": 8,
    "start_time": "2025-01-09T02:37:08.526Z"
   },
   {
    "duration": 7,
    "start_time": "2025-01-09T02:38:27.554Z"
   },
   {
    "duration": 16,
    "start_time": "2025-01-09T02:38:47.188Z"
   },
   {
    "duration": 7,
    "start_time": "2025-01-09T02:38:57.734Z"
   },
   {
    "duration": 3,
    "start_time": "2025-01-09T02:40:31.291Z"
   },
   {
    "duration": 3,
    "start_time": "2025-01-09T02:40:48.935Z"
   },
   {
    "duration": 3,
    "start_time": "2025-01-09T02:41:15.674Z"
   },
   {
    "duration": 8,
    "start_time": "2025-01-09T02:41:25.494Z"
   },
   {
    "duration": 5,
    "start_time": "2025-01-09T02:47:52.709Z"
   },
   {
    "duration": 4,
    "start_time": "2025-01-09T02:48:23.931Z"
   },
   {
    "duration": 14,
    "start_time": "2025-01-09T02:48:47.244Z"
   },
   {
    "duration": 3,
    "start_time": "2025-01-09T02:49:17.403Z"
   },
   {
    "duration": 7,
    "start_time": "2025-01-09T02:50:26.579Z"
   },
   {
    "duration": 17,
    "start_time": "2025-01-09T02:51:32.398Z"
   },
   {
    "duration": 7,
    "start_time": "2025-01-09T02:51:52.802Z"
   },
   {
    "duration": 9,
    "start_time": "2025-01-09T02:52:37.055Z"
   },
   {
    "duration": 10,
    "start_time": "2025-01-09T02:53:14.956Z"
   },
   {
    "duration": 13,
    "start_time": "2025-01-09T02:58:03.767Z"
   },
   {
    "duration": 12,
    "start_time": "2025-01-09T02:58:18.150Z"
   },
   {
    "duration": 10,
    "start_time": "2025-01-09T03:11:36.940Z"
   },
   {
    "duration": 8,
    "start_time": "2025-01-09T03:12:17.999Z"
   },
   {
    "duration": 11,
    "start_time": "2025-01-09T03:12:29.764Z"
   },
   {
    "duration": 3,
    "start_time": "2025-01-09T03:12:43.598Z"
   },
   {
    "duration": 11,
    "start_time": "2025-01-09T03:16:45.514Z"
   },
   {
    "duration": 6,
    "start_time": "2025-01-09T03:17:07.586Z"
   },
   {
    "duration": 10,
    "start_time": "2025-01-09T03:17:16.824Z"
   },
   {
    "duration": 5,
    "start_time": "2025-01-09T03:20:39.480Z"
   },
   {
    "duration": 44,
    "start_time": "2025-01-09T03:20:48.355Z"
   },
   {
    "duration": 43,
    "start_time": "2025-01-09T03:21:25.362Z"
   },
   {
    "duration": 42,
    "start_time": "2025-01-09T03:21:45.484Z"
   },
   {
    "duration": 46,
    "start_time": "2025-01-09T03:23:17.258Z"
   },
   {
    "duration": 43,
    "start_time": "2025-01-09T03:23:38.963Z"
   },
   {
    "duration": 8,
    "start_time": "2025-01-09T03:24:10.562Z"
   },
   {
    "duration": 8,
    "start_time": "2025-01-09T03:25:21.786Z"
   },
   {
    "duration": 6,
    "start_time": "2025-01-09T03:25:42.042Z"
   },
   {
    "duration": 8,
    "start_time": "2025-01-09T03:25:55.134Z"
   },
   {
    "duration": 6,
    "start_time": "2025-01-09T03:28:16.960Z"
   },
   {
    "duration": 15,
    "start_time": "2025-01-09T03:28:50.468Z"
   },
   {
    "duration": 15,
    "start_time": "2025-01-09T03:28:55.765Z"
   },
   {
    "duration": 8,
    "start_time": "2025-01-09T03:29:10.132Z"
   },
   {
    "duration": 6,
    "start_time": "2025-01-09T03:30:01.646Z"
   },
   {
    "duration": 3,
    "start_time": "2025-01-09T03:30:49.446Z"
   },
   {
    "duration": 3,
    "start_time": "2025-01-09T03:31:46.829Z"
   },
   {
    "duration": 3,
    "start_time": "2025-01-09T03:32:04.647Z"
   },
   {
    "duration": 9,
    "start_time": "2025-01-09T03:33:01.854Z"
   },
   {
    "duration": 3,
    "start_time": "2025-01-09T03:34:12.375Z"
   },
   {
    "duration": 3,
    "start_time": "2025-01-09T03:34:24.063Z"
   },
   {
    "duration": 4,
    "start_time": "2025-01-09T03:34:54.077Z"
   },
   {
    "duration": 3,
    "start_time": "2025-01-09T03:37:01.859Z"
   },
   {
    "duration": 3,
    "start_time": "2025-01-09T03:37:36.792Z"
   },
   {
    "duration": 3,
    "start_time": "2025-01-09T03:37:41.948Z"
   },
   {
    "duration": 4,
    "start_time": "2025-01-09T03:38:25.180Z"
   },
   {
    "duration": 4,
    "start_time": "2025-01-09T03:38:52.697Z"
   },
   {
    "duration": 2,
    "start_time": "2025-01-09T03:39:00.448Z"
   },
   {
    "duration": 12,
    "start_time": "2025-01-09T03:49:10.104Z"
   },
   {
    "duration": 19,
    "start_time": "2025-01-09T03:50:47.507Z"
   },
   {
    "duration": 23,
    "start_time": "2025-01-09T03:51:24.572Z"
   },
   {
    "duration": 25,
    "start_time": "2025-01-09T03:51:46.183Z"
   },
   {
    "duration": 12,
    "start_time": "2025-01-09T03:51:51.576Z"
   },
   {
    "duration": 12,
    "start_time": "2025-01-09T03:55:49.687Z"
   },
   {
    "duration": 6,
    "start_time": "2025-01-09T04:05:58.625Z"
   },
   {
    "duration": 4,
    "start_time": "2025-01-09T04:06:07.938Z"
   },
   {
    "duration": 3,
    "start_time": "2025-01-09T04:06:43.441Z"
   },
   {
    "duration": 36,
    "start_time": "2025-01-09T04:06:50.753Z"
   },
   {
    "duration": 14,
    "start_time": "2025-01-09T04:38:56.957Z"
   },
   {
    "duration": 4,
    "start_time": "2025-01-09T04:53:01.668Z"
   },
   {
    "duration": 5,
    "start_time": "2025-01-09T04:53:13.827Z"
   },
   {
    "duration": 15,
    "start_time": "2025-01-09T04:54:00.466Z"
   },
   {
    "duration": 12,
    "start_time": "2025-01-09T05:03:24.910Z"
   },
   {
    "duration": 13,
    "start_time": "2025-01-09T05:18:55.397Z"
   },
   {
    "duration": 4,
    "start_time": "2025-01-09T05:19:59.020Z"
   },
   {
    "duration": 6,
    "start_time": "2025-01-09T05:20:43.368Z"
   },
   {
    "duration": 6,
    "start_time": "2025-01-09T05:21:51.689Z"
   },
   {
    "duration": 5,
    "start_time": "2025-01-09T05:23:48.856Z"
   },
   {
    "duration": 4,
    "start_time": "2025-01-09T05:23:55.247Z"
   },
   {
    "duration": 5,
    "start_time": "2025-01-09T05:24:01.135Z"
   },
   {
    "duration": 5,
    "start_time": "2025-01-09T05:24:10.117Z"
   },
   {
    "duration": 4,
    "start_time": "2025-01-09T05:25:55.480Z"
   },
   {
    "duration": 5,
    "start_time": "2025-01-09T05:30:51.877Z"
   },
   {
    "duration": 11,
    "start_time": "2025-01-09T05:31:30.250Z"
   },
   {
    "duration": 4,
    "start_time": "2025-01-09T05:39:19.822Z"
   },
   {
    "duration": 6,
    "start_time": "2025-01-09T05:39:22.468Z"
   },
   {
    "duration": 11,
    "start_time": "2025-01-09T05:40:43.178Z"
   },
   {
    "duration": 121,
    "start_time": "2025-01-09T05:52:25.009Z"
   },
   {
    "duration": 14,
    "start_time": "2025-01-09T06:11:37.303Z"
   },
   {
    "duration": 14,
    "start_time": "2025-01-09T06:12:21.450Z"
   },
   {
    "duration": 118,
    "start_time": "2025-01-09T06:14:44.468Z"
   },
   {
    "duration": 15,
    "start_time": "2025-01-09T06:14:45.338Z"
   },
   {
    "duration": 692,
    "start_time": "2025-01-09T06:23:13.375Z"
   },
   {
    "duration": 689,
    "start_time": "2025-01-09T06:23:20.050Z"
   },
   {
    "duration": 24,
    "start_time": "2025-01-09T06:24:29.870Z"
   },
   {
    "duration": 305,
    "start_time": "2025-01-09T19:33:06.233Z"
   },
   {
    "duration": 156,
    "start_time": "2025-01-09T19:33:06.541Z"
   },
   {
    "duration": 13,
    "start_time": "2025-01-09T19:33:06.698Z"
   },
   {
    "duration": 90,
    "start_time": "2025-01-09T19:33:06.712Z"
   },
   {
    "duration": 57,
    "start_time": "2025-01-09T19:33:06.805Z"
   },
   {
    "duration": 10,
    "start_time": "2025-01-09T19:33:06.863Z"
   },
   {
    "duration": 13,
    "start_time": "2025-01-09T19:33:06.875Z"
   },
   {
    "duration": 9,
    "start_time": "2025-01-09T19:33:06.889Z"
   },
   {
    "duration": 8,
    "start_time": "2025-01-09T19:33:06.900Z"
   },
   {
    "duration": 21,
    "start_time": "2025-01-09T19:33:06.909Z"
   },
   {
    "duration": 10,
    "start_time": "2025-01-09T19:33:06.931Z"
   },
   {
    "duration": 8,
    "start_time": "2025-01-09T19:33:06.942Z"
   },
   {
    "duration": 9,
    "start_time": "2025-01-09T19:33:06.952Z"
   },
   {
    "duration": 802,
    "start_time": "2025-01-09T19:33:06.965Z"
   },
   {
    "duration": 8,
    "start_time": "2025-01-09T19:33:07.769Z"
   },
   {
    "duration": 508,
    "start_time": "2025-01-09T19:33:07.779Z"
   },
   {
    "duration": 86,
    "start_time": "2025-01-09T19:33:08.288Z"
   },
   {
    "duration": 11,
    "start_time": "2025-01-09T19:33:08.376Z"
   },
   {
    "duration": 91,
    "start_time": "2025-01-09T19:33:08.388Z"
   },
   {
    "duration": 89,
    "start_time": "2025-01-09T19:33:08.480Z"
   },
   {
    "duration": 26,
    "start_time": "2025-01-09T19:33:08.570Z"
   },
   {
    "duration": 30,
    "start_time": "2025-01-09T19:33:08.598Z"
   },
   {
    "duration": 4,
    "start_time": "2025-01-09T19:33:08.630Z"
   },
   {
    "duration": 23,
    "start_time": "2025-01-09T19:33:08.637Z"
   },
   {
    "duration": 12,
    "start_time": "2025-01-09T19:33:08.662Z"
   },
   {
    "duration": 5,
    "start_time": "2025-01-09T19:33:08.676Z"
   },
   {
    "duration": 7,
    "start_time": "2025-01-09T19:33:08.683Z"
   },
   {
    "duration": 37,
    "start_time": "2025-01-09T19:33:08.692Z"
   },
   {
    "duration": 4,
    "start_time": "2025-01-09T19:33:08.731Z"
   },
   {
    "duration": 4,
    "start_time": "2025-01-09T19:33:08.737Z"
   },
   {
    "duration": 1432,
    "start_time": "2025-01-09T19:33:08.743Z"
   },
   {
    "duration": 712,
    "start_time": "2025-01-09T19:33:10.177Z"
   },
   {
    "duration": 5,
    "start_time": "2025-01-09T19:33:10.891Z"
   },
   {
    "duration": 187,
    "start_time": "2025-01-09T19:33:10.897Z"
   },
   {
    "duration": 0,
    "start_time": "2025-01-09T19:33:11.086Z"
   },
   {
    "duration": 0,
    "start_time": "2025-01-09T19:33:11.087Z"
   },
   {
    "duration": 0,
    "start_time": "2025-01-09T19:33:11.088Z"
   },
   {
    "duration": 0,
    "start_time": "2025-01-09T19:33:11.089Z"
   },
   {
    "duration": 0,
    "start_time": "2025-01-09T19:33:11.090Z"
   },
   {
    "duration": 0,
    "start_time": "2025-01-09T19:33:11.091Z"
   },
   {
    "duration": 708,
    "start_time": "2025-01-09T19:33:18.131Z"
   },
   {
    "duration": 30,
    "start_time": "2025-01-09T19:33:21.228Z"
   },
   {
    "duration": 142,
    "start_time": "2025-01-09T19:50:13.441Z"
   },
   {
    "duration": 13,
    "start_time": "2025-01-09T19:52:01.500Z"
   },
   {
    "duration": 7,
    "start_time": "2025-01-09T20:10:25.426Z"
   },
   {
    "duration": 193,
    "start_time": "2025-01-09T20:36:29.195Z"
   },
   {
    "duration": 2,
    "start_time": "2025-01-09T20:36:39.434Z"
   },
   {
    "duration": 7,
    "start_time": "2025-01-09T20:39:59.869Z"
   },
   {
    "duration": 45,
    "start_time": "2025-01-09T20:40:12.542Z"
   },
   {
    "duration": 14,
    "start_time": "2025-01-09T20:40:38.783Z"
   },
   {
    "duration": 2,
    "start_time": "2025-01-09T20:41:15.550Z"
   },
   {
    "duration": 6,
    "start_time": "2025-01-09T20:44:40.353Z"
   },
   {
    "duration": 221,
    "start_time": "2025-01-09T20:45:39.041Z"
   },
   {
    "duration": 34,
    "start_time": "2025-01-09T21:03:26.694Z"
   },
   {
    "duration": 6,
    "start_time": "2025-01-09T21:07:30.225Z"
   },
   {
    "duration": 3,
    "start_time": "2025-01-09T21:08:20.219Z"
   },
   {
    "duration": 4,
    "start_time": "2025-01-09T21:08:49.482Z"
   },
   {
    "duration": 24,
    "start_time": "2025-01-09T21:10:28.976Z"
   },
   {
    "duration": 14,
    "start_time": "2025-01-09T21:22:57.312Z"
   },
   {
    "duration": 4,
    "start_time": "2025-01-09T21:23:35.492Z"
   },
   {
    "duration": 12,
    "start_time": "2025-01-09T21:24:47.762Z"
   },
   {
    "duration": 5,
    "start_time": "2025-01-09T21:24:55.134Z"
   },
   {
    "duration": 11,
    "start_time": "2025-01-09T21:24:56.184Z"
   },
   {
    "duration": 13,
    "start_time": "2025-01-09T21:25:20.074Z"
   },
   {
    "duration": 13,
    "start_time": "2025-01-09T21:25:35.288Z"
   },
   {
    "duration": 0,
    "start_time": "2025-01-09T21:25:35.303Z"
   },
   {
    "duration": 0,
    "start_time": "2025-01-09T21:25:35.304Z"
   },
   {
    "duration": 11,
    "start_time": "2025-01-09T21:25:35.310Z"
   },
   {
    "duration": 128,
    "start_time": "2025-01-09T21:25:35.324Z"
   },
   {
    "duration": 14,
    "start_time": "2025-01-09T21:25:35.454Z"
   },
   {
    "duration": 724,
    "start_time": "2025-01-09T21:25:35.470Z"
   },
   {
    "duration": 38,
    "start_time": "2025-01-09T21:25:36.197Z"
   },
   {
    "duration": 12,
    "start_time": "2025-01-09T21:25:36.237Z"
   },
   {
    "duration": 261,
    "start_time": "2025-01-09T21:25:36.252Z"
   },
   {
    "duration": 27,
    "start_time": "2025-01-09T21:25:36.523Z"
   },
   {
    "duration": 12,
    "start_time": "2025-01-09T21:25:51.485Z"
   },
   {
    "duration": 17,
    "start_time": "2025-01-09T21:25:55.354Z"
   },
   {
    "duration": 12,
    "start_time": "2025-01-09T21:26:47.584Z"
   },
   {
    "duration": 5,
    "start_time": "2025-01-09T21:26:55.579Z"
   },
   {
    "duration": 3,
    "start_time": "2025-01-09T21:27:30.848Z"
   },
   {
    "duration": 4,
    "start_time": "2025-01-09T21:27:37.207Z"
   },
   {
    "duration": 2,
    "start_time": "2025-01-09T21:28:06.455Z"
   },
   {
    "duration": 105,
    "start_time": "2025-01-09T21:28:06.460Z"
   },
   {
    "duration": 9,
    "start_time": "2025-01-09T21:28:06.567Z"
   },
   {
    "duration": 83,
    "start_time": "2025-01-09T21:28:06.577Z"
   },
   {
    "duration": 33,
    "start_time": "2025-01-09T21:28:06.664Z"
   },
   {
    "duration": 10,
    "start_time": "2025-01-09T21:28:06.699Z"
   },
   {
    "duration": 14,
    "start_time": "2025-01-09T21:28:06.724Z"
   },
   {
    "duration": 8,
    "start_time": "2025-01-09T21:28:06.739Z"
   },
   {
    "duration": 8,
    "start_time": "2025-01-09T21:28:06.748Z"
   },
   {
    "duration": 7,
    "start_time": "2025-01-09T21:28:06.758Z"
   },
   {
    "duration": 8,
    "start_time": "2025-01-09T21:28:06.767Z"
   },
   {
    "duration": 8,
    "start_time": "2025-01-09T21:28:06.776Z"
   },
   {
    "duration": 42,
    "start_time": "2025-01-09T21:28:06.787Z"
   },
   {
    "duration": 693,
    "start_time": "2025-01-09T21:28:06.830Z"
   },
   {
    "duration": 7,
    "start_time": "2025-01-09T21:28:07.525Z"
   },
   {
    "duration": 504,
    "start_time": "2025-01-09T21:28:07.535Z"
   },
   {
    "duration": 69,
    "start_time": "2025-01-09T21:28:08.041Z"
   },
   {
    "duration": 21,
    "start_time": "2025-01-09T21:28:08.112Z"
   },
   {
    "duration": 89,
    "start_time": "2025-01-09T21:28:08.135Z"
   },
   {
    "duration": 79,
    "start_time": "2025-01-09T21:28:08.226Z"
   },
   {
    "duration": 30,
    "start_time": "2025-01-09T21:28:08.307Z"
   },
   {
    "duration": 12,
    "start_time": "2025-01-09T21:28:08.339Z"
   },
   {
    "duration": 6,
    "start_time": "2025-01-09T21:28:08.352Z"
   },
   {
    "duration": 18,
    "start_time": "2025-01-09T21:28:08.359Z"
   },
   {
    "duration": 10,
    "start_time": "2025-01-09T21:28:08.379Z"
   },
   {
    "duration": 4,
    "start_time": "2025-01-09T21:28:08.423Z"
   },
   {
    "duration": 8,
    "start_time": "2025-01-09T21:28:08.429Z"
   },
   {
    "duration": 9,
    "start_time": "2025-01-09T21:28:08.438Z"
   },
   {
    "duration": 4,
    "start_time": "2025-01-09T21:28:08.448Z"
   },
   {
    "duration": 4,
    "start_time": "2025-01-09T21:28:08.454Z"
   },
   {
    "duration": 1441,
    "start_time": "2025-01-09T21:28:08.461Z"
   },
   {
    "duration": 656,
    "start_time": "2025-01-09T21:28:09.904Z"
   },
   {
    "duration": 5,
    "start_time": "2025-01-09T21:28:10.561Z"
   },
   {
    "duration": 13,
    "start_time": "2025-01-09T21:28:10.567Z"
   },
   {
    "duration": 0,
    "start_time": "2025-01-09T21:28:10.582Z"
   },
   {
    "duration": 0,
    "start_time": "2025-01-09T21:28:10.583Z"
   },
   {
    "duration": 0,
    "start_time": "2025-01-09T21:28:10.584Z"
   },
   {
    "duration": 0,
    "start_time": "2025-01-09T21:28:10.585Z"
   },
   {
    "duration": 0,
    "start_time": "2025-01-09T21:28:10.586Z"
   },
   {
    "duration": 0,
    "start_time": "2025-01-09T21:28:10.587Z"
   },
   {
    "duration": 0,
    "start_time": "2025-01-09T21:28:10.588Z"
   },
   {
    "duration": 0,
    "start_time": "2025-01-09T21:28:10.589Z"
   },
   {
    "duration": 0,
    "start_time": "2025-01-09T21:28:10.590Z"
   },
   {
    "duration": 11,
    "start_time": "2025-01-09T21:28:18.200Z"
   },
   {
    "duration": 14,
    "start_time": "2025-01-09T21:28:20.899Z"
   },
   {
    "duration": 12,
    "start_time": "2025-01-09T21:28:24.366Z"
   },
   {
    "duration": 5,
    "start_time": "2025-01-09T21:28:29.757Z"
   },
   {
    "duration": 22,
    "start_time": "2025-01-09T21:29:09.016Z"
   },
   {
    "duration": 82,
    "start_time": "2025-01-09T21:29:17.804Z"
   },
   {
    "duration": 72,
    "start_time": "2025-01-09T21:29:18.851Z"
   },
   {
    "duration": 33,
    "start_time": "2025-01-09T21:36:26.142Z"
   },
   {
    "duration": 12,
    "start_time": "2025-01-09T21:36:28.969Z"
   },
   {
    "duration": 24,
    "start_time": "2025-01-09T21:36:32.277Z"
   },
   {
    "duration": 33,
    "start_time": "2025-01-09T21:36:52.656Z"
   },
   {
    "duration": 10,
    "start_time": "2025-01-09T21:36:58.164Z"
   },
   {
    "duration": 17,
    "start_time": "2025-01-09T21:36:58.176Z"
   },
   {
    "duration": 8,
    "start_time": "2025-01-09T21:36:58.195Z"
   },
   {
    "duration": 7,
    "start_time": "2025-01-09T21:36:58.206Z"
   },
   {
    "duration": 10,
    "start_time": "2025-01-09T21:36:58.214Z"
   },
   {
    "duration": 9,
    "start_time": "2025-01-09T21:36:58.227Z"
   },
   {
    "duration": 8,
    "start_time": "2025-01-09T21:36:58.238Z"
   },
   {
    "duration": 9,
    "start_time": "2025-01-09T21:36:58.247Z"
   },
   {
    "duration": 704,
    "start_time": "2025-01-09T21:36:58.257Z"
   },
   {
    "duration": 7,
    "start_time": "2025-01-09T21:36:58.965Z"
   },
   {
    "duration": 497,
    "start_time": "2025-01-09T21:36:58.973Z"
   },
   {
    "duration": 87,
    "start_time": "2025-01-09T21:36:59.472Z"
   },
   {
    "duration": 11,
    "start_time": "2025-01-09T21:36:59.561Z"
   },
   {
    "duration": 85,
    "start_time": "2025-01-09T21:36:59.574Z"
   },
   {
    "duration": 73,
    "start_time": "2025-01-09T21:36:59.660Z"
   },
   {
    "duration": 23,
    "start_time": "2025-01-09T21:36:59.734Z"
   },
   {
    "duration": 13,
    "start_time": "2025-01-09T21:36:59.759Z"
   },
   {
    "duration": 3,
    "start_time": "2025-01-09T21:36:59.774Z"
   },
   {
    "duration": 18,
    "start_time": "2025-01-09T21:36:59.779Z"
   },
   {
    "duration": 11,
    "start_time": "2025-01-09T21:36:59.824Z"
   },
   {
    "duration": 5,
    "start_time": "2025-01-09T21:36:59.836Z"
   },
   {
    "duration": 8,
    "start_time": "2025-01-09T21:36:59.842Z"
   },
   {
    "duration": 10,
    "start_time": "2025-01-09T21:36:59.851Z"
   },
   {
    "duration": 3,
    "start_time": "2025-01-09T21:36:59.863Z"
   },
   {
    "duration": 4,
    "start_time": "2025-01-09T21:36:59.868Z"
   },
   {
    "duration": 1451,
    "start_time": "2025-01-09T21:36:59.875Z"
   },
   {
    "duration": 669,
    "start_time": "2025-01-09T21:37:01.327Z"
   },
   {
    "duration": 5,
    "start_time": "2025-01-09T21:37:02.000Z"
   },
   {
    "duration": 25,
    "start_time": "2025-01-09T21:37:02.007Z"
   },
   {
    "duration": 0,
    "start_time": "2025-01-09T21:37:02.033Z"
   },
   {
    "duration": 0,
    "start_time": "2025-01-09T21:37:02.034Z"
   },
   {
    "duration": 0,
    "start_time": "2025-01-09T21:37:02.035Z"
   },
   {
    "duration": 0,
    "start_time": "2025-01-09T21:37:02.036Z"
   },
   {
    "duration": 0,
    "start_time": "2025-01-09T21:37:02.037Z"
   },
   {
    "duration": 0,
    "start_time": "2025-01-09T21:37:02.038Z"
   },
   {
    "duration": 0,
    "start_time": "2025-01-09T21:37:02.039Z"
   },
   {
    "duration": 0,
    "start_time": "2025-01-09T21:37:02.040Z"
   },
   {
    "duration": 0,
    "start_time": "2025-01-09T21:37:02.041Z"
   },
   {
    "duration": 0,
    "start_time": "2025-01-09T21:37:02.043Z"
   },
   {
    "duration": 33,
    "start_time": "2025-01-09T21:37:28.173Z"
   },
   {
    "duration": 4,
    "start_time": "2025-01-09T21:38:31.440Z"
   },
   {
    "duration": 414,
    "start_time": "2025-01-09T21:42:44.277Z"
   },
   {
    "duration": 42,
    "start_time": "2025-01-09T21:43:08.612Z"
   },
   {
    "duration": 4,
    "start_time": "2025-01-09T21:43:23.180Z"
   },
   {
    "duration": 11,
    "start_time": "2025-01-09T21:43:26.571Z"
   },
   {
    "duration": 12,
    "start_time": "2025-01-09T21:43:27.562Z"
   },
   {
    "duration": 5,
    "start_time": "2025-01-09T21:44:01.387Z"
   },
   {
    "duration": 12,
    "start_time": "2025-01-09T21:45:43.091Z"
   },
   {
    "duration": 7,
    "start_time": "2025-01-09T21:45:58.024Z"
   },
   {
    "duration": 7,
    "start_time": "2025-01-09T21:46:17.531Z"
   },
   {
    "duration": 16,
    "start_time": "2025-01-09T21:46:22.865Z"
   },
   {
    "duration": 12,
    "start_time": "2025-01-09T21:46:30.444Z"
   },
   {
    "duration": 13,
    "start_time": "2025-01-09T21:46:42.223Z"
   },
   {
    "duration": 693,
    "start_time": "2025-01-09T21:46:50.929Z"
   },
   {
    "duration": 31,
    "start_time": "2025-01-09T21:46:51.624Z"
   },
   {
    "duration": 13,
    "start_time": "2025-01-09T21:46:51.657Z"
   },
   {
    "duration": 262,
    "start_time": "2025-01-09T21:46:51.674Z"
   },
   {
    "duration": 27,
    "start_time": "2025-01-09T21:46:51.937Z"
   },
   {
    "duration": 23,
    "start_time": "2025-01-09T22:20:13.551Z"
   },
   {
    "duration": 2064,
    "start_time": "2025-01-09T22:24:53.233Z"
   },
   {
    "duration": 161,
    "start_time": "2025-01-09T22:25:58.281Z"
   },
   {
    "duration": 152,
    "start_time": "2025-01-09T22:26:12.905Z"
   },
   {
    "duration": 151,
    "start_time": "2025-01-09T22:26:24.416Z"
   },
   {
    "duration": 233,
    "start_time": "2025-01-09T22:28:07.944Z"
   },
   {
    "duration": 151,
    "start_time": "2025-01-09T22:28:36.007Z"
   },
   {
    "duration": 163,
    "start_time": "2025-01-09T22:28:48.006Z"
   },
   {
    "duration": 3,
    "start_time": "2025-01-09T22:29:21.677Z"
   },
   {
    "duration": 187,
    "start_time": "2025-01-09T22:29:25.816Z"
   },
   {
    "duration": 142,
    "start_time": "2025-01-09T22:32:41.908Z"
   },
   {
    "duration": 146,
    "start_time": "2025-01-09T22:33:30.456Z"
   },
   {
    "duration": 148,
    "start_time": "2025-01-09T22:34:27.695Z"
   },
   {
    "duration": 143,
    "start_time": "2025-01-09T22:34:39.071Z"
   },
   {
    "duration": 454,
    "start_time": "2025-01-10T01:36:25.239Z"
   },
   {
    "duration": 159,
    "start_time": "2025-01-10T01:36:25.695Z"
   },
   {
    "duration": 11,
    "start_time": "2025-01-10T01:36:25.856Z"
   },
   {
    "duration": 115,
    "start_time": "2025-01-10T01:36:25.870Z"
   },
   {
    "duration": 46,
    "start_time": "2025-01-10T01:36:25.986Z"
   },
   {
    "duration": 10,
    "start_time": "2025-01-10T01:36:26.034Z"
   },
   {
    "duration": 14,
    "start_time": "2025-01-10T01:36:26.045Z"
   },
   {
    "duration": 8,
    "start_time": "2025-01-10T01:36:26.062Z"
   },
   {
    "duration": 8,
    "start_time": "2025-01-10T01:36:26.071Z"
   },
   {
    "duration": 8,
    "start_time": "2025-01-10T01:36:26.082Z"
   },
   {
    "duration": 34,
    "start_time": "2025-01-10T01:36:26.091Z"
   },
   {
    "duration": 7,
    "start_time": "2025-01-10T01:36:26.126Z"
   },
   {
    "duration": 8,
    "start_time": "2025-01-10T01:36:26.135Z"
   },
   {
    "duration": 727,
    "start_time": "2025-01-10T01:36:26.146Z"
   },
   {
    "duration": 7,
    "start_time": "2025-01-10T01:36:26.874Z"
   },
   {
    "duration": 491,
    "start_time": "2025-01-10T01:36:26.883Z"
   },
   {
    "duration": 85,
    "start_time": "2025-01-10T01:36:27.376Z"
   },
   {
    "duration": 11,
    "start_time": "2025-01-10T01:36:27.463Z"
   },
   {
    "duration": 107,
    "start_time": "2025-01-10T01:36:27.475Z"
   },
   {
    "duration": 106,
    "start_time": "2025-01-10T01:36:27.584Z"
   },
   {
    "duration": 34,
    "start_time": "2025-01-10T01:36:27.692Z"
   },
   {
    "duration": 17,
    "start_time": "2025-01-10T01:36:27.728Z"
   },
   {
    "duration": 4,
    "start_time": "2025-01-10T01:36:27.746Z"
   },
   {
    "duration": 18,
    "start_time": "2025-01-10T01:36:27.752Z"
   },
   {
    "duration": 9,
    "start_time": "2025-01-10T01:36:27.772Z"
   },
   {
    "duration": 4,
    "start_time": "2025-01-10T01:36:27.782Z"
   },
   {
    "duration": 42,
    "start_time": "2025-01-10T01:36:27.788Z"
   },
   {
    "duration": 9,
    "start_time": "2025-01-10T01:36:27.835Z"
   },
   {
    "duration": 4,
    "start_time": "2025-01-10T01:36:27.846Z"
   },
   {
    "duration": 5,
    "start_time": "2025-01-10T01:36:27.851Z"
   },
   {
    "duration": 1467,
    "start_time": "2025-01-10T01:36:27.858Z"
   },
   {
    "duration": 657,
    "start_time": "2025-01-10T01:36:29.326Z"
   },
   {
    "duration": 4,
    "start_time": "2025-01-10T01:36:29.985Z"
   },
   {
    "duration": 6,
    "start_time": "2025-01-10T01:36:29.991Z"
   },
   {
    "duration": 25,
    "start_time": "2025-01-10T01:36:29.999Z"
   },
   {
    "duration": 11,
    "start_time": "2025-01-10T01:36:30.027Z"
   },
   {
    "duration": 10,
    "start_time": "2025-01-10T01:36:30.040Z"
   },
   {
    "duration": 118,
    "start_time": "2025-01-10T01:36:30.052Z"
   },
   {
    "duration": 14,
    "start_time": "2025-01-10T01:36:30.172Z"
   },
   {
    "duration": 733,
    "start_time": "2025-01-10T01:36:30.188Z"
   },
   {
    "duration": 30,
    "start_time": "2025-01-10T01:36:30.923Z"
   },
   {
    "duration": 12,
    "start_time": "2025-01-10T01:36:30.955Z"
   },
   {
    "duration": 284,
    "start_time": "2025-01-10T01:36:30.970Z"
   },
   {
    "duration": 27,
    "start_time": "2025-01-10T01:36:31.256Z"
   },
   {
    "duration": 13,
    "start_time": "2025-01-10T01:43:57.041Z"
   },
   {
    "duration": 38,
    "start_time": "2025-01-10T01:48:56.630Z"
   },
   {
    "duration": 5,
    "start_time": "2025-01-10T01:51:43.273Z"
   },
   {
    "duration": 21,
    "start_time": "2025-01-10T01:51:55.900Z"
   },
   {
    "duration": 57,
    "start_time": "2025-01-10T02:05:19.397Z"
   },
   {
    "duration": 26,
    "start_time": "2025-01-10T02:15:32.411Z"
   },
   {
    "duration": 20,
    "start_time": "2025-01-10T02:15:34.303Z"
   },
   {
    "duration": 4,
    "start_time": "2025-01-10T02:16:28.472Z"
   },
   {
    "duration": 191,
    "start_time": "2025-01-10T02:16:57.967Z"
   },
   {
    "duration": 197,
    "start_time": "2025-01-10T02:17:31.478Z"
   },
   {
    "duration": 142,
    "start_time": "2025-01-10T02:19:21.677Z"
   },
   {
    "duration": 186,
    "start_time": "2025-01-10T02:25:02.671Z"
   },
   {
    "duration": 138,
    "start_time": "2025-01-10T02:25:07.480Z"
   },
   {
    "duration": 16,
    "start_time": "2025-01-10T03:00:37.885Z"
   },
   {
    "duration": 217,
    "start_time": "2025-01-10T03:00:49.802Z"
   },
   {
    "duration": 1237,
    "start_time": "2025-01-10T03:01:02.248Z"
   },
   {
    "duration": 182,
    "start_time": "2025-01-10T03:01:33.714Z"
   },
   {
    "duration": 175,
    "start_time": "2025-01-10T03:02:48.055Z"
   },
   {
    "duration": 174,
    "start_time": "2025-01-10T03:05:41.615Z"
   },
   {
    "duration": 166,
    "start_time": "2025-01-10T03:05:47.302Z"
   },
   {
    "duration": 189,
    "start_time": "2025-01-10T03:12:11.761Z"
   },
   {
    "duration": 188,
    "start_time": "2025-01-10T03:12:21.827Z"
   },
   {
    "duration": 34,
    "start_time": "2025-01-10T03:13:31.770Z"
   },
   {
    "duration": 160,
    "start_time": "2025-01-10T03:29:42.477Z"
   },
   {
    "duration": 459,
    "start_time": "2025-01-10T03:33:59.874Z"
   },
   {
    "duration": 153,
    "start_time": "2025-01-10T03:34:00.335Z"
   },
   {
    "duration": 12,
    "start_time": "2025-01-10T03:34:00.490Z"
   },
   {
    "duration": 120,
    "start_time": "2025-01-10T03:34:00.504Z"
   },
   {
    "duration": 58,
    "start_time": "2025-01-10T03:34:00.625Z"
   },
   {
    "duration": 10,
    "start_time": "2025-01-10T03:34:00.685Z"
   },
   {
    "duration": 14,
    "start_time": "2025-01-10T03:34:00.696Z"
   },
   {
    "duration": 9,
    "start_time": "2025-01-10T03:34:00.711Z"
   },
   {
    "duration": 9,
    "start_time": "2025-01-10T03:34:00.721Z"
   },
   {
    "duration": 8,
    "start_time": "2025-01-10T03:34:00.733Z"
   },
   {
    "duration": 10,
    "start_time": "2025-01-10T03:34:00.742Z"
   },
   {
    "duration": 8,
    "start_time": "2025-01-10T03:34:00.754Z"
   },
   {
    "duration": 9,
    "start_time": "2025-01-10T03:34:00.763Z"
   },
   {
    "duration": 796,
    "start_time": "2025-01-10T03:34:00.773Z"
   },
   {
    "duration": 7,
    "start_time": "2025-01-10T03:34:01.570Z"
   },
   {
    "duration": 504,
    "start_time": "2025-01-10T03:34:01.579Z"
   },
   {
    "duration": 84,
    "start_time": "2025-01-10T03:34:02.085Z"
   },
   {
    "duration": 10,
    "start_time": "2025-01-10T03:34:02.171Z"
   },
   {
    "duration": 90,
    "start_time": "2025-01-10T03:34:02.183Z"
   },
   {
    "duration": 93,
    "start_time": "2025-01-10T03:34:02.274Z"
   },
   {
    "duration": 26,
    "start_time": "2025-01-10T03:34:02.368Z"
   },
   {
    "duration": 12,
    "start_time": "2025-01-10T03:34:02.396Z"
   },
   {
    "duration": 4,
    "start_time": "2025-01-10T03:34:02.424Z"
   },
   {
    "duration": 18,
    "start_time": "2025-01-10T03:34:02.429Z"
   },
   {
    "duration": 10,
    "start_time": "2025-01-10T03:34:02.448Z"
   },
   {
    "duration": 4,
    "start_time": "2025-01-10T03:34:02.460Z"
   },
   {
    "duration": 8,
    "start_time": "2025-01-10T03:34:02.466Z"
   },
   {
    "duration": 7,
    "start_time": "2025-01-10T03:34:02.478Z"
   },
   {
    "duration": 41,
    "start_time": "2025-01-10T03:34:02.486Z"
   },
   {
    "duration": 5,
    "start_time": "2025-01-10T03:34:02.529Z"
   },
   {
    "duration": 769,
    "start_time": "2025-01-10T03:34:02.536Z"
   },
   {
    "duration": 483,
    "start_time": "2025-01-10T03:37:17.433Z"
   },
   {
    "duration": 222,
    "start_time": "2025-01-10T03:37:17.919Z"
   },
   {
    "duration": 12,
    "start_time": "2025-01-10T03:37:18.146Z"
   },
   {
    "duration": 125,
    "start_time": "2025-01-10T03:37:18.160Z"
   },
   {
    "duration": 56,
    "start_time": "2025-01-10T03:37:18.288Z"
   },
   {
    "duration": 10,
    "start_time": "2025-01-10T03:37:18.346Z"
   },
   {
    "duration": 15,
    "start_time": "2025-01-10T03:37:18.358Z"
   },
   {
    "duration": 10,
    "start_time": "2025-01-10T03:37:18.375Z"
   },
   {
    "duration": 9,
    "start_time": "2025-01-10T03:37:18.387Z"
   },
   {
    "duration": 32,
    "start_time": "2025-01-10T03:37:18.397Z"
   },
   {
    "duration": 9,
    "start_time": "2025-01-10T03:37:18.432Z"
   },
   {
    "duration": 8,
    "start_time": "2025-01-10T03:37:18.443Z"
   },
   {
    "duration": 9,
    "start_time": "2025-01-10T03:37:18.454Z"
   },
   {
    "duration": 833,
    "start_time": "2025-01-10T03:37:18.468Z"
   },
   {
    "duration": 8,
    "start_time": "2025-01-10T03:37:19.303Z"
   },
   {
    "duration": 512,
    "start_time": "2025-01-10T03:37:19.313Z"
   },
   {
    "duration": 100,
    "start_time": "2025-01-10T03:37:19.827Z"
   },
   {
    "duration": 11,
    "start_time": "2025-01-10T03:37:19.929Z"
   },
   {
    "duration": 103,
    "start_time": "2025-01-10T03:37:19.942Z"
   },
   {
    "duration": 110,
    "start_time": "2025-01-10T03:37:20.047Z"
   },
   {
    "duration": 36,
    "start_time": "2025-01-10T03:37:20.159Z"
   },
   {
    "duration": 28,
    "start_time": "2025-01-10T03:37:20.197Z"
   },
   {
    "duration": 4,
    "start_time": "2025-01-10T03:37:20.227Z"
   },
   {
    "duration": 21,
    "start_time": "2025-01-10T03:37:20.234Z"
   },
   {
    "duration": 16,
    "start_time": "2025-01-10T03:37:20.257Z"
   },
   {
    "duration": 5,
    "start_time": "2025-01-10T03:37:20.276Z"
   },
   {
    "duration": 46,
    "start_time": "2025-01-10T03:37:20.283Z"
   },
   {
    "duration": 9,
    "start_time": "2025-01-10T03:37:20.330Z"
   },
   {
    "duration": 5,
    "start_time": "2025-01-10T03:37:20.341Z"
   },
   {
    "duration": 5,
    "start_time": "2025-01-10T03:37:20.348Z"
   },
   {
    "duration": 892,
    "start_time": "2025-01-10T03:37:20.354Z"
   },
   {
    "duration": 788,
    "start_time": "2025-01-10T03:37:21.248Z"
   },
   {
    "duration": 6,
    "start_time": "2025-01-10T03:37:22.037Z"
   },
   {
    "duration": 6,
    "start_time": "2025-01-10T03:37:22.045Z"
   },
   {
    "duration": 7,
    "start_time": "2025-01-10T03:37:22.052Z"
   },
   {
    "duration": 7,
    "start_time": "2025-01-10T03:37:22.062Z"
   },
   {
    "duration": 15,
    "start_time": "2025-01-10T03:37:22.072Z"
   },
   {
    "duration": 14,
    "start_time": "2025-01-10T03:37:22.123Z"
   },
   {
    "duration": 34,
    "start_time": "2025-01-10T03:37:22.139Z"
   },
   {
    "duration": 15,
    "start_time": "2025-01-10T03:37:22.176Z"
   },
   {
    "duration": 385,
    "start_time": "2025-01-10T03:37:22.196Z"
   },
   {
    "duration": 60,
    "start_time": "2025-01-10T03:37:22.583Z"
   },
   {
    "duration": 26,
    "start_time": "2025-01-10T03:37:22.645Z"
   },
   {
    "duration": 21,
    "start_time": "2025-01-10T03:37:22.673Z"
   },
   {
    "duration": 233,
    "start_time": "2025-01-10T03:37:22.696Z"
   },
   {
    "duration": 139,
    "start_time": "2025-01-10T03:37:22.931Z"
   },
   {
    "duration": 14,
    "start_time": "2025-01-10T03:43:43.425Z"
   },
   {
    "duration": 15,
    "start_time": "2025-01-10T03:43:47.518Z"
   },
   {
    "duration": 520,
    "start_time": "2025-01-10T03:43:56.473Z"
   },
   {
    "duration": 163,
    "start_time": "2025-01-10T03:43:56.996Z"
   },
   {
    "duration": 11,
    "start_time": "2025-01-10T03:43:57.160Z"
   },
   {
    "duration": 108,
    "start_time": "2025-01-10T03:43:57.174Z"
   },
   {
    "duration": 55,
    "start_time": "2025-01-10T03:43:57.284Z"
   },
   {
    "duration": 10,
    "start_time": "2025-01-10T03:43:57.340Z"
   },
   {
    "duration": 14,
    "start_time": "2025-01-10T03:43:57.352Z"
   },
   {
    "duration": 8,
    "start_time": "2025-01-10T03:43:57.367Z"
   },
   {
    "duration": 8,
    "start_time": "2025-01-10T03:43:57.377Z"
   },
   {
    "duration": 12,
    "start_time": "2025-01-10T03:43:57.389Z"
   },
   {
    "duration": 10,
    "start_time": "2025-01-10T03:43:57.424Z"
   },
   {
    "duration": 9,
    "start_time": "2025-01-10T03:43:57.436Z"
   },
   {
    "duration": 10,
    "start_time": "2025-01-10T03:43:57.446Z"
   },
   {
    "duration": 841,
    "start_time": "2025-01-10T03:43:57.459Z"
   },
   {
    "duration": 7,
    "start_time": "2025-01-10T03:43:58.301Z"
   },
   {
    "duration": 495,
    "start_time": "2025-01-10T03:43:58.310Z"
   },
   {
    "duration": 82,
    "start_time": "2025-01-10T03:43:58.806Z"
   },
   {
    "duration": 11,
    "start_time": "2025-01-10T03:43:58.889Z"
   },
   {
    "duration": 96,
    "start_time": "2025-01-10T03:43:58.902Z"
   },
   {
    "duration": 94,
    "start_time": "2025-01-10T03:43:58.999Z"
   },
   {
    "duration": 40,
    "start_time": "2025-01-10T03:43:59.094Z"
   },
   {
    "duration": 12,
    "start_time": "2025-01-10T03:43:59.135Z"
   },
   {
    "duration": 4,
    "start_time": "2025-01-10T03:43:59.149Z"
   },
   {
    "duration": 20,
    "start_time": "2025-01-10T03:43:59.154Z"
   },
   {
    "duration": 10,
    "start_time": "2025-01-10T03:43:59.176Z"
   },
   {
    "duration": 5,
    "start_time": "2025-01-10T03:43:59.187Z"
   },
   {
    "duration": 8,
    "start_time": "2025-01-10T03:43:59.224Z"
   },
   {
    "duration": 8,
    "start_time": "2025-01-10T03:43:59.236Z"
   },
   {
    "duration": 5,
    "start_time": "2025-01-10T03:43:59.246Z"
   },
   {
    "duration": 5,
    "start_time": "2025-01-10T03:43:59.252Z"
   },
   {
    "duration": 788,
    "start_time": "2025-01-10T03:43:59.259Z"
   },
   {
    "duration": 675,
    "start_time": "2025-01-10T03:44:00.049Z"
   },
   {
    "duration": 5,
    "start_time": "2025-01-10T03:44:00.726Z"
   },
   {
    "duration": 6,
    "start_time": "2025-01-10T03:44:00.734Z"
   },
   {
    "duration": 7,
    "start_time": "2025-01-10T03:44:00.741Z"
   },
   {
    "duration": 4,
    "start_time": "2025-01-10T03:44:00.750Z"
   },
   {
    "duration": 11,
    "start_time": "2025-01-10T03:44:00.756Z"
   },
   {
    "duration": 13,
    "start_time": "2025-01-10T03:44:00.769Z"
   },
   {
    "duration": 67,
    "start_time": "2025-01-10T03:44:00.784Z"
   },
   {
    "duration": 12,
    "start_time": "2025-01-10T03:44:00.854Z"
   },
   {
    "duration": 285,
    "start_time": "2025-01-10T03:44:00.867Z"
   },
   {
    "duration": 50,
    "start_time": "2025-01-10T03:44:01.154Z"
   },
   {
    "duration": 38,
    "start_time": "2025-01-10T03:44:01.206Z"
   },
   {
    "duration": 21,
    "start_time": "2025-01-10T03:44:01.245Z"
   },
   {
    "duration": 216,
    "start_time": "2025-01-10T03:44:01.267Z"
   },
   {
    "duration": 140,
    "start_time": "2025-01-10T03:44:01.485Z"
   },
   {
    "duration": 158,
    "start_time": "2025-01-10T03:48:10.550Z"
   },
   {
    "duration": 12,
    "start_time": "2025-01-10T03:48:13.724Z"
   },
   {
    "duration": 475,
    "start_time": "2025-01-10T03:48:22.660Z"
   },
   {
    "duration": 155,
    "start_time": "2025-01-10T03:48:23.137Z"
   },
   {
    "duration": 14,
    "start_time": "2025-01-10T03:48:23.293Z"
   },
   {
    "duration": 108,
    "start_time": "2025-01-10T03:48:23.308Z"
   },
   {
    "duration": 54,
    "start_time": "2025-01-10T03:48:23.425Z"
   },
   {
    "duration": 9,
    "start_time": "2025-01-10T03:48:23.481Z"
   },
   {
    "duration": 14,
    "start_time": "2025-01-10T03:48:23.492Z"
   },
   {
    "duration": 9,
    "start_time": "2025-01-10T03:48:23.507Z"
   },
   {
    "duration": 13,
    "start_time": "2025-01-10T03:48:23.517Z"
   },
   {
    "duration": 8,
    "start_time": "2025-01-10T03:48:23.531Z"
   },
   {
    "duration": 8,
    "start_time": "2025-01-10T03:48:23.542Z"
   },
   {
    "duration": 7,
    "start_time": "2025-01-10T03:48:23.552Z"
   },
   {
    "duration": 8,
    "start_time": "2025-01-10T03:48:23.560Z"
   },
   {
    "duration": 798,
    "start_time": "2025-01-10T03:48:23.572Z"
   },
   {
    "duration": 7,
    "start_time": "2025-01-10T03:48:24.372Z"
   },
   {
    "duration": 505,
    "start_time": "2025-01-10T03:48:24.381Z"
   },
   {
    "duration": 117,
    "start_time": "2025-01-10T03:48:24.887Z"
   },
   {
    "duration": 17,
    "start_time": "2025-01-10T03:48:25.008Z"
   },
   {
    "duration": 115,
    "start_time": "2025-01-10T03:48:25.027Z"
   },
   {
    "duration": 93,
    "start_time": "2025-01-10T03:48:25.144Z"
   },
   {
    "duration": 27,
    "start_time": "2025-01-10T03:48:25.238Z"
   },
   {
    "duration": 12,
    "start_time": "2025-01-10T03:48:25.267Z"
   },
   {
    "duration": 5,
    "start_time": "2025-01-10T03:48:25.280Z"
   },
   {
    "duration": 45,
    "start_time": "2025-01-10T03:48:25.286Z"
   },
   {
    "duration": 10,
    "start_time": "2025-01-10T03:48:25.333Z"
   },
   {
    "duration": 4,
    "start_time": "2025-01-10T03:48:25.345Z"
   },
   {
    "duration": 8,
    "start_time": "2025-01-10T03:48:25.351Z"
   },
   {
    "duration": 9,
    "start_time": "2025-01-10T03:48:25.360Z"
   },
   {
    "duration": 4,
    "start_time": "2025-01-10T03:48:25.371Z"
   },
   {
    "duration": 4,
    "start_time": "2025-01-10T03:48:25.377Z"
   },
   {
    "duration": 783,
    "start_time": "2025-01-10T03:48:25.383Z"
   },
   {
    "duration": 654,
    "start_time": "2025-01-10T03:48:26.167Z"
   },
   {
    "duration": 5,
    "start_time": "2025-01-10T03:48:26.824Z"
   },
   {
    "duration": 9,
    "start_time": "2025-01-10T03:48:26.831Z"
   },
   {
    "duration": 15,
    "start_time": "2025-01-10T03:48:26.842Z"
   },
   {
    "duration": 8,
    "start_time": "2025-01-10T03:48:26.858Z"
   },
   {
    "duration": 15,
    "start_time": "2025-01-10T03:48:26.868Z"
   },
   {
    "duration": 15,
    "start_time": "2025-01-10T03:48:26.884Z"
   },
   {
    "duration": 44,
    "start_time": "2025-01-10T03:48:26.901Z"
   },
   {
    "duration": 14,
    "start_time": "2025-01-10T03:48:26.947Z"
   },
   {
    "duration": 287,
    "start_time": "2025-01-10T03:48:26.966Z"
   },
   {
    "duration": 45,
    "start_time": "2025-01-10T03:48:27.255Z"
   },
   {
    "duration": 37,
    "start_time": "2025-01-10T03:48:27.302Z"
   },
   {
    "duration": 21,
    "start_time": "2025-01-10T03:48:27.341Z"
   },
   {
    "duration": 222,
    "start_time": "2025-01-10T03:48:27.363Z"
   },
   {
    "duration": 138,
    "start_time": "2025-01-10T03:48:27.586Z"
   },
   {
    "duration": 160,
    "start_time": "2025-01-10T03:49:19.204Z"
   },
   {
    "duration": 13,
    "start_time": "2025-01-10T03:49:23.534Z"
   },
   {
    "duration": 447,
    "start_time": "2025-01-10T03:49:33.390Z"
   },
   {
    "duration": 143,
    "start_time": "2025-01-10T03:49:33.839Z"
   },
   {
    "duration": 12,
    "start_time": "2025-01-10T03:49:33.984Z"
   },
   {
    "duration": 120,
    "start_time": "2025-01-10T03:49:33.999Z"
   },
   {
    "duration": 37,
    "start_time": "2025-01-10T03:49:34.121Z"
   },
   {
    "duration": 9,
    "start_time": "2025-01-10T03:49:34.160Z"
   },
   {
    "duration": 14,
    "start_time": "2025-01-10T03:49:34.170Z"
   },
   {
    "duration": 7,
    "start_time": "2025-01-10T03:49:34.185Z"
   },
   {
    "duration": 30,
    "start_time": "2025-01-10T03:49:34.194Z"
   },
   {
    "duration": 8,
    "start_time": "2025-01-10T03:49:34.227Z"
   },
   {
    "duration": 10,
    "start_time": "2025-01-10T03:49:34.237Z"
   },
   {
    "duration": 7,
    "start_time": "2025-01-10T03:49:34.249Z"
   },
   {
    "duration": 8,
    "start_time": "2025-01-10T03:49:34.258Z"
   },
   {
    "duration": 749,
    "start_time": "2025-01-10T03:49:34.267Z"
   },
   {
    "duration": 12,
    "start_time": "2025-01-10T03:49:35.018Z"
   },
   {
    "duration": 520,
    "start_time": "2025-01-10T03:49:35.032Z"
   },
   {
    "duration": 88,
    "start_time": "2025-01-10T03:49:35.554Z"
   },
   {
    "duration": 12,
    "start_time": "2025-01-10T03:49:35.644Z"
   },
   {
    "duration": 101,
    "start_time": "2025-01-10T03:49:35.657Z"
   },
   {
    "duration": 111,
    "start_time": "2025-01-10T03:49:35.759Z"
   },
   {
    "duration": 31,
    "start_time": "2025-01-10T03:49:35.872Z"
   },
   {
    "duration": 22,
    "start_time": "2025-01-10T03:49:35.908Z"
   },
   {
    "duration": 4,
    "start_time": "2025-01-10T03:49:35.932Z"
   },
   {
    "duration": 20,
    "start_time": "2025-01-10T03:49:35.938Z"
   },
   {
    "duration": 11,
    "start_time": "2025-01-10T03:49:35.960Z"
   },
   {
    "duration": 4,
    "start_time": "2025-01-10T03:49:35.973Z"
   },
   {
    "duration": 9,
    "start_time": "2025-01-10T03:49:35.979Z"
   },
   {
    "duration": 10,
    "start_time": "2025-01-10T03:49:36.027Z"
   },
   {
    "duration": 5,
    "start_time": "2025-01-10T03:49:36.038Z"
   },
   {
    "duration": 5,
    "start_time": "2025-01-10T03:49:36.045Z"
   },
   {
    "duration": 822,
    "start_time": "2025-01-10T03:49:36.052Z"
   },
   {
    "duration": 731,
    "start_time": "2025-01-10T03:49:36.877Z"
   },
   {
    "duration": 13,
    "start_time": "2025-01-10T03:49:37.610Z"
   },
   {
    "duration": 12,
    "start_time": "2025-01-10T03:49:37.625Z"
   },
   {
    "duration": 6,
    "start_time": "2025-01-10T03:49:37.639Z"
   },
   {
    "duration": 5,
    "start_time": "2025-01-10T03:49:37.647Z"
   },
   {
    "duration": 11,
    "start_time": "2025-01-10T03:49:37.653Z"
   },
   {
    "duration": 14,
    "start_time": "2025-01-10T03:49:37.666Z"
   },
   {
    "duration": 65,
    "start_time": "2025-01-10T03:49:37.681Z"
   },
   {
    "duration": 13,
    "start_time": "2025-01-10T03:49:37.748Z"
   },
   {
    "duration": 348,
    "start_time": "2025-01-10T03:49:37.764Z"
   },
   {
    "duration": 54,
    "start_time": "2025-01-10T03:49:38.114Z"
   },
   {
    "duration": 30,
    "start_time": "2025-01-10T03:49:38.170Z"
   },
   {
    "duration": 41,
    "start_time": "2025-01-10T03:49:38.202Z"
   },
   {
    "duration": 219,
    "start_time": "2025-01-10T03:49:38.245Z"
   },
   {
    "duration": 137,
    "start_time": "2025-01-10T03:49:38.466Z"
   },
   {
    "duration": 167,
    "start_time": "2025-01-10T03:53:42.023Z"
   },
   {
    "duration": 11,
    "start_time": "2025-01-10T03:55:17.552Z"
   },
   {
    "duration": 443,
    "start_time": "2025-01-10T03:55:27.105Z"
   },
   {
    "duration": 177,
    "start_time": "2025-01-10T03:55:27.685Z"
   },
   {
    "duration": 12,
    "start_time": "2025-01-10T03:55:34.262Z"
   },
   {
    "duration": 111,
    "start_time": "2025-01-10T03:55:34.276Z"
   },
   {
    "duration": 56,
    "start_time": "2025-01-10T03:55:34.390Z"
   },
   {
    "duration": 11,
    "start_time": "2025-01-10T03:55:34.448Z"
   },
   {
    "duration": 17,
    "start_time": "2025-01-10T03:55:34.461Z"
   },
   {
    "duration": 9,
    "start_time": "2025-01-10T03:55:34.479Z"
   },
   {
    "duration": 7,
    "start_time": "2025-01-10T03:55:34.490Z"
   },
   {
    "duration": 30,
    "start_time": "2025-01-10T03:55:34.499Z"
   },
   {
    "duration": 9,
    "start_time": "2025-01-10T03:55:34.532Z"
   },
   {
    "duration": 9,
    "start_time": "2025-01-10T03:55:34.543Z"
   },
   {
    "duration": 8,
    "start_time": "2025-01-10T03:55:34.554Z"
   },
   {
    "duration": 944,
    "start_time": "2025-01-10T03:55:34.564Z"
   },
   {
    "duration": 15,
    "start_time": "2025-01-10T03:55:35.510Z"
   },
   {
    "duration": 492,
    "start_time": "2025-01-10T03:55:35.526Z"
   },
   {
    "duration": 76,
    "start_time": "2025-01-10T03:55:36.024Z"
   },
   {
    "duration": 23,
    "start_time": "2025-01-10T03:55:36.102Z"
   },
   {
    "duration": 82,
    "start_time": "2025-01-10T03:55:36.126Z"
   },
   {
    "duration": 120,
    "start_time": "2025-01-10T03:55:36.210Z"
   },
   {
    "duration": 29,
    "start_time": "2025-01-10T03:55:36.331Z"
   },
   {
    "duration": 12,
    "start_time": "2025-01-10T03:55:36.361Z"
   },
   {
    "duration": 4,
    "start_time": "2025-01-10T03:55:36.375Z"
   },
   {
    "duration": 18,
    "start_time": "2025-01-10T03:55:36.381Z"
   },
   {
    "duration": 10,
    "start_time": "2025-01-10T03:55:36.425Z"
   },
   {
    "duration": 3,
    "start_time": "2025-01-10T03:55:36.439Z"
   },
   {
    "duration": 8,
    "start_time": "2025-01-10T03:55:36.444Z"
   },
   {
    "duration": 9,
    "start_time": "2025-01-10T03:55:36.453Z"
   },
   {
    "duration": 4,
    "start_time": "2025-01-10T03:55:36.463Z"
   },
   {
    "duration": 5,
    "start_time": "2025-01-10T03:55:36.469Z"
   },
   {
    "duration": 793,
    "start_time": "2025-01-10T03:55:36.475Z"
   },
   {
    "duration": 676,
    "start_time": "2025-01-10T03:55:37.270Z"
   },
   {
    "duration": 5,
    "start_time": "2025-01-10T03:55:37.949Z"
   },
   {
    "duration": 6,
    "start_time": "2025-01-10T03:55:37.955Z"
   },
   {
    "duration": 5,
    "start_time": "2025-01-10T03:55:37.962Z"
   },
   {
    "duration": 5,
    "start_time": "2025-01-10T03:55:37.969Z"
   },
   {
    "duration": 11,
    "start_time": "2025-01-10T03:55:37.976Z"
   },
   {
    "duration": 47,
    "start_time": "2025-01-10T03:55:37.988Z"
   },
   {
    "duration": 31,
    "start_time": "2025-01-10T03:55:38.037Z"
   },
   {
    "duration": 12,
    "start_time": "2025-01-10T03:55:38.070Z"
   },
   {
    "duration": 317,
    "start_time": "2025-01-10T03:55:38.084Z"
   },
   {
    "duration": 67,
    "start_time": "2025-01-10T03:55:38.402Z"
   },
   {
    "duration": 27,
    "start_time": "2025-01-10T03:55:38.470Z"
   },
   {
    "duration": 38,
    "start_time": "2025-01-10T03:55:38.498Z"
   },
   {
    "duration": 208,
    "start_time": "2025-01-10T03:55:38.537Z"
   },
   {
    "duration": 137,
    "start_time": "2025-01-10T03:55:38.747Z"
   },
   {
    "duration": 455,
    "start_time": "2025-01-10T03:58:02.946Z"
   },
   {
    "duration": 186,
    "start_time": "2025-01-10T03:58:03.404Z"
   },
   {
    "duration": 12,
    "start_time": "2025-01-10T03:58:03.591Z"
   },
   {
    "duration": 113,
    "start_time": "2025-01-10T03:58:03.605Z"
   },
   {
    "duration": 54,
    "start_time": "2025-01-10T03:58:03.721Z"
   },
   {
    "duration": 9,
    "start_time": "2025-01-10T03:58:03.777Z"
   },
   {
    "duration": 13,
    "start_time": "2025-01-10T03:58:03.788Z"
   },
   {
    "duration": 9,
    "start_time": "2025-01-10T03:58:03.802Z"
   },
   {
    "duration": 16,
    "start_time": "2025-01-10T03:58:03.813Z"
   },
   {
    "duration": 8,
    "start_time": "2025-01-10T03:58:03.831Z"
   },
   {
    "duration": 8,
    "start_time": "2025-01-10T03:58:03.841Z"
   },
   {
    "duration": 7,
    "start_time": "2025-01-10T03:58:03.851Z"
   },
   {
    "duration": 10,
    "start_time": "2025-01-10T03:58:03.860Z"
   },
   {
    "duration": 817,
    "start_time": "2025-01-10T03:58:03.874Z"
   },
   {
    "duration": 7,
    "start_time": "2025-01-10T03:58:04.693Z"
   },
   {
    "duration": 499,
    "start_time": "2025-01-10T03:58:04.702Z"
   },
   {
    "duration": 86,
    "start_time": "2025-01-10T03:58:05.203Z"
   },
   {
    "duration": 16,
    "start_time": "2025-01-10T03:58:05.291Z"
   },
   {
    "duration": 105,
    "start_time": "2025-01-10T03:58:05.310Z"
   },
   {
    "duration": 85,
    "start_time": "2025-01-10T03:58:05.417Z"
   },
   {
    "duration": 40,
    "start_time": "2025-01-10T03:58:05.504Z"
   },
   {
    "duration": 12,
    "start_time": "2025-01-10T03:58:05.546Z"
   },
   {
    "duration": 3,
    "start_time": "2025-01-10T03:58:05.559Z"
   },
   {
    "duration": 17,
    "start_time": "2025-01-10T03:58:05.564Z"
   },
   {
    "duration": 9,
    "start_time": "2025-01-10T03:58:05.583Z"
   },
   {
    "duration": 4,
    "start_time": "2025-01-10T03:58:05.594Z"
   },
   {
    "duration": 7,
    "start_time": "2025-01-10T03:58:05.624Z"
   },
   {
    "duration": 8,
    "start_time": "2025-01-10T03:58:05.633Z"
   },
   {
    "duration": 5,
    "start_time": "2025-01-10T03:58:05.643Z"
   },
   {
    "duration": 6,
    "start_time": "2025-01-10T03:58:05.649Z"
   },
   {
    "duration": 806,
    "start_time": "2025-01-10T03:58:05.656Z"
   },
   {
    "duration": 660,
    "start_time": "2025-01-10T03:58:06.464Z"
   },
   {
    "duration": 5,
    "start_time": "2025-01-10T03:58:07.126Z"
   },
   {
    "duration": 6,
    "start_time": "2025-01-10T03:58:07.132Z"
   },
   {
    "duration": 6,
    "start_time": "2025-01-10T03:58:07.139Z"
   },
   {
    "duration": 5,
    "start_time": "2025-01-10T03:58:07.146Z"
   },
   {
    "duration": 10,
    "start_time": "2025-01-10T03:58:07.153Z"
   },
   {
    "duration": 12,
    "start_time": "2025-01-10T03:58:07.165Z"
   },
   {
    "duration": 67,
    "start_time": "2025-01-10T03:58:07.179Z"
   },
   {
    "duration": 12,
    "start_time": "2025-01-10T03:58:07.248Z"
   },
   {
    "duration": 294,
    "start_time": "2025-01-10T03:58:07.265Z"
   },
   {
    "duration": 45,
    "start_time": "2025-01-10T03:58:07.562Z"
   },
   {
    "duration": 40,
    "start_time": "2025-01-10T03:58:07.610Z"
   },
   {
    "duration": 23,
    "start_time": "2025-01-10T03:58:07.652Z"
   },
   {
    "duration": 224,
    "start_time": "2025-01-10T03:58:07.677Z"
   },
   {
    "duration": 142,
    "start_time": "2025-01-10T03:58:07.903Z"
   },
   {
    "duration": 32,
    "start_time": "2025-01-10T03:58:08.047Z"
   },
   {
    "duration": 168,
    "start_time": "2025-01-10T03:58:08.081Z"
   },
   {
    "duration": 435,
    "start_time": "2025-01-10T04:01:56.478Z"
   },
   {
    "duration": 191,
    "start_time": "2025-01-10T04:01:56.915Z"
   },
   {
    "duration": 24,
    "start_time": "2025-01-10T04:01:57.107Z"
   },
   {
    "duration": 113,
    "start_time": "2025-01-10T04:01:57.133Z"
   },
   {
    "duration": 65,
    "start_time": "2025-01-10T04:01:57.248Z"
   },
   {
    "duration": 13,
    "start_time": "2025-01-10T04:01:57.315Z"
   },
   {
    "duration": 16,
    "start_time": "2025-01-10T04:01:57.331Z"
   },
   {
    "duration": 10,
    "start_time": "2025-01-10T04:01:57.349Z"
   },
   {
    "duration": 8,
    "start_time": "2025-01-10T04:01:57.362Z"
   },
   {
    "duration": 15,
    "start_time": "2025-01-10T04:01:57.376Z"
   },
   {
    "duration": 41,
    "start_time": "2025-01-10T04:01:57.392Z"
   },
   {
    "duration": 8,
    "start_time": "2025-01-10T04:01:57.435Z"
   },
   {
    "duration": 8,
    "start_time": "2025-01-10T04:01:57.444Z"
   },
   {
    "duration": 848,
    "start_time": "2025-01-10T04:01:57.454Z"
   },
   {
    "duration": 21,
    "start_time": "2025-01-10T04:01:58.304Z"
   },
   {
    "duration": 498,
    "start_time": "2025-01-10T04:01:58.327Z"
   },
   {
    "duration": 78,
    "start_time": "2025-01-10T04:01:58.827Z"
   },
   {
    "duration": 23,
    "start_time": "2025-01-10T04:01:58.907Z"
   },
   {
    "duration": 76,
    "start_time": "2025-01-10T04:01:58.931Z"
   },
   {
    "duration": 93,
    "start_time": "2025-01-10T04:01:59.009Z"
   },
   {
    "duration": 37,
    "start_time": "2025-01-10T04:01:59.103Z"
   },
   {
    "duration": 14,
    "start_time": "2025-01-10T04:01:59.142Z"
   },
   {
    "duration": 4,
    "start_time": "2025-01-10T04:01:59.158Z"
   },
   {
    "duration": 19,
    "start_time": "2025-01-10T04:01:59.164Z"
   },
   {
    "duration": 11,
    "start_time": "2025-01-10T04:01:59.184Z"
   },
   {
    "duration": 6,
    "start_time": "2025-01-10T04:01:59.223Z"
   },
   {
    "duration": 8,
    "start_time": "2025-01-10T04:01:59.230Z"
   },
   {
    "duration": 8,
    "start_time": "2025-01-10T04:01:59.242Z"
   },
   {
    "duration": 4,
    "start_time": "2025-01-10T04:01:59.252Z"
   },
   {
    "duration": 5,
    "start_time": "2025-01-10T04:01:59.258Z"
   },
   {
    "duration": 775,
    "start_time": "2025-01-10T04:01:59.264Z"
   },
   {
    "duration": 639,
    "start_time": "2025-01-10T04:02:00.041Z"
   },
   {
    "duration": 5,
    "start_time": "2025-01-10T04:02:00.682Z"
   },
   {
    "duration": 6,
    "start_time": "2025-01-10T04:02:00.689Z"
   },
   {
    "duration": 5,
    "start_time": "2025-01-10T04:02:00.697Z"
   },
   {
    "duration": 23,
    "start_time": "2025-01-10T04:02:00.704Z"
   },
   {
    "duration": 10,
    "start_time": "2025-01-10T04:02:00.729Z"
   },
   {
    "duration": 13,
    "start_time": "2025-01-10T04:02:00.741Z"
   },
   {
    "duration": 35,
    "start_time": "2025-01-10T04:02:00.756Z"
   },
   {
    "duration": 42,
    "start_time": "2025-01-10T04:02:00.793Z"
   },
   {
    "duration": 277,
    "start_time": "2025-01-10T04:02:00.837Z"
   },
   {
    "duration": 51,
    "start_time": "2025-01-10T04:02:01.116Z"
   },
   {
    "duration": 32,
    "start_time": "2025-01-10T04:02:01.169Z"
   },
   {
    "duration": 38,
    "start_time": "2025-01-10T04:02:01.202Z"
   },
   {
    "duration": 208,
    "start_time": "2025-01-10T04:02:01.241Z"
   },
   {
    "duration": 129,
    "start_time": "2025-01-10T04:02:01.451Z"
   },
   {
    "duration": 42,
    "start_time": "2025-01-10T04:02:01.582Z"
   },
   {
    "duration": 154,
    "start_time": "2025-01-10T04:02:01.626Z"
   },
   {
    "duration": 441,
    "start_time": "2025-01-10T04:03:49.906Z"
   },
   {
    "duration": 161,
    "start_time": "2025-01-10T04:03:50.349Z"
   },
   {
    "duration": 20,
    "start_time": "2025-01-10T04:03:50.511Z"
   },
   {
    "duration": 113,
    "start_time": "2025-01-10T04:03:50.534Z"
   },
   {
    "duration": 37,
    "start_time": "2025-01-10T04:03:50.648Z"
   },
   {
    "duration": 9,
    "start_time": "2025-01-10T04:03:50.686Z"
   },
   {
    "duration": 34,
    "start_time": "2025-01-10T04:03:50.697Z"
   },
   {
    "duration": 7,
    "start_time": "2025-01-10T04:03:50.733Z"
   },
   {
    "duration": 8,
    "start_time": "2025-01-10T04:03:50.742Z"
   },
   {
    "duration": 9,
    "start_time": "2025-01-10T04:03:50.753Z"
   },
   {
    "duration": 7,
    "start_time": "2025-01-10T04:03:50.763Z"
   },
   {
    "duration": 8,
    "start_time": "2025-01-10T04:03:50.772Z"
   },
   {
    "duration": 8,
    "start_time": "2025-01-10T04:03:50.781Z"
   },
   {
    "duration": 717,
    "start_time": "2025-01-10T04:03:50.825Z"
   },
   {
    "duration": 7,
    "start_time": "2025-01-10T04:03:51.544Z"
   },
   {
    "duration": 496,
    "start_time": "2025-01-10T04:03:51.552Z"
   },
   {
    "duration": 92,
    "start_time": "2025-01-10T04:03:52.049Z"
   },
   {
    "duration": 12,
    "start_time": "2025-01-10T04:03:52.143Z"
   },
   {
    "duration": 92,
    "start_time": "2025-01-10T04:03:52.157Z"
   },
   {
    "duration": 100,
    "start_time": "2025-01-10T04:03:52.251Z"
   },
   {
    "duration": 27,
    "start_time": "2025-01-10T04:03:52.353Z"
   },
   {
    "duration": 13,
    "start_time": "2025-01-10T04:03:52.382Z"
   },
   {
    "duration": 28,
    "start_time": "2025-01-10T04:03:52.396Z"
   },
   {
    "duration": 18,
    "start_time": "2025-01-10T04:03:52.426Z"
   },
   {
    "duration": 10,
    "start_time": "2025-01-10T04:03:52.446Z"
   },
   {
    "duration": 4,
    "start_time": "2025-01-10T04:03:52.457Z"
   },
   {
    "duration": 8,
    "start_time": "2025-01-10T04:03:52.462Z"
   },
   {
    "duration": 8,
    "start_time": "2025-01-10T04:03:52.474Z"
   },
   {
    "duration": 5,
    "start_time": "2025-01-10T04:03:52.483Z"
   },
   {
    "duration": 5,
    "start_time": "2025-01-10T04:03:52.523Z"
   },
   {
    "duration": 752,
    "start_time": "2025-01-10T04:03:52.530Z"
   },
   {
    "duration": 675,
    "start_time": "2025-01-10T04:03:53.284Z"
   },
   {
    "duration": 5,
    "start_time": "2025-01-10T04:03:53.961Z"
   },
   {
    "duration": 5,
    "start_time": "2025-01-10T04:03:53.968Z"
   },
   {
    "duration": 5,
    "start_time": "2025-01-10T04:03:53.975Z"
   },
   {
    "duration": 4,
    "start_time": "2025-01-10T04:03:53.983Z"
   },
   {
    "duration": 43,
    "start_time": "2025-01-10T04:03:53.989Z"
   },
   {
    "duration": 13,
    "start_time": "2025-01-10T04:03:54.033Z"
   },
   {
    "duration": 30,
    "start_time": "2025-01-10T04:03:54.048Z"
   },
   {
    "duration": 12,
    "start_time": "2025-01-10T04:03:54.079Z"
   },
   {
    "duration": 317,
    "start_time": "2025-01-10T04:03:54.093Z"
   },
   {
    "duration": 54,
    "start_time": "2025-01-10T04:03:54.412Z"
   },
   {
    "duration": 26,
    "start_time": "2025-01-10T04:03:54.467Z"
   },
   {
    "duration": 34,
    "start_time": "2025-01-10T04:03:54.494Z"
   },
   {
    "duration": 203,
    "start_time": "2025-01-10T04:03:54.530Z"
   },
   {
    "duration": 135,
    "start_time": "2025-01-10T04:03:54.734Z"
   },
   {
    "duration": 33,
    "start_time": "2025-01-10T04:03:54.870Z"
   },
   {
    "duration": 163,
    "start_time": "2025-01-10T04:03:54.905Z"
   },
   {
    "duration": 166,
    "start_time": "2025-01-10T04:05:32.693Z"
   },
   {
    "duration": 442,
    "start_time": "2025-01-10T04:06:58.255Z"
   },
   {
    "duration": 164,
    "start_time": "2025-01-10T04:06:58.699Z"
   },
   {
    "duration": 12,
    "start_time": "2025-01-10T04:06:58.865Z"
   },
   {
    "duration": 119,
    "start_time": "2025-01-10T04:06:58.879Z"
   },
   {
    "duration": 45,
    "start_time": "2025-01-10T04:06:59.000Z"
   },
   {
    "duration": 9,
    "start_time": "2025-01-10T04:06:59.047Z"
   },
   {
    "duration": 13,
    "start_time": "2025-01-10T04:06:59.059Z"
   },
   {
    "duration": 8,
    "start_time": "2025-01-10T04:06:59.073Z"
   },
   {
    "duration": 7,
    "start_time": "2025-01-10T04:06:59.083Z"
   },
   {
    "duration": 33,
    "start_time": "2025-01-10T04:06:59.093Z"
   },
   {
    "duration": 8,
    "start_time": "2025-01-10T04:06:59.127Z"
   },
   {
    "duration": 7,
    "start_time": "2025-01-10T04:06:59.137Z"
   },
   {
    "duration": 9,
    "start_time": "2025-01-10T04:06:59.146Z"
   },
   {
    "duration": 737,
    "start_time": "2025-01-10T04:06:59.156Z"
   },
   {
    "duration": 7,
    "start_time": "2025-01-10T04:06:59.895Z"
   },
   {
    "duration": 499,
    "start_time": "2025-01-10T04:06:59.904Z"
   },
   {
    "duration": 82,
    "start_time": "2025-01-10T04:07:00.405Z"
   },
   {
    "duration": 11,
    "start_time": "2025-01-10T04:07:00.488Z"
   },
   {
    "duration": 94,
    "start_time": "2025-01-10T04:07:00.501Z"
   },
   {
    "duration": 95,
    "start_time": "2025-01-10T04:07:00.596Z"
   },
   {
    "duration": 37,
    "start_time": "2025-01-10T04:07:00.693Z"
   },
   {
    "duration": 14,
    "start_time": "2025-01-10T04:07:00.732Z"
   },
   {
    "duration": 7,
    "start_time": "2025-01-10T04:07:00.749Z"
   },
   {
    "duration": 19,
    "start_time": "2025-01-10T04:07:00.758Z"
   },
   {
    "duration": 10,
    "start_time": "2025-01-10T04:07:00.779Z"
   },
   {
    "duration": 4,
    "start_time": "2025-01-10T04:07:00.791Z"
   },
   {
    "duration": 8,
    "start_time": "2025-01-10T04:07:00.825Z"
   },
   {
    "duration": 8,
    "start_time": "2025-01-10T04:07:00.837Z"
   },
   {
    "duration": 4,
    "start_time": "2025-01-10T04:07:00.846Z"
   },
   {
    "duration": 5,
    "start_time": "2025-01-10T04:07:00.852Z"
   },
   {
    "duration": 776,
    "start_time": "2025-01-10T04:07:00.858Z"
   },
   {
    "duration": 663,
    "start_time": "2025-01-10T04:07:01.635Z"
   },
   {
    "duration": 4,
    "start_time": "2025-01-10T04:07:02.301Z"
   },
   {
    "duration": 18,
    "start_time": "2025-01-10T04:07:02.307Z"
   },
   {
    "duration": 6,
    "start_time": "2025-01-10T04:07:02.327Z"
   },
   {
    "duration": 5,
    "start_time": "2025-01-10T04:07:02.334Z"
   },
   {
    "duration": 12,
    "start_time": "2025-01-10T04:07:02.341Z"
   },
   {
    "duration": 12,
    "start_time": "2025-01-10T04:07:02.355Z"
   },
   {
    "duration": 55,
    "start_time": "2025-01-10T04:07:02.369Z"
   },
   {
    "duration": 14,
    "start_time": "2025-01-10T04:07:02.426Z"
   },
   {
    "duration": 296,
    "start_time": "2025-01-10T04:07:02.442Z"
   },
   {
    "duration": 46,
    "start_time": "2025-01-10T04:07:02.739Z"
   },
   {
    "duration": 38,
    "start_time": "2025-01-10T04:07:02.787Z"
   },
   {
    "duration": 25,
    "start_time": "2025-01-10T04:07:02.827Z"
   },
   {
    "duration": 221,
    "start_time": "2025-01-10T04:07:02.854Z"
   },
   {
    "duration": 131,
    "start_time": "2025-01-10T04:07:03.076Z"
   },
   {
    "duration": 38,
    "start_time": "2025-01-10T04:07:03.208Z"
   },
   {
    "duration": 163,
    "start_time": "2025-01-10T04:07:38.622Z"
   },
   {
    "duration": 13,
    "start_time": "2025-01-10T04:07:42.682Z"
   },
   {
    "duration": 410,
    "start_time": "2025-01-10T04:07:50.491Z"
   },
   {
    "duration": 162,
    "start_time": "2025-01-10T04:07:50.903Z"
   },
   {
    "duration": 12,
    "start_time": "2025-01-10T04:07:51.067Z"
   },
   {
    "duration": 122,
    "start_time": "2025-01-10T04:07:51.080Z"
   },
   {
    "duration": 47,
    "start_time": "2025-01-10T04:07:51.205Z"
   },
   {
    "duration": 9,
    "start_time": "2025-01-10T04:07:51.254Z"
   },
   {
    "duration": 14,
    "start_time": "2025-01-10T04:07:51.264Z"
   },
   {
    "duration": 8,
    "start_time": "2025-01-10T04:07:51.280Z"
   },
   {
    "duration": 8,
    "start_time": "2025-01-10T04:07:51.289Z"
   },
   {
    "duration": 33,
    "start_time": "2025-01-10T04:07:51.298Z"
   },
   {
    "duration": 8,
    "start_time": "2025-01-10T04:07:51.332Z"
   },
   {
    "duration": 9,
    "start_time": "2025-01-10T04:07:51.341Z"
   },
   {
    "duration": 8,
    "start_time": "2025-01-10T04:07:51.352Z"
   },
   {
    "duration": 738,
    "start_time": "2025-01-10T04:07:51.364Z"
   },
   {
    "duration": 6,
    "start_time": "2025-01-10T04:07:52.104Z"
   },
   {
    "duration": 516,
    "start_time": "2025-01-10T04:07:52.112Z"
   },
   {
    "duration": 78,
    "start_time": "2025-01-10T04:07:52.630Z"
   },
   {
    "duration": 21,
    "start_time": "2025-01-10T04:07:52.710Z"
   },
   {
    "duration": 77,
    "start_time": "2025-01-10T04:07:52.733Z"
   },
   {
    "duration": 91,
    "start_time": "2025-01-10T04:07:52.811Z"
   },
   {
    "duration": 36,
    "start_time": "2025-01-10T04:07:52.904Z"
   },
   {
    "duration": 13,
    "start_time": "2025-01-10T04:07:52.942Z"
   },
   {
    "duration": 3,
    "start_time": "2025-01-10T04:07:52.957Z"
   },
   {
    "duration": 19,
    "start_time": "2025-01-10T04:07:52.962Z"
   },
   {
    "duration": 10,
    "start_time": "2025-01-10T04:07:52.982Z"
   },
   {
    "duration": 32,
    "start_time": "2025-01-10T04:07:52.994Z"
   },
   {
    "duration": 7,
    "start_time": "2025-01-10T04:07:53.028Z"
   },
   {
    "duration": 8,
    "start_time": "2025-01-10T04:07:53.037Z"
   },
   {
    "duration": 4,
    "start_time": "2025-01-10T04:07:53.047Z"
   },
   {
    "duration": 5,
    "start_time": "2025-01-10T04:07:53.052Z"
   },
   {
    "duration": 751,
    "start_time": "2025-01-10T04:07:53.058Z"
   },
   {
    "duration": 666,
    "start_time": "2025-01-10T04:07:53.811Z"
   },
   {
    "duration": 5,
    "start_time": "2025-01-10T04:07:54.479Z"
   },
   {
    "duration": 6,
    "start_time": "2025-01-10T04:07:54.486Z"
   },
   {
    "duration": 6,
    "start_time": "2025-01-10T04:07:54.493Z"
   },
   {
    "duration": 25,
    "start_time": "2025-01-10T04:07:54.500Z"
   },
   {
    "duration": 10,
    "start_time": "2025-01-10T04:07:54.527Z"
   },
   {
    "duration": 13,
    "start_time": "2025-01-10T04:07:54.539Z"
   },
   {
    "duration": 30,
    "start_time": "2025-01-10T04:07:54.554Z"
   },
   {
    "duration": 12,
    "start_time": "2025-01-10T04:07:54.586Z"
   },
   {
    "duration": 301,
    "start_time": "2025-01-10T04:07:54.628Z"
   },
   {
    "duration": 45,
    "start_time": "2025-01-10T04:07:54.930Z"
   },
   {
    "duration": 25,
    "start_time": "2025-01-10T04:07:54.977Z"
   },
   {
    "duration": 39,
    "start_time": "2025-01-10T04:07:55.004Z"
   },
   {
    "duration": 212,
    "start_time": "2025-01-10T04:07:55.045Z"
   },
   {
    "duration": 130,
    "start_time": "2025-01-10T04:07:55.258Z"
   },
   {
    "duration": 41,
    "start_time": "2025-01-10T04:07:55.390Z"
   },
   {
    "duration": 175,
    "start_time": "2025-01-10T04:07:55.432Z"
   },
   {
    "duration": 430,
    "start_time": "2025-01-10T06:19:24.310Z"
   },
   {
    "duration": 196,
    "start_time": "2025-01-10T06:19:24.742Z"
   },
   {
    "duration": 12,
    "start_time": "2025-01-10T06:19:24.941Z"
   },
   {
    "duration": 128,
    "start_time": "2025-01-10T06:19:24.955Z"
   },
   {
    "duration": 58,
    "start_time": "2025-01-10T06:19:25.086Z"
   },
   {
    "duration": 11,
    "start_time": "2025-01-10T06:19:25.146Z"
   },
   {
    "duration": 15,
    "start_time": "2025-01-10T06:19:25.159Z"
   },
   {
    "duration": 10,
    "start_time": "2025-01-10T06:19:25.176Z"
   },
   {
    "duration": 7,
    "start_time": "2025-01-10T06:19:25.188Z"
   },
   {
    "duration": 33,
    "start_time": "2025-01-10T06:19:25.198Z"
   },
   {
    "duration": 11,
    "start_time": "2025-01-10T06:19:25.232Z"
   },
   {
    "duration": 8,
    "start_time": "2025-01-10T06:19:25.245Z"
   },
   {
    "duration": 8,
    "start_time": "2025-01-10T06:19:25.255Z"
   },
   {
    "duration": 816,
    "start_time": "2025-01-10T06:19:25.265Z"
   },
   {
    "duration": 8,
    "start_time": "2025-01-10T06:19:26.083Z"
   },
   {
    "duration": 512,
    "start_time": "2025-01-10T06:19:26.093Z"
   },
   {
    "duration": 111,
    "start_time": "2025-01-10T06:19:26.607Z"
   },
   {
    "duration": 16,
    "start_time": "2025-01-10T06:19:26.720Z"
   },
   {
    "duration": 102,
    "start_time": "2025-01-10T06:19:26.738Z"
   },
   {
    "duration": 95,
    "start_time": "2025-01-10T06:19:26.842Z"
   },
   {
    "duration": 33,
    "start_time": "2025-01-10T06:19:26.938Z"
   },
   {
    "duration": 16,
    "start_time": "2025-01-10T06:19:26.973Z"
   },
   {
    "duration": 5,
    "start_time": "2025-01-10T06:19:26.991Z"
   },
   {
    "duration": 39,
    "start_time": "2025-01-10T06:19:26.999Z"
   },
   {
    "duration": 12,
    "start_time": "2025-01-10T06:19:27.040Z"
   },
   {
    "duration": 5,
    "start_time": "2025-01-10T06:19:27.054Z"
   },
   {
    "duration": 11,
    "start_time": "2025-01-10T06:19:27.061Z"
   },
   {
    "duration": 9,
    "start_time": "2025-01-10T06:19:27.077Z"
   },
   {
    "duration": 5,
    "start_time": "2025-01-10T06:19:27.087Z"
   },
   {
    "duration": 40,
    "start_time": "2025-01-10T06:19:27.094Z"
   },
   {
    "duration": 837,
    "start_time": "2025-01-10T06:19:27.136Z"
   },
   {
    "duration": 715,
    "start_time": "2025-01-10T06:19:27.975Z"
   },
   {
    "duration": 5,
    "start_time": "2025-01-10T06:19:28.692Z"
   },
   {
    "duration": 6,
    "start_time": "2025-01-10T06:19:28.699Z"
   },
   {
    "duration": 27,
    "start_time": "2025-01-10T06:19:28.708Z"
   },
   {
    "duration": 6,
    "start_time": "2025-01-10T06:19:28.737Z"
   },
   {
    "duration": 14,
    "start_time": "2025-01-10T06:19:28.745Z"
   },
   {
    "duration": 13,
    "start_time": "2025-01-10T06:19:28.760Z"
   },
   {
    "duration": 64,
    "start_time": "2025-01-10T06:19:28.777Z"
   },
   {
    "duration": 14,
    "start_time": "2025-01-10T06:19:28.843Z"
   },
   {
    "duration": 304,
    "start_time": "2025-01-10T06:19:28.859Z"
   },
   {
    "duration": 50,
    "start_time": "2025-01-10T06:19:29.165Z"
   },
   {
    "duration": 45,
    "start_time": "2025-01-10T06:19:29.217Z"
   },
   {
    "duration": 22,
    "start_time": "2025-01-10T06:19:29.264Z"
   },
   {
    "duration": 216,
    "start_time": "2025-01-10T06:19:29.288Z"
   },
   {
    "duration": 140,
    "start_time": "2025-01-10T06:19:29.505Z"
   },
   {
    "duration": 34,
    "start_time": "2025-01-10T06:19:29.646Z"
   },
   {
    "duration": 200,
    "start_time": "2025-01-10T06:19:29.681Z"
   },
   {
    "duration": 3,
    "start_time": "2025-01-10T06:22:29.282Z"
   },
   {
    "duration": 2617,
    "start_time": "2025-01-10T21:34:51.585Z"
   },
   {
    "duration": 191,
    "start_time": "2025-01-10T21:34:54.204Z"
   },
   {
    "duration": 11,
    "start_time": "2025-01-10T21:34:54.398Z"
   },
   {
    "duration": 135,
    "start_time": "2025-01-10T21:34:54.411Z"
   },
   {
    "duration": 68,
    "start_time": "2025-01-10T21:34:54.549Z"
   },
   {
    "duration": 9,
    "start_time": "2025-01-10T21:34:54.619Z"
   },
   {
    "duration": 14,
    "start_time": "2025-01-10T21:34:54.629Z"
   },
   {
    "duration": 33,
    "start_time": "2025-01-10T21:34:54.644Z"
   },
   {
    "duration": 8,
    "start_time": "2025-01-10T21:34:54.679Z"
   },
   {
    "duration": 9,
    "start_time": "2025-01-10T21:34:54.689Z"
   },
   {
    "duration": 10,
    "start_time": "2025-01-10T21:34:54.700Z"
   },
   {
    "duration": 8,
    "start_time": "2025-01-10T21:34:54.711Z"
   },
   {
    "duration": 10,
    "start_time": "2025-01-10T21:34:54.720Z"
   },
   {
    "duration": 1002,
    "start_time": "2025-01-10T21:34:54.731Z"
   },
   {
    "duration": 7,
    "start_time": "2025-01-10T21:34:55.735Z"
   },
   {
    "duration": 542,
    "start_time": "2025-01-10T21:34:55.754Z"
   },
   {
    "duration": 2,
    "start_time": "2025-01-10T21:34:56.298Z"
   },
   {
    "duration": 114,
    "start_time": "2025-01-10T21:34:56.302Z"
   },
   {
    "duration": 11,
    "start_time": "2025-01-10T21:34:56.418Z"
   },
   {
    "duration": 100,
    "start_time": "2025-01-10T21:34:56.431Z"
   },
   {
    "duration": 108,
    "start_time": "2025-01-10T21:34:56.533Z"
   },
   {
    "duration": 37,
    "start_time": "2025-01-10T21:34:56.643Z"
   },
   {
    "duration": 12,
    "start_time": "2025-01-10T21:34:56.682Z"
   },
   {
    "duration": 3,
    "start_time": "2025-01-10T21:34:56.696Z"
   },
   {
    "duration": 47,
    "start_time": "2025-01-10T21:34:56.701Z"
   },
   {
    "duration": 19,
    "start_time": "2025-01-10T21:34:56.755Z"
   },
   {
    "duration": 4,
    "start_time": "2025-01-10T21:34:56.777Z"
   },
   {
    "duration": 7,
    "start_time": "2025-01-10T21:34:56.786Z"
   },
   {
    "duration": 8,
    "start_time": "2025-01-10T21:34:56.795Z"
   },
   {
    "duration": 5,
    "start_time": "2025-01-10T21:34:56.805Z"
   },
   {
    "duration": 4,
    "start_time": "2025-01-10T21:34:56.812Z"
   },
   {
    "duration": 955,
    "start_time": "2025-01-10T21:34:56.818Z"
   },
   {
    "duration": 759,
    "start_time": "2025-01-10T21:34:57.775Z"
   },
   {
    "duration": 13,
    "start_time": "2025-01-10T21:34:58.537Z"
   },
   {
    "duration": 12,
    "start_time": "2025-01-10T21:34:58.552Z"
   },
   {
    "duration": 12,
    "start_time": "2025-01-10T21:34:58.566Z"
   },
   {
    "duration": 6,
    "start_time": "2025-01-10T21:34:58.580Z"
   },
   {
    "duration": 11,
    "start_time": "2025-01-10T21:34:58.587Z"
   },
   {
    "duration": 12,
    "start_time": "2025-01-10T21:34:58.600Z"
   },
   {
    "duration": 69,
    "start_time": "2025-01-10T21:34:58.613Z"
   },
   {
    "duration": 13,
    "start_time": "2025-01-10T21:34:58.684Z"
   },
   {
    "duration": 299,
    "start_time": "2025-01-10T21:34:58.699Z"
   },
   {
    "duration": 61,
    "start_time": "2025-01-10T21:34:59.000Z"
   },
   {
    "duration": 33,
    "start_time": "2025-01-10T21:34:59.063Z"
   },
   {
    "duration": 20,
    "start_time": "2025-01-10T21:34:59.098Z"
   },
   {
    "duration": 271,
    "start_time": "2025-01-10T21:34:59.120Z"
   },
   {
    "duration": 136,
    "start_time": "2025-01-10T21:34:59.393Z"
   },
   {
    "duration": 45,
    "start_time": "2025-01-10T21:34:59.532Z"
   },
   {
    "duration": 256,
    "start_time": "2025-01-10T21:34:59.579Z"
   },
   {
    "duration": 9,
    "start_time": "2025-01-10T21:36:20.877Z"
   },
   {
    "duration": 150,
    "start_time": "2025-01-10T21:37:28.166Z"
   },
   {
    "duration": 100,
    "start_time": "2025-01-10T21:38:24.456Z"
   },
   {
    "duration": 20,
    "start_time": "2025-01-10T21:41:03.716Z"
   },
   {
    "duration": 204,
    "start_time": "2025-01-10T21:41:05.246Z"
   },
   {
    "duration": 184,
    "start_time": "2025-01-10T21:42:10.175Z"
   },
   {
    "duration": 207,
    "start_time": "2025-01-10T21:54:06.902Z"
   },
   {
    "duration": 19,
    "start_time": "2025-01-10T22:07:48.295Z"
   },
   {
    "duration": 217,
    "start_time": "2025-01-10T22:07:49.441Z"
   },
   {
    "duration": 522,
    "start_time": "2025-01-10T22:57:33.096Z"
   },
   {
    "duration": 14,
    "start_time": "2025-01-10T23:03:10.833Z"
   },
   {
    "duration": 14,
    "start_time": "2025-01-10T23:04:23.292Z"
   },
   {
    "duration": 16,
    "start_time": "2025-01-10T23:06:28.937Z"
   },
   {
    "duration": 16,
    "start_time": "2025-01-10T23:06:58.905Z"
   },
   {
    "duration": 125,
    "start_time": "2025-01-10T23:07:11.523Z"
   },
   {
    "duration": 126,
    "start_time": "2025-01-10T23:07:27.310Z"
   },
   {
    "duration": 198,
    "start_time": "2025-01-10T23:08:08.514Z"
   },
   {
    "duration": 5,
    "start_time": "2025-01-10T23:08:55.910Z"
   },
   {
    "duration": 649,
    "start_time": "2025-01-10T23:09:08.728Z"
   },
   {
    "duration": 4,
    "start_time": "2025-01-10T23:09:38.751Z"
   },
   {
    "duration": 4,
    "start_time": "2025-01-10T23:09:43.111Z"
   },
   {
    "duration": 4,
    "start_time": "2025-01-10T23:09:56.948Z"
   },
   {
    "duration": 4,
    "start_time": "2025-01-10T23:10:14.139Z"
   },
   {
    "duration": 4,
    "start_time": "2025-01-10T23:11:15.474Z"
   },
   {
    "duration": 131,
    "start_time": "2025-01-10T23:11:47.115Z"
   },
   {
    "duration": 161,
    "start_time": "2025-01-10T23:30:51.728Z"
   },
   {
    "duration": 143,
    "start_time": "2025-01-10T23:33:27.434Z"
   },
   {
    "duration": 30,
    "start_time": "2025-01-10T23:38:26.575Z"
   },
   {
    "duration": 17,
    "start_time": "2025-01-10T23:38:59.067Z"
   },
   {
    "duration": 3,
    "start_time": "2025-01-11T00:07:45.109Z"
   },
   {
    "duration": 2,
    "start_time": "2025-01-11T00:09:25.401Z"
   },
   {
    "duration": 175,
    "start_time": "2025-01-11T00:09:25.411Z"
   },
   {
    "duration": 9,
    "start_time": "2025-01-11T00:09:25.588Z"
   },
   {
    "duration": 108,
    "start_time": "2025-01-11T00:09:25.599Z"
   },
   {
    "duration": 34,
    "start_time": "2025-01-11T00:09:25.710Z"
   },
   {
    "duration": 21,
    "start_time": "2025-01-11T00:09:25.746Z"
   },
   {
    "duration": 15,
    "start_time": "2025-01-11T00:09:25.771Z"
   },
   {
    "duration": 8,
    "start_time": "2025-01-11T00:09:25.787Z"
   },
   {
    "duration": 8,
    "start_time": "2025-01-11T00:09:25.796Z"
   },
   {
    "duration": 9,
    "start_time": "2025-01-11T00:09:25.805Z"
   },
   {
    "duration": 29,
    "start_time": "2025-01-11T00:09:25.817Z"
   },
   {
    "duration": 14,
    "start_time": "2025-01-11T00:09:25.853Z"
   },
   {
    "duration": 11,
    "start_time": "2025-01-11T00:09:25.869Z"
   },
   {
    "duration": 803,
    "start_time": "2025-01-11T00:09:25.882Z"
   },
   {
    "duration": 7,
    "start_time": "2025-01-11T00:09:26.686Z"
   },
   {
    "duration": 532,
    "start_time": "2025-01-11T00:09:26.695Z"
   },
   {
    "duration": 108,
    "start_time": "2025-01-11T00:09:27.229Z"
   },
   {
    "duration": 24,
    "start_time": "2025-01-11T00:09:27.339Z"
   },
   {
    "duration": 93,
    "start_time": "2025-01-11T00:09:27.365Z"
   },
   {
    "duration": 86,
    "start_time": "2025-01-11T00:09:27.467Z"
   },
   {
    "duration": 35,
    "start_time": "2025-01-11T00:09:27.558Z"
   },
   {
    "duration": 12,
    "start_time": "2025-01-11T00:09:27.595Z"
   },
   {
    "duration": 5,
    "start_time": "2025-01-11T00:09:27.609Z"
   },
   {
    "duration": 30,
    "start_time": "2025-01-11T00:09:27.616Z"
   },
   {
    "duration": 18,
    "start_time": "2025-01-11T00:09:27.647Z"
   },
   {
    "duration": 7,
    "start_time": "2025-01-11T00:09:27.669Z"
   },
   {
    "duration": 13,
    "start_time": "2025-01-11T00:09:27.677Z"
   },
   {
    "duration": 10,
    "start_time": "2025-01-11T00:09:27.692Z"
   },
   {
    "duration": 5,
    "start_time": "2025-01-11T00:09:27.706Z"
   },
   {
    "duration": 5,
    "start_time": "2025-01-11T00:09:27.713Z"
   },
   {
    "duration": 845,
    "start_time": "2025-01-11T00:09:27.720Z"
   },
   {
    "duration": 820,
    "start_time": "2025-01-11T00:09:28.569Z"
   },
   {
    "duration": 7,
    "start_time": "2025-01-11T00:09:29.393Z"
   },
   {
    "duration": 6,
    "start_time": "2025-01-11T00:09:29.402Z"
   },
   {
    "duration": 6,
    "start_time": "2025-01-11T00:09:29.409Z"
   },
   {
    "duration": 5,
    "start_time": "2025-01-11T00:09:29.417Z"
   },
   {
    "duration": 30,
    "start_time": "2025-01-11T00:09:29.423Z"
   },
   {
    "duration": 18,
    "start_time": "2025-01-11T00:09:29.455Z"
   },
   {
    "duration": 32,
    "start_time": "2025-01-11T00:09:29.476Z"
   },
   {
    "duration": 34,
    "start_time": "2025-01-11T00:09:29.510Z"
   },
   {
    "duration": 302,
    "start_time": "2025-01-11T00:09:29.546Z"
   },
   {
    "duration": 56,
    "start_time": "2025-01-11T00:09:29.850Z"
   },
   {
    "duration": 39,
    "start_time": "2025-01-11T00:09:29.907Z"
   },
   {
    "duration": 34,
    "start_time": "2025-01-11T00:09:29.954Z"
   },
   {
    "duration": 214,
    "start_time": "2025-01-11T00:09:29.989Z"
   },
   {
    "duration": 148,
    "start_time": "2025-01-11T00:09:30.204Z"
   },
   {
    "duration": 44,
    "start_time": "2025-01-11T00:09:30.354Z"
   },
   {
    "duration": 212,
    "start_time": "2025-01-11T00:09:30.399Z"
   },
   {
    "duration": 3,
    "start_time": "2025-01-11T00:09:30.612Z"
   },
   {
    "duration": 20,
    "start_time": "2025-01-11T00:09:30.616Z"
   },
   {
    "duration": 239,
    "start_time": "2025-01-11T00:09:30.637Z"
   },
   {
    "duration": 14,
    "start_time": "2025-01-11T00:09:30.879Z"
   },
   {
    "duration": 160,
    "start_time": "2025-01-11T00:09:30.894Z"
   },
   {
    "duration": 478,
    "start_time": "2025-01-11T01:03:21.767Z"
   },
   {
    "duration": 211,
    "start_time": "2025-01-11T01:03:22.248Z"
   },
   {
    "duration": 19,
    "start_time": "2025-01-11T01:03:22.461Z"
   },
   {
    "duration": 122,
    "start_time": "2025-01-11T01:03:22.482Z"
   },
   {
    "duration": 40,
    "start_time": "2025-01-11T01:03:22.607Z"
   },
   {
    "duration": 17,
    "start_time": "2025-01-11T01:03:22.649Z"
   },
   {
    "duration": 16,
    "start_time": "2025-01-11T01:03:22.667Z"
   },
   {
    "duration": 9,
    "start_time": "2025-01-11T01:03:22.684Z"
   },
   {
    "duration": 8,
    "start_time": "2025-01-11T01:03:22.695Z"
   },
   {
    "duration": 9,
    "start_time": "2025-01-11T01:03:22.704Z"
   },
   {
    "duration": 8,
    "start_time": "2025-01-11T01:03:22.714Z"
   },
   {
    "duration": 37,
    "start_time": "2025-01-11T01:03:22.723Z"
   },
   {
    "duration": 14,
    "start_time": "2025-01-11T01:03:22.764Z"
   },
   {
    "duration": 821,
    "start_time": "2025-01-11T01:03:22.782Z"
   },
   {
    "duration": 6,
    "start_time": "2025-01-11T01:03:23.605Z"
   },
   {
    "duration": 582,
    "start_time": "2025-01-11T01:03:23.613Z"
   },
   {
    "duration": 90,
    "start_time": "2025-01-11T01:03:24.199Z"
   },
   {
    "duration": 10,
    "start_time": "2025-01-11T01:03:24.291Z"
   },
   {
    "duration": 103,
    "start_time": "2025-01-11T01:03:24.303Z"
   },
   {
    "duration": 102,
    "start_time": "2025-01-11T01:03:24.407Z"
   },
   {
    "duration": 29,
    "start_time": "2025-01-11T01:03:24.511Z"
   },
   {
    "duration": 16,
    "start_time": "2025-01-11T01:03:24.542Z"
   },
   {
    "duration": 4,
    "start_time": "2025-01-11T01:03:24.560Z"
   },
   {
    "duration": 25,
    "start_time": "2025-01-11T01:03:24.566Z"
   },
   {
    "duration": 10,
    "start_time": "2025-01-11T01:03:24.593Z"
   },
   {
    "duration": 4,
    "start_time": "2025-01-11T01:03:24.604Z"
   },
   {
    "duration": 37,
    "start_time": "2025-01-11T01:03:24.610Z"
   },
   {
    "duration": 10,
    "start_time": "2025-01-11T01:03:24.648Z"
   },
   {
    "duration": 5,
    "start_time": "2025-01-11T01:03:24.659Z"
   },
   {
    "duration": 5,
    "start_time": "2025-01-11T01:03:24.666Z"
   },
   {
    "duration": 909,
    "start_time": "2025-01-11T01:03:24.673Z"
   },
   {
    "duration": 753,
    "start_time": "2025-01-11T01:03:25.584Z"
   },
   {
    "duration": 7,
    "start_time": "2025-01-11T01:03:26.343Z"
   },
   {
    "duration": 7,
    "start_time": "2025-01-11T01:03:26.352Z"
   },
   {
    "duration": 7,
    "start_time": "2025-01-11T01:03:26.360Z"
   },
   {
    "duration": 5,
    "start_time": "2025-01-11T01:03:26.369Z"
   },
   {
    "duration": 14,
    "start_time": "2025-01-11T01:03:26.376Z"
   },
   {
    "duration": 13,
    "start_time": "2025-01-11T01:03:26.391Z"
   },
   {
    "duration": 84,
    "start_time": "2025-01-11T01:03:26.406Z"
   },
   {
    "duration": 13,
    "start_time": "2025-01-11T01:03:26.492Z"
   },
   {
    "duration": 326,
    "start_time": "2025-01-11T01:03:26.510Z"
   },
   {
    "duration": 54,
    "start_time": "2025-01-11T01:03:26.838Z"
   },
   {
    "duration": 25,
    "start_time": "2025-01-11T01:03:26.894Z"
   },
   {
    "duration": 39,
    "start_time": "2025-01-11T01:03:26.920Z"
   },
   {
    "duration": 224,
    "start_time": "2025-01-11T01:03:26.960Z"
   },
   {
    "duration": 152,
    "start_time": "2025-01-11T01:03:27.186Z"
   },
   {
    "duration": 49,
    "start_time": "2025-01-11T01:03:27.339Z"
   },
   {
    "duration": 193,
    "start_time": "2025-01-11T01:03:27.390Z"
   },
   {
    "duration": 2,
    "start_time": "2025-01-11T01:03:27.586Z"
   },
   {
    "duration": 19,
    "start_time": "2025-01-11T01:03:27.590Z"
   },
   {
    "duration": 227,
    "start_time": "2025-01-11T01:03:27.612Z"
   },
   {
    "duration": 0,
    "start_time": "2025-01-11T01:03:27.841Z"
   },
   {
    "duration": 0,
    "start_time": "2025-01-11T01:03:27.842Z"
   },
   {
    "duration": 447,
    "start_time": "2025-01-11T01:05:04.628Z"
   },
   {
    "duration": 198,
    "start_time": "2025-01-11T01:05:05.077Z"
   },
   {
    "duration": 12,
    "start_time": "2025-01-11T01:05:05.277Z"
   },
   {
    "duration": 126,
    "start_time": "2025-01-11T01:05:05.291Z"
   },
   {
    "duration": 45,
    "start_time": "2025-01-11T01:05:05.419Z"
   },
   {
    "duration": 13,
    "start_time": "2025-01-11T01:05:05.466Z"
   },
   {
    "duration": 14,
    "start_time": "2025-01-11T01:05:05.481Z"
   },
   {
    "duration": 8,
    "start_time": "2025-01-11T01:05:05.496Z"
   },
   {
    "duration": 8,
    "start_time": "2025-01-11T01:05:05.505Z"
   },
   {
    "duration": 29,
    "start_time": "2025-01-11T01:05:05.517Z"
   },
   {
    "duration": 27,
    "start_time": "2025-01-11T01:05:05.547Z"
   },
   {
    "duration": 7,
    "start_time": "2025-01-11T01:05:05.575Z"
   },
   {
    "duration": 8,
    "start_time": "2025-01-11T01:05:05.584Z"
   },
   {
    "duration": 858,
    "start_time": "2025-01-11T01:05:05.594Z"
   },
   {
    "duration": 14,
    "start_time": "2025-01-11T01:05:06.453Z"
   },
   {
    "duration": 570,
    "start_time": "2025-01-11T01:05:06.472Z"
   },
   {
    "duration": 95,
    "start_time": "2025-01-11T01:05:07.044Z"
   },
   {
    "duration": 20,
    "start_time": "2025-01-11T01:05:07.140Z"
   },
   {
    "duration": 96,
    "start_time": "2025-01-11T01:05:07.162Z"
   },
   {
    "duration": 106,
    "start_time": "2025-01-11T01:05:07.266Z"
   },
   {
    "duration": 30,
    "start_time": "2025-01-11T01:05:07.374Z"
   },
   {
    "duration": 12,
    "start_time": "2025-01-11T01:05:07.406Z"
   },
   {
    "duration": 4,
    "start_time": "2025-01-11T01:05:07.420Z"
   },
   {
    "duration": 43,
    "start_time": "2025-01-11T01:05:07.427Z"
   },
   {
    "duration": 9,
    "start_time": "2025-01-11T01:05:07.473Z"
   },
   {
    "duration": 4,
    "start_time": "2025-01-11T01:05:07.484Z"
   },
   {
    "duration": 8,
    "start_time": "2025-01-11T01:05:07.489Z"
   },
   {
    "duration": 9,
    "start_time": "2025-01-11T01:05:07.501Z"
   },
   {
    "duration": 4,
    "start_time": "2025-01-11T01:05:07.511Z"
   },
   {
    "duration": 27,
    "start_time": "2025-01-11T01:05:07.517Z"
   },
   {
    "duration": 861,
    "start_time": "2025-01-11T01:05:07.545Z"
   },
   {
    "duration": 750,
    "start_time": "2025-01-11T01:05:08.407Z"
   },
   {
    "duration": 8,
    "start_time": "2025-01-11T01:05:09.158Z"
   },
   {
    "duration": 7,
    "start_time": "2025-01-11T01:05:09.167Z"
   },
   {
    "duration": 6,
    "start_time": "2025-01-11T01:05:09.176Z"
   },
   {
    "duration": 5,
    "start_time": "2025-01-11T01:05:09.184Z"
   },
   {
    "duration": 15,
    "start_time": "2025-01-11T01:05:09.191Z"
   },
   {
    "duration": 35,
    "start_time": "2025-01-11T01:05:09.208Z"
   },
   {
    "duration": 49,
    "start_time": "2025-01-11T01:05:09.244Z"
   },
   {
    "duration": 11,
    "start_time": "2025-01-11T01:05:09.295Z"
   },
   {
    "duration": 330,
    "start_time": "2025-01-11T01:05:09.308Z"
   },
   {
    "duration": 65,
    "start_time": "2025-01-11T01:05:09.640Z"
   },
   {
    "duration": 27,
    "start_time": "2025-01-11T01:05:09.707Z"
   },
   {
    "duration": 42,
    "start_time": "2025-01-11T01:05:09.736Z"
   },
   {
    "duration": 227,
    "start_time": "2025-01-11T01:05:09.780Z"
   },
   {
    "duration": 168,
    "start_time": "2025-01-11T01:05:10.010Z"
   },
   {
    "duration": 34,
    "start_time": "2025-01-11T01:05:10.180Z"
   },
   {
    "duration": 210,
    "start_time": "2025-01-11T01:05:10.216Z"
   },
   {
    "duration": 4,
    "start_time": "2025-01-11T01:05:10.428Z"
   },
   {
    "duration": 32,
    "start_time": "2025-01-11T01:05:10.433Z"
   },
   {
    "duration": 241,
    "start_time": "2025-01-11T01:05:10.467Z"
   },
   {
    "duration": 204,
    "start_time": "2025-01-11T01:05:50.434Z"
   },
   {
    "duration": 18,
    "start_time": "2025-01-11T01:07:05.453Z"
   },
   {
    "duration": 11,
    "start_time": "2025-01-11T01:08:28.427Z"
   },
   {
    "duration": 727,
    "start_time": "2025-01-11T01:11:36.396Z"
   },
   {
    "duration": 1255,
    "start_time": "2025-01-11T01:12:52.971Z"
   },
   {
    "duration": 1274,
    "start_time": "2025-01-11T01:13:37.628Z"
   },
   {
    "duration": 19,
    "start_time": "2025-01-11T01:46:54.518Z"
   },
   {
    "duration": 21,
    "start_time": "2025-01-11T01:47:19.203Z"
   },
   {
    "duration": 229,
    "start_time": "2025-01-11T01:47:20.369Z"
   },
   {
    "duration": 728,
    "start_time": "2025-01-11T02:00:34.710Z"
   },
   {
    "duration": 1075,
    "start_time": "2025-01-11T02:00:44.085Z"
   },
   {
    "duration": 1116,
    "start_time": "2025-01-11T02:02:18.693Z"
   },
   {
    "duration": 167,
    "start_time": "2025-01-11T02:25:07.477Z"
   },
   {
    "duration": 14,
    "start_time": "2025-01-11T02:53:04.294Z"
   },
   {
    "duration": 13,
    "start_time": "2025-01-11T02:54:13.937Z"
   },
   {
    "duration": 279,
    "start_time": "2025-01-11T02:58:24.366Z"
   },
   {
    "duration": 313,
    "start_time": "2025-01-11T02:58:38.487Z"
   },
   {
    "duration": 18,
    "start_time": "2025-01-11T03:07:48.123Z"
   },
   {
    "duration": 19,
    "start_time": "2025-01-11T03:08:19.956Z"
   },
   {
    "duration": 18,
    "start_time": "2025-01-11T03:08:37.264Z"
   },
   {
    "duration": 20,
    "start_time": "2025-01-11T03:12:01.850Z"
   },
   {
    "duration": 10,
    "start_time": "2025-01-11T03:12:09.522Z"
   },
   {
    "duration": 153,
    "start_time": "2025-01-11T03:13:05.256Z"
   },
   {
    "duration": 149,
    "start_time": "2025-01-11T03:15:08.610Z"
   },
   {
    "duration": 161,
    "start_time": "2025-01-11T03:15:30.380Z"
   },
   {
    "duration": 67,
    "start_time": "2025-01-11T03:59:19.770Z"
   },
   {
    "duration": 61,
    "start_time": "2025-01-11T03:59:47.381Z"
   },
   {
    "duration": 504,
    "start_time": "2025-01-11T04:03:15.985Z"
   },
   {
    "duration": 495,
    "start_time": "2025-01-11T04:03:34.838Z"
   },
   {
    "duration": 602,
    "start_time": "2025-01-11T04:05:01.541Z"
   },
   {
    "duration": 559,
    "start_time": "2025-01-11T04:05:29.263Z"
   },
   {
    "duration": 98,
    "start_time": "2025-01-11T04:07:00.412Z"
   },
   {
    "duration": 95,
    "start_time": "2025-01-11T04:07:15.397Z"
   },
   {
    "duration": 15,
    "start_time": "2025-01-11T04:07:29.432Z"
   },
   {
    "duration": 434,
    "start_time": "2025-01-11T04:07:50.686Z"
   },
   {
    "duration": 2,
    "start_time": "2025-01-11T04:08:10.102Z"
   },
   {
    "duration": 31,
    "start_time": "2025-01-11T04:08:39.607Z"
   },
   {
    "duration": 3,
    "start_time": "2025-01-11T04:08:54.388Z"
   },
   {
    "duration": 32,
    "start_time": "2025-01-11T04:09:41.144Z"
   },
   {
    "duration": 114,
    "start_time": "2025-01-11T04:11:29.089Z"
   },
   {
    "duration": 4,
    "start_time": "2025-01-11T04:11:40.391Z"
   },
   {
    "duration": 11,
    "start_time": "2025-01-11T04:11:45.000Z"
   },
   {
    "duration": 7,
    "start_time": "2025-01-11T04:12:29.076Z"
   },
   {
    "duration": 10,
    "start_time": "2025-01-11T04:13:22.381Z"
   },
   {
    "duration": 3,
    "start_time": "2025-01-11T04:14:21.584Z"
   },
   {
    "duration": 8,
    "start_time": "2025-01-11T07:54:33.435Z"
   },
   {
    "duration": 0,
    "start_time": "2025-01-11T07:54:33.444Z"
   },
   {
    "duration": 0,
    "start_time": "2025-01-11T07:54:33.446Z"
   },
   {
    "duration": 0,
    "start_time": "2025-01-11T07:54:33.448Z"
   },
   {
    "duration": 0,
    "start_time": "2025-01-11T07:54:33.449Z"
   },
   {
    "duration": 0,
    "start_time": "2025-01-11T07:54:33.450Z"
   },
   {
    "duration": 0,
    "start_time": "2025-01-11T07:54:33.450Z"
   },
   {
    "duration": 211,
    "start_time": "2025-01-11T07:54:33.452Z"
   },
   {
    "duration": 0,
    "start_time": "2025-01-11T07:54:33.667Z"
   },
   {
    "duration": 0,
    "start_time": "2025-01-11T07:54:33.668Z"
   },
   {
    "duration": 0,
    "start_time": "2025-01-11T07:54:33.669Z"
   },
   {
    "duration": 0,
    "start_time": "2025-01-11T07:54:33.670Z"
   },
   {
    "duration": 0,
    "start_time": "2025-01-11T07:54:33.671Z"
   },
   {
    "duration": 0,
    "start_time": "2025-01-11T07:54:33.672Z"
   },
   {
    "duration": 0,
    "start_time": "2025-01-11T07:54:33.673Z"
   },
   {
    "duration": 0,
    "start_time": "2025-01-11T07:54:33.675Z"
   },
   {
    "duration": 0,
    "start_time": "2025-01-11T07:54:33.676Z"
   },
   {
    "duration": 0,
    "start_time": "2025-01-11T07:54:33.678Z"
   },
   {
    "duration": 0,
    "start_time": "2025-01-11T07:54:33.679Z"
   },
   {
    "duration": 0,
    "start_time": "2025-01-11T07:54:33.681Z"
   },
   {
    "duration": 0,
    "start_time": "2025-01-11T07:54:33.682Z"
   },
   {
    "duration": 0,
    "start_time": "2025-01-11T07:54:33.683Z"
   },
   {
    "duration": 0,
    "start_time": "2025-01-11T07:54:33.685Z"
   },
   {
    "duration": 0,
    "start_time": "2025-01-11T07:54:33.686Z"
   },
   {
    "duration": 0,
    "start_time": "2025-01-11T07:54:33.689Z"
   },
   {
    "duration": 0,
    "start_time": "2025-01-11T07:54:33.691Z"
   },
   {
    "duration": 0,
    "start_time": "2025-01-11T07:54:33.692Z"
   },
   {
    "duration": 0,
    "start_time": "2025-01-11T07:54:33.693Z"
   },
   {
    "duration": 0,
    "start_time": "2025-01-11T07:54:33.695Z"
   },
   {
    "duration": 0,
    "start_time": "2025-01-11T07:54:33.696Z"
   },
   {
    "duration": 0,
    "start_time": "2025-01-11T07:54:33.742Z"
   },
   {
    "duration": 0,
    "start_time": "2025-01-11T07:54:33.744Z"
   },
   {
    "duration": 0,
    "start_time": "2025-01-11T07:54:33.745Z"
   },
   {
    "duration": 0,
    "start_time": "2025-01-11T07:54:33.747Z"
   },
   {
    "duration": 0,
    "start_time": "2025-01-11T07:54:33.748Z"
   },
   {
    "duration": 0,
    "start_time": "2025-01-11T07:54:33.749Z"
   },
   {
    "duration": 0,
    "start_time": "2025-01-11T07:54:33.750Z"
   },
   {
    "duration": 0,
    "start_time": "2025-01-11T07:54:33.751Z"
   },
   {
    "duration": 0,
    "start_time": "2025-01-11T07:54:33.752Z"
   },
   {
    "duration": 0,
    "start_time": "2025-01-11T07:54:33.753Z"
   },
   {
    "duration": 0,
    "start_time": "2025-01-11T07:54:33.754Z"
   },
   {
    "duration": 0,
    "start_time": "2025-01-11T07:54:33.755Z"
   },
   {
    "duration": 0,
    "start_time": "2025-01-11T07:54:33.756Z"
   },
   {
    "duration": 0,
    "start_time": "2025-01-11T07:54:33.757Z"
   },
   {
    "duration": 0,
    "start_time": "2025-01-11T07:54:33.759Z"
   },
   {
    "duration": 0,
    "start_time": "2025-01-11T07:54:33.760Z"
   },
   {
    "duration": 0,
    "start_time": "2025-01-11T07:54:33.761Z"
   },
   {
    "duration": 0,
    "start_time": "2025-01-11T07:54:33.762Z"
   },
   {
    "duration": 0,
    "start_time": "2025-01-11T07:54:33.763Z"
   },
   {
    "duration": 0,
    "start_time": "2025-01-11T07:54:33.764Z"
   },
   {
    "duration": 1,
    "start_time": "2025-01-11T07:54:33.764Z"
   },
   {
    "duration": 0,
    "start_time": "2025-01-11T07:54:33.766Z"
   },
   {
    "duration": 1,
    "start_time": "2025-01-11T07:54:33.767Z"
   },
   {
    "duration": 0,
    "start_time": "2025-01-11T07:54:33.769Z"
   },
   {
    "duration": 0,
    "start_time": "2025-01-11T07:54:33.771Z"
   },
   {
    "duration": 0,
    "start_time": "2025-01-11T07:54:33.773Z"
   },
   {
    "duration": 0,
    "start_time": "2025-01-11T07:54:33.776Z"
   },
   {
    "duration": 0,
    "start_time": "2025-01-11T07:54:33.777Z"
   },
   {
    "duration": 0,
    "start_time": "2025-01-11T07:54:33.779Z"
   },
   {
    "duration": 0,
    "start_time": "2025-01-11T07:54:33.781Z"
   },
   {
    "duration": 0,
    "start_time": "2025-01-11T07:54:33.782Z"
   },
   {
    "duration": 0,
    "start_time": "2025-01-11T07:54:33.783Z"
   },
   {
    "duration": 2108,
    "start_time": "2025-01-11T07:57:50.036Z"
   },
   {
    "duration": 158,
    "start_time": "2025-01-11T07:57:52.146Z"
   },
   {
    "duration": 11,
    "start_time": "2025-01-11T07:57:52.306Z"
   },
   {
    "duration": 121,
    "start_time": "2025-01-11T07:57:52.319Z"
   },
   {
    "duration": 57,
    "start_time": "2025-01-11T07:57:52.442Z"
   },
   {
    "duration": 9,
    "start_time": "2025-01-11T07:57:52.501Z"
   },
   {
    "duration": 14,
    "start_time": "2025-01-11T07:57:52.512Z"
   },
   {
    "duration": 10,
    "start_time": "2025-01-11T07:57:52.527Z"
   },
   {
    "duration": 10,
    "start_time": "2025-01-11T07:57:52.538Z"
   },
   {
    "duration": 9,
    "start_time": "2025-01-11T07:57:52.551Z"
   },
   {
    "duration": 10,
    "start_time": "2025-01-11T07:57:52.561Z"
   },
   {
    "duration": 8,
    "start_time": "2025-01-11T07:57:52.572Z"
   },
   {
    "duration": 9,
    "start_time": "2025-01-11T07:57:52.581Z"
   },
   {
    "duration": 812,
    "start_time": "2025-01-11T07:57:52.591Z"
   },
   {
    "duration": 7,
    "start_time": "2025-01-11T07:57:53.405Z"
   },
   {
    "duration": 495,
    "start_time": "2025-01-11T07:57:53.414Z"
   },
   {
    "duration": 85,
    "start_time": "2025-01-11T07:57:53.911Z"
   },
   {
    "duration": 12,
    "start_time": "2025-01-11T07:57:53.998Z"
   },
   {
    "duration": 93,
    "start_time": "2025-01-11T07:57:54.012Z"
   },
   {
    "duration": 98,
    "start_time": "2025-01-11T07:57:54.107Z"
   },
   {
    "duration": 27,
    "start_time": "2025-01-11T07:57:54.207Z"
   },
   {
    "duration": 12,
    "start_time": "2025-01-11T07:57:54.243Z"
   },
   {
    "duration": 6,
    "start_time": "2025-01-11T07:57:54.257Z"
   },
   {
    "duration": 19,
    "start_time": "2025-01-11T07:57:54.264Z"
   },
   {
    "duration": 9,
    "start_time": "2025-01-11T07:57:54.284Z"
   },
   {
    "duration": 4,
    "start_time": "2025-01-11T07:57:54.295Z"
   },
   {
    "duration": 43,
    "start_time": "2025-01-11T07:57:54.301Z"
   },
   {
    "duration": 7,
    "start_time": "2025-01-11T07:57:54.349Z"
   },
   {
    "duration": 5,
    "start_time": "2025-01-11T07:57:54.359Z"
   },
   {
    "duration": 5,
    "start_time": "2025-01-11T07:57:54.365Z"
   },
   {
    "duration": 750,
    "start_time": "2025-01-11T07:57:54.372Z"
   },
   {
    "duration": 666,
    "start_time": "2025-01-11T07:57:55.124Z"
   },
   {
    "duration": 5,
    "start_time": "2025-01-11T07:57:55.792Z"
   },
   {
    "duration": 5,
    "start_time": "2025-01-11T07:57:55.799Z"
   },
   {
    "duration": 5,
    "start_time": "2025-01-11T07:57:55.806Z"
   },
   {
    "duration": 5,
    "start_time": "2025-01-11T07:57:55.812Z"
   },
   {
    "duration": 35,
    "start_time": "2025-01-11T07:57:55.818Z"
   },
   {
    "duration": 13,
    "start_time": "2025-01-11T07:57:55.854Z"
   },
   {
    "duration": 31,
    "start_time": "2025-01-11T07:57:55.868Z"
   },
   {
    "duration": 11,
    "start_time": "2025-01-11T07:57:55.901Z"
   },
   {
    "duration": 284,
    "start_time": "2025-01-11T07:57:55.942Z"
   },
   {
    "duration": 54,
    "start_time": "2025-01-11T07:57:56.228Z"
   },
   {
    "duration": 25,
    "start_time": "2025-01-11T07:57:56.283Z"
   },
   {
    "duration": 33,
    "start_time": "2025-01-11T07:57:56.310Z"
   },
   {
    "duration": 225,
    "start_time": "2025-01-11T07:57:56.345Z"
   },
   {
    "duration": 134,
    "start_time": "2025-01-11T07:57:56.572Z"
   },
   {
    "duration": 42,
    "start_time": "2025-01-11T07:57:56.708Z"
   },
   {
    "duration": 205,
    "start_time": "2025-01-11T07:57:56.752Z"
   },
   {
    "duration": 3,
    "start_time": "2025-01-11T07:57:56.959Z"
   },
   {
    "duration": 20,
    "start_time": "2025-01-11T07:57:56.965Z"
   },
   {
    "duration": 180,
    "start_time": "2025-01-11T07:57:56.989Z"
   },
   {
    "duration": 12,
    "start_time": "2025-01-11T07:57:57.171Z"
   },
   {
    "duration": 138,
    "start_time": "2025-01-11T07:57:57.185Z"
   },
   {
    "duration": 1121,
    "start_time": "2025-01-11T07:57:57.325Z"
   },
   {
    "duration": 245,
    "start_time": "2025-01-11T07:57:58.448Z"
   },
   {
    "duration": 10,
    "start_time": "2025-01-11T07:57:58.694Z"
   },
   {
    "duration": 170,
    "start_time": "2025-01-11T07:57:58.705Z"
   },
   {
    "duration": 158,
    "start_time": "2025-01-11T07:57:58.877Z"
   },
   {
    "duration": 12,
    "start_time": "2025-01-11T07:57:59.037Z"
   },
   {
    "duration": 2,
    "start_time": "2025-01-11T07:57:59.051Z"
   },
   {
    "duration": 2,
    "start_time": "2025-01-11T07:57:59.055Z"
   },
   {
    "duration": 7,
    "start_time": "2025-01-11T08:02:30.279Z"
   }
  ],
  "kernelspec": {
   "display_name": "Python 3 (ipykernel)",
   "language": "python",
   "name": "python3"
  },
  "language_info": {
   "codemirror_mode": {
    "name": "ipython",
    "version": 3
   },
   "file_extension": ".py",
   "mimetype": "text/x-python",
   "name": "python",
   "nbconvert_exporter": "python",
   "pygments_lexer": "ipython3",
   "version": "3.9.19"
  },
  "toc": {
   "base_numbering": 1,
   "nav_menu": {},
   "number_sections": true,
   "sideBar": true,
   "skip_h1_title": true,
   "title_cell": "Table of Contents",
   "title_sidebar": "Contents",
   "toc_cell": false,
   "toc_position": {},
   "toc_section_display": true,
   "toc_window_display": false
  },
  "vscode": {
   "interpreter": {
    "hash": "01a7be9ec63e704a62cefc5fe7a4756944464ee731be31632bdf42a4cb4688cf"
   }
  }
 },
 "nbformat": 4,
 "nbformat_minor": 5
}
