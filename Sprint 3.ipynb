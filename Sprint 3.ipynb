{
 "cells": [
  {
   "cell_type": "markdown",
   "metadata": {},
   "source": [
    "# \"Revenue Analysis of Megaline Prepaid Plans\" "
   ]
  },
  {
   "cell_type": "markdown",
   "metadata": {},
   "source": [
    "The telecom operator Megaline offers two prepaid plans, Surf and Ultimate, to its clients. To optimize its advertising budget and drive revenue growth, the company seeks to understand which of these plans generates more revenue. This analysis is based on data from 500 Megaline clients, including information on their call usage, text messages, internet consumption, and plan subscriptions. The goal of this project is to analyze customer behavior, evaluate revenue contributions from each plan, and provide data-driven insights to guide Megaline's strategic decisions. Through data cleaning, exploration, and statistical hypothesis testing, we aim to uncover trends and patterns that highlight the more profitable prepaid plan."
   ]
  },
  {
   "cell_type": "markdown",
   "metadata": {},
   "source": [
    "## Initialization"
   ]
  },
  {
   "cell_type": "markdown",
   "metadata": {},
   "source": [
    "Loaded various Python libraries, such as pandas, numpy, matplotlib, seaborn, and others, to aid in data analysis, visualization, and statistical testing."
   ]
  },
  {
   "cell_type": "code",
   "execution_count": 1,
   "metadata": {},
   "outputs": [],
   "source": [
    "# Loading all the libraries\n",
    "import pandas as pd\n",
    "import random\n",
    "import numpy as np\n",
    "from matplotlib import pyplot as plt\n",
    "from math import factorial\n",
    "from scipy import stats\n",
    "import math as mt\n",
    "import seaborn as sns\n",
    "from scipy.stats import ttest_ind"
   ]
  },
  {
   "cell_type": "markdown",
   "metadata": {},
   "source": [
    "## Load data"
   ]
  },
  {
   "cell_type": "markdown",
   "metadata": {},
   "source": [
    "Loaded all provided datasets into separate DataFrames for further processing and displayed the first few rows of each DataFrame using .head()."
   ]
  },
  {
   "cell_type": "code",
   "execution_count": 2,
   "metadata": {},
   "outputs": [
    {
     "name": "stdout",
     "output_type": "stream",
     "text": [
      "         id  user_id   call_date  duration\n",
      "0   1000_93     1000  2018-12-27      8.52\n",
      "1  1000_145     1000  2018-12-27     13.66\n",
      "2  1000_247     1000  2018-12-27     14.48\n",
      "3  1000_309     1000  2018-12-28      5.76\n",
      "4  1000_380     1000  2018-12-30      4.22\n",
      "         id  user_id session_date  mb_used\n",
      "0   1000_13     1000   2018-12-29    89.86\n",
      "1  1000_204     1000   2018-12-31     0.00\n",
      "2  1000_379     1000   2018-12-28   660.40\n",
      "3  1000_413     1000   2018-12-26   270.99\n",
      "4  1000_442     1000   2018-12-27   880.22\n",
      "         id  user_id message_date\n",
      "0  1000_125     1000   2018-12-27\n",
      "1  1000_160     1000   2018-12-31\n",
      "2  1000_223     1000   2018-12-31\n",
      "3  1000_251     1000   2018-12-27\n",
      "4  1000_255     1000   2018-12-26\n",
      "   messages_included  mb_per_month_included  minutes_included  \\\n",
      "0                 50                  15360               500   \n",
      "1               1000                  30720              3000   \n",
      "\n",
      "   usd_monthly_pay  usd_per_gb  usd_per_message  usd_per_minute plan_name  \n",
      "0               20          10             0.03            0.03      surf  \n",
      "1               70           7             0.01            0.01  ultimate  \n",
      "   user_id first_name  last_name  age                                   city  \\\n",
      "0     1000   Anamaria      Bauer   45  Atlanta-Sandy Springs-Roswell, GA MSA   \n",
      "1     1001     Mickey  Wilkerson   28        Seattle-Tacoma-Bellevue, WA MSA   \n",
      "2     1002     Carlee    Hoffman   36   Las Vegas-Henderson-Paradise, NV MSA   \n",
      "3     1003   Reynaldo    Jenkins   52                          Tulsa, OK MSA   \n",
      "4     1004    Leonila   Thompson   40        Seattle-Tacoma-Bellevue, WA MSA   \n",
      "\n",
      "     reg_date      plan churn_date  \n",
      "0  2018-12-24  ultimate        NaN  \n",
      "1  2018-08-13      surf        NaN  \n",
      "2  2018-10-21      surf        NaN  \n",
      "3  2018-01-28      surf        NaN  \n",
      "4  2018-05-23      surf        NaN  \n"
     ]
    }
   ],
   "source": [
    "# Load the data files into different DataFrames\n",
    "df_calls= pd.read_csv('/datasets/megaline_calls.csv')\n",
    "\n",
    "df_internet= pd.read_csv('/datasets/megaline_internet.csv')\n",
    "\n",
    "df_messages= pd.read_csv('/datasets/megaline_messages.csv')\n",
    "\n",
    "df_plans= pd.read_csv('/datasets/megaline_plans.csv')\n",
    "\n",
    "df_users= pd.read_csv('/datasets/megaline_users.csv')\n",
    "\n",
    "print(df_calls.head())\n",
    "print(df_internet.head())\n",
    "print(df_messages.head())\n",
    "print(df_plans.head())\n",
    "print(df_users.head())"
   ]
  },
  {
   "cell_type": "markdown",
   "metadata": {},
   "source": [
    "## Prepare the data"
   ]
  },
  {
   "cell_type": "code",
   "execution_count": 3,
   "metadata": {},
   "outputs": [
    {
     "name": "stdout",
     "output_type": "stream",
     "text": [
      "<class 'pandas.core.frame.DataFrame'>\n",
      "RangeIndex: 137735 entries, 0 to 137734\n",
      "Data columns (total 4 columns):\n",
      " #   Column     Non-Null Count   Dtype  \n",
      "---  ------     --------------   -----  \n",
      " 0   id         137735 non-null  object \n",
      " 1   user_id    137735 non-null  int64  \n",
      " 2   call_date  137735 non-null  object \n",
      " 3   duration   137735 non-null  float64\n",
      "dtypes: float64(1), int64(1), object(2)\n",
      "memory usage: 4.2+ MB\n"
     ]
    },
    {
     "data": {
      "text/plain": [
       "count    137735.000000\n",
       "mean          6.745927\n",
       "std           5.839241\n",
       "min           0.000000\n",
       "25%           1.290000\n",
       "50%           5.980000\n",
       "75%          10.690000\n",
       "max          37.600000\n",
       "Name: duration, dtype: float64"
      ]
     },
     "execution_count": 3,
     "metadata": {},
     "output_type": "execute_result"
    }
   ],
   "source": [
    "df_calls= pd.read_csv('/datasets/megaline_calls.csv')\n",
    "df_calls.info()\n",
    "df_calls['duration'].describe()"
   ]
  },
  {
   "cell_type": "code",
   "execution_count": 4,
   "metadata": {},
   "outputs": [
    {
     "name": "stdout",
     "output_type": "stream",
     "text": [
      "0        2018-12-27\n",
      "1        2018-12-27\n",
      "2        2018-12-27\n",
      "3        2018-12-28\n",
      "4        2018-12-30\n",
      "            ...    \n",
      "137730   2018-11-21\n",
      "137731   2018-10-20\n",
      "137732   2018-09-21\n",
      "137733   2018-10-10\n",
      "137734   2018-12-29\n",
      "Name: call_date, Length: 137735, dtype: datetime64[ns]\n"
     ]
    }
   ],
   "source": [
    "df_calls['call_date'] = pd.to_datetime(df_calls['call_date'])\n",
    "print(df_calls['call_date'])"
   ]
  },
  {
   "cell_type": "code",
   "execution_count": 5,
   "metadata": {},
   "outputs": [
    {
     "data": {
      "text/plain": [
       "0"
      ]
     },
     "execution_count": 5,
     "metadata": {},
     "output_type": "execute_result"
    }
   ],
   "source": [
    "calls_duplicates = df_calls.duplicated().sum()\n",
    "calls_duplicates"
   ]
  },
  {
   "cell_type": "code",
   "execution_count": 6,
   "metadata": {},
   "outputs": [
    {
     "data": {
      "text/plain": [
       "id           0\n",
       "user_id      0\n",
       "call_date    0\n",
       "duration     0\n",
       "dtype: int64"
      ]
     },
     "execution_count": 6,
     "metadata": {},
     "output_type": "execute_result"
    }
   ],
   "source": [
    "missing_values_calls = df_calls.isnull().sum()\n",
    "missing_values_calls"
   ]
  },
  {
   "cell_type": "markdown",
   "metadata": {},
   "source": [
    "Here I've prepared the megaline_calls dataset by inspecting its structure and summary statistics using .info() and .describe(), converted the call_date column to a datetime format, checked for duplicate rows and missing values, and confirmed that there were no issues."
   ]
  },
  {
   "cell_type": "code",
   "execution_count": 7,
   "metadata": {},
   "outputs": [
    {
     "name": "stdout",
     "output_type": "stream",
     "text": [
      "<class 'pandas.core.frame.DataFrame'>\n",
      "RangeIndex: 104825 entries, 0 to 104824\n",
      "Data columns (total 4 columns):\n",
      " #   Column        Non-Null Count   Dtype  \n",
      "---  ------        --------------   -----  \n",
      " 0   id            104825 non-null  object \n",
      " 1   user_id       104825 non-null  int64  \n",
      " 2   session_date  104825 non-null  object \n",
      " 3   mb_used       104825 non-null  float64\n",
      "dtypes: float64(1), int64(1), object(2)\n",
      "memory usage: 3.2+ MB\n"
     ]
    },
    {
     "data": {
      "text/html": [
       "<div>\n",
       "<style scoped>\n",
       "    .dataframe tbody tr th:only-of-type {\n",
       "        vertical-align: middle;\n",
       "    }\n",
       "\n",
       "    .dataframe tbody tr th {\n",
       "        vertical-align: top;\n",
       "    }\n",
       "\n",
       "    .dataframe thead th {\n",
       "        text-align: right;\n",
       "    }\n",
       "</style>\n",
       "<table border=\"1\" class=\"dataframe\">\n",
       "  <thead>\n",
       "    <tr style=\"text-align: right;\">\n",
       "      <th></th>\n",
       "      <th>user_id</th>\n",
       "      <th>mb_used</th>\n",
       "    </tr>\n",
       "  </thead>\n",
       "  <tbody>\n",
       "    <tr>\n",
       "      <th>count</th>\n",
       "      <td>104825.000000</td>\n",
       "      <td>104825.000000</td>\n",
       "    </tr>\n",
       "    <tr>\n",
       "      <th>mean</th>\n",
       "      <td>1242.496361</td>\n",
       "      <td>366.713701</td>\n",
       "    </tr>\n",
       "    <tr>\n",
       "      <th>std</th>\n",
       "      <td>142.053913</td>\n",
       "      <td>277.170542</td>\n",
       "    </tr>\n",
       "    <tr>\n",
       "      <th>min</th>\n",
       "      <td>1000.000000</td>\n",
       "      <td>0.000000</td>\n",
       "    </tr>\n",
       "    <tr>\n",
       "      <th>25%</th>\n",
       "      <td>1122.000000</td>\n",
       "      <td>136.080000</td>\n",
       "    </tr>\n",
       "    <tr>\n",
       "      <th>50%</th>\n",
       "      <td>1236.000000</td>\n",
       "      <td>343.980000</td>\n",
       "    </tr>\n",
       "    <tr>\n",
       "      <th>75%</th>\n",
       "      <td>1367.000000</td>\n",
       "      <td>554.610000</td>\n",
       "    </tr>\n",
       "    <tr>\n",
       "      <th>max</th>\n",
       "      <td>1499.000000</td>\n",
       "      <td>1693.470000</td>\n",
       "    </tr>\n",
       "  </tbody>\n",
       "</table>\n",
       "</div>"
      ],
      "text/plain": [
       "             user_id        mb_used\n",
       "count  104825.000000  104825.000000\n",
       "mean     1242.496361     366.713701\n",
       "std       142.053913     277.170542\n",
       "min      1000.000000       0.000000\n",
       "25%      1122.000000     136.080000\n",
       "50%      1236.000000     343.980000\n",
       "75%      1367.000000     554.610000\n",
       "max      1499.000000    1693.470000"
      ]
     },
     "execution_count": 7,
     "metadata": {},
     "output_type": "execute_result"
    }
   ],
   "source": [
    "df_internet= pd.read_csv('/datasets/megaline_internet.csv')\n",
    "df_internet.info()\n",
    "df_internet.describe()"
   ]
  },
  {
   "cell_type": "code",
   "execution_count": 8,
   "metadata": {},
   "outputs": [
    {
     "data": {
      "text/plain": [
       "0"
      ]
     },
     "execution_count": 8,
     "metadata": {},
     "output_type": "execute_result"
    }
   ],
   "source": [
    "internet_duplicates = df_internet.duplicated().sum()\n",
    "internet_duplicates"
   ]
  },
  {
   "cell_type": "code",
   "execution_count": 9,
   "metadata": {},
   "outputs": [
    {
     "data": {
      "text/plain": [
       "id              0\n",
       "user_id         0\n",
       "session_date    0\n",
       "mb_used         0\n",
       "dtype: int64"
      ]
     },
     "execution_count": 9,
     "metadata": {},
     "output_type": "execute_result"
    }
   ],
   "source": [
    "missing_values_internet = df_internet.isnull().sum()\n",
    "missing_values_internet"
   ]
  },
  {
   "cell_type": "markdown",
   "metadata": {},
   "source": [
    "Here I've prepared the megaline_internet dataset by inspecting its structure and summary statistics using .info() and .describe(), checked for duplicate rows and missing values in the data, and verified that there were no issues. "
   ]
  },
  {
   "cell_type": "code",
   "execution_count": 10,
   "metadata": {},
   "outputs": [
    {
     "name": "stdout",
     "output_type": "stream",
     "text": [
      "<class 'pandas.core.frame.DataFrame'>\n",
      "RangeIndex: 76051 entries, 0 to 76050\n",
      "Data columns (total 3 columns):\n",
      " #   Column        Non-Null Count  Dtype \n",
      "---  ------        --------------  ----- \n",
      " 0   id            76051 non-null  object\n",
      " 1   user_id       76051 non-null  int64 \n",
      " 2   message_date  76051 non-null  object\n",
      "dtypes: int64(1), object(2)\n",
      "memory usage: 1.7+ MB\n"
     ]
    },
    {
     "data": {
      "text/html": [
       "<div>\n",
       "<style scoped>\n",
       "    .dataframe tbody tr th:only-of-type {\n",
       "        vertical-align: middle;\n",
       "    }\n",
       "\n",
       "    .dataframe tbody tr th {\n",
       "        vertical-align: top;\n",
       "    }\n",
       "\n",
       "    .dataframe thead th {\n",
       "        text-align: right;\n",
       "    }\n",
       "</style>\n",
       "<table border=\"1\" class=\"dataframe\">\n",
       "  <thead>\n",
       "    <tr style=\"text-align: right;\">\n",
       "      <th></th>\n",
       "      <th>user_id</th>\n",
       "    </tr>\n",
       "  </thead>\n",
       "  <tbody>\n",
       "    <tr>\n",
       "      <th>count</th>\n",
       "      <td>76051.000000</td>\n",
       "    </tr>\n",
       "    <tr>\n",
       "      <th>mean</th>\n",
       "      <td>1245.972768</td>\n",
       "    </tr>\n",
       "    <tr>\n",
       "      <th>std</th>\n",
       "      <td>139.843635</td>\n",
       "    </tr>\n",
       "    <tr>\n",
       "      <th>min</th>\n",
       "      <td>1000.000000</td>\n",
       "    </tr>\n",
       "    <tr>\n",
       "      <th>25%</th>\n",
       "      <td>1123.000000</td>\n",
       "    </tr>\n",
       "    <tr>\n",
       "      <th>50%</th>\n",
       "      <td>1251.000000</td>\n",
       "    </tr>\n",
       "    <tr>\n",
       "      <th>75%</th>\n",
       "      <td>1362.000000</td>\n",
       "    </tr>\n",
       "    <tr>\n",
       "      <th>max</th>\n",
       "      <td>1497.000000</td>\n",
       "    </tr>\n",
       "  </tbody>\n",
       "</table>\n",
       "</div>"
      ],
      "text/plain": [
       "            user_id\n",
       "count  76051.000000\n",
       "mean    1245.972768\n",
       "std      139.843635\n",
       "min     1000.000000\n",
       "25%     1123.000000\n",
       "50%     1251.000000\n",
       "75%     1362.000000\n",
       "max     1497.000000"
      ]
     },
     "execution_count": 10,
     "metadata": {},
     "output_type": "execute_result"
    }
   ],
   "source": [
    "df_messages= pd.read_csv('/datasets/megaline_messages.csv')\n",
    "df_messages.info()\n",
    "df_messages.describe()"
   ]
  },
  {
   "cell_type": "code",
   "execution_count": 11,
   "metadata": {},
   "outputs": [
    {
     "data": {
      "text/plain": [
       "0"
      ]
     },
     "execution_count": 11,
     "metadata": {},
     "output_type": "execute_result"
    }
   ],
   "source": [
    "messages_duplicates = df_messages.duplicated().sum()\n",
    "messages_duplicates"
   ]
  },
  {
   "cell_type": "code",
   "execution_count": 12,
   "metadata": {},
   "outputs": [
    {
     "data": {
      "text/plain": [
       "id              0\n",
       "user_id         0\n",
       "message_date    0\n",
       "dtype: int64"
      ]
     },
     "execution_count": 12,
     "metadata": {},
     "output_type": "execute_result"
    }
   ],
   "source": [
    "missing_values_messages = df_messages.isnull().sum()\n",
    "missing_values_messages"
   ]
  },
  {
   "cell_type": "markdown",
   "metadata": {},
   "source": [
    "Here I've prepared the megaline_messages dataset by inspecting its structure and summary statistics using .info() and .describe(), checked for duplicate rows and missing values in the data, and verified that there were no issues."
   ]
  },
  {
   "cell_type": "code",
   "execution_count": 13,
   "metadata": {},
   "outputs": [
    {
     "name": "stdout",
     "output_type": "stream",
     "text": [
      "<class 'pandas.core.frame.DataFrame'>\n",
      "RangeIndex: 2 entries, 0 to 1\n",
      "Data columns (total 8 columns):\n",
      " #   Column                 Non-Null Count  Dtype  \n",
      "---  ------                 --------------  -----  \n",
      " 0   messages_included      2 non-null      int64  \n",
      " 1   mb_per_month_included  2 non-null      int64  \n",
      " 2   minutes_included       2 non-null      int64  \n",
      " 3   usd_monthly_pay        2 non-null      int64  \n",
      " 4   usd_per_gb             2 non-null      int64  \n",
      " 5   usd_per_message        2 non-null      float64\n",
      " 6   usd_per_minute         2 non-null      float64\n",
      " 7   plan_name              2 non-null      object \n",
      "dtypes: float64(2), int64(5), object(1)\n",
      "memory usage: 256.0+ bytes\n"
     ]
    },
    {
     "data": {
      "text/html": [
       "<div>\n",
       "<style scoped>\n",
       "    .dataframe tbody tr th:only-of-type {\n",
       "        vertical-align: middle;\n",
       "    }\n",
       "\n",
       "    .dataframe tbody tr th {\n",
       "        vertical-align: top;\n",
       "    }\n",
       "\n",
       "    .dataframe thead th {\n",
       "        text-align: right;\n",
       "    }\n",
       "</style>\n",
       "<table border=\"1\" class=\"dataframe\">\n",
       "  <thead>\n",
       "    <tr style=\"text-align: right;\">\n",
       "      <th></th>\n",
       "      <th>messages_included</th>\n",
       "      <th>mb_per_month_included</th>\n",
       "      <th>minutes_included</th>\n",
       "      <th>usd_monthly_pay</th>\n",
       "      <th>usd_per_gb</th>\n",
       "      <th>usd_per_message</th>\n",
       "      <th>usd_per_minute</th>\n",
       "    </tr>\n",
       "  </thead>\n",
       "  <tbody>\n",
       "    <tr>\n",
       "      <th>count</th>\n",
       "      <td>2.000000</td>\n",
       "      <td>2.000000</td>\n",
       "      <td>2.000000</td>\n",
       "      <td>2.000000</td>\n",
       "      <td>2.00000</td>\n",
       "      <td>2.000000</td>\n",
       "      <td>2.000000</td>\n",
       "    </tr>\n",
       "    <tr>\n",
       "      <th>mean</th>\n",
       "      <td>525.000000</td>\n",
       "      <td>23040.000000</td>\n",
       "      <td>1750.000000</td>\n",
       "      <td>45.000000</td>\n",
       "      <td>8.50000</td>\n",
       "      <td>0.020000</td>\n",
       "      <td>0.020000</td>\n",
       "    </tr>\n",
       "    <tr>\n",
       "      <th>std</th>\n",
       "      <td>671.751442</td>\n",
       "      <td>10861.160159</td>\n",
       "      <td>1767.766953</td>\n",
       "      <td>35.355339</td>\n",
       "      <td>2.12132</td>\n",
       "      <td>0.014142</td>\n",
       "      <td>0.014142</td>\n",
       "    </tr>\n",
       "    <tr>\n",
       "      <th>min</th>\n",
       "      <td>50.000000</td>\n",
       "      <td>15360.000000</td>\n",
       "      <td>500.000000</td>\n",
       "      <td>20.000000</td>\n",
       "      <td>7.00000</td>\n",
       "      <td>0.010000</td>\n",
       "      <td>0.010000</td>\n",
       "    </tr>\n",
       "    <tr>\n",
       "      <th>25%</th>\n",
       "      <td>287.500000</td>\n",
       "      <td>19200.000000</td>\n",
       "      <td>1125.000000</td>\n",
       "      <td>32.500000</td>\n",
       "      <td>7.75000</td>\n",
       "      <td>0.015000</td>\n",
       "      <td>0.015000</td>\n",
       "    </tr>\n",
       "    <tr>\n",
       "      <th>50%</th>\n",
       "      <td>525.000000</td>\n",
       "      <td>23040.000000</td>\n",
       "      <td>1750.000000</td>\n",
       "      <td>45.000000</td>\n",
       "      <td>8.50000</td>\n",
       "      <td>0.020000</td>\n",
       "      <td>0.020000</td>\n",
       "    </tr>\n",
       "    <tr>\n",
       "      <th>75%</th>\n",
       "      <td>762.500000</td>\n",
       "      <td>26880.000000</td>\n",
       "      <td>2375.000000</td>\n",
       "      <td>57.500000</td>\n",
       "      <td>9.25000</td>\n",
       "      <td>0.025000</td>\n",
       "      <td>0.025000</td>\n",
       "    </tr>\n",
       "    <tr>\n",
       "      <th>max</th>\n",
       "      <td>1000.000000</td>\n",
       "      <td>30720.000000</td>\n",
       "      <td>3000.000000</td>\n",
       "      <td>70.000000</td>\n",
       "      <td>10.00000</td>\n",
       "      <td>0.030000</td>\n",
       "      <td>0.030000</td>\n",
       "    </tr>\n",
       "  </tbody>\n",
       "</table>\n",
       "</div>"
      ],
      "text/plain": [
       "       messages_included  mb_per_month_included  minutes_included  \\\n",
       "count           2.000000               2.000000          2.000000   \n",
       "mean          525.000000           23040.000000       1750.000000   \n",
       "std           671.751442           10861.160159       1767.766953   \n",
       "min            50.000000           15360.000000        500.000000   \n",
       "25%           287.500000           19200.000000       1125.000000   \n",
       "50%           525.000000           23040.000000       1750.000000   \n",
       "75%           762.500000           26880.000000       2375.000000   \n",
       "max          1000.000000           30720.000000       3000.000000   \n",
       "\n",
       "       usd_monthly_pay  usd_per_gb  usd_per_message  usd_per_minute  \n",
       "count         2.000000     2.00000         2.000000        2.000000  \n",
       "mean         45.000000     8.50000         0.020000        0.020000  \n",
       "std          35.355339     2.12132         0.014142        0.014142  \n",
       "min          20.000000     7.00000         0.010000        0.010000  \n",
       "25%          32.500000     7.75000         0.015000        0.015000  \n",
       "50%          45.000000     8.50000         0.020000        0.020000  \n",
       "75%          57.500000     9.25000         0.025000        0.025000  \n",
       "max          70.000000    10.00000         0.030000        0.030000  "
      ]
     },
     "execution_count": 13,
     "metadata": {},
     "output_type": "execute_result"
    }
   ],
   "source": [
    "df_plans= pd.read_csv('/datasets/megaline_plans.csv')\n",
    "df_plans.info()\n",
    "df_plans.describe()"
   ]
  },
  {
   "cell_type": "code",
   "execution_count": 14,
   "metadata": {},
   "outputs": [
    {
     "data": {
      "text/plain": [
       "0"
      ]
     },
     "execution_count": 14,
     "metadata": {},
     "output_type": "execute_result"
    }
   ],
   "source": [
    "plans_duplicates = df_plans.duplicated().sum()\n",
    "plans_duplicates"
   ]
  },
  {
   "cell_type": "code",
   "execution_count": 15,
   "metadata": {},
   "outputs": [
    {
     "data": {
      "text/plain": [
       "messages_included        0\n",
       "mb_per_month_included    0\n",
       "minutes_included         0\n",
       "usd_monthly_pay          0\n",
       "usd_per_gb               0\n",
       "usd_per_message          0\n",
       "usd_per_minute           0\n",
       "plan_name                0\n",
       "dtype: int64"
      ]
     },
     "execution_count": 15,
     "metadata": {},
     "output_type": "execute_result"
    }
   ],
   "source": [
    "missing_values_plans = df_plans.isnull().sum()\n",
    "missing_values_plans"
   ]
  },
  {
   "cell_type": "markdown",
   "metadata": {},
   "source": [
    "Here I've prepared the megaline_plans dataset by inspecting its structure and summary statistics using .info() and .describe(), checked for duplicate rows and missing values in the data, and verified that there were no issues."
   ]
  },
  {
   "cell_type": "code",
   "execution_count": 16,
   "metadata": {},
   "outputs": [
    {
     "name": "stdout",
     "output_type": "stream",
     "text": [
      "<class 'pandas.core.frame.DataFrame'>\n",
      "RangeIndex: 500 entries, 0 to 499\n",
      "Data columns (total 8 columns):\n",
      " #   Column      Non-Null Count  Dtype \n",
      "---  ------      --------------  ----- \n",
      " 0   user_id     500 non-null    int64 \n",
      " 1   first_name  500 non-null    object\n",
      " 2   last_name   500 non-null    object\n",
      " 3   age         500 non-null    int64 \n",
      " 4   city        500 non-null    object\n",
      " 5   reg_date    500 non-null    object\n",
      " 6   plan        500 non-null    object\n",
      " 7   churn_date  34 non-null     object\n",
      "dtypes: int64(2), object(6)\n",
      "memory usage: 31.4+ KB\n"
     ]
    },
    {
     "data": {
      "text/html": [
       "<div>\n",
       "<style scoped>\n",
       "    .dataframe tbody tr th:only-of-type {\n",
       "        vertical-align: middle;\n",
       "    }\n",
       "\n",
       "    .dataframe tbody tr th {\n",
       "        vertical-align: top;\n",
       "    }\n",
       "\n",
       "    .dataframe thead th {\n",
       "        text-align: right;\n",
       "    }\n",
       "</style>\n",
       "<table border=\"1\" class=\"dataframe\">\n",
       "  <thead>\n",
       "    <tr style=\"text-align: right;\">\n",
       "      <th></th>\n",
       "      <th>user_id</th>\n",
       "      <th>age</th>\n",
       "    </tr>\n",
       "  </thead>\n",
       "  <tbody>\n",
       "    <tr>\n",
       "      <th>count</th>\n",
       "      <td>500.000000</td>\n",
       "      <td>500.000000</td>\n",
       "    </tr>\n",
       "    <tr>\n",
       "      <th>mean</th>\n",
       "      <td>1249.500000</td>\n",
       "      <td>45.486000</td>\n",
       "    </tr>\n",
       "    <tr>\n",
       "      <th>std</th>\n",
       "      <td>144.481833</td>\n",
       "      <td>16.972269</td>\n",
       "    </tr>\n",
       "    <tr>\n",
       "      <th>min</th>\n",
       "      <td>1000.000000</td>\n",
       "      <td>18.000000</td>\n",
       "    </tr>\n",
       "    <tr>\n",
       "      <th>25%</th>\n",
       "      <td>1124.750000</td>\n",
       "      <td>30.000000</td>\n",
       "    </tr>\n",
       "    <tr>\n",
       "      <th>50%</th>\n",
       "      <td>1249.500000</td>\n",
       "      <td>46.000000</td>\n",
       "    </tr>\n",
       "    <tr>\n",
       "      <th>75%</th>\n",
       "      <td>1374.250000</td>\n",
       "      <td>61.000000</td>\n",
       "    </tr>\n",
       "    <tr>\n",
       "      <th>max</th>\n",
       "      <td>1499.000000</td>\n",
       "      <td>75.000000</td>\n",
       "    </tr>\n",
       "  </tbody>\n",
       "</table>\n",
       "</div>"
      ],
      "text/plain": [
       "           user_id         age\n",
       "count   500.000000  500.000000\n",
       "mean   1249.500000   45.486000\n",
       "std     144.481833   16.972269\n",
       "min    1000.000000   18.000000\n",
       "25%    1124.750000   30.000000\n",
       "50%    1249.500000   46.000000\n",
       "75%    1374.250000   61.000000\n",
       "max    1499.000000   75.000000"
      ]
     },
     "execution_count": 16,
     "metadata": {},
     "output_type": "execute_result"
    }
   ],
   "source": [
    "df_users= pd.read_csv('/datasets/megaline_users.csv')\n",
    "df_users.info()\n",
    "df_users.describe()"
   ]
  },
  {
   "cell_type": "code",
   "execution_count": 17,
   "metadata": {},
   "outputs": [
    {
     "data": {
      "text/plain": [
       "0"
      ]
     },
     "execution_count": 17,
     "metadata": {},
     "output_type": "execute_result"
    }
   ],
   "source": [
    "users_duplicates = df_users.duplicated().sum()\n",
    "users_duplicates"
   ]
  },
  {
   "cell_type": "code",
   "execution_count": 18,
   "metadata": {},
   "outputs": [
    {
     "data": {
      "text/plain": [
       "user_id         0\n",
       "first_name      0\n",
       "last_name       0\n",
       "age             0\n",
       "city            0\n",
       "reg_date        0\n",
       "plan            0\n",
       "churn_date    466\n",
       "dtype: int64"
      ]
     },
     "execution_count": 18,
     "metadata": {},
     "output_type": "execute_result"
    }
   ],
   "source": [
    "missing_values_users = df_users.isnull().sum()\n",
    "missing_values_users"
   ]
  },
  {
   "cell_type": "markdown",
   "metadata": {},
   "source": [
    "Here I've perpared megaline_users dataset, inspected its structure and summary statistics using .info() and .describe(), checked for duplicate rows, and identified missing values in the dataset. I've found no duplicate rows and observed missing values in the churn_date column."
   ]
  },
  {
   "cell_type": "markdown",
   "metadata": {},
   "source": [
    "## Plans"
   ]
  },
  {
   "cell_type": "code",
   "execution_count": 19,
   "metadata": {},
   "outputs": [
    {
     "name": "stdout",
     "output_type": "stream",
     "text": [
      "<class 'pandas.core.frame.DataFrame'>\n",
      "RangeIndex: 2 entries, 0 to 1\n",
      "Data columns (total 8 columns):\n",
      " #   Column                 Non-Null Count  Dtype  \n",
      "---  ------                 --------------  -----  \n",
      " 0   messages_included      2 non-null      int64  \n",
      " 1   mb_per_month_included  2 non-null      int64  \n",
      " 2   minutes_included       2 non-null      int64  \n",
      " 3   usd_monthly_pay        2 non-null      int64  \n",
      " 4   usd_per_gb             2 non-null      int64  \n",
      " 5   usd_per_message        2 non-null      float64\n",
      " 6   usd_per_minute         2 non-null      float64\n",
      " 7   plan_name              2 non-null      object \n",
      "dtypes: float64(2), int64(5), object(1)\n",
      "memory usage: 256.0+ bytes\n"
     ]
    }
   ],
   "source": [
    "# Print the general/summary information about the plans' DataFrame\n",
    "df_plans.info()"
   ]
  },
  {
   "cell_type": "code",
   "execution_count": 20,
   "metadata": {},
   "outputs": [
    {
     "data": {
      "text/html": [
       "<div>\n",
       "<style scoped>\n",
       "    .dataframe tbody tr th:only-of-type {\n",
       "        vertical-align: middle;\n",
       "    }\n",
       "\n",
       "    .dataframe tbody tr th {\n",
       "        vertical-align: top;\n",
       "    }\n",
       "\n",
       "    .dataframe thead th {\n",
       "        text-align: right;\n",
       "    }\n",
       "</style>\n",
       "<table border=\"1\" class=\"dataframe\">\n",
       "  <thead>\n",
       "    <tr style=\"text-align: right;\">\n",
       "      <th></th>\n",
       "      <th>messages_included</th>\n",
       "      <th>mb_per_month_included</th>\n",
       "      <th>minutes_included</th>\n",
       "      <th>usd_monthly_pay</th>\n",
       "      <th>usd_per_gb</th>\n",
       "      <th>usd_per_message</th>\n",
       "      <th>usd_per_minute</th>\n",
       "      <th>plan_name</th>\n",
       "    </tr>\n",
       "  </thead>\n",
       "  <tbody>\n",
       "    <tr>\n",
       "      <th>0</th>\n",
       "      <td>50</td>\n",
       "      <td>15360</td>\n",
       "      <td>500</td>\n",
       "      <td>20</td>\n",
       "      <td>10</td>\n",
       "      <td>0.03</td>\n",
       "      <td>0.03</td>\n",
       "      <td>surf</td>\n",
       "    </tr>\n",
       "    <tr>\n",
       "      <th>1</th>\n",
       "      <td>1000</td>\n",
       "      <td>30720</td>\n",
       "      <td>3000</td>\n",
       "      <td>70</td>\n",
       "      <td>7</td>\n",
       "      <td>0.01</td>\n",
       "      <td>0.01</td>\n",
       "      <td>ultimate</td>\n",
       "    </tr>\n",
       "  </tbody>\n",
       "</table>\n",
       "</div>"
      ],
      "text/plain": [
       "   messages_included  mb_per_month_included  minutes_included  \\\n",
       "0                 50                  15360               500   \n",
       "1               1000                  30720              3000   \n",
       "\n",
       "   usd_monthly_pay  usd_per_gb  usd_per_message  usd_per_minute plan_name  \n",
       "0               20          10             0.03            0.03      surf  \n",
       "1               70           7             0.01            0.01  ultimate  "
      ]
     },
     "execution_count": 20,
     "metadata": {},
     "output_type": "execute_result"
    }
   ],
   "source": [
    "# Print a sample of data for plans\n",
    "df_plans.head()"
   ]
  },
  {
   "cell_type": "markdown",
   "metadata": {},
   "source": [
    "The data types are appropriate with 2 float64, 5 int64 and 1 object. There are no missing values as function for duplicates were ran and came up with 0."
   ]
  },
  {
   "cell_type": "markdown",
   "metadata": {},
   "source": [
    "### Fix data"
   ]
  },
  {
   "cell_type": "code",
   "execution_count": 21,
   "metadata": {},
   "outputs": [],
   "source": [
    "if df_plans.duplicated().sum() > 0:\n",
    "    df_plans = df_plans.drop_duplicates()"
   ]
  },
  {
   "cell_type": "markdown",
   "metadata": {},
   "source": [
    "### Enrich data"
   ]
  },
  {
   "cell_type": "code",
   "execution_count": 22,
   "metadata": {},
   "outputs": [
    {
     "data": {
      "text/html": [
       "<div>\n",
       "<style scoped>\n",
       "    .dataframe tbody tr th:only-of-type {\n",
       "        vertical-align: middle;\n",
       "    }\n",
       "\n",
       "    .dataframe tbody tr th {\n",
       "        vertical-align: top;\n",
       "    }\n",
       "\n",
       "    .dataframe thead th {\n",
       "        text-align: right;\n",
       "    }\n",
       "</style>\n",
       "<table border=\"1\" class=\"dataframe\">\n",
       "  <thead>\n",
       "    <tr style=\"text-align: right;\">\n",
       "      <th></th>\n",
       "      <th>messages_included</th>\n",
       "      <th>mb_per_month_included</th>\n",
       "      <th>minutes_included</th>\n",
       "      <th>usd_monthly_pay</th>\n",
       "      <th>usd_per_gb</th>\n",
       "      <th>usd_per_message</th>\n",
       "      <th>usd_per_minute</th>\n",
       "      <th>plan_name</th>\n",
       "      <th>potential_overage</th>\n",
       "    </tr>\n",
       "  </thead>\n",
       "  <tbody>\n",
       "    <tr>\n",
       "      <th>0</th>\n",
       "      <td>50</td>\n",
       "      <td>15360</td>\n",
       "      <td>500</td>\n",
       "      <td>20</td>\n",
       "      <td>10</td>\n",
       "      <td>0.03</td>\n",
       "      <td>0.03</td>\n",
       "      <td>surf</td>\n",
       "      <td>0.0</td>\n",
       "    </tr>\n",
       "    <tr>\n",
       "      <th>1</th>\n",
       "      <td>1000</td>\n",
       "      <td>30720</td>\n",
       "      <td>3000</td>\n",
       "      <td>70</td>\n",
       "      <td>7</td>\n",
       "      <td>0.01</td>\n",
       "      <td>0.01</td>\n",
       "      <td>ultimate</td>\n",
       "      <td>0.0</td>\n",
       "    </tr>\n",
       "  </tbody>\n",
       "</table>\n",
       "</div>"
      ],
      "text/plain": [
       "   messages_included  mb_per_month_included  minutes_included  \\\n",
       "0                 50                  15360               500   \n",
       "1               1000                  30720              3000   \n",
       "\n",
       "   usd_monthly_pay  usd_per_gb  usd_per_message  usd_per_minute plan_name  \\\n",
       "0               20          10             0.03            0.03      surf   \n",
       "1               70           7             0.01            0.01  ultimate   \n",
       "\n",
       "   potential_overage  \n",
       "0                0.0  \n",
       "1                0.0  "
      ]
     },
     "execution_count": 22,
     "metadata": {},
     "output_type": "execute_result"
    }
   ],
   "source": [
    "def calculate_overage(row):\n",
    "       \n",
    "       overage_minutes = 0  \n",
    "       overage_messages = 0  \n",
    "       return (row['usd_per_minute'] * overage_minutes) + (row['usd_per_message'] * overage_messages)\n",
    "df_plans['potential_overage'] = df_plans.apply(calculate_overage, axis=1)\n",
    "df_plans"
   ]
  },
  {
   "cell_type": "markdown",
   "metadata": {},
   "source": [
    "## Users"
   ]
  },
  {
   "cell_type": "code",
   "execution_count": 23,
   "metadata": {},
   "outputs": [
    {
     "name": "stdout",
     "output_type": "stream",
     "text": [
      "<class 'pandas.core.frame.DataFrame'>\n",
      "RangeIndex: 500 entries, 0 to 499\n",
      "Data columns (total 8 columns):\n",
      " #   Column      Non-Null Count  Dtype \n",
      "---  ------      --------------  ----- \n",
      " 0   user_id     500 non-null    int64 \n",
      " 1   first_name  500 non-null    object\n",
      " 2   last_name   500 non-null    object\n",
      " 3   age         500 non-null    int64 \n",
      " 4   city        500 non-null    object\n",
      " 5   reg_date    500 non-null    object\n",
      " 6   plan        500 non-null    object\n",
      " 7   churn_date  34 non-null     object\n",
      "dtypes: int64(2), object(6)\n",
      "memory usage: 31.4+ KB\n"
     ]
    }
   ],
   "source": [
    "# Print the general/summary information about the users' DataFrame\n",
    "df_users.info()"
   ]
  },
  {
   "cell_type": "code",
   "execution_count": 24,
   "metadata": {},
   "outputs": [
    {
     "data": {
      "text/html": [
       "<div>\n",
       "<style scoped>\n",
       "    .dataframe tbody tr th:only-of-type {\n",
       "        vertical-align: middle;\n",
       "    }\n",
       "\n",
       "    .dataframe tbody tr th {\n",
       "        vertical-align: top;\n",
       "    }\n",
       "\n",
       "    .dataframe thead th {\n",
       "        text-align: right;\n",
       "    }\n",
       "</style>\n",
       "<table border=\"1\" class=\"dataframe\">\n",
       "  <thead>\n",
       "    <tr style=\"text-align: right;\">\n",
       "      <th></th>\n",
       "      <th>user_id</th>\n",
       "      <th>first_name</th>\n",
       "      <th>last_name</th>\n",
       "      <th>age</th>\n",
       "      <th>city</th>\n",
       "      <th>reg_date</th>\n",
       "      <th>plan</th>\n",
       "      <th>churn_date</th>\n",
       "    </tr>\n",
       "  </thead>\n",
       "  <tbody>\n",
       "    <tr>\n",
       "      <th>0</th>\n",
       "      <td>1000</td>\n",
       "      <td>Anamaria</td>\n",
       "      <td>Bauer</td>\n",
       "      <td>45</td>\n",
       "      <td>Atlanta-Sandy Springs-Roswell, GA MSA</td>\n",
       "      <td>2018-12-24</td>\n",
       "      <td>ultimate</td>\n",
       "      <td>NaN</td>\n",
       "    </tr>\n",
       "    <tr>\n",
       "      <th>1</th>\n",
       "      <td>1001</td>\n",
       "      <td>Mickey</td>\n",
       "      <td>Wilkerson</td>\n",
       "      <td>28</td>\n",
       "      <td>Seattle-Tacoma-Bellevue, WA MSA</td>\n",
       "      <td>2018-08-13</td>\n",
       "      <td>surf</td>\n",
       "      <td>NaN</td>\n",
       "    </tr>\n",
       "    <tr>\n",
       "      <th>2</th>\n",
       "      <td>1002</td>\n",
       "      <td>Carlee</td>\n",
       "      <td>Hoffman</td>\n",
       "      <td>36</td>\n",
       "      <td>Las Vegas-Henderson-Paradise, NV MSA</td>\n",
       "      <td>2018-10-21</td>\n",
       "      <td>surf</td>\n",
       "      <td>NaN</td>\n",
       "    </tr>\n",
       "    <tr>\n",
       "      <th>3</th>\n",
       "      <td>1003</td>\n",
       "      <td>Reynaldo</td>\n",
       "      <td>Jenkins</td>\n",
       "      <td>52</td>\n",
       "      <td>Tulsa, OK MSA</td>\n",
       "      <td>2018-01-28</td>\n",
       "      <td>surf</td>\n",
       "      <td>NaN</td>\n",
       "    </tr>\n",
       "    <tr>\n",
       "      <th>4</th>\n",
       "      <td>1004</td>\n",
       "      <td>Leonila</td>\n",
       "      <td>Thompson</td>\n",
       "      <td>40</td>\n",
       "      <td>Seattle-Tacoma-Bellevue, WA MSA</td>\n",
       "      <td>2018-05-23</td>\n",
       "      <td>surf</td>\n",
       "      <td>NaN</td>\n",
       "    </tr>\n",
       "  </tbody>\n",
       "</table>\n",
       "</div>"
      ],
      "text/plain": [
       "   user_id first_name  last_name  age                                   city  \\\n",
       "0     1000   Anamaria      Bauer   45  Atlanta-Sandy Springs-Roswell, GA MSA   \n",
       "1     1001     Mickey  Wilkerson   28        Seattle-Tacoma-Bellevue, WA MSA   \n",
       "2     1002     Carlee    Hoffman   36   Las Vegas-Henderson-Paradise, NV MSA   \n",
       "3     1003   Reynaldo    Jenkins   52                          Tulsa, OK MSA   \n",
       "4     1004    Leonila   Thompson   40        Seattle-Tacoma-Bellevue, WA MSA   \n",
       "\n",
       "     reg_date      plan churn_date  \n",
       "0  2018-12-24  ultimate        NaN  \n",
       "1  2018-08-13      surf        NaN  \n",
       "2  2018-10-21      surf        NaN  \n",
       "3  2018-01-28      surf        NaN  \n",
       "4  2018-05-23      surf        NaN  "
      ]
     },
     "execution_count": 24,
     "metadata": {},
     "output_type": "execute_result"
    }
   ],
   "source": [
    "# Print a sample of data for users\n",
    "df_users.head()\n"
   ]
  },
  {
   "cell_type": "markdown",
   "metadata": {},
   "source": [
    "The dataset has 500 entries with complete data in most columns except missing values in churn_date likely indicating active users. \n",
    "The printed sample highlights user details like age, city, registration date, and plan, with potential improvements such as \n",
    "converting dates to datetime format for analysis."
   ]
  },
  {
   "cell_type": "markdown",
   "metadata": {},
   "source": [
    "### Fix Data"
   ]
  },
  {
   "cell_type": "code",
   "execution_count": 25,
   "metadata": {},
   "outputs": [
    {
     "name": "stdout",
     "output_type": "stream",
     "text": [
      "<class 'pandas.core.frame.DataFrame'>\n",
      "RangeIndex: 500 entries, 0 to 499\n",
      "Data columns (total 8 columns):\n",
      " #   Column      Non-Null Count  Dtype         \n",
      "---  ------      --------------  -----         \n",
      " 0   user_id     500 non-null    int64         \n",
      " 1   first_name  500 non-null    object        \n",
      " 2   last_name   500 non-null    object        \n",
      " 3   age         500 non-null    int64         \n",
      " 4   city        500 non-null    object        \n",
      " 5   reg_date    500 non-null    datetime64[ns]\n",
      " 6   plan        500 non-null    object        \n",
      " 7   churn_date  500 non-null    datetime64[ns]\n",
      "dtypes: datetime64[ns](2), int64(2), object(4)\n",
      "memory usage: 31.4+ KB\n",
      "user_id       0\n",
      "first_name    0\n",
      "last_name     0\n",
      "age           0\n",
      "city          0\n",
      "reg_date      0\n",
      "plan          0\n",
      "churn_date    0\n",
      "dtype: int64\n"
     ]
    }
   ],
   "source": [
    "df_users['reg_date'] = pd.to_datetime(df_users['reg_date'], format='%Y-%m-%d')\n",
    "df_users['churn_date'] = pd.to_datetime(df_users['churn_date'].fillna(pd.to_datetime('today')))\n",
    "df_users['churn_date'] = pd.to_datetime(df_users['reg_date'], format='%Y-%m-%d')\n",
    "df_users.info()\n",
    "# df_users['churn_date'].fillna('default_value', inplace=True)\n",
    "\n",
    "# users_no_churn = df_users.drop(columns=['churn_date'])\n",
    "\n",
    "\n",
    "print(df_users.isnull().sum())"
   ]
  },
  {
   "cell_type": "markdown",
   "metadata": {},
   "source": [
    "### Enrich Data"
   ]
  },
  {
   "cell_type": "markdown",
   "metadata": {},
   "source": [
    "cleaned user data by converting registration and churn dates to datetime format, filling missing churn dates with today's date, checking for null values, and preparing the dataset for further analysis"
   ]
  },
  {
   "cell_type": "markdown",
   "metadata": {},
   "source": [
    "## Calls"
   ]
  },
  {
   "cell_type": "code",
   "execution_count": 26,
   "metadata": {},
   "outputs": [
    {
     "name": "stdout",
     "output_type": "stream",
     "text": [
      "<class 'pandas.core.frame.DataFrame'>\n",
      "RangeIndex: 137735 entries, 0 to 137734\n",
      "Data columns (total 4 columns):\n",
      " #   Column     Non-Null Count   Dtype         \n",
      "---  ------     --------------   -----         \n",
      " 0   id         137735 non-null  object        \n",
      " 1   user_id    137735 non-null  int64         \n",
      " 2   call_date  137735 non-null  datetime64[ns]\n",
      " 3   duration   137735 non-null  float64       \n",
      "dtypes: datetime64[ns](1), float64(1), int64(1), object(1)\n",
      "memory usage: 4.2+ MB\n",
      "None\n"
     ]
    }
   ],
   "source": [
    "# Print the general/summary information about the calls' DataFrame\n",
    "\n",
    "print(df_calls.info())"
   ]
  },
  {
   "cell_type": "code",
   "execution_count": 27,
   "metadata": {},
   "outputs": [
    {
     "name": "stdout",
     "output_type": "stream",
     "text": [
      "         id  user_id  call_date  duration\n",
      "0   1000_93     1000 2018-12-27      8.52\n",
      "1  1000_145     1000 2018-12-27     13.66\n",
      "2  1000_247     1000 2018-12-27     14.48\n",
      "3  1000_309     1000 2018-12-28      5.76\n",
      "4  1000_380     1000 2018-12-30      4.22\n"
     ]
    }
   ],
   "source": [
    "# Print a sample of data for calls\n",
    "\n",
    "print(df_calls.head())"
   ]
  },
  {
   "cell_type": "markdown",
   "metadata": {},
   "source": [
    "Inspected the df_calls dataset, identified no missing values, converted the call_date column from string to datetime format for better analysis, and confirmed the data structure and types were appropriate."
   ]
  },
  {
   "cell_type": "markdown",
   "metadata": {},
   "source": [
    "### Fix data"
   ]
  },
  {
   "cell_type": "code",
   "execution_count": 28,
   "metadata": {},
   "outputs": [
    {
     "name": "stdout",
     "output_type": "stream",
     "text": [
      "id           0\n",
      "user_id      0\n",
      "call_date    0\n",
      "duration     0\n",
      "dtype: int64\n",
      "<class 'pandas.core.frame.DataFrame'>\n",
      "RangeIndex: 137735 entries, 0 to 137734\n",
      "Data columns (total 4 columns):\n",
      " #   Column     Non-Null Count   Dtype         \n",
      "---  ------     --------------   -----         \n",
      " 0   id         137735 non-null  object        \n",
      " 1   user_id    137735 non-null  int64         \n",
      " 2   call_date  137735 non-null  datetime64[ns]\n",
      " 3   duration   137735 non-null  float64       \n",
      "dtypes: datetime64[ns](1), float64(1), int64(1), object(1)\n",
      "memory usage: 4.2+ MB\n"
     ]
    }
   ],
   "source": [
    "print(df_calls.isnull().sum())\n",
    "df_calls['call_date'] = pd.to_datetime(df_calls['call_date'])\n",
    "\n",
    "df_calls.info()"
   ]
  },
  {
   "cell_type": "markdown",
   "metadata": {},
   "source": [
    "### Enrich data"
   ]
  },
  {
   "cell_type": "code",
   "execution_count": 29,
   "metadata": {},
   "outputs": [
    {
     "data": {
      "text/html": [
       "<div>\n",
       "<style scoped>\n",
       "    .dataframe tbody tr th:only-of-type {\n",
       "        vertical-align: middle;\n",
       "    }\n",
       "\n",
       "    .dataframe tbody tr th {\n",
       "        vertical-align: top;\n",
       "    }\n",
       "\n",
       "    .dataframe thead th {\n",
       "        text-align: right;\n",
       "    }\n",
       "</style>\n",
       "<table border=\"1\" class=\"dataframe\">\n",
       "  <thead>\n",
       "    <tr style=\"text-align: right;\">\n",
       "      <th></th>\n",
       "      <th>id</th>\n",
       "      <th>user_id</th>\n",
       "      <th>call_date</th>\n",
       "      <th>duration</th>\n",
       "    </tr>\n",
       "  </thead>\n",
       "  <tbody>\n",
       "    <tr>\n",
       "      <th>0</th>\n",
       "      <td>1000_93</td>\n",
       "      <td>1000</td>\n",
       "      <td>2018-12-27</td>\n",
       "      <td>9</td>\n",
       "    </tr>\n",
       "    <tr>\n",
       "      <th>1</th>\n",
       "      <td>1000_145</td>\n",
       "      <td>1000</td>\n",
       "      <td>2018-12-27</td>\n",
       "      <td>14</td>\n",
       "    </tr>\n",
       "    <tr>\n",
       "      <th>2</th>\n",
       "      <td>1000_247</td>\n",
       "      <td>1000</td>\n",
       "      <td>2018-12-27</td>\n",
       "      <td>15</td>\n",
       "    </tr>\n",
       "    <tr>\n",
       "      <th>3</th>\n",
       "      <td>1000_309</td>\n",
       "      <td>1000</td>\n",
       "      <td>2018-12-28</td>\n",
       "      <td>6</td>\n",
       "    </tr>\n",
       "    <tr>\n",
       "      <th>4</th>\n",
       "      <td>1000_380</td>\n",
       "      <td>1000</td>\n",
       "      <td>2018-12-30</td>\n",
       "      <td>5</td>\n",
       "    </tr>\n",
       "    <tr>\n",
       "      <th>...</th>\n",
       "      <td>...</td>\n",
       "      <td>...</td>\n",
       "      <td>...</td>\n",
       "      <td>...</td>\n",
       "    </tr>\n",
       "    <tr>\n",
       "      <th>137730</th>\n",
       "      <td>1499_199</td>\n",
       "      <td>1499</td>\n",
       "      <td>2018-11-21</td>\n",
       "      <td>9</td>\n",
       "    </tr>\n",
       "    <tr>\n",
       "      <th>137731</th>\n",
       "      <td>1499_200</td>\n",
       "      <td>1499</td>\n",
       "      <td>2018-10-20</td>\n",
       "      <td>11</td>\n",
       "    </tr>\n",
       "    <tr>\n",
       "      <th>137732</th>\n",
       "      <td>1499_201</td>\n",
       "      <td>1499</td>\n",
       "      <td>2018-09-21</td>\n",
       "      <td>9</td>\n",
       "    </tr>\n",
       "    <tr>\n",
       "      <th>137733</th>\n",
       "      <td>1499_202</td>\n",
       "      <td>1499</td>\n",
       "      <td>2018-10-10</td>\n",
       "      <td>1</td>\n",
       "    </tr>\n",
       "    <tr>\n",
       "      <th>137734</th>\n",
       "      <td>1499_203</td>\n",
       "      <td>1499</td>\n",
       "      <td>2018-12-29</td>\n",
       "      <td>14</td>\n",
       "    </tr>\n",
       "  </tbody>\n",
       "</table>\n",
       "<p>137735 rows × 4 columns</p>\n",
       "</div>"
      ],
      "text/plain": [
       "              id  user_id  call_date  duration\n",
       "0        1000_93     1000 2018-12-27         9\n",
       "1       1000_145     1000 2018-12-27        14\n",
       "2       1000_247     1000 2018-12-27        15\n",
       "3       1000_309     1000 2018-12-28         6\n",
       "4       1000_380     1000 2018-12-30         5\n",
       "...          ...      ...        ...       ...\n",
       "137730  1499_199     1499 2018-11-21         9\n",
       "137731  1499_200     1499 2018-10-20        11\n",
       "137732  1499_201     1499 2018-09-21         9\n",
       "137733  1499_202     1499 2018-10-10         1\n",
       "137734  1499_203     1499 2018-12-29        14\n",
       "\n",
       "[137735 rows x 4 columns]"
      ]
     },
     "execution_count": 29,
     "metadata": {},
     "output_type": "execute_result"
    }
   ],
   "source": [
    "df_calls['duration'] = df_calls['duration'].apply(np.ceil).astype(int)\n",
    "df_calls"
   ]
  },
  {
   "cell_type": "markdown",
   "metadata": {},
   "source": [
    "Cleaned and formatted call data by converting call_date to datetime format, checked for missing values, and enriched the dataset by rounding up call durations using np.ceil() and converting them to integers for further analysis."
   ]
  },
  {
   "cell_type": "markdown",
   "metadata": {},
   "source": [
    "## Messages"
   ]
  },
  {
   "cell_type": "code",
   "execution_count": 30,
   "metadata": {},
   "outputs": [
    {
     "name": "stdout",
     "output_type": "stream",
     "text": [
      "<class 'pandas.core.frame.DataFrame'>\n",
      "RangeIndex: 76051 entries, 0 to 76050\n",
      "Data columns (total 3 columns):\n",
      " #   Column        Non-Null Count  Dtype \n",
      "---  ------        --------------  ----- \n",
      " 0   id            76051 non-null  object\n",
      " 1   user_id       76051 non-null  int64 \n",
      " 2   message_date  76051 non-null  object\n",
      "dtypes: int64(1), object(2)\n",
      "memory usage: 1.7+ MB\n"
     ]
    }
   ],
   "source": [
    "# Print the general/summary information about the messages' DataFrame\n",
    "df_messages.info()\n"
   ]
  },
  {
   "cell_type": "code",
   "execution_count": 31,
   "metadata": {},
   "outputs": [
    {
     "data": {
      "text/html": [
       "<div>\n",
       "<style scoped>\n",
       "    .dataframe tbody tr th:only-of-type {\n",
       "        vertical-align: middle;\n",
       "    }\n",
       "\n",
       "    .dataframe tbody tr th {\n",
       "        vertical-align: top;\n",
       "    }\n",
       "\n",
       "    .dataframe thead th {\n",
       "        text-align: right;\n",
       "    }\n",
       "</style>\n",
       "<table border=\"1\" class=\"dataframe\">\n",
       "  <thead>\n",
       "    <tr style=\"text-align: right;\">\n",
       "      <th></th>\n",
       "      <th>id</th>\n",
       "      <th>user_id</th>\n",
       "      <th>message_date</th>\n",
       "    </tr>\n",
       "  </thead>\n",
       "  <tbody>\n",
       "    <tr>\n",
       "      <th>0</th>\n",
       "      <td>1000_125</td>\n",
       "      <td>1000</td>\n",
       "      <td>2018-12-27</td>\n",
       "    </tr>\n",
       "    <tr>\n",
       "      <th>1</th>\n",
       "      <td>1000_160</td>\n",
       "      <td>1000</td>\n",
       "      <td>2018-12-31</td>\n",
       "    </tr>\n",
       "    <tr>\n",
       "      <th>2</th>\n",
       "      <td>1000_223</td>\n",
       "      <td>1000</td>\n",
       "      <td>2018-12-31</td>\n",
       "    </tr>\n",
       "    <tr>\n",
       "      <th>3</th>\n",
       "      <td>1000_251</td>\n",
       "      <td>1000</td>\n",
       "      <td>2018-12-27</td>\n",
       "    </tr>\n",
       "    <tr>\n",
       "      <th>4</th>\n",
       "      <td>1000_255</td>\n",
       "      <td>1000</td>\n",
       "      <td>2018-12-26</td>\n",
       "    </tr>\n",
       "  </tbody>\n",
       "</table>\n",
       "</div>"
      ],
      "text/plain": [
       "         id  user_id message_date\n",
       "0  1000_125     1000   2018-12-27\n",
       "1  1000_160     1000   2018-12-31\n",
       "2  1000_223     1000   2018-12-31\n",
       "3  1000_251     1000   2018-12-27\n",
       "4  1000_255     1000   2018-12-26"
      ]
     },
     "execution_count": 31,
     "metadata": {},
     "output_type": "execute_result"
    }
   ],
   "source": [
    "# Print a sample of data for messages\n",
    "df_messages.head()\n"
   ]
  },
  {
   "cell_type": "markdown",
   "metadata": {},
   "source": [
    "The dataset is well-structured with no missing values, but the message_date column should be converted to datetime format for proper analysis and further checks for duplicates."
   ]
  },
  {
   "cell_type": "markdown",
   "metadata": {},
   "source": [
    "### Fix data"
   ]
  },
  {
   "cell_type": "code",
   "execution_count": 32,
   "metadata": {},
   "outputs": [
    {
     "data": {
      "text/plain": [
       "id              0\n",
       "user_id         0\n",
       "message_date    0\n",
       "dtype: int64"
      ]
     },
     "execution_count": 32,
     "metadata": {},
     "output_type": "execute_result"
    }
   ],
   "source": [
    "df_messages.isnull().sum()\n"
   ]
  },
  {
   "cell_type": "code",
   "execution_count": 33,
   "metadata": {},
   "outputs": [
    {
     "data": {
      "text/plain": [
       "0"
      ]
     },
     "execution_count": 33,
     "metadata": {},
     "output_type": "execute_result"
    }
   ],
   "source": [
    "df_messages.duplicated().sum()"
   ]
  },
  {
   "cell_type": "code",
   "execution_count": 34,
   "metadata": {},
   "outputs": [
    {
     "name": "stdout",
     "output_type": "stream",
     "text": [
      "<class 'pandas.core.frame.DataFrame'>\n",
      "RangeIndex: 76051 entries, 0 to 76050\n",
      "Data columns (total 3 columns):\n",
      " #   Column        Non-Null Count  Dtype \n",
      "---  ------        --------------  ----- \n",
      " 0   id            76051 non-null  object\n",
      " 1   user_id       76051 non-null  int64 \n",
      " 2   message_date  76051 non-null  object\n",
      "dtypes: int64(1), object(2)\n",
      "memory usage: 1.7+ MB\n"
     ]
    }
   ],
   "source": [
    "df_messages.info()"
   ]
  },
  {
   "cell_type": "markdown",
   "metadata": {},
   "source": [
    "adjusted datatime notice that message_date is object so i will convert to datetime"
   ]
  },
  {
   "cell_type": "code",
   "execution_count": 35,
   "metadata": {},
   "outputs": [
    {
     "data": {
      "text/plain": [
       "0       2018-12-27\n",
       "1       2018-12-31\n",
       "2       2018-12-31\n",
       "3       2018-12-27\n",
       "4       2018-12-26\n",
       "           ...    \n",
       "76046   2018-12-24\n",
       "76047   2018-12-24\n",
       "76048   2018-12-31\n",
       "76049   2018-12-24\n",
       "76050   2018-12-23\n",
       "Name: message_date, Length: 76051, dtype: datetime64[ns]"
      ]
     },
     "execution_count": 35,
     "metadata": {},
     "output_type": "execute_result"
    }
   ],
   "source": [
    "df_messages['message_date']= pd.to_datetime(df_messages['message_date'])\n",
    "df_messages['message_date']"
   ]
  },
  {
   "cell_type": "markdown",
   "metadata": {},
   "source": [
    "### Enrich data"
   ]
  },
  {
   "cell_type": "markdown",
   "metadata": {},
   "source": [
    "no further adjustments needed"
   ]
  },
  {
   "cell_type": "markdown",
   "metadata": {},
   "source": [
    "## Internet"
   ]
  },
  {
   "cell_type": "code",
   "execution_count": 36,
   "metadata": {},
   "outputs": [
    {
     "name": "stdout",
     "output_type": "stream",
     "text": [
      "<class 'pandas.core.frame.DataFrame'>\n",
      "RangeIndex: 104825 entries, 0 to 104824\n",
      "Data columns (total 4 columns):\n",
      " #   Column        Non-Null Count   Dtype  \n",
      "---  ------        --------------   -----  \n",
      " 0   id            104825 non-null  object \n",
      " 1   user_id       104825 non-null  int64  \n",
      " 2   session_date  104825 non-null  object \n",
      " 3   mb_used       104825 non-null  float64\n",
      "dtypes: float64(1), int64(1), object(2)\n",
      "memory usage: 3.2+ MB\n"
     ]
    }
   ],
   "source": [
    "# Print the general/summary information about the internet DataFrame\n",
    "df_internet.info()\n"
   ]
  },
  {
   "cell_type": "code",
   "execution_count": 37,
   "metadata": {},
   "outputs": [
    {
     "data": {
      "text/html": [
       "<div>\n",
       "<style scoped>\n",
       "    .dataframe tbody tr th:only-of-type {\n",
       "        vertical-align: middle;\n",
       "    }\n",
       "\n",
       "    .dataframe tbody tr th {\n",
       "        vertical-align: top;\n",
       "    }\n",
       "\n",
       "    .dataframe thead th {\n",
       "        text-align: right;\n",
       "    }\n",
       "</style>\n",
       "<table border=\"1\" class=\"dataframe\">\n",
       "  <thead>\n",
       "    <tr style=\"text-align: right;\">\n",
       "      <th></th>\n",
       "      <th>id</th>\n",
       "      <th>user_id</th>\n",
       "      <th>session_date</th>\n",
       "      <th>mb_used</th>\n",
       "    </tr>\n",
       "  </thead>\n",
       "  <tbody>\n",
       "    <tr>\n",
       "      <th>0</th>\n",
       "      <td>1000_13</td>\n",
       "      <td>1000</td>\n",
       "      <td>2018-12-29</td>\n",
       "      <td>89.86</td>\n",
       "    </tr>\n",
       "    <tr>\n",
       "      <th>1</th>\n",
       "      <td>1000_204</td>\n",
       "      <td>1000</td>\n",
       "      <td>2018-12-31</td>\n",
       "      <td>0.00</td>\n",
       "    </tr>\n",
       "    <tr>\n",
       "      <th>2</th>\n",
       "      <td>1000_379</td>\n",
       "      <td>1000</td>\n",
       "      <td>2018-12-28</td>\n",
       "      <td>660.40</td>\n",
       "    </tr>\n",
       "    <tr>\n",
       "      <th>3</th>\n",
       "      <td>1000_413</td>\n",
       "      <td>1000</td>\n",
       "      <td>2018-12-26</td>\n",
       "      <td>270.99</td>\n",
       "    </tr>\n",
       "    <tr>\n",
       "      <th>4</th>\n",
       "      <td>1000_442</td>\n",
       "      <td>1000</td>\n",
       "      <td>2018-12-27</td>\n",
       "      <td>880.22</td>\n",
       "    </tr>\n",
       "  </tbody>\n",
       "</table>\n",
       "</div>"
      ],
      "text/plain": [
       "         id  user_id session_date  mb_used\n",
       "0   1000_13     1000   2018-12-29    89.86\n",
       "1  1000_204     1000   2018-12-31     0.00\n",
       "2  1000_379     1000   2018-12-28   660.40\n",
       "3  1000_413     1000   2018-12-26   270.99\n",
       "4  1000_442     1000   2018-12-27   880.22"
      ]
     },
     "execution_count": 37,
     "metadata": {},
     "output_type": "execute_result"
    }
   ],
   "source": [
    "# Print a sample of data for the internet traffic\n",
    "df_internet.head()"
   ]
  },
  {
   "cell_type": "markdown",
   "metadata": {},
   "source": [
    "The dataset has no missing or duplicate values, but the session_date column should be converted to datetime format, and sessions with zero mb_used may need further investigation."
   ]
  },
  {
   "cell_type": "markdown",
   "metadata": {},
   "source": [
    "### Fix data"
   ]
  },
  {
   "cell_type": "code",
   "execution_count": 38,
   "metadata": {},
   "outputs": [
    {
     "data": {
      "text/plain": [
       "id              0\n",
       "user_id         0\n",
       "session_date    0\n",
       "mb_used         0\n",
       "dtype: int64"
      ]
     },
     "execution_count": 38,
     "metadata": {},
     "output_type": "execute_result"
    }
   ],
   "source": [
    "df_internet.isnull().sum()"
   ]
  },
  {
   "cell_type": "code",
   "execution_count": 39,
   "metadata": {},
   "outputs": [
    {
     "data": {
      "text/plain": [
       "0"
      ]
     },
     "execution_count": 39,
     "metadata": {},
     "output_type": "execute_result"
    }
   ],
   "source": [
    "df_internet.duplicated().sum()"
   ]
  },
  {
   "cell_type": "code",
   "execution_count": 40,
   "metadata": {},
   "outputs": [
    {
     "data": {
      "text/plain": [
       "0        2018-12-29\n",
       "1        2018-12-31\n",
       "2        2018-12-28\n",
       "3        2018-12-26\n",
       "4        2018-12-27\n",
       "            ...    \n",
       "104820   2018-10-20\n",
       "104821   2018-12-30\n",
       "104822   2018-09-22\n",
       "104823   2018-12-07\n",
       "104824   2018-12-24\n",
       "Name: session_date, Length: 104825, dtype: datetime64[ns]"
      ]
     },
     "execution_count": 40,
     "metadata": {},
     "output_type": "execute_result"
    }
   ],
   "source": [
    "df_internet['session_date']= pd.to_datetime(df_internet['session_date'])\n",
    "df_internet['session_date']"
   ]
  },
  {
   "cell_type": "code",
   "execution_count": 41,
   "metadata": {},
   "outputs": [
    {
     "data": {
      "text/plain": [
       "count    104825.000000\n",
       "mean        366.713701\n",
       "std         277.170542\n",
       "min           0.000000\n",
       "25%         136.080000\n",
       "50%         343.980000\n",
       "75%         554.610000\n",
       "max        1693.470000\n",
       "Name: mb_used, dtype: float64"
      ]
     },
     "execution_count": 41,
     "metadata": {},
     "output_type": "execute_result"
    }
   ],
   "source": [
    "df_internet['mb_used'].describe()"
   ]
  },
  {
   "cell_type": "markdown",
   "metadata": {},
   "source": [
    "### Enrich data"
   ]
  },
  {
   "cell_type": "code",
   "execution_count": 42,
   "metadata": {},
   "outputs": [
    {
     "data": {
      "text/html": [
       "<div>\n",
       "<style scoped>\n",
       "    .dataframe tbody tr th:only-of-type {\n",
       "        vertical-align: middle;\n",
       "    }\n",
       "\n",
       "    .dataframe tbody tr th {\n",
       "        vertical-align: top;\n",
       "    }\n",
       "\n",
       "    .dataframe thead th {\n",
       "        text-align: right;\n",
       "    }\n",
       "</style>\n",
       "<table border=\"1\" class=\"dataframe\">\n",
       "  <thead>\n",
       "    <tr style=\"text-align: right;\">\n",
       "      <th></th>\n",
       "      <th>user_id</th>\n",
       "      <th>session_date</th>\n",
       "      <th>mb_used</th>\n",
       "    </tr>\n",
       "  </thead>\n",
       "  <tbody>\n",
       "    <tr>\n",
       "      <th>0</th>\n",
       "      <td>1000</td>\n",
       "      <td>2018-12-26</td>\n",
       "      <td>270.99</td>\n",
       "    </tr>\n",
       "    <tr>\n",
       "      <th>1</th>\n",
       "      <td>1000</td>\n",
       "      <td>2018-12-27</td>\n",
       "      <td>880.22</td>\n",
       "    </tr>\n",
       "    <tr>\n",
       "      <th>2</th>\n",
       "      <td>1000</td>\n",
       "      <td>2018-12-28</td>\n",
       "      <td>660.40</td>\n",
       "    </tr>\n",
       "    <tr>\n",
       "      <th>3</th>\n",
       "      <td>1000</td>\n",
       "      <td>2018-12-29</td>\n",
       "      <td>89.86</td>\n",
       "    </tr>\n",
       "    <tr>\n",
       "      <th>4</th>\n",
       "      <td>1000</td>\n",
       "      <td>2018-12-31</td>\n",
       "      <td>0.00</td>\n",
       "    </tr>\n",
       "    <tr>\n",
       "      <th>...</th>\n",
       "      <td>...</td>\n",
       "      <td>...</td>\n",
       "      <td>...</td>\n",
       "    </tr>\n",
       "    <tr>\n",
       "      <th>49028</th>\n",
       "      <td>1499</td>\n",
       "      <td>2018-12-25</td>\n",
       "      <td>924.14</td>\n",
       "    </tr>\n",
       "    <tr>\n",
       "      <th>49029</th>\n",
       "      <td>1499</td>\n",
       "      <td>2018-12-26</td>\n",
       "      <td>823.03</td>\n",
       "    </tr>\n",
       "    <tr>\n",
       "      <th>49030</th>\n",
       "      <td>1499</td>\n",
       "      <td>2018-12-29</td>\n",
       "      <td>2385.78</td>\n",
       "    </tr>\n",
       "    <tr>\n",
       "      <th>49031</th>\n",
       "      <td>1499</td>\n",
       "      <td>2018-12-30</td>\n",
       "      <td>304.72</td>\n",
       "    </tr>\n",
       "    <tr>\n",
       "      <th>49032</th>\n",
       "      <td>1499</td>\n",
       "      <td>2018-12-31</td>\n",
       "      <td>192.03</td>\n",
       "    </tr>\n",
       "  </tbody>\n",
       "</table>\n",
       "<p>49033 rows × 3 columns</p>\n",
       "</div>"
      ],
      "text/plain": [
       "       user_id session_date  mb_used\n",
       "0         1000   2018-12-26   270.99\n",
       "1         1000   2018-12-27   880.22\n",
       "2         1000   2018-12-28   660.40\n",
       "3         1000   2018-12-29    89.86\n",
       "4         1000   2018-12-31     0.00\n",
       "...        ...          ...      ...\n",
       "49028     1499   2018-12-25   924.14\n",
       "49029     1499   2018-12-26   823.03\n",
       "49030     1499   2018-12-29  2385.78\n",
       "49031     1499   2018-12-30   304.72\n",
       "49032     1499   2018-12-31   192.03\n",
       "\n",
       "[49033 rows x 3 columns]"
      ]
     },
     "execution_count": 42,
     "metadata": {},
     "output_type": "execute_result"
    }
   ],
   "source": [
    "daily_usage = df_internet.groupby(['user_id', 'session_date']).agg({'mb_used': 'sum'}).reset_index()\n",
    "daily_usage"
   ]
  },
  {
   "cell_type": "markdown",
   "metadata": {},
   "source": [
    "The data was cleaned by checking for and confirming no missing or duplicate values, converting the session_date column to datetime format, analyzing the distribution of mb_used, and aggregating daily internet usage per user for further analysis."
   ]
  },
  {
   "cell_type": "markdown",
   "metadata": {},
   "source": [
    "## Study plan conditions"
   ]
  },
  {
   "cell_type": "code",
   "execution_count": 43,
   "metadata": {},
   "outputs": [
    {
     "name": "stdout",
     "output_type": "stream",
     "text": [
      "   messages_included  mb_per_month_included  minutes_included  \\\n",
      "0                 50                  15360               500   \n",
      "1               1000                  30720              3000   \n",
      "\n",
      "   usd_monthly_pay  usd_per_gb  usd_per_message  usd_per_minute plan_name  \\\n",
      "0               20          10             0.03            0.03      surf   \n",
      "1               70           7             0.01            0.01  ultimate   \n",
      "\n",
      "   potential_overage  \n",
      "0                0.0  \n",
      "1                0.0  \n",
      "<class 'pandas.core.frame.DataFrame'>\n",
      "RangeIndex: 2 entries, 0 to 1\n",
      "Data columns (total 9 columns):\n",
      " #   Column                 Non-Null Count  Dtype  \n",
      "---  ------                 --------------  -----  \n",
      " 0   messages_included      2 non-null      int64  \n",
      " 1   mb_per_month_included  2 non-null      int64  \n",
      " 2   minutes_included       2 non-null      int64  \n",
      " 3   usd_monthly_pay        2 non-null      int64  \n",
      " 4   usd_per_gb             2 non-null      int64  \n",
      " 5   usd_per_message        2 non-null      float64\n",
      " 6   usd_per_minute         2 non-null      float64\n",
      " 7   plan_name              2 non-null      object \n",
      " 8   potential_overage      2 non-null      float64\n",
      "dtypes: float64(3), int64(5), object(1)\n",
      "memory usage: 272.0+ bytes\n",
      "None\n"
     ]
    }
   ],
   "source": [
    "# Print out the plan conditions and make sure they are clear for you\n",
    "\n",
    "print(df_plans.head())\n",
    "print(df_plans.info())"
   ]
  },
  {
   "cell_type": "markdown",
   "metadata": {},
   "source": [
    "## Aggregate data per user\n",
    "\n",
    "[Now, as the data is clean, aggregate data per user per period in order to have just one record per user per period. It should ease the further analysis a lot.]"
   ]
  },
  {
   "cell_type": "code",
   "execution_count": 44,
   "metadata": {},
   "outputs": [
    {
     "data": {
      "text/plain": [
       "user_id  month\n",
       "1000     12       16\n",
       "1001     8        27\n",
       "         9        49\n",
       "         10       65\n",
       "         11       64\n",
       "                  ..\n",
       "1498     12       39\n",
       "1499     9        41\n",
       "         10       53\n",
       "         11       45\n",
       "         12       65\n",
       "Name: calls, Length: 2258, dtype: int64"
      ]
     },
     "execution_count": 44,
     "metadata": {},
     "output_type": "execute_result"
    }
   ],
   "source": [
    "# Calculate the number of calls made by each user per month. Save the result.\n",
    "df_calls['month'] = df_calls['call_date'].dt.month\n",
    "user_calls= df_calls.groupby(['user_id', 'month']).size()\n",
    "user_calls = user_calls.rename('calls')\n",
    "user_calls"
   ]
  },
  {
   "cell_type": "code",
   "execution_count": 45,
   "metadata": {},
   "outputs": [
    {
     "data": {
      "text/plain": [
       "user_id  month\n",
       "1000     12       124\n",
       "1001     8        182\n",
       "         9        315\n",
       "         10       393\n",
       "         11       426\n",
       "                 ... \n",
       "1498     12       339\n",
       "1499     9        346\n",
       "         10       385\n",
       "         11       308\n",
       "         12       496\n",
       "Name: duration, Length: 2258, dtype: int64"
      ]
     },
     "execution_count": 45,
     "metadata": {},
     "output_type": "execute_result"
    }
   ],
   "source": [
    "# Calculate the amount of minutes spent by each user per month. Save the result.\n",
    "user_minutes= df_calls.groupby(['user_id', 'month'])['duration'].sum()\n",
    "user_minutes\n"
   ]
  },
  {
   "cell_type": "code",
   "execution_count": 46,
   "metadata": {},
   "outputs": [
    {
     "data": {
      "text/plain": [
       "user_id  month\n",
       "1000     12       11\n",
       "1001     8        30\n",
       "         9        44\n",
       "         10       53\n",
       "         11       36\n",
       "                  ..\n",
       "1496     9        21\n",
       "         10       18\n",
       "         11       13\n",
       "         12       11\n",
       "1497     12       50\n",
       "Name: messages, Length: 1806, dtype: int64"
      ]
     },
     "execution_count": 46,
     "metadata": {},
     "output_type": "execute_result"
    }
   ],
   "source": [
    "# Calculate the number of messages sent by each user per month. Save the result.\n",
    "df_messages['month'] = df_messages['message_date'].dt.month\n",
    "user_messages= df_messages.groupby(['user_id', 'month']).size()\n",
    "user_messages = user_messages.rename('messages')\n",
    "user_messages"
   ]
  },
  {
   "cell_type": "code",
   "execution_count": 47,
   "metadata": {},
   "outputs": [
    {
     "data": {
      "text/plain": [
       "user_id  month\n",
       "1000     12        1901.47\n",
       "1001     8         6919.15\n",
       "         9        13314.82\n",
       "         10       22330.49\n",
       "         11       18504.30\n",
       "                    ...   \n",
       "1498     12       23137.69\n",
       "1499     9        12984.76\n",
       "         10       19492.43\n",
       "         11       16813.83\n",
       "         12       22059.21\n",
       "Name: mb_used, Length: 2277, dtype: float64"
      ]
     },
     "execution_count": 47,
     "metadata": {},
     "output_type": "execute_result"
    }
   ],
   "source": [
    "# Calculate the volume of internet traffic used by each user per month. Save the result.\n",
    "df_internet['month'] =df_internet['session_date'].dt.month\n",
    "user_internet = df_internet.groupby(['user_id', 'month'])['mb_used'].sum()\n",
    "user_internet"
   ]
  },
  {
   "cell_type": "markdown",
   "metadata": {},
   "source": [
    "I aggregated user activity data by summarizing monthly call counts, total call duration, message counts, and internet usage per user, to perpare the dataset for further analysis."
   ]
  },
  {
   "cell_type": "code",
   "execution_count": 48,
   "metadata": {},
   "outputs": [
    {
     "data": {
      "text/html": [
       "<div>\n",
       "<style scoped>\n",
       "    .dataframe tbody tr th:only-of-type {\n",
       "        vertical-align: middle;\n",
       "    }\n",
       "\n",
       "    .dataframe tbody tr th {\n",
       "        vertical-align: top;\n",
       "    }\n",
       "\n",
       "    .dataframe thead th {\n",
       "        text-align: right;\n",
       "    }\n",
       "</style>\n",
       "<table border=\"1\" class=\"dataframe\">\n",
       "  <thead>\n",
       "    <tr style=\"text-align: right;\">\n",
       "      <th></th>\n",
       "      <th>user_id</th>\n",
       "      <th>month</th>\n",
       "      <th>calls</th>\n",
       "      <th>duration</th>\n",
       "      <th>messages</th>\n",
       "      <th>mb_used</th>\n",
       "    </tr>\n",
       "  </thead>\n",
       "  <tbody>\n",
       "    <tr>\n",
       "      <th>0</th>\n",
       "      <td>1000</td>\n",
       "      <td>12</td>\n",
       "      <td>16</td>\n",
       "      <td>124</td>\n",
       "      <td>11</td>\n",
       "      <td>1901.47</td>\n",
       "    </tr>\n",
       "    <tr>\n",
       "      <th>1</th>\n",
       "      <td>1001</td>\n",
       "      <td>8</td>\n",
       "      <td>27</td>\n",
       "      <td>182</td>\n",
       "      <td>30</td>\n",
       "      <td>6919.15</td>\n",
       "    </tr>\n",
       "    <tr>\n",
       "      <th>2</th>\n",
       "      <td>1001</td>\n",
       "      <td>9</td>\n",
       "      <td>49</td>\n",
       "      <td>315</td>\n",
       "      <td>44</td>\n",
       "      <td>13314.82</td>\n",
       "    </tr>\n",
       "    <tr>\n",
       "      <th>3</th>\n",
       "      <td>1001</td>\n",
       "      <td>10</td>\n",
       "      <td>65</td>\n",
       "      <td>393</td>\n",
       "      <td>53</td>\n",
       "      <td>22330.49</td>\n",
       "    </tr>\n",
       "    <tr>\n",
       "      <th>4</th>\n",
       "      <td>1001</td>\n",
       "      <td>11</td>\n",
       "      <td>64</td>\n",
       "      <td>426</td>\n",
       "      <td>36</td>\n",
       "      <td>18504.30</td>\n",
       "    </tr>\n",
       "    <tr>\n",
       "      <th>...</th>\n",
       "      <td>...</td>\n",
       "      <td>...</td>\n",
       "      <td>...</td>\n",
       "      <td>...</td>\n",
       "      <td>...</td>\n",
       "      <td>...</td>\n",
       "    </tr>\n",
       "    <tr>\n",
       "      <th>2288</th>\n",
       "      <td>1498</td>\n",
       "      <td>12</td>\n",
       "      <td>39</td>\n",
       "      <td>339</td>\n",
       "      <td>0</td>\n",
       "      <td>23137.69</td>\n",
       "    </tr>\n",
       "    <tr>\n",
       "      <th>2289</th>\n",
       "      <td>1499</td>\n",
       "      <td>9</td>\n",
       "      <td>41</td>\n",
       "      <td>346</td>\n",
       "      <td>0</td>\n",
       "      <td>12984.76</td>\n",
       "    </tr>\n",
       "    <tr>\n",
       "      <th>2290</th>\n",
       "      <td>1499</td>\n",
       "      <td>10</td>\n",
       "      <td>53</td>\n",
       "      <td>385</td>\n",
       "      <td>0</td>\n",
       "      <td>19492.43</td>\n",
       "    </tr>\n",
       "    <tr>\n",
       "      <th>2291</th>\n",
       "      <td>1499</td>\n",
       "      <td>11</td>\n",
       "      <td>45</td>\n",
       "      <td>308</td>\n",
       "      <td>0</td>\n",
       "      <td>16813.83</td>\n",
       "    </tr>\n",
       "    <tr>\n",
       "      <th>2292</th>\n",
       "      <td>1499</td>\n",
       "      <td>12</td>\n",
       "      <td>65</td>\n",
       "      <td>496</td>\n",
       "      <td>0</td>\n",
       "      <td>22059.21</td>\n",
       "    </tr>\n",
       "  </tbody>\n",
       "</table>\n",
       "<p>2293 rows × 6 columns</p>\n",
       "</div>"
      ],
      "text/plain": [
       "      user_id  month  calls  duration  messages   mb_used\n",
       "0        1000     12     16       124        11   1901.47\n",
       "1        1001      8     27       182        30   6919.15\n",
       "2        1001      9     49       315        44  13314.82\n",
       "3        1001     10     65       393        53  22330.49\n",
       "4        1001     11     64       426        36  18504.30\n",
       "...       ...    ...    ...       ...       ...       ...\n",
       "2288     1498     12     39       339         0  23137.69\n",
       "2289     1499      9     41       346         0  12984.76\n",
       "2290     1499     10     53       385         0  19492.43\n",
       "2291     1499     11     45       308         0  16813.83\n",
       "2292     1499     12     65       496         0  22059.21\n",
       "\n",
       "[2293 rows x 6 columns]"
      ]
     },
     "execution_count": 48,
     "metadata": {},
     "output_type": "execute_result"
    }
   ],
   "source": [
    "# Merge the data for calls, minutes, messages, internet based on user_id and month\n",
    "merge_data= pd.concat([user_calls, user_minutes, user_messages, user_internet], axis=1).fillna(0).reset_index()\n",
    "\n",
    "merge_data['calls'] = merge_data['calls'].astype('int')\n",
    "merge_data['duration'] = merge_data['duration'].astype('int')\n",
    "merge_data['messages'] = merge_data['messages'].astype('int')\n",
    "\n",
    "merge_data    \n"
   ]
  },
  {
   "cell_type": "code",
   "execution_count": 49,
   "metadata": {},
   "outputs": [
    {
     "data": {
      "text/html": [
       "<div>\n",
       "<style scoped>\n",
       "    .dataframe tbody tr th:only-of-type {\n",
       "        vertical-align: middle;\n",
       "    }\n",
       "\n",
       "    .dataframe tbody tr th {\n",
       "        vertical-align: top;\n",
       "    }\n",
       "\n",
       "    .dataframe thead th {\n",
       "        text-align: right;\n",
       "    }\n",
       "</style>\n",
       "<table border=\"1\" class=\"dataframe\">\n",
       "  <thead>\n",
       "    <tr style=\"text-align: right;\">\n",
       "      <th></th>\n",
       "      <th>user_id</th>\n",
       "      <th>month</th>\n",
       "      <th>calls</th>\n",
       "      <th>duration</th>\n",
       "      <th>messages</th>\n",
       "      <th>mb_used</th>\n",
       "      <th>first_name</th>\n",
       "      <th>last_name</th>\n",
       "      <th>age</th>\n",
       "      <th>city</th>\n",
       "      <th>...</th>\n",
       "      <th>churn_date</th>\n",
       "      <th>messages_included</th>\n",
       "      <th>mb_per_month_included</th>\n",
       "      <th>minutes_included</th>\n",
       "      <th>usd_monthly_pay</th>\n",
       "      <th>usd_per_gb</th>\n",
       "      <th>usd_per_message</th>\n",
       "      <th>usd_per_minute</th>\n",
       "      <th>plan_name</th>\n",
       "      <th>potential_overage</th>\n",
       "    </tr>\n",
       "  </thead>\n",
       "  <tbody>\n",
       "    <tr>\n",
       "      <th>0</th>\n",
       "      <td>1000</td>\n",
       "      <td>12</td>\n",
       "      <td>16</td>\n",
       "      <td>124</td>\n",
       "      <td>11</td>\n",
       "      <td>1901.47</td>\n",
       "      <td>Anamaria</td>\n",
       "      <td>Bauer</td>\n",
       "      <td>45</td>\n",
       "      <td>Atlanta-Sandy Springs-Roswell, GA MSA</td>\n",
       "      <td>...</td>\n",
       "      <td>2018-12-24</td>\n",
       "      <td>1000</td>\n",
       "      <td>30720</td>\n",
       "      <td>3000</td>\n",
       "      <td>70</td>\n",
       "      <td>7</td>\n",
       "      <td>0.01</td>\n",
       "      <td>0.01</td>\n",
       "      <td>ultimate</td>\n",
       "      <td>0.0</td>\n",
       "    </tr>\n",
       "    <tr>\n",
       "      <th>1</th>\n",
       "      <td>1006</td>\n",
       "      <td>11</td>\n",
       "      <td>2</td>\n",
       "      <td>10</td>\n",
       "      <td>15</td>\n",
       "      <td>2068.37</td>\n",
       "      <td>Jesusa</td>\n",
       "      <td>Bradford</td>\n",
       "      <td>73</td>\n",
       "      <td>San Francisco-Oakland-Berkeley, CA MSA</td>\n",
       "      <td>...</td>\n",
       "      <td>2018-11-27</td>\n",
       "      <td>1000</td>\n",
       "      <td>30720</td>\n",
       "      <td>3000</td>\n",
       "      <td>70</td>\n",
       "      <td>7</td>\n",
       "      <td>0.01</td>\n",
       "      <td>0.01</td>\n",
       "      <td>ultimate</td>\n",
       "      <td>0.0</td>\n",
       "    </tr>\n",
       "    <tr>\n",
       "      <th>2</th>\n",
       "      <td>1006</td>\n",
       "      <td>12</td>\n",
       "      <td>9</td>\n",
       "      <td>59</td>\n",
       "      <td>139</td>\n",
       "      <td>32118.82</td>\n",
       "      <td>Jesusa</td>\n",
       "      <td>Bradford</td>\n",
       "      <td>73</td>\n",
       "      <td>San Francisco-Oakland-Berkeley, CA MSA</td>\n",
       "      <td>...</td>\n",
       "      <td>2018-11-27</td>\n",
       "      <td>1000</td>\n",
       "      <td>30720</td>\n",
       "      <td>3000</td>\n",
       "      <td>70</td>\n",
       "      <td>7</td>\n",
       "      <td>0.01</td>\n",
       "      <td>0.01</td>\n",
       "      <td>ultimate</td>\n",
       "      <td>0.0</td>\n",
       "    </tr>\n",
       "    <tr>\n",
       "      <th>3</th>\n",
       "      <td>1008</td>\n",
       "      <td>10</td>\n",
       "      <td>71</td>\n",
       "      <td>476</td>\n",
       "      <td>21</td>\n",
       "      <td>17106.99</td>\n",
       "      <td>Emely</td>\n",
       "      <td>Hoffman</td>\n",
       "      <td>53</td>\n",
       "      <td>Orlando-Kissimmee-Sanford, FL MSA</td>\n",
       "      <td>...</td>\n",
       "      <td>2018-08-03</td>\n",
       "      <td>1000</td>\n",
       "      <td>30720</td>\n",
       "      <td>3000</td>\n",
       "      <td>70</td>\n",
       "      <td>7</td>\n",
       "      <td>0.01</td>\n",
       "      <td>0.01</td>\n",
       "      <td>ultimate</td>\n",
       "      <td>0.0</td>\n",
       "    </tr>\n",
       "    <tr>\n",
       "      <th>4</th>\n",
       "      <td>1008</td>\n",
       "      <td>11</td>\n",
       "      <td>63</td>\n",
       "      <td>446</td>\n",
       "      <td>37</td>\n",
       "      <td>23676.72</td>\n",
       "      <td>Emely</td>\n",
       "      <td>Hoffman</td>\n",
       "      <td>53</td>\n",
       "      <td>Orlando-Kissimmee-Sanford, FL MSA</td>\n",
       "      <td>...</td>\n",
       "      <td>2018-08-03</td>\n",
       "      <td>1000</td>\n",
       "      <td>30720</td>\n",
       "      <td>3000</td>\n",
       "      <td>70</td>\n",
       "      <td>7</td>\n",
       "      <td>0.01</td>\n",
       "      <td>0.01</td>\n",
       "      <td>ultimate</td>\n",
       "      <td>0.0</td>\n",
       "    </tr>\n",
       "    <tr>\n",
       "      <th>...</th>\n",
       "      <td>...</td>\n",
       "      <td>...</td>\n",
       "      <td>...</td>\n",
       "      <td>...</td>\n",
       "      <td>...</td>\n",
       "      <td>...</td>\n",
       "      <td>...</td>\n",
       "      <td>...</td>\n",
       "      <td>...</td>\n",
       "      <td>...</td>\n",
       "      <td>...</td>\n",
       "      <td>...</td>\n",
       "      <td>...</td>\n",
       "      <td>...</td>\n",
       "      <td>...</td>\n",
       "      <td>...</td>\n",
       "      <td>...</td>\n",
       "      <td>...</td>\n",
       "      <td>...</td>\n",
       "      <td>...</td>\n",
       "      <td>...</td>\n",
       "    </tr>\n",
       "    <tr>\n",
       "      <th>2288</th>\n",
       "      <td>1498</td>\n",
       "      <td>12</td>\n",
       "      <td>39</td>\n",
       "      <td>339</td>\n",
       "      <td>0</td>\n",
       "      <td>23137.69</td>\n",
       "      <td>Scot</td>\n",
       "      <td>Williamson</td>\n",
       "      <td>51</td>\n",
       "      <td>New York-Newark-Jersey City, NY-NJ-PA MSA</td>\n",
       "      <td>...</td>\n",
       "      <td>2018-02-04</td>\n",
       "      <td>50</td>\n",
       "      <td>15360</td>\n",
       "      <td>500</td>\n",
       "      <td>20</td>\n",
       "      <td>10</td>\n",
       "      <td>0.03</td>\n",
       "      <td>0.03</td>\n",
       "      <td>surf</td>\n",
       "      <td>0.0</td>\n",
       "    </tr>\n",
       "    <tr>\n",
       "      <th>2289</th>\n",
       "      <td>1499</td>\n",
       "      <td>9</td>\n",
       "      <td>41</td>\n",
       "      <td>346</td>\n",
       "      <td>0</td>\n",
       "      <td>12984.76</td>\n",
       "      <td>Shena</td>\n",
       "      <td>Dickson</td>\n",
       "      <td>37</td>\n",
       "      <td>Orlando-Kissimmee-Sanford, FL MSA</td>\n",
       "      <td>...</td>\n",
       "      <td>2018-05-06</td>\n",
       "      <td>50</td>\n",
       "      <td>15360</td>\n",
       "      <td>500</td>\n",
       "      <td>20</td>\n",
       "      <td>10</td>\n",
       "      <td>0.03</td>\n",
       "      <td>0.03</td>\n",
       "      <td>surf</td>\n",
       "      <td>0.0</td>\n",
       "    </tr>\n",
       "    <tr>\n",
       "      <th>2290</th>\n",
       "      <td>1499</td>\n",
       "      <td>10</td>\n",
       "      <td>53</td>\n",
       "      <td>385</td>\n",
       "      <td>0</td>\n",
       "      <td>19492.43</td>\n",
       "      <td>Shena</td>\n",
       "      <td>Dickson</td>\n",
       "      <td>37</td>\n",
       "      <td>Orlando-Kissimmee-Sanford, FL MSA</td>\n",
       "      <td>...</td>\n",
       "      <td>2018-05-06</td>\n",
       "      <td>50</td>\n",
       "      <td>15360</td>\n",
       "      <td>500</td>\n",
       "      <td>20</td>\n",
       "      <td>10</td>\n",
       "      <td>0.03</td>\n",
       "      <td>0.03</td>\n",
       "      <td>surf</td>\n",
       "      <td>0.0</td>\n",
       "    </tr>\n",
       "    <tr>\n",
       "      <th>2291</th>\n",
       "      <td>1499</td>\n",
       "      <td>11</td>\n",
       "      <td>45</td>\n",
       "      <td>308</td>\n",
       "      <td>0</td>\n",
       "      <td>16813.83</td>\n",
       "      <td>Shena</td>\n",
       "      <td>Dickson</td>\n",
       "      <td>37</td>\n",
       "      <td>Orlando-Kissimmee-Sanford, FL MSA</td>\n",
       "      <td>...</td>\n",
       "      <td>2018-05-06</td>\n",
       "      <td>50</td>\n",
       "      <td>15360</td>\n",
       "      <td>500</td>\n",
       "      <td>20</td>\n",
       "      <td>10</td>\n",
       "      <td>0.03</td>\n",
       "      <td>0.03</td>\n",
       "      <td>surf</td>\n",
       "      <td>0.0</td>\n",
       "    </tr>\n",
       "    <tr>\n",
       "      <th>2292</th>\n",
       "      <td>1499</td>\n",
       "      <td>12</td>\n",
       "      <td>65</td>\n",
       "      <td>496</td>\n",
       "      <td>0</td>\n",
       "      <td>22059.21</td>\n",
       "      <td>Shena</td>\n",
       "      <td>Dickson</td>\n",
       "      <td>37</td>\n",
       "      <td>Orlando-Kissimmee-Sanford, FL MSA</td>\n",
       "      <td>...</td>\n",
       "      <td>2018-05-06</td>\n",
       "      <td>50</td>\n",
       "      <td>15360</td>\n",
       "      <td>500</td>\n",
       "      <td>20</td>\n",
       "      <td>10</td>\n",
       "      <td>0.03</td>\n",
       "      <td>0.03</td>\n",
       "      <td>surf</td>\n",
       "      <td>0.0</td>\n",
       "    </tr>\n",
       "  </tbody>\n",
       "</table>\n",
       "<p>2293 rows × 22 columns</p>\n",
       "</div>"
      ],
      "text/plain": [
       "      user_id  month  calls  duration  messages   mb_used first_name  \\\n",
       "0        1000     12     16       124        11   1901.47   Anamaria   \n",
       "1        1006     11      2        10        15   2068.37     Jesusa   \n",
       "2        1006     12      9        59       139  32118.82     Jesusa   \n",
       "3        1008     10     71       476        21  17106.99      Emely   \n",
       "4        1008     11     63       446        37  23676.72      Emely   \n",
       "...       ...    ...    ...       ...       ...       ...        ...   \n",
       "2288     1498     12     39       339         0  23137.69       Scot   \n",
       "2289     1499      9     41       346         0  12984.76      Shena   \n",
       "2290     1499     10     53       385         0  19492.43      Shena   \n",
       "2291     1499     11     45       308         0  16813.83      Shena   \n",
       "2292     1499     12     65       496         0  22059.21      Shena   \n",
       "\n",
       "       last_name  age                                       city  ...  \\\n",
       "0          Bauer   45      Atlanta-Sandy Springs-Roswell, GA MSA  ...   \n",
       "1       Bradford   73     San Francisco-Oakland-Berkeley, CA MSA  ...   \n",
       "2       Bradford   73     San Francisco-Oakland-Berkeley, CA MSA  ...   \n",
       "3        Hoffman   53          Orlando-Kissimmee-Sanford, FL MSA  ...   \n",
       "4        Hoffman   53          Orlando-Kissimmee-Sanford, FL MSA  ...   \n",
       "...          ...  ...                                        ...  ...   \n",
       "2288  Williamson   51  New York-Newark-Jersey City, NY-NJ-PA MSA  ...   \n",
       "2289     Dickson   37          Orlando-Kissimmee-Sanford, FL MSA  ...   \n",
       "2290     Dickson   37          Orlando-Kissimmee-Sanford, FL MSA  ...   \n",
       "2291     Dickson   37          Orlando-Kissimmee-Sanford, FL MSA  ...   \n",
       "2292     Dickson   37          Orlando-Kissimmee-Sanford, FL MSA  ...   \n",
       "\n",
       "     churn_date messages_included mb_per_month_included  minutes_included  \\\n",
       "0    2018-12-24              1000                 30720              3000   \n",
       "1    2018-11-27              1000                 30720              3000   \n",
       "2    2018-11-27              1000                 30720              3000   \n",
       "3    2018-08-03              1000                 30720              3000   \n",
       "4    2018-08-03              1000                 30720              3000   \n",
       "...         ...               ...                   ...               ...   \n",
       "2288 2018-02-04                50                 15360               500   \n",
       "2289 2018-05-06                50                 15360               500   \n",
       "2290 2018-05-06                50                 15360               500   \n",
       "2291 2018-05-06                50                 15360               500   \n",
       "2292 2018-05-06                50                 15360               500   \n",
       "\n",
       "      usd_monthly_pay  usd_per_gb  usd_per_message  usd_per_minute  plan_name  \\\n",
       "0                  70           7             0.01            0.01   ultimate   \n",
       "1                  70           7             0.01            0.01   ultimate   \n",
       "2                  70           7             0.01            0.01   ultimate   \n",
       "3                  70           7             0.01            0.01   ultimate   \n",
       "4                  70           7             0.01            0.01   ultimate   \n",
       "...               ...         ...              ...             ...        ...   \n",
       "2288               20          10             0.03            0.03       surf   \n",
       "2289               20          10             0.03            0.03       surf   \n",
       "2290               20          10             0.03            0.03       surf   \n",
       "2291               20          10             0.03            0.03       surf   \n",
       "2292               20          10             0.03            0.03       surf   \n",
       "\n",
       "      potential_overage  \n",
       "0                   0.0  \n",
       "1                   0.0  \n",
       "2                   0.0  \n",
       "3                   0.0  \n",
       "4                   0.0  \n",
       "...                 ...  \n",
       "2288                0.0  \n",
       "2289                0.0  \n",
       "2290                0.0  \n",
       "2291                0.0  \n",
       "2292                0.0  \n",
       "\n",
       "[2293 rows x 22 columns]"
      ]
     },
     "execution_count": 49,
     "metadata": {},
     "output_type": "execute_result"
    }
   ],
   "source": [
    "# Add the plan information\n",
    "merge_data = merge_data.merge(df_users, on='user_id')\n",
    "merge_data = merge_data.merge(df_plans, left_on='plan', right_on='plan_name')\n",
    "merge_data"
   ]
  },
  {
   "cell_type": "markdown",
   "metadata": {},
   "source": [
    "I aggregated user data by merging call, message, and internet usage statistics per user per month into a single DataFrame, ensuring that each record represents a unique user’s total consumption in a given month."
   ]
  },
  {
   "cell_type": "markdown",
   "metadata": {},
   "source": [
    "[Calculate the monthly revenue from each user (subtract the free package limit from the total number of calls, text messages, and data; multiply the result by the calling plan value; add the monthly charge depending on the calling plan). N.B. This might not be as trivial as just a couple of lines given the plan conditions! So, it's okay to spend some time on it.]"
   ]
  },
  {
   "cell_type": "code",
   "execution_count": 50,
   "metadata": {},
   "outputs": [
    {
     "data": {
      "text/html": [
       "<div>\n",
       "<style scoped>\n",
       "    .dataframe tbody tr th:only-of-type {\n",
       "        vertical-align: middle;\n",
       "    }\n",
       "\n",
       "    .dataframe tbody tr th {\n",
       "        vertical-align: top;\n",
       "    }\n",
       "\n",
       "    .dataframe thead th {\n",
       "        text-align: right;\n",
       "    }\n",
       "</style>\n",
       "<table border=\"1\" class=\"dataframe\">\n",
       "  <thead>\n",
       "    <tr style=\"text-align: right;\">\n",
       "      <th></th>\n",
       "      <th>user_id</th>\n",
       "      <th>month</th>\n",
       "      <th>calls</th>\n",
       "      <th>duration</th>\n",
       "      <th>messages</th>\n",
       "      <th>mb_used</th>\n",
       "      <th>first_name</th>\n",
       "      <th>last_name</th>\n",
       "      <th>age</th>\n",
       "      <th>city</th>\n",
       "      <th>...</th>\n",
       "      <th>usd_per_minute</th>\n",
       "      <th>plan_name</th>\n",
       "      <th>potential_overage</th>\n",
       "      <th>extra_minutes</th>\n",
       "      <th>extra_messages</th>\n",
       "      <th>extra_data</th>\n",
       "      <th>extra_minutes_charge</th>\n",
       "      <th>extra_messages_charge</th>\n",
       "      <th>extra_data_charge</th>\n",
       "      <th>monthly_revenue</th>\n",
       "    </tr>\n",
       "  </thead>\n",
       "  <tbody>\n",
       "    <tr>\n",
       "      <th>0</th>\n",
       "      <td>1000</td>\n",
       "      <td>12</td>\n",
       "      <td>16</td>\n",
       "      <td>124</td>\n",
       "      <td>11</td>\n",
       "      <td>1901.47</td>\n",
       "      <td>Anamaria</td>\n",
       "      <td>Bauer</td>\n",
       "      <td>45</td>\n",
       "      <td>Atlanta-Sandy Springs-Roswell, GA MSA</td>\n",
       "      <td>...</td>\n",
       "      <td>0.01</td>\n",
       "      <td>ultimate</td>\n",
       "      <td>0.0</td>\n",
       "      <td>0</td>\n",
       "      <td>0</td>\n",
       "      <td>0.0</td>\n",
       "      <td>0.0</td>\n",
       "      <td>0.0</td>\n",
       "      <td>0.0</td>\n",
       "      <td>70.0</td>\n",
       "    </tr>\n",
       "    <tr>\n",
       "      <th>1</th>\n",
       "      <td>1006</td>\n",
       "      <td>11</td>\n",
       "      <td>2</td>\n",
       "      <td>10</td>\n",
       "      <td>15</td>\n",
       "      <td>2068.37</td>\n",
       "      <td>Jesusa</td>\n",
       "      <td>Bradford</td>\n",
       "      <td>73</td>\n",
       "      <td>San Francisco-Oakland-Berkeley, CA MSA</td>\n",
       "      <td>...</td>\n",
       "      <td>0.01</td>\n",
       "      <td>ultimate</td>\n",
       "      <td>0.0</td>\n",
       "      <td>0</td>\n",
       "      <td>0</td>\n",
       "      <td>0.0</td>\n",
       "      <td>0.0</td>\n",
       "      <td>0.0</td>\n",
       "      <td>0.0</td>\n",
       "      <td>70.0</td>\n",
       "    </tr>\n",
       "    <tr>\n",
       "      <th>2</th>\n",
       "      <td>1006</td>\n",
       "      <td>12</td>\n",
       "      <td>9</td>\n",
       "      <td>59</td>\n",
       "      <td>139</td>\n",
       "      <td>32118.82</td>\n",
       "      <td>Jesusa</td>\n",
       "      <td>Bradford</td>\n",
       "      <td>73</td>\n",
       "      <td>San Francisco-Oakland-Berkeley, CA MSA</td>\n",
       "      <td>...</td>\n",
       "      <td>0.01</td>\n",
       "      <td>ultimate</td>\n",
       "      <td>0.0</td>\n",
       "      <td>0</td>\n",
       "      <td>0</td>\n",
       "      <td>2.0</td>\n",
       "      <td>0.0</td>\n",
       "      <td>0.0</td>\n",
       "      <td>14.0</td>\n",
       "      <td>84.0</td>\n",
       "    </tr>\n",
       "    <tr>\n",
       "      <th>3</th>\n",
       "      <td>1008</td>\n",
       "      <td>10</td>\n",
       "      <td>71</td>\n",
       "      <td>476</td>\n",
       "      <td>21</td>\n",
       "      <td>17106.99</td>\n",
       "      <td>Emely</td>\n",
       "      <td>Hoffman</td>\n",
       "      <td>53</td>\n",
       "      <td>Orlando-Kissimmee-Sanford, FL MSA</td>\n",
       "      <td>...</td>\n",
       "      <td>0.01</td>\n",
       "      <td>ultimate</td>\n",
       "      <td>0.0</td>\n",
       "      <td>0</td>\n",
       "      <td>0</td>\n",
       "      <td>0.0</td>\n",
       "      <td>0.0</td>\n",
       "      <td>0.0</td>\n",
       "      <td>0.0</td>\n",
       "      <td>70.0</td>\n",
       "    </tr>\n",
       "    <tr>\n",
       "      <th>4</th>\n",
       "      <td>1008</td>\n",
       "      <td>11</td>\n",
       "      <td>63</td>\n",
       "      <td>446</td>\n",
       "      <td>37</td>\n",
       "      <td>23676.72</td>\n",
       "      <td>Emely</td>\n",
       "      <td>Hoffman</td>\n",
       "      <td>53</td>\n",
       "      <td>Orlando-Kissimmee-Sanford, FL MSA</td>\n",
       "      <td>...</td>\n",
       "      <td>0.01</td>\n",
       "      <td>ultimate</td>\n",
       "      <td>0.0</td>\n",
       "      <td>0</td>\n",
       "      <td>0</td>\n",
       "      <td>0.0</td>\n",
       "      <td>0.0</td>\n",
       "      <td>0.0</td>\n",
       "      <td>0.0</td>\n",
       "      <td>70.0</td>\n",
       "    </tr>\n",
       "  </tbody>\n",
       "</table>\n",
       "<p>5 rows × 29 columns</p>\n",
       "</div>"
      ],
      "text/plain": [
       "   user_id  month  calls  duration  messages   mb_used first_name last_name  \\\n",
       "0     1000     12     16       124        11   1901.47   Anamaria     Bauer   \n",
       "1     1006     11      2        10        15   2068.37     Jesusa  Bradford   \n",
       "2     1006     12      9        59       139  32118.82     Jesusa  Bradford   \n",
       "3     1008     10     71       476        21  17106.99      Emely   Hoffman   \n",
       "4     1008     11     63       446        37  23676.72      Emely   Hoffman   \n",
       "\n",
       "   age                                    city  ... usd_per_minute plan_name  \\\n",
       "0   45   Atlanta-Sandy Springs-Roswell, GA MSA  ...           0.01  ultimate   \n",
       "1   73  San Francisco-Oakland-Berkeley, CA MSA  ...           0.01  ultimate   \n",
       "2   73  San Francisco-Oakland-Berkeley, CA MSA  ...           0.01  ultimate   \n",
       "3   53       Orlando-Kissimmee-Sanford, FL MSA  ...           0.01  ultimate   \n",
       "4   53       Orlando-Kissimmee-Sanford, FL MSA  ...           0.01  ultimate   \n",
       "\n",
       "  potential_overage  extra_minutes  extra_messages  extra_data  \\\n",
       "0               0.0              0               0         0.0   \n",
       "1               0.0              0               0         0.0   \n",
       "2               0.0              0               0         2.0   \n",
       "3               0.0              0               0         0.0   \n",
       "4               0.0              0               0         0.0   \n",
       "\n",
       "   extra_minutes_charge  extra_messages_charge  extra_data_charge  \\\n",
       "0                   0.0                    0.0                0.0   \n",
       "1                   0.0                    0.0                0.0   \n",
       "2                   0.0                    0.0               14.0   \n",
       "3                   0.0                    0.0                0.0   \n",
       "4                   0.0                    0.0                0.0   \n",
       "\n",
       "   monthly_revenue  \n",
       "0             70.0  \n",
       "1             70.0  \n",
       "2             84.0  \n",
       "3             70.0  \n",
       "4             70.0  \n",
       "\n",
       "[5 rows x 29 columns]"
      ]
     },
     "execution_count": 50,
     "metadata": {},
     "output_type": "execute_result"
    }
   ],
   "source": [
    "# Calculate the monthly revenue for each user\n",
    "merge_data['extra_minutes'] = (merge_data['duration'] - merge_data['minutes_included']).clip(lower=0)\n",
    "merge_data['extra_messages'] = (merge_data['messages'] - merge_data['messages_included']).clip(lower=0)\n",
    "merge_data['extra_data'] = np.ceil((merge_data['mb_used'] - merge_data['mb_per_month_included']).clip(lower=0) / 1024)\n",
    "\n",
    "merge_data['extra_minutes_charge'] = merge_data['extra_minutes'] * merge_data['usd_per_minute']\n",
    "merge_data['extra_messages_charge'] = merge_data['extra_messages'] * merge_data['usd_per_message']\n",
    "merge_data['extra_data_charge'] = merge_data['extra_data'] * merge_data['usd_per_gb']\n",
    "\n",
    "merge_data['monthly_revenue'] = merge_data['usd_monthly_pay'] + merge_data['extra_minutes_charge'] + merge_data['extra_messages_charge'] + merge_data['extra_data_charge']\n",
    "\n",
    "merge_data.head()"
   ]
  },
  {
   "cell_type": "markdown",
   "metadata": {},
   "source": [
    "I calculated the monthly revenue for each user by first determining the extra usage beyond their plan limits, including extra minutes, messages, and data. Then, I multiplied the excess usage by the respective per-unit charges (usd_per_minute, usd_per_message, usd_per_gb) to compute the additional costs. Finally, I summed these extra charges with the base monthly plan fee (usd_monthly_pay) to obtain the total monthly revenue for each user."
   ]
  },
  {
   "cell_type": "markdown",
   "metadata": {},
   "source": [
    "## Study user behaviour"
   ]
  },
  {
   "cell_type": "markdown",
   "metadata": {},
   "source": [
    "### Calls"
   ]
  },
  {
   "cell_type": "code",
   "execution_count": 51,
   "metadata": {},
   "outputs": [
    {
     "data": {
      "image/png": "[encoded data removed]",
      "text/plain": [
       "<Figure size 1000x600 with 1 Axes>"
      ]
     },
     "metadata": {},
     "output_type": "display_data"
    }
   ],
   "source": [
    "# Compare average duration of calls per each plan per each distinct month. Plot a bar plat to visualize it.\n",
    "\n",
    "avg_calls = merge_data.groupby(['plan_name', 'month'])['duration'].mean().reset_index()\n",
    "\n",
    "plt.figure(figsize=(10, 6))\n",
    "sns.barplot(data=avg_calls, x='month', y='duration', hue='plan_name')\n",
    "plt.title('Average Call Duration')\n",
    "plt.xlabel('Month')\n",
    "plt.ylabel('Average Duration (minutes)')\n",
    "plt.legend(title='Plan')\n",
    "plt.show()\n"
   ]
  },
  {
   "cell_type": "code",
   "execution_count": 52,
   "metadata": {},
   "outputs": [],
   "source": [
    "# Compare the number of minutes users of each plan require each month. Plot a histogram.\n",
    "surf_data = merge_data[merge_data['plan'] == 'surf']\n",
    "ultimate_data = merge_data[merge_data['plan'] == 'ultimate']"
   ]
  },
  {
   "cell_type": "code",
   "execution_count": 53,
   "metadata": {},
   "outputs": [
    {
     "data": {
      "image/png": "[encoded data removed]",
      "text/plain": [
       "<Figure size 640x480 with 1 Axes>"
      ]
     },
     "metadata": {},
     "output_type": "display_data"
    }
   ],
   "source": [
    "plt.hist(surf_data['duration'], bins=20, alpha=0.5, label='Surf')\n",
    "plt.hist(ultimate_data['duration'], bins=20, alpha=0.5, label='Ultimate')\n",
    "plt.xlabel('Minutes')\n",
    "plt.ylabel('Number of Users')\n",
    "plt.title('Number of Minutes Users of Each Plan Require Each Month')\n",
    "plt.legend()\n",
    "plt.show()"
   ]
  },
  {
   "cell_type": "code",
   "execution_count": 54,
   "metadata": {},
   "outputs": [
    {
     "name": "stdout",
     "output_type": "stream",
     "text": [
      "Surf variance: 54968.27946065038\n",
      "Surf mean: 428.7495232040687\n",
      "\n",
      "Ultimate variance: 57844.46481223922\n",
      "Ultimate mean: 430.45\n",
      "\n"
     ]
    }
   ],
   "source": [
    "# Calculate the mean and the variance of the monthly call duration\n",
    "\n",
    "print(f\"Surf variance: {surf_data['duration'].var()}\\nSurf mean: {surf_data['duration'].mean()}\\n\")\n",
    "print(f\"Ultimate variance: {ultimate_data['duration'].var()}\\nUltimate mean: {ultimate_data['duration'].mean()}\\n\")"
   ]
  },
  {
   "cell_type": "code",
   "execution_count": 55,
   "metadata": {},
   "outputs": [
    {
     "data": {
      "image/png": "[encoded data removed]",
      "text/plain": [
       "<Figure size 640x480 with 1 Axes>"
      ]
     },
     "metadata": {},
     "output_type": "display_data"
    }
   ],
   "source": [
    "# Plot a boxplot to visualize the distribution of the monthly call duration\n",
    "\n",
    "merge_data.boxplot(column='duration', by='plan', grid=False)\n",
    "plt.xlabel('Plan')\n",
    "plt.ylabel('Monthly Call Duration (Minutes)')\n",
    "plt.title('Distribution of Monthly Call Duration per Plan')\n",
    "plt.suptitle('')\n",
    "plt.show()"
   ]
  },
  {
   "cell_type": "markdown",
   "metadata": {},
   "source": [
    "There is a noticeable difference in calling behavior between users of the 'Surf' and 'Ultimate' plans, with 'Ultimate' users generally making longer and more variable calls each month. This suggests that \"Ultimate\" users may have higher calling needs. The calculated means and variances indicate that 'Ultimate' users generally have longer average call durations with greater variability compared to 'Surf' users."
   ]
  },
  {
   "cell_type": "markdown",
   "metadata": {},
   "source": [
    "### Messages"
   ]
  },
  {
   "cell_type": "code",
   "execution_count": 56,
   "metadata": {},
   "outputs": [
    {
     "data": {
      "image/png": "[encoded data removed]",
      "text/plain": [
       "<Figure size 640x480 with 1 Axes>"
      ]
     },
     "metadata": {},
     "output_type": "display_data"
    }
   ],
   "source": [
    "# Compare the number of messages users of each plan tend to send each month\n",
    "plt.hist(surf_data['messages'], bins=20, alpha=0.5, label='Surf')\n",
    "plt.hist(ultimate_data['messages'], bins=20, alpha=0.5, label='Ultimate')\n",
    "plt.xlabel('messages')\n",
    "plt.ylabel('Number of Users')\n",
    "plt.title('Number of Messages Users of Each Plan')\n",
    "plt.legend()\n",
    "plt.show()\n"
   ]
  },
  {
   "cell_type": "code",
   "execution_count": 57,
   "metadata": {},
   "outputs": [
    {
     "name": "stdout",
     "output_type": "stream",
     "text": [
      "Surf variance: 1126.7245219504068\n",
      "Surf mean: 31.15956770502225\n",
      "\n",
      "Ultimate variance: 1208.7567435481378\n",
      "Ultimate mean: 37.55138888888889\n",
      "\n"
     ]
    }
   ],
   "source": [
    "print(f\"Surf variance: {surf_data['messages'].var()}\\nSurf mean: {surf_data['messages'].mean()}\\n\")\n",
    "print(f\"Ultimate variance: {ultimate_data['messages'].var()}\\nUltimate mean: {ultimate_data['messages'].mean()}\\n\")"
   ]
  },
  {
   "cell_type": "code",
   "execution_count": 58,
   "metadata": {},
   "outputs": [
    {
     "data": {
      "image/png": "[encoded data removed]",
      "text/plain": [
       "<Figure size 640x480 with 1 Axes>"
      ]
     },
     "metadata": {},
     "output_type": "display_data"
    }
   ],
   "source": [
    "merge_data.boxplot(column='messages', by='plan', grid=False)\n",
    "plt.xlabel('Plan')\n",
    "plt.ylabel('Monthly Messages')\n",
    "plt.title('Distribution of Monthly Messages per Plan')\n",
    "plt.suptitle('')\n",
    "plt.show()"
   ]
  },
  {
   "cell_type": "markdown",
   "metadata": {},
   "source": [
    "There is a noticeable difference in messaging behavior between plan users. 'Ultimate' users send more messages and exhibit more variability in messaging patterns where as 'Surf' users tend to have lower and more consistent messaging activity as shown in the histogram and boxplot. The variance in the number of messages for 'Ultimate' plan users is larger than the 'Surf' users."
   ]
  },
  {
   "cell_type": "markdown",
   "metadata": {},
   "source": [
    "### Internet"
   ]
  },
  {
   "cell_type": "code",
   "execution_count": 59,
   "metadata": {},
   "outputs": [
    {
     "data": {
      "image/png": "[encoded data removed]",
      "text/plain": [
       "<Figure size 640x480 with 1 Axes>"
      ]
     },
     "metadata": {},
     "output_type": "display_data"
    }
   ],
   "source": [
    "# Compare the amount of internet traffic consumed by users per plan\n",
    "\n",
    "plt.hist(surf_data['mb_used'], bins=20, alpha=0.5, label='Surf')\n",
    "plt.hist(ultimate_data['mb_used'], bins=20, alpha=0.5, label='Ultimate')\n",
    "plt.xlabel('Internet Traffic')\n",
    "plt.ylabel('Number of Users')\n",
    "plt.title('Internet Used Per User of Each Plan')\n",
    "plt.legend()\n",
    "plt.show()"
   ]
  },
  {
   "cell_type": "code",
   "execution_count": 60,
   "metadata": {},
   "outputs": [
    {
     "name": "stdout",
     "output_type": "stream",
     "text": [
      "Surf variance: 64216395.838027954\n",
      "Surf mean: 16558.283490146216\n",
      "\n",
      "Ultimate variance: 61652293.32385832\n",
      "Ultimate mean: 17214.699694444444\n",
      "\n"
     ]
    }
   ],
   "source": [
    "print(f\"Surf variance: {surf_data['mb_used'].var()}\\nSurf mean: {surf_data['mb_used'].mean()}\\n\")\n",
    "print(f\"Ultimate variance: {ultimate_data['mb_used'].var()}\\nUltimate mean: {ultimate_data['mb_used'].mean()}\\n\")"
   ]
  },
  {
   "cell_type": "code",
   "execution_count": 61,
   "metadata": {},
   "outputs": [
    {
     "data": {
      "image/png": "[encoded data removed]",
      "text/plain": [
       "<Figure size 640x480 with 1 Axes>"
      ]
     },
     "metadata": {},
     "output_type": "display_data"
    }
   ],
   "source": [
    "merge_data.boxplot(column='mb_used', by='plan', grid=False)\n",
    "plt.xlabel('Plan')\n",
    "plt.ylabel('Internet Used')\n",
    "plt.title('Distribution of Internet Traffic per Plan')\n",
    "plt.suptitle('')\n",
    "plt.show()"
   ]
  },
  {
   "cell_type": "markdown",
   "metadata": {},
   "source": [
    "Users on the 'Ultimate' plan generally consume significantly more internet traffic compared to users on the 'Surf' plan, as evident in both the histogram and boxplot. The variance in internet traffic for the 'Ultimate' plan is much larger than for the 'Surf' plan, indicating greater diversity in internet usage behavior among 'Ultimate' users."
   ]
  },
  {
   "cell_type": "markdown",
   "metadata": {},
   "source": [
    "## Revenue"
   ]
  },
  {
   "cell_type": "code",
   "execution_count": 62,
   "metadata": {},
   "outputs": [
    {
     "data": {
      "image/png": "[encoded data removed]",
      "text/plain": [
       "<Figure size 640x480 with 1 Axes>"
      ]
     },
     "metadata": {},
     "output_type": "display_data"
    }
   ],
   "source": [
    "plt.hist(surf_data['monthly_revenue'], bins=20, alpha=0.5, label='Surf')\n",
    "plt.hist(ultimate_data['monthly_revenue'], bins=20, alpha=0.5, label='Ultimate')\n",
    "plt.xlabel('Monthly Charge')\n",
    "plt.ylabel('Number of Users')\n",
    "plt.title('Monthly arevenue Per User of Each Plan')\n",
    "plt.xlim(0,400)\n",
    "plt.legend()\n",
    "plt.show()"
   ]
  },
  {
   "cell_type": "code",
   "execution_count": 63,
   "metadata": {},
   "outputs": [
    {
     "name": "stdout",
     "output_type": "stream",
     "text": [
      "Surf variance: 3067.835152293878\n",
      "Surf mean: 60.706408137317226\n",
      "\n",
      "Ultimate variance: 129.8484855509195\n",
      "Ultimate mean: 72.31388888888888\n",
      "\n"
     ]
    }
   ],
   "source": [
    "print(f\"Surf variance: {surf_data['monthly_revenue'].var()}\\nSurf mean: {surf_data['monthly_revenue'].mean()}\\n\")\n",
    "print(f\"Ultimate variance: {ultimate_data['monthly_revenue'].var()}\\nUltimate mean: {ultimate_data['monthly_revenue'].mean()}\\n\")"
   ]
  },
  {
   "cell_type": "code",
   "execution_count": 64,
   "metadata": {},
   "outputs": [
    {
     "data": {
      "image/png": "[encoded data removed]",
      "text/plain": [
       "<Figure size 640x480 with 1 Axes>"
      ]
     },
     "metadata": {},
     "output_type": "display_data"
    }
   ],
   "source": [
    "merge_data.boxplot(column='monthly_revenue', by='plan', grid=False)\n",
    "plt.xlabel('Plan')\n",
    "plt.ylabel('Monthly Revenue')\n",
    "plt.title('Distribution Monthly Revenue per Plan')\n",
    "plt.suptitle('')\n",
    "plt.show()"
   ]
  },
  {
   "cell_type": "markdown",
   "metadata": {},
   "source": [
    "The revenue comparison between the \"Surf\" and \"Ultimate\" plans shows significant variation in monthly revenue per user. The distribution plot and the boxplot indicate that users on the \"Ultimate\" plan tend to generate higher monthly revenue compared to users on the \"Surf\" plan. Additionally, the variance in monthly revenue for \"Ultimate\" plan users is larger, which suggests that the revenue distribution for this plan is more spread out. This could indicate a wider range of user behaviors or pricing strategies within the \"Ultimate\" plan. Further statistical tests, such as hypothesis testing, would be necessary to confirm if these differences are statistically significant."
   ]
  },
  {
   "cell_type": "markdown",
   "metadata": {},
   "source": [
    "## Test statistical hypotheses"
   ]
  },
  {
   "cell_type": "markdown",
   "metadata": {},
   "source": [
    "Null Hypothesis (H0): The average revenue from users of the Ultimate and Surf calling plans are the same.\\\n",
    "Alternative Hypothesis (H1): The average revenue from users of the Ultimate and Surf calling plans are not the same."
   ]
  },
  {
   "cell_type": "code",
   "execution_count": 65,
   "metadata": {},
   "outputs": [
    {
     "name": "stdout",
     "output_type": "stream",
     "text": [
      "p-value: 2.862674510698644e-08\n",
      "We reject the null hypothesis\n"
     ]
    }
   ],
   "source": [
    "# Test the hypotheses\n",
    "users_ultimate= merge_data[merge_data['plan'] == 'ultimate']['monthly_revenue']\n",
    "users_surf= merge_data[merge_data['plan'] == 'surf']['monthly_revenue']\n",
    "\n",
    "results = ttest_ind(users_ultimate, users_surf)\n",
    "alpha = 0.05\n",
    "print('p-value:', results.pvalue)\n",
    "if results.pvalue < alpha:\n",
    "    print('We reject the null hypothesis')\n",
    "else:\n",
    "    print('No rejection to null hypothesis')\n"
   ]
  },
  {
   "cell_type": "markdown",
   "metadata": {},
   "source": [
    "Null Hypothesis (H0): The average revenue from users of the NY-NJ areas are the same.\\\n",
    "Alternative Hypothesis (H1): The average revenue from users of the other city regions are not the same."
   ]
  },
  {
   "cell_type": "code",
   "execution_count": 66,
   "metadata": {},
   "outputs": [
    {
     "name": "stdout",
     "output_type": "stream",
     "text": [
      "p-value: 0.04355743162134274\n",
      "We reject the null hypothesis\n"
     ]
    }
   ],
   "source": [
    "# Test the hypotheses\n",
    "ny_nj_revenue = merge_data[merge_data['city'].str.contains('NY-NJ')]['monthly_revenue']\n",
    "other_city_revenue = merge_data[~merge_data['city'].str.contains('NY-NJ')]['monthly_revenue']\n",
    "\n",
    "results = ttest_ind(ny_nj_revenue, other_city_revenue)\n",
    "alpha = 0.05\n",
    "print('p-value:', results.pvalue)\n",
    "if results.pvalue < alpha:\n",
    "    print('We reject the null hypothesis')\n",
    "else:\n",
    "    print('No rejection to null hypothesis')\n"
   ]
  },
  {
   "cell_type": "markdown",
   "metadata": {},
   "source": [
    "## General conclusion\n",
    "\n",
    "In this analysis, I've explored and processed a dataset containing user activity data, including calls, messages, internet usage, and plan details. The goal was to clean and analyze this data to understand user behavior, compare different mobile plans, and evaluate the revenue generated per user. By applying structured data cleaning, aggregation, visualization, and statistical hypothesis testing, I gained meaningful insights into user behavior and plans. These findings can help inform strategic decisions regarding pricing, customer retention, and plan offerings."
   ]
  }
 ],
 "metadata": {
  "ExecuteTimeLog": [
   {
    "duration": 828,
    "start_time": "2021-11-16T09:21:11.304Z"
   },
   {
    "duration": 893,
    "start_time": "2021-11-16T09:21:17.728Z"
   },
   {
    "duration": 1150,
    "start_time": "2021-11-16T09:21:29.568Z"
   },
   {
    "duration": 3,
    "start_time": "2021-11-16T09:24:14.495Z"
   },
   {
    "duration": 120,
    "start_time": "2021-11-16T09:24:46.630Z"
   },
   {
    "duration": 3,
    "start_time": "2021-11-16T09:28:27.882Z"
   },
   {
    "duration": 4,
    "start_time": "2021-11-16T09:29:54.281Z"
   },
   {
    "duration": 3,
    "start_time": "2021-11-16T09:30:45.936Z"
   },
   {
    "duration": 4,
    "start_time": "2021-11-16T09:31:06.300Z"
   },
   {
    "duration": 113,
    "start_time": "2021-11-16T09:31:37.208Z"
   },
   {
    "duration": 143,
    "start_time": "2021-11-16T09:31:48.656Z"
   },
   {
    "duration": 98,
    "start_time": "2021-11-16T09:31:55.678Z"
   },
   {
    "duration": 3,
    "start_time": "2021-11-16T09:32:08.535Z"
   },
   {
    "duration": 111,
    "start_time": "2021-11-16T09:32:10.120Z"
   },
   {
    "duration": 3,
    "start_time": "2021-11-16T09:32:15.732Z"
   },
   {
    "duration": 4,
    "start_time": "2021-11-16T09:32:29.423Z"
   },
   {
    "duration": 3,
    "start_time": "2021-11-16T10:03:03.074Z"
   },
   {
    "duration": 3,
    "start_time": "2021-11-16T10:10:01.288Z"
   },
   {
    "duration": 3,
    "start_time": "2021-11-16T10:10:46.923Z"
   },
   {
    "duration": 121,
    "start_time": "2021-11-16T10:37:46.494Z"
   },
   {
    "duration": 125,
    "start_time": "2021-11-16T10:38:20.632Z"
   },
   {
    "duration": 112,
    "start_time": "2021-11-16T10:46:53.001Z"
   },
   {
    "duration": 110,
    "start_time": "2021-11-16T10:48:25.775Z"
   },
   {
    "duration": 3,
    "start_time": "2021-11-16T10:50:18.720Z"
   },
   {
    "duration": 4,
    "start_time": "2021-11-16T10:50:37.649Z"
   },
   {
    "duration": 2,
    "start_time": "2021-11-16T10:50:51.884Z"
   },
   {
    "duration": 3,
    "start_time": "2021-11-16T10:51:56.237Z"
   },
   {
    "duration": 101,
    "start_time": "2021-11-16T10:53:13.791Z"
   },
   {
    "duration": 3,
    "start_time": "2021-11-16T10:55:59.186Z"
   },
   {
    "duration": 3,
    "start_time": "2021-11-16T10:56:10.751Z"
   },
   {
    "duration": 3,
    "start_time": "2021-11-16T10:56:49.038Z"
   },
   {
    "duration": 3,
    "start_time": "2021-11-16T10:56:49.174Z"
   },
   {
    "duration": 4,
    "start_time": "2021-11-16T10:56:49.414Z"
   },
   {
    "duration": 3,
    "start_time": "2021-11-16T10:56:49.680Z"
   },
   {
    "duration": 3,
    "start_time": "2021-11-16T10:56:50.370Z"
   },
   {
    "duration": 114,
    "start_time": "2021-11-16T10:59:34.518Z"
   },
   {
    "duration": 3,
    "start_time": "2021-11-16T11:01:41.201Z"
   },
   {
    "duration": 116,
    "start_time": "2021-11-16T11:01:48.754Z"
   },
   {
    "duration": 3,
    "start_time": "2021-11-16T11:02:16.685Z"
   },
   {
    "duration": 3,
    "start_time": "2021-11-16T11:02:19.479Z"
   },
   {
    "duration": 3,
    "start_time": "2021-11-16T11:02:47.067Z"
   },
   {
    "duration": 3,
    "start_time": "2021-11-16T11:02:49.353Z"
   },
   {
    "duration": 3,
    "start_time": "2021-11-16T11:03:07.835Z"
   },
   {
    "duration": 3,
    "start_time": "2021-11-16T11:03:07.953Z"
   },
   {
    "duration": 112,
    "start_time": "2021-11-16T11:07:52.072Z"
   },
   {
    "duration": 187,
    "start_time": "2021-11-16T11:09:23.468Z"
   },
   {
    "duration": 4,
    "start_time": "2021-11-16T11:10:01.455Z"
   },
   {
    "duration": 3,
    "start_time": "2021-11-16T11:10:05.069Z"
   },
   {
    "duration": 4,
    "start_time": "2021-11-16T11:10:13.376Z"
   },
   {
    "duration": 3,
    "start_time": "2021-11-16T11:10:14.434Z"
   },
   {
    "duration": 3,
    "start_time": "2021-11-16T11:10:22.853Z"
   },
   {
    "duration": 4,
    "start_time": "2021-11-16T11:27:29.279Z"
   },
   {
    "duration": 4,
    "start_time": "2021-11-16T11:29:08.919Z"
   },
   {
    "duration": 118,
    "start_time": "2021-11-16T11:29:46.703Z"
   },
   {
    "duration": 437,
    "start_time": "2021-11-16T11:36:02.181Z"
   },
   {
    "duration": 157,
    "start_time": "2021-11-16T11:36:14.388Z"
   },
   {
    "duration": 207,
    "start_time": "2021-11-16T11:47:15.898Z"
   },
   {
    "duration": 3,
    "start_time": "2021-11-16T11:53:52.092Z"
   },
   {
    "duration": 3,
    "start_time": "2021-11-16T11:53:52.236Z"
   },
   {
    "duration": 3,
    "start_time": "2021-11-16T11:59:12.005Z"
   },
   {
    "duration": 112,
    "start_time": "2021-11-16T12:00:33.446Z"
   },
   {
    "duration": 3,
    "start_time": "2021-11-16T12:02:14.453Z"
   },
   {
    "duration": 3,
    "start_time": "2021-11-16T12:02:39.512Z"
   },
   {
    "duration": 106,
    "start_time": "2021-11-16T12:03:03.460Z"
   },
   {
    "duration": 3,
    "start_time": "2021-11-17T20:37:21.139Z"
   },
   {
    "duration": 3,
    "start_time": "2021-11-17T20:37:22.229Z"
   },
   {
    "duration": 3,
    "start_time": "2021-11-17T20:38:38.806Z"
   },
   {
    "duration": 3,
    "start_time": "2021-11-17T20:38:41.958Z"
   },
   {
    "duration": 3,
    "start_time": "2021-11-17T20:43:46.551Z"
   },
   {
    "duration": 4,
    "start_time": "2021-11-17T20:58:21.835Z"
   },
   {
    "duration": 3,
    "start_time": "2021-11-17T20:59:21.872Z"
   },
   {
    "duration": 4,
    "start_time": "2021-11-17T20:59:45.352Z"
   },
   {
    "duration": 4,
    "start_time": "2021-11-17T20:59:49.646Z"
   },
   {
    "duration": 159,
    "start_time": "2021-11-17T21:02:26.949Z"
   },
   {
    "duration": 3,
    "start_time": "2021-11-17T21:03:53.461Z"
   },
   {
    "duration": 3,
    "start_time": "2021-11-17T21:03:53.694Z"
   },
   {
    "duration": 3,
    "start_time": "2021-11-17T21:05:28.145Z"
   },
   {
    "duration": 116,
    "start_time": "2021-11-17T21:05:57.787Z"
   },
   {
    "duration": 3,
    "start_time": "2021-11-17T21:06:37.993Z"
   },
   {
    "duration": 3,
    "start_time": "2021-11-17T21:06:38.261Z"
   },
   {
    "duration": 3,
    "start_time": "2021-11-17T21:11:54.358Z"
   },
   {
    "duration": 3,
    "start_time": "2021-11-17T21:12:43.846Z"
   },
   {
    "duration": 4,
    "start_time": "2021-11-17T21:13:08.773Z"
   },
   {
    "duration": 3,
    "start_time": "2021-11-17T21:14:44.441Z"
   },
   {
    "duration": 3,
    "start_time": "2021-11-17T21:15:42.059Z"
   },
   {
    "duration": 4,
    "start_time": "2021-11-17T21:15:51.995Z"
   },
   {
    "duration": 3,
    "start_time": "2021-11-17T21:15:53.923Z"
   },
   {
    "duration": 3,
    "start_time": "2021-11-17T21:15:55.282Z"
   },
   {
    "duration": 3,
    "start_time": "2021-11-17T21:16:28.492Z"
   },
   {
    "duration": 3,
    "start_time": "2021-11-17T21:16:32.603Z"
   },
   {
    "duration": 3,
    "start_time": "2021-11-17T21:17:06.941Z"
   },
   {
    "duration": 98,
    "start_time": "2021-11-17T21:18:05.733Z"
   },
   {
    "duration": 4,
    "start_time": "2021-11-17T21:21:35.255Z"
   },
   {
    "duration": 3,
    "start_time": "2021-11-17T21:21:37.804Z"
   },
   {
    "duration": 4,
    "start_time": "2021-11-17T21:23:06.071Z"
   },
   {
    "duration": 3,
    "start_time": "2021-11-17T21:23:24.799Z"
   },
   {
    "duration": 3,
    "start_time": "2021-11-17T21:23:32.591Z"
   },
   {
    "duration": 98,
    "start_time": "2021-11-17T21:28:31.559Z"
   },
   {
    "duration": 3,
    "start_time": "2021-11-17T21:28:45.448Z"
   },
   {
    "duration": 3,
    "start_time": "2021-11-17T21:29:17.303Z"
   },
   {
    "duration": 3,
    "start_time": "2021-11-17T21:29:29.617Z"
   },
   {
    "duration": 3,
    "start_time": "2021-11-17T21:29:32.681Z"
   },
   {
    "duration": 3,
    "start_time": "2021-11-17T21:36:11.474Z"
   },
   {
    "duration": 3,
    "start_time": "2021-11-17T21:36:14.791Z"
   },
   {
    "duration": 3,
    "start_time": "2021-11-17T21:36:53.943Z"
   },
   {
    "duration": 3,
    "start_time": "2021-11-17T21:36:56.165Z"
   },
   {
    "duration": 4,
    "start_time": "2021-11-17T21:37:16.590Z"
   },
   {
    "duration": 3,
    "start_time": "2021-11-17T21:37:22.702Z"
   },
   {
    "duration": 4,
    "start_time": "2021-11-17T21:38:03.479Z"
   },
   {
    "duration": 3,
    "start_time": "2021-11-17T21:38:08.601Z"
   },
   {
    "duration": 3,
    "start_time": "2021-11-17T21:38:12.928Z"
   },
   {
    "duration": 3,
    "start_time": "2021-11-17T21:38:48.896Z"
   },
   {
    "duration": 2,
    "start_time": "2021-11-17T21:38:49.171Z"
   },
   {
    "duration": 4,
    "start_time": "2021-11-17T21:39:57.889Z"
   },
   {
    "duration": 3,
    "start_time": "2021-11-17T21:39:58.057Z"
   },
   {
    "duration": 3,
    "start_time": "2021-11-17T21:41:20.108Z"
   },
   {
    "duration": 3,
    "start_time": "2021-11-17T21:41:20.629Z"
   },
   {
    "duration": 3,
    "start_time": "2021-11-17T21:42:49.136Z"
   },
   {
    "duration": 3,
    "start_time": "2021-11-17T21:43:15.137Z"
   },
   {
    "duration": 4,
    "start_time": "2021-11-17T21:43:16.766Z"
   },
   {
    "duration": 4,
    "start_time": "2021-11-17T21:43:31.711Z"
   },
   {
    "duration": 3,
    "start_time": "2021-11-17T21:43:36.312Z"
   },
   {
    "duration": 4,
    "start_time": "2021-11-17T21:45:08.825Z"
   },
   {
    "duration": 4,
    "start_time": "2021-11-17T21:45:10.119Z"
   },
   {
    "duration": 4,
    "start_time": "2021-11-17T21:45:13.748Z"
   },
   {
    "duration": 3,
    "start_time": "2021-11-17T21:45:22.219Z"
   },
   {
    "duration": 3,
    "start_time": "2021-11-17T21:45:33.412Z"
   },
   {
    "duration": 2,
    "start_time": "2021-11-17T21:46:01.885Z"
   },
   {
    "duration": 3,
    "start_time": "2021-11-17T21:46:03.628Z"
   },
   {
    "duration": 107,
    "start_time": "2021-11-17T21:47:32.512Z"
   },
   {
    "duration": 103,
    "start_time": "2021-11-17T21:50:36.243Z"
   },
   {
    "duration": 3,
    "start_time": "2021-11-18T06:28:31.440Z"
   },
   {
    "duration": 3,
    "start_time": "2021-11-18T06:29:00.168Z"
   },
   {
    "duration": 3,
    "start_time": "2021-11-18T06:31:27.008Z"
   },
   {
    "duration": 2,
    "start_time": "2021-11-18T06:35:34.288Z"
   },
   {
    "duration": 2,
    "start_time": "2021-11-18T06:38:04.527Z"
   },
   {
    "duration": 2481,
    "start_time": "2025-01-15T04:11:04.596Z"
   },
   {
    "duration": 231,
    "start_time": "2025-01-15T04:11:07.611Z"
   },
   {
    "duration": 156,
    "start_time": "2025-01-15T21:42:02.241Z"
   },
   {
    "duration": 12,
    "start_time": "2025-01-15T21:42:10.764Z"
   },
   {
    "duration": 12,
    "start_time": "2025-01-15T21:42:22.155Z"
   },
   {
    "duration": 11,
    "start_time": "2025-01-15T21:42:39.904Z"
   },
   {
    "duration": 14,
    "start_time": "2025-01-15T21:42:50.432Z"
   },
   {
    "duration": 2494,
    "start_time": "2025-01-15T21:43:05.410Z"
   },
   {
    "duration": 210,
    "start_time": "2025-01-15T21:43:07.906Z"
   },
   {
    "duration": 99,
    "start_time": "2025-01-15T21:43:09.927Z"
   },
   {
    "duration": 75,
    "start_time": "2025-01-15T21:43:11.220Z"
   },
   {
    "duration": 50,
    "start_time": "2025-01-15T21:43:12.294Z"
   },
   {
    "duration": 26,
    "start_time": "2025-01-15T21:43:13.232Z"
   },
   {
    "duration": 74,
    "start_time": "2025-01-15T21:43:14.164Z"
   },
   {
    "duration": 19,
    "start_time": "2025-01-15T21:43:39.988Z"
   },
   {
    "duration": 20,
    "start_time": "2025-01-15T21:43:58.631Z"
   },
   {
    "duration": 36,
    "start_time": "2025-01-15T21:50:01.015Z"
   },
   {
    "duration": 29,
    "start_time": "2025-01-15T21:50:29.510Z"
   },
   {
    "duration": 26,
    "start_time": "2025-01-15T21:50:30.908Z"
   },
   {
    "duration": 19,
    "start_time": "2025-01-15T21:50:31.631Z"
   },
   {
    "duration": 33,
    "start_time": "2025-01-15T21:50:32.154Z"
   },
   {
    "duration": 22,
    "start_time": "2025-01-15T21:50:33.078Z"
   },
   {
    "duration": 3,
    "start_time": "2025-01-15T21:53:50.630Z"
   },
   {
    "duration": 275,
    "start_time": "2025-01-15T21:53:56.038Z"
   },
   {
    "duration": 13,
    "start_time": "2025-01-15T21:54:08.175Z"
   },
   {
    "duration": 3,
    "start_time": "2025-01-15T21:55:03.913Z"
   },
   {
    "duration": 14,
    "start_time": "2025-01-15T21:55:08.211Z"
   },
   {
    "duration": 15,
    "start_time": "2025-01-15T21:56:10.430Z"
   },
   {
    "duration": 12,
    "start_time": "2025-01-15T21:56:18.268Z"
   },
   {
    "duration": 2,
    "start_time": "2025-01-15T21:56:34.624Z"
   },
   {
    "duration": 9,
    "start_time": "2025-01-15T22:02:15.296Z"
   },
   {
    "duration": 9,
    "start_time": "2025-01-15T22:02:44.201Z"
   },
   {
    "duration": 24,
    "start_time": "2025-01-15T22:03:34.996Z"
   },
   {
    "duration": 154,
    "start_time": "2025-01-15T22:08:14.791Z"
   },
   {
    "duration": 3,
    "start_time": "2025-01-15T22:08:18.249Z"
   },
   {
    "duration": 155,
    "start_time": "2025-01-15T22:08:20.288Z"
   },
   {
    "duration": 3,
    "start_time": "2025-01-15T22:11:25.453Z"
   },
   {
    "duration": 152,
    "start_time": "2025-01-15T22:11:26.909Z"
   },
   {
    "duration": 3,
    "start_time": "2025-01-15T22:12:04.792Z"
   },
   {
    "duration": 2,
    "start_time": "2025-01-15T22:12:07.117Z"
   },
   {
    "duration": 2409,
    "start_time": "2025-01-16T02:23:39.408Z"
   },
   {
    "duration": 266,
    "start_time": "2025-01-16T02:23:42.556Z"
   },
   {
    "duration": 166,
    "start_time": "2025-01-16T02:24:02.163Z"
   },
   {
    "duration": 175,
    "start_time": "2025-01-16T02:24:06.451Z"
   },
   {
    "duration": 162,
    "start_time": "2025-01-16T02:24:12.883Z"
   },
   {
    "duration": 160,
    "start_time": "2025-01-16T02:26:27.732Z"
   },
   {
    "duration": 29,
    "start_time": "2025-01-16T02:31:54.117Z"
   },
   {
    "duration": 18,
    "start_time": "2025-01-16T02:34:13.338Z"
   },
   {
    "duration": 215,
    "start_time": "2025-01-16T02:34:15.663Z"
   },
   {
    "duration": 25,
    "start_time": "2025-01-16T02:34:26.296Z"
   },
   {
    "duration": 19,
    "start_time": "2025-01-16T02:34:29.416Z"
   },
   {
    "duration": 27,
    "start_time": "2025-01-16T02:34:34.516Z"
   },
   {
    "duration": 92,
    "start_time": "2025-01-16T03:06:28.923Z"
   },
   {
    "duration": 132,
    "start_time": "2025-01-16T03:08:43.444Z"
   },
   {
    "duration": 116,
    "start_time": "2025-01-16T03:11:12.760Z"
   },
   {
    "duration": 90,
    "start_time": "2025-01-16T03:13:13.667Z"
   },
   {
    "duration": 41,
    "start_time": "2025-01-16T03:13:17.178Z"
   },
   {
    "duration": 53,
    "start_time": "2025-01-16T03:13:23.505Z"
   },
   {
    "duration": 90,
    "start_time": "2025-01-16T03:14:01.611Z"
   },
   {
    "duration": 27,
    "start_time": "2025-01-16T03:14:04.802Z"
   },
   {
    "duration": 12,
    "start_time": "2025-01-16T03:14:05.893Z"
   },
   {
    "duration": 108,
    "start_time": "2025-01-16T03:15:11.223Z"
   },
   {
    "duration": 102,
    "start_time": "2025-01-16T03:15:38.446Z"
   },
   {
    "duration": 88,
    "start_time": "2025-01-16T03:15:50.437Z"
   },
   {
    "duration": 18,
    "start_time": "2025-01-16T03:15:57.662Z"
   },
   {
    "duration": 22,
    "start_time": "2025-01-16T03:15:58.413Z"
   },
   {
    "duration": 8,
    "start_time": "2025-01-16T03:15:58.946Z"
   },
   {
    "duration": 48,
    "start_time": "2025-01-16T03:16:27.292Z"
   },
   {
    "duration": 28,
    "start_time": "2025-01-16T03:16:40.019Z"
   },
   {
    "duration": 19,
    "start_time": "2025-01-16T03:16:48.534Z"
   },
   {
    "duration": 400,
    "start_time": "2025-01-16T03:20:39.776Z"
   },
   {
    "duration": 31,
    "start_time": "2025-01-16T03:20:40.705Z"
   },
   {
    "duration": 42,
    "start_time": "2025-01-16T03:21:23.891Z"
   },
   {
    "duration": 30,
    "start_time": "2025-01-16T03:21:40.133Z"
   },
   {
    "duration": 9,
    "start_time": "2025-01-16T03:21:40.942Z"
   },
   {
    "duration": 20,
    "start_time": "2025-01-16T03:25:18.504Z"
   },
   {
    "duration": 8,
    "start_time": "2025-01-16T03:25:19.278Z"
   },
   {
    "duration": 18,
    "start_time": "2025-01-16T03:25:53.021Z"
   },
   {
    "duration": 9,
    "start_time": "2025-01-16T03:26:21.875Z"
   },
   {
    "duration": 33,
    "start_time": "2025-01-16T03:26:42.283Z"
   },
   {
    "duration": 15,
    "start_time": "2025-01-16T03:27:01.903Z"
   },
   {
    "duration": 17,
    "start_time": "2025-01-16T03:27:31.534Z"
   },
   {
    "duration": 25,
    "start_time": "2025-01-16T03:27:44.699Z"
   },
   {
    "duration": 12,
    "start_time": "2025-01-16T03:27:59.778Z"
   },
   {
    "duration": 16,
    "start_time": "2025-01-16T03:29:05.474Z"
   },
   {
    "duration": 4,
    "start_time": "2025-01-16T03:29:55.730Z"
   },
   {
    "duration": 6,
    "start_time": "2025-01-16T03:30:06.282Z"
   },
   {
    "duration": 18,
    "start_time": "2025-01-16T03:31:21.574Z"
   },
   {
    "duration": 6,
    "start_time": "2025-01-16T03:31:35.834Z"
   },
   {
    "duration": 39,
    "start_time": "2025-01-16T03:32:36.120Z"
   },
   {
    "duration": 9,
    "start_time": "2025-01-16T03:39:18.458Z"
   },
   {
    "duration": 8,
    "start_time": "2025-01-16T03:39:28.845Z"
   },
   {
    "duration": 3,
    "start_time": "2025-01-16T04:02:03.166Z"
   },
   {
    "duration": 163,
    "start_time": "2025-01-16T04:02:03.173Z"
   },
   {
    "duration": 92,
    "start_time": "2025-01-16T04:02:03.338Z"
   },
   {
    "duration": 17,
    "start_time": "2025-01-16T04:02:03.432Z"
   },
   {
    "duration": 45,
    "start_time": "2025-01-16T04:02:03.451Z"
   },
   {
    "duration": 10,
    "start_time": "2025-01-16T04:02:03.500Z"
   },
   {
    "duration": 96,
    "start_time": "2025-01-16T04:02:03.512Z"
   },
   {
    "duration": 30,
    "start_time": "2025-01-16T04:02:03.609Z"
   },
   {
    "duration": 12,
    "start_time": "2025-01-16T04:02:03.640Z"
   },
   {
    "duration": 48,
    "start_time": "2025-01-16T04:02:03.670Z"
   },
   {
    "duration": 14,
    "start_time": "2025-01-16T04:02:03.721Z"
   },
   {
    "duration": 9,
    "start_time": "2025-01-16T04:02:03.737Z"
   },
   {
    "duration": 46,
    "start_time": "2025-01-16T04:02:03.748Z"
   },
   {
    "duration": 6,
    "start_time": "2025-01-16T04:02:03.796Z"
   },
   {
    "duration": 5,
    "start_time": "2025-01-16T04:02:03.805Z"
   },
   {
    "duration": 18,
    "start_time": "2025-01-16T04:02:03.812Z"
   },
   {
    "duration": 5,
    "start_time": "2025-01-16T04:02:03.832Z"
   },
   {
    "duration": 34,
    "start_time": "2025-01-16T04:02:03.839Z"
   },
   {
    "duration": 8,
    "start_time": "2025-01-16T04:02:03.875Z"
   },
   {
    "duration": 6,
    "start_time": "2025-01-16T04:02:03.885Z"
   },
   {
    "duration": 2,
    "start_time": "2025-01-16T04:02:03.893Z"
   },
   {
    "duration": 2,
    "start_time": "2025-01-16T04:02:03.897Z"
   },
   {
    "duration": 3,
    "start_time": "2025-01-16T04:02:03.900Z"
   },
   {
    "duration": 2,
    "start_time": "2025-01-16T04:02:03.905Z"
   },
   {
    "duration": 2,
    "start_time": "2025-01-16T04:02:03.909Z"
   },
   {
    "duration": 3,
    "start_time": "2025-01-16T04:02:03.913Z"
   },
   {
    "duration": 2,
    "start_time": "2025-01-16T04:02:03.917Z"
   },
   {
    "duration": 50,
    "start_time": "2025-01-16T04:02:03.921Z"
   },
   {
    "duration": 9,
    "start_time": "2025-01-16T04:02:03.974Z"
   },
   {
    "duration": 2,
    "start_time": "2025-01-16T04:02:03.985Z"
   },
   {
    "duration": 3,
    "start_time": "2025-01-16T04:02:03.988Z"
   },
   {
    "duration": 3,
    "start_time": "2025-01-16T04:02:03.992Z"
   },
   {
    "duration": 3,
    "start_time": "2025-01-16T04:02:03.996Z"
   },
   {
    "duration": 3,
    "start_time": "2025-01-16T04:02:04.000Z"
   },
   {
    "duration": 2,
    "start_time": "2025-01-16T04:02:04.005Z"
   },
   {
    "duration": 3,
    "start_time": "2025-01-16T04:02:04.008Z"
   },
   {
    "duration": 2,
    "start_time": "2025-01-16T04:02:04.035Z"
   },
   {
    "duration": 2,
    "start_time": "2025-01-16T04:02:04.039Z"
   },
   {
    "duration": 26,
    "start_time": "2025-01-16T04:02:04.043Z"
   },
   {
    "duration": 3,
    "start_time": "2025-01-16T04:02:04.071Z"
   },
   {
    "duration": 2,
    "start_time": "2025-01-16T04:02:04.109Z"
   },
   {
    "duration": 2,
    "start_time": "2025-01-16T04:02:04.117Z"
   },
   {
    "duration": 2,
    "start_time": "2025-01-16T04:02:04.269Z"
   },
   {
    "duration": 2,
    "start_time": "2025-01-16T04:02:04.286Z"
   },
   {
    "duration": 157,
    "start_time": "2025-01-17T01:01:45.257Z"
   },
   {
    "duration": 12,
    "start_time": "2025-01-17T01:01:59.484Z"
   },
   {
    "duration": 12,
    "start_time": "2025-01-17T01:02:22.247Z"
   },
   {
    "duration": 12,
    "start_time": "2025-01-17T01:02:47.546Z"
   },
   {
    "duration": 12,
    "start_time": "2025-01-17T01:03:19.772Z"
   },
   {
    "duration": 2481,
    "start_time": "2025-01-17T01:03:37.869Z"
   },
   {
    "duration": 225,
    "start_time": "2025-01-17T01:03:40.353Z"
   },
   {
    "duration": 105,
    "start_time": "2025-01-17T01:03:40.580Z"
   },
   {
    "duration": 16,
    "start_time": "2025-01-17T01:03:40.688Z"
   },
   {
    "duration": 22,
    "start_time": "2025-01-17T01:03:40.705Z"
   },
   {
    "duration": 9,
    "start_time": "2025-01-17T01:03:40.729Z"
   },
   {
    "duration": 98,
    "start_time": "2025-01-17T01:03:40.740Z"
   },
   {
    "duration": 37,
    "start_time": "2025-01-17T01:03:40.840Z"
   },
   {
    "duration": 11,
    "start_time": "2025-01-17T01:03:40.879Z"
   },
   {
    "duration": 49,
    "start_time": "2025-01-17T01:03:40.893Z"
   },
   {
    "duration": 36,
    "start_time": "2025-01-17T01:03:40.943Z"
   },
   {
    "duration": 10,
    "start_time": "2025-01-17T01:03:40.980Z"
   },
   {
    "duration": 26,
    "start_time": "2025-01-17T01:03:40.991Z"
   },
   {
    "duration": 4,
    "start_time": "2025-01-17T01:03:41.019Z"
   },
   {
    "duration": 5,
    "start_time": "2025-01-17T01:03:41.025Z"
   },
   {
    "duration": 47,
    "start_time": "2025-01-17T01:03:41.032Z"
   },
   {
    "duration": 5,
    "start_time": "2025-01-17T01:03:41.081Z"
   },
   {
    "duration": 5,
    "start_time": "2025-01-17T01:03:41.088Z"
   },
   {
    "duration": 7,
    "start_time": "2025-01-17T01:03:41.095Z"
   },
   {
    "duration": 6,
    "start_time": "2025-01-17T01:03:41.104Z"
   },
   {
    "duration": 94,
    "start_time": "2025-01-17T01:03:50.179Z"
   },
   {
    "duration": 14,
    "start_time": "2025-01-17T01:04:13.105Z"
   },
   {
    "duration": 396,
    "start_time": "2025-01-17T01:04:32.285Z"
   },
   {
    "duration": 4,
    "start_time": "2025-01-17T01:04:49.566Z"
   },
   {
    "duration": 9,
    "start_time": "2025-01-17T01:09:56.822Z"
   },
   {
    "duration": 4,
    "start_time": "2025-01-17T01:14:10.244Z"
   },
   {
    "duration": 6,
    "start_time": "2025-01-17T01:14:29.892Z"
   },
   {
    "duration": 4,
    "start_time": "2025-01-17T01:14:37.596Z"
   },
   {
    "duration": 5,
    "start_time": "2025-01-17T01:14:41.139Z"
   },
   {
    "duration": 3,
    "start_time": "2025-01-17T01:15:11.003Z"
   },
   {
    "duration": 82,
    "start_time": "2025-01-17T01:15:27.937Z"
   },
   {
    "duration": 3,
    "start_time": "2025-01-17T01:16:27.249Z"
   },
   {
    "duration": 46,
    "start_time": "2025-01-17T01:17:11.659Z"
   },
   {
    "duration": 3,
    "start_time": "2025-01-17T01:21:48.364Z"
   },
   {
    "duration": 4,
    "start_time": "2025-01-17T01:24:55.837Z"
   },
   {
    "duration": 8,
    "start_time": "2025-01-17T01:25:00.270Z"
   },
   {
    "duration": 296,
    "start_time": "2025-01-17T01:25:34.359Z"
   },
   {
    "duration": 5,
    "start_time": "2025-01-17T01:25:39.925Z"
   },
   {
    "duration": 8,
    "start_time": "2025-01-17T01:26:23.647Z"
   },
   {
    "duration": 8,
    "start_time": "2025-01-17T01:26:27.821Z"
   },
   {
    "duration": 15,
    "start_time": "2025-01-17T02:39:39.650Z"
   },
   {
    "duration": 15,
    "start_time": "2025-01-17T02:39:59.940Z"
   },
   {
    "duration": 5,
    "start_time": "2025-01-17T02:40:07.320Z"
   },
   {
    "duration": 6,
    "start_time": "2025-01-17T02:40:41.588Z"
   },
   {
    "duration": 6,
    "start_time": "2025-01-17T02:41:27.090Z"
   },
   {
    "duration": 8,
    "start_time": "2025-01-17T02:41:52.042Z"
   },
   {
    "duration": 3,
    "start_time": "2025-01-17T02:42:45.950Z"
   },
   {
    "duration": 172,
    "start_time": "2025-01-17T02:42:45.960Z"
   },
   {
    "duration": 98,
    "start_time": "2025-01-17T02:42:46.134Z"
   },
   {
    "duration": 16,
    "start_time": "2025-01-17T02:42:46.234Z"
   },
   {
    "duration": 33,
    "start_time": "2025-01-17T02:42:46.252Z"
   },
   {
    "duration": 10,
    "start_time": "2025-01-17T02:42:46.288Z"
   },
   {
    "duration": 99,
    "start_time": "2025-01-17T02:42:46.299Z"
   },
   {
    "duration": 29,
    "start_time": "2025-01-17T02:42:46.399Z"
   },
   {
    "duration": 11,
    "start_time": "2025-01-17T02:42:46.429Z"
   },
   {
    "duration": 76,
    "start_time": "2025-01-17T02:42:46.442Z"
   },
   {
    "duration": 30,
    "start_time": "2025-01-17T02:42:46.521Z"
   },
   {
    "duration": 13,
    "start_time": "2025-01-17T02:42:46.553Z"
   },
   {
    "duration": 31,
    "start_time": "2025-01-17T02:42:46.568Z"
   },
   {
    "duration": 4,
    "start_time": "2025-01-17T02:42:46.601Z"
   },
   {
    "duration": 5,
    "start_time": "2025-01-17T02:42:46.609Z"
   },
   {
    "duration": 17,
    "start_time": "2025-01-17T02:42:46.616Z"
   },
   {
    "duration": 5,
    "start_time": "2025-01-17T02:42:46.634Z"
   },
   {
    "duration": 36,
    "start_time": "2025-01-17T02:42:46.640Z"
   },
   {
    "duration": 8,
    "start_time": "2025-01-17T02:42:46.677Z"
   },
   {
    "duration": 8,
    "start_time": "2025-01-17T02:42:46.687Z"
   },
   {
    "duration": 4,
    "start_time": "2025-01-17T02:42:46.696Z"
   },
   {
    "duration": 4,
    "start_time": "2025-01-17T02:42:46.702Z"
   },
   {
    "duration": 7,
    "start_time": "2025-01-17T02:42:46.708Z"
   },
   {
    "duration": 9,
    "start_time": "2025-01-17T02:42:46.717Z"
   },
   {
    "duration": 45,
    "start_time": "2025-01-17T02:42:46.729Z"
   },
   {
    "duration": 3,
    "start_time": "2025-01-17T02:42:46.775Z"
   },
   {
    "duration": 3,
    "start_time": "2025-01-17T02:42:46.782Z"
   },
   {
    "duration": 3,
    "start_time": "2025-01-17T02:42:46.787Z"
   },
   {
    "duration": 2,
    "start_time": "2025-01-17T02:42:46.792Z"
   },
   {
    "duration": 3,
    "start_time": "2025-01-17T02:42:46.796Z"
   },
   {
    "duration": 2,
    "start_time": "2025-01-17T02:42:46.801Z"
   },
   {
    "duration": 2,
    "start_time": "2025-01-17T02:42:46.805Z"
   },
   {
    "duration": 2,
    "start_time": "2025-01-17T02:42:46.809Z"
   },
   {
    "duration": 3,
    "start_time": "2025-01-17T02:42:46.813Z"
   },
   {
    "duration": 3,
    "start_time": "2025-01-17T02:42:46.817Z"
   },
   {
    "duration": 3,
    "start_time": "2025-01-17T02:42:46.821Z"
   },
   {
    "duration": 3,
    "start_time": "2025-01-17T02:42:46.870Z"
   },
   {
    "duration": 3,
    "start_time": "2025-01-17T02:42:46.876Z"
   },
   {
    "duration": 3,
    "start_time": "2025-01-17T02:42:46.880Z"
   },
   {
    "duration": 3,
    "start_time": "2025-01-17T02:42:46.884Z"
   },
   {
    "duration": 3,
    "start_time": "2025-01-17T02:42:46.888Z"
   },
   {
    "duration": 2,
    "start_time": "2025-01-17T02:42:46.895Z"
   },
   {
    "duration": 2,
    "start_time": "2025-01-17T02:42:46.899Z"
   },
   {
    "duration": 2,
    "start_time": "2025-01-17T02:42:46.903Z"
   },
   {
    "duration": 3,
    "start_time": "2025-01-17T02:42:46.906Z"
   },
   {
    "duration": 2,
    "start_time": "2025-01-17T02:42:46.910Z"
   },
   {
    "duration": 3,
    "start_time": "2025-01-17T02:42:46.914Z"
   },
   {
    "duration": 5,
    "start_time": "2025-01-17T02:43:31.470Z"
   },
   {
    "duration": 167,
    "start_time": "2025-01-17T02:53:12.324Z"
   },
   {
    "duration": 79,
    "start_time": "2025-01-17T02:53:47.062Z"
   },
   {
    "duration": 10,
    "start_time": "2025-01-17T02:58:51.104Z"
   },
   {
    "duration": 8,
    "start_time": "2025-01-17T02:59:03.403Z"
   },
   {
    "duration": 16,
    "start_time": "2025-01-17T02:59:42.705Z"
   },
   {
    "duration": 6,
    "start_time": "2025-01-17T03:12:55.301Z"
   },
   {
    "duration": 10,
    "start_time": "2025-01-17T03:15:56.413Z"
   },
   {
    "duration": 10,
    "start_time": "2025-01-17T03:16:11.057Z"
   },
   {
    "duration": 10,
    "start_time": "2025-01-17T03:16:19.370Z"
   },
   {
    "duration": 10,
    "start_time": "2025-01-17T03:16:41.006Z"
   },
   {
    "duration": 10,
    "start_time": "2025-01-17T03:16:42.634Z"
   },
   {
    "duration": 3,
    "start_time": "2025-01-17T03:17:03.678Z"
   },
   {
    "duration": 172,
    "start_time": "2025-01-17T03:17:03.683Z"
   },
   {
    "duration": 95,
    "start_time": "2025-01-17T03:17:03.857Z"
   },
   {
    "duration": 20,
    "start_time": "2025-01-17T03:17:03.953Z"
   },
   {
    "duration": 20,
    "start_time": "2025-01-17T03:17:03.976Z"
   },
   {
    "duration": 10,
    "start_time": "2025-01-17T03:17:03.998Z"
   },
   {
    "duration": 97,
    "start_time": "2025-01-17T03:17:04.009Z"
   },
   {
    "duration": 30,
    "start_time": "2025-01-17T03:17:04.107Z"
   },
   {
    "duration": 11,
    "start_time": "2025-01-17T03:17:04.139Z"
   },
   {
    "duration": 66,
    "start_time": "2025-01-17T03:17:04.151Z"
   },
   {
    "duration": 15,
    "start_time": "2025-01-17T03:17:04.221Z"
   },
   {
    "duration": 9,
    "start_time": "2025-01-17T03:17:04.237Z"
   },
   {
    "duration": 46,
    "start_time": "2025-01-17T03:17:04.248Z"
   },
   {
    "duration": 4,
    "start_time": "2025-01-17T03:17:04.296Z"
   },
   {
    "duration": 5,
    "start_time": "2025-01-17T03:17:04.301Z"
   },
   {
    "duration": 18,
    "start_time": "2025-01-17T03:17:04.307Z"
   },
   {
    "duration": 6,
    "start_time": "2025-01-17T03:17:04.326Z"
   },
   {
    "duration": 5,
    "start_time": "2025-01-17T03:17:04.333Z"
   },
   {
    "duration": 7,
    "start_time": "2025-01-17T03:17:04.370Z"
   },
   {
    "duration": 8,
    "start_time": "2025-01-17T03:17:04.379Z"
   },
   {
    "duration": 4,
    "start_time": "2025-01-17T03:17:04.388Z"
   },
   {
    "duration": 5,
    "start_time": "2025-01-17T03:17:04.393Z"
   },
   {
    "duration": 8,
    "start_time": "2025-01-17T03:17:04.399Z"
   },
   {
    "duration": 9,
    "start_time": "2025-01-17T03:17:04.409Z"
   },
   {
    "duration": 3,
    "start_time": "2025-01-17T03:17:04.420Z"
   },
   {
    "duration": 2,
    "start_time": "2025-01-17T03:17:04.425Z"
   },
   {
    "duration": 43,
    "start_time": "2025-01-17T03:17:04.429Z"
   },
   {
    "duration": 2,
    "start_time": "2025-01-17T03:17:04.475Z"
   },
   {
    "duration": 2,
    "start_time": "2025-01-17T03:17:04.481Z"
   },
   {
    "duration": 3,
    "start_time": "2025-01-17T03:17:04.485Z"
   },
   {
    "duration": 3,
    "start_time": "2025-01-17T03:17:04.490Z"
   },
   {
    "duration": 3,
    "start_time": "2025-01-17T03:17:04.494Z"
   },
   {
    "duration": 2,
    "start_time": "2025-01-17T03:17:04.499Z"
   },
   {
    "duration": 3,
    "start_time": "2025-01-17T03:17:04.502Z"
   },
   {
    "duration": 3,
    "start_time": "2025-01-17T03:17:04.507Z"
   },
   {
    "duration": 3,
    "start_time": "2025-01-17T03:17:04.511Z"
   },
   {
    "duration": 3,
    "start_time": "2025-01-17T03:17:04.515Z"
   },
   {
    "duration": 4,
    "start_time": "2025-01-17T03:17:04.519Z"
   },
   {
    "duration": 46,
    "start_time": "2025-01-17T03:17:04.524Z"
   },
   {
    "duration": 2,
    "start_time": "2025-01-17T03:17:04.572Z"
   },
   {
    "duration": 3,
    "start_time": "2025-01-17T03:17:04.576Z"
   },
   {
    "duration": 2,
    "start_time": "2025-01-17T03:17:04.581Z"
   },
   {
    "duration": 2,
    "start_time": "2025-01-17T03:17:04.585Z"
   },
   {
    "duration": 3,
    "start_time": "2025-01-17T03:17:04.588Z"
   },
   {
    "duration": 2,
    "start_time": "2025-01-17T03:17:04.593Z"
   },
   {
    "duration": 2,
    "start_time": "2025-01-17T03:17:04.598Z"
   },
   {
    "duration": 9,
    "start_time": "2025-01-17T03:18:25.062Z"
   },
   {
    "duration": 4,
    "start_time": "2025-01-17T03:18:51.673Z"
   },
   {
    "duration": 14,
    "start_time": "2025-01-17T03:19:46.660Z"
   },
   {
    "duration": 7,
    "start_time": "2025-01-17T03:19:53.502Z"
   },
   {
    "duration": 5,
    "start_time": "2025-01-17T03:20:07.324Z"
   },
   {
    "duration": 14,
    "start_time": "2025-01-17T03:21:26.878Z"
   },
   {
    "duration": 9,
    "start_time": "2025-01-17T03:21:57.024Z"
   },
   {
    "duration": 9,
    "start_time": "2025-01-17T03:22:10.952Z"
   },
   {
    "duration": 7,
    "start_time": "2025-01-17T03:25:44.890Z"
   },
   {
    "duration": 166,
    "start_time": "2025-01-18T01:11:26.639Z"
   },
   {
    "duration": 2670,
    "start_time": "2025-01-18T01:13:02.086Z"
   },
   {
    "duration": 231,
    "start_time": "2025-01-18T01:13:04.759Z"
   },
   {
    "duration": 99,
    "start_time": "2025-01-18T01:13:04.992Z"
   },
   {
    "duration": 26,
    "start_time": "2025-01-18T01:13:05.093Z"
   },
   {
    "duration": 25,
    "start_time": "2025-01-18T01:13:05.123Z"
   },
   {
    "duration": 10,
    "start_time": "2025-01-18T01:13:05.150Z"
   },
   {
    "duration": 101,
    "start_time": "2025-01-18T01:13:05.162Z"
   },
   {
    "duration": 31,
    "start_time": "2025-01-18T01:13:05.265Z"
   },
   {
    "duration": 11,
    "start_time": "2025-01-18T01:13:05.306Z"
   },
   {
    "duration": 50,
    "start_time": "2025-01-18T01:13:05.319Z"
   },
   {
    "duration": 36,
    "start_time": "2025-01-18T01:13:05.371Z"
   },
   {
    "duration": 10,
    "start_time": "2025-01-18T01:13:05.408Z"
   },
   {
    "duration": 27,
    "start_time": "2025-01-18T01:13:05.420Z"
   },
   {
    "duration": 5,
    "start_time": "2025-01-18T01:13:05.450Z"
   },
   {
    "duration": 7,
    "start_time": "2025-01-18T01:13:05.457Z"
   },
   {
    "duration": 47,
    "start_time": "2025-01-18T01:13:05.465Z"
   },
   {
    "duration": 6,
    "start_time": "2025-01-18T01:13:05.514Z"
   },
   {
    "duration": 6,
    "start_time": "2025-01-18T01:13:05.521Z"
   },
   {
    "duration": 8,
    "start_time": "2025-01-18T01:13:05.529Z"
   },
   {
    "duration": 8,
    "start_time": "2025-01-18T01:13:05.540Z"
   },
   {
    "duration": 5,
    "start_time": "2025-01-18T01:13:05.549Z"
   },
   {
    "duration": 7,
    "start_time": "2025-01-18T01:13:05.556Z"
   },
   {
    "duration": 41,
    "start_time": "2025-01-18T01:13:05.566Z"
   },
   {
    "duration": 9,
    "start_time": "2025-01-18T01:13:05.609Z"
   },
   {
    "duration": 6,
    "start_time": "2025-01-18T01:13:10.059Z"
   },
   {
    "duration": 5,
    "start_time": "2025-01-18T01:13:16.148Z"
   },
   {
    "duration": 7,
    "start_time": "2025-01-18T01:26:21.654Z"
   },
   {
    "duration": 8,
    "start_time": "2025-01-18T01:28:44.184Z"
   },
   {
    "duration": 12,
    "start_time": "2025-01-18T01:30:25.182Z"
   },
   {
    "duration": 5,
    "start_time": "2025-01-18T01:30:46.489Z"
   },
   {
    "duration": 73,
    "start_time": "2025-01-18T01:39:32.139Z"
   },
   {
    "duration": 8,
    "start_time": "2025-01-18T01:39:42.934Z"
   },
   {
    "duration": 17,
    "start_time": "2025-01-18T01:40:48.914Z"
   },
   {
    "duration": 17,
    "start_time": "2025-01-18T01:41:49.042Z"
   },
   {
    "duration": 67,
    "start_time": "2025-01-18T01:44:48.577Z"
   },
   {
    "duration": 5,
    "start_time": "2025-01-18T01:44:59.593Z"
   },
   {
    "duration": 13,
    "start_time": "2025-01-18T02:06:14.645Z"
   },
   {
    "duration": 319,
    "start_time": "2025-01-18T02:12:32.149Z"
   },
   {
    "duration": 710,
    "start_time": "2025-01-18T02:12:55.760Z"
   },
   {
    "duration": 172,
    "start_time": "2025-01-18T02:12:56.472Z"
   },
   {
    "duration": 96,
    "start_time": "2025-01-18T02:12:56.646Z"
   },
   {
    "duration": 17,
    "start_time": "2025-01-18T02:12:56.744Z"
   },
   {
    "duration": 22,
    "start_time": "2025-01-18T02:12:56.763Z"
   },
   {
    "duration": 24,
    "start_time": "2025-01-18T02:12:56.786Z"
   },
   {
    "duration": 74,
    "start_time": "2025-01-18T02:12:56.811Z"
   },
   {
    "duration": 45,
    "start_time": "2025-01-18T02:12:56.887Z"
   },
   {
    "duration": 10,
    "start_time": "2025-01-18T02:12:56.934Z"
   },
   {
    "duration": 61,
    "start_time": "2025-01-18T02:12:56.946Z"
   },
   {
    "duration": 17,
    "start_time": "2025-01-18T02:12:57.008Z"
   },
   {
    "duration": 9,
    "start_time": "2025-01-18T02:12:57.027Z"
   },
   {
    "duration": 25,
    "start_time": "2025-01-18T02:12:57.037Z"
   },
   {
    "duration": 4,
    "start_time": "2025-01-18T02:12:57.065Z"
   },
   {
    "duration": 35,
    "start_time": "2025-01-18T02:12:57.071Z"
   },
   {
    "duration": 18,
    "start_time": "2025-01-18T02:12:57.107Z"
   },
   {
    "duration": 6,
    "start_time": "2025-01-18T02:12:57.127Z"
   },
   {
    "duration": 6,
    "start_time": "2025-01-18T02:12:57.134Z"
   },
   {
    "duration": 8,
    "start_time": "2025-01-18T02:12:57.142Z"
   },
   {
    "duration": 8,
    "start_time": "2025-01-18T02:12:57.151Z"
   },
   {
    "duration": 3,
    "start_time": "2025-01-18T02:12:57.161Z"
   },
   {
    "duration": 45,
    "start_time": "2025-01-18T02:12:57.166Z"
   },
   {
    "duration": 8,
    "start_time": "2025-01-18T02:12:57.213Z"
   },
   {
    "duration": 8,
    "start_time": "2025-01-18T02:12:57.223Z"
   },
   {
    "duration": 242,
    "start_time": "2025-01-18T02:12:57.232Z"
   },
   {
    "duration": 14,
    "start_time": "2025-01-18T02:13:08.773Z"
   },
   {
    "duration": 63,
    "start_time": "2025-01-18T02:16:59.057Z"
   },
   {
    "duration": 23,
    "start_time": "2025-01-18T02:22:19.683Z"
   },
   {
    "duration": 732,
    "start_time": "2025-01-18T02:23:01.514Z"
   },
   {
    "duration": 176,
    "start_time": "2025-01-18T02:23:02.250Z"
   },
   {
    "duration": 109,
    "start_time": "2025-01-18T02:23:02.428Z"
   },
   {
    "duration": 16,
    "start_time": "2025-01-18T02:23:02.539Z"
   },
   {
    "duration": 23,
    "start_time": "2025-01-18T02:23:02.557Z"
   },
   {
    "duration": 26,
    "start_time": "2025-01-18T02:23:02.581Z"
   },
   {
    "duration": 75,
    "start_time": "2025-01-18T02:23:02.609Z"
   },
   {
    "duration": 49,
    "start_time": "2025-01-18T02:23:02.685Z"
   },
   {
    "duration": 13,
    "start_time": "2025-01-18T02:23:02.735Z"
   },
   {
    "duration": 62,
    "start_time": "2025-01-18T02:23:02.751Z"
   },
   {
    "duration": 16,
    "start_time": "2025-01-18T02:23:02.816Z"
   },
   {
    "duration": 9,
    "start_time": "2025-01-18T02:23:02.833Z"
   },
   {
    "duration": 25,
    "start_time": "2025-01-18T02:23:02.844Z"
   },
   {
    "duration": 4,
    "start_time": "2025-01-18T02:23:02.870Z"
   },
   {
    "duration": 32,
    "start_time": "2025-01-18T02:23:02.876Z"
   },
   {
    "duration": 19,
    "start_time": "2025-01-18T02:23:02.910Z"
   },
   {
    "duration": 4,
    "start_time": "2025-01-18T02:23:02.931Z"
   },
   {
    "duration": 5,
    "start_time": "2025-01-18T02:23:02.937Z"
   },
   {
    "duration": 7,
    "start_time": "2025-01-18T02:23:02.943Z"
   },
   {
    "duration": 8,
    "start_time": "2025-01-18T02:23:02.952Z"
   },
   {
    "duration": 3,
    "start_time": "2025-01-18T02:23:02.963Z"
   },
   {
    "duration": 753,
    "start_time": "2025-01-18T02:23:24.081Z"
   },
   {
    "duration": 175,
    "start_time": "2025-01-18T02:23:24.837Z"
   },
   {
    "duration": 100,
    "start_time": "2025-01-18T02:23:25.014Z"
   },
   {
    "duration": 17,
    "start_time": "2025-01-18T02:23:25.117Z"
   },
   {
    "duration": 22,
    "start_time": "2025-01-18T02:23:25.136Z"
   },
   {
    "duration": 9,
    "start_time": "2025-01-18T02:23:25.160Z"
   },
   {
    "duration": 101,
    "start_time": "2025-01-18T02:23:25.171Z"
   },
   {
    "duration": 37,
    "start_time": "2025-01-18T02:23:25.274Z"
   },
   {
    "duration": 11,
    "start_time": "2025-01-18T02:23:25.313Z"
   },
   {
    "duration": 48,
    "start_time": "2025-01-18T02:23:25.327Z"
   },
   {
    "duration": 31,
    "start_time": "2025-01-18T02:23:25.377Z"
   },
   {
    "duration": 9,
    "start_time": "2025-01-18T02:23:25.410Z"
   },
   {
    "duration": 25,
    "start_time": "2025-01-18T02:23:25.422Z"
   },
   {
    "duration": 5,
    "start_time": "2025-01-18T02:23:25.448Z"
   },
   {
    "duration": 5,
    "start_time": "2025-01-18T02:23:25.454Z"
   },
   {
    "duration": 45,
    "start_time": "2025-01-18T02:23:25.461Z"
   },
   {
    "duration": 5,
    "start_time": "2025-01-18T02:23:25.508Z"
   },
   {
    "duration": 5,
    "start_time": "2025-01-18T02:23:25.514Z"
   },
   {
    "duration": 8,
    "start_time": "2025-01-18T02:23:25.521Z"
   },
   {
    "duration": 6,
    "start_time": "2025-01-18T02:23:25.532Z"
   },
   {
    "duration": 4,
    "start_time": "2025-01-18T02:23:25.540Z"
   },
   {
    "duration": 5,
    "start_time": "2025-01-18T02:23:25.545Z"
   },
   {
    "duration": 7,
    "start_time": "2025-01-18T02:23:25.552Z"
   },
   {
    "duration": 47,
    "start_time": "2025-01-18T02:23:25.561Z"
   },
   {
    "duration": 15,
    "start_time": "2025-01-18T02:23:25.610Z"
   },
   {
    "duration": 12,
    "start_time": "2025-01-18T02:23:25.626Z"
   },
   {
    "duration": 4,
    "start_time": "2025-01-18T02:23:25.640Z"
   },
   {
    "duration": 60,
    "start_time": "2025-01-18T02:23:25.648Z"
   },
   {
    "duration": 744,
    "start_time": "2025-01-18T02:41:46.094Z"
   },
   {
    "duration": 183,
    "start_time": "2025-01-18T02:41:46.841Z"
   },
   {
    "duration": 97,
    "start_time": "2025-01-18T02:41:47.027Z"
   },
   {
    "duration": 26,
    "start_time": "2025-01-18T02:41:47.126Z"
   },
   {
    "duration": 24,
    "start_time": "2025-01-18T02:41:47.154Z"
   },
   {
    "duration": 27,
    "start_time": "2025-01-18T02:41:47.180Z"
   },
   {
    "duration": 76,
    "start_time": "2025-01-18T02:41:47.209Z"
   },
   {
    "duration": 45,
    "start_time": "2025-01-18T02:41:47.286Z"
   },
   {
    "duration": 14,
    "start_time": "2025-01-18T02:41:47.333Z"
   },
   {
    "duration": 77,
    "start_time": "2025-01-18T02:41:47.351Z"
   },
   {
    "duration": 20,
    "start_time": "2025-01-18T02:41:47.430Z"
   },
   {
    "duration": 12,
    "start_time": "2025-01-18T02:41:47.451Z"
   },
   {
    "duration": 46,
    "start_time": "2025-01-18T02:41:47.464Z"
   },
   {
    "duration": 8,
    "start_time": "2025-01-18T02:41:47.513Z"
   },
   {
    "duration": 5,
    "start_time": "2025-01-18T02:41:47.524Z"
   },
   {
    "duration": 19,
    "start_time": "2025-01-18T02:41:47.530Z"
   },
   {
    "duration": 4,
    "start_time": "2025-01-18T02:41:47.551Z"
   },
   {
    "duration": 5,
    "start_time": "2025-01-18T02:41:47.558Z"
   },
   {
    "duration": 7,
    "start_time": "2025-01-18T02:41:47.565Z"
   },
   {
    "duration": 7,
    "start_time": "2025-01-18T02:41:47.604Z"
   },
   {
    "duration": 3,
    "start_time": "2025-01-18T02:41:47.613Z"
   },
   {
    "duration": 5,
    "start_time": "2025-01-18T02:41:47.620Z"
   },
   {
    "duration": 8,
    "start_time": "2025-01-18T02:41:47.628Z"
   },
   {
    "duration": 9,
    "start_time": "2025-01-18T02:41:47.637Z"
   },
   {
    "duration": 15,
    "start_time": "2025-01-18T02:41:47.648Z"
   },
   {
    "duration": 41,
    "start_time": "2025-01-18T02:41:47.664Z"
   },
   {
    "duration": 5,
    "start_time": "2025-01-18T02:41:47.708Z"
   },
   {
    "duration": 34,
    "start_time": "2025-01-18T02:41:47.718Z"
   },
   {
    "duration": 10,
    "start_time": "2025-01-18T02:41:47.754Z"
   },
   {
    "duration": 157,
    "start_time": "2025-01-19T22:09:01.633Z"
   },
   {
    "duration": 2706,
    "start_time": "2025-01-19T22:09:26.924Z"
   },
   {
    "duration": 215,
    "start_time": "2025-01-19T22:09:29.632Z"
   },
   {
    "duration": 106,
    "start_time": "2025-01-19T22:09:29.849Z"
   },
   {
    "duration": 17,
    "start_time": "2025-01-19T22:09:29.957Z"
   },
   {
    "duration": 23,
    "start_time": "2025-01-19T22:09:29.976Z"
   },
   {
    "duration": 10,
    "start_time": "2025-01-19T22:09:30.001Z"
   },
   {
    "duration": 101,
    "start_time": "2025-01-19T22:09:30.012Z"
   },
   {
    "duration": 37,
    "start_time": "2025-01-19T22:09:30.115Z"
   },
   {
    "duration": 10,
    "start_time": "2025-01-19T22:09:30.155Z"
   },
   {
    "duration": 46,
    "start_time": "2025-01-19T22:09:30.169Z"
   },
   {
    "duration": 33,
    "start_time": "2025-01-19T22:09:30.217Z"
   },
   {
    "duration": 9,
    "start_time": "2025-01-19T22:09:30.251Z"
   },
   {
    "duration": 25,
    "start_time": "2025-01-19T22:09:30.264Z"
   },
   {
    "duration": 4,
    "start_time": "2025-01-19T22:09:30.291Z"
   },
   {
    "duration": 5,
    "start_time": "2025-01-19T22:09:30.297Z"
   },
   {
    "duration": 49,
    "start_time": "2025-01-19T22:09:30.304Z"
   },
   {
    "duration": 5,
    "start_time": "2025-01-19T22:09:30.355Z"
   },
   {
    "duration": 4,
    "start_time": "2025-01-19T22:09:30.361Z"
   },
   {
    "duration": 7,
    "start_time": "2025-01-19T22:09:30.368Z"
   },
   {
    "duration": 7,
    "start_time": "2025-01-19T22:09:30.377Z"
   },
   {
    "duration": 3,
    "start_time": "2025-01-19T22:09:30.386Z"
   },
   {
    "duration": 5,
    "start_time": "2025-01-19T22:09:30.391Z"
   },
   {
    "duration": 45,
    "start_time": "2025-01-19T22:09:30.398Z"
   },
   {
    "duration": 9,
    "start_time": "2025-01-19T22:09:30.445Z"
   },
   {
    "duration": 17,
    "start_time": "2025-01-19T22:09:30.455Z"
   },
   {
    "duration": 13,
    "start_time": "2025-01-19T22:09:30.474Z"
   },
   {
    "duration": 12,
    "start_time": "2025-01-19T22:09:30.492Z"
   },
   {
    "duration": 50,
    "start_time": "2025-01-19T22:09:30.509Z"
   },
   {
    "duration": 11,
    "start_time": "2025-01-19T22:09:30.561Z"
   },
   {
    "duration": 12,
    "start_time": "2025-01-19T22:09:33.040Z"
   },
   {
    "duration": 70,
    "start_time": "2025-01-19T22:11:02.820Z"
   },
   {
    "duration": 7,
    "start_time": "2025-01-19T22:11:10.429Z"
   },
   {
    "duration": 2437,
    "start_time": "2025-01-20T20:44:59.556Z"
   },
   {
    "duration": 227,
    "start_time": "2025-01-20T20:45:01.996Z"
   },
   {
    "duration": 94,
    "start_time": "2025-01-20T20:45:02.224Z"
   },
   {
    "duration": 17,
    "start_time": "2025-01-20T20:45:02.320Z"
   },
   {
    "duration": 23,
    "start_time": "2025-01-20T20:45:02.339Z"
   },
   {
    "duration": 12,
    "start_time": "2025-01-20T20:45:02.363Z"
   },
   {
    "duration": 100,
    "start_time": "2025-01-20T20:45:02.377Z"
   },
   {
    "duration": 40,
    "start_time": "2025-01-20T20:45:02.478Z"
   },
   {
    "duration": 11,
    "start_time": "2025-01-20T20:45:02.520Z"
   },
   {
    "duration": 48,
    "start_time": "2025-01-20T20:45:02.534Z"
   },
   {
    "duration": 30,
    "start_time": "2025-01-20T20:45:02.584Z"
   },
   {
    "duration": 9,
    "start_time": "2025-01-20T20:45:02.616Z"
   },
   {
    "duration": 26,
    "start_time": "2025-01-20T20:45:02.627Z"
   },
   {
    "duration": 5,
    "start_time": "2025-01-20T20:45:02.654Z"
   },
   {
    "duration": 5,
    "start_time": "2025-01-20T20:45:02.661Z"
   },
   {
    "duration": 50,
    "start_time": "2025-01-20T20:45:02.668Z"
   },
   {
    "duration": 6,
    "start_time": "2025-01-20T20:45:02.719Z"
   },
   {
    "duration": 4,
    "start_time": "2025-01-20T20:45:02.726Z"
   },
   {
    "duration": 7,
    "start_time": "2025-01-20T20:45:02.732Z"
   },
   {
    "duration": 7,
    "start_time": "2025-01-20T20:45:02.742Z"
   },
   {
    "duration": 4,
    "start_time": "2025-01-20T20:45:02.751Z"
   },
   {
    "duration": 6,
    "start_time": "2025-01-20T20:45:02.756Z"
   },
   {
    "duration": 46,
    "start_time": "2025-01-20T20:45:02.764Z"
   },
   {
    "duration": 8,
    "start_time": "2025-01-20T20:45:02.812Z"
   },
   {
    "duration": 14,
    "start_time": "2025-01-20T20:45:02.822Z"
   },
   {
    "duration": 12,
    "start_time": "2025-01-20T20:45:02.837Z"
   },
   {
    "duration": 4,
    "start_time": "2025-01-20T20:45:02.850Z"
   },
   {
    "duration": 56,
    "start_time": "2025-01-20T20:45:02.858Z"
   },
   {
    "duration": 11,
    "start_time": "2025-01-20T20:45:02.915Z"
   },
   {
    "duration": 12,
    "start_time": "2025-01-20T20:45:07.517Z"
   },
   {
    "duration": 6,
    "start_time": "2025-01-20T20:45:10.019Z"
   },
   {
    "duration": 208,
    "start_time": "2025-01-20T20:50:24.872Z"
   },
   {
    "duration": 13,
    "start_time": "2025-01-20T20:50:47.541Z"
   },
   {
    "duration": 21,
    "start_time": "2025-01-20T20:51:23.916Z"
   },
   {
    "duration": 16,
    "start_time": "2025-01-20T20:51:33.883Z"
   },
   {
    "duration": 18,
    "start_time": "2025-01-20T20:51:43.741Z"
   },
   {
    "duration": 17,
    "start_time": "2025-01-20T20:52:09.621Z"
   },
   {
    "duration": 14,
    "start_time": "2025-01-20T20:52:25.523Z"
   },
   {
    "duration": 9,
    "start_time": "2025-01-20T21:11:29.010Z"
   },
   {
    "duration": 22,
    "start_time": "2025-01-20T21:12:05.257Z"
   },
   {
    "duration": 17,
    "start_time": "2025-01-20T21:12:18.106Z"
   },
   {
    "duration": 17,
    "start_time": "2025-01-20T21:12:21.142Z"
   },
   {
    "duration": 9,
    "start_time": "2025-01-20T21:12:25.836Z"
   },
   {
    "duration": 18,
    "start_time": "2025-01-20T21:12:54.182Z"
   },
   {
    "duration": 13,
    "start_time": "2025-01-20T21:14:12.412Z"
   },
   {
    "duration": 13,
    "start_time": "2025-01-20T21:14:19.443Z"
   },
   {
    "duration": 26,
    "start_time": "2025-01-20T21:19:03.366Z"
   },
   {
    "duration": 11,
    "start_time": "2025-01-20T21:19:35.582Z"
   },
   {
    "duration": 63,
    "start_time": "2025-01-20T21:20:00.943Z"
   },
   {
    "duration": 14,
    "start_time": "2025-01-20T21:24:46.062Z"
   },
   {
    "duration": 7,
    "start_time": "2025-01-20T21:25:11.940Z"
   },
   {
    "duration": 15,
    "start_time": "2025-01-20T21:25:47.705Z"
   },
   {
    "duration": 13,
    "start_time": "2025-01-20T21:25:56.066Z"
   },
   {
    "duration": 37,
    "start_time": "2025-01-20T21:31:12.774Z"
   },
   {
    "duration": 20,
    "start_time": "2025-01-20T21:38:42.855Z"
   },
   {
    "duration": 13,
    "start_time": "2025-01-20T21:39:17.668Z"
   },
   {
    "duration": 10,
    "start_time": "2025-01-20T21:41:30.360Z"
   },
   {
    "duration": 15,
    "start_time": "2025-01-21T00:56:31.919Z"
   },
   {
    "duration": 22,
    "start_time": "2025-01-21T00:56:51.475Z"
   },
   {
    "duration": 14,
    "start_time": "2025-01-21T01:15:36.114Z"
   },
   {
    "duration": 11,
    "start_time": "2025-01-21T01:15:45.812Z"
   },
   {
    "duration": 2563,
    "start_time": "2025-01-22T00:43:53.235Z"
   },
   {
    "duration": 213,
    "start_time": "2025-01-22T00:43:55.801Z"
   },
   {
    "duration": 94,
    "start_time": "2025-01-22T00:43:56.016Z"
   },
   {
    "duration": 17,
    "start_time": "2025-01-22T00:43:56.112Z"
   },
   {
    "duration": 23,
    "start_time": "2025-01-22T00:43:56.132Z"
   },
   {
    "duration": 9,
    "start_time": "2025-01-22T00:43:56.157Z"
   },
   {
    "duration": 91,
    "start_time": "2025-01-22T00:43:56.168Z"
   },
   {
    "duration": 29,
    "start_time": "2025-01-22T00:43:56.261Z"
   },
   {
    "duration": 11,
    "start_time": "2025-01-22T00:43:56.292Z"
   },
   {
    "duration": 63,
    "start_time": "2025-01-22T00:43:56.305Z"
   },
   {
    "duration": 15,
    "start_time": "2025-01-22T00:43:56.371Z"
   },
   {
    "duration": 8,
    "start_time": "2025-01-22T00:43:56.388Z"
   },
   {
    "duration": 45,
    "start_time": "2025-01-22T00:43:56.398Z"
   },
   {
    "duration": 4,
    "start_time": "2025-01-22T00:43:56.446Z"
   },
   {
    "duration": 4,
    "start_time": "2025-01-22T00:43:56.452Z"
   },
   {
    "duration": 18,
    "start_time": "2025-01-22T00:43:56.458Z"
   },
   {
    "duration": 5,
    "start_time": "2025-01-22T00:43:56.477Z"
   },
   {
    "duration": 4,
    "start_time": "2025-01-22T00:43:56.484Z"
   },
   {
    "duration": 8,
    "start_time": "2025-01-22T00:43:56.524Z"
   },
   {
    "duration": 6,
    "start_time": "2025-01-22T00:43:56.534Z"
   },
   {
    "duration": 4,
    "start_time": "2025-01-22T00:43:56.542Z"
   },
   {
    "duration": 6,
    "start_time": "2025-01-22T00:43:56.547Z"
   },
   {
    "duration": 9,
    "start_time": "2025-01-22T00:43:56.554Z"
   },
   {
    "duration": 8,
    "start_time": "2025-01-22T00:43:56.564Z"
   },
   {
    "duration": 51,
    "start_time": "2025-01-22T00:43:56.574Z"
   },
   {
    "duration": 11,
    "start_time": "2025-01-22T00:43:56.627Z"
   },
   {
    "duration": 4,
    "start_time": "2025-01-22T00:43:56.640Z"
   },
   {
    "duration": 22,
    "start_time": "2025-01-22T00:43:56.646Z"
   },
   {
    "duration": 12,
    "start_time": "2025-01-22T00:43:56.670Z"
   },
   {
    "duration": 44,
    "start_time": "2025-01-22T00:43:56.684Z"
   },
   {
    "duration": 6,
    "start_time": "2025-01-22T00:43:56.730Z"
   },
   {
    "duration": 8,
    "start_time": "2025-01-22T00:43:56.738Z"
   },
   {
    "duration": 15,
    "start_time": "2025-01-22T00:43:56.748Z"
   },
   {
    "duration": 11,
    "start_time": "2025-01-22T00:43:56.764Z"
   },
   {
    "duration": 11,
    "start_time": "2025-01-22T00:43:56.776Z"
   },
   {
    "duration": 42,
    "start_time": "2025-01-22T00:43:56.789Z"
   },
   {
    "duration": 6,
    "start_time": "2025-01-22T00:43:56.832Z"
   },
   {
    "duration": 10,
    "start_time": "2025-01-22T00:43:56.840Z"
   },
   {
    "duration": 30,
    "start_time": "2025-01-22T00:43:56.851Z"
   },
   {
    "duration": 47,
    "start_time": "2025-01-22T00:43:56.883Z"
   },
   {
    "duration": 9,
    "start_time": "2025-01-22T00:43:56.934Z"
   },
   {
    "duration": 20,
    "start_time": "2025-01-22T00:43:56.945Z"
   },
   {
    "duration": 10,
    "start_time": "2025-01-22T00:43:56.967Z"
   },
   {
    "duration": 216,
    "start_time": "2025-01-22T00:44:08.860Z"
   },
   {
    "duration": 345,
    "start_time": "2025-01-22T00:45:01.526Z"
   },
   {
    "duration": 16,
    "start_time": "2025-01-22T00:45:42.722Z"
   },
   {
    "duration": 17,
    "start_time": "2025-01-22T00:45:47.154Z"
   },
   {
    "duration": 24,
    "start_time": "2025-01-22T00:45:59.309Z"
   },
   {
    "duration": 21,
    "start_time": "2025-01-22T00:48:58.882Z"
   },
   {
    "duration": 40,
    "start_time": "2025-01-22T00:56:28.767Z"
   },
   {
    "duration": 19,
    "start_time": "2025-01-22T00:56:42.483Z"
   },
   {
    "duration": 13,
    "start_time": "2025-01-22T00:57:03.056Z"
   },
   {
    "duration": 16,
    "start_time": "2025-01-22T00:57:29.888Z"
   },
   {
    "duration": 13,
    "start_time": "2025-01-22T00:57:35.689Z"
   },
   {
    "duration": 19,
    "start_time": "2025-01-22T00:57:53.296Z"
   },
   {
    "duration": 16,
    "start_time": "2025-01-22T01:07:16.998Z"
   },
   {
    "duration": 20,
    "start_time": "2025-01-22T01:07:46.583Z"
   },
   {
    "duration": 17,
    "start_time": "2025-01-22T01:07:54.207Z"
   },
   {
    "duration": 31,
    "start_time": "2025-01-22T01:08:20.562Z"
   },
   {
    "duration": 18,
    "start_time": "2025-01-22T01:08:27.052Z"
   },
   {
    "duration": 14,
    "start_time": "2025-01-22T01:08:35.893Z"
   },
   {
    "duration": 18,
    "start_time": "2025-01-22T01:13:41.328Z"
   },
   {
    "duration": 13,
    "start_time": "2025-01-22T01:16:21.044Z"
   },
   {
    "duration": 198,
    "start_time": "2025-01-22T01:16:47.373Z"
   },
   {
    "duration": 23,
    "start_time": "2025-01-22T01:17:03.338Z"
   },
   {
    "duration": 14,
    "start_time": "2025-01-22T01:17:12.644Z"
   },
   {
    "duration": 15,
    "start_time": "2025-01-22T01:17:29.154Z"
   },
   {
    "duration": 14,
    "start_time": "2025-01-22T01:18:23.932Z"
   },
   {
    "duration": 19,
    "start_time": "2025-01-22T01:18:43.675Z"
   },
   {
    "duration": 18,
    "start_time": "2025-01-22T01:19:02.807Z"
   },
   {
    "duration": 14,
    "start_time": "2025-01-22T01:19:42.828Z"
   },
   {
    "duration": 2,
    "start_time": "2025-01-22T01:19:56.006Z"
   },
   {
    "duration": 16,
    "start_time": "2025-01-22T01:22:15.163Z"
   },
   {
    "duration": 10,
    "start_time": "2025-01-22T01:22:21.149Z"
   },
   {
    "duration": 748,
    "start_time": "2025-01-22T01:32:46.510Z"
   },
   {
    "duration": 161,
    "start_time": "2025-01-22T01:32:47.261Z"
   },
   {
    "duration": 103,
    "start_time": "2025-01-22T01:32:47.423Z"
   },
   {
    "duration": 18,
    "start_time": "2025-01-22T01:32:47.530Z"
   },
   {
    "duration": 22,
    "start_time": "2025-01-22T01:32:47.550Z"
   },
   {
    "duration": 9,
    "start_time": "2025-01-22T01:32:47.574Z"
   },
   {
    "duration": 99,
    "start_time": "2025-01-22T01:32:47.585Z"
   },
   {
    "duration": 30,
    "start_time": "2025-01-22T01:32:47.685Z"
   },
   {
    "duration": 12,
    "start_time": "2025-01-22T01:32:47.729Z"
   },
   {
    "duration": 48,
    "start_time": "2025-01-22T01:32:47.743Z"
   },
   {
    "duration": 14,
    "start_time": "2025-01-22T01:32:47.793Z"
   },
   {
    "duration": 10,
    "start_time": "2025-01-22T01:32:47.824Z"
   },
   {
    "duration": 25,
    "start_time": "2025-01-22T01:32:47.837Z"
   },
   {
    "duration": 6,
    "start_time": "2025-01-22T01:32:47.866Z"
   },
   {
    "duration": 6,
    "start_time": "2025-01-22T01:32:47.873Z"
   },
   {
    "duration": 47,
    "start_time": "2025-01-22T01:32:47.881Z"
   },
   {
    "duration": 10,
    "start_time": "2025-01-22T01:32:47.930Z"
   },
   {
    "duration": 5,
    "start_time": "2025-01-22T01:32:47.942Z"
   },
   {
    "duration": 9,
    "start_time": "2025-01-22T01:32:47.949Z"
   },
   {
    "duration": 8,
    "start_time": "2025-01-22T01:32:47.959Z"
   },
   {
    "duration": 4,
    "start_time": "2025-01-22T01:32:47.969Z"
   },
   {
    "duration": 6,
    "start_time": "2025-01-22T01:32:47.975Z"
   },
   {
    "duration": 47,
    "start_time": "2025-01-22T01:32:47.983Z"
   },
   {
    "duration": 8,
    "start_time": "2025-01-22T01:32:48.032Z"
   },
   {
    "duration": 13,
    "start_time": "2025-01-22T01:32:48.042Z"
   },
   {
    "duration": 11,
    "start_time": "2025-01-22T01:32:48.057Z"
   },
   {
    "duration": 4,
    "start_time": "2025-01-22T01:32:48.070Z"
   },
   {
    "duration": 59,
    "start_time": "2025-01-22T01:32:48.076Z"
   },
   {
    "duration": 10,
    "start_time": "2025-01-22T01:32:48.137Z"
   },
   {
    "duration": 12,
    "start_time": "2025-01-22T01:32:48.149Z"
   },
   {
    "duration": 6,
    "start_time": "2025-01-22T01:32:48.162Z"
   },
   {
    "duration": 9,
    "start_time": "2025-01-22T01:32:48.169Z"
   },
   {
    "duration": 50,
    "start_time": "2025-01-22T01:32:48.179Z"
   },
   {
    "duration": 11,
    "start_time": "2025-01-22T01:32:48.231Z"
   },
   {
    "duration": 11,
    "start_time": "2025-01-22T01:32:48.244Z"
   },
   {
    "duration": 12,
    "start_time": "2025-01-22T01:32:48.257Z"
   },
   {
    "duration": 7,
    "start_time": "2025-01-22T01:32:48.271Z"
   },
   {
    "duration": 10,
    "start_time": "2025-01-22T01:32:48.280Z"
   },
   {
    "duration": 31,
    "start_time": "2025-01-22T01:32:48.323Z"
   },
   {
    "duration": 14,
    "start_time": "2025-01-22T01:32:48.355Z"
   },
   {
    "duration": 8,
    "start_time": "2025-01-22T01:32:48.373Z"
   },
   {
    "duration": 42,
    "start_time": "2025-01-22T01:32:48.383Z"
   },
   {
    "duration": 10,
    "start_time": "2025-01-22T01:32:48.427Z"
   },
   {
    "duration": 12,
    "start_time": "2025-01-22T01:32:48.439Z"
   },
   {
    "duration": 22,
    "start_time": "2025-01-22T01:32:58.812Z"
   },
   {
    "duration": 691,
    "start_time": "2025-01-22T01:36:43.183Z"
   },
   {
    "duration": 162,
    "start_time": "2025-01-22T01:36:43.877Z"
   },
   {
    "duration": 96,
    "start_time": "2025-01-22T01:36:44.041Z"
   },
   {
    "duration": 17,
    "start_time": "2025-01-22T01:36:44.139Z"
   },
   {
    "duration": 23,
    "start_time": "2025-01-22T01:36:44.157Z"
   },
   {
    "duration": 9,
    "start_time": "2025-01-22T01:36:44.182Z"
   },
   {
    "duration": 99,
    "start_time": "2025-01-22T01:36:44.192Z"
   },
   {
    "duration": 41,
    "start_time": "2025-01-22T01:36:44.293Z"
   },
   {
    "duration": 11,
    "start_time": "2025-01-22T01:36:44.336Z"
   },
   {
    "duration": 48,
    "start_time": "2025-01-22T01:36:44.351Z"
   },
   {
    "duration": 35,
    "start_time": "2025-01-22T01:36:44.401Z"
   },
   {
    "duration": 9,
    "start_time": "2025-01-22T01:36:44.437Z"
   },
   {
    "duration": 26,
    "start_time": "2025-01-22T01:36:44.448Z"
   },
   {
    "duration": 4,
    "start_time": "2025-01-22T01:36:44.475Z"
   },
   {
    "duration": 5,
    "start_time": "2025-01-22T01:36:44.481Z"
   },
   {
    "duration": 46,
    "start_time": "2025-01-22T01:36:44.487Z"
   },
   {
    "duration": 5,
    "start_time": "2025-01-22T01:36:44.535Z"
   },
   {
    "duration": 4,
    "start_time": "2025-01-22T01:36:44.541Z"
   },
   {
    "duration": 7,
    "start_time": "2025-01-22T01:36:44.547Z"
   },
   {
    "duration": 6,
    "start_time": "2025-01-22T01:36:44.556Z"
   },
   {
    "duration": 4,
    "start_time": "2025-01-22T01:36:44.565Z"
   },
   {
    "duration": 7,
    "start_time": "2025-01-22T01:36:44.570Z"
   },
   {
    "duration": 45,
    "start_time": "2025-01-22T01:36:44.578Z"
   },
   {
    "duration": 8,
    "start_time": "2025-01-22T01:36:44.625Z"
   },
   {
    "duration": 13,
    "start_time": "2025-01-22T01:36:44.635Z"
   },
   {
    "duration": 11,
    "start_time": "2025-01-22T01:36:44.650Z"
   },
   {
    "duration": 761,
    "start_time": "2025-01-22T01:37:24.355Z"
   },
   {
    "duration": 164,
    "start_time": "2025-01-22T01:37:25.119Z"
   },
   {
    "duration": 96,
    "start_time": "2025-01-22T01:37:25.285Z"
   },
   {
    "duration": 16,
    "start_time": "2025-01-22T01:37:25.383Z"
   },
   {
    "duration": 35,
    "start_time": "2025-01-22T01:37:25.401Z"
   },
   {
    "duration": 9,
    "start_time": "2025-01-22T01:37:25.437Z"
   },
   {
    "duration": 88,
    "start_time": "2025-01-22T01:37:25.447Z"
   },
   {
    "duration": 30,
    "start_time": "2025-01-22T01:37:25.538Z"
   },
   {
    "duration": 10,
    "start_time": "2025-01-22T01:37:25.570Z"
   },
   {
    "duration": 65,
    "start_time": "2025-01-22T01:37:25.583Z"
   },
   {
    "duration": 15,
    "start_time": "2025-01-22T01:37:25.649Z"
   },
   {
    "duration": 9,
    "start_time": "2025-01-22T01:37:25.665Z"
   },
   {
    "duration": 26,
    "start_time": "2025-01-22T01:37:25.675Z"
   },
   {
    "duration": 5,
    "start_time": "2025-01-22T01:37:25.724Z"
   },
   {
    "duration": 5,
    "start_time": "2025-01-22T01:37:25.730Z"
   },
   {
    "duration": 19,
    "start_time": "2025-01-22T01:37:25.737Z"
   },
   {
    "duration": 5,
    "start_time": "2025-01-22T01:37:25.757Z"
   },
   {
    "duration": 5,
    "start_time": "2025-01-22T01:37:25.764Z"
   },
   {
    "duration": 8,
    "start_time": "2025-01-22T01:37:25.771Z"
   },
   {
    "duration": 45,
    "start_time": "2025-01-22T01:37:25.780Z"
   },
   {
    "duration": 4,
    "start_time": "2025-01-22T01:37:25.827Z"
   },
   {
    "duration": 6,
    "start_time": "2025-01-22T01:37:25.832Z"
   },
   {
    "duration": 8,
    "start_time": "2025-01-22T01:37:25.840Z"
   },
   {
    "duration": 8,
    "start_time": "2025-01-22T01:37:25.849Z"
   },
   {
    "duration": 13,
    "start_time": "2025-01-22T01:37:25.858Z"
   },
   {
    "duration": 10,
    "start_time": "2025-01-22T01:37:25.873Z"
   },
   {
    "duration": 4,
    "start_time": "2025-01-22T01:37:25.924Z"
   },
   {
    "duration": 24,
    "start_time": "2025-01-22T01:37:25.934Z"
   },
   {
    "duration": 10,
    "start_time": "2025-01-22T01:37:25.960Z"
   },
   {
    "duration": 11,
    "start_time": "2025-01-22T01:37:25.971Z"
   },
   {
    "duration": 6,
    "start_time": "2025-01-22T01:37:25.984Z"
   },
   {
    "duration": 9,
    "start_time": "2025-01-22T01:37:26.025Z"
   },
   {
    "duration": 14,
    "start_time": "2025-01-22T01:37:26.036Z"
   },
   {
    "duration": 12,
    "start_time": "2025-01-22T01:37:26.052Z"
   },
   {
    "duration": 14,
    "start_time": "2025-01-22T01:37:26.065Z"
   },
   {
    "duration": 48,
    "start_time": "2025-01-22T01:37:26.080Z"
   },
   {
    "duration": 7,
    "start_time": "2025-01-22T01:37:26.130Z"
   },
   {
    "duration": 13,
    "start_time": "2025-01-22T01:37:26.139Z"
   },
   {
    "duration": 32,
    "start_time": "2025-01-22T01:37:26.154Z"
   },
   {
    "duration": 38,
    "start_time": "2025-01-22T01:37:26.188Z"
   },
   {
    "duration": 9,
    "start_time": "2025-01-22T01:37:26.227Z"
   },
   {
    "duration": 18,
    "start_time": "2025-01-22T01:37:26.237Z"
   },
   {
    "duration": 9,
    "start_time": "2025-01-22T01:37:26.256Z"
   },
   {
    "duration": 20,
    "start_time": "2025-01-22T01:37:26.267Z"
   },
   {
    "duration": 770,
    "start_time": "2025-01-22T01:39:50.667Z"
   },
   {
    "duration": 172,
    "start_time": "2025-01-22T01:39:51.439Z"
   },
   {
    "duration": 111,
    "start_time": "2025-01-22T01:39:51.613Z"
   },
   {
    "duration": 16,
    "start_time": "2025-01-22T01:39:51.726Z"
   },
   {
    "duration": 23,
    "start_time": "2025-01-22T01:39:51.744Z"
   },
   {
    "duration": 9,
    "start_time": "2025-01-22T01:39:51.768Z"
   },
   {
    "duration": 97,
    "start_time": "2025-01-22T01:39:51.779Z"
   },
   {
    "duration": 54,
    "start_time": "2025-01-22T01:39:51.878Z"
   },
   {
    "duration": 15,
    "start_time": "2025-01-22T01:39:51.934Z"
   },
   {
    "duration": 51,
    "start_time": "2025-01-22T01:39:51.953Z"
   },
   {
    "duration": 28,
    "start_time": "2025-01-22T01:39:52.006Z"
   },
   {
    "duration": 8,
    "start_time": "2025-01-22T01:39:52.036Z"
   },
   {
    "duration": 26,
    "start_time": "2025-01-22T01:39:52.046Z"
   },
   {
    "duration": 4,
    "start_time": "2025-01-22T01:39:52.074Z"
   },
   {
    "duration": 5,
    "start_time": "2025-01-22T01:39:52.080Z"
   },
   {
    "duration": 46,
    "start_time": "2025-01-22T01:39:52.086Z"
   },
   {
    "duration": 4,
    "start_time": "2025-01-22T01:39:52.134Z"
   },
   {
    "duration": 5,
    "start_time": "2025-01-22T01:39:52.140Z"
   },
   {
    "duration": 7,
    "start_time": "2025-01-22T01:39:52.147Z"
   },
   {
    "duration": 7,
    "start_time": "2025-01-22T01:39:52.156Z"
   },
   {
    "duration": 3,
    "start_time": "2025-01-22T01:39:52.165Z"
   },
   {
    "duration": 5,
    "start_time": "2025-01-22T01:39:52.170Z"
   },
   {
    "duration": 49,
    "start_time": "2025-01-22T01:39:52.177Z"
   },
   {
    "duration": 9,
    "start_time": "2025-01-22T01:39:52.228Z"
   },
   {
    "duration": 16,
    "start_time": "2025-01-22T01:39:52.239Z"
   },
   {
    "duration": 15,
    "start_time": "2025-01-22T01:39:52.257Z"
   },
   {
    "duration": 6,
    "start_time": "2025-01-22T01:39:52.274Z"
   },
   {
    "duration": 53,
    "start_time": "2025-01-22T01:39:52.284Z"
   },
   {
    "duration": 10,
    "start_time": "2025-01-22T01:39:52.339Z"
   },
   {
    "duration": 13,
    "start_time": "2025-01-22T01:39:52.350Z"
   },
   {
    "duration": 7,
    "start_time": "2025-01-22T01:39:52.364Z"
   },
   {
    "duration": 9,
    "start_time": "2025-01-22T01:39:52.372Z"
   },
   {
    "duration": 52,
    "start_time": "2025-01-22T01:39:52.382Z"
   },
   {
    "duration": 20,
    "start_time": "2025-01-22T01:39:52.436Z"
   },
   {
    "duration": 12,
    "start_time": "2025-01-22T01:39:52.458Z"
   },
   {
    "duration": 17,
    "start_time": "2025-01-22T01:39:52.472Z"
   },
   {
    "duration": 6,
    "start_time": "2025-01-22T01:39:52.492Z"
   },
   {
    "duration": 26,
    "start_time": "2025-01-22T01:39:52.500Z"
   },
   {
    "duration": 32,
    "start_time": "2025-01-22T01:39:52.528Z"
   },
   {
    "duration": 14,
    "start_time": "2025-01-22T01:39:52.561Z"
   },
   {
    "duration": 10,
    "start_time": "2025-01-22T01:39:52.576Z"
   },
   {
    "duration": 42,
    "start_time": "2025-01-22T01:39:52.587Z"
   },
   {
    "duration": 10,
    "start_time": "2025-01-22T01:39:52.630Z"
   },
   {
    "duration": 16,
    "start_time": "2025-01-22T01:39:52.642Z"
   },
   {
    "duration": 21,
    "start_time": "2025-01-22T01:41:59.737Z"
   },
   {
    "duration": 22,
    "start_time": "2025-01-22T01:42:21.874Z"
   },
   {
    "duration": 13,
    "start_time": "2025-01-22T01:43:35.975Z"
   },
   {
    "duration": 263,
    "start_time": "2025-01-22T01:47:07.793Z"
   },
   {
    "duration": 16,
    "start_time": "2025-01-22T01:47:17.798Z"
   },
   {
    "duration": 12,
    "start_time": "2025-01-22T01:47:48.171Z"
   },
   {
    "duration": 15,
    "start_time": "2025-01-22T01:52:40.664Z"
   },
   {
    "duration": 798,
    "start_time": "2025-01-22T02:02:02.458Z"
   },
   {
    "duration": 166,
    "start_time": "2025-01-22T02:02:03.259Z"
   },
   {
    "duration": 97,
    "start_time": "2025-01-22T02:02:03.428Z"
   },
   {
    "duration": 17,
    "start_time": "2025-01-22T02:02:03.528Z"
   },
   {
    "duration": 23,
    "start_time": "2025-01-22T02:02:03.546Z"
   },
   {
    "duration": 9,
    "start_time": "2025-01-22T02:02:03.570Z"
   },
   {
    "duration": 98,
    "start_time": "2025-01-22T02:02:03.581Z"
   },
   {
    "duration": 32,
    "start_time": "2025-01-22T02:02:03.681Z"
   },
   {
    "duration": 19,
    "start_time": "2025-01-22T02:02:03.715Z"
   },
   {
    "duration": 47,
    "start_time": "2025-01-22T02:02:03.738Z"
   },
   {
    "duration": 14,
    "start_time": "2025-01-22T02:02:03.787Z"
   },
   {
    "duration": 9,
    "start_time": "2025-01-22T02:02:03.824Z"
   },
   {
    "duration": 30,
    "start_time": "2025-01-22T02:02:03.835Z"
   },
   {
    "duration": 7,
    "start_time": "2025-01-22T02:02:03.868Z"
   },
   {
    "duration": 8,
    "start_time": "2025-01-22T02:02:03.877Z"
   },
   {
    "duration": 44,
    "start_time": "2025-01-22T02:02:03.886Z"
   },
   {
    "duration": 5,
    "start_time": "2025-01-22T02:02:03.933Z"
   },
   {
    "duration": 4,
    "start_time": "2025-01-22T02:02:03.940Z"
   },
   {
    "duration": 9,
    "start_time": "2025-01-22T02:02:03.946Z"
   },
   {
    "duration": 8,
    "start_time": "2025-01-22T02:02:03.957Z"
   },
   {
    "duration": 4,
    "start_time": "2025-01-22T02:02:03.967Z"
   },
   {
    "duration": 6,
    "start_time": "2025-01-22T02:02:03.973Z"
   },
   {
    "duration": 47,
    "start_time": "2025-01-22T02:02:03.981Z"
   },
   {
    "duration": 8,
    "start_time": "2025-01-22T02:02:04.030Z"
   },
   {
    "duration": 13,
    "start_time": "2025-01-22T02:02:04.040Z"
   },
   {
    "duration": 11,
    "start_time": "2025-01-22T02:02:04.054Z"
   },
   {
    "duration": 5,
    "start_time": "2025-01-22T02:02:04.067Z"
   },
   {
    "duration": 57,
    "start_time": "2025-01-22T02:02:04.076Z"
   },
   {
    "duration": 11,
    "start_time": "2025-01-22T02:02:04.135Z"
   },
   {
    "duration": 11,
    "start_time": "2025-01-22T02:02:04.147Z"
   },
   {
    "duration": 7,
    "start_time": "2025-01-22T02:02:04.159Z"
   },
   {
    "duration": 8,
    "start_time": "2025-01-22T02:02:04.168Z"
   },
   {
    "duration": 46,
    "start_time": "2025-01-22T02:02:04.178Z"
   },
   {
    "duration": 12,
    "start_time": "2025-01-22T02:02:04.226Z"
   },
   {
    "duration": 11,
    "start_time": "2025-01-22T02:02:04.239Z"
   },
   {
    "duration": 13,
    "start_time": "2025-01-22T02:02:04.252Z"
   },
   {
    "duration": 6,
    "start_time": "2025-01-22T02:02:04.267Z"
   },
   {
    "duration": 11,
    "start_time": "2025-01-22T02:02:04.275Z"
   },
   {
    "duration": 59,
    "start_time": "2025-01-22T02:02:04.288Z"
   },
   {
    "duration": 14,
    "start_time": "2025-01-22T02:02:04.349Z"
   },
   {
    "duration": 9,
    "start_time": "2025-01-22T02:02:04.364Z"
   },
   {
    "duration": 19,
    "start_time": "2025-01-22T02:02:04.374Z"
   },
   {
    "duration": 38,
    "start_time": "2025-01-22T02:02:04.394Z"
   },
   {
    "duration": 18,
    "start_time": "2025-01-22T02:02:04.435Z"
   },
   {
    "duration": 12,
    "start_time": "2025-01-22T02:02:04.454Z"
   },
   {
    "duration": 11,
    "start_time": "2025-01-22T02:02:04.468Z"
   },
   {
    "duration": 14,
    "start_time": "2025-01-22T02:02:04.481Z"
   },
   {
    "duration": 49,
    "start_time": "2025-01-22T02:02:04.496Z"
   },
   {
    "duration": 18,
    "start_time": "2025-01-22T02:03:50.815Z"
   },
   {
    "duration": 263,
    "start_time": "2025-01-22T02:04:25.161Z"
   },
   {
    "duration": 13,
    "start_time": "2025-01-22T02:04:54.305Z"
   },
   {
    "duration": 750,
    "start_time": "2025-01-22T02:05:06.607Z"
   },
   {
    "duration": 180,
    "start_time": "2025-01-22T02:05:07.361Z"
   },
   {
    "duration": 98,
    "start_time": "2025-01-22T02:05:07.543Z"
   },
   {
    "duration": 17,
    "start_time": "2025-01-22T02:05:07.643Z"
   },
   {
    "duration": 23,
    "start_time": "2025-01-22T02:05:07.662Z"
   },
   {
    "duration": 10,
    "start_time": "2025-01-22T02:05:07.686Z"
   },
   {
    "duration": 100,
    "start_time": "2025-01-22T02:05:07.697Z"
   },
   {
    "duration": 44,
    "start_time": "2025-01-22T02:05:07.799Z"
   },
   {
    "duration": 11,
    "start_time": "2025-01-22T02:05:07.845Z"
   },
   {
    "duration": 47,
    "start_time": "2025-01-22T02:05:07.859Z"
   },
   {
    "duration": 30,
    "start_time": "2025-01-22T02:05:07.908Z"
   },
   {
    "duration": 8,
    "start_time": "2025-01-22T02:05:07.940Z"
   },
   {
    "duration": 27,
    "start_time": "2025-01-22T02:05:07.950Z"
   },
   {
    "duration": 5,
    "start_time": "2025-01-22T02:05:07.978Z"
   },
   {
    "duration": 4,
    "start_time": "2025-01-22T02:05:07.985Z"
   },
   {
    "duration": 53,
    "start_time": "2025-01-22T02:05:07.991Z"
   },
   {
    "duration": 5,
    "start_time": "2025-01-22T02:05:08.045Z"
   },
   {
    "duration": 6,
    "start_time": "2025-01-22T02:05:08.052Z"
   },
   {
    "duration": 8,
    "start_time": "2025-01-22T02:05:08.059Z"
   },
   {
    "duration": 7,
    "start_time": "2025-01-22T02:05:08.068Z"
   },
   {
    "duration": 4,
    "start_time": "2025-01-22T02:05:08.076Z"
   },
   {
    "duration": 5,
    "start_time": "2025-01-22T02:05:08.081Z"
   },
   {
    "duration": 44,
    "start_time": "2025-01-22T02:05:08.088Z"
   },
   {
    "duration": 9,
    "start_time": "2025-01-22T02:05:08.134Z"
   },
   {
    "duration": 13,
    "start_time": "2025-01-22T02:05:08.145Z"
   },
   {
    "duration": 11,
    "start_time": "2025-01-22T02:05:08.160Z"
   },
   {
    "duration": 4,
    "start_time": "2025-01-22T02:05:08.173Z"
   },
   {
    "duration": 60,
    "start_time": "2025-01-22T02:05:08.181Z"
   },
   {
    "duration": 11,
    "start_time": "2025-01-22T02:05:08.243Z"
   },
   {
    "duration": 11,
    "start_time": "2025-01-22T02:05:08.255Z"
   },
   {
    "duration": 6,
    "start_time": "2025-01-22T02:05:08.268Z"
   },
   {
    "duration": 10,
    "start_time": "2025-01-22T02:05:08.276Z"
   },
   {
    "duration": 48,
    "start_time": "2025-01-22T02:05:08.287Z"
   },
   {
    "duration": 12,
    "start_time": "2025-01-22T02:05:08.337Z"
   },
   {
    "duration": 13,
    "start_time": "2025-01-22T02:05:08.351Z"
   },
   {
    "duration": 13,
    "start_time": "2025-01-22T02:05:08.365Z"
   },
   {
    "duration": 6,
    "start_time": "2025-01-22T02:05:08.380Z"
   },
   {
    "duration": 42,
    "start_time": "2025-01-22T02:05:08.388Z"
   },
   {
    "duration": 29,
    "start_time": "2025-01-22T02:05:08.432Z"
   },
   {
    "duration": 16,
    "start_time": "2025-01-22T02:05:08.463Z"
   },
   {
    "duration": 9,
    "start_time": "2025-01-22T02:05:08.481Z"
   },
   {
    "duration": 49,
    "start_time": "2025-01-22T02:05:08.492Z"
   },
   {
    "duration": 13,
    "start_time": "2025-01-22T02:05:08.543Z"
   },
   {
    "duration": 17,
    "start_time": "2025-01-22T02:05:08.557Z"
   },
   {
    "duration": 13,
    "start_time": "2025-01-22T02:05:08.576Z"
   },
   {
    "duration": 35,
    "start_time": "2025-01-22T02:05:08.591Z"
   },
   {
    "duration": 14,
    "start_time": "2025-01-22T02:05:08.628Z"
   },
   {
    "duration": 22,
    "start_time": "2025-01-22T02:05:08.643Z"
   },
   {
    "duration": 2,
    "start_time": "2025-01-22T02:05:08.667Z"
   },
   {
    "duration": 3,
    "start_time": "2025-01-22T02:05:08.671Z"
   },
   {
    "duration": 3,
    "start_time": "2025-01-22T02:05:08.675Z"
   },
   {
    "duration": 2,
    "start_time": "2025-01-22T02:05:08.680Z"
   },
   {
    "duration": 3,
    "start_time": "2025-01-22T02:05:08.684Z"
   },
   {
    "duration": 3,
    "start_time": "2025-01-22T02:05:08.724Z"
   },
   {
    "duration": 2,
    "start_time": "2025-01-22T02:05:08.729Z"
   },
   {
    "duration": 2,
    "start_time": "2025-01-22T02:05:08.733Z"
   },
   {
    "duration": 2,
    "start_time": "2025-01-22T02:05:08.737Z"
   },
   {
    "duration": 3,
    "start_time": "2025-01-22T02:05:08.741Z"
   },
   {
    "duration": 61,
    "start_time": "2025-01-22T02:07:03.707Z"
   },
   {
    "duration": 22,
    "start_time": "2025-01-22T02:07:33.329Z"
   },
   {
    "duration": 20,
    "start_time": "2025-01-22T02:17:23.715Z"
   },
   {
    "duration": 797,
    "start_time": "2025-01-22T02:21:52.155Z"
   },
   {
    "duration": 181,
    "start_time": "2025-01-22T02:21:52.954Z"
   },
   {
    "duration": 99,
    "start_time": "2025-01-22T02:21:53.137Z"
   },
   {
    "duration": 16,
    "start_time": "2025-01-22T02:21:53.239Z"
   },
   {
    "duration": 23,
    "start_time": "2025-01-22T02:21:53.257Z"
   },
   {
    "duration": 9,
    "start_time": "2025-01-22T02:21:53.282Z"
   },
   {
    "duration": 98,
    "start_time": "2025-01-22T02:21:53.292Z"
   },
   {
    "duration": 39,
    "start_time": "2025-01-22T02:21:53.392Z"
   },
   {
    "duration": 10,
    "start_time": "2025-01-22T02:21:53.433Z"
   },
   {
    "duration": 47,
    "start_time": "2025-01-22T02:21:53.446Z"
   },
   {
    "duration": 32,
    "start_time": "2025-01-22T02:21:53.495Z"
   },
   {
    "duration": 9,
    "start_time": "2025-01-22T02:21:53.529Z"
   },
   {
    "duration": 25,
    "start_time": "2025-01-22T02:21:53.539Z"
   },
   {
    "duration": 4,
    "start_time": "2025-01-22T02:21:53.565Z"
   },
   {
    "duration": 5,
    "start_time": "2025-01-22T02:21:53.571Z"
   },
   {
    "duration": 50,
    "start_time": "2025-01-22T02:21:53.578Z"
   },
   {
    "duration": 5,
    "start_time": "2025-01-22T02:21:53.630Z"
   },
   {
    "duration": 5,
    "start_time": "2025-01-22T02:21:53.637Z"
   },
   {
    "duration": 7,
    "start_time": "2025-01-22T02:21:53.644Z"
   },
   {
    "duration": 7,
    "start_time": "2025-01-22T02:21:53.653Z"
   },
   {
    "duration": 4,
    "start_time": "2025-01-22T02:21:53.662Z"
   },
   {
    "duration": 6,
    "start_time": "2025-01-22T02:21:53.668Z"
   },
   {
    "duration": 53,
    "start_time": "2025-01-22T02:21:53.675Z"
   },
   {
    "duration": 8,
    "start_time": "2025-01-22T02:21:53.730Z"
   },
   {
    "duration": 13,
    "start_time": "2025-01-22T02:21:53.739Z"
   },
   {
    "duration": 12,
    "start_time": "2025-01-22T02:21:53.754Z"
   },
   {
    "duration": 5,
    "start_time": "2025-01-22T02:21:53.767Z"
   },
   {
    "duration": 53,
    "start_time": "2025-01-22T02:21:53.776Z"
   },
   {
    "duration": 11,
    "start_time": "2025-01-22T02:21:53.831Z"
   },
   {
    "duration": 13,
    "start_time": "2025-01-22T02:21:53.843Z"
   },
   {
    "duration": 6,
    "start_time": "2025-01-22T02:21:53.858Z"
   },
   {
    "duration": 16,
    "start_time": "2025-01-22T02:21:53.865Z"
   },
   {
    "duration": 44,
    "start_time": "2025-01-22T02:21:53.882Z"
   },
   {
    "duration": 12,
    "start_time": "2025-01-22T02:21:53.928Z"
   },
   {
    "duration": 11,
    "start_time": "2025-01-22T02:21:53.941Z"
   },
   {
    "duration": 13,
    "start_time": "2025-01-22T02:21:53.954Z"
   },
   {
    "duration": 7,
    "start_time": "2025-01-22T02:21:53.968Z"
   },
   {
    "duration": 10,
    "start_time": "2025-01-22T02:21:53.977Z"
   },
   {
    "duration": 63,
    "start_time": "2025-01-22T02:21:53.988Z"
   },
   {
    "duration": 14,
    "start_time": "2025-01-22T02:21:54.053Z"
   },
   {
    "duration": 8,
    "start_time": "2025-01-22T02:21:54.069Z"
   },
   {
    "duration": 17,
    "start_time": "2025-01-22T02:21:54.079Z"
   },
   {
    "duration": 12,
    "start_time": "2025-01-22T02:21:54.124Z"
   },
   {
    "duration": 20,
    "start_time": "2025-01-22T02:21:54.138Z"
   },
   {
    "duration": 13,
    "start_time": "2025-01-22T02:21:54.162Z"
   },
   {
    "duration": 12,
    "start_time": "2025-01-22T02:21:54.177Z"
   },
   {
    "duration": 43,
    "start_time": "2025-01-22T02:21:54.191Z"
   },
   {
    "duration": 22,
    "start_time": "2025-01-22T02:21:54.236Z"
   },
   {
    "duration": 20,
    "start_time": "2025-01-22T02:21:54.260Z"
   },
   {
    "duration": 6,
    "start_time": "2025-01-22T02:21:54.281Z"
   },
   {
    "duration": 2,
    "start_time": "2025-01-22T02:21:54.288Z"
   },
   {
    "duration": 2,
    "start_time": "2025-01-22T02:21:54.292Z"
   },
   {
    "duration": 29,
    "start_time": "2025-01-22T02:21:54.296Z"
   },
   {
    "duration": 4,
    "start_time": "2025-01-22T02:21:54.326Z"
   },
   {
    "duration": 3,
    "start_time": "2025-01-22T02:21:54.331Z"
   },
   {
    "duration": 4,
    "start_time": "2025-01-22T02:21:54.335Z"
   },
   {
    "duration": 3,
    "start_time": "2025-01-22T02:21:54.340Z"
   },
   {
    "duration": 2,
    "start_time": "2025-01-22T02:21:54.345Z"
   },
   {
    "duration": 3,
    "start_time": "2025-01-22T02:21:54.349Z"
   },
   {
    "duration": 32,
    "start_time": "2025-01-22T02:22:11.180Z"
   },
   {
    "duration": 809,
    "start_time": "2025-01-22T02:23:27.436Z"
   },
   {
    "duration": 173,
    "start_time": "2025-01-22T02:23:28.248Z"
   },
   {
    "duration": 94,
    "start_time": "2025-01-22T02:23:28.423Z"
   },
   {
    "duration": 16,
    "start_time": "2025-01-22T02:23:28.524Z"
   },
   {
    "duration": 23,
    "start_time": "2025-01-22T02:23:28.543Z"
   },
   {
    "duration": 8,
    "start_time": "2025-01-22T02:23:28.568Z"
   },
   {
    "duration": 95,
    "start_time": "2025-01-22T02:23:28.578Z"
   },
   {
    "duration": 31,
    "start_time": "2025-01-22T02:23:28.675Z"
   },
   {
    "duration": 27,
    "start_time": "2025-01-22T02:23:28.707Z"
   },
   {
    "duration": 47,
    "start_time": "2025-01-22T02:23:28.736Z"
   },
   {
    "duration": 14,
    "start_time": "2025-01-22T02:23:28.785Z"
   },
   {
    "duration": 26,
    "start_time": "2025-01-22T02:23:28.801Z"
   },
   {
    "duration": 26,
    "start_time": "2025-01-22T02:23:28.828Z"
   },
   {
    "duration": 4,
    "start_time": "2025-01-22T02:23:28.857Z"
   },
   {
    "duration": 5,
    "start_time": "2025-01-22T02:23:28.863Z"
   },
   {
    "duration": 18,
    "start_time": "2025-01-22T02:23:28.870Z"
   },
   {
    "duration": 35,
    "start_time": "2025-01-22T02:23:28.889Z"
   },
   {
    "duration": 6,
    "start_time": "2025-01-22T02:23:28.926Z"
   },
   {
    "duration": 7,
    "start_time": "2025-01-22T02:23:28.934Z"
   },
   {
    "duration": 7,
    "start_time": "2025-01-22T02:23:28.943Z"
   },
   {
    "duration": 4,
    "start_time": "2025-01-22T02:23:28.951Z"
   },
   {
    "duration": 7,
    "start_time": "2025-01-22T02:23:28.956Z"
   },
   {
    "duration": 10,
    "start_time": "2025-01-22T02:23:38.177Z"
   },
   {
    "duration": 754,
    "start_time": "2025-01-22T02:24:20.803Z"
   },
   {
    "duration": 167,
    "start_time": "2025-01-22T02:24:21.560Z"
   },
   {
    "duration": 101,
    "start_time": "2025-01-22T02:24:21.728Z"
   },
   {
    "duration": 17,
    "start_time": "2025-01-22T02:24:21.832Z"
   },
   {
    "duration": 22,
    "start_time": "2025-01-22T02:24:21.850Z"
   },
   {
    "duration": 16,
    "start_time": "2025-01-22T02:24:21.874Z"
   },
   {
    "duration": 99,
    "start_time": "2025-01-22T02:24:21.892Z"
   },
   {
    "duration": 34,
    "start_time": "2025-01-22T02:24:21.992Z"
   },
   {
    "duration": 10,
    "start_time": "2025-01-22T02:24:22.028Z"
   },
   {
    "duration": 48,
    "start_time": "2025-01-22T02:24:22.041Z"
   },
   {
    "duration": 35,
    "start_time": "2025-01-22T02:24:22.090Z"
   },
   {
    "duration": 9,
    "start_time": "2025-01-22T02:24:22.127Z"
   },
   {
    "duration": 26,
    "start_time": "2025-01-22T02:24:22.139Z"
   },
   {
    "duration": 5,
    "start_time": "2025-01-22T02:24:22.166Z"
   },
   {
    "duration": 5,
    "start_time": "2025-01-22T02:24:22.172Z"
   },
   {
    "duration": 46,
    "start_time": "2025-01-22T02:24:22.178Z"
   },
   {
    "duration": 5,
    "start_time": "2025-01-22T02:24:22.226Z"
   },
   {
    "duration": 4,
    "start_time": "2025-01-22T02:24:22.232Z"
   },
   {
    "duration": 9,
    "start_time": "2025-01-22T02:24:22.240Z"
   },
   {
    "duration": 9,
    "start_time": "2025-01-22T02:24:22.251Z"
   },
   {
    "duration": 14,
    "start_time": "2025-01-22T02:24:22.262Z"
   },
   {
    "duration": 13,
    "start_time": "2025-01-22T02:24:22.278Z"
   },
   {
    "duration": 33,
    "start_time": "2025-01-22T02:24:22.293Z"
   },
   {
    "duration": 7,
    "start_time": "2025-01-22T02:24:22.328Z"
   },
   {
    "duration": 13,
    "start_time": "2025-01-22T02:24:22.337Z"
   },
   {
    "duration": 12,
    "start_time": "2025-01-22T02:24:22.351Z"
   },
   {
    "duration": 5,
    "start_time": "2025-01-22T02:24:22.364Z"
   },
   {
    "duration": 56,
    "start_time": "2025-01-22T02:24:22.373Z"
   },
   {
    "duration": 10,
    "start_time": "2025-01-22T02:24:22.431Z"
   },
   {
    "duration": 12,
    "start_time": "2025-01-22T02:24:22.442Z"
   },
   {
    "duration": 6,
    "start_time": "2025-01-22T02:24:22.455Z"
   },
   {
    "duration": 9,
    "start_time": "2025-01-22T02:24:22.463Z"
   },
   {
    "duration": 14,
    "start_time": "2025-01-22T02:24:22.473Z"
   },
   {
    "duration": 44,
    "start_time": "2025-01-22T02:24:22.488Z"
   },
   {
    "duration": 11,
    "start_time": "2025-01-22T02:24:22.534Z"
   },
   {
    "duration": 13,
    "start_time": "2025-01-22T02:24:22.546Z"
   },
   {
    "duration": 6,
    "start_time": "2025-01-22T02:24:22.561Z"
   },
   {
    "duration": 11,
    "start_time": "2025-01-22T02:24:22.569Z"
   },
   {
    "duration": 67,
    "start_time": "2025-01-22T02:24:22.582Z"
   },
   {
    "duration": 14,
    "start_time": "2025-01-22T02:24:22.651Z"
   },
   {
    "duration": 8,
    "start_time": "2025-01-22T02:24:22.667Z"
   },
   {
    "duration": 17,
    "start_time": "2025-01-22T02:24:22.677Z"
   },
   {
    "duration": 31,
    "start_time": "2025-01-22T02:24:22.696Z"
   },
   {
    "duration": 17,
    "start_time": "2025-01-22T02:24:22.728Z"
   },
   {
    "duration": 13,
    "start_time": "2025-01-22T02:24:22.747Z"
   },
   {
    "duration": 12,
    "start_time": "2025-01-22T02:24:22.761Z"
   },
   {
    "duration": 12,
    "start_time": "2025-01-22T02:24:22.774Z"
   },
   {
    "duration": 51,
    "start_time": "2025-01-22T02:24:22.788Z"
   },
   {
    "duration": 21,
    "start_time": "2025-01-22T02:24:22.841Z"
   },
   {
    "duration": 26,
    "start_time": "2025-01-22T02:24:22.863Z"
   },
   {
    "duration": 2,
    "start_time": "2025-01-22T02:24:22.891Z"
   },
   {
    "duration": 29,
    "start_time": "2025-01-22T02:24:22.895Z"
   },
   {
    "duration": 2,
    "start_time": "2025-01-22T02:24:22.926Z"
   },
   {
    "duration": 3,
    "start_time": "2025-01-22T02:24:22.930Z"
   },
   {
    "duration": 4,
    "start_time": "2025-01-22T02:24:22.934Z"
   },
   {
    "duration": 3,
    "start_time": "2025-01-22T02:24:22.939Z"
   },
   {
    "duration": 2,
    "start_time": "2025-01-22T02:24:22.944Z"
   },
   {
    "duration": 3,
    "start_time": "2025-01-22T02:24:22.948Z"
   },
   {
    "duration": 2,
    "start_time": "2025-01-22T02:24:22.953Z"
   },
   {
    "duration": 804,
    "start_time": "2025-01-22T02:30:47.551Z"
   },
   {
    "duration": 166,
    "start_time": "2025-01-22T02:30:48.357Z"
   },
   {
    "duration": 102,
    "start_time": "2025-01-22T02:30:48.525Z"
   },
   {
    "duration": 17,
    "start_time": "2025-01-22T02:30:48.630Z"
   },
   {
    "duration": 23,
    "start_time": "2025-01-22T02:30:48.648Z"
   },
   {
    "duration": 9,
    "start_time": "2025-01-22T02:30:48.673Z"
   },
   {
    "duration": 100,
    "start_time": "2025-01-22T02:30:48.684Z"
   },
   {
    "duration": 39,
    "start_time": "2025-01-22T02:30:48.785Z"
   },
   {
    "duration": 11,
    "start_time": "2025-01-22T02:30:48.825Z"
   },
   {
    "duration": 47,
    "start_time": "2025-01-22T02:30:48.839Z"
   },
   {
    "duration": 16,
    "start_time": "2025-01-22T02:30:48.888Z"
   },
   {
    "duration": 28,
    "start_time": "2025-01-22T02:30:48.905Z"
   },
   {
    "duration": 27,
    "start_time": "2025-01-22T02:30:48.934Z"
   },
   {
    "duration": 6,
    "start_time": "2025-01-22T02:30:48.963Z"
   },
   {
    "duration": 5,
    "start_time": "2025-01-22T02:30:48.971Z"
   },
   {
    "duration": 50,
    "start_time": "2025-01-22T02:30:48.978Z"
   },
   {
    "duration": 4,
    "start_time": "2025-01-22T02:30:49.031Z"
   },
   {
    "duration": 6,
    "start_time": "2025-01-22T02:30:49.037Z"
   },
   {
    "duration": 8,
    "start_time": "2025-01-22T02:30:49.044Z"
   },
   {
    "duration": 7,
    "start_time": "2025-01-22T02:30:49.054Z"
   },
   {
    "duration": 4,
    "start_time": "2025-01-22T02:30:49.063Z"
   },
   {
    "duration": 9,
    "start_time": "2025-01-22T02:30:49.069Z"
   },
   {
    "duration": 49,
    "start_time": "2025-01-22T02:30:49.080Z"
   },
   {
    "duration": 8,
    "start_time": "2025-01-22T02:30:49.131Z"
   },
   {
    "duration": 13,
    "start_time": "2025-01-22T02:30:49.141Z"
   },
   {
    "duration": 12,
    "start_time": "2025-01-22T02:30:49.155Z"
   },
   {
    "duration": 5,
    "start_time": "2025-01-22T02:30:49.168Z"
   },
   {
    "duration": 61,
    "start_time": "2025-01-22T02:30:49.178Z"
   },
   {
    "duration": 10,
    "start_time": "2025-01-22T02:30:49.240Z"
   },
   {
    "duration": 10,
    "start_time": "2025-01-22T02:30:49.252Z"
   },
   {
    "duration": 5,
    "start_time": "2025-01-22T02:30:49.264Z"
   },
   {
    "duration": 10,
    "start_time": "2025-01-22T02:30:49.271Z"
   },
   {
    "duration": 43,
    "start_time": "2025-01-22T02:30:49.283Z"
   },
   {
    "duration": 12,
    "start_time": "2025-01-22T02:30:49.328Z"
   },
   {
    "duration": 13,
    "start_time": "2025-01-22T02:30:49.341Z"
   },
   {
    "duration": 14,
    "start_time": "2025-01-22T02:30:49.355Z"
   },
   {
    "duration": 6,
    "start_time": "2025-01-22T02:30:49.371Z"
   },
   {
    "duration": 10,
    "start_time": "2025-01-22T02:30:49.379Z"
   },
   {
    "duration": 63,
    "start_time": "2025-01-22T02:30:49.391Z"
   },
   {
    "duration": 14,
    "start_time": "2025-01-22T02:30:49.457Z"
   },
   {
    "duration": 9,
    "start_time": "2025-01-22T02:30:49.473Z"
   },
   {
    "duration": 42,
    "start_time": "2025-01-22T02:30:49.483Z"
   },
   {
    "duration": 10,
    "start_time": "2025-01-22T02:30:49.527Z"
   },
   {
    "duration": 17,
    "start_time": "2025-01-22T02:30:49.539Z"
   },
   {
    "duration": 14,
    "start_time": "2025-01-22T02:30:49.558Z"
   },
   {
    "duration": 12,
    "start_time": "2025-01-22T02:30:49.573Z"
   },
   {
    "duration": 47,
    "start_time": "2025-01-22T02:30:49.587Z"
   },
   {
    "duration": 22,
    "start_time": "2025-01-22T02:30:49.637Z"
   },
   {
    "duration": 20,
    "start_time": "2025-01-22T02:30:49.660Z"
   },
   {
    "duration": 13,
    "start_time": "2025-01-22T02:30:49.681Z"
   },
   {
    "duration": 30,
    "start_time": "2025-01-22T02:31:50.311Z"
   },
   {
    "duration": 26,
    "start_time": "2025-01-22T02:32:36.804Z"
   },
   {
    "duration": 70,
    "start_time": "2025-01-22T02:37:57.600Z"
   },
   {
    "duration": 730,
    "start_time": "2025-01-22T02:38:28.420Z"
   },
   {
    "duration": 167,
    "start_time": "2025-01-22T02:38:29.153Z"
   },
   {
    "duration": 103,
    "start_time": "2025-01-22T02:38:29.322Z"
   },
   {
    "duration": 16,
    "start_time": "2025-01-22T02:38:29.427Z"
   },
   {
    "duration": 23,
    "start_time": "2025-01-22T02:38:29.446Z"
   },
   {
    "duration": 10,
    "start_time": "2025-01-22T02:38:29.470Z"
   },
   {
    "duration": 99,
    "start_time": "2025-01-22T02:38:29.481Z"
   },
   {
    "duration": 29,
    "start_time": "2025-01-22T02:38:29.582Z"
   },
   {
    "duration": 10,
    "start_time": "2025-01-22T02:38:29.625Z"
   },
   {
    "duration": 48,
    "start_time": "2025-01-22T02:38:29.638Z"
   },
   {
    "duration": 14,
    "start_time": "2025-01-22T02:38:29.687Z"
   },
   {
    "duration": 25,
    "start_time": "2025-01-22T02:38:29.703Z"
   },
   {
    "duration": 32,
    "start_time": "2025-01-22T02:38:29.730Z"
   },
   {
    "duration": 5,
    "start_time": "2025-01-22T02:38:29.767Z"
   },
   {
    "duration": 7,
    "start_time": "2025-01-22T02:38:29.774Z"
   },
   {
    "duration": 49,
    "start_time": "2025-01-22T02:38:29.784Z"
   },
   {
    "duration": 7,
    "start_time": "2025-01-22T02:38:29.835Z"
   },
   {
    "duration": 6,
    "start_time": "2025-01-22T02:38:29.844Z"
   },
   {
    "duration": 8,
    "start_time": "2025-01-22T02:38:29.852Z"
   },
   {
    "duration": 7,
    "start_time": "2025-01-22T02:38:29.862Z"
   },
   {
    "duration": 4,
    "start_time": "2025-01-22T02:38:29.870Z"
   },
   {
    "duration": 9,
    "start_time": "2025-01-22T02:38:29.876Z"
   },
   {
    "duration": 42,
    "start_time": "2025-01-22T02:38:29.887Z"
   },
   {
    "duration": 7,
    "start_time": "2025-01-22T02:38:29.931Z"
   },
   {
    "duration": 14,
    "start_time": "2025-01-22T02:38:29.940Z"
   },
   {
    "duration": 12,
    "start_time": "2025-01-22T02:38:29.956Z"
   },
   {
    "duration": 4,
    "start_time": "2025-01-22T02:38:29.969Z"
   },
   {
    "duration": 60,
    "start_time": "2025-01-22T02:38:29.975Z"
   },
   {
    "duration": 10,
    "start_time": "2025-01-22T02:38:30.037Z"
   },
   {
    "duration": 11,
    "start_time": "2025-01-22T02:38:30.049Z"
   },
   {
    "duration": 6,
    "start_time": "2025-01-22T02:38:30.061Z"
   },
   {
    "duration": 9,
    "start_time": "2025-01-22T02:38:30.068Z"
   },
   {
    "duration": 46,
    "start_time": "2025-01-22T02:38:30.078Z"
   },
   {
    "duration": 11,
    "start_time": "2025-01-22T02:38:30.125Z"
   },
   {
    "duration": 11,
    "start_time": "2025-01-22T02:38:30.138Z"
   },
   {
    "duration": 13,
    "start_time": "2025-01-22T02:38:30.151Z"
   },
   {
    "duration": 7,
    "start_time": "2025-01-22T02:38:30.165Z"
   },
   {
    "duration": 11,
    "start_time": "2025-01-22T02:38:30.174Z"
   },
   {
    "duration": 68,
    "start_time": "2025-01-22T02:38:30.187Z"
   },
   {
    "duration": 14,
    "start_time": "2025-01-22T02:38:30.257Z"
   },
   {
    "duration": 8,
    "start_time": "2025-01-22T02:38:30.276Z"
   },
   {
    "duration": 39,
    "start_time": "2025-01-22T02:38:30.286Z"
   },
   {
    "duration": 10,
    "start_time": "2025-01-22T02:38:30.327Z"
   },
   {
    "duration": 17,
    "start_time": "2025-01-22T02:38:30.339Z"
   },
   {
    "duration": 12,
    "start_time": "2025-01-22T02:38:30.358Z"
   },
   {
    "duration": 12,
    "start_time": "2025-01-22T02:38:30.371Z"
   },
   {
    "duration": 51,
    "start_time": "2025-01-22T02:38:30.384Z"
   },
   {
    "duration": 24,
    "start_time": "2025-01-22T02:38:30.436Z"
   },
   {
    "duration": 19,
    "start_time": "2025-01-22T02:38:30.461Z"
   },
   {
    "duration": 13,
    "start_time": "2025-01-22T02:38:30.481Z"
   },
   {
    "duration": 44,
    "start_time": "2025-01-22T02:38:30.496Z"
   },
   {
    "duration": 2,
    "start_time": "2025-01-22T02:38:30.542Z"
   },
   {
    "duration": 3,
    "start_time": "2025-01-22T02:38:30.545Z"
   },
   {
    "duration": 4,
    "start_time": "2025-01-22T02:38:30.550Z"
   },
   {
    "duration": 4,
    "start_time": "2025-01-22T02:38:30.555Z"
   },
   {
    "duration": 2,
    "start_time": "2025-01-22T02:38:30.561Z"
   },
   {
    "duration": 3,
    "start_time": "2025-01-22T02:38:30.565Z"
   },
   {
    "duration": 3,
    "start_time": "2025-01-22T02:38:30.569Z"
   },
   {
    "duration": 3,
    "start_time": "2025-01-22T02:38:30.573Z"
   },
   {
    "duration": 25,
    "start_time": "2025-01-22T02:42:30.228Z"
   },
   {
    "duration": 264,
    "start_time": "2025-01-22T02:43:37.581Z"
   },
   {
    "duration": 24,
    "start_time": "2025-01-22T02:43:55.141Z"
   },
   {
    "duration": 8,
    "start_time": "2025-01-22T02:44:18.029Z"
   },
   {
    "duration": 25,
    "start_time": "2025-01-22T02:44:55.192Z"
   },
   {
    "duration": 2577,
    "start_time": "2025-01-22T23:49:37.473Z"
   },
   {
    "duration": 215,
    "start_time": "2025-01-22T23:49:40.053Z"
   },
   {
    "duration": 103,
    "start_time": "2025-01-22T23:49:40.270Z"
   },
   {
    "duration": 17,
    "start_time": "2025-01-22T23:49:40.375Z"
   },
   {
    "duration": 22,
    "start_time": "2025-01-22T23:49:40.395Z"
   },
   {
    "duration": 25,
    "start_time": "2025-01-22T23:49:40.418Z"
   },
   {
    "duration": 86,
    "start_time": "2025-01-22T23:49:40.445Z"
   },
   {
    "duration": 48,
    "start_time": "2025-01-22T23:49:40.532Z"
   },
   {
    "duration": 12,
    "start_time": "2025-01-22T23:49:40.581Z"
   },
   {
    "duration": 72,
    "start_time": "2025-01-22T23:49:40.596Z"
   },
   {
    "duration": 15,
    "start_time": "2025-01-22T23:49:40.670Z"
   },
   {
    "duration": 11,
    "start_time": "2025-01-22T23:49:40.687Z"
   },
   {
    "duration": 44,
    "start_time": "2025-01-22T23:49:40.699Z"
   },
   {
    "duration": 5,
    "start_time": "2025-01-22T23:49:40.745Z"
   },
   {
    "duration": 7,
    "start_time": "2025-01-22T23:49:40.753Z"
   },
   {
    "duration": 18,
    "start_time": "2025-01-22T23:49:40.762Z"
   },
   {
    "duration": 5,
    "start_time": "2025-01-22T23:49:40.781Z"
   },
   {
    "duration": 6,
    "start_time": "2025-01-22T23:49:40.788Z"
   },
   {
    "duration": 8,
    "start_time": "2025-01-22T23:49:40.795Z"
   },
   {
    "duration": 9,
    "start_time": "2025-01-22T23:49:40.844Z"
   },
   {
    "duration": 5,
    "start_time": "2025-01-22T23:49:40.855Z"
   },
   {
    "duration": 10,
    "start_time": "2025-01-22T23:49:40.862Z"
   },
   {
    "duration": 9,
    "start_time": "2025-01-22T23:49:40.874Z"
   },
   {
    "duration": 9,
    "start_time": "2025-01-22T23:49:40.886Z"
   },
   {
    "duration": 53,
    "start_time": "2025-01-22T23:49:40.897Z"
   },
   {
    "duration": 13,
    "start_time": "2025-01-22T23:49:40.952Z"
   },
   {
    "duration": 4,
    "start_time": "2025-01-22T23:49:40.968Z"
   },
   {
    "duration": 24,
    "start_time": "2025-01-22T23:49:40.976Z"
   },
   {
    "duration": 10,
    "start_time": "2025-01-22T23:49:41.003Z"
   },
   {
    "duration": 40,
    "start_time": "2025-01-22T23:49:41.015Z"
   },
   {
    "duration": 7,
    "start_time": "2025-01-22T23:49:41.057Z"
   },
   {
    "duration": 11,
    "start_time": "2025-01-22T23:49:41.065Z"
   },
   {
    "duration": 16,
    "start_time": "2025-01-22T23:49:41.078Z"
   },
   {
    "duration": 48,
    "start_time": "2025-01-22T23:49:41.096Z"
   },
   {
    "duration": 14,
    "start_time": "2025-01-22T23:49:41.147Z"
   },
   {
    "duration": 15,
    "start_time": "2025-01-22T23:49:41.162Z"
   },
   {
    "duration": 6,
    "start_time": "2025-01-22T23:49:41.179Z"
   },
   {
    "duration": 10,
    "start_time": "2025-01-22T23:49:41.187Z"
   },
   {
    "duration": 67,
    "start_time": "2025-01-22T23:49:41.199Z"
   },
   {
    "duration": 17,
    "start_time": "2025-01-22T23:49:41.269Z"
   },
   {
    "duration": 9,
    "start_time": "2025-01-22T23:49:41.288Z"
   },
   {
    "duration": 21,
    "start_time": "2025-01-22T23:49:41.299Z"
   },
   {
    "duration": 13,
    "start_time": "2025-01-22T23:49:41.342Z"
   },
   {
    "duration": 18,
    "start_time": "2025-01-22T23:49:41.357Z"
   },
   {
    "duration": 13,
    "start_time": "2025-01-22T23:49:41.377Z"
   },
   {
    "duration": 11,
    "start_time": "2025-01-22T23:49:41.392Z"
   },
   {
    "duration": 41,
    "start_time": "2025-01-22T23:49:41.405Z"
   },
   {
    "duration": 28,
    "start_time": "2025-01-22T23:49:41.448Z"
   },
   {
    "duration": 20,
    "start_time": "2025-01-22T23:49:41.479Z"
   },
   {
    "duration": 43,
    "start_time": "2025-01-22T23:49:41.500Z"
   },
   {
    "duration": 27,
    "start_time": "2025-01-22T23:49:41.544Z"
   },
   {
    "duration": 563,
    "start_time": "2025-01-22T23:50:02.457Z"
   },
   {
    "duration": 40,
    "start_time": "2025-01-22T23:50:47.609Z"
   },
   {
    "duration": 2,
    "start_time": "2025-01-22T23:51:07.158Z"
   },
   {
    "duration": 15,
    "start_time": "2025-01-23T00:12:37.494Z"
   },
   {
    "duration": 82,
    "start_time": "2025-01-23T00:12:55.824Z"
   },
   {
    "duration": 22,
    "start_time": "2025-01-23T00:14:43.257Z"
   },
   {
    "duration": 20,
    "start_time": "2025-01-23T00:15:17.580Z"
   },
   {
    "duration": 15,
    "start_time": "2025-01-23T00:15:52.226Z"
   },
   {
    "duration": 13,
    "start_time": "2025-01-23T00:16:56.657Z"
   },
   {
    "duration": 779,
    "start_time": "2025-01-23T00:19:46.696Z"
   },
   {
    "duration": 172,
    "start_time": "2025-01-23T00:19:47.478Z"
   },
   {
    "duration": 103,
    "start_time": "2025-01-23T00:19:47.652Z"
   },
   {
    "duration": 18,
    "start_time": "2025-01-23T00:19:47.757Z"
   },
   {
    "duration": 24,
    "start_time": "2025-01-23T00:19:47.777Z"
   },
   {
    "duration": 9,
    "start_time": "2025-01-23T00:19:47.803Z"
   },
   {
    "duration": 99,
    "start_time": "2025-01-23T00:19:47.814Z"
   },
   {
    "duration": 43,
    "start_time": "2025-01-23T00:19:47.915Z"
   },
   {
    "duration": 10,
    "start_time": "2025-01-23T00:19:47.960Z"
   },
   {
    "duration": 50,
    "start_time": "2025-01-23T00:19:47.973Z"
   },
   {
    "duration": 30,
    "start_time": "2025-01-23T00:19:48.025Z"
   },
   {
    "duration": 11,
    "start_time": "2025-01-23T00:19:48.057Z"
   },
   {
    "duration": 26,
    "start_time": "2025-01-23T00:19:48.070Z"
   },
   {
    "duration": 5,
    "start_time": "2025-01-23T00:19:48.098Z"
   },
   {
    "duration": 5,
    "start_time": "2025-01-23T00:19:48.104Z"
   },
   {
    "duration": 51,
    "start_time": "2025-01-23T00:19:48.111Z"
   },
   {
    "duration": 5,
    "start_time": "2025-01-23T00:19:48.164Z"
   },
   {
    "duration": 5,
    "start_time": "2025-01-23T00:19:48.171Z"
   },
   {
    "duration": 8,
    "start_time": "2025-01-23T00:19:48.177Z"
   },
   {
    "duration": 6,
    "start_time": "2025-01-23T00:19:48.187Z"
   },
   {
    "duration": 5,
    "start_time": "2025-01-23T00:19:48.195Z"
   },
   {
    "duration": 42,
    "start_time": "2025-01-23T00:19:48.202Z"
   },
   {
    "duration": 8,
    "start_time": "2025-01-23T00:19:48.245Z"
   },
   {
    "duration": 9,
    "start_time": "2025-01-23T00:19:48.256Z"
   },
   {
    "duration": 14,
    "start_time": "2025-01-23T00:19:48.267Z"
   },
   {
    "duration": 11,
    "start_time": "2025-01-23T00:19:48.283Z"
   },
   {
    "duration": 4,
    "start_time": "2025-01-23T00:19:48.296Z"
   },
   {
    "duration": 59,
    "start_time": "2025-01-23T00:19:48.304Z"
   },
   {
    "duration": 10,
    "start_time": "2025-01-23T00:19:48.364Z"
   },
   {
    "duration": 11,
    "start_time": "2025-01-23T00:19:48.376Z"
   },
   {
    "duration": 5,
    "start_time": "2025-01-23T00:19:48.388Z"
   },
   {
    "duration": 8,
    "start_time": "2025-01-23T00:19:48.395Z"
   },
   {
    "duration": 42,
    "start_time": "2025-01-23T00:19:48.405Z"
   },
   {
    "duration": 12,
    "start_time": "2025-01-23T00:19:48.449Z"
   },
   {
    "duration": 12,
    "start_time": "2025-01-23T00:19:48.463Z"
   },
   {
    "duration": 12,
    "start_time": "2025-01-23T00:19:48.477Z"
   },
   {
    "duration": 7,
    "start_time": "2025-01-23T00:19:48.491Z"
   },
   {
    "duration": 44,
    "start_time": "2025-01-23T00:19:48.500Z"
   },
   {
    "duration": 36,
    "start_time": "2025-01-23T00:19:48.545Z"
   },
   {
    "duration": 14,
    "start_time": "2025-01-23T00:19:48.582Z"
   },
   {
    "duration": 9,
    "start_time": "2025-01-23T00:19:48.597Z"
   },
   {
    "duration": 38,
    "start_time": "2025-01-23T00:19:48.607Z"
   },
   {
    "duration": 10,
    "start_time": "2025-01-23T00:19:48.646Z"
   },
   {
    "duration": 17,
    "start_time": "2025-01-23T00:19:48.657Z"
   },
   {
    "duration": 12,
    "start_time": "2025-01-23T00:19:48.675Z"
   },
   {
    "duration": 12,
    "start_time": "2025-01-23T00:19:48.689Z"
   },
   {
    "duration": 42,
    "start_time": "2025-01-23T00:19:48.703Z"
   },
   {
    "duration": 25,
    "start_time": "2025-01-23T00:19:48.746Z"
   },
   {
    "duration": 273,
    "start_time": "2025-01-23T00:19:48.773Z"
   },
   {
    "duration": 0,
    "start_time": "2025-01-23T00:19:49.048Z"
   },
   {
    "duration": 0,
    "start_time": "2025-01-23T00:19:49.051Z"
   },
   {
    "duration": 0,
    "start_time": "2025-01-23T00:19:49.052Z"
   },
   {
    "duration": 0,
    "start_time": "2025-01-23T00:19:49.053Z"
   },
   {
    "duration": 0,
    "start_time": "2025-01-23T00:19:49.055Z"
   },
   {
    "duration": 0,
    "start_time": "2025-01-23T00:19:49.057Z"
   },
   {
    "duration": 0,
    "start_time": "2025-01-23T00:19:49.058Z"
   },
   {
    "duration": 0,
    "start_time": "2025-01-23T00:19:49.059Z"
   },
   {
    "duration": 0,
    "start_time": "2025-01-23T00:19:49.061Z"
   },
   {
    "duration": 0,
    "start_time": "2025-01-23T00:19:49.062Z"
   },
   {
    "duration": 0,
    "start_time": "2025-01-23T00:19:49.064Z"
   },
   {
    "duration": 21,
    "start_time": "2025-01-23T00:21:42.493Z"
   },
   {
    "duration": 15,
    "start_time": "2025-01-23T00:25:17.895Z"
   },
   {
    "duration": 15,
    "start_time": "2025-01-23T00:25:58.988Z"
   },
   {
    "duration": 14,
    "start_time": "2025-01-23T00:26:08.933Z"
   },
   {
    "duration": 19,
    "start_time": "2025-01-23T00:26:20.321Z"
   },
   {
    "duration": 18,
    "start_time": "2025-01-23T00:43:44.828Z"
   },
   {
    "duration": 14,
    "start_time": "2025-01-23T00:48:34.524Z"
   },
   {
    "duration": 569,
    "start_time": "2025-01-23T00:53:11.556Z"
   },
   {
    "duration": 77,
    "start_time": "2025-01-23T01:17:49.150Z"
   },
   {
    "duration": 18,
    "start_time": "2025-01-23T01:18:35.606Z"
   },
   {
    "duration": 120,
    "start_time": "2025-01-23T01:18:49.341Z"
   },
   {
    "duration": 74,
    "start_time": "2025-01-23T01:19:46.858Z"
   },
   {
    "duration": 73,
    "start_time": "2025-01-23T01:24:45.062Z"
   },
   {
    "duration": 8,
    "start_time": "2025-01-23T01:28:07.029Z"
   },
   {
    "duration": 75,
    "start_time": "2025-01-23T01:33:55.193Z"
   },
   {
    "duration": 772,
    "start_time": "2025-01-23T01:39:55.000Z"
   },
   {
    "duration": 171,
    "start_time": "2025-01-23T01:39:55.775Z"
   },
   {
    "duration": 105,
    "start_time": "2025-01-23T01:39:55.948Z"
   },
   {
    "duration": 23,
    "start_time": "2025-01-23T01:39:56.054Z"
   },
   {
    "duration": 29,
    "start_time": "2025-01-23T01:39:56.080Z"
   },
   {
    "duration": 33,
    "start_time": "2025-01-23T01:39:56.111Z"
   },
   {
    "duration": 74,
    "start_time": "2025-01-23T01:39:56.146Z"
   },
   {
    "duration": 42,
    "start_time": "2025-01-23T01:39:56.222Z"
   },
   {
    "duration": 11,
    "start_time": "2025-01-23T01:39:56.266Z"
   },
   {
    "duration": 48,
    "start_time": "2025-01-23T01:39:56.278Z"
   },
   {
    "duration": 27,
    "start_time": "2025-01-23T01:39:56.328Z"
   },
   {
    "duration": 8,
    "start_time": "2025-01-23T01:39:56.357Z"
   },
   {
    "duration": 29,
    "start_time": "2025-01-23T01:39:56.367Z"
   },
   {
    "duration": 5,
    "start_time": "2025-01-23T01:39:56.400Z"
   },
   {
    "duration": 36,
    "start_time": "2025-01-23T01:39:56.407Z"
   },
   {
    "duration": 18,
    "start_time": "2025-01-23T01:39:56.444Z"
   },
   {
    "duration": 5,
    "start_time": "2025-01-23T01:39:56.464Z"
   },
   {
    "duration": 5,
    "start_time": "2025-01-23T01:39:56.471Z"
   },
   {
    "duration": 9,
    "start_time": "2025-01-23T01:39:56.477Z"
   },
   {
    "duration": 8,
    "start_time": "2025-01-23T01:39:56.487Z"
   },
   {
    "duration": 4,
    "start_time": "2025-01-23T01:39:56.496Z"
   },
   {
    "duration": 49,
    "start_time": "2025-01-23T01:39:56.501Z"
   },
   {
    "duration": 7,
    "start_time": "2025-01-23T01:39:56.551Z"
   },
   {
    "duration": 7,
    "start_time": "2025-01-23T01:39:56.560Z"
   },
   {
    "duration": 15,
    "start_time": "2025-01-23T01:39:56.569Z"
   },
   {
    "duration": 13,
    "start_time": "2025-01-23T01:39:56.586Z"
   },
   {
    "duration": 4,
    "start_time": "2025-01-23T01:39:56.601Z"
   },
   {
    "duration": 63,
    "start_time": "2025-01-23T01:39:56.607Z"
   },
   {
    "duration": 13,
    "start_time": "2025-01-23T01:39:56.672Z"
   },
   {
    "duration": 12,
    "start_time": "2025-01-23T01:39:56.688Z"
   },
   {
    "duration": 6,
    "start_time": "2025-01-23T01:39:56.702Z"
   },
   {
    "duration": 39,
    "start_time": "2025-01-23T01:39:56.710Z"
   },
   {
    "duration": 15,
    "start_time": "2025-01-23T01:39:56.751Z"
   },
   {
    "duration": 12,
    "start_time": "2025-01-23T01:39:56.768Z"
   },
   {
    "duration": 11,
    "start_time": "2025-01-23T01:39:56.781Z"
   },
   {
    "duration": 12,
    "start_time": "2025-01-23T01:39:56.794Z"
   },
   {
    "duration": 6,
    "start_time": "2025-01-23T01:39:56.807Z"
   },
   {
    "duration": 10,
    "start_time": "2025-01-23T01:39:56.843Z"
   },
   {
    "duration": 34,
    "start_time": "2025-01-23T01:39:56.855Z"
   },
   {
    "duration": 14,
    "start_time": "2025-01-23T01:39:56.890Z"
   },
   {
    "duration": 47,
    "start_time": "2025-01-23T01:39:56.909Z"
   },
   {
    "duration": 19,
    "start_time": "2025-01-23T01:39:56.957Z"
   },
   {
    "duration": 11,
    "start_time": "2025-01-23T01:39:56.978Z"
   },
   {
    "duration": 18,
    "start_time": "2025-01-23T01:39:56.991Z"
   },
   {
    "duration": 13,
    "start_time": "2025-01-23T01:39:57.010Z"
   },
   {
    "duration": 12,
    "start_time": "2025-01-23T01:39:57.044Z"
   },
   {
    "duration": 16,
    "start_time": "2025-01-23T01:39:57.058Z"
   },
   {
    "duration": 22,
    "start_time": "2025-01-23T01:39:57.076Z"
   },
   {
    "duration": 15,
    "start_time": "2025-01-23T01:39:57.100Z"
   },
   {
    "duration": 833,
    "start_time": "2025-01-23T01:39:57.144Z"
   },
   {
    "duration": 0,
    "start_time": "2025-01-23T01:39:57.978Z"
   },
   {
    "duration": 0,
    "start_time": "2025-01-23T01:39:57.979Z"
   },
   {
    "duration": 0,
    "start_time": "2025-01-23T01:39:57.980Z"
   },
   {
    "duration": 0,
    "start_time": "2025-01-23T01:39:57.981Z"
   },
   {
    "duration": 0,
    "start_time": "2025-01-23T01:39:57.982Z"
   },
   {
    "duration": 0,
    "start_time": "2025-01-23T01:39:57.982Z"
   },
   {
    "duration": 0,
    "start_time": "2025-01-23T01:39:57.983Z"
   },
   {
    "duration": 0,
    "start_time": "2025-01-23T01:39:57.984Z"
   },
   {
    "duration": 36,
    "start_time": "2025-01-23T01:43:39.165Z"
   },
   {
    "duration": 26,
    "start_time": "2025-01-23T01:43:54.421Z"
   },
   {
    "duration": 5,
    "start_time": "2025-01-23T01:46:21.707Z"
   },
   {
    "duration": 20,
    "start_time": "2025-01-23T01:47:24.259Z"
   },
   {
    "duration": 72,
    "start_time": "2025-01-23T01:47:39.088Z"
   },
   {
    "duration": 2,
    "start_time": "2025-01-23T01:49:34.300Z"
   },
   {
    "duration": 74,
    "start_time": "2025-01-23T01:53:10.401Z"
   },
   {
    "duration": 2,
    "start_time": "2025-01-23T01:59:50.842Z"
   },
   {
    "duration": 805,
    "start_time": "2025-01-23T02:11:10.147Z"
   },
   {
    "duration": 172,
    "start_time": "2025-01-23T02:11:10.956Z"
   },
   {
    "duration": 101,
    "start_time": "2025-01-23T02:11:11.129Z"
   },
   {
    "duration": 18,
    "start_time": "2025-01-23T02:11:11.232Z"
   },
   {
    "duration": 26,
    "start_time": "2025-01-23T02:11:11.252Z"
   },
   {
    "duration": 9,
    "start_time": "2025-01-23T02:11:11.280Z"
   },
   {
    "duration": 100,
    "start_time": "2025-01-23T02:11:11.291Z"
   },
   {
    "duration": 29,
    "start_time": "2025-01-23T02:11:11.393Z"
   },
   {
    "duration": 22,
    "start_time": "2025-01-23T02:11:11.424Z"
   },
   {
    "duration": 49,
    "start_time": "2025-01-23T02:11:11.448Z"
   },
   {
    "duration": 18,
    "start_time": "2025-01-23T02:11:11.498Z"
   },
   {
    "duration": 30,
    "start_time": "2025-01-23T02:11:11.518Z"
   },
   {
    "duration": 26,
    "start_time": "2025-01-23T02:11:11.550Z"
   },
   {
    "duration": 5,
    "start_time": "2025-01-23T02:11:11.580Z"
   },
   {
    "duration": 4,
    "start_time": "2025-01-23T02:11:11.586Z"
   },
   {
    "duration": 19,
    "start_time": "2025-01-23T02:11:11.592Z"
   },
   {
    "duration": 34,
    "start_time": "2025-01-23T02:11:11.613Z"
   },
   {
    "duration": 5,
    "start_time": "2025-01-23T02:11:11.648Z"
   },
   {
    "duration": 9,
    "start_time": "2025-01-23T02:11:11.655Z"
   },
   {
    "duration": 7,
    "start_time": "2025-01-23T02:11:11.666Z"
   },
   {
    "duration": 4,
    "start_time": "2025-01-23T02:11:11.674Z"
   },
   {
    "duration": 10,
    "start_time": "2025-01-23T02:11:11.680Z"
   },
   {
    "duration": 8,
    "start_time": "2025-01-23T02:11:11.692Z"
   },
   {
    "duration": 48,
    "start_time": "2025-01-23T02:11:11.702Z"
   },
   {
    "duration": 17,
    "start_time": "2025-01-23T02:11:11.751Z"
   },
   {
    "duration": 12,
    "start_time": "2025-01-23T02:11:11.770Z"
   },
   {
    "duration": 5,
    "start_time": "2025-01-23T02:11:11.784Z"
   },
   {
    "duration": 52,
    "start_time": "2025-01-23T02:11:11.791Z"
   },
   {
    "duration": 11,
    "start_time": "2025-01-23T02:11:11.844Z"
   },
   {
    "duration": 13,
    "start_time": "2025-01-23T02:11:11.857Z"
   },
   {
    "duration": 9,
    "start_time": "2025-01-23T02:11:11.871Z"
   },
   {
    "duration": 8,
    "start_time": "2025-01-23T02:11:11.881Z"
   },
   {
    "duration": 16,
    "start_time": "2025-01-23T02:11:11.891Z"
   },
   {
    "duration": 41,
    "start_time": "2025-01-23T02:11:11.908Z"
   },
   {
    "duration": 12,
    "start_time": "2025-01-23T02:11:11.950Z"
   },
   {
    "duration": 13,
    "start_time": "2025-01-23T02:11:11.963Z"
   },
   {
    "duration": 6,
    "start_time": "2025-01-23T02:11:11.978Z"
   },
   {
    "duration": 11,
    "start_time": "2025-01-23T02:11:11.986Z"
   },
   {
    "duration": 63,
    "start_time": "2025-01-23T02:11:11.998Z"
   },
   {
    "duration": 15,
    "start_time": "2025-01-23T02:11:12.063Z"
   },
   {
    "duration": 8,
    "start_time": "2025-01-23T02:11:12.083Z"
   },
   {
    "duration": 18,
    "start_time": "2025-01-23T02:11:12.092Z"
   },
   {
    "duration": 36,
    "start_time": "2025-01-23T02:11:12.111Z"
   },
   {
    "duration": 17,
    "start_time": "2025-01-23T02:11:12.148Z"
   },
   {
    "duration": 13,
    "start_time": "2025-01-23T02:11:12.166Z"
   },
   {
    "duration": 12,
    "start_time": "2025-01-23T02:11:12.180Z"
   },
   {
    "duration": 14,
    "start_time": "2025-01-23T02:11:12.193Z"
   },
   {
    "duration": 49,
    "start_time": "2025-01-23T02:11:12.209Z"
   },
   {
    "duration": 147,
    "start_time": "2025-01-23T02:11:12.259Z"
   },
   {
    "duration": 0,
    "start_time": "2025-01-23T02:11:12.409Z"
   },
   {
    "duration": 0,
    "start_time": "2025-01-23T02:11:12.410Z"
   },
   {
    "duration": 0,
    "start_time": "2025-01-23T02:11:12.412Z"
   },
   {
    "duration": 0,
    "start_time": "2025-01-23T02:11:12.413Z"
   },
   {
    "duration": 0,
    "start_time": "2025-01-23T02:11:12.415Z"
   },
   {
    "duration": 0,
    "start_time": "2025-01-23T02:11:12.416Z"
   },
   {
    "duration": 0,
    "start_time": "2025-01-23T02:11:12.417Z"
   },
   {
    "duration": 0,
    "start_time": "2025-01-23T02:11:12.418Z"
   },
   {
    "duration": 0,
    "start_time": "2025-01-23T02:11:12.419Z"
   },
   {
    "duration": 60,
    "start_time": "2025-01-23T02:11:49.350Z"
   },
   {
    "duration": 805,
    "start_time": "2025-01-23T02:11:56.075Z"
   },
   {
    "duration": 163,
    "start_time": "2025-01-23T02:11:56.883Z"
   },
   {
    "duration": 99,
    "start_time": "2025-01-23T02:11:57.047Z"
   },
   {
    "duration": 16,
    "start_time": "2025-01-23T02:11:57.148Z"
   },
   {
    "duration": 23,
    "start_time": "2025-01-23T02:11:57.167Z"
   },
   {
    "duration": 9,
    "start_time": "2025-01-23T02:11:57.192Z"
   },
   {
    "duration": 98,
    "start_time": "2025-01-23T02:11:57.203Z"
   },
   {
    "duration": 29,
    "start_time": "2025-01-23T02:11:57.303Z"
   },
   {
    "duration": 11,
    "start_time": "2025-01-23T02:11:57.343Z"
   },
   {
    "duration": 49,
    "start_time": "2025-01-23T02:11:57.356Z"
   },
   {
    "duration": 15,
    "start_time": "2025-01-23T02:11:57.408Z"
   },
   {
    "duration": 26,
    "start_time": "2025-01-23T02:11:57.424Z"
   },
   {
    "duration": 25,
    "start_time": "2025-01-23T02:11:57.451Z"
   },
   {
    "duration": 4,
    "start_time": "2025-01-23T02:11:57.480Z"
   },
   {
    "duration": 6,
    "start_time": "2025-01-23T02:11:57.485Z"
   },
   {
    "duration": 18,
    "start_time": "2025-01-23T02:11:57.492Z"
   },
   {
    "duration": 5,
    "start_time": "2025-01-23T02:11:57.544Z"
   },
   {
    "duration": 5,
    "start_time": "2025-01-23T02:11:57.550Z"
   },
   {
    "duration": 8,
    "start_time": "2025-01-23T02:11:57.557Z"
   },
   {
    "duration": 7,
    "start_time": "2025-01-23T02:11:57.568Z"
   },
   {
    "duration": 4,
    "start_time": "2025-01-23T02:11:57.577Z"
   },
   {
    "duration": 10,
    "start_time": "2025-01-23T02:11:57.583Z"
   },
   {
    "duration": 6,
    "start_time": "2025-01-23T02:11:57.595Z"
   },
   {
    "duration": 44,
    "start_time": "2025-01-23T02:11:57.604Z"
   },
   {
    "duration": 13,
    "start_time": "2025-01-23T02:11:57.649Z"
   },
   {
    "duration": 12,
    "start_time": "2025-01-23T02:11:57.664Z"
   },
   {
    "duration": 4,
    "start_time": "2025-01-23T02:11:57.677Z"
   },
   {
    "duration": 25,
    "start_time": "2025-01-23T02:11:57.683Z"
   },
   {
    "duration": 38,
    "start_time": "2025-01-23T02:11:57.710Z"
   },
   {
    "duration": 12,
    "start_time": "2025-01-23T02:11:57.749Z"
   },
   {
    "duration": 5,
    "start_time": "2025-01-23T02:11:57.763Z"
   },
   {
    "duration": 9,
    "start_time": "2025-01-23T02:11:57.770Z"
   },
   {
    "duration": 16,
    "start_time": "2025-01-23T02:11:57.780Z"
   },
   {
    "duration": 45,
    "start_time": "2025-01-23T02:11:57.798Z"
   },
   {
    "duration": 16,
    "start_time": "2025-01-23T02:11:57.845Z"
   },
   {
    "duration": 14,
    "start_time": "2025-01-23T02:11:57.864Z"
   },
   {
    "duration": 9,
    "start_time": "2025-01-23T02:11:57.881Z"
   },
   {
    "duration": 12,
    "start_time": "2025-01-23T02:11:57.891Z"
   },
   {
    "duration": 54,
    "start_time": "2025-01-23T02:11:57.904Z"
   },
   {
    "duration": 14,
    "start_time": "2025-01-23T02:11:57.960Z"
   },
   {
    "duration": 8,
    "start_time": "2025-01-23T02:11:57.978Z"
   },
   {
    "duration": 17,
    "start_time": "2025-01-23T02:11:57.988Z"
   },
   {
    "duration": 10,
    "start_time": "2025-01-23T02:11:58.007Z"
   },
   {
    "duration": 16,
    "start_time": "2025-01-23T02:11:58.043Z"
   },
   {
    "duration": 12,
    "start_time": "2025-01-23T02:11:58.061Z"
   },
   {
    "duration": 11,
    "start_time": "2025-01-23T02:11:58.075Z"
   },
   {
    "duration": 13,
    "start_time": "2025-01-23T02:11:58.088Z"
   },
   {
    "duration": 51,
    "start_time": "2025-01-23T02:11:58.102Z"
   },
   {
    "duration": 27,
    "start_time": "2025-01-23T02:11:58.155Z"
   },
   {
    "duration": 2,
    "start_time": "2025-01-23T02:11:58.183Z"
   },
   {
    "duration": 2,
    "start_time": "2025-01-23T02:11:58.188Z"
   },
   {
    "duration": 3,
    "start_time": "2025-01-23T02:11:58.192Z"
   },
   {
    "duration": 2,
    "start_time": "2025-01-23T02:11:58.198Z"
   },
   {
    "duration": 3,
    "start_time": "2025-01-23T02:11:58.202Z"
   },
   {
    "duration": 4,
    "start_time": "2025-01-23T02:11:58.206Z"
   },
   {
    "duration": 33,
    "start_time": "2025-01-23T02:11:58.211Z"
   },
   {
    "duration": 8,
    "start_time": "2025-01-23T02:11:58.245Z"
   },
   {
    "duration": 3,
    "start_time": "2025-01-23T02:11:58.254Z"
   },
   {
    "duration": 30,
    "start_time": "2025-01-23T02:14:05.650Z"
   },
   {
    "duration": 25,
    "start_time": "2025-01-23T02:19:25.384Z"
   },
   {
    "duration": 26,
    "start_time": "2025-01-23T02:23:06.588Z"
   },
   {
    "duration": 27,
    "start_time": "2025-01-23T02:27:43.947Z"
   },
   {
    "duration": 35,
    "start_time": "2025-01-23T02:39:14.947Z"
   },
   {
    "duration": 3,
    "start_time": "2025-01-23T02:40:45.235Z"
   },
   {
    "duration": 4,
    "start_time": "2025-01-23T02:41:53.274Z"
   },
   {
    "duration": 27,
    "start_time": "2025-01-23T02:56:37.788Z"
   },
   {
    "duration": 8,
    "start_time": "2025-01-23T03:00:33.133Z"
   },
   {
    "duration": 5,
    "start_time": "2025-01-23T03:01:43.906Z"
   },
   {
    "duration": 32,
    "start_time": "2025-01-23T03:02:07.137Z"
   },
   {
    "duration": 27,
    "start_time": "2025-01-23T03:02:29.719Z"
   },
   {
    "duration": 799,
    "start_time": "2025-01-23T03:17:55.471Z"
   },
   {
    "duration": 172,
    "start_time": "2025-01-23T03:17:56.273Z"
   },
   {
    "duration": 98,
    "start_time": "2025-01-23T03:17:56.447Z"
   },
   {
    "duration": 17,
    "start_time": "2025-01-23T03:17:56.547Z"
   },
   {
    "duration": 23,
    "start_time": "2025-01-23T03:17:56.565Z"
   },
   {
    "duration": 9,
    "start_time": "2025-01-23T03:17:56.590Z"
   },
   {
    "duration": 100,
    "start_time": "2025-01-23T03:17:56.600Z"
   },
   {
    "duration": 31,
    "start_time": "2025-01-23T03:17:56.702Z"
   },
   {
    "duration": 11,
    "start_time": "2025-01-23T03:17:56.743Z"
   },
   {
    "duration": 48,
    "start_time": "2025-01-23T03:17:56.757Z"
   },
   {
    "duration": 15,
    "start_time": "2025-01-23T03:17:56.807Z"
   },
   {
    "duration": 8,
    "start_time": "2025-01-23T03:17:56.843Z"
   },
   {
    "duration": 26,
    "start_time": "2025-01-23T03:17:56.853Z"
   },
   {
    "duration": 5,
    "start_time": "2025-01-23T03:17:56.880Z"
   },
   {
    "duration": 6,
    "start_time": "2025-01-23T03:17:56.887Z"
   },
   {
    "duration": 19,
    "start_time": "2025-01-23T03:17:56.894Z"
   },
   {
    "duration": 5,
    "start_time": "2025-01-23T03:17:56.943Z"
   },
   {
    "duration": 5,
    "start_time": "2025-01-23T03:17:56.949Z"
   },
   {
    "duration": 12,
    "start_time": "2025-01-23T03:17:56.956Z"
   },
   {
    "duration": 8,
    "start_time": "2025-01-23T03:17:56.970Z"
   },
   {
    "duration": 3,
    "start_time": "2025-01-23T03:17:56.979Z"
   },
   {
    "duration": 11,
    "start_time": "2025-01-23T03:17:56.984Z"
   },
   {
    "duration": 8,
    "start_time": "2025-01-23T03:17:56.997Z"
   },
   {
    "duration": 9,
    "start_time": "2025-01-23T03:17:57.045Z"
   },
   {
    "duration": 16,
    "start_time": "2025-01-23T03:17:57.057Z"
   },
   {
    "duration": 12,
    "start_time": "2025-01-23T03:17:57.074Z"
   },
   {
    "duration": 4,
    "start_time": "2025-01-23T03:17:57.088Z"
   },
   {
    "duration": 51,
    "start_time": "2025-01-23T03:17:57.097Z"
   },
   {
    "duration": 11,
    "start_time": "2025-01-23T03:17:57.150Z"
   },
   {
    "duration": 11,
    "start_time": "2025-01-23T03:17:57.162Z"
   },
   {
    "duration": 6,
    "start_time": "2025-01-23T03:17:57.175Z"
   },
   {
    "duration": 9,
    "start_time": "2025-01-23T03:17:57.183Z"
   },
   {
    "duration": 15,
    "start_time": "2025-01-23T03:17:57.193Z"
   },
   {
    "duration": 44,
    "start_time": "2025-01-23T03:17:57.209Z"
   },
   {
    "duration": 13,
    "start_time": "2025-01-23T03:17:57.255Z"
   },
   {
    "duration": 12,
    "start_time": "2025-01-23T03:17:57.269Z"
   },
   {
    "duration": 7,
    "start_time": "2025-01-23T03:17:57.283Z"
   },
   {
    "duration": 10,
    "start_time": "2025-01-23T03:17:57.291Z"
   },
   {
    "duration": 64,
    "start_time": "2025-01-23T03:17:57.304Z"
   },
   {
    "duration": 15,
    "start_time": "2025-01-23T03:17:57.369Z"
   },
   {
    "duration": 9,
    "start_time": "2025-01-23T03:17:57.385Z"
   },
   {
    "duration": 17,
    "start_time": "2025-01-23T03:17:57.396Z"
   },
   {
    "duration": 34,
    "start_time": "2025-01-23T03:17:57.415Z"
   },
   {
    "duration": 17,
    "start_time": "2025-01-23T03:17:57.450Z"
   },
   {
    "duration": 11,
    "start_time": "2025-01-23T03:17:57.469Z"
   },
   {
    "duration": 11,
    "start_time": "2025-01-23T03:17:57.482Z"
   },
   {
    "duration": 12,
    "start_time": "2025-01-23T03:17:57.495Z"
   },
   {
    "duration": 56,
    "start_time": "2025-01-23T03:17:57.509Z"
   },
   {
    "duration": 28,
    "start_time": "2025-01-23T03:17:57.567Z"
   },
   {
    "duration": 26,
    "start_time": "2025-01-23T03:17:57.597Z"
   },
   {
    "duration": 780,
    "start_time": "2025-01-23T03:21:58.189Z"
   },
   {
    "duration": 176,
    "start_time": "2025-01-23T03:21:58.972Z"
   },
   {
    "duration": 98,
    "start_time": "2025-01-23T03:21:59.150Z"
   },
   {
    "duration": 19,
    "start_time": "2025-01-23T03:21:59.251Z"
   },
   {
    "duration": 23,
    "start_time": "2025-01-23T03:21:59.272Z"
   },
   {
    "duration": 8,
    "start_time": "2025-01-23T03:21:59.297Z"
   },
   {
    "duration": 110,
    "start_time": "2025-01-23T03:21:59.307Z"
   },
   {
    "duration": 37,
    "start_time": "2025-01-23T03:21:59.419Z"
   },
   {
    "duration": 12,
    "start_time": "2025-01-23T03:21:59.458Z"
   },
   {
    "duration": 49,
    "start_time": "2025-01-23T03:21:59.473Z"
   },
   {
    "duration": 31,
    "start_time": "2025-01-23T03:21:59.524Z"
   },
   {
    "duration": 9,
    "start_time": "2025-01-23T03:21:59.557Z"
   },
   {
    "duration": 27,
    "start_time": "2025-01-23T03:21:59.567Z"
   },
   {
    "duration": 5,
    "start_time": "2025-01-23T03:21:59.595Z"
   },
   {
    "duration": 5,
    "start_time": "2025-01-23T03:21:59.603Z"
   },
   {
    "duration": 52,
    "start_time": "2025-01-23T03:21:59.609Z"
   },
   {
    "duration": 5,
    "start_time": "2025-01-23T03:21:59.662Z"
   },
   {
    "duration": 4,
    "start_time": "2025-01-23T03:21:59.669Z"
   },
   {
    "duration": 7,
    "start_time": "2025-01-23T03:21:59.675Z"
   },
   {
    "duration": 6,
    "start_time": "2025-01-23T03:21:59.684Z"
   },
   {
    "duration": 3,
    "start_time": "2025-01-23T03:21:59.692Z"
   },
   {
    "duration": 10,
    "start_time": "2025-01-23T03:21:59.696Z"
   },
   {
    "duration": 41,
    "start_time": "2025-01-23T03:21:59.707Z"
   },
   {
    "duration": 8,
    "start_time": "2025-01-23T03:21:59.750Z"
   },
   {
    "duration": 15,
    "start_time": "2025-01-23T03:21:59.760Z"
   },
   {
    "duration": 11,
    "start_time": "2025-01-23T03:21:59.777Z"
   },
   {
    "duration": 5,
    "start_time": "2025-01-23T03:21:59.789Z"
   },
   {
    "duration": 55,
    "start_time": "2025-01-23T03:21:59.798Z"
   },
   {
    "duration": 13,
    "start_time": "2025-01-23T03:21:59.855Z"
   },
   {
    "duration": 12,
    "start_time": "2025-01-23T03:21:59.870Z"
   },
   {
    "duration": 11,
    "start_time": "2025-01-23T03:21:59.885Z"
   },
   {
    "duration": 11,
    "start_time": "2025-01-23T03:21:59.900Z"
   },
   {
    "duration": 42,
    "start_time": "2025-01-23T03:21:59.913Z"
   },
   {
    "duration": 17,
    "start_time": "2025-01-23T03:21:59.956Z"
   },
   {
    "duration": 11,
    "start_time": "2025-01-23T03:21:59.975Z"
   },
   {
    "duration": 13,
    "start_time": "2025-01-23T03:21:59.987Z"
   },
   {
    "duration": 6,
    "start_time": "2025-01-23T03:22:00.002Z"
   },
   {
    "duration": 34,
    "start_time": "2025-01-23T03:22:00.010Z"
   },
   {
    "duration": 29,
    "start_time": "2025-01-23T03:22:00.046Z"
   },
   {
    "duration": 14,
    "start_time": "2025-01-23T03:22:00.077Z"
   },
   {
    "duration": 9,
    "start_time": "2025-01-23T03:22:00.092Z"
   },
   {
    "duration": 45,
    "start_time": "2025-01-23T03:22:00.102Z"
   },
   {
    "duration": 11,
    "start_time": "2025-01-23T03:22:00.149Z"
   },
   {
    "duration": 17,
    "start_time": "2025-01-23T03:22:00.162Z"
   },
   {
    "duration": 13,
    "start_time": "2025-01-23T03:22:00.181Z"
   },
   {
    "duration": 11,
    "start_time": "2025-01-23T03:22:00.195Z"
   },
   {
    "duration": 45,
    "start_time": "2025-01-23T03:22:00.208Z"
   },
   {
    "duration": 24,
    "start_time": "2025-01-23T03:22:00.255Z"
   },
   {
    "duration": 29,
    "start_time": "2025-01-23T03:22:00.280Z"
   },
   {
    "duration": 53,
    "start_time": "2025-01-23T03:22:00.311Z"
   },
   {
    "duration": 29,
    "start_time": "2025-01-23T03:25:46.126Z"
   },
   {
    "duration": 2581,
    "start_time": "2025-01-24T01:35:06.164Z"
   },
   {
    "duration": 225,
    "start_time": "2025-01-24T01:35:08.747Z"
   },
   {
    "duration": 106,
    "start_time": "2025-01-24T01:35:08.974Z"
   },
   {
    "duration": 16,
    "start_time": "2025-01-24T01:35:09.082Z"
   },
   {
    "duration": 23,
    "start_time": "2025-01-24T01:35:09.100Z"
   },
   {
    "duration": 9,
    "start_time": "2025-01-24T01:35:09.125Z"
   },
   {
    "duration": 102,
    "start_time": "2025-01-24T01:35:09.136Z"
   },
   {
    "duration": 38,
    "start_time": "2025-01-24T01:35:09.240Z"
   },
   {
    "duration": 10,
    "start_time": "2025-01-24T01:35:09.280Z"
   },
   {
    "duration": 50,
    "start_time": "2025-01-24T01:35:09.295Z"
   },
   {
    "duration": 36,
    "start_time": "2025-01-24T01:35:09.347Z"
   },
   {
    "duration": 9,
    "start_time": "2025-01-24T01:35:09.384Z"
   },
   {
    "duration": 27,
    "start_time": "2025-01-24T01:35:09.394Z"
   },
   {
    "duration": 4,
    "start_time": "2025-01-24T01:35:09.423Z"
   },
   {
    "duration": 5,
    "start_time": "2025-01-24T01:35:09.429Z"
   },
   {
    "duration": 49,
    "start_time": "2025-01-24T01:35:09.436Z"
   },
   {
    "duration": 5,
    "start_time": "2025-01-24T01:35:09.487Z"
   },
   {
    "duration": 4,
    "start_time": "2025-01-24T01:35:09.494Z"
   },
   {
    "duration": 7,
    "start_time": "2025-01-24T01:35:09.501Z"
   },
   {
    "duration": 7,
    "start_time": "2025-01-24T01:35:09.510Z"
   },
   {
    "duration": 4,
    "start_time": "2025-01-24T01:35:09.519Z"
   },
   {
    "duration": 9,
    "start_time": "2025-01-24T01:35:09.526Z"
   },
   {
    "duration": 40,
    "start_time": "2025-01-24T01:35:09.536Z"
   },
   {
    "duration": 8,
    "start_time": "2025-01-24T01:35:09.578Z"
   },
   {
    "duration": 13,
    "start_time": "2025-01-24T01:35:09.588Z"
   },
   {
    "duration": 11,
    "start_time": "2025-01-24T01:35:09.602Z"
   },
   {
    "duration": 4,
    "start_time": "2025-01-24T01:35:09.615Z"
   },
   {
    "duration": 57,
    "start_time": "2025-01-24T01:35:09.624Z"
   },
   {
    "duration": 10,
    "start_time": "2025-01-24T01:35:09.684Z"
   },
   {
    "duration": 11,
    "start_time": "2025-01-24T01:35:09.695Z"
   },
   {
    "duration": 6,
    "start_time": "2025-01-24T01:35:09.708Z"
   },
   {
    "duration": 10,
    "start_time": "2025-01-24T01:35:09.716Z"
   },
   {
    "duration": 47,
    "start_time": "2025-01-24T01:35:09.727Z"
   },
   {
    "duration": 12,
    "start_time": "2025-01-24T01:35:09.776Z"
   },
   {
    "duration": 12,
    "start_time": "2025-01-24T01:35:09.789Z"
   },
   {
    "duration": 14,
    "start_time": "2025-01-24T01:35:09.802Z"
   },
   {
    "duration": 6,
    "start_time": "2025-01-24T01:35:09.817Z"
   },
   {
    "duration": 11,
    "start_time": "2025-01-24T01:35:09.824Z"
   },
   {
    "duration": 61,
    "start_time": "2025-01-24T01:35:09.838Z"
   },
   {
    "duration": 13,
    "start_time": "2025-01-24T01:35:09.901Z"
   },
   {
    "duration": 10,
    "start_time": "2025-01-24T01:35:09.916Z"
   },
   {
    "duration": 43,
    "start_time": "2025-01-24T01:35:09.929Z"
   },
   {
    "duration": 12,
    "start_time": "2025-01-24T01:35:09.975Z"
   },
   {
    "duration": 18,
    "start_time": "2025-01-24T01:35:09.988Z"
   },
   {
    "duration": 14,
    "start_time": "2025-01-24T01:35:10.008Z"
   },
   {
    "duration": 12,
    "start_time": "2025-01-24T01:35:10.024Z"
   },
   {
    "duration": 43,
    "start_time": "2025-01-24T01:35:10.039Z"
   },
   {
    "duration": 23,
    "start_time": "2025-01-24T01:35:10.083Z"
   },
   {
    "duration": 28,
    "start_time": "2025-01-24T01:35:10.108Z"
   },
   {
    "duration": 25,
    "start_time": "2025-01-24T01:35:19.454Z"
   },
   {
    "duration": 7,
    "start_time": "2025-01-24T01:58:02.363Z"
   },
   {
    "duration": 6,
    "start_time": "2025-01-24T01:58:20.746Z"
   },
   {
    "duration": 263,
    "start_time": "2025-01-24T02:01:22.811Z"
   },
   {
    "duration": 21,
    "start_time": "2025-01-24T02:02:29.645Z"
   },
   {
    "duration": 58,
    "start_time": "2025-01-24T02:03:27.950Z"
   },
   {
    "duration": 4,
    "start_time": "2025-01-24T02:04:07.730Z"
   },
   {
    "duration": 6,
    "start_time": "2025-01-24T02:04:55.428Z"
   },
   {
    "duration": 272,
    "start_time": "2025-01-24T02:05:08.649Z"
   },
   {
    "duration": 205,
    "start_time": "2025-01-24T02:05:58.242Z"
   },
   {
    "duration": 805,
    "start_time": "2025-01-24T02:06:08.447Z"
   },
   {
    "duration": 165,
    "start_time": "2025-01-24T02:06:09.254Z"
   },
   {
    "duration": 94,
    "start_time": "2025-01-24T02:06:09.421Z"
   },
   {
    "duration": 17,
    "start_time": "2025-01-24T02:06:09.518Z"
   },
   {
    "duration": 36,
    "start_time": "2025-01-24T02:06:09.537Z"
   },
   {
    "duration": 10,
    "start_time": "2025-01-24T02:06:09.574Z"
   },
   {
    "duration": 92,
    "start_time": "2025-01-24T02:06:09.586Z"
   },
   {
    "duration": 30,
    "start_time": "2025-01-24T02:06:09.680Z"
   },
   {
    "duration": 11,
    "start_time": "2025-01-24T02:06:09.712Z"
   },
   {
    "duration": 72,
    "start_time": "2025-01-24T02:06:09.726Z"
   },
   {
    "duration": 14,
    "start_time": "2025-01-24T02:06:09.800Z"
   },
   {
    "duration": 10,
    "start_time": "2025-01-24T02:06:09.815Z"
   },
   {
    "duration": 26,
    "start_time": "2025-01-24T02:06:09.826Z"
   },
   {
    "duration": 6,
    "start_time": "2025-01-24T02:06:09.873Z"
   },
   {
    "duration": 6,
    "start_time": "2025-01-24T02:06:09.880Z"
   },
   {
    "duration": 19,
    "start_time": "2025-01-24T02:06:09.887Z"
   },
   {
    "duration": 5,
    "start_time": "2025-01-24T02:06:09.907Z"
   },
   {
    "duration": 4,
    "start_time": "2025-01-24T02:06:09.914Z"
   },
   {
    "duration": 9,
    "start_time": "2025-01-24T02:06:09.920Z"
   },
   {
    "duration": 39,
    "start_time": "2025-01-24T02:06:09.932Z"
   },
   {
    "duration": 3,
    "start_time": "2025-01-24T02:06:09.974Z"
   },
   {
    "duration": 9,
    "start_time": "2025-01-24T02:06:09.979Z"
   },
   {
    "duration": 8,
    "start_time": "2025-01-24T02:06:09.989Z"
   },
   {
    "duration": 8,
    "start_time": "2025-01-24T02:06:09.999Z"
   },
   {
    "duration": 14,
    "start_time": "2025-01-24T02:06:10.009Z"
   },
   {
    "duration": 12,
    "start_time": "2025-01-24T02:06:10.025Z"
   },
   {
    "duration": 4,
    "start_time": "2025-01-24T02:06:10.071Z"
   },
   {
    "duration": 25,
    "start_time": "2025-01-24T02:06:10.081Z"
   },
   {
    "duration": 11,
    "start_time": "2025-01-24T02:06:10.108Z"
   },
   {
    "duration": 12,
    "start_time": "2025-01-24T02:06:10.120Z"
   },
   {
    "duration": 39,
    "start_time": "2025-01-24T02:06:10.133Z"
   },
   {
    "duration": 10,
    "start_time": "2025-01-24T02:06:10.173Z"
   },
   {
    "duration": 14,
    "start_time": "2025-01-24T02:06:10.185Z"
   },
   {
    "duration": 11,
    "start_time": "2025-01-24T02:06:10.201Z"
   },
   {
    "duration": 12,
    "start_time": "2025-01-24T02:06:10.213Z"
   },
   {
    "duration": 12,
    "start_time": "2025-01-24T02:06:10.227Z"
   },
   {
    "duration": 7,
    "start_time": "2025-01-24T02:06:10.270Z"
   },
   {
    "duration": 9,
    "start_time": "2025-01-24T02:06:10.279Z"
   },
   {
    "duration": 29,
    "start_time": "2025-01-24T02:06:10.290Z"
   },
   {
    "duration": 14,
    "start_time": "2025-01-24T02:06:10.321Z"
   },
   {
    "duration": 36,
    "start_time": "2025-01-24T02:06:10.336Z"
   },
   {
    "duration": 19,
    "start_time": "2025-01-24T02:06:10.374Z"
   },
   {
    "duration": 10,
    "start_time": "2025-01-24T02:06:10.394Z"
   },
   {
    "duration": 18,
    "start_time": "2025-01-24T02:06:10.406Z"
   },
   {
    "duration": 14,
    "start_time": "2025-01-24T02:06:10.425Z"
   },
   {
    "duration": 13,
    "start_time": "2025-01-24T02:06:10.469Z"
   },
   {
    "duration": 15,
    "start_time": "2025-01-24T02:06:10.484Z"
   },
   {
    "duration": 97,
    "start_time": "2025-01-24T02:06:10.500Z"
   },
   {
    "duration": 29,
    "start_time": "2025-01-24T02:06:10.599Z"
   },
   {
    "duration": 25,
    "start_time": "2025-01-24T02:06:10.629Z"
   },
   {
    "duration": 233,
    "start_time": "2025-01-24T02:06:10.670Z"
   },
   {
    "duration": 4,
    "start_time": "2025-01-24T02:06:10.905Z"
   },
   {
    "duration": 4,
    "start_time": "2025-01-24T02:06:10.910Z"
   },
   {
    "duration": 3,
    "start_time": "2025-01-24T02:06:10.916Z"
   },
   {
    "duration": 4,
    "start_time": "2025-01-24T02:06:10.920Z"
   },
   {
    "duration": 3,
    "start_time": "2025-01-24T02:06:10.925Z"
   },
   {
    "duration": 3,
    "start_time": "2025-01-24T02:06:10.930Z"
   },
   {
    "duration": 3,
    "start_time": "2025-01-24T02:06:10.934Z"
   },
   {
    "duration": 181,
    "start_time": "2025-01-24T02:12:23.118Z"
   },
   {
    "duration": 201,
    "start_time": "2025-01-24T02:13:31.912Z"
   },
   {
    "duration": 505,
    "start_time": "2025-01-24T02:34:30.641Z"
   },
   {
    "duration": 212,
    "start_time": "2025-01-24T02:35:06.125Z"
   },
   {
    "duration": 17,
    "start_time": "2025-01-24T02:36:08.680Z"
   },
   {
    "duration": 3,
    "start_time": "2025-01-24T02:36:19.513Z"
   },
   {
    "duration": 6,
    "start_time": "2025-01-24T02:41:47.777Z"
   },
   {
    "duration": 20,
    "start_time": "2025-01-24T02:42:10.379Z"
   },
   {
    "duration": 6,
    "start_time": "2025-01-24T02:42:51.359Z"
   },
   {
    "duration": 304,
    "start_time": "2025-01-24T02:43:28.483Z"
   },
   {
    "duration": 278,
    "start_time": "2025-01-24T02:43:42.796Z"
   },
   {
    "duration": 163,
    "start_time": "2025-01-24T02:46:49.445Z"
   },
   {
    "duration": 164,
    "start_time": "2025-01-24T02:47:06.380Z"
   },
   {
    "duration": 208,
    "start_time": "2025-01-24T02:47:16.271Z"
   },
   {
    "duration": 188,
    "start_time": "2025-01-24T02:47:53.914Z"
   },
   {
    "duration": 6,
    "start_time": "2025-01-24T02:57:32.481Z"
   },
   {
    "duration": 158,
    "start_time": "2025-01-24T02:57:42.927Z"
   },
   {
    "duration": 6,
    "start_time": "2025-01-24T03:02:19.274Z"
   },
   {
    "duration": 4,
    "start_time": "2025-01-24T03:27:34.081Z"
   },
   {
    "duration": 206,
    "start_time": "2025-01-24T03:27:48.909Z"
   },
   {
    "duration": 6,
    "start_time": "2025-01-24T03:28:47.693Z"
   },
   {
    "duration": 202,
    "start_time": "2025-01-24T03:30:00.204Z"
   },
   {
    "duration": 204,
    "start_time": "2025-01-24T03:41:14.504Z"
   },
   {
    "duration": 261,
    "start_time": "2025-01-24T03:53:32.918Z"
   },
   {
    "duration": 184,
    "start_time": "2025-01-24T04:08:04.064Z"
   },
   {
    "duration": 171,
    "start_time": "2025-01-24T04:08:19.494Z"
   },
   {
    "duration": 241,
    "start_time": "2025-01-24T04:09:11.582Z"
   },
   {
    "duration": 193,
    "start_time": "2025-01-24T04:09:54.113Z"
   },
   {
    "duration": 74,
    "start_time": "2025-01-24T04:10:06.955Z"
   },
   {
    "duration": 41,
    "start_time": "2025-01-24T04:10:40.748Z"
   },
   {
    "duration": 27,
    "start_time": "2025-01-24T04:16:57.640Z"
   },
   {
    "duration": 30,
    "start_time": "2025-01-24T04:17:54.788Z"
   },
   {
    "duration": 48,
    "start_time": "2025-01-24T04:18:37.970Z"
   },
   {
    "duration": 64,
    "start_time": "2025-01-24T04:19:09.078Z"
   },
   {
    "duration": 2,
    "start_time": "2025-01-24T04:19:53.753Z"
   },
   {
    "duration": 81,
    "start_time": "2025-01-24T04:20:37.782Z"
   },
   {
    "duration": 47,
    "start_time": "2025-01-24T04:21:46.255Z"
   },
   {
    "duration": 4,
    "start_time": "2025-01-24T04:22:05.840Z"
   },
   {
    "duration": 64,
    "start_time": "2025-01-24T04:23:05.233Z"
   },
   {
    "duration": 15,
    "start_time": "2025-01-24T04:26:46.618Z"
   },
   {
    "duration": 22,
    "start_time": "2025-01-24T04:26:56.128Z"
   },
   {
    "duration": 223,
    "start_time": "2025-01-24T04:35:44.194Z"
   },
   {
    "duration": 5,
    "start_time": "2025-01-24T04:36:36.349Z"
   },
   {
    "duration": 245,
    "start_time": "2025-01-24T04:36:42.154Z"
   },
   {
    "duration": 6,
    "start_time": "2025-01-24T04:37:26.153Z"
   },
   {
    "duration": 8,
    "start_time": "2025-01-24T04:37:36.974Z"
   },
   {
    "duration": 13,
    "start_time": "2025-01-24T04:37:47.961Z"
   },
   {
    "duration": 203,
    "start_time": "2025-01-24T04:44:25.590Z"
   },
   {
    "duration": 813,
    "start_time": "2025-01-24T04:50:47.647Z"
   },
   {
    "duration": 174,
    "start_time": "2025-01-24T04:50:48.462Z"
   },
   {
    "duration": 95,
    "start_time": "2025-01-24T04:50:48.638Z"
   },
   {
    "duration": 19,
    "start_time": "2025-01-24T04:50:48.736Z"
   },
   {
    "duration": 30,
    "start_time": "2025-01-24T04:50:48.757Z"
   },
   {
    "duration": 9,
    "start_time": "2025-01-24T04:50:48.789Z"
   },
   {
    "duration": 91,
    "start_time": "2025-01-24T04:50:48.800Z"
   },
   {
    "duration": 28,
    "start_time": "2025-01-24T04:50:48.893Z"
   },
   {
    "duration": 11,
    "start_time": "2025-01-24T04:50:48.923Z"
   },
   {
    "duration": 66,
    "start_time": "2025-01-24T04:50:48.937Z"
   },
   {
    "duration": 15,
    "start_time": "2025-01-24T04:50:49.005Z"
   },
   {
    "duration": 10,
    "start_time": "2025-01-24T04:50:49.021Z"
   },
   {
    "duration": 46,
    "start_time": "2025-01-24T04:50:49.033Z"
   },
   {
    "duration": 6,
    "start_time": "2025-01-24T04:50:49.080Z"
   },
   {
    "duration": 5,
    "start_time": "2025-01-24T04:50:49.087Z"
   },
   {
    "duration": 19,
    "start_time": "2025-01-24T04:50:49.094Z"
   },
   {
    "duration": 6,
    "start_time": "2025-01-24T04:50:49.114Z"
   },
   {
    "duration": 5,
    "start_time": "2025-01-24T04:50:49.121Z"
   },
   {
    "duration": 43,
    "start_time": "2025-01-24T04:50:49.128Z"
   },
   {
    "duration": 7,
    "start_time": "2025-01-24T04:50:49.172Z"
   },
   {
    "duration": 4,
    "start_time": "2025-01-24T04:50:49.180Z"
   },
   {
    "duration": 11,
    "start_time": "2025-01-24T04:50:49.185Z"
   },
   {
    "duration": 8,
    "start_time": "2025-01-24T04:50:49.197Z"
   },
   {
    "duration": 9,
    "start_time": "2025-01-24T04:50:49.207Z"
   },
   {
    "duration": 13,
    "start_time": "2025-01-24T04:50:49.217Z"
   },
   {
    "duration": 45,
    "start_time": "2025-01-24T04:50:49.231Z"
   },
   {
    "duration": 5,
    "start_time": "2025-01-24T04:50:49.277Z"
   },
   {
    "duration": 24,
    "start_time": "2025-01-24T04:50:49.287Z"
   },
   {
    "duration": 11,
    "start_time": "2025-01-24T04:50:49.312Z"
   },
   {
    "duration": 12,
    "start_time": "2025-01-24T04:50:49.324Z"
   },
   {
    "duration": 7,
    "start_time": "2025-01-24T04:50:49.371Z"
   },
   {
    "duration": 8,
    "start_time": "2025-01-24T04:50:49.380Z"
   },
   {
    "duration": 15,
    "start_time": "2025-01-24T04:50:49.390Z"
   },
   {
    "duration": 11,
    "start_time": "2025-01-24T04:50:49.406Z"
   },
   {
    "duration": 11,
    "start_time": "2025-01-24T04:50:49.419Z"
   },
   {
    "duration": 44,
    "start_time": "2025-01-24T04:50:49.432Z"
   },
   {
    "duration": 8,
    "start_time": "2025-01-24T04:50:49.478Z"
   },
   {
    "duration": 11,
    "start_time": "2025-01-24T04:50:49.488Z"
   },
   {
    "duration": 33,
    "start_time": "2025-01-24T04:50:49.500Z"
   },
   {
    "duration": 44,
    "start_time": "2025-01-24T04:50:49.534Z"
   },
   {
    "duration": 9,
    "start_time": "2025-01-24T04:50:49.579Z"
   },
   {
    "duration": 18,
    "start_time": "2025-01-24T04:50:49.590Z"
   },
   {
    "duration": 10,
    "start_time": "2025-01-24T04:50:49.610Z"
   },
   {
    "duration": 17,
    "start_time": "2025-01-24T04:50:49.622Z"
   },
   {
    "duration": 42,
    "start_time": "2025-01-24T04:50:49.640Z"
   },
   {
    "duration": 12,
    "start_time": "2025-01-24T04:50:49.683Z"
   },
   {
    "duration": 13,
    "start_time": "2025-01-24T04:50:49.697Z"
   },
   {
    "duration": 95,
    "start_time": "2025-01-24T04:50:49.711Z"
   },
   {
    "duration": 33,
    "start_time": "2025-01-24T04:50:49.808Z"
   },
   {
    "duration": 44,
    "start_time": "2025-01-24T04:50:49.842Z"
   },
   {
    "duration": 219,
    "start_time": "2025-01-24T04:50:49.888Z"
   },
   {
    "duration": 216,
    "start_time": "2025-01-24T04:50:50.109Z"
   },
   {
    "duration": 169,
    "start_time": "2025-01-24T04:50:50.327Z"
   },
   {
    "duration": 2,
    "start_time": "2025-01-24T04:50:50.498Z"
   },
   {
    "duration": 3,
    "start_time": "2025-01-24T04:50:50.502Z"
   },
   {
    "duration": 3,
    "start_time": "2025-01-24T04:50:50.506Z"
   },
   {
    "duration": 2,
    "start_time": "2025-01-24T04:50:50.512Z"
   },
   {
    "duration": 3,
    "start_time": "2025-01-24T04:50:50.516Z"
   },
   {
    "duration": 3,
    "start_time": "2025-01-24T04:50:50.520Z"
   },
   {
    "duration": 171,
    "start_time": "2025-01-24T04:54:44.114Z"
   },
   {
    "duration": 2596,
    "start_time": "2025-01-24T22:25:22.270Z"
   },
   {
    "duration": 233,
    "start_time": "2025-01-24T22:25:24.869Z"
   },
   {
    "duration": 97,
    "start_time": "2025-01-24T22:25:25.104Z"
   },
   {
    "duration": 17,
    "start_time": "2025-01-24T22:25:25.203Z"
   },
   {
    "duration": 23,
    "start_time": "2025-01-24T22:25:25.222Z"
   },
   {
    "duration": 10,
    "start_time": "2025-01-24T22:25:25.247Z"
   },
   {
    "duration": 97,
    "start_time": "2025-01-24T22:25:25.258Z"
   },
   {
    "duration": 32,
    "start_time": "2025-01-24T22:25:25.358Z"
   },
   {
    "duration": 23,
    "start_time": "2025-01-24T22:25:25.392Z"
   },
   {
    "duration": 49,
    "start_time": "2025-01-24T22:25:25.419Z"
   },
   {
    "duration": 17,
    "start_time": "2025-01-24T22:25:25.470Z"
   },
   {
    "duration": 10,
    "start_time": "2025-01-24T22:25:25.508Z"
   },
   {
    "duration": 26,
    "start_time": "2025-01-24T22:25:25.520Z"
   },
   {
    "duration": 5,
    "start_time": "2025-01-24T22:25:25.548Z"
   },
   {
    "duration": 5,
    "start_time": "2025-01-24T22:25:25.554Z"
   },
   {
    "duration": 48,
    "start_time": "2025-01-24T22:25:25.561Z"
   },
   {
    "duration": 5,
    "start_time": "2025-01-24T22:25:25.612Z"
   },
   {
    "duration": 5,
    "start_time": "2025-01-24T22:25:25.618Z"
   },
   {
    "duration": 8,
    "start_time": "2025-01-24T22:25:25.625Z"
   },
   {
    "duration": 7,
    "start_time": "2025-01-24T22:25:25.635Z"
   },
   {
    "duration": 4,
    "start_time": "2025-01-24T22:25:25.644Z"
   },
   {
    "duration": 9,
    "start_time": "2025-01-24T22:25:25.650Z"
   },
   {
    "duration": 49,
    "start_time": "2025-01-24T22:25:25.661Z"
   },
   {
    "duration": 8,
    "start_time": "2025-01-24T22:25:25.711Z"
   },
   {
    "duration": 15,
    "start_time": "2025-01-24T22:25:25.721Z"
   },
   {
    "duration": 11,
    "start_time": "2025-01-24T22:25:25.738Z"
   },
   {
    "duration": 4,
    "start_time": "2025-01-24T22:25:25.751Z"
   },
   {
    "duration": 61,
    "start_time": "2025-01-24T22:25:25.760Z"
   },
   {
    "duration": 11,
    "start_time": "2025-01-24T22:25:25.823Z"
   },
   {
    "duration": 12,
    "start_time": "2025-01-24T22:25:25.835Z"
   },
   {
    "duration": 6,
    "start_time": "2025-01-24T22:25:25.848Z"
   },
   {
    "duration": 9,
    "start_time": "2025-01-24T22:25:25.855Z"
   },
   {
    "duration": 50,
    "start_time": "2025-01-24T22:25:25.866Z"
   },
   {
    "duration": 14,
    "start_time": "2025-01-24T22:25:25.918Z"
   },
   {
    "duration": 15,
    "start_time": "2025-01-24T22:25:25.934Z"
   },
   {
    "duration": 18,
    "start_time": "2025-01-24T22:25:25.950Z"
   },
   {
    "duration": 8,
    "start_time": "2025-01-24T22:25:25.970Z"
   },
   {
    "duration": 12,
    "start_time": "2025-01-24T22:25:26.009Z"
   },
   {
    "duration": 34,
    "start_time": "2025-01-24T22:25:26.022Z"
   },
   {
    "duration": 15,
    "start_time": "2025-01-24T22:25:26.058Z"
   },
   {
    "duration": 9,
    "start_time": "2025-01-24T22:25:26.074Z"
   },
   {
    "duration": 40,
    "start_time": "2025-01-24T22:25:26.084Z"
   },
   {
    "duration": 12,
    "start_time": "2025-01-24T22:25:26.126Z"
   },
   {
    "duration": 17,
    "start_time": "2025-01-24T22:25:26.139Z"
   },
   {
    "duration": 15,
    "start_time": "2025-01-24T22:25:26.158Z"
   },
   {
    "duration": 45,
    "start_time": "2025-01-24T22:25:26.174Z"
   },
   {
    "duration": 17,
    "start_time": "2025-01-24T22:25:26.222Z"
   },
   {
    "duration": 26,
    "start_time": "2025-01-24T22:25:26.241Z"
   },
   {
    "duration": 55,
    "start_time": "2025-01-24T22:25:26.269Z"
   },
   {
    "duration": 25,
    "start_time": "2025-01-24T22:25:26.327Z"
   },
   {
    "duration": 237,
    "start_time": "2025-01-24T22:25:26.354Z"
   },
   {
    "duration": 245,
    "start_time": "2025-01-24T22:25:26.593Z"
   },
   {
    "duration": 19,
    "start_time": "2025-01-24T22:25:47.936Z"
   },
   {
    "duration": 19,
    "start_time": "2025-01-24T22:26:34.002Z"
   },
   {
    "duration": 34,
    "start_time": "2025-01-24T22:28:20.793Z"
   },
   {
    "duration": 269,
    "start_time": "2025-01-24T22:30:04.616Z"
   },
   {
    "duration": 47,
    "start_time": "2025-01-24T22:30:26.948Z"
   },
   {
    "duration": 36,
    "start_time": "2025-01-24T22:31:37.129Z"
   },
   {
    "duration": 27,
    "start_time": "2025-01-24T22:34:48.690Z"
   },
   {
    "duration": 31,
    "start_time": "2025-01-24T22:40:04.589Z"
   },
   {
    "duration": 32,
    "start_time": "2025-01-24T22:49:12.940Z"
   },
   {
    "duration": 34,
    "start_time": "2025-01-24T22:54:12.233Z"
   },
   {
    "duration": 10,
    "start_time": "2025-01-24T23:05:07.447Z"
   },
   {
    "duration": 838,
    "start_time": "2025-01-24T23:05:17.999Z"
   },
   {
    "duration": 181,
    "start_time": "2025-01-24T23:05:18.839Z"
   },
   {
    "duration": 104,
    "start_time": "2025-01-24T23:05:19.022Z"
   },
   {
    "duration": 18,
    "start_time": "2025-01-24T23:05:19.128Z"
   },
   {
    "duration": 26,
    "start_time": "2025-01-24T23:05:19.148Z"
   },
   {
    "duration": 8,
    "start_time": "2025-01-24T23:05:19.176Z"
   },
   {
    "duration": 80,
    "start_time": "2025-01-24T23:05:19.209Z"
   },
   {
    "duration": 45,
    "start_time": "2025-01-24T23:05:19.292Z"
   },
   {
    "duration": 11,
    "start_time": "2025-01-24T23:05:19.339Z"
   },
   {
    "duration": 65,
    "start_time": "2025-01-24T23:05:19.353Z"
   },
   {
    "duration": 18,
    "start_time": "2025-01-24T23:05:19.420Z"
   },
   {
    "duration": 11,
    "start_time": "2025-01-24T23:05:19.439Z"
   },
   {
    "duration": 26,
    "start_time": "2025-01-24T23:05:19.452Z"
   },
   {
    "duration": 5,
    "start_time": "2025-01-24T23:05:19.510Z"
   },
   {
    "duration": 5,
    "start_time": "2025-01-24T23:05:19.517Z"
   },
   {
    "duration": 20,
    "start_time": "2025-01-24T23:05:19.524Z"
   },
   {
    "duration": 5,
    "start_time": "2025-01-24T23:05:19.546Z"
   },
   {
    "duration": 5,
    "start_time": "2025-01-24T23:05:19.552Z"
   },
   {
    "duration": 9,
    "start_time": "2025-01-24T23:05:19.559Z"
   },
   {
    "duration": 46,
    "start_time": "2025-01-24T23:05:19.570Z"
   },
   {
    "duration": 4,
    "start_time": "2025-01-24T23:05:19.618Z"
   },
   {
    "duration": 10,
    "start_time": "2025-01-24T23:05:19.624Z"
   },
   {
    "duration": 9,
    "start_time": "2025-01-24T23:05:19.636Z"
   },
   {
    "duration": 8,
    "start_time": "2025-01-24T23:05:19.646Z"
   },
   {
    "duration": 14,
    "start_time": "2025-01-24T23:05:19.656Z"
   },
   {
    "duration": 14,
    "start_time": "2025-01-24T23:05:19.710Z"
   },
   {
    "duration": 6,
    "start_time": "2025-01-24T23:05:19.726Z"
   },
   {
    "duration": 32,
    "start_time": "2025-01-24T23:05:19.739Z"
   },
   {
    "duration": 43,
    "start_time": "2025-01-24T23:05:19.773Z"
   },
   {
    "duration": 12,
    "start_time": "2025-01-24T23:05:19.818Z"
   },
   {
    "duration": 6,
    "start_time": "2025-01-24T23:05:19.832Z"
   },
   {
    "duration": 9,
    "start_time": "2025-01-24T23:05:19.840Z"
   },
   {
    "duration": 17,
    "start_time": "2025-01-24T23:05:19.851Z"
   },
   {
    "duration": 46,
    "start_time": "2025-01-24T23:05:19.870Z"
   },
   {
    "duration": 12,
    "start_time": "2025-01-24T23:05:19.917Z"
   },
   {
    "duration": 14,
    "start_time": "2025-01-24T23:05:19.931Z"
   },
   {
    "duration": 6,
    "start_time": "2025-01-24T23:05:19.947Z"
   },
   {
    "duration": 11,
    "start_time": "2025-01-24T23:05:19.955Z"
   },
   {
    "duration": 72,
    "start_time": "2025-01-24T23:05:19.968Z"
   },
   {
    "duration": 14,
    "start_time": "2025-01-24T23:05:20.043Z"
   },
   {
    "duration": 9,
    "start_time": "2025-01-24T23:05:20.059Z"
   },
   {
    "duration": 42,
    "start_time": "2025-01-24T23:05:20.070Z"
   },
   {
    "duration": 11,
    "start_time": "2025-01-24T23:05:20.114Z"
   },
   {
    "duration": 18,
    "start_time": "2025-01-24T23:05:20.127Z"
   },
   {
    "duration": 14,
    "start_time": "2025-01-24T23:05:20.147Z"
   },
   {
    "duration": 14,
    "start_time": "2025-01-24T23:05:20.163Z"
   },
   {
    "duration": 16,
    "start_time": "2025-01-24T23:05:20.210Z"
   },
   {
    "duration": 96,
    "start_time": "2025-01-24T23:05:20.228Z"
   },
   {
    "duration": 29,
    "start_time": "2025-01-24T23:05:20.326Z"
   },
   {
    "duration": 25,
    "start_time": "2025-01-24T23:05:20.357Z"
   },
   {
    "duration": 237,
    "start_time": "2025-01-24T23:05:20.384Z"
   },
   {
    "duration": 175,
    "start_time": "2025-01-24T23:05:20.624Z"
   },
   {
    "duration": 11,
    "start_time": "2025-01-24T23:05:20.808Z"
   },
   {
    "duration": 43,
    "start_time": "2025-01-24T23:05:20.821Z"
   },
   {
    "duration": 2,
    "start_time": "2025-01-24T23:05:20.866Z"
   },
   {
    "duration": 3,
    "start_time": "2025-01-24T23:05:20.870Z"
   },
   {
    "duration": 3,
    "start_time": "2025-01-24T23:05:20.874Z"
   },
   {
    "duration": 30,
    "start_time": "2025-01-24T23:05:20.879Z"
   },
   {
    "duration": 3,
    "start_time": "2025-01-24T23:05:20.911Z"
   },
   {
    "duration": 25,
    "start_time": "2025-01-24T23:06:48.623Z"
   },
   {
    "duration": 4,
    "start_time": "2025-01-24T23:10:37.657Z"
   },
   {
    "duration": 4,
    "start_time": "2025-01-24T23:11:36.800Z"
   },
   {
    "duration": 9,
    "start_time": "2025-01-24T23:16:42.408Z"
   },
   {
    "duration": 22,
    "start_time": "2025-01-24T23:17:24.579Z"
   },
   {
    "duration": 26,
    "start_time": "2025-01-24T23:25:03.564Z"
   },
   {
    "duration": 7,
    "start_time": "2025-01-24T23:43:35.193Z"
   },
   {
    "duration": 4,
    "start_time": "2025-01-24T23:43:57.837Z"
   },
   {
    "duration": 3,
    "start_time": "2025-01-24T23:44:19.440Z"
   },
   {
    "duration": 4,
    "start_time": "2025-01-24T23:44:35.162Z"
   },
   {
    "duration": 4,
    "start_time": "2025-01-24T23:44:50.730Z"
   },
   {
    "duration": 19,
    "start_time": "2025-01-24T23:52:24.440Z"
   },
   {
    "duration": 163,
    "start_time": "2025-01-24T23:55:29.214Z"
   },
   {
    "duration": 663,
    "start_time": "2025-01-24T23:58:29.482Z"
   },
   {
    "duration": 19,
    "start_time": "2025-01-24T23:58:41.402Z"
   },
   {
    "duration": 14,
    "start_time": "2025-01-25T00:00:56.271Z"
   },
   {
    "duration": 21,
    "start_time": "2025-01-25T00:03:38.646Z"
   },
   {
    "duration": 17,
    "start_time": "2025-01-25T00:05:51.676Z"
   },
   {
    "duration": 19,
    "start_time": "2025-01-25T00:09:50.767Z"
   },
   {
    "duration": 109,
    "start_time": "2025-01-25T00:23:56.615Z"
   },
   {
    "duration": 112,
    "start_time": "2025-01-25T00:24:20.755Z"
   },
   {
    "duration": 105,
    "start_time": "2025-01-25T00:24:55.406Z"
   },
   {
    "duration": 253,
    "start_time": "2025-01-25T00:34:46.893Z"
   },
   {
    "duration": 110,
    "start_time": "2025-01-25T00:35:00.327Z"
   },
   {
    "duration": 4,
    "start_time": "2025-01-25T00:37:03.974Z"
   },
   {
    "duration": 105,
    "start_time": "2025-01-25T00:37:09.386Z"
   },
   {
    "duration": 6,
    "start_time": "2025-01-25T00:37:48.326Z"
   },
   {
    "duration": 4,
    "start_time": "2025-01-25T00:38:04.612Z"
   },
   {
    "duration": 117,
    "start_time": "2025-01-25T00:38:56.275Z"
   },
   {
    "duration": 122,
    "start_time": "2025-01-25T00:39:33.418Z"
   },
   {
    "duration": 102,
    "start_time": "2025-01-25T00:39:51.086Z"
   },
   {
    "duration": 423,
    "start_time": "2025-01-25T00:45:52.856Z"
   },
   {
    "duration": 149,
    "start_time": "2025-01-25T00:46:11.737Z"
   },
   {
    "duration": 137,
    "start_time": "2025-01-25T00:46:32.420Z"
   },
   {
    "duration": 144,
    "start_time": "2025-01-25T00:46:37.982Z"
   },
   {
    "duration": 140,
    "start_time": "2025-01-25T00:47:08.749Z"
   },
   {
    "duration": 137,
    "start_time": "2025-01-25T00:47:48.752Z"
   },
   {
    "duration": 141,
    "start_time": "2025-01-25T00:48:02.587Z"
   },
   {
    "duration": 3,
    "start_time": "2025-01-25T00:48:30.188Z"
   },
   {
    "duration": 5,
    "start_time": "2025-01-25T00:49:20.078Z"
   },
   {
    "duration": 6,
    "start_time": "2025-01-25T00:49:32.219Z"
   },
   {
    "duration": 4,
    "start_time": "2025-01-25T00:49:40.419Z"
   },
   {
    "duration": 3,
    "start_time": "2025-01-25T00:49:45.296Z"
   },
   {
    "duration": 4,
    "start_time": "2025-01-25T00:49:51.284Z"
   },
   {
    "duration": 4,
    "start_time": "2025-01-25T00:50:10.510Z"
   },
   {
    "duration": 4,
    "start_time": "2025-01-25T00:51:24.707Z"
   },
   {
    "duration": 6,
    "start_time": "2025-01-25T00:51:42.664Z"
   },
   {
    "duration": 5,
    "start_time": "2025-01-25T00:51:50.368Z"
   },
   {
    "duration": 4,
    "start_time": "2025-01-25T00:52:39.779Z"
   },
   {
    "duration": 4,
    "start_time": "2025-01-25T00:52:56.430Z"
   },
   {
    "duration": 4,
    "start_time": "2025-01-25T00:53:03.218Z"
   },
   {
    "duration": 166,
    "start_time": "2025-01-25T00:54:15.012Z"
   },
   {
    "duration": 163,
    "start_time": "2025-01-25T00:55:28.728Z"
   },
   {
    "duration": 146,
    "start_time": "2025-01-25T00:55:50.742Z"
   },
   {
    "duration": 146,
    "start_time": "2025-01-25T00:59:36.211Z"
   },
   {
    "duration": 3,
    "start_time": "2025-01-25T01:00:17.003Z"
   },
   {
    "duration": 138,
    "start_time": "2025-01-25T01:00:31.622Z"
   },
   {
    "duration": 138,
    "start_time": "2025-01-25T01:00:55.454Z"
   },
   {
    "duration": 139,
    "start_time": "2025-01-25T01:01:11.281Z"
   },
   {
    "duration": 145,
    "start_time": "2025-01-25T01:02:01.818Z"
   },
   {
    "duration": 139,
    "start_time": "2025-01-25T01:04:23.070Z"
   },
   {
    "duration": 149,
    "start_time": "2025-01-25T01:05:59.653Z"
   },
   {
    "duration": 103,
    "start_time": "2025-01-25T01:06:38.422Z"
   },
   {
    "duration": 119,
    "start_time": "2025-01-25T01:07:15.057Z"
   },
   {
    "duration": 106,
    "start_time": "2025-01-25T01:07:47.463Z"
   },
   {
    "duration": 5,
    "start_time": "2025-01-25T02:13:19.400Z"
   },
   {
    "duration": 147,
    "start_time": "2025-01-25T02:13:21.779Z"
   },
   {
    "duration": 307,
    "start_time": "2025-01-25T02:14:42.078Z"
   },
   {
    "duration": 163,
    "start_time": "2025-01-25T02:19:59.973Z"
   },
   {
    "duration": 163,
    "start_time": "2025-01-25T02:20:46.762Z"
   },
   {
    "duration": 177,
    "start_time": "2025-01-25T02:27:19.858Z"
   },
   {
    "duration": 185,
    "start_time": "2025-01-25T02:27:51.309Z"
   },
   {
    "duration": 4,
    "start_time": "2025-01-25T02:44:50.953Z"
   },
   {
    "duration": 5,
    "start_time": "2025-01-25T02:46:08.923Z"
   },
   {
    "duration": 4,
    "start_time": "2025-01-25T02:46:20.046Z"
   },
   {
    "duration": 4,
    "start_time": "2025-01-25T02:48:39.697Z"
   },
   {
    "duration": 4,
    "start_time": "2025-01-25T02:49:09.943Z"
   },
   {
    "duration": 106,
    "start_time": "2025-01-25T02:51:31.468Z"
   },
   {
    "duration": 136,
    "start_time": "2025-01-25T02:52:34.015Z"
   },
   {
    "duration": 105,
    "start_time": "2025-01-25T02:52:54.593Z"
   },
   {
    "duration": 110,
    "start_time": "2025-01-25T02:53:15.339Z"
   },
   {
    "duration": 112,
    "start_time": "2025-01-25T02:54:04.508Z"
   },
   {
    "duration": 108,
    "start_time": "2025-01-25T02:54:37.797Z"
   },
   {
    "duration": 172,
    "start_time": "2025-01-25T02:55:41.021Z"
   },
   {
    "duration": 109,
    "start_time": "2025-01-25T02:56:15.861Z"
   },
   {
    "duration": 5,
    "start_time": "2025-01-25T02:59:38.764Z"
   },
   {
    "duration": 100,
    "start_time": "2025-01-25T03:02:02.691Z"
   },
   {
    "duration": 4,
    "start_time": "2025-01-25T03:04:10.953Z"
   },
   {
    "duration": 107,
    "start_time": "2025-01-25T03:05:54.636Z"
   },
   {
    "duration": 108,
    "start_time": "2025-01-25T03:06:07.419Z"
   },
   {
    "duration": 2537,
    "start_time": "2025-01-25T21:23:16.818Z"
   },
   {
    "duration": 216,
    "start_time": "2025-01-25T21:23:19.357Z"
   },
   {
    "duration": 98,
    "start_time": "2025-01-25T21:23:19.575Z"
   },
   {
    "duration": 33,
    "start_time": "2025-01-25T21:23:19.675Z"
   },
   {
    "duration": 25,
    "start_time": "2025-01-25T21:23:19.711Z"
   },
   {
    "duration": 10,
    "start_time": "2025-01-25T21:23:19.737Z"
   },
   {
    "duration": 98,
    "start_time": "2025-01-25T21:23:19.749Z"
   },
   {
    "duration": 32,
    "start_time": "2025-01-25T21:23:19.849Z"
   },
   {
    "duration": 23,
    "start_time": "2025-01-25T21:23:19.883Z"
   },
   {
    "duration": 48,
    "start_time": "2025-01-25T21:23:19.911Z"
   },
   {
    "duration": 14,
    "start_time": "2025-01-25T21:23:19.961Z"
   },
   {
    "duration": 30,
    "start_time": "2025-01-25T21:23:19.977Z"
   },
   {
    "duration": 26,
    "start_time": "2025-01-25T21:23:20.009Z"
   },
   {
    "duration": 4,
    "start_time": "2025-01-25T21:23:20.037Z"
   },
   {
    "duration": 5,
    "start_time": "2025-01-25T21:23:20.043Z"
   },
   {
    "duration": 18,
    "start_time": "2025-01-25T21:23:20.049Z"
   },
   {
    "duration": 38,
    "start_time": "2025-01-25T21:23:20.068Z"
   },
   {
    "duration": 5,
    "start_time": "2025-01-25T21:23:20.108Z"
   },
   {
    "duration": 8,
    "start_time": "2025-01-25T21:23:20.115Z"
   },
   {
    "duration": 8,
    "start_time": "2025-01-25T21:23:20.125Z"
   },
   {
    "duration": 4,
    "start_time": "2025-01-25T21:23:20.134Z"
   },
   {
    "duration": 10,
    "start_time": "2025-01-25T21:23:20.139Z"
   },
   {
    "duration": 8,
    "start_time": "2025-01-25T21:23:20.150Z"
   },
   {
    "duration": 46,
    "start_time": "2025-01-25T21:23:20.160Z"
   },
   {
    "duration": 16,
    "start_time": "2025-01-25T21:23:20.208Z"
   },
   {
    "duration": 12,
    "start_time": "2025-01-25T21:23:20.226Z"
   },
   {
    "duration": 5,
    "start_time": "2025-01-25T21:23:20.239Z"
   },
   {
    "duration": 25,
    "start_time": "2025-01-25T21:23:20.248Z"
   },
   {
    "duration": 39,
    "start_time": "2025-01-25T21:23:20.275Z"
   },
   {
    "duration": 13,
    "start_time": "2025-01-25T21:23:20.316Z"
   },
   {
    "duration": 7,
    "start_time": "2025-01-25T21:23:20.331Z"
   },
   {
    "duration": 9,
    "start_time": "2025-01-25T21:23:20.339Z"
   },
   {
    "duration": 16,
    "start_time": "2025-01-25T21:23:20.351Z"
   },
   {
    "duration": 46,
    "start_time": "2025-01-25T21:23:20.369Z"
   },
   {
    "duration": 14,
    "start_time": "2025-01-25T21:23:20.417Z"
   },
   {
    "duration": 13,
    "start_time": "2025-01-25T21:23:20.433Z"
   },
   {
    "duration": 6,
    "start_time": "2025-01-25T21:23:20.448Z"
   },
   {
    "duration": 11,
    "start_time": "2025-01-25T21:23:20.456Z"
   },
   {
    "duration": 65,
    "start_time": "2025-01-25T21:23:20.469Z"
   },
   {
    "duration": 14,
    "start_time": "2025-01-25T21:23:20.536Z"
   },
   {
    "duration": 9,
    "start_time": "2025-01-25T21:23:20.551Z"
   },
   {
    "duration": 44,
    "start_time": "2025-01-25T21:23:20.562Z"
   },
   {
    "duration": 10,
    "start_time": "2025-01-25T21:23:20.609Z"
   },
   {
    "duration": 18,
    "start_time": "2025-01-25T21:23:20.621Z"
   },
   {
    "duration": 14,
    "start_time": "2025-01-25T21:23:20.641Z"
   },
   {
    "duration": 12,
    "start_time": "2025-01-25T21:23:20.656Z"
   },
   {
    "duration": 47,
    "start_time": "2025-01-25T21:23:20.670Z"
   },
   {
    "duration": 24,
    "start_time": "2025-01-25T21:23:20.719Z"
   },
   {
    "duration": 34,
    "start_time": "2025-01-25T21:23:20.745Z"
   },
   {
    "duration": 48,
    "start_time": "2025-01-25T21:23:20.782Z"
   },
   {
    "duration": 228,
    "start_time": "2025-01-25T21:23:20.832Z"
   },
   {
    "duration": 171,
    "start_time": "2025-01-25T21:23:21.062Z"
   },
   {
    "duration": 5,
    "start_time": "2025-01-25T21:23:21.235Z"
   },
   {
    "duration": 173,
    "start_time": "2025-01-25T21:23:21.242Z"
   },
   {
    "duration": 4,
    "start_time": "2025-01-25T21:23:21.417Z"
   },
   {
    "duration": 173,
    "start_time": "2025-01-25T21:23:21.423Z"
   },
   {
    "duration": 175,
    "start_time": "2025-01-25T21:23:21.597Z"
   },
   {
    "duration": 4,
    "start_time": "2025-01-25T21:23:21.775Z"
   },
   {
    "duration": 111,
    "start_time": "2025-01-25T21:23:21.780Z"
   },
   {
    "duration": 170,
    "start_time": "2025-01-25T21:23:21.893Z"
   },
   {
    "duration": 3,
    "start_time": "2025-01-25T21:23:22.065Z"
   },
   {
    "duration": 114,
    "start_time": "2025-01-25T21:23:22.070Z"
   },
   {
    "duration": 172,
    "start_time": "2025-01-25T21:23:24.878Z"
   },
   {
    "duration": 167,
    "start_time": "2025-01-25T21:25:44.457Z"
   },
   {
    "duration": 163,
    "start_time": "2025-01-25T21:26:00.866Z"
   },
   {
    "duration": 167,
    "start_time": "2025-01-25T21:26:33.440Z"
   },
   {
    "duration": 5,
    "start_time": "2025-01-25T21:28:01.265Z"
   },
   {
    "duration": 103,
    "start_time": "2025-01-25T21:29:33.576Z"
   },
   {
    "duration": 3,
    "start_time": "2025-01-26T02:25:56.765Z"
   },
   {
    "duration": 165,
    "start_time": "2025-01-26T02:25:56.791Z"
   },
   {
    "duration": 101,
    "start_time": "2025-01-26T02:25:56.958Z"
   },
   {
    "duration": 15,
    "start_time": "2025-01-26T02:25:57.061Z"
   },
   {
    "duration": 33,
    "start_time": "2025-01-26T02:25:57.078Z"
   },
   {
    "duration": 9,
    "start_time": "2025-01-26T02:25:57.114Z"
   },
   {
    "duration": 84,
    "start_time": "2025-01-26T02:25:57.124Z"
   },
   {
    "duration": 30,
    "start_time": "2025-01-26T02:25:57.210Z"
   },
   {
    "duration": 11,
    "start_time": "2025-01-26T02:25:57.241Z"
   },
   {
    "duration": 69,
    "start_time": "2025-01-26T02:25:57.254Z"
   },
   {
    "duration": 17,
    "start_time": "2025-01-26T02:25:57.325Z"
   },
   {
    "duration": 10,
    "start_time": "2025-01-26T02:25:57.344Z"
   },
   {
    "duration": 25,
    "start_time": "2025-01-26T02:25:57.356Z"
   },
   {
    "duration": 4,
    "start_time": "2025-01-26T02:25:57.406Z"
   },
   {
    "duration": 5,
    "start_time": "2025-01-26T02:25:57.415Z"
   },
   {
    "duration": 19,
    "start_time": "2025-01-26T02:25:57.422Z"
   },
   {
    "duration": 6,
    "start_time": "2025-01-26T02:25:57.442Z"
   },
   {
    "duration": 4,
    "start_time": "2025-01-26T02:25:57.450Z"
   },
   {
    "duration": 8,
    "start_time": "2025-01-26T02:25:57.456Z"
   },
   {
    "duration": 8,
    "start_time": "2025-01-26T02:25:57.504Z"
   },
   {
    "duration": 4,
    "start_time": "2025-01-26T02:25:57.514Z"
   },
   {
    "duration": 9,
    "start_time": "2025-01-26T02:25:57.519Z"
   },
   {
    "duration": 8,
    "start_time": "2025-01-26T02:25:57.529Z"
   },
   {
    "duration": 7,
    "start_time": "2025-01-26T02:25:57.539Z"
   },
   {
    "duration": 13,
    "start_time": "2025-01-26T02:25:57.547Z"
   },
   {
    "duration": 44,
    "start_time": "2025-01-26T02:25:57.562Z"
   },
   {
    "duration": 4,
    "start_time": "2025-01-26T02:25:57.608Z"
   },
   {
    "duration": 106,
    "start_time": "2025-01-26T02:25:57.614Z"
   },
   {
    "duration": 10,
    "start_time": "2025-01-26T02:25:57.722Z"
   },
   {
    "duration": 11,
    "start_time": "2025-01-26T02:25:57.734Z"
   },
   {
    "duration": 5,
    "start_time": "2025-01-26T02:25:57.747Z"
   },
   {
    "duration": 9,
    "start_time": "2025-01-26T02:25:57.754Z"
   },
   {
    "duration": 47,
    "start_time": "2025-01-26T02:25:57.765Z"
   },
   {
    "duration": 12,
    "start_time": "2025-01-26T02:25:57.813Z"
   },
   {
    "duration": 12,
    "start_time": "2025-01-26T02:25:57.826Z"
   },
   {
    "duration": 13,
    "start_time": "2025-01-26T02:25:57.839Z"
   },
   {
    "duration": 7,
    "start_time": "2025-01-26T02:25:57.853Z"
   },
   {
    "duration": 44,
    "start_time": "2025-01-26T02:25:57.861Z"
   },
   {
    "duration": 29,
    "start_time": "2025-01-26T02:25:57.907Z"
   },
   {
    "duration": 14,
    "start_time": "2025-01-26T02:25:57.937Z"
   },
   {
    "duration": 9,
    "start_time": "2025-01-26T02:25:57.952Z"
   },
   {
    "duration": 42,
    "start_time": "2025-01-26T02:25:57.966Z"
   },
   {
    "duration": 9,
    "start_time": "2025-01-26T02:25:58.010Z"
   },
   {
    "duration": 15,
    "start_time": "2025-01-26T02:25:58.021Z"
   },
   {
    "duration": 9,
    "start_time": "2025-01-26T02:25:58.038Z"
   },
   {
    "duration": 10,
    "start_time": "2025-01-26T02:25:58.048Z"
   },
   {
    "duration": 12,
    "start_time": "2025-01-26T02:25:58.060Z"
   },
   {
    "duration": 53,
    "start_time": "2025-01-26T02:25:58.073Z"
   },
   {
    "duration": 27,
    "start_time": "2025-01-26T02:25:58.128Z"
   },
   {
    "duration": 22,
    "start_time": "2025-01-26T02:25:58.156Z"
   },
   {
    "duration": 229,
    "start_time": "2025-01-26T02:25:58.180Z"
   },
   {
    "duration": 165,
    "start_time": "2025-01-26T02:25:58.411Z"
   },
   {
    "duration": 4,
    "start_time": "2025-01-26T02:25:58.578Z"
   },
   {
    "duration": 172,
    "start_time": "2025-01-26T02:25:58.584Z"
   },
   {
    "duration": 3,
    "start_time": "2025-01-26T02:25:58.759Z"
   },
   {
    "duration": 120,
    "start_time": "2025-01-26T02:25:58.764Z"
   },
   {
    "duration": 167,
    "start_time": "2025-01-26T02:25:58.886Z"
   },
   {
    "duration": 4,
    "start_time": "2025-01-26T02:25:59.055Z"
   },
   {
    "duration": 114,
    "start_time": "2025-01-26T02:25:59.061Z"
   },
   {
    "duration": 170,
    "start_time": "2025-01-26T02:25:59.176Z"
   },
   {
    "duration": 4,
    "start_time": "2025-01-26T02:25:59.347Z"
   },
   {
    "duration": 126,
    "start_time": "2025-01-26T02:25:59.353Z"
   },
   {
    "duration": 243,
    "start_time": "2025-01-26T02:25:59.481Z"
   },
   {
    "duration": 5,
    "start_time": "2025-01-26T02:25:59.726Z"
   },
   {
    "duration": 115,
    "start_time": "2025-01-26T02:25:59.732Z"
   },
   {
    "duration": 2,
    "start_time": "2025-01-26T02:25:59.849Z"
   },
   {
    "duration": 2,
    "start_time": "2025-01-26T02:25:59.853Z"
   },
   {
    "duration": 221,
    "start_time": "2025-01-26T02:36:05.959Z"
   },
   {
    "duration": 17,
    "start_time": "2025-01-26T02:37:23.944Z"
   },
   {
    "duration": 7,
    "start_time": "2025-01-26T02:38:37.647Z"
   },
   {
    "duration": 7,
    "start_time": "2025-01-26T02:39:40.979Z"
   },
   {
    "duration": 5,
    "start_time": "2025-01-26T02:40:53.793Z"
   },
   {
    "duration": 3,
    "start_time": "2025-01-26T02:41:01.220Z"
   },
   {
    "duration": 7,
    "start_time": "2025-01-26T02:49:11.972Z"
   },
   {
    "duration": 7,
    "start_time": "2025-01-26T02:50:15.897Z"
   },
   {
    "duration": 7,
    "start_time": "2025-01-26T02:57:49.868Z"
   },
   {
    "duration": 880,
    "start_time": "2025-01-26T02:58:29.715Z"
   },
   {
    "duration": 169,
    "start_time": "2025-01-26T02:58:30.597Z"
   },
   {
    "duration": 98,
    "start_time": "2025-01-26T02:58:30.768Z"
   },
   {
    "duration": 16,
    "start_time": "2025-01-26T02:58:30.868Z"
   },
   {
    "duration": 35,
    "start_time": "2025-01-26T02:58:30.887Z"
   },
   {
    "duration": 9,
    "start_time": "2025-01-26T02:58:30.923Z"
   },
   {
    "duration": 86,
    "start_time": "2025-01-26T02:58:30.933Z"
   },
   {
    "duration": 43,
    "start_time": "2025-01-26T02:58:31.021Z"
   },
   {
    "duration": 10,
    "start_time": "2025-01-26T02:58:31.066Z"
   },
   {
    "duration": 63,
    "start_time": "2025-01-26T02:58:31.078Z"
   },
   {
    "duration": 15,
    "start_time": "2025-01-26T02:58:31.143Z"
   },
   {
    "duration": 9,
    "start_time": "2025-01-26T02:58:31.160Z"
   },
   {
    "duration": 51,
    "start_time": "2025-01-26T02:58:31.170Z"
   },
   {
    "duration": 4,
    "start_time": "2025-01-26T02:58:31.224Z"
   },
   {
    "duration": 8,
    "start_time": "2025-01-26T02:58:31.229Z"
   },
   {
    "duration": 25,
    "start_time": "2025-01-26T02:58:31.238Z"
   },
   {
    "duration": 6,
    "start_time": "2025-01-26T02:58:31.264Z"
   },
   {
    "duration": 5,
    "start_time": "2025-01-26T02:58:31.272Z"
   },
   {
    "duration": 29,
    "start_time": "2025-01-26T02:58:31.279Z"
   },
   {
    "duration": 7,
    "start_time": "2025-01-26T02:58:31.310Z"
   },
   {
    "duration": 5,
    "start_time": "2025-01-26T02:58:31.318Z"
   },
   {
    "duration": 9,
    "start_time": "2025-01-26T02:58:31.325Z"
   },
   {
    "duration": 7,
    "start_time": "2025-01-26T02:58:31.336Z"
   },
   {
    "duration": 8,
    "start_time": "2025-01-26T02:58:31.345Z"
   },
   {
    "duration": 55,
    "start_time": "2025-01-26T02:58:31.354Z"
   },
   {
    "duration": 12,
    "start_time": "2025-01-26T02:58:31.411Z"
   },
   {
    "duration": 5,
    "start_time": "2025-01-26T02:58:31.425Z"
   },
   {
    "duration": 24,
    "start_time": "2025-01-26T02:58:31.432Z"
   },
   {
    "duration": 9,
    "start_time": "2025-01-26T02:58:31.458Z"
   },
   {
    "duration": 41,
    "start_time": "2025-01-26T02:58:31.469Z"
   },
   {
    "duration": 7,
    "start_time": "2025-01-26T02:58:31.512Z"
   },
   {
    "duration": 10,
    "start_time": "2025-01-26T02:58:31.521Z"
   },
   {
    "duration": 17,
    "start_time": "2025-01-26T02:58:31.532Z"
   },
   {
    "duration": 12,
    "start_time": "2025-01-26T02:58:31.551Z"
   },
   {
    "duration": 41,
    "start_time": "2025-01-26T02:58:31.565Z"
   },
   {
    "duration": 13,
    "start_time": "2025-01-26T02:58:31.609Z"
   },
   {
    "duration": 7,
    "start_time": "2025-01-26T02:58:31.623Z"
   },
   {
    "duration": 11,
    "start_time": "2025-01-26T02:58:31.631Z"
   },
   {
    "duration": 33,
    "start_time": "2025-01-26T02:58:31.643Z"
   },
   {
    "duration": 15,
    "start_time": "2025-01-26T02:58:31.706Z"
   },
   {
    "duration": 9,
    "start_time": "2025-01-26T02:58:31.727Z"
   },
   {
    "duration": 18,
    "start_time": "2025-01-26T02:58:31.738Z"
   },
   {
    "duration": 10,
    "start_time": "2025-01-26T02:58:31.758Z"
   },
   {
    "duration": 48,
    "start_time": "2025-01-26T02:58:31.770Z"
   },
   {
    "duration": 12,
    "start_time": "2025-01-26T02:58:31.820Z"
   },
   {
    "duration": 12,
    "start_time": "2025-01-26T02:58:31.834Z"
   },
   {
    "duration": 14,
    "start_time": "2025-01-26T02:58:31.848Z"
   },
   {
    "duration": 99,
    "start_time": "2025-01-26T02:58:31.863Z"
   },
   {
    "duration": 28,
    "start_time": "2025-01-26T02:58:31.964Z"
   },
   {
    "duration": 25,
    "start_time": "2025-01-26T02:58:32.005Z"
   },
   {
    "duration": 224,
    "start_time": "2025-01-26T02:58:32.032Z"
   },
   {
    "duration": 181,
    "start_time": "2025-01-26T02:58:32.258Z"
   },
   {
    "duration": 7,
    "start_time": "2025-01-26T02:58:32.441Z"
   },
   {
    "duration": 165,
    "start_time": "2025-01-26T02:58:32.449Z"
   },
   {
    "duration": 4,
    "start_time": "2025-01-26T02:58:32.616Z"
   },
   {
    "duration": 127,
    "start_time": "2025-01-26T02:58:32.622Z"
   },
   {
    "duration": 173,
    "start_time": "2025-01-26T02:58:32.751Z"
   },
   {
    "duration": 4,
    "start_time": "2025-01-26T02:58:32.926Z"
   },
   {
    "duration": 117,
    "start_time": "2025-01-26T02:58:32.931Z"
   },
   {
    "duration": 184,
    "start_time": "2025-01-26T02:58:33.050Z"
   },
   {
    "duration": 5,
    "start_time": "2025-01-26T02:58:33.236Z"
   },
   {
    "duration": 117,
    "start_time": "2025-01-26T02:58:33.243Z"
   },
   {
    "duration": 175,
    "start_time": "2025-01-26T02:58:33.362Z"
   },
   {
    "duration": 4,
    "start_time": "2025-01-26T02:58:33.540Z"
   },
   {
    "duration": 178,
    "start_time": "2025-01-26T02:58:33.546Z"
   },
   {
    "duration": 7,
    "start_time": "2025-01-26T02:58:33.726Z"
   },
   {
    "duration": 2,
    "start_time": "2025-01-26T02:58:33.735Z"
   },
   {
    "duration": 174,
    "start_time": "2025-01-26T02:59:07.724Z"
   },
   {
    "duration": 174,
    "start_time": "2025-01-26T02:59:17.288Z"
   },
   {
    "duration": 6,
    "start_time": "2025-01-26T02:59:22.596Z"
   },
   {
    "duration": 6,
    "start_time": "2025-01-26T03:36:47.011Z"
   },
   {
    "duration": 2538,
    "start_time": "2025-01-27T01:25:06.449Z"
   },
   {
    "duration": 223,
    "start_time": "2025-01-27T01:25:08.989Z"
   },
   {
    "duration": 98,
    "start_time": "2025-01-27T01:25:09.217Z"
   },
   {
    "duration": 16,
    "start_time": "2025-01-27T01:25:09.317Z"
   },
   {
    "duration": 23,
    "start_time": "2025-01-27T01:25:09.335Z"
   },
   {
    "duration": 10,
    "start_time": "2025-01-27T01:25:09.360Z"
   },
   {
    "duration": 100,
    "start_time": "2025-01-27T01:25:09.371Z"
   },
   {
    "duration": 38,
    "start_time": "2025-01-27T01:25:09.473Z"
   },
   {
    "duration": 11,
    "start_time": "2025-01-27T01:25:09.514Z"
   },
   {
    "duration": 48,
    "start_time": "2025-01-27T01:25:09.526Z"
   },
   {
    "duration": 14,
    "start_time": "2025-01-27T01:25:09.576Z"
   },
   {
    "duration": 9,
    "start_time": "2025-01-27T01:25:09.611Z"
   },
   {
    "duration": 27,
    "start_time": "2025-01-27T01:25:09.622Z"
   },
   {
    "duration": 4,
    "start_time": "2025-01-27T01:25:09.650Z"
   },
   {
    "duration": 6,
    "start_time": "2025-01-27T01:25:09.656Z"
   },
   {
    "duration": 17,
    "start_time": "2025-01-27T01:25:09.663Z"
   },
   {
    "duration": 5,
    "start_time": "2025-01-27T01:25:09.712Z"
   },
   {
    "duration": 4,
    "start_time": "2025-01-27T01:25:09.719Z"
   },
   {
    "duration": 7,
    "start_time": "2025-01-27T01:25:09.725Z"
   },
   {
    "duration": 7,
    "start_time": "2025-01-27T01:25:09.734Z"
   },
   {
    "duration": 4,
    "start_time": "2025-01-27T01:25:09.742Z"
   },
   {
    "duration": 9,
    "start_time": "2025-01-27T01:25:09.748Z"
   },
   {
    "duration": 8,
    "start_time": "2025-01-27T01:25:09.758Z"
   },
   {
    "duration": 46,
    "start_time": "2025-01-27T01:25:09.767Z"
   },
   {
    "duration": 13,
    "start_time": "2025-01-27T01:25:09.815Z"
   },
   {
    "duration": 11,
    "start_time": "2025-01-27T01:25:09.829Z"
   },
   {
    "duration": 4,
    "start_time": "2025-01-27T01:25:09.844Z"
   },
   {
    "duration": 23,
    "start_time": "2025-01-27T01:25:09.850Z"
   },
   {
    "duration": 43,
    "start_time": "2025-01-27T01:25:09.875Z"
   },
   {
    "duration": 12,
    "start_time": "2025-01-27T01:25:09.920Z"
   },
   {
    "duration": 5,
    "start_time": "2025-01-27T01:25:09.933Z"
   },
   {
    "duration": 9,
    "start_time": "2025-01-27T01:25:09.940Z"
   },
   {
    "duration": 19,
    "start_time": "2025-01-27T01:25:09.953Z"
   },
   {
    "duration": 41,
    "start_time": "2025-01-27T01:25:09.973Z"
   },
   {
    "duration": 12,
    "start_time": "2025-01-27T01:25:10.016Z"
   },
   {
    "duration": 13,
    "start_time": "2025-01-27T01:25:10.031Z"
   },
   {
    "duration": 6,
    "start_time": "2025-01-27T01:25:10.046Z"
   },
   {
    "duration": 11,
    "start_time": "2025-01-27T01:25:10.054Z"
   },
   {
    "duration": 64,
    "start_time": "2025-01-27T01:25:10.066Z"
   },
   {
    "duration": 15,
    "start_time": "2025-01-27T01:25:10.132Z"
   },
   {
    "duration": 8,
    "start_time": "2025-01-27T01:25:10.149Z"
   },
   {
    "duration": 18,
    "start_time": "2025-01-27T01:25:10.159Z"
   },
   {
    "duration": 34,
    "start_time": "2025-01-27T01:25:10.179Z"
   },
   {
    "duration": 17,
    "start_time": "2025-01-27T01:25:10.215Z"
   },
   {
    "duration": 13,
    "start_time": "2025-01-27T01:25:10.233Z"
   },
   {
    "duration": 11,
    "start_time": "2025-01-27T01:25:10.248Z"
   },
   {
    "duration": 13,
    "start_time": "2025-01-27T01:25:10.261Z"
   },
   {
    "duration": 53,
    "start_time": "2025-01-27T01:25:10.276Z"
   },
   {
    "duration": 28,
    "start_time": "2025-01-27T01:25:10.330Z"
   },
   {
    "duration": 23,
    "start_time": "2025-01-27T01:25:10.359Z"
   },
   {
    "duration": 230,
    "start_time": "2025-01-27T01:25:10.384Z"
   },
   {
    "duration": 180,
    "start_time": "2025-01-27T01:25:10.616Z"
   },
   {
    "duration": 14,
    "start_time": "2025-01-27T01:25:10.798Z"
   },
   {
    "duration": 162,
    "start_time": "2025-01-27T01:25:10.814Z"
   },
   {
    "duration": 4,
    "start_time": "2025-01-27T01:25:10.978Z"
   },
   {
    "duration": 183,
    "start_time": "2025-01-27T01:25:10.984Z"
   },
   {
    "duration": 170,
    "start_time": "2025-01-27T01:25:11.169Z"
   },
   {
    "duration": 4,
    "start_time": "2025-01-27T01:25:11.341Z"
   },
   {
    "duration": 113,
    "start_time": "2025-01-27T01:25:11.346Z"
   },
   {
    "duration": 175,
    "start_time": "2025-01-27T01:25:11.460Z"
   },
   {
    "duration": 4,
    "start_time": "2025-01-27T01:25:11.637Z"
   },
   {
    "duration": 119,
    "start_time": "2025-01-27T01:25:11.643Z"
   },
   {
    "duration": 183,
    "start_time": "2025-01-27T01:25:11.764Z"
   },
   {
    "duration": 4,
    "start_time": "2025-01-27T01:25:11.948Z"
   },
   {
    "duration": 111,
    "start_time": "2025-01-27T01:25:11.954Z"
   },
   {
    "duration": 6,
    "start_time": "2025-01-27T01:25:12.067Z"
   },
   {
    "duration": 8,
    "start_time": "2025-01-27T01:25:12.075Z"
   },
   {
    "duration": 176,
    "start_time": "2025-01-27T01:42:44.007Z"
   },
   {
    "duration": 3027,
    "start_time": "2025-01-28T00:42:28.331Z"
   },
   {
    "duration": 268,
    "start_time": "2025-01-28T00:42:31.361Z"
   },
   {
    "duration": 112,
    "start_time": "2025-01-28T00:42:31.631Z"
   },
   {
    "duration": 17,
    "start_time": "2025-01-28T00:42:31.745Z"
   },
   {
    "duration": 23,
    "start_time": "2025-01-28T00:42:31.763Z"
   },
   {
    "duration": 47,
    "start_time": "2025-01-28T00:42:31.787Z"
   },
   {
    "duration": 98,
    "start_time": "2025-01-28T00:42:31.835Z"
   },
   {
    "duration": 30,
    "start_time": "2025-01-28T00:42:31.935Z"
   },
   {
    "duration": 12,
    "start_time": "2025-01-28T00:42:31.966Z"
   },
   {
    "duration": 67,
    "start_time": "2025-01-28T00:42:31.981Z"
   },
   {
    "duration": 15,
    "start_time": "2025-01-28T00:42:32.050Z"
   },
   {
    "duration": 10,
    "start_time": "2025-01-28T00:42:32.066Z"
   },
   {
    "duration": 31,
    "start_time": "2025-01-28T00:42:32.077Z"
   },
   {
    "duration": 11,
    "start_time": "2025-01-28T00:42:32.109Z"
   },
   {
    "duration": 6,
    "start_time": "2025-01-28T00:42:32.122Z"
   },
   {
    "duration": 22,
    "start_time": "2025-01-28T00:42:32.130Z"
   },
   {
    "duration": 5,
    "start_time": "2025-01-28T00:42:32.153Z"
   },
   {
    "duration": 5,
    "start_time": "2025-01-28T00:42:32.159Z"
   },
   {
    "duration": 7,
    "start_time": "2025-01-28T00:42:32.166Z"
   },
   {
    "duration": 7,
    "start_time": "2025-01-28T00:42:32.175Z"
   },
   {
    "duration": 50,
    "start_time": "2025-01-28T00:42:32.183Z"
   },
   {
    "duration": 11,
    "start_time": "2025-01-28T00:42:32.235Z"
   },
   {
    "duration": 7,
    "start_time": "2025-01-28T00:42:32.248Z"
   },
   {
    "duration": 9,
    "start_time": "2025-01-28T00:42:32.257Z"
   },
   {
    "duration": 13,
    "start_time": "2025-01-28T00:42:32.268Z"
   },
   {
    "duration": 11,
    "start_time": "2025-01-28T00:42:32.283Z"
   },
   {
    "duration": 15,
    "start_time": "2025-01-28T00:42:32.317Z"
   },
   {
    "duration": 25,
    "start_time": "2025-01-28T00:42:32.339Z"
   },
   {
    "duration": 12,
    "start_time": "2025-01-28T00:42:32.366Z"
   },
   {
    "duration": 12,
    "start_time": "2025-01-28T00:42:32.379Z"
   },
   {
    "duration": 21,
    "start_time": "2025-01-28T00:42:32.412Z"
   },
   {
    "duration": 13,
    "start_time": "2025-01-28T00:42:32.435Z"
   },
   {
    "duration": 21,
    "start_time": "2025-01-28T00:42:32.450Z"
   },
   {
    "duration": 12,
    "start_time": "2025-01-28T00:42:32.473Z"
   },
   {
    "duration": 45,
    "start_time": "2025-01-28T00:42:32.487Z"
   },
   {
    "duration": 16,
    "start_time": "2025-01-28T00:42:32.539Z"
   },
   {
    "duration": 6,
    "start_time": "2025-01-28T00:42:32.557Z"
   },
   {
    "duration": 12,
    "start_time": "2025-01-28T00:42:32.565Z"
   },
   {
    "duration": 55,
    "start_time": "2025-01-28T00:42:32.579Z"
   },
   {
    "duration": 20,
    "start_time": "2025-01-28T00:42:32.645Z"
   },
   {
    "duration": 8,
    "start_time": "2025-01-28T00:42:32.667Z"
   },
   {
    "duration": 17,
    "start_time": "2025-01-28T00:42:32.677Z"
   },
   {
    "duration": 25,
    "start_time": "2025-01-28T00:42:32.695Z"
   },
   {
    "duration": 19,
    "start_time": "2025-01-28T00:42:32.735Z"
   },
   {
    "duration": 14,
    "start_time": "2025-01-28T00:42:32.755Z"
   },
   {
    "duration": 13,
    "start_time": "2025-01-28T00:42:32.770Z"
   },
   {
    "duration": 14,
    "start_time": "2025-01-28T00:42:32.785Z"
   },
   {
    "duration": 41,
    "start_time": "2025-01-28T00:42:32.801Z"
   },
   {
    "duration": 30,
    "start_time": "2025-01-28T00:42:32.843Z"
   },
   {
    "duration": 42,
    "start_time": "2025-01-28T00:42:32.874Z"
   },
   {
    "duration": 277,
    "start_time": "2025-01-28T00:42:32.919Z"
   },
   {
    "duration": 6,
    "start_time": "2025-01-28T00:42:33.198Z"
   },
   {
    "duration": 211,
    "start_time": "2025-01-28T00:42:33.221Z"
   },
   {
    "duration": 3,
    "start_time": "2025-01-28T00:42:33.435Z"
   },
   {
    "duration": 195,
    "start_time": "2025-01-28T00:42:33.440Z"
   },
   {
    "duration": 206,
    "start_time": "2025-01-28T00:42:33.637Z"
   },
   {
    "duration": 4,
    "start_time": "2025-01-28T00:42:33.845Z"
   },
   {
    "duration": 122,
    "start_time": "2025-01-28T00:42:33.850Z"
   },
   {
    "duration": 208,
    "start_time": "2025-01-28T00:42:33.973Z"
   },
   {
    "duration": 4,
    "start_time": "2025-01-28T00:42:34.184Z"
   },
   {
    "duration": 127,
    "start_time": "2025-01-28T00:42:34.189Z"
   },
   {
    "duration": 216,
    "start_time": "2025-01-28T00:42:34.318Z"
   },
   {
    "duration": 4,
    "start_time": "2025-01-28T00:42:34.535Z"
   },
   {
    "duration": 115,
    "start_time": "2025-01-28T00:42:34.541Z"
   },
   {
    "duration": 6,
    "start_time": "2025-01-28T00:42:34.658Z"
   },
   {
    "duration": 7,
    "start_time": "2025-01-28T00:42:34.666Z"
   },
   {
    "duration": 114,
    "start_time": "2025-01-28T01:04:20.219Z"
   },
   {
    "duration": 3,
    "start_time": "2025-01-28T02:30:02.243Z"
   },
   {
    "duration": 846,
    "start_time": "2025-01-28T02:33:24.447Z"
   },
   {
    "duration": 160,
    "start_time": "2025-01-28T02:33:25.295Z"
   },
   {
    "duration": 93,
    "start_time": "2025-01-28T02:33:25.457Z"
   },
   {
    "duration": 16,
    "start_time": "2025-01-28T02:33:25.552Z"
   },
   {
    "duration": 37,
    "start_time": "2025-01-28T02:33:25.569Z"
   },
   {
    "duration": 10,
    "start_time": "2025-01-28T02:33:25.608Z"
   },
   {
    "duration": 98,
    "start_time": "2025-01-28T02:33:25.619Z"
   },
   {
    "duration": 31,
    "start_time": "2025-01-28T02:33:25.719Z"
   },
   {
    "duration": 10,
    "start_time": "2025-01-28T02:33:25.752Z"
   },
   {
    "duration": 65,
    "start_time": "2025-01-28T02:33:25.765Z"
   },
   {
    "duration": 15,
    "start_time": "2025-01-28T02:33:25.832Z"
   },
   {
    "duration": 9,
    "start_time": "2025-01-28T02:33:25.848Z"
   },
   {
    "duration": 48,
    "start_time": "2025-01-28T02:33:25.858Z"
   },
   {
    "duration": 5,
    "start_time": "2025-01-28T02:33:25.908Z"
   },
   {
    "duration": 5,
    "start_time": "2025-01-28T02:33:25.915Z"
   },
   {
    "duration": 18,
    "start_time": "2025-01-28T02:33:25.922Z"
   },
   {
    "duration": 5,
    "start_time": "2025-01-28T02:33:25.942Z"
   },
   {
    "duration": 5,
    "start_time": "2025-01-28T02:33:25.948Z"
   },
   {
    "duration": 7,
    "start_time": "2025-01-28T02:33:25.956Z"
   },
   {
    "duration": 47,
    "start_time": "2025-01-28T02:33:25.964Z"
   },
   {
    "duration": 4,
    "start_time": "2025-01-28T02:33:26.013Z"
   },
   {
    "duration": 10,
    "start_time": "2025-01-28T02:33:26.018Z"
   },
   {
    "duration": 7,
    "start_time": "2025-01-28T02:33:26.030Z"
   },
   {
    "duration": 8,
    "start_time": "2025-01-28T02:33:26.039Z"
   },
   {
    "duration": 13,
    "start_time": "2025-01-28T02:33:26.048Z"
   },
   {
    "duration": 50,
    "start_time": "2025-01-28T02:33:26.062Z"
   },
   {
    "duration": 5,
    "start_time": "2025-01-28T02:33:26.114Z"
   },
   {
    "duration": 25,
    "start_time": "2025-01-28T02:33:26.125Z"
   },
   {
    "duration": 11,
    "start_time": "2025-01-28T02:33:26.152Z"
   },
   {
    "duration": 40,
    "start_time": "2025-01-28T02:33:26.165Z"
   },
   {
    "duration": 6,
    "start_time": "2025-01-28T02:33:26.207Z"
   },
   {
    "duration": 10,
    "start_time": "2025-01-28T02:33:26.214Z"
   },
   {
    "duration": 15,
    "start_time": "2025-01-28T02:33:26.227Z"
   },
   {
    "duration": 12,
    "start_time": "2025-01-28T02:33:26.244Z"
   },
   {
    "duration": 13,
    "start_time": "2025-01-28T02:33:26.258Z"
   },
   {
    "duration": 14,
    "start_time": "2025-01-28T02:33:26.304Z"
   },
   {
    "duration": 6,
    "start_time": "2025-01-28T02:33:26.320Z"
   },
   {
    "duration": 10,
    "start_time": "2025-01-28T02:33:26.328Z"
   },
   {
    "duration": 31,
    "start_time": "2025-01-28T02:33:26.340Z"
   },
   {
    "duration": 38,
    "start_time": "2025-01-28T02:33:26.372Z"
   },
   {
    "duration": 9,
    "start_time": "2025-01-28T02:33:26.412Z"
   },
   {
    "duration": 18,
    "start_time": "2025-01-28T02:33:26.423Z"
   },
   {
    "duration": 11,
    "start_time": "2025-01-28T02:33:26.443Z"
   },
   {
    "duration": 17,
    "start_time": "2025-01-28T02:33:26.455Z"
   },
   {
    "duration": 41,
    "start_time": "2025-01-28T02:33:26.473Z"
   },
   {
    "duration": 12,
    "start_time": "2025-01-28T02:33:26.515Z"
   },
   {
    "duration": 14,
    "start_time": "2025-01-28T02:33:26.529Z"
   },
   {
    "duration": 105,
    "start_time": "2025-01-28T02:33:26.545Z"
   },
   {
    "duration": 27,
    "start_time": "2025-01-28T02:33:26.652Z"
   },
   {
    "duration": 37,
    "start_time": "2025-01-28T02:33:26.681Z"
   },
   {
    "duration": 223,
    "start_time": "2025-01-28T02:33:26.720Z"
   },
   {
    "duration": 6,
    "start_time": "2025-01-28T02:33:26.945Z"
   },
   {
    "duration": 169,
    "start_time": "2025-01-28T02:33:26.952Z"
   },
   {
    "duration": 4,
    "start_time": "2025-01-28T02:33:27.123Z"
   },
   {
    "duration": 121,
    "start_time": "2025-01-28T02:33:27.128Z"
   },
   {
    "duration": 163,
    "start_time": "2025-01-28T02:33:27.251Z"
   },
   {
    "duration": 5,
    "start_time": "2025-01-28T02:33:27.416Z"
   },
   {
    "duration": 113,
    "start_time": "2025-01-28T02:33:27.423Z"
   },
   {
    "duration": 178,
    "start_time": "2025-01-28T02:33:27.538Z"
   },
   {
    "duration": 4,
    "start_time": "2025-01-28T02:33:27.718Z"
   },
   {
    "duration": 115,
    "start_time": "2025-01-28T02:33:27.723Z"
   },
   {
    "duration": 173,
    "start_time": "2025-01-28T02:33:27.839Z"
   },
   {
    "duration": 3,
    "start_time": "2025-01-28T02:33:28.014Z"
   },
   {
    "duration": 115,
    "start_time": "2025-01-28T02:33:28.019Z"
   },
   {
    "duration": 6,
    "start_time": "2025-01-28T02:33:28.136Z"
   },
   {
    "duration": 7,
    "start_time": "2025-01-28T02:33:28.144Z"
   },
   {
    "duration": 2599,
    "start_time": "2025-01-28T21:35:52.182Z"
   },
   {
    "duration": 233,
    "start_time": "2025-01-28T21:35:54.783Z"
   },
   {
    "duration": 89,
    "start_time": "2025-01-28T21:35:55.017Z"
   },
   {
    "duration": 25,
    "start_time": "2025-01-28T21:35:55.108Z"
   },
   {
    "duration": 21,
    "start_time": "2025-01-28T21:35:55.136Z"
   },
   {
    "duration": 10,
    "start_time": "2025-01-28T21:35:55.159Z"
   },
   {
    "duration": 97,
    "start_time": "2025-01-28T21:35:55.170Z"
   },
   {
    "duration": 37,
    "start_time": "2025-01-28T21:35:55.269Z"
   },
   {
    "duration": 27,
    "start_time": "2025-01-28T21:35:55.308Z"
   },
   {
    "duration": 51,
    "start_time": "2025-01-28T21:35:55.336Z"
   },
   {
    "duration": 16,
    "start_time": "2025-01-28T21:35:55.389Z"
   },
   {
    "duration": 27,
    "start_time": "2025-01-28T21:35:55.407Z"
   },
   {
    "duration": 25,
    "start_time": "2025-01-28T21:35:55.436Z"
   },
   {
    "duration": 4,
    "start_time": "2025-01-28T21:35:55.465Z"
   },
   {
    "duration": 5,
    "start_time": "2025-01-28T21:35:55.471Z"
   },
   {
    "duration": 18,
    "start_time": "2025-01-28T21:35:55.478Z"
   },
   {
    "duration": 37,
    "start_time": "2025-01-28T21:35:55.498Z"
   },
   {
    "duration": 6,
    "start_time": "2025-01-28T21:35:55.537Z"
   },
   {
    "duration": 8,
    "start_time": "2025-01-28T21:35:55.545Z"
   },
   {
    "duration": 7,
    "start_time": "2025-01-28T21:35:55.555Z"
   },
   {
    "duration": 4,
    "start_time": "2025-01-28T21:35:55.564Z"
   },
   {
    "duration": 10,
    "start_time": "2025-01-28T21:35:55.570Z"
   },
   {
    "duration": 8,
    "start_time": "2025-01-28T21:35:55.582Z"
   },
   {
    "duration": 47,
    "start_time": "2025-01-28T21:35:55.591Z"
   },
   {
    "duration": 14,
    "start_time": "2025-01-28T21:35:55.639Z"
   },
   {
    "duration": 11,
    "start_time": "2025-01-28T21:35:55.655Z"
   },
   {
    "duration": 5,
    "start_time": "2025-01-28T21:35:55.667Z"
   },
   {
    "duration": 25,
    "start_time": "2025-01-28T21:35:55.673Z"
   },
   {
    "duration": 10,
    "start_time": "2025-01-28T21:35:55.731Z"
   },
   {
    "duration": 11,
    "start_time": "2025-01-28T21:35:55.743Z"
   },
   {
    "duration": 5,
    "start_time": "2025-01-28T21:35:55.756Z"
   },
   {
    "duration": 8,
    "start_time": "2025-01-28T21:35:55.763Z"
   },
   {
    "duration": 17,
    "start_time": "2025-01-28T21:35:55.773Z"
   },
   {
    "duration": 44,
    "start_time": "2025-01-28T21:35:55.791Z"
   },
   {
    "duration": 13,
    "start_time": "2025-01-28T21:35:55.837Z"
   },
   {
    "duration": 13,
    "start_time": "2025-01-28T21:35:55.853Z"
   },
   {
    "duration": 7,
    "start_time": "2025-01-28T21:35:55.867Z"
   },
   {
    "duration": 10,
    "start_time": "2025-01-28T21:35:55.876Z"
   },
   {
    "duration": 61,
    "start_time": "2025-01-28T21:35:55.888Z"
   },
   {
    "duration": 14,
    "start_time": "2025-01-28T21:35:55.950Z"
   },
   {
    "duration": 9,
    "start_time": "2025-01-28T21:35:55.969Z"
   },
   {
    "duration": 19,
    "start_time": "2025-01-28T21:35:55.980Z"
   },
   {
    "duration": 39,
    "start_time": "2025-01-28T21:35:56.001Z"
   },
   {
    "duration": 18,
    "start_time": "2025-01-28T21:35:56.042Z"
   },
   {
    "duration": 14,
    "start_time": "2025-01-28T21:35:56.061Z"
   },
   {
    "duration": 12,
    "start_time": "2025-01-28T21:35:56.077Z"
   },
   {
    "duration": 42,
    "start_time": "2025-01-28T21:35:56.090Z"
   },
   {
    "duration": 22,
    "start_time": "2025-01-28T21:35:56.134Z"
   },
   {
    "duration": 27,
    "start_time": "2025-01-28T21:35:56.158Z"
   },
   {
    "duration": 44,
    "start_time": "2025-01-28T21:35:56.187Z"
   },
   {
    "duration": 235,
    "start_time": "2025-01-28T21:35:56.232Z"
   },
   {
    "duration": 6,
    "start_time": "2025-01-28T21:35:56.469Z"
   },
   {
    "duration": 236,
    "start_time": "2025-01-28T21:35:56.477Z"
   },
   {
    "duration": 4,
    "start_time": "2025-01-28T21:35:56.715Z"
   },
   {
    "duration": 125,
    "start_time": "2025-01-28T21:35:56.721Z"
   },
   {
    "duration": 163,
    "start_time": "2025-01-28T21:35:56.848Z"
   },
   {
    "duration": 4,
    "start_time": "2025-01-28T21:35:57.013Z"
   },
   {
    "duration": 105,
    "start_time": "2025-01-28T21:35:57.019Z"
   },
   {
    "duration": 179,
    "start_time": "2025-01-28T21:35:57.126Z"
   },
   {
    "duration": 4,
    "start_time": "2025-01-28T21:35:57.307Z"
   },
   {
    "duration": 119,
    "start_time": "2025-01-28T21:35:57.312Z"
   },
   {
    "duration": 185,
    "start_time": "2025-01-28T21:35:57.433Z"
   },
   {
    "duration": 11,
    "start_time": "2025-01-28T21:35:57.620Z"
   },
   {
    "duration": 125,
    "start_time": "2025-01-28T21:35:57.633Z"
   },
   {
    "duration": 7,
    "start_time": "2025-01-28T21:35:57.760Z"
   },
   {
    "duration": 7,
    "start_time": "2025-01-28T21:35:57.769Z"
   },
   {
    "duration": 2523,
    "start_time": "2025-01-29T06:02:00.522Z"
   },
   {
    "duration": 234,
    "start_time": "2025-01-29T06:02:03.047Z"
   },
   {
    "duration": 94,
    "start_time": "2025-01-29T06:02:03.283Z"
   },
   {
    "duration": 17,
    "start_time": "2025-01-29T06:02:03.380Z"
   },
   {
    "duration": 32,
    "start_time": "2025-01-29T06:02:03.398Z"
   },
   {
    "duration": 9,
    "start_time": "2025-01-29T06:02:03.432Z"
   },
   {
    "duration": 87,
    "start_time": "2025-01-29T06:02:03.443Z"
   },
   {
    "duration": 31,
    "start_time": "2025-01-29T06:02:03.532Z"
   },
   {
    "duration": 11,
    "start_time": "2025-01-29T06:02:03.564Z"
   },
   {
    "duration": 70,
    "start_time": "2025-01-29T06:02:03.578Z"
   },
   {
    "duration": 15,
    "start_time": "2025-01-29T06:02:03.650Z"
   },
   {
    "duration": 9,
    "start_time": "2025-01-29T06:02:03.667Z"
   },
   {
    "duration": 47,
    "start_time": "2025-01-29T06:02:03.677Z"
   },
   {
    "duration": 5,
    "start_time": "2025-01-29T06:02:03.726Z"
   },
   {
    "duration": 5,
    "start_time": "2025-01-29T06:02:03.732Z"
   },
   {
    "duration": 18,
    "start_time": "2025-01-29T06:02:03.740Z"
   },
   {
    "duration": 5,
    "start_time": "2025-01-29T06:02:03.759Z"
   },
   {
    "duration": 5,
    "start_time": "2025-01-29T06:02:03.766Z"
   },
   {
    "duration": 41,
    "start_time": "2025-01-29T06:02:03.773Z"
   },
   {
    "duration": 7,
    "start_time": "2025-01-29T06:02:03.815Z"
   },
   {
    "duration": 5,
    "start_time": "2025-01-29T06:02:03.823Z"
   },
   {
    "duration": 10,
    "start_time": "2025-01-29T06:02:03.830Z"
   },
   {
    "duration": 7,
    "start_time": "2025-01-29T06:02:03.842Z"
   },
   {
    "duration": 9,
    "start_time": "2025-01-29T06:02:03.851Z"
   },
   {
    "duration": 48,
    "start_time": "2025-01-29T06:02:03.861Z"
   },
   {
    "duration": 12,
    "start_time": "2025-01-29T06:02:03.912Z"
   },
   {
    "duration": 5,
    "start_time": "2025-01-29T06:02:03.926Z"
   },
   {
    "duration": 24,
    "start_time": "2025-01-29T06:02:03.935Z"
   },
   {
    "duration": 10,
    "start_time": "2025-01-29T06:02:03.960Z"
   },
   {
    "duration": 42,
    "start_time": "2025-01-29T06:02:03.972Z"
   },
   {
    "duration": 5,
    "start_time": "2025-01-29T06:02:04.016Z"
   },
   {
    "duration": 9,
    "start_time": "2025-01-29T06:02:04.022Z"
   },
   {
    "duration": 15,
    "start_time": "2025-01-29T06:02:04.032Z"
   },
   {
    "duration": 12,
    "start_time": "2025-01-29T06:02:04.049Z"
   },
   {
    "duration": 47,
    "start_time": "2025-01-29T06:02:04.063Z"
   },
   {
    "duration": 17,
    "start_time": "2025-01-29T06:02:04.112Z"
   },
   {
    "duration": 9,
    "start_time": "2025-01-29T06:02:04.131Z"
   },
   {
    "duration": 14,
    "start_time": "2025-01-29T06:02:04.141Z"
   },
   {
    "duration": 54,
    "start_time": "2025-01-29T06:02:04.157Z"
   },
   {
    "duration": 15,
    "start_time": "2025-01-29T06:02:04.212Z"
   },
   {
    "duration": 9,
    "start_time": "2025-01-29T06:02:04.229Z"
   },
   {
    "duration": 18,
    "start_time": "2025-01-29T06:02:04.239Z"
   },
   {
    "duration": 11,
    "start_time": "2025-01-29T06:02:04.258Z"
   },
   {
    "duration": 46,
    "start_time": "2025-01-29T06:02:04.270Z"
   },
   {
    "duration": 12,
    "start_time": "2025-01-29T06:02:04.317Z"
   },
   {
    "duration": 11,
    "start_time": "2025-01-29T06:02:04.331Z"
   },
   {
    "duration": 15,
    "start_time": "2025-01-29T06:02:04.344Z"
   },
   {
    "duration": 49,
    "start_time": "2025-01-29T06:02:04.360Z"
   },
   {
    "duration": 28,
    "start_time": "2025-01-29T06:02:04.411Z"
   },
   {
    "duration": 24,
    "start_time": "2025-01-29T06:02:04.441Z"
   },
   {
    "duration": 228,
    "start_time": "2025-01-29T06:02:04.466Z"
   },
   {
    "duration": 13,
    "start_time": "2025-01-29T06:02:04.696Z"
   },
   {
    "duration": 169,
    "start_time": "2025-01-29T06:02:04.711Z"
   },
   {
    "duration": 4,
    "start_time": "2025-01-29T06:02:04.882Z"
   },
   {
    "duration": 121,
    "start_time": "2025-01-29T06:02:04.888Z"
   },
   {
    "duration": 238,
    "start_time": "2025-01-29T06:02:05.011Z"
   },
   {
    "duration": 4,
    "start_time": "2025-01-29T06:02:05.251Z"
   },
   {
    "duration": 114,
    "start_time": "2025-01-29T06:02:05.257Z"
   },
   {
    "duration": 170,
    "start_time": "2025-01-29T06:02:05.373Z"
   },
   {
    "duration": 4,
    "start_time": "2025-01-29T06:02:05.546Z"
   },
   {
    "duration": 120,
    "start_time": "2025-01-29T06:02:05.551Z"
   },
   {
    "duration": 186,
    "start_time": "2025-01-29T06:02:05.673Z"
   },
   {
    "duration": 5,
    "start_time": "2025-01-29T06:02:05.861Z"
   },
   {
    "duration": 113,
    "start_time": "2025-01-29T06:02:05.867Z"
   },
   {
    "duration": 7,
    "start_time": "2025-01-29T06:02:05.982Z"
   },
   {
    "duration": 22,
    "start_time": "2025-01-29T06:02:05.990Z"
   }
  ],
  "kernelspec": {
   "display_name": "Python 3 (ipykernel)",
   "language": "python",
   "name": "python3"
  },
  "language_info": {
   "codemirror_mode": {
    "name": "ipython",
    "version": 3
   },
   "file_extension": ".py",
   "mimetype": "text/x-python",
   "name": "python",
   "nbconvert_exporter": "python",
   "pygments_lexer": "ipython3",
   "version": "3.9.19"
  },
  "toc": {
   "base_numbering": 1,
   "nav_menu": {},
   "number_sections": true,
   "sideBar": true,
   "skip_h1_title": false,
   "title_cell": "Table of Contents",
   "title_sidebar": "Contents",
   "toc_cell": false,
   "toc_position": {},
   "toc_section_display": true,
   "toc_window_display": true
  }
 },
 "nbformat": 4,
 "nbformat_minor": 2
}
