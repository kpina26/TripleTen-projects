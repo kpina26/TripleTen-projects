{
 "cells": [
  {
   "cell_type": "markdown",
   "id": "678da1f5",
   "metadata": {},
   "source": [
    "**Overall Summary of the Project 2.0**\n",
    "\n",
    "Dear Kelvin,\n",
    "\n",
    "Thank you for submitting your second iteration. You've made noticeable progress since your first attempt, filling in missing code cells and improving your data preprocessing. It's clear you’ve put in effort to address previous feedback, and your project now runs more smoothly from data loading through to initial analysis.\n",
    "\n",
    "***Strengths:***\n",
    "- **Completed Missing Implementations:**  \n",
    "  The previously empty code cells are now filled, enabling a full review of each stage.\n",
    "- **Data Cleaning Accomplishments:**  \n",
    "  You've renamed columns to snake_case, removed missing values in critical columns, dealt with duplicates, and successfully implemented `replace_wrong_show()` to standardize show types.\n",
    "- **Filtering and Outlier Identification:**  \n",
    "  Filtering for shows released in or after 1999 is correctly implemented, and you've identified and attempted to handle outliers in the `imdb_score` distribution.\n",
    "\n",
    "***Areas of Improvement (Optional):***\n",
    "- **Code Readability:**  \n",
    "  Adding more comments to explain the logic behind each code step would further enhance clarity and make it easier for others (and your future self) to understand your reasoning.\n",
    "\n",
    "***Critical Changes Needed:***\n",
    "1. **Correct Filtering Condition for Scores:**\n",
    "   \n",
    "   Currently, you have:\n",
    "   <pre><code># filter dataframe using two conditions (scores to be in the range 4-9)\n",
    "scores = show_df[(show_df['imdb_score']>=4) & (show_df['imdb_votes']<=9)]\n",
    "</code></pre>\n",
    "\n",
    "   The second condition uses `imdb_votes` instead of `imdb_score`. This should filter on `imdb_score <= 9` rather than `imdb_votes <= 9`. Using votes instead of scores will give you incorrect subsets of data and skew your final analysis. Correcting this will ensure your data subset accurately represents the intended score range and supports a more valid conclusion about the relationship between show quality and vote counts.\n",
    "\n",
    "***Final Thoughts:***\n",
    "Your work has come a long way since the initial submission, and the majority of the pipeline is correctly implemented. With this single but crucial correction to the filtering logic, your project will more accurately reflect the relationship between high ratings and vote counts. Keep up the good work, and after making this fix, we look forward to seeing your final results.\n",
    "\n",
    "**Status:** **Rejected Pending Completion**"
   ]
  },
  {
   "cell_type": "markdown",
   "id": "871b5eb6",
   "metadata": {},
   "source": [
    "<div style=\"border:solid blue 2px; padding: 20px\">\n",
    "\n",
    "**Overall Summary of the Project**\n",
    "\n",
    "Dear Kelvin,\n",
    "\n",
    "Thank you for submitting your project analyzing the entertainment dataset. Your effort to engage with the data and initiate the preprocessing steps is appreciated. Below is a summarized review of your submission based on the assessment criteria.\n",
    "\n",
    "---\n",
    "\n",
    "✅ **Strengths:**\n",
    "\n",
    "- **Data Loading:**\n",
    "  - Successfully imported the `pandas` library.\n",
    "  - Attempted to read the `movies_and_shows.csv` file into a DataFrame, which is the foundational step for data analysis.\n",
    "\n",
    "- **Initial Exploration:**\n",
    "  - Made an effort to view the first 10 rows of the dataset using `df.head(10)`, a good practice for understanding the data structure.\n",
    "\n",
    "---\n",
    "\n",
    "**Missing Code Implementations:**\n",
    "   \n",
    "   - **Issue:** Several code cells contain only comments without the corresponding code implementation. This prevents the analysis from being executed and reviewed effectively.\n",
    "    \n",
    "---\n",
    "\n",
    "🌱 **Final Thoughts**\n",
    "\n",
    "Dear Kelvin,\n",
    "\n",
    "Your project demonstrates a commendable start with data loading and initial exploration. However, to fully assess and validate your analysis, it's essential to complete all the required steps in the data preprocessing and analysis stages. Completing the missing code cells will allow for a comprehensive review of your work and ensure that your findings accurately reflect the data.\n",
    "\n",
    "**Recommendation:** Please complete all sections of your project, ensuring that each step is properly implemented. Once done, feel free to resubmit your project for a thorough review.\n",
    "\n",
    "**Status:** **Rejected Pending Completion**\n",
    "\n",
    "</div>"
   ]
  },
  {
   "cell_type": "markdown",
   "id": "f85a80d2",
   "metadata": {},
   "source": [
    "## Basic Python - Project <a id='intro'></a>"
   ]
  },
  {
   "cell_type": "markdown",
   "id": "a1262df4",
   "metadata": {},
   "source": [
    "## Introduction <a id='intro'></a>\n",
    "In this project, you will work with data from the entertainment industry. You will study a dataset with records on movies and shows. The research will focus on the \"Golden Age\" of television, which began in 1999 with the release of *The Sopranos* and is still ongoing.\n",
    "\n",
    "The aim of this project is to investigate how the number of votes a title receives impacts its ratings. The assumption is that highly-rated shows (we will focus on TV shows, ignoring movies) released during the \"Golden Age\" of television also have the most votes.\n",
    "\n",
    "### Stages \n",
    "Data on movies and shows is stored in the `/datasets/movies_and_shows.csv` file. There is no information about the quality of the data, so you will need to explore it before doing the analysis.\n",
    "\n",
    "First, you'll evaluate the quality of the data and see whether its issues are significant. Then, during data preprocessing, you will try to account for the most critical problems.\n",
    " \n",
    "Your project will consist of three stages:\n",
    " 1. Data overview\n",
    " 2. Data preprocessing\n",
    " 3. Data analysis"
   ]
  },
  {
   "cell_type": "markdown",
   "id": "ac0593ac",
   "metadata": {},
   "source": [
    "## Stage 1. Data overview <a id='data_review'></a>\n",
    "\n",
    "Open and explore the data."
   ]
  },
  {
   "cell_type": "markdown",
   "id": "e86ed00e",
   "metadata": {},
   "source": [
    "You'll need `pandas`, so import it."
   ]
  },
  {
   "cell_type": "code",
   "execution_count": 25,
   "id": "1727d3f8",
   "metadata": {},
   "outputs": [],
   "source": [
    "import pandas as pd\n"
   ]
  },
  {
   "cell_type": "markdown",
   "id": "9821beeb",
   "metadata": {},
   "source": [
    "Read the `movies_and_shows.csv` file from the `datasets` folder and save it in the `df` variable:"
   ]
  },
  {
   "cell_type": "code",
   "execution_count": 26,
   "id": "fc5a1402",
   "metadata": {},
   "outputs": [],
   "source": [
    "df= pd.read_csv('/datasets/movies_and_shows.csv')\n"
   ]
  },
  {
   "cell_type": "markdown",
   "id": "1cd0a96d",
   "metadata": {},
   "source": [
    "Print the first 10 table rows:"
   ]
  },
  {
   "cell_type": "code",
   "execution_count": 27,
   "id": "acd92001",
   "metadata": {},
   "outputs": [
    {
     "data": {
      "text/html": [
       "<div>\n",
       "<style scoped>\n",
       "    .dataframe tbody tr th:only-of-type {\n",
       "        vertical-align: middle;\n",
       "    }\n",
       "\n",
       "    .dataframe tbody tr th {\n",
       "        vertical-align: top;\n",
       "    }\n",
       "\n",
       "    .dataframe thead th {\n",
       "        text-align: right;\n",
       "    }\n",
       "</style>\n",
       "<table border=\"1\" class=\"dataframe\">\n",
       "  <thead>\n",
       "    <tr style=\"text-align: right;\">\n",
       "      <th></th>\n",
       "      <th>name</th>\n",
       "      <th>Character</th>\n",
       "      <th>r0le</th>\n",
       "      <th>TITLE</th>\n",
       "      <th>Type</th>\n",
       "      <th>release Year</th>\n",
       "      <th>genres</th>\n",
       "      <th>imdb sc0re</th>\n",
       "      <th>imdb v0tes</th>\n",
       "    </tr>\n",
       "  </thead>\n",
       "  <tbody>\n",
       "    <tr>\n",
       "      <th>0</th>\n",
       "      <td>Robert De Niro</td>\n",
       "      <td>Travis Bickle</td>\n",
       "      <td>ACTOR</td>\n",
       "      <td>Taxi Driver</td>\n",
       "      <td>MOVIE</td>\n",
       "      <td>1976</td>\n",
       "      <td>['drama', 'crime']</td>\n",
       "      <td>8.2</td>\n",
       "      <td>808582.0</td>\n",
       "    </tr>\n",
       "    <tr>\n",
       "      <th>1</th>\n",
       "      <td>Jodie Foster</td>\n",
       "      <td>Iris Steensma</td>\n",
       "      <td>ACTOR</td>\n",
       "      <td>Taxi Driver</td>\n",
       "      <td>MOVIE</td>\n",
       "      <td>1976</td>\n",
       "      <td>['drama', 'crime']</td>\n",
       "      <td>8.2</td>\n",
       "      <td>808582.0</td>\n",
       "    </tr>\n",
       "    <tr>\n",
       "      <th>2</th>\n",
       "      <td>Albert Brooks</td>\n",
       "      <td>Tom</td>\n",
       "      <td>ACTOR</td>\n",
       "      <td>Taxi Driver</td>\n",
       "      <td>MOVIE</td>\n",
       "      <td>1976</td>\n",
       "      <td>['drama', 'crime']</td>\n",
       "      <td>8.2</td>\n",
       "      <td>808582.0</td>\n",
       "    </tr>\n",
       "    <tr>\n",
       "      <th>3</th>\n",
       "      <td>Harvey Keitel</td>\n",
       "      <td>Matthew 'Sport' Higgins</td>\n",
       "      <td>ACTOR</td>\n",
       "      <td>Taxi Driver</td>\n",
       "      <td>MOVIE</td>\n",
       "      <td>1976</td>\n",
       "      <td>['drama', 'crime']</td>\n",
       "      <td>8.2</td>\n",
       "      <td>808582.0</td>\n",
       "    </tr>\n",
       "    <tr>\n",
       "      <th>4</th>\n",
       "      <td>Cybill Shepherd</td>\n",
       "      <td>Betsy</td>\n",
       "      <td>ACTOR</td>\n",
       "      <td>Taxi Driver</td>\n",
       "      <td>MOVIE</td>\n",
       "      <td>1976</td>\n",
       "      <td>['drama', 'crime']</td>\n",
       "      <td>8.2</td>\n",
       "      <td>808582.0</td>\n",
       "    </tr>\n",
       "    <tr>\n",
       "      <th>5</th>\n",
       "      <td>Peter Boyle</td>\n",
       "      <td>Wizard</td>\n",
       "      <td>ACTOR</td>\n",
       "      <td>Taxi Driver</td>\n",
       "      <td>MOVIE</td>\n",
       "      <td>1976</td>\n",
       "      <td>['drama', 'crime']</td>\n",
       "      <td>8.2</td>\n",
       "      <td>808582.0</td>\n",
       "    </tr>\n",
       "    <tr>\n",
       "      <th>6</th>\n",
       "      <td>Leonard Harris</td>\n",
       "      <td>Senator Charles Palantine</td>\n",
       "      <td>ACTOR</td>\n",
       "      <td>Taxi Driver</td>\n",
       "      <td>MOVIE</td>\n",
       "      <td>1976</td>\n",
       "      <td>['drama', 'crime']</td>\n",
       "      <td>8.2</td>\n",
       "      <td>808582.0</td>\n",
       "    </tr>\n",
       "    <tr>\n",
       "      <th>7</th>\n",
       "      <td>Diahnne Abbott</td>\n",
       "      <td>Concession Girl</td>\n",
       "      <td>ACTOR</td>\n",
       "      <td>Taxi Driver</td>\n",
       "      <td>MOVIE</td>\n",
       "      <td>1976</td>\n",
       "      <td>['drama', 'crime']</td>\n",
       "      <td>8.2</td>\n",
       "      <td>808582.0</td>\n",
       "    </tr>\n",
       "    <tr>\n",
       "      <th>8</th>\n",
       "      <td>Gino Ardito</td>\n",
       "      <td>Policeman at Rally</td>\n",
       "      <td>ACTOR</td>\n",
       "      <td>Taxi Driver</td>\n",
       "      <td>MOVIE</td>\n",
       "      <td>1976</td>\n",
       "      <td>['drama', 'crime']</td>\n",
       "      <td>8.2</td>\n",
       "      <td>808582.0</td>\n",
       "    </tr>\n",
       "    <tr>\n",
       "      <th>9</th>\n",
       "      <td>Martin Scorsese</td>\n",
       "      <td>Passenger Watching Silhouette</td>\n",
       "      <td>ACTOR</td>\n",
       "      <td>Taxi Driver</td>\n",
       "      <td>MOVIE</td>\n",
       "      <td>1976</td>\n",
       "      <td>['drama', 'crime']</td>\n",
       "      <td>8.2</td>\n",
       "      <td>808582.0</td>\n",
       "    </tr>\n",
       "  </tbody>\n",
       "</table>\n",
       "</div>"
      ],
      "text/plain": [
       "              name                      Character   r0le        TITLE   Type  \\\n",
       "0   Robert De Niro                  Travis Bickle  ACTOR  Taxi Driver  MOVIE   \n",
       "1     Jodie Foster                  Iris Steensma  ACTOR  Taxi Driver  MOVIE   \n",
       "2    Albert Brooks                            Tom  ACTOR  Taxi Driver  MOVIE   \n",
       "3    Harvey Keitel        Matthew 'Sport' Higgins  ACTOR  Taxi Driver  MOVIE   \n",
       "4  Cybill Shepherd                          Betsy  ACTOR  Taxi Driver  MOVIE   \n",
       "5      Peter Boyle                         Wizard  ACTOR  Taxi Driver  MOVIE   \n",
       "6   Leonard Harris      Senator Charles Palantine  ACTOR  Taxi Driver  MOVIE   \n",
       "7   Diahnne Abbott                Concession Girl  ACTOR  Taxi Driver  MOVIE   \n",
       "8      Gino Ardito             Policeman at Rally  ACTOR  Taxi Driver  MOVIE   \n",
       "9  Martin Scorsese  Passenger Watching Silhouette  ACTOR  Taxi Driver  MOVIE   \n",
       "\n",
       "   release Year              genres  imdb sc0re  imdb v0tes  \n",
       "0          1976  ['drama', 'crime']         8.2    808582.0  \n",
       "1          1976  ['drama', 'crime']         8.2    808582.0  \n",
       "2          1976  ['drama', 'crime']         8.2    808582.0  \n",
       "3          1976  ['drama', 'crime']         8.2    808582.0  \n",
       "4          1976  ['drama', 'crime']         8.2    808582.0  \n",
       "5          1976  ['drama', 'crime']         8.2    808582.0  \n",
       "6          1976  ['drama', 'crime']         8.2    808582.0  \n",
       "7          1976  ['drama', 'crime']         8.2    808582.0  \n",
       "8          1976  ['drama', 'crime']         8.2    808582.0  \n",
       "9          1976  ['drama', 'crime']         8.2    808582.0  "
      ]
     },
     "execution_count": 27,
     "metadata": {},
     "output_type": "execute_result"
    }
   ],
   "source": [
    "df.head(10)"
   ]
  },
  {
   "cell_type": "markdown",
   "id": "e579aa91",
   "metadata": {},
   "source": [
    "Obtain the general information about the table with one command:"
   ]
  },
  {
   "cell_type": "code",
   "execution_count": 28,
   "id": "7bf66d2a",
   "metadata": {},
   "outputs": [
    {
     "name": "stdout",
     "output_type": "stream",
     "text": [
      "<class 'pandas.core.frame.DataFrame'>\n",
      "RangeIndex: 85579 entries, 0 to 85578\n",
      "Data columns (total 9 columns):\n",
      " #   Column        Non-Null Count  Dtype  \n",
      "---  ------        --------------  -----  \n",
      " 0      name       85579 non-null  object \n",
      " 1   Character     85579 non-null  object \n",
      " 2   r0le          85579 non-null  object \n",
      " 3   TITLE         85578 non-null  object \n",
      " 4     Type        85579 non-null  object \n",
      " 5   release Year  85579 non-null  int64  \n",
      " 6   genres        85579 non-null  object \n",
      " 7   imdb sc0re    80970 non-null  float64\n",
      " 8   imdb v0tes    80853 non-null  float64\n",
      "dtypes: float64(2), int64(1), object(6)\n",
      "memory usage: 5.9+ MB\n"
     ]
    }
   ],
   "source": [
    "df.info()"
   ]
  },
  {
   "cell_type": "markdown",
   "id": "e91f62a7",
   "metadata": {},
   "source": [
    "The table contains nine columns. The majority store the same data type: object. The only exceptions are `'release Year'` (int64 type), `'imdb sc0re'` (float64 type) and `'imdb v0tes'` (float64 type). Scores and votes will be used in our analysis, so it's important to verify that they are present in the dataframe in the appropriate numeric format. Three columns (`'TITLE'`, `'imdb sc0re'` and `'imdb v0tes'`) have missing values.\n",
    "\n",
    "According to the documentation:\n",
    "- `'name'` — actor/director's name and last name\n",
    "- `'Character'` — character played (for actors)\n",
    "- `'r0le '` — the person's contribution to the title (it can be in the capacity of either actor or director)\n",
    "- `'TITLE '` — title of the movie (show)\n",
    "- `'  Type'` — show or movie\n",
    "- `'release Year'` — year when movie (show) was released\n",
    "- `'genres'` — list of genres under which the movie (show) falls\n",
    "- `'imdb sc0re'` — score on IMDb\n",
    "- `'imdb v0tes'` — votes on IMDb\n",
    "\n",
    "We can see three issues with the column names:\n",
    "1. Some names are uppercase, while others are lowercase.\n",
    "2. There are names containing whitespace.\n",
    "3. A few column names have digit '0' instead of letter 'o'. \n"
   ]
  },
  {
   "cell_type": "markdown",
   "id": "4355de7b",
   "metadata": {},
   "source": [
    "### Conclusions <a id='data_review_conclusions'></a> \n",
    "\n",
    "Each row in the table stores data about a movie or show. The columns can be divided into two categories: the first is about the roles held by different people who worked on the movie or show (role, name of the actor or director, and character if the row is about an actor); the second category is information about the movie or show itself (title, release year, genre, imdb figures).\n",
    "\n",
    "It's clear that there is sufficient data to do the analysis and evaluate our assumption. However, to move forward, we need to preprocess the data."
   ]
  },
  {
   "cell_type": "markdown",
   "id": "c5dc9111",
   "metadata": {},
   "source": [
    "## Stage 2. Data preprocessing <a id='data_preprocessing'></a>\n",
    "Correct the formatting in the column headers and deal with the missing values. Then, check whether there are duplicates in the data."
   ]
  },
  {
   "cell_type": "markdown",
   "id": "5f966df9",
   "metadata": {},
   "source": [
    "Change the column names according to the rules of good style:\n",
    "* If the name has several words, use snake_case\n",
    "* All characters must be lowercase\n",
    "* Remove whitespace\n",
    "* Replace zero with letter 'o'"
   ]
  },
  {
   "cell_type": "code",
   "execution_count": 29,
   "id": "23a1dc11",
   "metadata": {},
   "outputs": [],
   "source": [
    "df= pd.read_csv('/datasets/movies_and_shows.csv')\n",
    "\n",
    "df = df.rename(columns={\n",
    "    'Character': 'character',\n",
    "    'r0le': 'role',\n",
    "    'TITLE': 'title',\n",
    "    '  Type':'type',\n",
    "    'release Year': 'release_year',\n",
    "    'imdb sc0re': 'imdb_score',\n",
    "    'imdb v0tes': 'imdb_votes'\n",
    "})"
   ]
  },
  {
   "cell_type": "markdown",
   "id": "464fbd04",
   "metadata": {},
   "source": [
    "Check the result. Print the names of the columns once more:"
   ]
  },
  {
   "cell_type": "code",
   "execution_count": 30,
   "id": "0eb6527f",
   "metadata": {},
   "outputs": [
    {
     "data": {
      "text/html": [
       "<div>\n",
       "<style scoped>\n",
       "    .dataframe tbody tr th:only-of-type {\n",
       "        vertical-align: middle;\n",
       "    }\n",
       "\n",
       "    .dataframe tbody tr th {\n",
       "        vertical-align: top;\n",
       "    }\n",
       "\n",
       "    .dataframe thead th {\n",
       "        text-align: right;\n",
       "    }\n",
       "</style>\n",
       "<table border=\"1\" class=\"dataframe\">\n",
       "  <thead>\n",
       "    <tr style=\"text-align: right;\">\n",
       "      <th></th>\n",
       "      <th>name</th>\n",
       "      <th>character</th>\n",
       "      <th>role</th>\n",
       "      <th>title</th>\n",
       "      <th>type</th>\n",
       "      <th>release_year</th>\n",
       "      <th>genres</th>\n",
       "      <th>imdb_score</th>\n",
       "      <th>imdb_votes</th>\n",
       "    </tr>\n",
       "  </thead>\n",
       "  <tbody>\n",
       "    <tr>\n",
       "      <th>0</th>\n",
       "      <td>Robert De Niro</td>\n",
       "      <td>Travis Bickle</td>\n",
       "      <td>ACTOR</td>\n",
       "      <td>Taxi Driver</td>\n",
       "      <td>MOVIE</td>\n",
       "      <td>1976</td>\n",
       "      <td>['drama', 'crime']</td>\n",
       "      <td>8.2</td>\n",
       "      <td>808582.0</td>\n",
       "    </tr>\n",
       "    <tr>\n",
       "      <th>1</th>\n",
       "      <td>Jodie Foster</td>\n",
       "      <td>Iris Steensma</td>\n",
       "      <td>ACTOR</td>\n",
       "      <td>Taxi Driver</td>\n",
       "      <td>MOVIE</td>\n",
       "      <td>1976</td>\n",
       "      <td>['drama', 'crime']</td>\n",
       "      <td>8.2</td>\n",
       "      <td>808582.0</td>\n",
       "    </tr>\n",
       "    <tr>\n",
       "      <th>2</th>\n",
       "      <td>Albert Brooks</td>\n",
       "      <td>Tom</td>\n",
       "      <td>ACTOR</td>\n",
       "      <td>Taxi Driver</td>\n",
       "      <td>MOVIE</td>\n",
       "      <td>1976</td>\n",
       "      <td>['drama', 'crime']</td>\n",
       "      <td>8.2</td>\n",
       "      <td>808582.0</td>\n",
       "    </tr>\n",
       "    <tr>\n",
       "      <th>3</th>\n",
       "      <td>Harvey Keitel</td>\n",
       "      <td>Matthew 'Sport' Higgins</td>\n",
       "      <td>ACTOR</td>\n",
       "      <td>Taxi Driver</td>\n",
       "      <td>MOVIE</td>\n",
       "      <td>1976</td>\n",
       "      <td>['drama', 'crime']</td>\n",
       "      <td>8.2</td>\n",
       "      <td>808582.0</td>\n",
       "    </tr>\n",
       "    <tr>\n",
       "      <th>4</th>\n",
       "      <td>Cybill Shepherd</td>\n",
       "      <td>Betsy</td>\n",
       "      <td>ACTOR</td>\n",
       "      <td>Taxi Driver</td>\n",
       "      <td>MOVIE</td>\n",
       "      <td>1976</td>\n",
       "      <td>['drama', 'crime']</td>\n",
       "      <td>8.2</td>\n",
       "      <td>808582.0</td>\n",
       "    </tr>\n",
       "    <tr>\n",
       "      <th>5</th>\n",
       "      <td>Peter Boyle</td>\n",
       "      <td>Wizard</td>\n",
       "      <td>ACTOR</td>\n",
       "      <td>Taxi Driver</td>\n",
       "      <td>MOVIE</td>\n",
       "      <td>1976</td>\n",
       "      <td>['drama', 'crime']</td>\n",
       "      <td>8.2</td>\n",
       "      <td>808582.0</td>\n",
       "    </tr>\n",
       "    <tr>\n",
       "      <th>6</th>\n",
       "      <td>Leonard Harris</td>\n",
       "      <td>Senator Charles Palantine</td>\n",
       "      <td>ACTOR</td>\n",
       "      <td>Taxi Driver</td>\n",
       "      <td>MOVIE</td>\n",
       "      <td>1976</td>\n",
       "      <td>['drama', 'crime']</td>\n",
       "      <td>8.2</td>\n",
       "      <td>808582.0</td>\n",
       "    </tr>\n",
       "    <tr>\n",
       "      <th>7</th>\n",
       "      <td>Diahnne Abbott</td>\n",
       "      <td>Concession Girl</td>\n",
       "      <td>ACTOR</td>\n",
       "      <td>Taxi Driver</td>\n",
       "      <td>MOVIE</td>\n",
       "      <td>1976</td>\n",
       "      <td>['drama', 'crime']</td>\n",
       "      <td>8.2</td>\n",
       "      <td>808582.0</td>\n",
       "    </tr>\n",
       "    <tr>\n",
       "      <th>8</th>\n",
       "      <td>Gino Ardito</td>\n",
       "      <td>Policeman at Rally</td>\n",
       "      <td>ACTOR</td>\n",
       "      <td>Taxi Driver</td>\n",
       "      <td>MOVIE</td>\n",
       "      <td>1976</td>\n",
       "      <td>['drama', 'crime']</td>\n",
       "      <td>8.2</td>\n",
       "      <td>808582.0</td>\n",
       "    </tr>\n",
       "    <tr>\n",
       "      <th>9</th>\n",
       "      <td>Martin Scorsese</td>\n",
       "      <td>Passenger Watching Silhouette</td>\n",
       "      <td>ACTOR</td>\n",
       "      <td>Taxi Driver</td>\n",
       "      <td>MOVIE</td>\n",
       "      <td>1976</td>\n",
       "      <td>['drama', 'crime']</td>\n",
       "      <td>8.2</td>\n",
       "      <td>808582.0</td>\n",
       "    </tr>\n",
       "  </tbody>\n",
       "</table>\n",
       "</div>"
      ],
      "text/plain": [
       "              name                      character   role        title   type  \\\n",
       "0   Robert De Niro                  Travis Bickle  ACTOR  Taxi Driver  MOVIE   \n",
       "1     Jodie Foster                  Iris Steensma  ACTOR  Taxi Driver  MOVIE   \n",
       "2    Albert Brooks                            Tom  ACTOR  Taxi Driver  MOVIE   \n",
       "3    Harvey Keitel        Matthew 'Sport' Higgins  ACTOR  Taxi Driver  MOVIE   \n",
       "4  Cybill Shepherd                          Betsy  ACTOR  Taxi Driver  MOVIE   \n",
       "5      Peter Boyle                         Wizard  ACTOR  Taxi Driver  MOVIE   \n",
       "6   Leonard Harris      Senator Charles Palantine  ACTOR  Taxi Driver  MOVIE   \n",
       "7   Diahnne Abbott                Concession Girl  ACTOR  Taxi Driver  MOVIE   \n",
       "8      Gino Ardito             Policeman at Rally  ACTOR  Taxi Driver  MOVIE   \n",
       "9  Martin Scorsese  Passenger Watching Silhouette  ACTOR  Taxi Driver  MOVIE   \n",
       "\n",
       "   release_year              genres  imdb_score  imdb_votes  \n",
       "0          1976  ['drama', 'crime']         8.2    808582.0  \n",
       "1          1976  ['drama', 'crime']         8.2    808582.0  \n",
       "2          1976  ['drama', 'crime']         8.2    808582.0  \n",
       "3          1976  ['drama', 'crime']         8.2    808582.0  \n",
       "4          1976  ['drama', 'crime']         8.2    808582.0  \n",
       "5          1976  ['drama', 'crime']         8.2    808582.0  \n",
       "6          1976  ['drama', 'crime']         8.2    808582.0  \n",
       "7          1976  ['drama', 'crime']         8.2    808582.0  \n",
       "8          1976  ['drama', 'crime']         8.2    808582.0  \n",
       "9          1976  ['drama', 'crime']         8.2    808582.0  "
      ]
     },
     "execution_count": 30,
     "metadata": {},
     "output_type": "execute_result"
    }
   ],
   "source": [
    "df.head(10)"
   ]
  },
  {
   "cell_type": "markdown",
   "id": "14d9c319",
   "metadata": {},
   "source": [
    "### Missing values <a id='missing_values'></a>\n",
    "First, find the number of missing values in the table. To do so, combine two `pandas` methods:"
   ]
  },
  {
   "cell_type": "code",
   "execution_count": 31,
   "id": "21c427f2",
   "metadata": {},
   "outputs": [
    {
     "name": "stdout",
     "output_type": "stream",
     "text": [
      "   name            0\n",
      "character          0\n",
      "role               0\n",
      "title              1\n",
      "type               0\n",
      "release_year       0\n",
      "genres             0\n",
      "imdb_score      4609\n",
      "imdb_votes      4726\n",
      "dtype: int64\n"
     ]
    }
   ],
   "source": [
    "# calculating missing values\n",
    "\n",
    "print(df.isna().sum())"
   ]
  },
  {
   "cell_type": "markdown",
   "id": "c8272df3",
   "metadata": {},
   "source": [
    "We identified missing values in several columns. While the missing value in `'title'` isn't critical, missing values in `'imdb_score'` and `'imdb_votes'` affect around 6% of the data, which could impact our analysis. To ensure data integrity, we'll drop all rows with missing values."
   ]
  },
  {
   "cell_type": "code",
   "execution_count": 32,
   "id": "599d5550",
   "metadata": {},
   "outputs": [],
   "source": [
    "# dropping rows where columns with scores, and votes have missing values\n",
    "# 1. assign the operation to a varible\n",
    "# 2. don't drop the whole column, using the `axis=0`\n",
    "df = df.dropna(subset=['imdb_score', 'imdb_votes'], axis=0)\n"
   ]
  },
  {
   "cell_type": "code",
   "execution_count": 33,
   "id": "2595f7a3",
   "metadata": {},
   "outputs": [
    {
     "name": "stdout",
     "output_type": "stream",
     "text": [
      "<class 'pandas.core.frame.DataFrame'>\n",
      "Int64Index: 80853 entries, 0 to 85578\n",
      "Data columns (total 9 columns):\n",
      " #   Column        Non-Null Count  Dtype  \n",
      "---  ------        --------------  -----  \n",
      " 0      name       80853 non-null  object \n",
      " 1   character     80853 non-null  object \n",
      " 2   role          80853 non-null  object \n",
      " 3   title         80853 non-null  object \n",
      " 4   type          80853 non-null  object \n",
      " 5   release_year  80853 non-null  int64  \n",
      " 6   genres        80853 non-null  object \n",
      " 7   imdb_score    80853 non-null  float64\n",
      " 8   imdb_votes    80853 non-null  float64\n",
      "dtypes: float64(2), int64(1), object(6)\n",
      "memory usage: 6.2+ MB\n"
     ]
    }
   ],
   "source": [
    "df.info()"
   ]
  },
  {
   "cell_type": "markdown",
   "id": "9ccc6522",
   "metadata": {},
   "source": [
    "After doing this, I dropped the missing values, then I checked the # rows, I found the row number is 80853. Comparing to the orignal row number 85578. The diff of them is 4725 "
   ]
  },
  {
   "cell_type": "markdown",
   "id": "2156887f",
   "metadata": {},
   "source": [
    "Make sure the table doesn't contain any more missing values. Count the missing values again."
   ]
  },
  {
   "cell_type": "code",
   "execution_count": 34,
   "id": "55c0b0ce",
   "metadata": {},
   "outputs": [
    {
     "data": {
      "text/plain": [
       "   name         0\n",
       "character       0\n",
       "role            0\n",
       "title           0\n",
       "type            0\n",
       "release_year    0\n",
       "genres          0\n",
       "imdb_score      0\n",
       "imdb_votes      0\n",
       "dtype: int64"
      ]
     },
     "execution_count": 34,
     "metadata": {},
     "output_type": "execute_result"
    }
   ],
   "source": [
    "# counting missing values\n",
    "df.isna().sum()\n",
    "\n"
   ]
  },
  {
   "cell_type": "markdown",
   "id": "a7dc7aa0",
   "metadata": {},
   "source": [
    "### Duplicates <a id='duplicates'></a>\n",
    "Find the number of duplicate rows in the table using one command:"
   ]
  },
  {
   "cell_type": "code",
   "execution_count": 35,
   "id": "9227df01",
   "metadata": {},
   "outputs": [
    {
     "data": {
      "text/plain": [
       "6994"
      ]
     },
     "execution_count": 35,
     "metadata": {},
     "output_type": "execute_result"
    }
   ],
   "source": [
    "df.duplicated().sum()\n",
    "\n"
   ]
  },
  {
   "cell_type": "markdown",
   "id": "5f6eb0fc",
   "metadata": {},
   "source": [
    "Review the duplicate rows to determine if removing them would distort our dataset."
   ]
  },
  {
   "cell_type": "code",
   "execution_count": 36,
   "id": "bcf32fcb",
   "metadata": {},
   "outputs": [
    {
     "data": {
      "text/html": [
       "<div>\n",
       "<style scoped>\n",
       "    .dataframe tbody tr th:only-of-type {\n",
       "        vertical-align: middle;\n",
       "    }\n",
       "\n",
       "    .dataframe tbody tr th {\n",
       "        vertical-align: top;\n",
       "    }\n",
       "\n",
       "    .dataframe thead th {\n",
       "        text-align: right;\n",
       "    }\n",
       "</style>\n",
       "<table border=\"1\" class=\"dataframe\">\n",
       "  <thead>\n",
       "    <tr style=\"text-align: right;\">\n",
       "      <th></th>\n",
       "      <th>name</th>\n",
       "      <th>character</th>\n",
       "      <th>role</th>\n",
       "      <th>title</th>\n",
       "      <th>type</th>\n",
       "      <th>release_year</th>\n",
       "      <th>genres</th>\n",
       "      <th>imdb_score</th>\n",
       "      <th>imdb_votes</th>\n",
       "    </tr>\n",
       "  </thead>\n",
       "  <tbody>\n",
       "    <tr>\n",
       "      <th>7560</th>\n",
       "      <td>Philip Greene</td>\n",
       "      <td>Baseball Fan (uncredited)</td>\n",
       "      <td>ACTOR</td>\n",
       "      <td>How Do You Know</td>\n",
       "      <td>MOVIE</td>\n",
       "      <td>2010</td>\n",
       "      <td>['comedy', 'drama', 'romance']</td>\n",
       "      <td>5.4</td>\n",
       "      <td>50383.0</td>\n",
       "    </tr>\n",
       "    <tr>\n",
       "      <th>7561</th>\n",
       "      <td>Philip Greene</td>\n",
       "      <td>Baseball Fan (uncredited)</td>\n",
       "      <td>ACTOR</td>\n",
       "      <td>How Do You Know</td>\n",
       "      <td>MOVIE</td>\n",
       "      <td>2010</td>\n",
       "      <td>['comedy', 'drama', 'romance']</td>\n",
       "      <td>5.4</td>\n",
       "      <td>50383.0</td>\n",
       "    </tr>\n",
       "    <tr>\n",
       "      <th>14502</th>\n",
       "      <td>Dan Levy</td>\n",
       "      <td>Reporter</td>\n",
       "      <td>ACTOR</td>\n",
       "      <td>A Very Harold &amp; Kumar Christmas</td>\n",
       "      <td>MOVIE</td>\n",
       "      <td>2011</td>\n",
       "      <td>['comedy', 'fantasy', 'romance']</td>\n",
       "      <td>6.2</td>\n",
       "      <td>69562.0</td>\n",
       "    </tr>\n",
       "    <tr>\n",
       "      <th>14512</th>\n",
       "      <td>Dan Levy</td>\n",
       "      <td>Reporter</td>\n",
       "      <td>ACTOR</td>\n",
       "      <td>A Very Harold &amp; Kumar Christmas</td>\n",
       "      <td>MOVIE</td>\n",
       "      <td>2011</td>\n",
       "      <td>['comedy', 'fantasy', 'romance']</td>\n",
       "      <td>6.2</td>\n",
       "      <td>69562.0</td>\n",
       "    </tr>\n",
       "    <tr>\n",
       "      <th>18951</th>\n",
       "      <td>Nicolas Le Nev??</td>\n",
       "      <td>unknown</td>\n",
       "      <td>DIRECTOR</td>\n",
       "      <td>Sammy &amp; Co</td>\n",
       "      <td>SHOW</td>\n",
       "      <td>2014</td>\n",
       "      <td>['animation', 'european']</td>\n",
       "      <td>5.7</td>\n",
       "      <td>31.0</td>\n",
       "    </tr>\n",
       "    <tr>\n",
       "      <th>...</th>\n",
       "      <td>...</td>\n",
       "      <td>...</td>\n",
       "      <td>...</td>\n",
       "      <td>...</td>\n",
       "      <td>...</td>\n",
       "      <td>...</td>\n",
       "      <td>...</td>\n",
       "      <td>...</td>\n",
       "      <td>...</td>\n",
       "    </tr>\n",
       "    <tr>\n",
       "      <th>85569</th>\n",
       "      <td>Jessica Cediel</td>\n",
       "      <td>Liliana Navarro</td>\n",
       "      <td>ACTOR</td>\n",
       "      <td>Lokillo</td>\n",
       "      <td>MOVIE</td>\n",
       "      <td>2021</td>\n",
       "      <td>['comedy']</td>\n",
       "      <td>3.8</td>\n",
       "      <td>68.0</td>\n",
       "    </tr>\n",
       "    <tr>\n",
       "      <th>85570</th>\n",
       "      <td>Javier Gardeaz?­bal</td>\n",
       "      <td>Agust??n \"Peluca\" Ort??z</td>\n",
       "      <td>ACTOR</td>\n",
       "      <td>Lokillo</td>\n",
       "      <td>MOVIE</td>\n",
       "      <td>2021</td>\n",
       "      <td>['comedy']</td>\n",
       "      <td>3.8</td>\n",
       "      <td>68.0</td>\n",
       "    </tr>\n",
       "    <tr>\n",
       "      <th>85571</th>\n",
       "      <td>Carla Giraldo</td>\n",
       "      <td>Valery Reinoso</td>\n",
       "      <td>ACTOR</td>\n",
       "      <td>Lokillo</td>\n",
       "      <td>MOVIE</td>\n",
       "      <td>2021</td>\n",
       "      <td>['comedy']</td>\n",
       "      <td>3.8</td>\n",
       "      <td>68.0</td>\n",
       "    </tr>\n",
       "    <tr>\n",
       "      <th>85572</th>\n",
       "      <td>Ana Mar??a S?­nchez</td>\n",
       "      <td>Lourdes</td>\n",
       "      <td>ACTOR</td>\n",
       "      <td>Lokillo</td>\n",
       "      <td>MOVIE</td>\n",
       "      <td>2021</td>\n",
       "      <td>['comedy']</td>\n",
       "      <td>3.8</td>\n",
       "      <td>68.0</td>\n",
       "    </tr>\n",
       "    <tr>\n",
       "      <th>85577</th>\n",
       "      <td>Isabel Gaona</td>\n",
       "      <td>Cacica</td>\n",
       "      <td>ACTOR</td>\n",
       "      <td>Lokillo</td>\n",
       "      <td>MOVIE</td>\n",
       "      <td>2021</td>\n",
       "      <td>['comedy']</td>\n",
       "      <td>3.8</td>\n",
       "      <td>68.0</td>\n",
       "    </tr>\n",
       "  </tbody>\n",
       "</table>\n",
       "<p>13988 rows × 9 columns</p>\n",
       "</div>"
      ],
      "text/plain": [
       "                      name                  character      role  \\\n",
       "7560         Philip Greene  Baseball Fan (uncredited)     ACTOR   \n",
       "7561         Philip Greene  Baseball Fan (uncredited)     ACTOR   \n",
       "14502             Dan Levy                   Reporter     ACTOR   \n",
       "14512             Dan Levy                   Reporter     ACTOR   \n",
       "18951     Nicolas Le Nev??                    unknown  DIRECTOR   \n",
       "...                    ...                        ...       ...   \n",
       "85569       Jessica Cediel            Liliana Navarro     ACTOR   \n",
       "85570  Javier Gardeaz?­bal   Agust??n \"Peluca\" Ort??z     ACTOR   \n",
       "85571        Carla Giraldo             Valery Reinoso     ACTOR   \n",
       "85572  Ana Mar??a S?­nchez                    Lourdes     ACTOR   \n",
       "85577         Isabel Gaona                     Cacica     ACTOR   \n",
       "\n",
       "                                 title   type  release_year  \\\n",
       "7560                   How Do You Know  MOVIE          2010   \n",
       "7561                   How Do You Know  MOVIE          2010   \n",
       "14502  A Very Harold & Kumar Christmas  MOVIE          2011   \n",
       "14512  A Very Harold & Kumar Christmas  MOVIE          2011   \n",
       "18951                       Sammy & Co   SHOW          2014   \n",
       "...                                ...    ...           ...   \n",
       "85569                          Lokillo  MOVIE          2021   \n",
       "85570                          Lokillo  MOVIE          2021   \n",
       "85571                          Lokillo  MOVIE          2021   \n",
       "85572                          Lokillo  MOVIE          2021   \n",
       "85577                          Lokillo  MOVIE          2021   \n",
       "\n",
       "                                 genres  imdb_score  imdb_votes  \n",
       "7560     ['comedy', 'drama', 'romance']         5.4     50383.0  \n",
       "7561     ['comedy', 'drama', 'romance']         5.4     50383.0  \n",
       "14502  ['comedy', 'fantasy', 'romance']         6.2     69562.0  \n",
       "14512  ['comedy', 'fantasy', 'romance']         6.2     69562.0  \n",
       "18951         ['animation', 'european']         5.7        31.0  \n",
       "...                                 ...         ...         ...  \n",
       "85569                        ['comedy']         3.8        68.0  \n",
       "85570                        ['comedy']         3.8        68.0  \n",
       "85571                        ['comedy']         3.8        68.0  \n",
       "85572                        ['comedy']         3.8        68.0  \n",
       "85577                        ['comedy']         3.8        68.0  \n",
       "\n",
       "[13988 rows x 9 columns]"
      ]
     },
     "execution_count": 36,
     "metadata": {},
     "output_type": "execute_result"
    }
   ],
   "source": [
    "filter = df.duplicated(keep=False)\n",
    "df[filter]"
   ]
  },
  {
   "cell_type": "markdown",
   "id": "a1ed6640",
   "metadata": {},
   "source": [
    "There are two clear duplicates in the printed rows. We can safely remove them.\n",
    "Call the `pandas` method for getting rid of duplicate rows:"
   ]
  },
  {
   "cell_type": "code",
   "execution_count": 37,
   "id": "724d5bc8",
   "metadata": {
    "scrolled": true
   },
   "outputs": [],
   "source": [
    "# removing duplicate rows\n",
    "df = df.drop_duplicates()\n"
   ]
  },
  {
   "cell_type": "markdown",
   "id": "fc8c77ba",
   "metadata": {},
   "source": [
    "Check for duplicate rows once more to make sure you have removed all of them:"
   ]
  },
  {
   "cell_type": "code",
   "execution_count": 38,
   "id": "8091a9bc",
   "metadata": {},
   "outputs": [
    {
     "data": {
      "text/plain": [
       "0"
      ]
     },
     "execution_count": 38,
     "metadata": {},
     "output_type": "execute_result"
    }
   ],
   "source": [
    "# checking for duplicates\n",
    "df.duplicated().sum()"
   ]
  },
  {
   "cell_type": "markdown",
   "id": "1d802b07",
   "metadata": {},
   "source": [
    "Now get rid of implicit duplicates in the `'type'` column. For example, the string `'SHOW'` can be written in different ways. These kinds of errors will also affect the result."
   ]
  },
  {
   "cell_type": "markdown",
   "id": "d5f987ed",
   "metadata": {},
   "source": [
    "Print a list of unique `'type'` names, sorted in alphabetical order. To do so:\n",
    "* Retrieve the intended dataframe column \n",
    "* Apply a sorting method to it\n",
    "* For the sorted column, call the method that will return all unique column values"
   ]
  },
  {
   "cell_type": "code",
   "execution_count": 39,
   "id": "3d7b0ac5",
   "metadata": {},
   "outputs": [
    {
     "name": "stdout",
     "output_type": "stream",
     "text": [
      "['MOVIE' 'SHOW' 'movies' 'shows' 'the movie' 'tv' 'tv series' 'tv show'\n",
      " 'tv shows']\n"
     ]
    }
   ],
   "source": [
    "# viewing unique type names\n",
    "unique_type = df['type'].sort_values().unique() \n",
    "print(unique_type)"
   ]
  },
  {
   "cell_type": "markdown",
   "id": "ac6e8b18",
   "metadata": {},
   "source": [
    "Look through the list to find implicit duplicates of `'show'` (`'movie'` duplicates will be ignored since the assumption is about shows). These could be names written incorrectly or alternative names of the same genre.\n",
    "\n",
    "You will see the following implicit duplicates:\n",
    "* `'shows'`\n",
    "* `'SHOW'`\n",
    "* `'tv show'`\n",
    "* `'tv shows'`\n",
    "* `'tv series'`\n",
    "* `'tv'`\n",
    "\n",
    "To get rid of them, declare the function `replace_wrong_show()` with two parameters: \n",
    "* `wrong_shows_list=` — the list of duplicates\n",
    "* `correct_show=` — the string with the correct value\n",
    "\n",
    "The function should correct the names in the `'type'` column from the `df` table (i.e., replace each value from the `wrong_shows_list` list with the value in `correct_show`)."
   ]
  },
  {
   "cell_type": "code",
   "execution_count": 40,
   "id": "bff944f9",
   "metadata": {},
   "outputs": [],
   "source": [
    "# function for replacing implicit duplicates \n",
    "def replace_wrong_show(wrong_show_list, correct_show):\n",
    "    \n",
    "    df['type'] = df['type'].replace(wrong_show_list, correct_show)    "
   ]
  },
  {
   "cell_type": "markdown",
   "id": "d02d13a6",
   "metadata": {},
   "source": [
    "Call `replace_wrong_show()` and pass it arguments so that it clears implicit duplicates and replaces them with `SHOW`:"
   ]
  },
  {
   "cell_type": "code",
   "execution_count": 41,
   "id": "a2217e53",
   "metadata": {},
   "outputs": [],
   "source": [
    "# removing implicit duplicates\n",
    "wrong_show_list =[\"shows\", \"SHOW\", \"tv show\", \"tv shows\", \"tv series\", \"tv\"]\n",
    "correct_show =\"show\"\n",
    "replace_wrong_show(wrong_show_list, correct_show)"
   ]
  },
  {
   "cell_type": "markdown",
   "id": "318b09f7",
   "metadata": {},
   "source": [
    "Make sure the duplicate names are removed. Print the list of unique values from the `'type'` column:"
   ]
  },
  {
   "cell_type": "code",
   "execution_count": 42,
   "id": "25d49d73",
   "metadata": {},
   "outputs": [
    {
     "data": {
      "text/plain": [
       "array(['MOVIE', 'movies', 'show', 'the movie'], dtype=object)"
      ]
     },
     "execution_count": 42,
     "metadata": {},
     "output_type": "execute_result"
    }
   ],
   "source": [
    "# viewing unique genre names\n",
    "df['type'].sort_values().unique()"
   ]
  },
  {
   "cell_type": "markdown",
   "id": "18b2049e",
   "metadata": {},
   "source": [
    "### Conclusions <a id='data_preprocessing_conclusions'></a>\n",
    "We detected three issues with the data:\n",
    "\n",
    "- Incorrect header styles\n",
    "- Missing values\n",
    "- Duplicate rows and implicit duplicates\n",
    "\n",
    "The headers have been cleaned up to make processing the table simpler.\n",
    "\n",
    "All rows with missing values have been removed. \n",
    "\n",
    "The absence of duplicates will make the results more precise and easier to understand.\n",
    "\n",
    "Now we can move on to our analysis of the prepared data."
   ]
  },
  {
   "cell_type": "markdown",
   "id": "1aa0f1b1",
   "metadata": {},
   "source": [
    "## Stage 3. Data analysis <a id='hypotheses'></a>"
   ]
  },
  {
   "cell_type": "markdown",
   "id": "f8fb6a0e",
   "metadata": {},
   "source": [
    "Based on the previous project stages, you can now define how the assumption will be checked. Calculate the average amount of votes for each score (this data is available in the `imdb_score` and `imdb_votes` columns), and then check how these averages relate to each other. If the averages for shows with the highest scores are bigger than those for shows with lower scores, the assumption appears to be true.\n",
    "\n",
    "Based on this, complete the following steps:\n",
    "\n",
    "- Filter the dataframe to only include shows released in 1999 or later.\n",
    "- Group scores into buckets by rounding the values of the appropriate column (a set of 1-10 integers will help us make the outcome of our calculations more evident without damaging the quality of our research).\n",
    "- Identify outliers among scores based on their number of votes, and exclude scores with few votes.\n",
    "- Calculate the average votes for each score and check whether the assumption matches the results."
   ]
  },
  {
   "cell_type": "markdown",
   "id": "0ea2cb51",
   "metadata": {},
   "source": [
    "To filter the dataframe and only include shows released in 1999 or later, you will take two steps. First, keep only titles published in 1999 or later in our dataframe. Then, filter the table to only contain shows (movies will be removed)."
   ]
  },
  {
   "cell_type": "code",
   "execution_count": 43,
   "id": "6a704aa1",
   "metadata": {},
   "outputs": [
    {
     "name": "stderr",
     "output_type": "stream",
     "text": [
      "/tmp/ipykernel_32/2670528704.py:6: UserWarning: Boolean Series key will be reindexed to match DataFrame index.\n",
      "  show_after_1999_df = show_df[ages]\n"
     ]
    },
    {
     "data": {
      "text/html": [
       "<div>\n",
       "<style scoped>\n",
       "    .dataframe tbody tr th:only-of-type {\n",
       "        vertical-align: middle;\n",
       "    }\n",
       "\n",
       "    .dataframe tbody tr th {\n",
       "        vertical-align: top;\n",
       "    }\n",
       "\n",
       "    .dataframe thead th {\n",
       "        text-align: right;\n",
       "    }\n",
       "</style>\n",
       "<table border=\"1\" class=\"dataframe\">\n",
       "  <thead>\n",
       "    <tr style=\"text-align: right;\">\n",
       "      <th></th>\n",
       "      <th>name</th>\n",
       "      <th>character</th>\n",
       "      <th>role</th>\n",
       "      <th>title</th>\n",
       "      <th>type</th>\n",
       "      <th>release_year</th>\n",
       "      <th>genres</th>\n",
       "      <th>imdb_score</th>\n",
       "      <th>imdb_votes</th>\n",
       "    </tr>\n",
       "  </thead>\n",
       "  <tbody>\n",
       "    <tr>\n",
       "      <th>1664</th>\n",
       "      <td>Jeff Probst</td>\n",
       "      <td>Himself - Host</td>\n",
       "      <td>ACTOR</td>\n",
       "      <td>Survivor</td>\n",
       "      <td>show</td>\n",
       "      <td>2000</td>\n",
       "      <td>['reality']</td>\n",
       "      <td>7.4</td>\n",
       "      <td>24687.0</td>\n",
       "    </tr>\n",
       "    <tr>\n",
       "      <th>2076</th>\n",
       "      <td>Mayumi Tanaka</td>\n",
       "      <td>Monkey D. Luffy (voice)</td>\n",
       "      <td>ACTOR</td>\n",
       "      <td>One Piece</td>\n",
       "      <td>show</td>\n",
       "      <td>1999</td>\n",
       "      <td>['animation', 'action', 'comedy', 'drama', 'fa...</td>\n",
       "      <td>8.8</td>\n",
       "      <td>117129.0</td>\n",
       "    </tr>\n",
       "    <tr>\n",
       "      <th>2077</th>\n",
       "      <td>Kazuya Nakai</td>\n",
       "      <td>Roronoa Zoro (voice)</td>\n",
       "      <td>ACTOR</td>\n",
       "      <td>One Piece</td>\n",
       "      <td>show</td>\n",
       "      <td>1999</td>\n",
       "      <td>['animation', 'action', 'comedy', 'drama', 'fa...</td>\n",
       "      <td>8.8</td>\n",
       "      <td>117129.0</td>\n",
       "    </tr>\n",
       "    <tr>\n",
       "      <th>2078</th>\n",
       "      <td>Akemi Okamura</td>\n",
       "      <td>Nami (voice)</td>\n",
       "      <td>ACTOR</td>\n",
       "      <td>One Piece</td>\n",
       "      <td>show</td>\n",
       "      <td>1999</td>\n",
       "      <td>['animation', 'action', 'comedy', 'drama', 'fa...</td>\n",
       "      <td>8.8</td>\n",
       "      <td>117129.0</td>\n",
       "    </tr>\n",
       "    <tr>\n",
       "      <th>2079</th>\n",
       "      <td>Kappei Yamaguchi</td>\n",
       "      <td>Usopp (voice)</td>\n",
       "      <td>ACTOR</td>\n",
       "      <td>One Piece</td>\n",
       "      <td>show</td>\n",
       "      <td>1999</td>\n",
       "      <td>['animation', 'action', 'comedy', 'drama', 'fa...</td>\n",
       "      <td>8.8</td>\n",
       "      <td>117129.0</td>\n",
       "    </tr>\n",
       "    <tr>\n",
       "      <th>...</th>\n",
       "      <td>...</td>\n",
       "      <td>...</td>\n",
       "      <td>...</td>\n",
       "      <td>...</td>\n",
       "      <td>...</td>\n",
       "      <td>...</td>\n",
       "      <td>...</td>\n",
       "      <td>...</td>\n",
       "      <td>...</td>\n",
       "    </tr>\n",
       "    <tr>\n",
       "      <th>85433</th>\n",
       "      <td>Maneerat Kam-Uan</td>\n",
       "      <td>Ae</td>\n",
       "      <td>ACTOR</td>\n",
       "      <td>Let's Eat</td>\n",
       "      <td>show</td>\n",
       "      <td>2021</td>\n",
       "      <td>['drama', 'comedy']</td>\n",
       "      <td>8.2</td>\n",
       "      <td>5.0</td>\n",
       "    </tr>\n",
       "    <tr>\n",
       "      <th>85434</th>\n",
       "      <td>Rudklao Amratisha</td>\n",
       "      <td>unknown</td>\n",
       "      <td>ACTOR</td>\n",
       "      <td>Let's Eat</td>\n",
       "      <td>show</td>\n",
       "      <td>2021</td>\n",
       "      <td>['drama', 'comedy']</td>\n",
       "      <td>8.2</td>\n",
       "      <td>5.0</td>\n",
       "    </tr>\n",
       "    <tr>\n",
       "      <th>85435</th>\n",
       "      <td>Jaturong Mokjok</td>\n",
       "      <td>unknown</td>\n",
       "      <td>ACTOR</td>\n",
       "      <td>Let's Eat</td>\n",
       "      <td>show</td>\n",
       "      <td>2021</td>\n",
       "      <td>['drama', 'comedy']</td>\n",
       "      <td>8.2</td>\n",
       "      <td>5.0</td>\n",
       "    </tr>\n",
       "    <tr>\n",
       "      <th>85436</th>\n",
       "      <td>Pisamai Wilaisak</td>\n",
       "      <td>unknown</td>\n",
       "      <td>ACTOR</td>\n",
       "      <td>Let's Eat</td>\n",
       "      <td>show</td>\n",
       "      <td>2021</td>\n",
       "      <td>['drama', 'comedy']</td>\n",
       "      <td>8.2</td>\n",
       "      <td>5.0</td>\n",
       "    </tr>\n",
       "    <tr>\n",
       "      <th>85437</th>\n",
       "      <td>Sarawut Wichiensarn</td>\n",
       "      <td>unknown</td>\n",
       "      <td>DIRECTOR</td>\n",
       "      <td>Let's Eat</td>\n",
       "      <td>show</td>\n",
       "      <td>2021</td>\n",
       "      <td>['drama', 'comedy']</td>\n",
       "      <td>8.2</td>\n",
       "      <td>5.0</td>\n",
       "    </tr>\n",
       "  </tbody>\n",
       "</table>\n",
       "<p>13430 rows × 9 columns</p>\n",
       "</div>"
      ],
      "text/plain": [
       "                      name                character      role      title  \\\n",
       "1664           Jeff Probst           Himself - Host     ACTOR   Survivor   \n",
       "2076         Mayumi Tanaka  Monkey D. Luffy (voice)     ACTOR  One Piece   \n",
       "2077          Kazuya Nakai     Roronoa Zoro (voice)     ACTOR  One Piece   \n",
       "2078         Akemi Okamura             Nami (voice)     ACTOR  One Piece   \n",
       "2079      Kappei Yamaguchi            Usopp (voice)     ACTOR  One Piece   \n",
       "...                    ...                      ...       ...        ...   \n",
       "85433     Maneerat Kam-Uan                       Ae     ACTOR  Let's Eat   \n",
       "85434    Rudklao Amratisha                  unknown     ACTOR  Let's Eat   \n",
       "85435      Jaturong Mokjok                  unknown     ACTOR  Let's Eat   \n",
       "85436     Pisamai Wilaisak                  unknown     ACTOR  Let's Eat   \n",
       "85437  Sarawut Wichiensarn                  unknown  DIRECTOR  Let's Eat   \n",
       "\n",
       "       type  release_year                                             genres  \\\n",
       "1664   show          2000                                        ['reality']   \n",
       "2076   show          1999  ['animation', 'action', 'comedy', 'drama', 'fa...   \n",
       "2077   show          1999  ['animation', 'action', 'comedy', 'drama', 'fa...   \n",
       "2078   show          1999  ['animation', 'action', 'comedy', 'drama', 'fa...   \n",
       "2079   show          1999  ['animation', 'action', 'comedy', 'drama', 'fa...   \n",
       "...     ...           ...                                                ...   \n",
       "85433  show          2021                                ['drama', 'comedy']   \n",
       "85434  show          2021                                ['drama', 'comedy']   \n",
       "85435  show          2021                                ['drama', 'comedy']   \n",
       "85436  show          2021                                ['drama', 'comedy']   \n",
       "85437  show          2021                                ['drama', 'comedy']   \n",
       "\n",
       "       imdb_score  imdb_votes  \n",
       "1664          7.4     24687.0  \n",
       "2076          8.8    117129.0  \n",
       "2077          8.8    117129.0  \n",
       "2078          8.8    117129.0  \n",
       "2079          8.8    117129.0  \n",
       "...           ...         ...  \n",
       "85433         8.2         5.0  \n",
       "85434         8.2         5.0  \n",
       "85435         8.2         5.0  \n",
       "85436         8.2         5.0  \n",
       "85437         8.2         5.0  \n",
       "\n",
       "[13430 rows x 9 columns]"
      ]
     },
     "execution_count": 43,
     "metadata": {},
     "output_type": "execute_result"
    }
   ],
   "source": [
    "# using conditional indexing modify df so it has only titles released after 1999 (with 1999 included)\n",
    "# give the slice of dataframe new name\n",
    "golden = df['type'] == 'show'\n",
    "ages = df['release_year'] >= 1999\n",
    "show_df = df[golden]\n",
    "show_after_1999_df = show_df[ages]\n",
    "show_after_1999_df"
   ]
  },
  {
   "cell_type": "code",
   "execution_count": 44,
   "id": "128dc6a9",
   "metadata": {
    "scrolled": true
   },
   "outputs": [
    {
     "data": {
      "text/html": [
       "<div>\n",
       "<style scoped>\n",
       "    .dataframe tbody tr th:only-of-type {\n",
       "        vertical-align: middle;\n",
       "    }\n",
       "\n",
       "    .dataframe tbody tr th {\n",
       "        vertical-align: top;\n",
       "    }\n",
       "\n",
       "    .dataframe thead th {\n",
       "        text-align: right;\n",
       "    }\n",
       "</style>\n",
       "<table border=\"1\" class=\"dataframe\">\n",
       "  <thead>\n",
       "    <tr style=\"text-align: right;\">\n",
       "      <th></th>\n",
       "      <th>name</th>\n",
       "      <th>character</th>\n",
       "      <th>role</th>\n",
       "      <th>title</th>\n",
       "      <th>type</th>\n",
       "      <th>release_year</th>\n",
       "      <th>genres</th>\n",
       "      <th>imdb_score</th>\n",
       "      <th>imdb_votes</th>\n",
       "    </tr>\n",
       "  </thead>\n",
       "  <tbody>\n",
       "    <tr>\n",
       "      <th>1664</th>\n",
       "      <td>Jeff Probst</td>\n",
       "      <td>Himself - Host</td>\n",
       "      <td>ACTOR</td>\n",
       "      <td>Survivor</td>\n",
       "      <td>show</td>\n",
       "      <td>2000</td>\n",
       "      <td>['reality']</td>\n",
       "      <td>7.4</td>\n",
       "      <td>24687.0</td>\n",
       "    </tr>\n",
       "    <tr>\n",
       "      <th>2076</th>\n",
       "      <td>Mayumi Tanaka</td>\n",
       "      <td>Monkey D. Luffy (voice)</td>\n",
       "      <td>ACTOR</td>\n",
       "      <td>One Piece</td>\n",
       "      <td>show</td>\n",
       "      <td>1999</td>\n",
       "      <td>['animation', 'action', 'comedy', 'drama', 'fa...</td>\n",
       "      <td>8.8</td>\n",
       "      <td>117129.0</td>\n",
       "    </tr>\n",
       "    <tr>\n",
       "      <th>2077</th>\n",
       "      <td>Kazuya Nakai</td>\n",
       "      <td>Roronoa Zoro (voice)</td>\n",
       "      <td>ACTOR</td>\n",
       "      <td>One Piece</td>\n",
       "      <td>show</td>\n",
       "      <td>1999</td>\n",
       "      <td>['animation', 'action', 'comedy', 'drama', 'fa...</td>\n",
       "      <td>8.8</td>\n",
       "      <td>117129.0</td>\n",
       "    </tr>\n",
       "    <tr>\n",
       "      <th>2078</th>\n",
       "      <td>Akemi Okamura</td>\n",
       "      <td>Nami (voice)</td>\n",
       "      <td>ACTOR</td>\n",
       "      <td>One Piece</td>\n",
       "      <td>show</td>\n",
       "      <td>1999</td>\n",
       "      <td>['animation', 'action', 'comedy', 'drama', 'fa...</td>\n",
       "      <td>8.8</td>\n",
       "      <td>117129.0</td>\n",
       "    </tr>\n",
       "    <tr>\n",
       "      <th>2079</th>\n",
       "      <td>Kappei Yamaguchi</td>\n",
       "      <td>Usopp (voice)</td>\n",
       "      <td>ACTOR</td>\n",
       "      <td>One Piece</td>\n",
       "      <td>show</td>\n",
       "      <td>1999</td>\n",
       "      <td>['animation', 'action', 'comedy', 'drama', 'fa...</td>\n",
       "      <td>8.8</td>\n",
       "      <td>117129.0</td>\n",
       "    </tr>\n",
       "    <tr>\n",
       "      <th>...</th>\n",
       "      <td>...</td>\n",
       "      <td>...</td>\n",
       "      <td>...</td>\n",
       "      <td>...</td>\n",
       "      <td>...</td>\n",
       "      <td>...</td>\n",
       "      <td>...</td>\n",
       "      <td>...</td>\n",
       "      <td>...</td>\n",
       "    </tr>\n",
       "    <tr>\n",
       "      <th>85433</th>\n",
       "      <td>Maneerat Kam-Uan</td>\n",
       "      <td>Ae</td>\n",
       "      <td>ACTOR</td>\n",
       "      <td>Let's Eat</td>\n",
       "      <td>show</td>\n",
       "      <td>2021</td>\n",
       "      <td>['drama', 'comedy']</td>\n",
       "      <td>8.2</td>\n",
       "      <td>5.0</td>\n",
       "    </tr>\n",
       "    <tr>\n",
       "      <th>85434</th>\n",
       "      <td>Rudklao Amratisha</td>\n",
       "      <td>unknown</td>\n",
       "      <td>ACTOR</td>\n",
       "      <td>Let's Eat</td>\n",
       "      <td>show</td>\n",
       "      <td>2021</td>\n",
       "      <td>['drama', 'comedy']</td>\n",
       "      <td>8.2</td>\n",
       "      <td>5.0</td>\n",
       "    </tr>\n",
       "    <tr>\n",
       "      <th>85435</th>\n",
       "      <td>Jaturong Mokjok</td>\n",
       "      <td>unknown</td>\n",
       "      <td>ACTOR</td>\n",
       "      <td>Let's Eat</td>\n",
       "      <td>show</td>\n",
       "      <td>2021</td>\n",
       "      <td>['drama', 'comedy']</td>\n",
       "      <td>8.2</td>\n",
       "      <td>5.0</td>\n",
       "    </tr>\n",
       "    <tr>\n",
       "      <th>85436</th>\n",
       "      <td>Pisamai Wilaisak</td>\n",
       "      <td>unknown</td>\n",
       "      <td>ACTOR</td>\n",
       "      <td>Let's Eat</td>\n",
       "      <td>show</td>\n",
       "      <td>2021</td>\n",
       "      <td>['drama', 'comedy']</td>\n",
       "      <td>8.2</td>\n",
       "      <td>5.0</td>\n",
       "    </tr>\n",
       "    <tr>\n",
       "      <th>85437</th>\n",
       "      <td>Sarawut Wichiensarn</td>\n",
       "      <td>unknown</td>\n",
       "      <td>DIRECTOR</td>\n",
       "      <td>Let's Eat</td>\n",
       "      <td>show</td>\n",
       "      <td>2021</td>\n",
       "      <td>['drama', 'comedy']</td>\n",
       "      <td>8.2</td>\n",
       "      <td>5.0</td>\n",
       "    </tr>\n",
       "  </tbody>\n",
       "</table>\n",
       "<p>13430 rows × 9 columns</p>\n",
       "</div>"
      ],
      "text/plain": [
       "                      name                character      role      title  \\\n",
       "1664           Jeff Probst           Himself - Host     ACTOR   Survivor   \n",
       "2076         Mayumi Tanaka  Monkey D. Luffy (voice)     ACTOR  One Piece   \n",
       "2077          Kazuya Nakai     Roronoa Zoro (voice)     ACTOR  One Piece   \n",
       "2078         Akemi Okamura             Nami (voice)     ACTOR  One Piece   \n",
       "2079      Kappei Yamaguchi            Usopp (voice)     ACTOR  One Piece   \n",
       "...                    ...                      ...       ...        ...   \n",
       "85433     Maneerat Kam-Uan                       Ae     ACTOR  Let's Eat   \n",
       "85434    Rudklao Amratisha                  unknown     ACTOR  Let's Eat   \n",
       "85435      Jaturong Mokjok                  unknown     ACTOR  Let's Eat   \n",
       "85436     Pisamai Wilaisak                  unknown     ACTOR  Let's Eat   \n",
       "85437  Sarawut Wichiensarn                  unknown  DIRECTOR  Let's Eat   \n",
       "\n",
       "       type  release_year                                             genres  \\\n",
       "1664   show          2000                                        ['reality']   \n",
       "2076   show          1999  ['animation', 'action', 'comedy', 'drama', 'fa...   \n",
       "2077   show          1999  ['animation', 'action', 'comedy', 'drama', 'fa...   \n",
       "2078   show          1999  ['animation', 'action', 'comedy', 'drama', 'fa...   \n",
       "2079   show          1999  ['animation', 'action', 'comedy', 'drama', 'fa...   \n",
       "...     ...           ...                                                ...   \n",
       "85433  show          2021                                ['drama', 'comedy']   \n",
       "85434  show          2021                                ['drama', 'comedy']   \n",
       "85435  show          2021                                ['drama', 'comedy']   \n",
       "85436  show          2021                                ['drama', 'comedy']   \n",
       "85437  show          2021                                ['drama', 'comedy']   \n",
       "\n",
       "       imdb_score  imdb_votes  \n",
       "1664          7.4     24687.0  \n",
       "2076          8.8    117129.0  \n",
       "2077          8.8    117129.0  \n",
       "2078          8.8    117129.0  \n",
       "2079          8.8    117129.0  \n",
       "...           ...         ...  \n",
       "85433         8.2         5.0  \n",
       "85434         8.2         5.0  \n",
       "85435         8.2         5.0  \n",
       "85436         8.2         5.0  \n",
       "85437         8.2         5.0  \n",
       "\n",
       "[13430 rows x 9 columns]"
      ]
     },
     "execution_count": 44,
     "metadata": {},
     "output_type": "execute_result"
    }
   ],
   "source": [
    "# repeat conditional indexing so df has only shows (movies are removed as result)\n",
    "show_df = df[(df['type']== 'show') & (df['release_year'] >= 1999)]\n",
    "show_df"
   ]
  },
  {
   "cell_type": "markdown",
   "id": "9648040c",
   "metadata": {},
   "source": [
    "The scores that are to be grouped should be rounded. For instance, titles with scores like 7.8, 8.1, and 8.3 will all be placed in the same bucket with a score of 8."
   ]
  },
  {
   "cell_type": "code",
   "execution_count": 45,
   "id": "54bbd5c0",
   "metadata": {},
   "outputs": [
    {
     "name": "stderr",
     "output_type": "stream",
     "text": [
      "/tmp/ipykernel_32/2636726969.py:5: SettingWithCopyWarning: \n",
      "A value is trying to be set on a copy of a slice from a DataFrame.\n",
      "Try using .loc[row_indexer,col_indexer] = value instead\n",
      "\n",
      "See the caveats in the documentation: https://pandas.pydata.org/pandas-docs/stable/user_guide/indexing.html#returning-a-view-versus-a-copy\n",
      "  show_df['imdb_score']= show_df['imdb_score'].round(0)\n"
     ]
    },
    {
     "data": {
      "text/html": [
       "<div>\n",
       "<style scoped>\n",
       "    .dataframe tbody tr th:only-of-type {\n",
       "        vertical-align: middle;\n",
       "    }\n",
       "\n",
       "    .dataframe tbody tr th {\n",
       "        vertical-align: top;\n",
       "    }\n",
       "\n",
       "    .dataframe thead th {\n",
       "        text-align: right;\n",
       "    }\n",
       "</style>\n",
       "<table border=\"1\" class=\"dataframe\">\n",
       "  <thead>\n",
       "    <tr style=\"text-align: right;\">\n",
       "      <th></th>\n",
       "      <th>name</th>\n",
       "      <th>character</th>\n",
       "      <th>role</th>\n",
       "      <th>title</th>\n",
       "      <th>type</th>\n",
       "      <th>release_year</th>\n",
       "      <th>genres</th>\n",
       "      <th>imdb_score</th>\n",
       "      <th>imdb_votes</th>\n",
       "    </tr>\n",
       "  </thead>\n",
       "  <tbody>\n",
       "    <tr>\n",
       "      <th>85433</th>\n",
       "      <td>Maneerat Kam-Uan</td>\n",
       "      <td>Ae</td>\n",
       "      <td>ACTOR</td>\n",
       "      <td>Let's Eat</td>\n",
       "      <td>show</td>\n",
       "      <td>2021</td>\n",
       "      <td>['drama', 'comedy']</td>\n",
       "      <td>8.0</td>\n",
       "      <td>5.0</td>\n",
       "    </tr>\n",
       "    <tr>\n",
       "      <th>85434</th>\n",
       "      <td>Rudklao Amratisha</td>\n",
       "      <td>unknown</td>\n",
       "      <td>ACTOR</td>\n",
       "      <td>Let's Eat</td>\n",
       "      <td>show</td>\n",
       "      <td>2021</td>\n",
       "      <td>['drama', 'comedy']</td>\n",
       "      <td>8.0</td>\n",
       "      <td>5.0</td>\n",
       "    </tr>\n",
       "    <tr>\n",
       "      <th>85435</th>\n",
       "      <td>Jaturong Mokjok</td>\n",
       "      <td>unknown</td>\n",
       "      <td>ACTOR</td>\n",
       "      <td>Let's Eat</td>\n",
       "      <td>show</td>\n",
       "      <td>2021</td>\n",
       "      <td>['drama', 'comedy']</td>\n",
       "      <td>8.0</td>\n",
       "      <td>5.0</td>\n",
       "    </tr>\n",
       "    <tr>\n",
       "      <th>85436</th>\n",
       "      <td>Pisamai Wilaisak</td>\n",
       "      <td>unknown</td>\n",
       "      <td>ACTOR</td>\n",
       "      <td>Let's Eat</td>\n",
       "      <td>show</td>\n",
       "      <td>2021</td>\n",
       "      <td>['drama', 'comedy']</td>\n",
       "      <td>8.0</td>\n",
       "      <td>5.0</td>\n",
       "    </tr>\n",
       "    <tr>\n",
       "      <th>85437</th>\n",
       "      <td>Sarawut Wichiensarn</td>\n",
       "      <td>unknown</td>\n",
       "      <td>DIRECTOR</td>\n",
       "      <td>Let's Eat</td>\n",
       "      <td>show</td>\n",
       "      <td>2021</td>\n",
       "      <td>['drama', 'comedy']</td>\n",
       "      <td>8.0</td>\n",
       "      <td>5.0</td>\n",
       "    </tr>\n",
       "  </tbody>\n",
       "</table>\n",
       "</div>"
      ],
      "text/plain": [
       "                      name character      role      title  type  release_year  \\\n",
       "85433     Maneerat Kam-Uan        Ae     ACTOR  Let's Eat  show          2021   \n",
       "85434    Rudklao Amratisha   unknown     ACTOR  Let's Eat  show          2021   \n",
       "85435      Jaturong Mokjok   unknown     ACTOR  Let's Eat  show          2021   \n",
       "85436     Pisamai Wilaisak   unknown     ACTOR  Let's Eat  show          2021   \n",
       "85437  Sarawut Wichiensarn   unknown  DIRECTOR  Let's Eat  show          2021   \n",
       "\n",
       "                    genres  imdb_score  imdb_votes  \n",
       "85433  ['drama', 'comedy']         8.0         5.0  \n",
       "85434  ['drama', 'comedy']         8.0         5.0  \n",
       "85435  ['drama', 'comedy']         8.0         5.0  \n",
       "85436  ['drama', 'comedy']         8.0         5.0  \n",
       "85437  ['drama', 'comedy']         8.0         5.0  "
      ]
     },
     "execution_count": 45,
     "metadata": {},
     "output_type": "execute_result"
    }
   ],
   "source": [
    "# rounding column with scores\n",
    "\n",
    "#checking the outcome with tail()\n",
    "\n",
    "show_df['imdb_score']= show_df['imdb_score'].round(0)\n",
    "\n",
    "show_df.tail()"
   ]
  },
  {
   "cell_type": "markdown",
   "id": "36dbd00a",
   "metadata": {},
   "source": [
    "It is now time to identify outliers based on the number of votes."
   ]
  },
  {
   "cell_type": "code",
   "execution_count": 46,
   "id": "b8b55e95",
   "metadata": {},
   "outputs": [
    {
     "data": {
      "text/html": [
       "<div>\n",
       "<style scoped>\n",
       "    .dataframe tbody tr th:only-of-type {\n",
       "        vertical-align: middle;\n",
       "    }\n",
       "\n",
       "    .dataframe tbody tr th {\n",
       "        vertical-align: top;\n",
       "    }\n",
       "\n",
       "    .dataframe thead th {\n",
       "        text-align: right;\n",
       "    }\n",
       "</style>\n",
       "<table border=\"1\" class=\"dataframe\">\n",
       "  <thead>\n",
       "    <tr style=\"text-align: right;\">\n",
       "      <th></th>\n",
       "      <th>imdb_score</th>\n",
       "      <th>imdb_votes</th>\n",
       "    </tr>\n",
       "  </thead>\n",
       "  <tbody>\n",
       "    <tr>\n",
       "      <th>0</th>\n",
       "      <td>2.0</td>\n",
       "      <td>24</td>\n",
       "    </tr>\n",
       "    <tr>\n",
       "      <th>1</th>\n",
       "      <td>3.0</td>\n",
       "      <td>27</td>\n",
       "    </tr>\n",
       "    <tr>\n",
       "      <th>2</th>\n",
       "      <td>4.0</td>\n",
       "      <td>180</td>\n",
       "    </tr>\n",
       "    <tr>\n",
       "      <th>3</th>\n",
       "      <td>5.0</td>\n",
       "      <td>592</td>\n",
       "    </tr>\n",
       "    <tr>\n",
       "      <th>4</th>\n",
       "      <td>6.0</td>\n",
       "      <td>2494</td>\n",
       "    </tr>\n",
       "    <tr>\n",
       "      <th>5</th>\n",
       "      <td>7.0</td>\n",
       "      <td>4706</td>\n",
       "    </tr>\n",
       "    <tr>\n",
       "      <th>6</th>\n",
       "      <td>8.0</td>\n",
       "      <td>4842</td>\n",
       "    </tr>\n",
       "    <tr>\n",
       "      <th>7</th>\n",
       "      <td>9.0</td>\n",
       "      <td>557</td>\n",
       "    </tr>\n",
       "    <tr>\n",
       "      <th>8</th>\n",
       "      <td>10.0</td>\n",
       "      <td>8</td>\n",
       "    </tr>\n",
       "  </tbody>\n",
       "</table>\n",
       "</div>"
      ],
      "text/plain": [
       "   imdb_score  imdb_votes\n",
       "0         2.0          24\n",
       "1         3.0          27\n",
       "2         4.0         180\n",
       "3         5.0         592\n",
       "4         6.0        2494\n",
       "5         7.0        4706\n",
       "6         8.0        4842\n",
       "7         9.0         557\n",
       "8        10.0           8"
      ]
     },
     "execution_count": 46,
     "metadata": {},
     "output_type": "execute_result"
    }
   ],
   "source": [
    "# Use groupby() for scores and count all unique values in each group, print the result\n",
    "show_df.groupby('imdb_score')['imdb_votes'].count().reset_index()\n"
   ]
  },
  {
   "cell_type": "markdown",
   "id": "1ba6daae",
   "metadata": {},
   "source": [
    "Based on the aggregation performed, it is evident that scores 2 (24 voted shows), 3 (27 voted shows), and 10 (only 8 voted shows) are outliers. There isn't enough data for these scores for the average number of votes to be meaningful."
   ]
  },
  {
   "cell_type": "markdown",
   "id": "bd468c46",
   "metadata": {},
   "source": [
    "To obtain the mean numbers of votes for the selected scores (we identified a range of 4-9 as acceptable), use conditional filtering and grouping."
   ]
  },
  {
   "cell_type": "code",
   "execution_count": 47,
   "id": "d1867e0e",
   "metadata": {},
   "outputs": [
    {
     "data": {
      "text/html": [
       "<div>\n",
       "<style scoped>\n",
       "    .dataframe tbody tr th:only-of-type {\n",
       "        vertical-align: middle;\n",
       "    }\n",
       "\n",
       "    .dataframe tbody tr th {\n",
       "        vertical-align: top;\n",
       "    }\n",
       "\n",
       "    .dataframe thead th {\n",
       "        text-align: right;\n",
       "    }\n",
       "</style>\n",
       "<table border=\"1\" class=\"dataframe\">\n",
       "  <thead>\n",
       "    <tr style=\"text-align: right;\">\n",
       "      <th></th>\n",
       "      <th>imdb_score</th>\n",
       "      <th>imdb_votes</th>\n",
       "    </tr>\n",
       "  </thead>\n",
       "  <tbody>\n",
       "    <tr>\n",
       "      <th>0</th>\n",
       "      <td>4.0</td>\n",
       "      <td>5277.583333</td>\n",
       "    </tr>\n",
       "    <tr>\n",
       "      <th>1</th>\n",
       "      <td>5.0</td>\n",
       "      <td>3143.942568</td>\n",
       "    </tr>\n",
       "    <tr>\n",
       "      <th>2</th>\n",
       "      <td>6.0</td>\n",
       "      <td>3481.717322</td>\n",
       "    </tr>\n",
       "    <tr>\n",
       "      <th>3</th>\n",
       "      <td>7.0</td>\n",
       "      <td>8727.068211</td>\n",
       "    </tr>\n",
       "    <tr>\n",
       "      <th>4</th>\n",
       "      <td>8.0</td>\n",
       "      <td>30299.460967</td>\n",
       "    </tr>\n",
       "    <tr>\n",
       "      <th>5</th>\n",
       "      <td>9.0</td>\n",
       "      <td>126904.109515</td>\n",
       "    </tr>\n",
       "  </tbody>\n",
       "</table>\n",
       "</div>"
      ],
      "text/plain": [
       "   imdb_score     imdb_votes\n",
       "0         4.0    5277.583333\n",
       "1         5.0    3143.942568\n",
       "2         6.0    3481.717322\n",
       "3         7.0    8727.068211\n",
       "4         8.0   30299.460967\n",
       "5         9.0  126904.109515"
      ]
     },
     "execution_count": 47,
     "metadata": {},
     "output_type": "execute_result"
    }
   ],
   "source": [
    "# filter dataframe using two conditions (scores to be in the range 4-9)\n",
    "scores=show_df[(show_df['imdb_score']>=4) & (show_df['imdb_score']<=9)]\n",
    "# group scores and corresponding average number of votes, reset index and print the result\n",
    "avg_votes = scores.groupby('imdb_score')['imdb_votes'].mean().reset_index()\n",
    "avg_votes\n",
    "                                            "
   ]
  },
  {
   "cell_type": "markdown",
   "id": "96a66d14",
   "metadata": {},
   "source": [
    "Now for the final step! Round the column with the averages, rename both columns, and print the dataframe in descending order."
   ]
  },
  {
   "cell_type": "code",
   "execution_count": 48,
   "id": "5999051b",
   "metadata": {},
   "outputs": [
    {
     "data": {
      "text/html": [
       "<div>\n",
       "<style scoped>\n",
       "    .dataframe tbody tr th:only-of-type {\n",
       "        vertical-align: middle;\n",
       "    }\n",
       "\n",
       "    .dataframe tbody tr th {\n",
       "        vertical-align: top;\n",
       "    }\n",
       "\n",
       "    .dataframe thead th {\n",
       "        text-align: right;\n",
       "    }\n",
       "</style>\n",
       "<table border=\"1\" class=\"dataframe\">\n",
       "  <thead>\n",
       "    <tr style=\"text-align: right;\">\n",
       "      <th></th>\n",
       "      <th>imdb_score</th>\n",
       "      <th>imdb_averages</th>\n",
       "    </tr>\n",
       "  </thead>\n",
       "  <tbody>\n",
       "    <tr>\n",
       "      <th>5</th>\n",
       "      <td>9.0</td>\n",
       "      <td>126904.0</td>\n",
       "    </tr>\n",
       "    <tr>\n",
       "      <th>4</th>\n",
       "      <td>8.0</td>\n",
       "      <td>30299.0</td>\n",
       "    </tr>\n",
       "    <tr>\n",
       "      <th>3</th>\n",
       "      <td>7.0</td>\n",
       "      <td>8727.0</td>\n",
       "    </tr>\n",
       "    <tr>\n",
       "      <th>0</th>\n",
       "      <td>4.0</td>\n",
       "      <td>5278.0</td>\n",
       "    </tr>\n",
       "    <tr>\n",
       "      <th>2</th>\n",
       "      <td>6.0</td>\n",
       "      <td>3482.0</td>\n",
       "    </tr>\n",
       "    <tr>\n",
       "      <th>1</th>\n",
       "      <td>5.0</td>\n",
       "      <td>3144.0</td>\n",
       "    </tr>\n",
       "  </tbody>\n",
       "</table>\n",
       "</div>"
      ],
      "text/plain": [
       "   imdb_score  imdb_averages\n",
       "5         9.0       126904.0\n",
       "4         8.0        30299.0\n",
       "3         7.0         8727.0\n",
       "0         4.0         5278.0\n",
       "2         6.0         3482.0\n",
       "1         5.0         3144.0"
      ]
     },
     "execution_count": 48,
     "metadata": {},
     "output_type": "execute_result"
    }
   ],
   "source": [
    "# round column with averages\n",
    "avg_votes['imdb_votes']= avg_votes['imdb_votes'].round(0)\n",
    "\n",
    "# rename columns\n",
    "avg_votes = avg_votes.rename(columns={'imdb_votes':'imdb_averages'})\n",
    "\n",
    "# print dataframe in descending order\n",
    "avg_votes.sort_values(by='imdb_averages', ascending=False)"
   ]
  },
  {
   "cell_type": "markdown",
   "id": "af07386d",
   "metadata": {},
   "source": [
    "The assumption macthes the analysis: the shows with the top 3 scores have the most amounts of votes."
   ]
  },
  {
   "cell_type": "markdown",
   "id": "84e29a37",
   "metadata": {},
   "source": [
    "## Conclusion <a id='hypotheses'></a>"
   ]
  },
  {
   "cell_type": "markdown",
   "id": "984766a3",
   "metadata": {},
   "source": [
    "The research done confirms that highly-rated shows released during the \"Golden Age\" of television also have the most votes. While shows with score 4 have more votes than ones with scores 5 and 6, the top three (scores 7-9) have the largest number. The data studied represents around 94% of the original set, so we can be confident in our findings."
   ]
  }
 ],
 "metadata": {
  "ExecuteTimeLog": [
   {
    "duration": 155,
    "start_time": "2024-12-02T19:21:14.515Z"
   },
   {
    "duration": 13,
    "start_time": "2024-12-02T19:21:31.771Z"
   },
   {
    "duration": 10,
    "start_time": "2024-12-02T19:23:53.282Z"
   },
   {
    "duration": 276,
    "start_time": "2024-12-02T19:27:35.799Z"
   },
   {
    "duration": 377,
    "start_time": "2024-12-02T19:27:39.678Z"
   },
   {
    "duration": 2,
    "start_time": "2024-12-02T19:28:55.576Z"
   },
   {
    "duration": 59,
    "start_time": "2024-12-02T19:32:52.657Z"
   },
   {
    "duration": 114,
    "start_time": "2024-12-02T19:33:15.379Z"
   },
   {
    "duration": 115,
    "start_time": "2024-12-02T19:33:18.591Z"
   },
   {
    "duration": 2,
    "start_time": "2024-12-02T19:33:24.408Z"
   },
   {
    "duration": 113,
    "start_time": "2024-12-02T19:33:36.605Z"
   },
   {
    "duration": 113,
    "start_time": "2024-12-02T19:33:46.734Z"
   },
   {
    "duration": 4,
    "start_time": "2024-12-02T19:35:02.147Z"
   },
   {
    "duration": 6,
    "start_time": "2024-12-02T19:54:43.019Z"
   },
   {
    "duration": 8,
    "start_time": "2024-12-02T19:55:07.884Z"
   },
   {
    "duration": 4,
    "start_time": "2024-12-02T19:55:15.087Z"
   },
   {
    "duration": 4,
    "start_time": "2024-12-02T19:56:45.744Z"
   },
   {
    "duration": 5,
    "start_time": "2024-12-02T19:59:24.685Z"
   },
   {
    "duration": 13,
    "start_time": "2024-12-02T20:00:07.863Z"
   },
   {
    "duration": 5,
    "start_time": "2024-12-02T20:01:21.794Z"
   },
   {
    "duration": 4,
    "start_time": "2024-12-02T20:01:43.260Z"
   },
   {
    "duration": 24,
    "start_time": "2024-12-02T20:04:20.067Z"
   },
   {
    "duration": 12,
    "start_time": "2024-12-02T20:05:06.905Z"
   },
   {
    "duration": 26,
    "start_time": "2024-12-02T20:05:11.072Z"
   },
   {
    "duration": 19,
    "start_time": "2024-12-02T20:05:26.671Z"
   },
   {
    "duration": 110,
    "start_time": "2024-12-02T20:10:04.941Z"
   },
   {
    "duration": 9,
    "start_time": "2024-12-02T20:10:09.485Z"
   },
   {
    "duration": 113,
    "start_time": "2024-12-02T20:11:06.751Z"
   },
   {
    "duration": 5,
    "start_time": "2024-12-02T20:11:11.388Z"
   },
   {
    "duration": 3,
    "start_time": "2024-12-02T20:26:00.603Z"
   },
   {
    "duration": 16,
    "start_time": "2024-12-02T20:26:11.660Z"
   },
   {
    "duration": 3,
    "start_time": "2024-12-02T20:26:17.003Z"
   },
   {
    "duration": 12,
    "start_time": "2024-12-02T20:28:10.534Z"
   },
   {
    "duration": 3,
    "start_time": "2024-12-02T20:28:25.485Z"
   },
   {
    "duration": 5,
    "start_time": "2024-12-02T20:30:15.437Z"
   },
   {
    "duration": 9,
    "start_time": "2024-12-02T20:30:21.795Z"
   },
   {
    "duration": 12,
    "start_time": "2024-12-02T20:31:28.154Z"
   },
   {
    "duration": 12,
    "start_time": "2024-12-02T20:31:39.709Z"
   },
   {
    "duration": 11,
    "start_time": "2024-12-02T20:34:02.074Z"
   },
   {
    "duration": 26,
    "start_time": "2024-12-02T20:34:50.288Z"
   },
   {
    "duration": 11,
    "start_time": "2024-12-02T20:35:02.391Z"
   },
   {
    "duration": 17,
    "start_time": "2024-12-02T20:35:54.489Z"
   },
   {
    "duration": 4,
    "start_time": "2024-12-02T20:36:01.386Z"
   },
   {
    "duration": 23,
    "start_time": "2024-12-02T20:36:13.357Z"
   },
   {
    "duration": 15,
    "start_time": "2024-12-02T20:38:50.776Z"
   },
   {
    "duration": 10,
    "start_time": "2024-12-02T20:39:51.634Z"
   },
   {
    "duration": 11,
    "start_time": "2024-12-02T20:40:24.725Z"
   },
   {
    "duration": 14,
    "start_time": "2024-12-02T20:40:38.083Z"
   },
   {
    "duration": 23,
    "start_time": "2024-12-02T20:40:46.733Z"
   },
   {
    "duration": 13,
    "start_time": "2024-12-02T20:41:38.584Z"
   },
   {
    "duration": 4,
    "start_time": "2024-12-02T20:41:55.942Z"
   },
   {
    "duration": 4,
    "start_time": "2024-12-02T20:42:05.981Z"
   },
   {
    "duration": 10,
    "start_time": "2024-12-02T20:42:13.186Z"
   },
   {
    "duration": 5,
    "start_time": "2024-12-02T20:43:29.094Z"
   },
   {
    "duration": 8,
    "start_time": "2024-12-02T20:43:36.853Z"
   },
   {
    "duration": 15,
    "start_time": "2024-12-02T20:43:50.488Z"
   },
   {
    "duration": 7,
    "start_time": "2024-12-02T20:44:50.713Z"
   },
   {
    "duration": 8,
    "start_time": "2024-12-02T20:44:54.523Z"
   },
   {
    "duration": 6,
    "start_time": "2024-12-02T20:44:57.356Z"
   },
   {
    "duration": 3,
    "start_time": "2024-12-02T20:45:03.803Z"
   },
   {
    "duration": 14,
    "start_time": "2024-12-02T20:45:11.283Z"
   },
   {
    "duration": 11,
    "start_time": "2024-12-02T20:53:07.013Z"
   },
   {
    "duration": 11,
    "start_time": "2024-12-02T20:53:14.376Z"
   },
   {
    "duration": 31,
    "start_time": "2024-12-02T20:53:43.895Z"
   },
   {
    "duration": 17,
    "start_time": "2024-12-02T20:54:01.976Z"
   },
   {
    "duration": 7,
    "start_time": "2024-12-02T20:54:13.127Z"
   },
   {
    "duration": 3,
    "start_time": "2024-12-02T20:54:46.829Z"
   },
   {
    "duration": 12,
    "start_time": "2024-12-02T20:55:40.598Z"
   },
   {
    "duration": 4,
    "start_time": "2024-12-02T20:55:54.861Z"
   },
   {
    "duration": 13,
    "start_time": "2024-12-02T20:57:28.442Z"
   },
   {
    "duration": 7,
    "start_time": "2024-12-02T20:57:38.064Z"
   },
   {
    "duration": 7,
    "start_time": "2024-12-02T20:57:47.513Z"
   },
   {
    "duration": 4,
    "start_time": "2024-12-02T20:58:13.551Z"
   },
   {
    "duration": 3,
    "start_time": "2024-12-02T20:58:48.235Z"
   },
   {
    "duration": 3,
    "start_time": "2024-12-02T20:59:12.645Z"
   },
   {
    "duration": 7,
    "start_time": "2024-12-02T20:59:21.912Z"
   },
   {
    "duration": 158,
    "start_time": "2024-12-02T23:34:59.911Z"
   },
   {
    "duration": 12,
    "start_time": "2024-12-02T23:36:10.881Z"
   },
   {
    "duration": 12,
    "start_time": "2024-12-02T23:39:24.264Z"
   },
   {
    "duration": 11,
    "start_time": "2024-12-02T23:40:11.144Z"
   },
   {
    "duration": 13,
    "start_time": "2024-12-02T23:42:22.621Z"
   },
   {
    "duration": 13,
    "start_time": "2024-12-02T23:42:28.651Z"
   },
   {
    "duration": 13,
    "start_time": "2024-12-02T23:42:34.214Z"
   },
   {
    "duration": 36,
    "start_time": "2024-12-02T23:43:53.824Z"
   },
   {
    "duration": 265,
    "start_time": "2024-12-02T23:44:01.498Z"
   },
   {
    "duration": 137,
    "start_time": "2024-12-02T23:44:03.754Z"
   },
   {
    "duration": 14,
    "start_time": "2024-12-02T23:44:05.463Z"
   },
   {
    "duration": 5,
    "start_time": "2024-12-02T23:44:09.505Z"
   },
   {
    "duration": 14,
    "start_time": "2024-12-02T23:44:15.511Z"
   },
   {
    "duration": 3,
    "start_time": "2024-12-02T23:44:58.264Z"
   },
   {
    "duration": 6,
    "start_time": "2024-12-02T23:45:18.644Z"
   },
   {
    "duration": 3,
    "start_time": "2024-12-02T23:47:16.520Z"
   },
   {
    "duration": 3,
    "start_time": "2024-12-02T23:49:23.500Z"
   },
   {
    "duration": 22,
    "start_time": "2024-12-02T23:50:02.489Z"
   },
   {
    "duration": 41,
    "start_time": "2024-12-02T23:50:40.399Z"
   },
   {
    "duration": 22,
    "start_time": "2024-12-02T23:50:45.569Z"
   },
   {
    "duration": 3,
    "start_time": "2024-12-02T23:51:46.172Z"
   },
   {
    "duration": 8,
    "start_time": "2024-12-03T00:04:18.476Z"
   },
   {
    "duration": 9,
    "start_time": "2024-12-03T00:04:23.221Z"
   },
   {
    "duration": 2,
    "start_time": "2024-12-03T00:04:29.294Z"
   },
   {
    "duration": 117,
    "start_time": "2024-12-03T00:04:30.964Z"
   },
   {
    "duration": 10,
    "start_time": "2024-12-03T00:04:32.411Z"
   },
   {
    "duration": 2,
    "start_time": "2024-12-03T00:04:45.768Z"
   },
   {
    "duration": 116,
    "start_time": "2024-12-03T00:04:45.773Z"
   },
   {
    "duration": 10,
    "start_time": "2024-12-03T00:04:45.891Z"
   },
   {
    "duration": 4,
    "start_time": "2024-12-03T00:04:45.903Z"
   },
   {
    "duration": 20,
    "start_time": "2024-12-03T00:04:45.911Z"
   },
   {
    "duration": 3,
    "start_time": "2024-12-03T00:04:45.933Z"
   },
   {
    "duration": 3,
    "start_time": "2024-12-03T00:04:45.937Z"
   },
   {
    "duration": 4,
    "start_time": "2024-12-03T00:04:45.941Z"
   },
   {
    "duration": 2,
    "start_time": "2024-12-03T00:04:45.946Z"
   },
   {
    "duration": 2,
    "start_time": "2024-12-03T00:04:45.950Z"
   },
   {
    "duration": 2,
    "start_time": "2024-12-03T00:04:45.956Z"
   },
   {
    "duration": 2,
    "start_time": "2024-12-03T00:04:45.960Z"
   },
   {
    "duration": 2,
    "start_time": "2024-12-03T00:04:45.964Z"
   },
   {
    "duration": 2,
    "start_time": "2024-12-03T00:04:45.968Z"
   },
   {
    "duration": 3,
    "start_time": "2024-12-03T00:04:45.971Z"
   },
   {
    "duration": 3,
    "start_time": "2024-12-03T00:04:45.976Z"
   },
   {
    "duration": 52,
    "start_time": "2024-12-03T00:04:45.981Z"
   },
   {
    "duration": 3,
    "start_time": "2024-12-03T00:04:46.035Z"
   },
   {
    "duration": 3,
    "start_time": "2024-12-03T00:04:46.039Z"
   },
   {
    "duration": 2,
    "start_time": "2024-12-03T00:04:46.044Z"
   },
   {
    "duration": 2,
    "start_time": "2024-12-03T00:04:46.048Z"
   },
   {
    "duration": 2,
    "start_time": "2024-12-03T00:04:46.053Z"
   },
   {
    "duration": 3,
    "start_time": "2024-12-03T00:04:46.056Z"
   },
   {
    "duration": 11,
    "start_time": "2024-12-03T00:05:46.710Z"
   },
   {
    "duration": 8,
    "start_time": "2024-12-03T00:05:56.964Z"
   },
   {
    "duration": 14,
    "start_time": "2024-12-03T00:06:53.097Z"
   },
   {
    "duration": 12,
    "start_time": "2024-12-03T00:07:01.134Z"
   },
   {
    "duration": 7,
    "start_time": "2024-12-03T00:07:11.190Z"
   },
   {
    "duration": 12,
    "start_time": "2024-12-03T00:12:35.817Z"
   },
   {
    "duration": 9,
    "start_time": "2024-12-03T00:13:36.761Z"
   },
   {
    "duration": 20,
    "start_time": "2024-12-03T00:19:51.559Z"
   },
   {
    "duration": 7,
    "start_time": "2024-12-03T00:21:01.427Z"
   },
   {
    "duration": 2,
    "start_time": "2024-12-03T00:21:15.829Z"
   },
   {
    "duration": 128,
    "start_time": "2024-12-03T00:21:15.833Z"
   },
   {
    "duration": 10,
    "start_time": "2024-12-03T00:21:15.963Z"
   },
   {
    "duration": 4,
    "start_time": "2024-12-03T00:21:15.975Z"
   },
   {
    "duration": 5,
    "start_time": "2024-12-03T00:21:15.983Z"
   },
   {
    "duration": 10,
    "start_time": "2024-12-03T00:21:15.989Z"
   },
   {
    "duration": 42,
    "start_time": "2024-12-03T00:21:16.001Z"
   },
   {
    "duration": 2,
    "start_time": "2024-12-03T00:21:16.045Z"
   },
   {
    "duration": 3,
    "start_time": "2024-12-03T00:21:16.049Z"
   },
   {
    "duration": 3,
    "start_time": "2024-12-03T00:21:16.053Z"
   },
   {
    "duration": 3,
    "start_time": "2024-12-03T00:21:16.057Z"
   },
   {
    "duration": 3,
    "start_time": "2024-12-03T00:21:16.061Z"
   },
   {
    "duration": 3,
    "start_time": "2024-12-03T00:21:16.065Z"
   },
   {
    "duration": 2,
    "start_time": "2024-12-03T00:21:16.071Z"
   },
   {
    "duration": 2,
    "start_time": "2024-12-03T00:21:16.075Z"
   },
   {
    "duration": 2,
    "start_time": "2024-12-03T00:21:16.079Z"
   },
   {
    "duration": 48,
    "start_time": "2024-12-03T00:21:16.083Z"
   },
   {
    "duration": 3,
    "start_time": "2024-12-03T00:21:16.133Z"
   },
   {
    "duration": 5,
    "start_time": "2024-12-03T00:21:16.138Z"
   },
   {
    "duration": 2,
    "start_time": "2024-12-03T00:21:16.145Z"
   },
   {
    "duration": 3,
    "start_time": "2024-12-03T00:21:16.148Z"
   },
   {
    "duration": 10,
    "start_time": "2024-12-03T00:21:16.153Z"
   },
   {
    "duration": 3,
    "start_time": "2024-12-03T00:21:16.164Z"
   },
   {
    "duration": 7,
    "start_time": "2024-12-03T00:21:55.189Z"
   },
   {
    "duration": 2,
    "start_time": "2024-12-03T00:22:08.555Z"
   },
   {
    "duration": 117,
    "start_time": "2024-12-03T00:22:08.564Z"
   },
   {
    "duration": 10,
    "start_time": "2024-12-03T00:22:08.683Z"
   },
   {
    "duration": 5,
    "start_time": "2024-12-03T00:22:08.694Z"
   },
   {
    "duration": 5,
    "start_time": "2024-12-03T00:22:08.700Z"
   },
   {
    "duration": 25,
    "start_time": "2024-12-03T00:22:08.708Z"
   },
   {
    "duration": 17,
    "start_time": "2024-12-03T00:22:08.735Z"
   },
   {
    "duration": 2,
    "start_time": "2024-12-03T00:22:08.754Z"
   },
   {
    "duration": 3,
    "start_time": "2024-12-03T00:22:08.758Z"
   },
   {
    "duration": 2,
    "start_time": "2024-12-03T00:22:08.764Z"
   },
   {
    "duration": 3,
    "start_time": "2024-12-03T00:22:08.767Z"
   },
   {
    "duration": 3,
    "start_time": "2024-12-03T00:22:08.771Z"
   },
   {
    "duration": 2,
    "start_time": "2024-12-03T00:22:08.776Z"
   },
   {
    "duration": 2,
    "start_time": "2024-12-03T00:22:08.780Z"
   },
   {
    "duration": 2,
    "start_time": "2024-12-03T00:22:08.784Z"
   },
   {
    "duration": 42,
    "start_time": "2024-12-03T00:22:08.788Z"
   },
   {
    "duration": 2,
    "start_time": "2024-12-03T00:22:08.832Z"
   },
   {
    "duration": 2,
    "start_time": "2024-12-03T00:22:08.836Z"
   },
   {
    "duration": 2,
    "start_time": "2024-12-03T00:22:08.840Z"
   },
   {
    "duration": 2,
    "start_time": "2024-12-03T00:22:08.844Z"
   },
   {
    "duration": 3,
    "start_time": "2024-12-03T00:22:08.847Z"
   },
   {
    "duration": 3,
    "start_time": "2024-12-03T00:22:08.852Z"
   },
   {
    "duration": 2,
    "start_time": "2024-12-03T00:22:08.856Z"
   },
   {
    "duration": 10,
    "start_time": "2024-12-03T00:22:20.954Z"
   },
   {
    "duration": 5,
    "start_time": "2024-12-03T00:22:35.542Z"
   },
   {
    "duration": 9,
    "start_time": "2024-12-03T00:22:37.747Z"
   },
   {
    "duration": 18,
    "start_time": "2024-12-03T00:23:27.893Z"
   },
   {
    "duration": 5,
    "start_time": "2024-12-03T00:24:04.835Z"
   },
   {
    "duration": 7,
    "start_time": "2024-12-03T00:24:14.186Z"
   },
   {
    "duration": 19,
    "start_time": "2024-12-03T00:24:19.878Z"
   },
   {
    "duration": 10,
    "start_time": "2024-12-03T00:24:25.279Z"
   },
   {
    "duration": 10,
    "start_time": "2024-12-03T00:24:31.458Z"
   },
   {
    "duration": 19,
    "start_time": "2024-12-03T00:24:35.890Z"
   },
   {
    "duration": 5,
    "start_time": "2024-12-03T00:24:52.414Z"
   },
   {
    "duration": 10,
    "start_time": "2024-12-03T00:24:54.550Z"
   },
   {
    "duration": 17,
    "start_time": "2024-12-03T00:24:59.298Z"
   },
   {
    "duration": 8,
    "start_time": "2024-12-03T00:25:10.540Z"
   },
   {
    "duration": 10,
    "start_time": "2024-12-03T00:25:11.795Z"
   },
   {
    "duration": 18,
    "start_time": "2024-12-03T00:25:14.740Z"
   },
   {
    "duration": 17,
    "start_time": "2024-12-03T00:31:00.582Z"
   },
   {
    "duration": 19,
    "start_time": "2024-12-03T00:31:07.933Z"
   },
   {
    "duration": 2,
    "start_time": "2024-12-03T00:31:50.552Z"
   },
   {
    "duration": 122,
    "start_time": "2024-12-03T00:31:51.869Z"
   },
   {
    "duration": 10,
    "start_time": "2024-12-03T00:31:53.414Z"
   },
   {
    "duration": 5,
    "start_time": "2024-12-03T00:31:57.120Z"
   },
   {
    "duration": 5,
    "start_time": "2024-12-03T00:32:03.474Z"
   },
   {
    "duration": 10,
    "start_time": "2024-12-03T00:32:04.930Z"
   },
   {
    "duration": 19,
    "start_time": "2024-12-03T00:32:08.117Z"
   },
   {
    "duration": 455,
    "start_time": "2024-12-03T00:38:34.848Z"
   },
   {
    "duration": 71,
    "start_time": "2024-12-03T00:38:53.390Z"
   },
   {
    "duration": 32,
    "start_time": "2024-12-03T00:39:23.035Z"
   },
   {
    "duration": 5,
    "start_time": "2024-12-03T00:41:48.251Z"
   },
   {
    "duration": 30,
    "start_time": "2024-12-03T00:41:51.801Z"
   },
   {
    "duration": 65,
    "start_time": "2024-12-03T00:42:09.745Z"
   },
   {
    "duration": 29,
    "start_time": "2024-12-03T00:42:26.760Z"
   },
   {
    "duration": 2,
    "start_time": "2024-12-03T00:42:36.323Z"
   },
   {
    "duration": 12,
    "start_time": "2024-12-03T00:47:38.538Z"
   },
   {
    "duration": 16,
    "start_time": "2024-12-03T00:47:45.244Z"
   },
   {
    "duration": 19,
    "start_time": "2024-12-03T00:48:27.623Z"
   },
   {
    "duration": 13,
    "start_time": "2024-12-03T00:48:49.577Z"
   },
   {
    "duration": 9,
    "start_time": "2024-12-03T00:49:29.621Z"
   },
   {
    "duration": 18,
    "start_time": "2024-12-03T00:50:11.645Z"
   },
   {
    "duration": 14,
    "start_time": "2024-12-03T00:50:15.635Z"
   },
   {
    "duration": 2,
    "start_time": "2024-12-03T00:54:13.968Z"
   },
   {
    "duration": 26,
    "start_time": "2024-12-03T00:55:09.634Z"
   },
   {
    "duration": 13,
    "start_time": "2024-12-03T00:55:22.662Z"
   },
   {
    "duration": 3,
    "start_time": "2024-12-03T00:55:35.968Z"
   },
   {
    "duration": 21,
    "start_time": "2024-12-03T00:58:23.508Z"
   },
   {
    "duration": 5,
    "start_time": "2024-12-03T00:58:28.743Z"
   },
   {
    "duration": 17,
    "start_time": "2024-12-03T00:58:35.362Z"
   },
   {
    "duration": 29,
    "start_time": "2024-12-03T01:04:31.641Z"
   },
   {
    "duration": 22,
    "start_time": "2024-12-03T01:04:47.348Z"
   },
   {
    "duration": 19,
    "start_time": "2024-12-03T01:04:55.351Z"
   },
   {
    "duration": 18,
    "start_time": "2024-12-03T01:06:06.734Z"
   },
   {
    "duration": 3,
    "start_time": "2024-12-03T01:06:14.077Z"
   },
   {
    "duration": 13,
    "start_time": "2024-12-03T01:27:01.463Z"
   },
   {
    "duration": 12,
    "start_time": "2024-12-03T01:27:08.591Z"
   },
   {
    "duration": 14,
    "start_time": "2024-12-03T01:27:45.702Z"
   },
   {
    "duration": 3,
    "start_time": "2024-12-03T01:27:51.524Z"
   },
   {
    "duration": 13,
    "start_time": "2024-12-03T01:27:58.181Z"
   },
   {
    "duration": 15,
    "start_time": "2024-12-03T01:28:26.440Z"
   },
   {
    "duration": 12,
    "start_time": "2024-12-03T01:35:58.665Z"
   },
   {
    "duration": 12,
    "start_time": "2024-12-03T01:36:06.039Z"
   },
   {
    "duration": 13,
    "start_time": "2024-12-03T01:37:03.847Z"
   },
   {
    "duration": 2,
    "start_time": "2024-12-03T01:37:18.581Z"
   },
   {
    "duration": 124,
    "start_time": "2024-12-03T01:37:18.586Z"
   },
   {
    "duration": 11,
    "start_time": "2024-12-03T01:37:18.711Z"
   },
   {
    "duration": 9,
    "start_time": "2024-12-03T01:37:18.724Z"
   },
   {
    "duration": 6,
    "start_time": "2024-12-03T01:37:18.735Z"
   },
   {
    "duration": 13,
    "start_time": "2024-12-03T01:37:18.742Z"
   },
   {
    "duration": 19,
    "start_time": "2024-12-03T01:37:18.757Z"
   },
   {
    "duration": 17,
    "start_time": "2024-12-03T01:37:18.778Z"
   },
   {
    "duration": 51,
    "start_time": "2024-12-03T01:37:18.798Z"
   },
   {
    "duration": 5,
    "start_time": "2024-12-03T01:37:18.851Z"
   },
   {
    "duration": 2,
    "start_time": "2024-12-03T01:37:18.858Z"
   },
   {
    "duration": 2,
    "start_time": "2024-12-03T01:37:18.862Z"
   },
   {
    "duration": 2,
    "start_time": "2024-12-03T01:37:18.865Z"
   },
   {
    "duration": 2,
    "start_time": "2024-12-03T01:37:18.869Z"
   },
   {
    "duration": 2,
    "start_time": "2024-12-03T01:37:18.873Z"
   },
   {
    "duration": 2,
    "start_time": "2024-12-03T01:37:18.877Z"
   },
   {
    "duration": 3,
    "start_time": "2024-12-03T01:37:18.881Z"
   },
   {
    "duration": 2,
    "start_time": "2024-12-03T01:37:18.886Z"
   },
   {
    "duration": 43,
    "start_time": "2024-12-03T01:37:18.889Z"
   },
   {
    "duration": 3,
    "start_time": "2024-12-03T01:37:18.934Z"
   },
   {
    "duration": 3,
    "start_time": "2024-12-03T01:37:18.939Z"
   },
   {
    "duration": 5,
    "start_time": "2024-12-03T01:37:18.945Z"
   },
   {
    "duration": 3,
    "start_time": "2024-12-03T01:37:18.951Z"
   },
   {
    "duration": 4,
    "start_time": "2024-12-03T01:37:34.537Z"
   },
   {
    "duration": 4,
    "start_time": "2024-12-03T01:37:50.649Z"
   },
   {
    "duration": 18,
    "start_time": "2024-12-03T01:54:00.069Z"
   },
   {
    "duration": 3,
    "start_time": "2024-12-03T01:54:17.547Z"
   },
   {
    "duration": 13,
    "start_time": "2024-12-03T02:03:01.281Z"
   },
   {
    "duration": 13,
    "start_time": "2024-12-03T02:04:23.403Z"
   },
   {
    "duration": 18,
    "start_time": "2024-12-03T02:04:41.631Z"
   },
   {
    "duration": 13,
    "start_time": "2024-12-03T02:07:18.844Z"
   },
   {
    "duration": 12,
    "start_time": "2024-12-03T02:09:37.618Z"
   },
   {
    "duration": 12,
    "start_time": "2024-12-03T02:13:27.954Z"
   },
   {
    "duration": 11,
    "start_time": "2024-12-03T02:13:57.111Z"
   },
   {
    "duration": 13,
    "start_time": "2024-12-03T02:14:30.489Z"
   },
   {
    "duration": 13,
    "start_time": "2024-12-03T02:15:05.328Z"
   },
   {
    "duration": 13,
    "start_time": "2024-12-03T02:15:17.528Z"
   },
   {
    "duration": 13,
    "start_time": "2024-12-03T02:15:43.136Z"
   },
   {
    "duration": 12,
    "start_time": "2024-12-03T02:16:12.427Z"
   },
   {
    "duration": 15,
    "start_time": "2024-12-03T02:16:29.159Z"
   },
   {
    "duration": 120,
    "start_time": "2024-12-03T02:18:45.582Z"
   },
   {
    "duration": 5,
    "start_time": "2024-12-03T02:19:08.824Z"
   },
   {
    "duration": 11,
    "start_time": "2024-12-03T02:19:11.525Z"
   },
   {
    "duration": 2,
    "start_time": "2024-12-03T02:19:16.039Z"
   },
   {
    "duration": 133,
    "start_time": "2024-12-03T02:19:16.043Z"
   },
   {
    "duration": 10,
    "start_time": "2024-12-03T02:19:16.178Z"
   },
   {
    "duration": 6,
    "start_time": "2024-12-03T02:19:16.189Z"
   },
   {
    "duration": 7,
    "start_time": "2024-12-03T02:19:16.197Z"
   },
   {
    "duration": 26,
    "start_time": "2024-12-03T02:19:16.206Z"
   },
   {
    "duration": 18,
    "start_time": "2024-12-03T02:19:16.233Z"
   },
   {
    "duration": 16,
    "start_time": "2024-12-03T02:19:16.253Z"
   },
   {
    "duration": 19,
    "start_time": "2024-12-03T02:19:16.271Z"
   },
   {
    "duration": 4,
    "start_time": "2024-12-03T02:19:16.292Z"
   },
   {
    "duration": 126,
    "start_time": "2024-12-03T02:19:16.332Z"
   },
   {
    "duration": 2,
    "start_time": "2024-12-03T02:19:16.460Z"
   },
   {
    "duration": 2,
    "start_time": "2024-12-03T02:19:16.464Z"
   },
   {
    "duration": 2,
    "start_time": "2024-12-03T02:19:16.468Z"
   },
   {
    "duration": 2,
    "start_time": "2024-12-03T02:19:16.472Z"
   },
   {
    "duration": 2,
    "start_time": "2024-12-03T02:19:16.476Z"
   },
   {
    "duration": 2,
    "start_time": "2024-12-03T02:19:16.480Z"
   },
   {
    "duration": 2,
    "start_time": "2024-12-03T02:19:16.484Z"
   },
   {
    "duration": 2,
    "start_time": "2024-12-03T02:19:16.488Z"
   },
   {
    "duration": 3,
    "start_time": "2024-12-03T02:19:16.492Z"
   },
   {
    "duration": 38,
    "start_time": "2024-12-03T02:19:16.496Z"
   },
   {
    "duration": 3,
    "start_time": "2024-12-03T02:19:16.536Z"
   },
   {
    "duration": 2,
    "start_time": "2024-12-03T02:19:16.541Z"
   },
   {
    "duration": 127,
    "start_time": "2024-12-03T02:21:07.343Z"
   },
   {
    "duration": 119,
    "start_time": "2024-12-03T02:21:12.476Z"
   },
   {
    "duration": 111,
    "start_time": "2024-12-03T02:21:48.346Z"
   },
   {
    "duration": 10,
    "start_time": "2024-12-03T02:21:51.610Z"
   },
   {
    "duration": 126,
    "start_time": "2024-12-03T02:22:04.065Z"
   },
   {
    "duration": 125,
    "start_time": "2024-12-03T02:22:18.711Z"
   },
   {
    "duration": 125,
    "start_time": "2024-12-03T02:22:31.892Z"
   },
   {
    "duration": 10,
    "start_time": "2024-12-03T02:22:33.078Z"
   },
   {
    "duration": 4,
    "start_time": "2024-12-03T02:22:37.536Z"
   },
   {
    "duration": 118,
    "start_time": "2024-12-03T02:22:43.267Z"
   },
   {
    "duration": 121,
    "start_time": "2024-12-03T02:22:48.424Z"
   },
   {
    "duration": 7,
    "start_time": "2024-12-03T02:23:00.066Z"
   },
   {
    "duration": 119,
    "start_time": "2024-12-03T02:23:02.409Z"
   },
   {
    "duration": 10,
    "start_time": "2024-12-03T02:23:13.214Z"
   },
   {
    "duration": 6,
    "start_time": "2024-12-03T02:23:18.229Z"
   },
   {
    "duration": 10,
    "start_time": "2024-12-03T02:23:37.351Z"
   },
   {
    "duration": 19,
    "start_time": "2024-12-03T02:23:51.566Z"
   },
   {
    "duration": 123,
    "start_time": "2024-12-03T02:24:51.803Z"
   },
   {
    "duration": 18,
    "start_time": "2024-12-03T02:25:41.876Z"
   },
   {
    "duration": 3,
    "start_time": "2024-12-03T02:25:48.017Z"
   },
   {
    "duration": 117,
    "start_time": "2024-12-03T02:26:02.451Z"
   },
   {
    "duration": 3,
    "start_time": "2024-12-03T02:28:13.760Z"
   },
   {
    "duration": 3,
    "start_time": "2024-12-03T02:28:17.652Z"
   },
   {
    "duration": 3,
    "start_time": "2024-12-03T02:28:30.232Z"
   },
   {
    "duration": 6,
    "start_time": "2024-12-03T02:28:54.809Z"
   },
   {
    "duration": 5,
    "start_time": "2024-12-03T02:29:46.621Z"
   },
   {
    "duration": 7,
    "start_time": "2024-12-03T02:29:57.543Z"
   },
   {
    "duration": 6,
    "start_time": "2024-12-03T02:32:22.399Z"
   },
   {
    "duration": 6,
    "start_time": "2024-12-03T02:33:46.245Z"
   },
   {
    "duration": 7,
    "start_time": "2024-12-03T02:35:20.876Z"
   },
   {
    "duration": 17,
    "start_time": "2024-12-03T02:40:19.360Z"
   },
   {
    "duration": 15,
    "start_time": "2024-12-03T02:41:20.255Z"
   },
   {
    "duration": 3,
    "start_time": "2024-12-03T02:45:39.321Z"
   },
   {
    "duration": 110,
    "start_time": "2024-12-03T02:46:06.904Z"
   },
   {
    "duration": 9,
    "start_time": "2024-12-03T02:46:16.023Z"
   },
   {
    "duration": 6,
    "start_time": "2024-12-03T02:46:20.457Z"
   },
   {
    "duration": 298,
    "start_time": "2024-12-03T02:47:20.479Z"
   },
   {
    "duration": 117,
    "start_time": "2024-12-03T02:47:22.802Z"
   },
   {
    "duration": 13,
    "start_time": "2024-12-03T02:47:23.830Z"
   },
   {
    "duration": 4,
    "start_time": "2024-12-03T02:47:25.879Z"
   },
   {
    "duration": 6,
    "start_time": "2024-12-03T02:47:29.321Z"
   },
   {
    "duration": 9,
    "start_time": "2024-12-03T02:47:32.405Z"
   },
   {
    "duration": 19,
    "start_time": "2024-12-03T02:47:37.853Z"
   },
   {
    "duration": 15,
    "start_time": "2024-12-03T02:47:40.285Z"
   },
   {
    "duration": 18,
    "start_time": "2024-12-03T02:47:42.917Z"
   },
   {
    "duration": 4,
    "start_time": "2024-12-03T02:47:45.857Z"
   },
   {
    "duration": 4,
    "start_time": "2024-12-03T02:47:59.510Z"
   },
   {
    "duration": 306,
    "start_time": "2024-12-04T01:10:19.385Z"
   },
   {
    "duration": 140,
    "start_time": "2024-12-04T01:10:19.693Z"
   },
   {
    "duration": 13,
    "start_time": "2024-12-04T01:10:19.835Z"
   },
   {
    "duration": 5,
    "start_time": "2024-12-04T01:10:19.851Z"
   },
   {
    "duration": 6,
    "start_time": "2024-12-04T01:10:19.857Z"
   },
   {
    "duration": 10,
    "start_time": "2024-12-04T01:10:19.865Z"
   },
   {
    "duration": 18,
    "start_time": "2024-12-04T01:10:19.877Z"
   },
   {
    "duration": 16,
    "start_time": "2024-12-04T01:10:19.925Z"
   },
   {
    "duration": 18,
    "start_time": "2024-12-04T01:10:19.943Z"
   },
   {
    "duration": 3,
    "start_time": "2024-12-04T01:10:19.965Z"
   },
   {
    "duration": 2,
    "start_time": "2024-12-04T01:10:19.970Z"
   },
   {
    "duration": 3,
    "start_time": "2024-12-04T01:10:19.974Z"
   },
   {
    "duration": 3,
    "start_time": "2024-12-04T01:10:19.978Z"
   },
   {
    "duration": 41,
    "start_time": "2024-12-04T01:10:19.983Z"
   },
   {
    "duration": 2,
    "start_time": "2024-12-04T01:10:20.026Z"
   },
   {
    "duration": 3,
    "start_time": "2024-12-04T01:10:20.029Z"
   },
   {
    "duration": 3,
    "start_time": "2024-12-04T01:10:20.034Z"
   },
   {
    "duration": 3,
    "start_time": "2024-12-04T01:10:20.038Z"
   },
   {
    "duration": 3,
    "start_time": "2024-12-04T01:10:20.042Z"
   },
   {
    "duration": 3,
    "start_time": "2024-12-04T01:10:20.047Z"
   },
   {
    "duration": 3,
    "start_time": "2024-12-04T01:10:20.051Z"
   },
   {
    "duration": 2,
    "start_time": "2024-12-04T01:10:20.056Z"
   },
   {
    "duration": 90,
    "start_time": "2024-12-04T01:12:41.738Z"
   },
   {
    "duration": 12,
    "start_time": "2024-12-04T01:13:03.234Z"
   },
   {
    "duration": 11,
    "start_time": "2024-12-04T01:13:12.433Z"
   },
   {
    "duration": 104,
    "start_time": "2024-12-04T01:13:27.101Z"
   },
   {
    "duration": 3,
    "start_time": "2024-12-04T01:13:34.125Z"
   },
   {
    "duration": 127,
    "start_time": "2024-12-04T01:13:35.744Z"
   },
   {
    "duration": 10,
    "start_time": "2024-12-04T01:13:37.491Z"
   },
   {
    "duration": 5,
    "start_time": "2024-12-04T01:13:38.653Z"
   },
   {
    "duration": 8,
    "start_time": "2024-12-04T01:13:42.999Z"
   },
   {
    "duration": 9,
    "start_time": "2024-12-04T01:13:46.458Z"
   },
   {
    "duration": 10,
    "start_time": "2024-12-04T01:13:56.139Z"
   },
   {
    "duration": 18,
    "start_time": "2024-12-04T01:14:05.318Z"
   },
   {
    "duration": 15,
    "start_time": "2024-12-04T01:14:09.510Z"
   },
   {
    "duration": 18,
    "start_time": "2024-12-04T01:14:15.226Z"
   },
   {
    "duration": 3,
    "start_time": "2024-12-04T01:14:28.571Z"
   },
   {
    "duration": 12,
    "start_time": "2024-12-04T01:14:31.866Z"
   },
   {
    "duration": 12,
    "start_time": "2024-12-04T01:14:35.039Z"
   },
   {
    "duration": 13,
    "start_time": "2024-12-04T01:14:40.880Z"
   },
   {
    "duration": 13,
    "start_time": "2024-12-04T01:15:28.618Z"
   },
   {
    "duration": 5,
    "start_time": "2024-12-04T01:15:41.728Z"
   },
   {
    "duration": 12,
    "start_time": "2024-12-04T01:15:48.365Z"
   },
   {
    "duration": 14,
    "start_time": "2024-12-04T01:18:57.971Z"
   },
   {
    "duration": 160,
    "start_time": "2024-12-04T01:21:48.997Z"
   },
   {
    "duration": 162,
    "start_time": "2024-12-04T01:22:01.511Z"
   },
   {
    "duration": 122,
    "start_time": "2024-12-04T01:24:23.389Z"
   },
   {
    "duration": 124,
    "start_time": "2024-12-04T01:25:46.022Z"
   },
   {
    "duration": 124,
    "start_time": "2024-12-04T01:26:32.308Z"
   },
   {
    "duration": 128,
    "start_time": "2024-12-04T01:26:52.883Z"
   },
   {
    "duration": 125,
    "start_time": "2024-12-04T01:26:56.647Z"
   },
   {
    "duration": 122,
    "start_time": "2024-12-04T01:27:04.048Z"
   },
   {
    "duration": 156,
    "start_time": "2024-12-04T01:28:10.407Z"
   },
   {
    "duration": 164,
    "start_time": "2024-12-04T01:28:15.757Z"
   },
   {
    "duration": 153,
    "start_time": "2024-12-04T01:28:32.209Z"
   },
   {
    "duration": 153,
    "start_time": "2024-12-04T01:28:36.428Z"
   },
   {
    "duration": 153,
    "start_time": "2024-12-04T01:28:42.010Z"
   },
   {
    "duration": 3,
    "start_time": "2024-12-04T01:33:07.144Z"
   },
   {
    "duration": 3,
    "start_time": "2024-12-04T01:33:17.851Z"
   },
   {
    "duration": 4,
    "start_time": "2024-12-04T01:33:34.026Z"
   },
   {
    "duration": 3,
    "start_time": "2024-12-04T01:34:22.209Z"
   },
   {
    "duration": 523,
    "start_time": "2024-12-04T01:34:47.916Z"
   },
   {
    "duration": 149,
    "start_time": "2024-12-04T01:35:08.773Z"
   },
   {
    "duration": 167,
    "start_time": "2024-12-04T01:35:32.522Z"
   },
   {
    "duration": 114,
    "start_time": "2024-12-04T01:35:44.717Z"
   },
   {
    "duration": 118,
    "start_time": "2024-12-04T01:35:48.905Z"
   },
   {
    "duration": 115,
    "start_time": "2024-12-04T01:35:53.071Z"
   },
   {
    "duration": 482,
    "start_time": "2024-12-04T01:42:47.686Z"
   },
   {
    "duration": 119,
    "start_time": "2024-12-04T01:42:59.487Z"
   },
   {
    "duration": 178,
    "start_time": "2024-12-04T01:45:45.994Z"
   },
   {
    "duration": 168,
    "start_time": "2024-12-04T01:46:27.414Z"
   },
   {
    "duration": 13,
    "start_time": "2024-12-04T01:47:23.844Z"
   },
   {
    "duration": 12,
    "start_time": "2024-12-04T01:47:27.788Z"
   },
   {
    "duration": 13,
    "start_time": "2024-12-04T01:47:33.507Z"
   },
   {
    "duration": 12,
    "start_time": "2024-12-04T01:47:41.593Z"
   },
   {
    "duration": 115,
    "start_time": "2024-12-04T01:47:45.971Z"
   },
   {
    "duration": 10,
    "start_time": "2024-12-04T01:47:47.155Z"
   },
   {
    "duration": 4,
    "start_time": "2024-12-04T01:47:52.687Z"
   },
   {
    "duration": 5,
    "start_time": "2024-12-04T01:48:01.627Z"
   },
   {
    "duration": 10,
    "start_time": "2024-12-04T01:48:04.543Z"
   },
   {
    "duration": 20,
    "start_time": "2024-12-04T01:48:08.082Z"
   },
   {
    "duration": 14,
    "start_time": "2024-12-04T01:48:13.993Z"
   },
   {
    "duration": 20,
    "start_time": "2024-12-04T01:48:20.716Z"
   },
   {
    "duration": 3,
    "start_time": "2024-12-04T01:48:26.137Z"
   },
   {
    "duration": 156,
    "start_time": "2024-12-04T01:57:28.075Z"
   },
   {
    "duration": 40,
    "start_time": "2024-12-04T01:57:37.883Z"
   },
   {
    "duration": 37,
    "start_time": "2024-12-04T01:58:14.603Z"
   },
   {
    "duration": 41,
    "start_time": "2024-12-04T01:58:20.341Z"
   },
   {
    "duration": 54,
    "start_time": "2024-12-04T02:18:39.229Z"
   },
   {
    "duration": 42,
    "start_time": "2024-12-04T02:20:34.950Z"
   },
   {
    "duration": 40,
    "start_time": "2024-12-04T02:22:30.561Z"
   },
   {
    "duration": 4,
    "start_time": "2024-12-04T02:22:53.873Z"
   },
   {
    "duration": 39,
    "start_time": "2024-12-04T02:23:00.924Z"
   },
   {
    "duration": 53,
    "start_time": "2024-12-04T02:24:24.841Z"
   },
   {
    "duration": 44,
    "start_time": "2024-12-04T02:24:28.957Z"
   },
   {
    "duration": 45,
    "start_time": "2024-12-04T02:24:44.975Z"
   },
   {
    "duration": 51,
    "start_time": "2024-12-04T02:26:09.938Z"
   },
   {
    "duration": 10,
    "start_time": "2024-12-04T02:33:58.050Z"
   },
   {
    "duration": 18,
    "start_time": "2024-12-04T02:35:16.357Z"
   },
   {
    "duration": 119,
    "start_time": "2024-12-04T02:35:35.259Z"
   },
   {
    "duration": 127,
    "start_time": "2024-12-04T02:35:38.953Z"
   },
   {
    "duration": 119,
    "start_time": "2024-12-04T02:35:41.511Z"
   },
   {
    "duration": 117,
    "start_time": "2024-12-04T02:35:47.255Z"
   },
   {
    "duration": 13,
    "start_time": "2024-12-04T02:36:04.656Z"
   },
   {
    "duration": 19,
    "start_time": "2024-12-04T02:36:09.719Z"
   },
   {
    "duration": 3,
    "start_time": "2024-12-04T02:36:15.168Z"
   },
   {
    "duration": 13,
    "start_time": "2024-12-04T02:36:21.523Z"
   },
   {
    "duration": 13,
    "start_time": "2024-12-04T02:36:28.743Z"
   },
   {
    "duration": 12,
    "start_time": "2024-12-04T02:36:33.299Z"
   },
   {
    "duration": 156,
    "start_time": "2024-12-04T02:37:53.288Z"
   },
   {
    "duration": 12,
    "start_time": "2024-12-04T02:38:00.325Z"
   },
   {
    "duration": 3,
    "start_time": "2024-12-04T02:40:00.460Z"
   },
   {
    "duration": 4,
    "start_time": "2024-12-04T02:40:03.810Z"
   },
   {
    "duration": 157,
    "start_time": "2024-12-04T02:40:16.238Z"
   },
   {
    "duration": 170,
    "start_time": "2024-12-04T02:40:54.732Z"
   },
   {
    "duration": 163,
    "start_time": "2024-12-04T02:41:03.024Z"
   },
   {
    "duration": 204,
    "start_time": "2024-12-04T02:44:30.553Z"
   },
   {
    "duration": 171,
    "start_time": "2024-12-04T02:44:34.356Z"
   },
   {
    "duration": 177,
    "start_time": "2024-12-04T02:44:37.376Z"
   },
   {
    "duration": 155,
    "start_time": "2024-12-04T02:44:50.376Z"
   },
   {
    "duration": 159,
    "start_time": "2024-12-04T02:46:42.719Z"
   },
   {
    "duration": 151,
    "start_time": "2024-12-04T02:49:39.952Z"
   },
   {
    "duration": 22,
    "start_time": "2024-12-04T03:01:47.321Z"
   },
   {
    "duration": 2,
    "start_time": "2024-12-04T03:05:22.201Z"
   },
   {
    "duration": 120,
    "start_time": "2024-12-04T03:05:22.205Z"
   },
   {
    "duration": 10,
    "start_time": "2024-12-04T03:05:22.328Z"
   },
   {
    "duration": 23,
    "start_time": "2024-12-04T03:05:22.341Z"
   },
   {
    "duration": 129,
    "start_time": "2024-12-04T03:05:22.367Z"
   },
   {
    "duration": 10,
    "start_time": "2024-12-04T03:05:22.499Z"
   },
   {
    "duration": 23,
    "start_time": "2024-12-04T03:05:22.511Z"
   },
   {
    "duration": 14,
    "start_time": "2024-12-04T03:05:25.141Z"
   },
   {
    "duration": 10,
    "start_time": "2024-12-04T03:05:39.405Z"
   },
   {
    "duration": 22,
    "start_time": "2024-12-04T03:05:50.587Z"
   },
   {
    "duration": 7,
    "start_time": "2024-12-04T03:06:26.533Z"
   },
   {
    "duration": 24,
    "start_time": "2024-12-04T03:06:30.130Z"
   },
   {
    "duration": 2,
    "start_time": "2024-12-04T03:07:15.313Z"
   },
   {
    "duration": 127,
    "start_time": "2024-12-04T03:07:15.318Z"
   },
   {
    "duration": 10,
    "start_time": "2024-12-04T03:07:15.448Z"
   },
   {
    "duration": 22,
    "start_time": "2024-12-04T03:07:15.459Z"
   },
   {
    "duration": 132,
    "start_time": "2024-12-04T03:07:15.483Z"
   },
   {
    "duration": 10,
    "start_time": "2024-12-04T03:07:15.617Z"
   },
   {
    "duration": 19,
    "start_time": "2024-12-04T03:07:15.629Z"
   },
   {
    "duration": 6,
    "start_time": "2024-12-04T03:07:18.634Z"
   },
   {
    "duration": 22,
    "start_time": "2024-12-04T03:07:20.942Z"
   },
   {
    "duration": 2,
    "start_time": "2024-12-04T03:07:33.192Z"
   },
   {
    "duration": 117,
    "start_time": "2024-12-04T03:07:33.199Z"
   },
   {
    "duration": 14,
    "start_time": "2024-12-04T03:07:33.323Z"
   },
   {
    "duration": 24,
    "start_time": "2024-12-04T03:07:33.339Z"
   },
   {
    "duration": 130,
    "start_time": "2024-12-04T03:07:33.365Z"
   },
   {
    "duration": 12,
    "start_time": "2024-12-04T03:07:33.497Z"
   },
   {
    "duration": 26,
    "start_time": "2024-12-04T03:07:33.511Z"
   },
   {
    "duration": 6,
    "start_time": "2024-12-04T03:07:36.260Z"
   },
   {
    "duration": 21,
    "start_time": "2024-12-04T03:07:38.459Z"
   },
   {
    "duration": 3,
    "start_time": "2024-12-04T03:08:59.135Z"
   },
   {
    "duration": 118,
    "start_time": "2024-12-04T03:08:59.140Z"
   },
   {
    "duration": 10,
    "start_time": "2024-12-04T03:08:59.261Z"
   },
   {
    "duration": 22,
    "start_time": "2024-12-04T03:08:59.273Z"
   },
   {
    "duration": 133,
    "start_time": "2024-12-04T03:08:59.298Z"
   },
   {
    "duration": 10,
    "start_time": "2024-12-04T03:08:59.433Z"
   },
   {
    "duration": 18,
    "start_time": "2024-12-04T03:08:59.445Z"
   },
   {
    "duration": 13,
    "start_time": "2024-12-04T03:09:01.816Z"
   },
   {
    "duration": 2,
    "start_time": "2024-12-04T03:10:26.069Z"
   },
   {
    "duration": 112,
    "start_time": "2024-12-04T03:10:26.076Z"
   },
   {
    "duration": 11,
    "start_time": "2024-12-04T03:10:26.190Z"
   },
   {
    "duration": 34,
    "start_time": "2024-12-04T03:10:26.203Z"
   },
   {
    "duration": 122,
    "start_time": "2024-12-04T03:10:26.238Z"
   },
   {
    "duration": 10,
    "start_time": "2024-12-04T03:10:26.362Z"
   },
   {
    "duration": 17,
    "start_time": "2024-12-04T03:10:26.374Z"
   },
   {
    "duration": 15,
    "start_time": "2024-12-04T03:10:28.957Z"
   },
   {
    "duration": 22,
    "start_time": "2024-12-04T03:10:32.000Z"
   },
   {
    "duration": 18,
    "start_time": "2024-12-04T03:17:28.342Z"
   },
   {
    "duration": 40,
    "start_time": "2024-12-04T03:18:08.505Z"
   },
   {
    "duration": 53,
    "start_time": "2024-12-04T03:18:33.487Z"
   },
   {
    "duration": 50,
    "start_time": "2024-12-04T03:21:57.578Z"
   },
   {
    "duration": 43,
    "start_time": "2024-12-04T03:25:15.533Z"
   },
   {
    "duration": 39,
    "start_time": "2024-12-04T03:25:18.713Z"
   },
   {
    "duration": 40,
    "start_time": "2024-12-04T03:25:24.164Z"
   },
   {
    "duration": 21,
    "start_time": "2024-12-04T03:27:51.437Z"
   },
   {
    "duration": 12,
    "start_time": "2024-12-04T03:28:49.998Z"
   },
   {
    "duration": 14,
    "start_time": "2024-12-04T03:31:49.623Z"
   },
   {
    "duration": 13,
    "start_time": "2024-12-04T03:32:59.448Z"
   },
   {
    "duration": 12,
    "start_time": "2024-12-04T03:33:52.110Z"
   },
   {
    "duration": 5,
    "start_time": "2024-12-04T03:38:48.107Z"
   },
   {
    "duration": 4,
    "start_time": "2024-12-04T03:39:06.855Z"
   },
   {
    "duration": 3,
    "start_time": "2024-12-04T03:39:16.697Z"
   },
   {
    "duration": 44,
    "start_time": "2024-12-04T03:41:37.128Z"
   },
   {
    "duration": 43,
    "start_time": "2024-12-04T03:42:26.157Z"
   },
   {
    "duration": 38,
    "start_time": "2024-12-04T03:43:28.032Z"
   },
   {
    "duration": 42,
    "start_time": "2024-12-04T03:43:50.023Z"
   },
   {
    "duration": 5,
    "start_time": "2024-12-04T03:46:23.528Z"
   },
   {
    "duration": 3,
    "start_time": "2024-12-04T03:46:38.960Z"
   },
   {
    "duration": 47,
    "start_time": "2024-12-04T03:49:57.715Z"
   },
   {
    "duration": 4,
    "start_time": "2024-12-04T03:59:25.905Z"
   },
   {
    "duration": 3,
    "start_time": "2024-12-04T03:59:35.980Z"
   },
   {
    "duration": 44,
    "start_time": "2024-12-04T04:00:13.533Z"
   },
   {
    "duration": 46,
    "start_time": "2024-12-04T04:07:43.007Z"
   },
   {
    "duration": 34,
    "start_time": "2024-12-04T04:10:25.727Z"
   },
   {
    "duration": 2,
    "start_time": "2024-12-04T04:24:33.821Z"
   },
   {
    "duration": 133,
    "start_time": "2024-12-04T04:24:33.829Z"
   },
   {
    "duration": 10,
    "start_time": "2024-12-04T04:24:33.964Z"
   },
   {
    "duration": 24,
    "start_time": "2024-12-04T04:24:33.975Z"
   },
   {
    "duration": 135,
    "start_time": "2024-12-04T04:24:34.000Z"
   },
   {
    "duration": 10,
    "start_time": "2024-12-04T04:24:34.138Z"
   },
   {
    "duration": 18,
    "start_time": "2024-12-04T04:24:34.150Z"
   },
   {
    "duration": 9,
    "start_time": "2024-12-04T04:24:34.170Z"
   },
   {
    "duration": 46,
    "start_time": "2024-12-04T04:24:34.181Z"
   },
   {
    "duration": 19,
    "start_time": "2024-12-04T04:24:34.229Z"
   },
   {
    "duration": 40,
    "start_time": "2024-12-04T04:24:34.250Z"
   },
   {
    "duration": 70,
    "start_time": "2024-12-04T04:24:34.292Z"
   },
   {
    "duration": 44,
    "start_time": "2024-12-04T04:24:34.364Z"
   },
   {
    "duration": 49,
    "start_time": "2024-12-04T04:24:34.409Z"
   },
   {
    "duration": 31,
    "start_time": "2024-12-04T04:24:34.460Z"
   },
   {
    "duration": 5,
    "start_time": "2024-12-04T04:28:10.024Z"
   },
   {
    "duration": 3,
    "start_time": "2024-12-04T04:28:36.546Z"
   },
   {
    "duration": 5,
    "start_time": "2024-12-04T04:29:51.523Z"
   },
   {
    "duration": 4,
    "start_time": "2024-12-04T04:29:57.918Z"
   },
   {
    "duration": 2,
    "start_time": "2024-12-04T04:30:12.110Z"
   },
   {
    "duration": 3,
    "start_time": "2024-12-04T04:36:35.057Z"
   },
   {
    "duration": 3,
    "start_time": "2024-12-04T04:36:43.629Z"
   },
   {
    "duration": 4,
    "start_time": "2024-12-04T04:38:49.839Z"
   },
   {
    "duration": 2,
    "start_time": "2024-12-04T04:39:01.901Z"
   },
   {
    "duration": 2,
    "start_time": "2024-12-04T04:49:57.010Z"
   },
   {
    "duration": 148,
    "start_time": "2024-12-04T04:49:57.017Z"
   },
   {
    "duration": 10,
    "start_time": "2024-12-04T04:49:57.168Z"
   },
   {
    "duration": 23,
    "start_time": "2024-12-04T04:49:57.180Z"
   },
   {
    "duration": 143,
    "start_time": "2024-12-04T04:49:57.205Z"
   },
   {
    "duration": 11,
    "start_time": "2024-12-04T04:49:57.351Z"
   },
   {
    "duration": 25,
    "start_time": "2024-12-04T04:49:57.363Z"
   },
   {
    "duration": 12,
    "start_time": "2024-12-04T04:49:57.390Z"
   },
   {
    "duration": 41,
    "start_time": "2024-12-04T04:49:57.404Z"
   },
   {
    "duration": 18,
    "start_time": "2024-12-04T04:49:57.448Z"
   },
   {
    "duration": 57,
    "start_time": "2024-12-04T04:49:57.468Z"
   },
   {
    "duration": 58,
    "start_time": "2024-12-04T04:49:57.527Z"
   },
   {
    "duration": 55,
    "start_time": "2024-12-04T04:49:57.587Z"
   },
   {
    "duration": 55,
    "start_time": "2024-12-04T04:49:57.643Z"
   },
   {
    "duration": 46,
    "start_time": "2024-12-04T04:49:57.701Z"
   },
   {
    "duration": 3,
    "start_time": "2024-12-04T04:49:57.749Z"
   },
   {
    "duration": 14,
    "start_time": "2024-12-04T04:49:57.753Z"
   },
   {
    "duration": 0,
    "start_time": "2024-12-04T04:49:57.768Z"
   },
   {
    "duration": 0,
    "start_time": "2024-12-04T04:49:57.769Z"
   },
   {
    "duration": 0,
    "start_time": "2024-12-04T04:49:57.770Z"
   },
   {
    "duration": 0,
    "start_time": "2024-12-04T04:49:57.771Z"
   },
   {
    "duration": 0,
    "start_time": "2024-12-04T04:49:57.772Z"
   },
   {
    "duration": 0,
    "start_time": "2024-12-04T04:49:57.773Z"
   },
   {
    "duration": 0,
    "start_time": "2024-12-04T04:49:57.774Z"
   },
   {
    "duration": 3,
    "start_time": "2024-12-04T04:50:00.709Z"
   },
   {
    "duration": 117,
    "start_time": "2024-12-04T04:50:00.719Z"
   },
   {
    "duration": 10,
    "start_time": "2024-12-04T04:50:00.838Z"
   },
   {
    "duration": 21,
    "start_time": "2024-12-04T04:50:00.850Z"
   },
   {
    "duration": 132,
    "start_time": "2024-12-04T04:50:00.873Z"
   },
   {
    "duration": 16,
    "start_time": "2024-12-04T04:50:01.008Z"
   },
   {
    "duration": 19,
    "start_time": "2024-12-04T04:50:01.025Z"
   },
   {
    "duration": 9,
    "start_time": "2024-12-04T04:50:01.046Z"
   },
   {
    "duration": 23,
    "start_time": "2024-12-04T04:50:01.056Z"
   },
   {
    "duration": 47,
    "start_time": "2024-12-04T04:50:01.080Z"
   },
   {
    "duration": 38,
    "start_time": "2024-12-04T04:50:01.129Z"
   },
   {
    "duration": 69,
    "start_time": "2024-12-04T04:50:01.169Z"
   },
   {
    "duration": 43,
    "start_time": "2024-12-04T04:50:01.240Z"
   },
   {
    "duration": 51,
    "start_time": "2024-12-04T04:50:01.284Z"
   },
   {
    "duration": 34,
    "start_time": "2024-12-04T04:50:01.338Z"
   },
   {
    "duration": 3,
    "start_time": "2024-12-04T04:50:01.373Z"
   },
   {
    "duration": 14,
    "start_time": "2024-12-04T04:50:01.378Z"
   },
   {
    "duration": 0,
    "start_time": "2024-12-04T04:50:01.393Z"
   },
   {
    "duration": 0,
    "start_time": "2024-12-04T04:50:01.395Z"
   },
   {
    "duration": 0,
    "start_time": "2024-12-04T04:50:01.396Z"
   },
   {
    "duration": 0,
    "start_time": "2024-12-04T04:50:01.397Z"
   },
   {
    "duration": 0,
    "start_time": "2024-12-04T04:50:01.398Z"
   },
   {
    "duration": 0,
    "start_time": "2024-12-04T04:50:01.424Z"
   },
   {
    "duration": 0,
    "start_time": "2024-12-04T04:50:01.425Z"
   },
   {
    "duration": 3,
    "start_time": "2024-12-04T04:50:50.337Z"
   },
   {
    "duration": 115,
    "start_time": "2024-12-04T04:50:50.344Z"
   },
   {
    "duration": 10,
    "start_time": "2024-12-04T04:50:50.461Z"
   },
   {
    "duration": 21,
    "start_time": "2024-12-04T04:50:50.473Z"
   },
   {
    "duration": 128,
    "start_time": "2024-12-04T04:50:50.496Z"
   },
   {
    "duration": 10,
    "start_time": "2024-12-04T04:50:50.626Z"
   },
   {
    "duration": 17,
    "start_time": "2024-12-04T04:50:50.638Z"
   },
   {
    "duration": 9,
    "start_time": "2024-12-04T04:50:50.657Z"
   },
   {
    "duration": 22,
    "start_time": "2024-12-04T04:50:50.667Z"
   },
   {
    "duration": 46,
    "start_time": "2024-12-04T04:50:50.691Z"
   },
   {
    "duration": 38,
    "start_time": "2024-12-04T04:50:50.739Z"
   },
   {
    "duration": 60,
    "start_time": "2024-12-04T04:50:50.779Z"
   },
   {
    "duration": 40,
    "start_time": "2024-12-04T04:50:50.841Z"
   },
   {
    "duration": 49,
    "start_time": "2024-12-04T04:50:50.883Z"
   },
   {
    "duration": 31,
    "start_time": "2024-12-04T04:50:50.936Z"
   },
   {
    "duration": 3,
    "start_time": "2024-12-04T04:50:50.969Z"
   },
   {
    "duration": 12,
    "start_time": "2024-12-04T04:50:55.582Z"
   },
   {
    "duration": 14,
    "start_time": "2024-12-04T04:51:07.398Z"
   },
   {
    "duration": 5,
    "start_time": "2024-12-04T04:53:24.830Z"
   },
   {
    "duration": 3,
    "start_time": "2024-12-04T04:53:29.408Z"
   },
   {
    "duration": 126,
    "start_time": "2024-12-04T04:53:29.416Z"
   },
   {
    "duration": 10,
    "start_time": "2024-12-04T04:53:29.544Z"
   },
   {
    "duration": 23,
    "start_time": "2024-12-04T04:53:29.556Z"
   },
   {
    "duration": 130,
    "start_time": "2024-12-04T04:53:29.581Z"
   },
   {
    "duration": 17,
    "start_time": "2024-12-04T04:53:29.715Z"
   },
   {
    "duration": 19,
    "start_time": "2024-12-04T04:53:29.733Z"
   },
   {
    "duration": 9,
    "start_time": "2024-12-04T04:53:29.754Z"
   },
   {
    "duration": 23,
    "start_time": "2024-12-04T04:53:29.765Z"
   },
   {
    "duration": 39,
    "start_time": "2024-12-04T04:53:29.789Z"
   },
   {
    "duration": 41,
    "start_time": "2024-12-04T04:53:29.830Z"
   },
   {
    "duration": 65,
    "start_time": "2024-12-04T04:53:29.873Z"
   },
   {
    "duration": 61,
    "start_time": "2024-12-04T04:53:29.940Z"
   },
   {
    "duration": 67,
    "start_time": "2024-12-04T04:53:30.003Z"
   },
   {
    "duration": 33,
    "start_time": "2024-12-04T04:53:30.073Z"
   },
   {
    "duration": 16,
    "start_time": "2024-12-04T04:53:30.108Z"
   },
   {
    "duration": 3,
    "start_time": "2024-12-04T04:53:30.126Z"
   },
   {
    "duration": 4,
    "start_time": "2024-12-04T04:53:36.175Z"
   },
   {
    "duration": 2,
    "start_time": "2024-12-04T04:54:00.161Z"
   },
   {
    "duration": 3,
    "start_time": "2024-12-04T04:54:07.512Z"
   },
   {
    "duration": 8,
    "start_time": "2024-12-04T04:54:57.418Z"
   },
   {
    "duration": 4,
    "start_time": "2024-12-04T04:55:25.485Z"
   },
   {
    "duration": 6,
    "start_time": "2024-12-04T04:55:36.745Z"
   },
   {
    "duration": 2,
    "start_time": "2024-12-04T04:55:46.990Z"
   },
   {
    "duration": 5,
    "start_time": "2024-12-04T04:57:37.041Z"
   },
   {
    "duration": 4,
    "start_time": "2024-12-04T04:57:44.830Z"
   },
   {
    "duration": 13,
    "start_time": "2024-12-04T05:03:42.159Z"
   },
   {
    "duration": 3,
    "start_time": "2024-12-04T05:04:00.750Z"
   },
   {
    "duration": 14,
    "start_time": "2024-12-04T05:04:03.846Z"
   },
   {
    "duration": 4,
    "start_time": "2024-12-04T05:04:19.385Z"
   },
   {
    "duration": 13,
    "start_time": "2024-12-04T05:04:25.974Z"
   },
   {
    "duration": 12,
    "start_time": "2024-12-04T05:04:31.941Z"
   },
   {
    "duration": 15,
    "start_time": "2024-12-04T05:04:51.940Z"
   },
   {
    "duration": 3,
    "start_time": "2024-12-04T05:04:59.118Z"
   },
   {
    "duration": 2,
    "start_time": "2024-12-04T05:05:32.837Z"
   },
   {
    "duration": 5,
    "start_time": "2024-12-05T02:12:50.281Z"
   },
   {
    "duration": 3,
    "start_time": "2024-12-05T02:19:37.515Z"
   },
   {
    "duration": 280,
    "start_time": "2024-12-05T02:26:13.085Z"
   },
   {
    "duration": 140,
    "start_time": "2024-12-05T02:26:13.369Z"
   },
   {
    "duration": 14,
    "start_time": "2024-12-05T02:26:13.511Z"
   },
   {
    "duration": 22,
    "start_time": "2024-12-05T02:26:13.527Z"
   },
   {
    "duration": 131,
    "start_time": "2024-12-05T02:26:13.551Z"
   },
   {
    "duration": 10,
    "start_time": "2024-12-05T02:26:13.684Z"
   },
   {
    "duration": 26,
    "start_time": "2024-12-05T02:26:13.695Z"
   },
   {
    "duration": 10,
    "start_time": "2024-12-05T02:26:13.723Z"
   },
   {
    "duration": 20,
    "start_time": "2024-12-05T02:26:13.736Z"
   },
   {
    "duration": 17,
    "start_time": "2024-12-05T02:26:13.759Z"
   },
   {
    "duration": 60,
    "start_time": "2024-12-05T02:26:13.778Z"
   },
   {
    "duration": 49,
    "start_time": "2024-12-05T02:26:13.840Z"
   },
   {
    "duration": 58,
    "start_time": "2024-12-05T02:26:13.891Z"
   },
   {
    "duration": 36,
    "start_time": "2024-12-05T02:26:13.950Z"
   },
   {
    "duration": 45,
    "start_time": "2024-12-05T02:26:13.988Z"
   },
   {
    "duration": 3,
    "start_time": "2024-12-05T02:26:29.223Z"
   },
   {
    "duration": 3,
    "start_time": "2024-12-05T02:38:20.817Z"
   },
   {
    "duration": 176,
    "start_time": "2024-12-05T02:38:55.811Z"
   },
   {
    "duration": 2,
    "start_time": "2024-12-05T02:39:21.665Z"
   },
   {
    "duration": 13,
    "start_time": "2024-12-05T03:11:41.178Z"
   },
   {
    "duration": 22,
    "start_time": "2024-12-05T03:12:04.938Z"
   },
   {
    "duration": 13,
    "start_time": "2024-12-05T03:12:36.765Z"
   },
   {
    "duration": 11,
    "start_time": "2024-12-05T03:12:40.609Z"
   },
   {
    "duration": 32,
    "start_time": "2024-12-05T03:13:51.472Z"
   },
   {
    "duration": 14,
    "start_time": "2024-12-05T03:14:36.616Z"
   },
   {
    "duration": 31,
    "start_time": "2024-12-05T03:14:39.897Z"
   },
   {
    "duration": 12,
    "start_time": "2024-12-05T03:26:56.470Z"
   },
   {
    "duration": 5,
    "start_time": "2024-12-05T03:27:58.504Z"
   },
   {
    "duration": 13,
    "start_time": "2024-12-05T03:28:47.679Z"
   },
   {
    "duration": 371,
    "start_time": "2024-12-05T03:37:47.855Z"
   },
   {
    "duration": 13,
    "start_time": "2024-12-05T03:43:28.602Z"
   },
   {
    "duration": 18,
    "start_time": "2024-12-05T03:44:15.795Z"
   },
   {
    "duration": 22,
    "start_time": "2024-12-05T03:46:22.358Z"
   },
   {
    "duration": 4,
    "start_time": "2024-12-05T03:47:03.970Z"
   },
   {
    "duration": 3,
    "start_time": "2024-12-05T03:47:22.210Z"
   },
   {
    "duration": 12,
    "start_time": "2024-12-05T03:48:49.696Z"
   },
   {
    "duration": 10,
    "start_time": "2024-12-05T03:49:26.932Z"
   },
   {
    "duration": 15,
    "start_time": "2024-12-05T03:49:50.677Z"
   },
   {
    "duration": 318,
    "start_time": "2024-12-06T04:16:49.936Z"
   },
   {
    "duration": 143,
    "start_time": "2024-12-06T04:16:50.256Z"
   },
   {
    "duration": 18,
    "start_time": "2024-12-06T04:16:50.400Z"
   },
   {
    "duration": 22,
    "start_time": "2024-12-06T04:16:50.421Z"
   },
   {
    "duration": 134,
    "start_time": "2024-12-06T04:16:50.445Z"
   },
   {
    "duration": 10,
    "start_time": "2024-12-06T04:16:50.581Z"
   },
   {
    "duration": 25,
    "start_time": "2024-12-06T04:16:50.593Z"
   },
   {
    "duration": 10,
    "start_time": "2024-12-06T04:16:50.619Z"
   },
   {
    "duration": 20,
    "start_time": "2024-12-06T04:16:50.631Z"
   },
   {
    "duration": 17,
    "start_time": "2024-12-06T04:16:50.653Z"
   },
   {
    "duration": 65,
    "start_time": "2024-12-06T04:16:50.671Z"
   },
   {
    "duration": 48,
    "start_time": "2024-12-06T04:16:50.737Z"
   },
   {
    "duration": 57,
    "start_time": "2024-12-06T04:16:50.787Z"
   },
   {
    "duration": 36,
    "start_time": "2024-12-06T04:16:50.845Z"
   },
   {
    "duration": 42,
    "start_time": "2024-12-06T04:16:50.883Z"
   },
   {
    "duration": 3,
    "start_time": "2024-12-06T04:16:50.927Z"
   },
   {
    "duration": 13,
    "start_time": "2024-12-06T04:16:50.932Z"
   },
   {
    "duration": 31,
    "start_time": "2024-12-06T04:16:50.946Z"
   },
   {
    "duration": 39,
    "start_time": "2024-12-06T04:16:50.978Z"
   },
   {
    "duration": 19,
    "start_time": "2024-12-06T04:22:23.682Z"
   },
   {
    "duration": 2,
    "start_time": "2024-12-06T04:28:54.585Z"
   },
   {
    "duration": 8,
    "start_time": "2024-12-06T04:30:44.247Z"
   },
   {
    "duration": 8,
    "start_time": "2024-12-06T04:30:49.816Z"
   },
   {
    "duration": 174,
    "start_time": "2024-12-06T04:39:21.545Z"
   },
   {
    "duration": 6,
    "start_time": "2024-12-06T04:39:33.317Z"
   },
   {
    "duration": 7,
    "start_time": "2024-12-06T04:40:11.077Z"
   },
   {
    "duration": 8,
    "start_time": "2024-12-06T04:40:17.503Z"
   },
   {
    "duration": 7,
    "start_time": "2024-12-06T04:40:21.377Z"
   },
   {
    "duration": 6,
    "start_time": "2024-12-06T04:41:03.912Z"
   },
   {
    "duration": 6,
    "start_time": "2024-12-06T04:41:19.056Z"
   },
   {
    "duration": 6,
    "start_time": "2024-12-06T04:41:23.792Z"
   },
   {
    "duration": 12,
    "start_time": "2024-12-06T04:41:37.637Z"
   },
   {
    "duration": 7,
    "start_time": "2024-12-06T04:42:02.880Z"
   },
   {
    "duration": 9,
    "start_time": "2024-12-06T04:42:16.577Z"
   },
   {
    "duration": 6,
    "start_time": "2024-12-06T04:42:18.953Z"
   },
   {
    "duration": 165,
    "start_time": "2024-12-09T01:52:31.226Z"
   },
   {
    "duration": 305,
    "start_time": "2024-12-09T01:53:42.235Z"
   },
   {
    "duration": 137,
    "start_time": "2024-12-09T01:53:42.543Z"
   },
   {
    "duration": 15,
    "start_time": "2024-12-09T01:53:42.682Z"
   },
   {
    "duration": 21,
    "start_time": "2024-12-09T01:53:42.699Z"
   },
   {
    "duration": 135,
    "start_time": "2024-12-09T01:53:42.722Z"
   },
   {
    "duration": 10,
    "start_time": "2024-12-09T01:53:42.859Z"
   },
   {
    "duration": 26,
    "start_time": "2024-12-09T01:53:42.872Z"
   },
   {
    "duration": 11,
    "start_time": "2024-12-09T01:53:42.900Z"
   },
   {
    "duration": 20,
    "start_time": "2024-12-09T01:53:42.912Z"
   },
   {
    "duration": 18,
    "start_time": "2024-12-09T01:53:42.935Z"
   },
   {
    "duration": 64,
    "start_time": "2024-12-09T01:53:42.955Z"
   },
   {
    "duration": 68,
    "start_time": "2024-12-09T01:53:43.021Z"
   },
   {
    "duration": 42,
    "start_time": "2024-12-09T01:53:43.091Z"
   },
   {
    "duration": 53,
    "start_time": "2024-12-09T01:53:43.136Z"
   },
   {
    "duration": 36,
    "start_time": "2024-12-09T01:53:43.191Z"
   },
   {
    "duration": 3,
    "start_time": "2024-12-09T01:53:43.229Z"
   },
   {
    "duration": 14,
    "start_time": "2024-12-09T01:53:43.233Z"
   },
   {
    "duration": 54,
    "start_time": "2024-12-09T01:53:43.248Z"
   },
   {
    "duration": 19,
    "start_time": "2024-12-09T01:53:43.304Z"
   },
   {
    "duration": 8,
    "start_time": "2024-12-09T01:53:43.325Z"
   },
   {
    "duration": 7,
    "start_time": "2024-12-09T01:53:43.334Z"
   },
   {
    "duration": 41,
    "start_time": "2024-12-09T01:55:06.805Z"
   },
   {
    "duration": 3,
    "start_time": "2024-12-09T02:00:33.160Z"
   },
   {
    "duration": 15,
    "start_time": "2024-12-09T02:09:12.566Z"
   },
   {
    "duration": 15,
    "start_time": "2024-12-09T02:16:58.646Z"
   },
   {
    "duration": 15,
    "start_time": "2024-12-09T02:19:34.297Z"
   },
   {
    "duration": 4,
    "start_time": "2024-12-09T02:20:10.816Z"
   },
   {
    "duration": 4,
    "start_time": "2024-12-09T02:20:16.665Z"
   },
   {
    "duration": 6,
    "start_time": "2024-12-09T02:26:33.594Z"
   },
   {
    "duration": 12,
    "start_time": "2024-12-09T03:24:38.371Z"
   },
   {
    "duration": 6,
    "start_time": "2024-12-09T03:27:12.146Z"
   },
   {
    "duration": 4,
    "start_time": "2024-12-09T03:35:40.898Z"
   },
   {
    "duration": 4,
    "start_time": "2024-12-09T03:36:01.601Z"
   },
   {
    "duration": 3,
    "start_time": "2024-12-09T03:36:42.280Z"
   },
   {
    "duration": 4,
    "start_time": "2024-12-09T03:36:46.590Z"
   },
   {
    "duration": 14,
    "start_time": "2024-12-09T03:38:07.457Z"
   },
   {
    "duration": 13,
    "start_time": "2024-12-09T03:45:52.433Z"
   },
   {
    "duration": 4,
    "start_time": "2024-12-09T03:46:52.310Z"
   },
   {
    "duration": 11,
    "start_time": "2024-12-09T03:51:33.809Z"
   },
   {
    "duration": 8,
    "start_time": "2024-12-09T03:52:37.813Z"
   },
   {
    "duration": 4,
    "start_time": "2024-12-09T03:54:03.910Z"
   },
   {
    "duration": 158,
    "start_time": "2024-12-09T19:02:28.762Z"
   },
   {
    "duration": 302,
    "start_time": "2024-12-09T19:02:41.036Z"
   },
   {
    "duration": 145,
    "start_time": "2024-12-09T19:02:41.340Z"
   },
   {
    "duration": 14,
    "start_time": "2024-12-09T19:02:41.487Z"
   },
   {
    "duration": 23,
    "start_time": "2024-12-09T19:02:41.503Z"
   },
   {
    "duration": 134,
    "start_time": "2024-12-09T19:02:41.528Z"
   },
   {
    "duration": 10,
    "start_time": "2024-12-09T19:02:41.664Z"
   },
   {
    "duration": 26,
    "start_time": "2024-12-09T19:02:41.675Z"
   },
   {
    "duration": 11,
    "start_time": "2024-12-09T19:02:41.703Z"
   },
   {
    "duration": 23,
    "start_time": "2024-12-09T19:02:41.715Z"
   },
   {
    "duration": 19,
    "start_time": "2024-12-09T19:02:41.741Z"
   },
   {
    "duration": 42,
    "start_time": "2024-12-09T19:02:41.786Z"
   },
   {
    "duration": 60,
    "start_time": "2024-12-09T19:02:41.831Z"
   },
   {
    "duration": 42,
    "start_time": "2024-12-09T19:02:41.893Z"
   },
   {
    "duration": 50,
    "start_time": "2024-12-09T19:02:41.937Z"
   },
   {
    "duration": 31,
    "start_time": "2024-12-09T19:02:41.989Z"
   },
   {
    "duration": 3,
    "start_time": "2024-12-09T19:02:42.022Z"
   },
   {
    "duration": 14,
    "start_time": "2024-12-09T19:02:42.026Z"
   },
   {
    "duration": 56,
    "start_time": "2024-12-09T19:02:42.042Z"
   },
   {
    "duration": 20,
    "start_time": "2024-12-09T19:02:42.100Z"
   },
   {
    "duration": 19,
    "start_time": "2024-12-09T19:02:46.051Z"
   },
   {
    "duration": 7,
    "start_time": "2024-12-09T19:03:00.623Z"
   },
   {
    "duration": 9,
    "start_time": "2024-12-09T19:06:27.771Z"
   },
   {
    "duration": 11,
    "start_time": "2024-12-09T19:06:48.076Z"
   },
   {
    "duration": 6,
    "start_time": "2024-12-09T19:07:20.371Z"
   },
   {
    "duration": 62,
    "start_time": "2024-12-09T19:09:35.927Z"
   },
   {
    "duration": 2,
    "start_time": "2024-12-09T19:10:28.688Z"
   },
   {
    "duration": 150,
    "start_time": "2024-12-09T19:10:28.700Z"
   },
   {
    "duration": 14,
    "start_time": "2024-12-09T19:10:28.852Z"
   },
   {
    "duration": 31,
    "start_time": "2024-12-09T19:10:28.870Z"
   },
   {
    "duration": 165,
    "start_time": "2024-12-09T19:10:28.904Z"
   },
   {
    "duration": 15,
    "start_time": "2024-12-09T19:10:29.071Z"
   },
   {
    "duration": 25,
    "start_time": "2024-12-09T19:10:29.088Z"
   },
   {
    "duration": 9,
    "start_time": "2024-12-09T19:10:29.116Z"
   },
   {
    "duration": 23,
    "start_time": "2024-12-09T19:10:29.127Z"
   },
   {
    "duration": 43,
    "start_time": "2024-12-09T19:10:29.152Z"
   },
   {
    "duration": 42,
    "start_time": "2024-12-09T19:10:29.199Z"
   },
   {
    "duration": 92,
    "start_time": "2024-12-09T19:10:29.243Z"
   },
   {
    "duration": 54,
    "start_time": "2024-12-09T19:10:29.337Z"
   },
   {
    "duration": 37,
    "start_time": "2024-12-09T19:10:29.393Z"
   },
   {
    "duration": 36,
    "start_time": "2024-12-09T19:10:29.432Z"
   },
   {
    "duration": 3,
    "start_time": "2024-12-09T19:10:29.486Z"
   },
   {
    "duration": 21,
    "start_time": "2024-12-09T19:10:29.491Z"
   },
   {
    "duration": 52,
    "start_time": "2024-12-09T19:10:29.514Z"
   },
   {
    "duration": 38,
    "start_time": "2024-12-09T19:10:29.568Z"
   },
   {
    "duration": 19,
    "start_time": "2024-12-09T19:10:29.607Z"
   },
   {
    "duration": 10,
    "start_time": "2024-12-09T19:10:29.630Z"
   },
   {
    "duration": 8,
    "start_time": "2024-12-09T19:10:40.584Z"
   },
   {
    "duration": 13,
    "start_time": "2024-12-09T19:34:30.118Z"
   },
   {
    "duration": 2,
    "start_time": "2024-12-09T19:35:15.278Z"
   },
   {
    "duration": 118,
    "start_time": "2024-12-09T19:35:15.283Z"
   },
   {
    "duration": 10,
    "start_time": "2024-12-09T19:35:15.403Z"
   },
   {
    "duration": 21,
    "start_time": "2024-12-09T19:35:15.415Z"
   },
   {
    "duration": 128,
    "start_time": "2024-12-09T19:35:15.440Z"
   },
   {
    "duration": 10,
    "start_time": "2024-12-09T19:35:15.570Z"
   },
   {
    "duration": 21,
    "start_time": "2024-12-09T19:35:15.582Z"
   },
   {
    "duration": 9,
    "start_time": "2024-12-09T19:35:15.605Z"
   },
   {
    "duration": 21,
    "start_time": "2024-12-09T19:35:15.616Z"
   },
   {
    "duration": 19,
    "start_time": "2024-12-09T19:35:15.639Z"
   },
   {
    "duration": 39,
    "start_time": "2024-12-09T19:35:15.687Z"
   },
   {
    "duration": 60,
    "start_time": "2024-12-09T19:35:15.727Z"
   },
   {
    "duration": 40,
    "start_time": "2024-12-09T19:35:15.790Z"
   },
   {
    "duration": 35,
    "start_time": "2024-12-09T19:35:15.832Z"
   },
   {
    "duration": 50,
    "start_time": "2024-12-09T19:35:15.869Z"
   },
   {
    "duration": 3,
    "start_time": "2024-12-09T19:35:15.921Z"
   },
   {
    "duration": 14,
    "start_time": "2024-12-09T19:35:15.925Z"
   },
   {
    "duration": 48,
    "start_time": "2024-12-09T19:35:15.941Z"
   },
   {
    "duration": 19,
    "start_time": "2024-12-09T19:35:15.991Z"
   },
   {
    "duration": 16,
    "start_time": "2024-12-09T19:35:16.012Z"
   },
   {
    "duration": 10,
    "start_time": "2024-12-09T19:35:16.030Z"
   },
   {
    "duration": 7,
    "start_time": "2024-12-09T19:35:16.042Z"
   },
   {
    "duration": 13,
    "start_time": "2024-12-09T19:35:18.459Z"
   },
   {
    "duration": 5,
    "start_time": "2024-12-09T19:35:33.415Z"
   },
   {
    "duration": 2,
    "start_time": "2024-12-09T19:35:45.915Z"
   },
   {
    "duration": 113,
    "start_time": "2024-12-09T19:35:45.919Z"
   },
   {
    "duration": 10,
    "start_time": "2024-12-09T19:35:46.034Z"
   },
   {
    "duration": 22,
    "start_time": "2024-12-09T19:35:46.046Z"
   },
   {
    "duration": 131,
    "start_time": "2024-12-09T19:35:46.071Z"
   },
   {
    "duration": 10,
    "start_time": "2024-12-09T19:35:46.204Z"
   },
   {
    "duration": 18,
    "start_time": "2024-12-09T19:35:46.216Z"
   },
   {
    "duration": 7,
    "start_time": "2024-12-09T19:35:46.236Z"
   },
   {
    "duration": 42,
    "start_time": "2024-12-09T19:35:46.245Z"
   },
   {
    "duration": 18,
    "start_time": "2024-12-09T19:35:46.289Z"
   },
   {
    "duration": 43,
    "start_time": "2024-12-09T19:35:46.309Z"
   },
   {
    "duration": 65,
    "start_time": "2024-12-09T19:35:46.354Z"
   },
   {
    "duration": 40,
    "start_time": "2024-12-09T19:35:46.420Z"
   },
   {
    "duration": 46,
    "start_time": "2024-12-09T19:35:46.462Z"
   },
   {
    "duration": 31,
    "start_time": "2024-12-09T19:35:46.510Z"
   },
   {
    "duration": 3,
    "start_time": "2024-12-09T19:35:46.542Z"
   },
   {
    "duration": 14,
    "start_time": "2024-12-09T19:35:46.546Z"
   },
   {
    "duration": 47,
    "start_time": "2024-12-09T19:35:46.561Z"
   },
   {
    "duration": 19,
    "start_time": "2024-12-09T19:35:46.610Z"
   },
   {
    "duration": 16,
    "start_time": "2024-12-09T19:35:46.631Z"
   },
   {
    "duration": 37,
    "start_time": "2024-12-09T19:35:46.649Z"
   },
   {
    "duration": 8,
    "start_time": "2024-12-09T19:35:46.687Z"
   },
   {
    "duration": 6,
    "start_time": "2024-12-09T19:35:46.696Z"
   },
   {
    "duration": 7,
    "start_time": "2024-12-09T19:35:51.288Z"
   },
   {
    "duration": 9,
    "start_time": "2024-12-09T19:36:12.999Z"
   },
   {
    "duration": 10,
    "start_time": "2024-12-09T19:38:40.015Z"
   },
   {
    "duration": 14,
    "start_time": "2024-12-09T19:51:43.409Z"
   },
   {
    "duration": 3,
    "start_time": "2024-12-09T19:52:27.469Z"
   },
   {
    "duration": 161,
    "start_time": "2024-12-09T19:52:27.475Z"
   },
   {
    "duration": 12,
    "start_time": "2024-12-09T19:52:27.638Z"
   },
   {
    "duration": 36,
    "start_time": "2024-12-09T19:52:27.654Z"
   },
   {
    "duration": 141,
    "start_time": "2024-12-09T19:52:27.694Z"
   },
   {
    "duration": 14,
    "start_time": "2024-12-09T19:52:27.837Z"
   },
   {
    "duration": 27,
    "start_time": "2024-12-09T19:52:27.853Z"
   },
   {
    "duration": 10,
    "start_time": "2024-12-09T19:52:27.887Z"
   },
   {
    "duration": 26,
    "start_time": "2024-12-09T19:52:27.899Z"
   },
   {
    "duration": 22,
    "start_time": "2024-12-09T19:52:27.927Z"
   },
   {
    "duration": 62,
    "start_time": "2024-12-09T19:52:27.951Z"
   },
   {
    "duration": 49,
    "start_time": "2024-12-09T19:52:28.015Z"
   },
   {
    "duration": 57,
    "start_time": "2024-12-09T19:52:28.068Z"
   },
   {
    "duration": 49,
    "start_time": "2024-12-09T19:52:28.129Z"
   },
   {
    "duration": 42,
    "start_time": "2024-12-09T19:52:28.186Z"
   },
   {
    "duration": 3,
    "start_time": "2024-12-09T19:52:28.231Z"
   },
   {
    "duration": 15,
    "start_time": "2024-12-09T19:52:28.235Z"
   },
   {
    "duration": 50,
    "start_time": "2024-12-09T19:52:28.252Z"
   },
   {
    "duration": 31,
    "start_time": "2024-12-09T19:52:28.304Z"
   },
   {
    "duration": 28,
    "start_time": "2024-12-09T19:52:28.337Z"
   },
   {
    "duration": 15,
    "start_time": "2024-12-09T19:52:28.367Z"
   },
   {
    "duration": 9,
    "start_time": "2024-12-09T19:52:28.388Z"
   },
   {
    "duration": 22,
    "start_time": "2024-12-09T19:52:28.400Z"
   },
   {
    "duration": 16,
    "start_time": "2024-12-09T19:52:28.424Z"
   },
   {
    "duration": 7,
    "start_time": "2024-12-09T19:52:31.326Z"
   },
   {
    "duration": 2,
    "start_time": "2024-12-09T19:57:03.614Z"
   },
   {
    "duration": 159,
    "start_time": "2024-12-09T19:57:03.618Z"
   },
   {
    "duration": 13,
    "start_time": "2024-12-09T19:57:03.779Z"
   },
   {
    "duration": 25,
    "start_time": "2024-12-09T19:57:03.794Z"
   },
   {
    "duration": 134,
    "start_time": "2024-12-09T19:57:03.823Z"
   },
   {
    "duration": 12,
    "start_time": "2024-12-09T19:57:03.959Z"
   },
   {
    "duration": 35,
    "start_time": "2024-12-09T19:57:03.972Z"
   },
   {
    "duration": 16,
    "start_time": "2024-12-09T19:57:04.009Z"
   },
   {
    "duration": 24,
    "start_time": "2024-12-09T19:57:04.029Z"
   },
   {
    "duration": 19,
    "start_time": "2024-12-09T19:57:04.056Z"
   },
   {
    "duration": 46,
    "start_time": "2024-12-09T19:57:04.086Z"
   },
   {
    "duration": 68,
    "start_time": "2024-12-09T19:57:04.134Z"
   },
   {
    "duration": 45,
    "start_time": "2024-12-09T19:57:04.204Z"
   },
   {
    "duration": 51,
    "start_time": "2024-12-09T19:57:04.251Z"
   },
   {
    "duration": 33,
    "start_time": "2024-12-09T19:57:04.304Z"
   },
   {
    "duration": 3,
    "start_time": "2024-12-09T19:57:04.340Z"
   },
   {
    "duration": 19,
    "start_time": "2024-12-09T19:57:04.345Z"
   },
   {
    "duration": 47,
    "start_time": "2024-12-09T19:57:04.366Z"
   },
   {
    "duration": 21,
    "start_time": "2024-12-09T19:57:04.415Z"
   },
   {
    "duration": 20,
    "start_time": "2024-12-09T19:57:04.438Z"
   },
   {
    "duration": 10,
    "start_time": "2024-12-09T19:57:04.487Z"
   },
   {
    "duration": 8,
    "start_time": "2024-12-09T19:57:04.499Z"
   },
   {
    "duration": 12,
    "start_time": "2024-12-09T19:57:04.509Z"
   },
   {
    "duration": 10,
    "start_time": "2024-12-09T19:57:04.525Z"
   },
   {
    "duration": 9,
    "start_time": "2024-12-09T19:57:07.798Z"
   },
   {
    "duration": 320,
    "start_time": "2024-12-10T03:12:55.935Z"
   },
   {
    "duration": 134,
    "start_time": "2024-12-10T03:12:56.257Z"
   },
   {
    "duration": 13,
    "start_time": "2024-12-10T03:12:56.393Z"
   },
   {
    "duration": 22,
    "start_time": "2024-12-10T03:12:56.409Z"
   },
   {
    "duration": 125,
    "start_time": "2024-12-10T03:12:56.432Z"
   },
   {
    "duration": 10,
    "start_time": "2024-12-10T03:12:56.559Z"
   },
   {
    "duration": 17,
    "start_time": "2024-12-10T03:12:56.571Z"
   },
   {
    "duration": 26,
    "start_time": "2024-12-10T03:12:56.589Z"
   },
   {
    "duration": 21,
    "start_time": "2024-12-10T03:12:56.617Z"
   },
   {
    "duration": 16,
    "start_time": "2024-12-10T03:12:56.641Z"
   },
   {
    "duration": 55,
    "start_time": "2024-12-10T03:12:56.658Z"
   },
   {
    "duration": 51,
    "start_time": "2024-12-10T03:12:56.715Z"
   },
   {
    "duration": 53,
    "start_time": "2024-12-10T03:12:56.768Z"
   },
   {
    "duration": 37,
    "start_time": "2024-12-10T03:12:56.822Z"
   },
   {
    "duration": 52,
    "start_time": "2024-12-10T03:12:56.861Z"
   },
   {
    "duration": 2,
    "start_time": "2024-12-10T03:12:56.915Z"
   },
   {
    "duration": 14,
    "start_time": "2024-12-10T03:12:56.919Z"
   },
   {
    "duration": 31,
    "start_time": "2024-12-10T03:12:56.934Z"
   },
   {
    "duration": 19,
    "start_time": "2024-12-10T03:12:56.966Z"
   },
   {
    "duration": 36,
    "start_time": "2024-12-10T03:12:56.987Z"
   },
   {
    "duration": 9,
    "start_time": "2024-12-10T03:12:57.024Z"
   },
   {
    "duration": 7,
    "start_time": "2024-12-10T03:12:57.035Z"
   },
   {
    "duration": 195,
    "start_time": "2024-12-10T03:12:57.045Z"
   },
   {
    "duration": 7,
    "start_time": "2024-12-10T03:13:36.322Z"
   },
   {
    "duration": 2,
    "start_time": "2024-12-10T03:13:42.060Z"
   },
   {
    "duration": 112,
    "start_time": "2024-12-10T03:13:42.065Z"
   },
   {
    "duration": 10,
    "start_time": "2024-12-10T03:13:42.178Z"
   },
   {
    "duration": 33,
    "start_time": "2024-12-10T03:13:42.189Z"
   },
   {
    "duration": 116,
    "start_time": "2024-12-10T03:13:42.225Z"
   },
   {
    "duration": 9,
    "start_time": "2024-12-10T03:13:42.343Z"
   },
   {
    "duration": 18,
    "start_time": "2024-12-10T03:13:42.354Z"
   },
   {
    "duration": 7,
    "start_time": "2024-12-10T03:13:42.374Z"
   },
   {
    "duration": 41,
    "start_time": "2024-12-10T03:13:42.383Z"
   },
   {
    "duration": 17,
    "start_time": "2024-12-10T03:13:42.426Z"
   },
   {
    "duration": 37,
    "start_time": "2024-12-10T03:13:42.445Z"
   },
   {
    "duration": 67,
    "start_time": "2024-12-10T03:13:42.484Z"
   },
   {
    "duration": 43,
    "start_time": "2024-12-10T03:13:42.553Z"
   },
   {
    "duration": 35,
    "start_time": "2024-12-10T03:13:42.611Z"
   },
   {
    "duration": 31,
    "start_time": "2024-12-10T03:13:42.648Z"
   },
   {
    "duration": 2,
    "start_time": "2024-12-10T03:13:42.681Z"
   },
   {
    "duration": 30,
    "start_time": "2024-12-10T03:13:42.685Z"
   },
   {
    "duration": 30,
    "start_time": "2024-12-10T03:13:42.717Z"
   },
   {
    "duration": 20,
    "start_time": "2024-12-10T03:13:42.748Z"
   },
   {
    "duration": 16,
    "start_time": "2024-12-10T03:13:42.770Z"
   },
   {
    "duration": 31,
    "start_time": "2024-12-10T03:13:42.788Z"
   },
   {
    "duration": 8,
    "start_time": "2024-12-10T03:13:42.820Z"
   },
   {
    "duration": 10,
    "start_time": "2024-12-10T03:13:48.244Z"
   },
   {
    "duration": 8,
    "start_time": "2024-12-10T03:13:54.877Z"
   }
  ],
  "kernelspec": {
   "display_name": "Python 3 (ipykernel)",
   "language": "python",
   "name": "python3"
  },
  "language_info": {
   "codemirror_mode": {
    "name": "ipython",
    "version": 3
   },
   "file_extension": ".py",
   "mimetype": "text/x-python",
   "name": "python",
   "nbconvert_exporter": "python",
   "pygments_lexer": "ipython3",
   "version": "3.9.19"
  },
  "toc": {
   "base_numbering": 1,
   "nav_menu": {},
   "number_sections": true,
   "sideBar": true,
   "skip_h1_title": true,
   "title_cell": "Table of Contents",
   "title_sidebar": "Contents",
   "toc_cell": false,
   "toc_position": {},
   "toc_section_display": true,
   "toc_window_display": false
  }
 },
 "nbformat": 4,
 "nbformat_minor": 5
}
