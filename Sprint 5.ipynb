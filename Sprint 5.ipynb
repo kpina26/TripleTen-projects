{
 "cells": [
  {
   "cell_type": "markdown",
   "metadata": {},
   "source": [
    "# World of Video Games"
   ]
  },
  {
   "cell_type": "markdown",
   "metadata": {},
   "source": [
    "An online store Ice which sells video games worldwide my goal is to analyze the key factors such as user and expert reviews, game genres, platforms, and ESRB ratings to show potential top performing games and consoles. I will explore historical video game sales data to identify patterns that determine a games success. With the 2016 data as my reference point, i will create a data driven strategy for 2017.   "
   ]
  },
  {
   "cell_type": "code",
   "execution_count": 7,
   "metadata": {},
   "outputs": [],
   "source": [
    "import pandas as pd\n",
    "import numpy as np\n",
    "import matplotlib.pyplot as plt\n",
    "import seaborn as sns\n",
    "from scipy import stats as st"
   ]
  },
  {
   "cell_type": "code",
   "execution_count": 8,
   "metadata": {},
   "outputs": [],
   "source": [
    "\n",
    "try:\n",
    "    df_gaming= pd.read_csv('/datasets/games.csv')\n",
    "except:\n",
    "    df_gaming= pd.read_csv('https://practicum-content.s3.us-west-1.amazonaws.com/datasets/games.csv')"
   ]
  },
  {
   "cell_type": "code",
   "execution_count": 9,
   "metadata": {},
   "outputs": [
    {
     "data": {
      "text/html": [
       "<div>\n",
       "<style scoped>\n",
       "    .dataframe tbody tr th:only-of-type {\n",
       "        vertical-align: middle;\n",
       "    }\n",
       "\n",
       "    .dataframe tbody tr th {\n",
       "        vertical-align: top;\n",
       "    }\n",
       "\n",
       "    .dataframe thead th {\n",
       "        text-align: right;\n",
       "    }\n",
       "</style>\n",
       "<table border=\"1\" class=\"dataframe\">\n",
       "  <thead>\n",
       "    <tr style=\"text-align: right;\">\n",
       "      <th></th>\n",
       "      <th>Name</th>\n",
       "      <th>Platform</th>\n",
       "      <th>Year_of_Release</th>\n",
       "      <th>Genre</th>\n",
       "      <th>NA_sales</th>\n",
       "      <th>EU_sales</th>\n",
       "      <th>JP_sales</th>\n",
       "      <th>Other_sales</th>\n",
       "      <th>Critic_Score</th>\n",
       "      <th>User_Score</th>\n",
       "      <th>Rating</th>\n",
       "    </tr>\n",
       "  </thead>\n",
       "  <tbody>\n",
       "    <tr>\n",
       "      <th>0</th>\n",
       "      <td>Wii Sports</td>\n",
       "      <td>Wii</td>\n",
       "      <td>2006.0</td>\n",
       "      <td>Sports</td>\n",
       "      <td>41.36</td>\n",
       "      <td>28.96</td>\n",
       "      <td>3.77</td>\n",
       "      <td>8.45</td>\n",
       "      <td>76.0</td>\n",
       "      <td>8</td>\n",
       "      <td>E</td>\n",
       "    </tr>\n",
       "    <tr>\n",
       "      <th>1</th>\n",
       "      <td>Super Mario Bros.</td>\n",
       "      <td>NES</td>\n",
       "      <td>1985.0</td>\n",
       "      <td>Platform</td>\n",
       "      <td>29.08</td>\n",
       "      <td>3.58</td>\n",
       "      <td>6.81</td>\n",
       "      <td>0.77</td>\n",
       "      <td>NaN</td>\n",
       "      <td>NaN</td>\n",
       "      <td>NaN</td>\n",
       "    </tr>\n",
       "    <tr>\n",
       "      <th>2</th>\n",
       "      <td>Mario Kart Wii</td>\n",
       "      <td>Wii</td>\n",
       "      <td>2008.0</td>\n",
       "      <td>Racing</td>\n",
       "      <td>15.68</td>\n",
       "      <td>12.76</td>\n",
       "      <td>3.79</td>\n",
       "      <td>3.29</td>\n",
       "      <td>82.0</td>\n",
       "      <td>8.3</td>\n",
       "      <td>E</td>\n",
       "    </tr>\n",
       "    <tr>\n",
       "      <th>3</th>\n",
       "      <td>Wii Sports Resort</td>\n",
       "      <td>Wii</td>\n",
       "      <td>2009.0</td>\n",
       "      <td>Sports</td>\n",
       "      <td>15.61</td>\n",
       "      <td>10.93</td>\n",
       "      <td>3.28</td>\n",
       "      <td>2.95</td>\n",
       "      <td>80.0</td>\n",
       "      <td>8</td>\n",
       "      <td>E</td>\n",
       "    </tr>\n",
       "    <tr>\n",
       "      <th>4</th>\n",
       "      <td>Pokemon Red/Pokemon Blue</td>\n",
       "      <td>GB</td>\n",
       "      <td>1996.0</td>\n",
       "      <td>Role-Playing</td>\n",
       "      <td>11.27</td>\n",
       "      <td>8.89</td>\n",
       "      <td>10.22</td>\n",
       "      <td>1.00</td>\n",
       "      <td>NaN</td>\n",
       "      <td>NaN</td>\n",
       "      <td>NaN</td>\n",
       "    </tr>\n",
       "    <tr>\n",
       "      <th>...</th>\n",
       "      <td>...</td>\n",
       "      <td>...</td>\n",
       "      <td>...</td>\n",
       "      <td>...</td>\n",
       "      <td>...</td>\n",
       "      <td>...</td>\n",
       "      <td>...</td>\n",
       "      <td>...</td>\n",
       "      <td>...</td>\n",
       "      <td>...</td>\n",
       "      <td>...</td>\n",
       "    </tr>\n",
       "    <tr>\n",
       "      <th>16710</th>\n",
       "      <td>Samurai Warriors: Sanada Maru</td>\n",
       "      <td>PS3</td>\n",
       "      <td>2016.0</td>\n",
       "      <td>Action</td>\n",
       "      <td>0.00</td>\n",
       "      <td>0.00</td>\n",
       "      <td>0.01</td>\n",
       "      <td>0.00</td>\n",
       "      <td>NaN</td>\n",
       "      <td>NaN</td>\n",
       "      <td>NaN</td>\n",
       "    </tr>\n",
       "    <tr>\n",
       "      <th>16711</th>\n",
       "      <td>LMA Manager 2007</td>\n",
       "      <td>X360</td>\n",
       "      <td>2006.0</td>\n",
       "      <td>Sports</td>\n",
       "      <td>0.00</td>\n",
       "      <td>0.01</td>\n",
       "      <td>0.00</td>\n",
       "      <td>0.00</td>\n",
       "      <td>NaN</td>\n",
       "      <td>NaN</td>\n",
       "      <td>NaN</td>\n",
       "    </tr>\n",
       "    <tr>\n",
       "      <th>16712</th>\n",
       "      <td>Haitaka no Psychedelica</td>\n",
       "      <td>PSV</td>\n",
       "      <td>2016.0</td>\n",
       "      <td>Adventure</td>\n",
       "      <td>0.00</td>\n",
       "      <td>0.00</td>\n",
       "      <td>0.01</td>\n",
       "      <td>0.00</td>\n",
       "      <td>NaN</td>\n",
       "      <td>NaN</td>\n",
       "      <td>NaN</td>\n",
       "    </tr>\n",
       "    <tr>\n",
       "      <th>16713</th>\n",
       "      <td>Spirits &amp; Spells</td>\n",
       "      <td>GBA</td>\n",
       "      <td>2003.0</td>\n",
       "      <td>Platform</td>\n",
       "      <td>0.01</td>\n",
       "      <td>0.00</td>\n",
       "      <td>0.00</td>\n",
       "      <td>0.00</td>\n",
       "      <td>NaN</td>\n",
       "      <td>NaN</td>\n",
       "      <td>NaN</td>\n",
       "    </tr>\n",
       "    <tr>\n",
       "      <th>16714</th>\n",
       "      <td>Winning Post 8 2016</td>\n",
       "      <td>PSV</td>\n",
       "      <td>2016.0</td>\n",
       "      <td>Simulation</td>\n",
       "      <td>0.00</td>\n",
       "      <td>0.00</td>\n",
       "      <td>0.01</td>\n",
       "      <td>0.00</td>\n",
       "      <td>NaN</td>\n",
       "      <td>NaN</td>\n",
       "      <td>NaN</td>\n",
       "    </tr>\n",
       "  </tbody>\n",
       "</table>\n",
       "<p>16715 rows × 11 columns</p>\n",
       "</div>"
      ],
      "text/plain": [
       "                                Name Platform  Year_of_Release         Genre  \\\n",
       "0                         Wii Sports      Wii           2006.0        Sports   \n",
       "1                  Super Mario Bros.      NES           1985.0      Platform   \n",
       "2                     Mario Kart Wii      Wii           2008.0        Racing   \n",
       "3                  Wii Sports Resort      Wii           2009.0        Sports   \n",
       "4           Pokemon Red/Pokemon Blue       GB           1996.0  Role-Playing   \n",
       "...                              ...      ...              ...           ...   \n",
       "16710  Samurai Warriors: Sanada Maru      PS3           2016.0        Action   \n",
       "16711               LMA Manager 2007     X360           2006.0        Sports   \n",
       "16712        Haitaka no Psychedelica      PSV           2016.0     Adventure   \n",
       "16713               Spirits & Spells      GBA           2003.0      Platform   \n",
       "16714            Winning Post 8 2016      PSV           2016.0    Simulation   \n",
       "\n",
       "       NA_sales  EU_sales  JP_sales  Other_sales  Critic_Score User_Score  \\\n",
       "0         41.36     28.96      3.77         8.45          76.0          8   \n",
       "1         29.08      3.58      6.81         0.77           NaN        NaN   \n",
       "2         15.68     12.76      3.79         3.29          82.0        8.3   \n",
       "3         15.61     10.93      3.28         2.95          80.0          8   \n",
       "4         11.27      8.89     10.22         1.00           NaN        NaN   \n",
       "...         ...       ...       ...          ...           ...        ...   \n",
       "16710      0.00      0.00      0.01         0.00           NaN        NaN   \n",
       "16711      0.00      0.01      0.00         0.00           NaN        NaN   \n",
       "16712      0.00      0.00      0.01         0.00           NaN        NaN   \n",
       "16713      0.01      0.00      0.00         0.00           NaN        NaN   \n",
       "16714      0.00      0.00      0.01         0.00           NaN        NaN   \n",
       "\n",
       "      Rating  \n",
       "0          E  \n",
       "1        NaN  \n",
       "2          E  \n",
       "3          E  \n",
       "4        NaN  \n",
       "...      ...  \n",
       "16710    NaN  \n",
       "16711    NaN  \n",
       "16712    NaN  \n",
       "16713    NaN  \n",
       "16714    NaN  \n",
       "\n",
       "[16715 rows x 11 columns]"
      ]
     },
     "execution_count": 9,
     "metadata": {},
     "output_type": "execute_result"
    }
   ],
   "source": [
    "df_gaming"
   ]
  },
  {
   "cell_type": "markdown",
   "metadata": {},
   "source": [
    "# Step 2 Prepare the data"
   ]
  },
  {
   "cell_type": "code",
   "execution_count": 10,
   "metadata": {},
   "outputs": [],
   "source": [
    "df_gaming.columns= df_gaming.columns.str.lower()"
   ]
  },
  {
   "cell_type": "code",
   "execution_count": 11,
   "metadata": {},
   "outputs": [
    {
     "name": "stdout",
     "output_type": "stream",
     "text": [
      "<class 'pandas.core.frame.DataFrame'>\n",
      "RangeIndex: 16715 entries, 0 to 16714\n",
      "Data columns (total 11 columns):\n",
      " #   Column           Non-Null Count  Dtype  \n",
      "---  ------           --------------  -----  \n",
      " 0   name             16713 non-null  object \n",
      " 1   platform         16715 non-null  object \n",
      " 2   year_of_release  16446 non-null  float64\n",
      " 3   genre            16713 non-null  object \n",
      " 4   na_sales         16715 non-null  float64\n",
      " 5   eu_sales         16715 non-null  float64\n",
      " 6   jp_sales         16715 non-null  float64\n",
      " 7   other_sales      16715 non-null  float64\n",
      " 8   critic_score     8137 non-null   float64\n",
      " 9   user_score       10014 non-null  object \n",
      " 10  rating           9949 non-null   object \n",
      "dtypes: float64(6), object(5)\n",
      "memory usage: 1.4+ MB\n"
     ]
    }
   ],
   "source": [
    "df_gaming.info()"
   ]
  },
  {
   "cell_type": "code",
   "execution_count": 12,
   "metadata": {},
   "outputs": [],
   "source": [
    "df_gaming['user_score'] = pd.to_numeric(df_gaming['user_score'], errors='coerce')"
   ]
  },
  {
   "cell_type": "code",
   "execution_count": 13,
   "metadata": {},
   "outputs": [],
   "source": [
    "df_gaming['user_score'] = df_gaming['user_score'].astype(float)"
   ]
  },
  {
   "cell_type": "code",
   "execution_count": 14,
   "metadata": {},
   "outputs": [],
   "source": [
    "# df_gaming['critic_score'].fillna(0, inplace=True)"
   ]
  },
  {
   "cell_type": "code",
   "execution_count": 15,
   "metadata": {},
   "outputs": [
    {
     "name": "stdout",
     "output_type": "stream",
     "text": [
      "<class 'pandas.core.frame.DataFrame'>\n",
      "Index: 16446 entries, 0 to 16714\n",
      "Data columns (total 11 columns):\n",
      " #   Column           Non-Null Count  Dtype  \n",
      "---  ------           --------------  -----  \n",
      " 0   name             16444 non-null  object \n",
      " 1   platform         16446 non-null  object \n",
      " 2   year_of_release  16446 non-null  int32  \n",
      " 3   genre            16444 non-null  object \n",
      " 4   na_sales         16446 non-null  float64\n",
      " 5   eu_sales         16446 non-null  float64\n",
      " 6   jp_sales         16446 non-null  float64\n",
      " 7   other_sales      16446 non-null  float64\n",
      " 8   critic_score     7983 non-null   float64\n",
      " 9   user_score       7463 non-null   float64\n",
      " 10  rating           9768 non-null   object \n",
      "dtypes: float64(6), int32(1), object(4)\n",
      "memory usage: 1.4+ MB\n"
     ]
    }
   ],
   "source": [
    "df_gaming.dropna(subset=['year_of_release'], inplace=True)\n",
    "df_gaming['year_of_release'] = df_gaming['year_of_release'].astype('int')\n",
    "df_gaming.info()"
   ]
  },
  {
   "cell_type": "code",
   "execution_count": 16,
   "metadata": {},
   "outputs": [],
   "source": [
    "# df_gaming['user_score'].fillna(0, inplace=True)\n"
   ]
  },
  {
   "cell_type": "code",
   "execution_count": 17,
   "metadata": {},
   "outputs": [
    {
     "name": "stderr",
     "output_type": "stream",
     "text": [
      "C:\\Users\\kpina\\AppData\\Local\\Temp\\ipykernel_3280\\2299601053.py:1: FutureWarning: A value is trying to be set on a copy of a DataFrame or Series through chained assignment using an inplace method.\n",
      "The behavior will change in pandas 3.0. This inplace method will never work because the intermediate object on which we are setting values always behaves as a copy.\n",
      "\n",
      "For example, when doing 'df[col].method(value, inplace=True)', try using 'df.method({col: value}, inplace=True)' or df[col] = df[col].method(value) instead, to perform the operation inplace on the original object.\n",
      "\n",
      "\n",
      "  df_gaming['rating'].fillna('Not Rated', inplace=True)\n"
     ]
    }
   ],
   "source": [
    "df_gaming['rating'].fillna('Not Rated', inplace=True)\n",
    "df_gaming = df_gaming.dropna(subset=['name', 'genre'])"
   ]
  },
  {
   "cell_type": "code",
   "execution_count": 18,
   "metadata": {},
   "outputs": [
    {
     "data": {
      "text/plain": [
       "name                  0\n",
       "platform              0\n",
       "year_of_release       0\n",
       "genre                 0\n",
       "na_sales              0\n",
       "eu_sales              0\n",
       "jp_sales              0\n",
       "other_sales           0\n",
       "critic_score       8461\n",
       "user_score         8981\n",
       "rating                0\n",
       "dtype: int64"
      ]
     },
     "execution_count": 18,
     "metadata": {},
     "output_type": "execute_result"
    }
   ],
   "source": [
    "df_gaming.isnull().sum()"
   ]
  },
  {
   "cell_type": "markdown",
   "metadata": {},
   "source": [
    "I performed the essential data preprocessing steps to clean and prepare the dataset for further analysis. The column names were converted to lowercase, the missing values were analyzed. For year_of_release it was initially stored as an object (string), this column was converted to Int64 to ensure numerical operations. For user_score column was originally stored as an object likely due to non-numeric values it was first converted to numeric using pd.to_numeric() with errors='coerce', which replaces non-numeric values (such as \"TBD\") with NaN than it was converted to float to maintain decimal precision in scoring."
   ]
  },
  {
   "cell_type": "markdown",
   "metadata": {},
   "source": [
    "For critic_score and user_score the missing values were filled with 0. this ensures for critic_score the numerical consistency and avoids issues in aggregation as the missing scores might show absence in review rather than an error in the data. For user_score 0 represents an absent rating or placeholder for missing reviews."
   ]
  },
  {
   "cell_type": "markdown",
   "metadata": {},
   "source": [
    "For rating the missing values were replaced with 'Not Rated' if the game doesn't show ratings its clear to label it rather than leaving it blank. For name and genre the rows that were missing values were removed. The Missing values likely indicate incomplete or incorrect records. The possible reasons for missing values is due to either lack of data collection, data entry errors, and unreleased TBD titles"
   ]
  },
  {
   "cell_type": "markdown",
   "metadata": {},
   "source": [
    "\"TBD\" was converted to NaN, then filled with 0. A game marked as \"TBD\" means it hasn't been rated yet, so treating it as 0 ensures consistency. "
   ]
  },
  {
   "cell_type": "code",
   "execution_count": 19,
   "metadata": {
    "scrolled": true
   },
   "outputs": [
    {
     "name": "stderr",
     "output_type": "stream",
     "text": [
      "C:\\Users\\kpina\\AppData\\Local\\Temp\\ipykernel_3280\\3953266036.py:1: SettingWithCopyWarning: \n",
      "A value is trying to be set on a copy of a slice from a DataFrame.\n",
      "Try using .loc[row_indexer,col_indexer] = value instead\n",
      "\n",
      "See the caveats in the documentation: https://pandas.pydata.org/pandas-docs/stable/user_guide/indexing.html#returning-a-view-versus-a-copy\n",
      "  df_gaming['total_sales']=df_gaming[['na_sales', 'eu_sales', 'jp_sales', 'other_sales']].sum(axis=1)\n"
     ]
    },
    {
     "data": {
      "text/html": [
       "<div>\n",
       "<style scoped>\n",
       "    .dataframe tbody tr th:only-of-type {\n",
       "        vertical-align: middle;\n",
       "    }\n",
       "\n",
       "    .dataframe tbody tr th {\n",
       "        vertical-align: top;\n",
       "    }\n",
       "\n",
       "    .dataframe thead th {\n",
       "        text-align: right;\n",
       "    }\n",
       "</style>\n",
       "<table border=\"1\" class=\"dataframe\">\n",
       "  <thead>\n",
       "    <tr style=\"text-align: right;\">\n",
       "      <th></th>\n",
       "      <th>name</th>\n",
       "      <th>platform</th>\n",
       "      <th>year_of_release</th>\n",
       "      <th>genre</th>\n",
       "      <th>na_sales</th>\n",
       "      <th>eu_sales</th>\n",
       "      <th>jp_sales</th>\n",
       "      <th>other_sales</th>\n",
       "      <th>critic_score</th>\n",
       "      <th>user_score</th>\n",
       "      <th>rating</th>\n",
       "      <th>total_sales</th>\n",
       "    </tr>\n",
       "  </thead>\n",
       "  <tbody>\n",
       "    <tr>\n",
       "      <th>0</th>\n",
       "      <td>Wii Sports</td>\n",
       "      <td>Wii</td>\n",
       "      <td>2006</td>\n",
       "      <td>Sports</td>\n",
       "      <td>41.36</td>\n",
       "      <td>28.96</td>\n",
       "      <td>3.77</td>\n",
       "      <td>8.45</td>\n",
       "      <td>76.0</td>\n",
       "      <td>8.0</td>\n",
       "      <td>E</td>\n",
       "      <td>82.54</td>\n",
       "    </tr>\n",
       "    <tr>\n",
       "      <th>1</th>\n",
       "      <td>Super Mario Bros.</td>\n",
       "      <td>NES</td>\n",
       "      <td>1985</td>\n",
       "      <td>Platform</td>\n",
       "      <td>29.08</td>\n",
       "      <td>3.58</td>\n",
       "      <td>6.81</td>\n",
       "      <td>0.77</td>\n",
       "      <td>NaN</td>\n",
       "      <td>NaN</td>\n",
       "      <td>Not Rated</td>\n",
       "      <td>40.24</td>\n",
       "    </tr>\n",
       "    <tr>\n",
       "      <th>2</th>\n",
       "      <td>Mario Kart Wii</td>\n",
       "      <td>Wii</td>\n",
       "      <td>2008</td>\n",
       "      <td>Racing</td>\n",
       "      <td>15.68</td>\n",
       "      <td>12.76</td>\n",
       "      <td>3.79</td>\n",
       "      <td>3.29</td>\n",
       "      <td>82.0</td>\n",
       "      <td>8.3</td>\n",
       "      <td>E</td>\n",
       "      <td>35.52</td>\n",
       "    </tr>\n",
       "    <tr>\n",
       "      <th>3</th>\n",
       "      <td>Wii Sports Resort</td>\n",
       "      <td>Wii</td>\n",
       "      <td>2009</td>\n",
       "      <td>Sports</td>\n",
       "      <td>15.61</td>\n",
       "      <td>10.93</td>\n",
       "      <td>3.28</td>\n",
       "      <td>2.95</td>\n",
       "      <td>80.0</td>\n",
       "      <td>8.0</td>\n",
       "      <td>E</td>\n",
       "      <td>32.77</td>\n",
       "    </tr>\n",
       "    <tr>\n",
       "      <th>4</th>\n",
       "      <td>Pokemon Red/Pokemon Blue</td>\n",
       "      <td>GB</td>\n",
       "      <td>1996</td>\n",
       "      <td>Role-Playing</td>\n",
       "      <td>11.27</td>\n",
       "      <td>8.89</td>\n",
       "      <td>10.22</td>\n",
       "      <td>1.00</td>\n",
       "      <td>NaN</td>\n",
       "      <td>NaN</td>\n",
       "      <td>Not Rated</td>\n",
       "      <td>31.38</td>\n",
       "    </tr>\n",
       "    <tr>\n",
       "      <th>...</th>\n",
       "      <td>...</td>\n",
       "      <td>...</td>\n",
       "      <td>...</td>\n",
       "      <td>...</td>\n",
       "      <td>...</td>\n",
       "      <td>...</td>\n",
       "      <td>...</td>\n",
       "      <td>...</td>\n",
       "      <td>...</td>\n",
       "      <td>...</td>\n",
       "      <td>...</td>\n",
       "      <td>...</td>\n",
       "    </tr>\n",
       "    <tr>\n",
       "      <th>16710</th>\n",
       "      <td>Samurai Warriors: Sanada Maru</td>\n",
       "      <td>PS3</td>\n",
       "      <td>2016</td>\n",
       "      <td>Action</td>\n",
       "      <td>0.00</td>\n",
       "      <td>0.00</td>\n",
       "      <td>0.01</td>\n",
       "      <td>0.00</td>\n",
       "      <td>NaN</td>\n",
       "      <td>NaN</td>\n",
       "      <td>Not Rated</td>\n",
       "      <td>0.01</td>\n",
       "    </tr>\n",
       "    <tr>\n",
       "      <th>16711</th>\n",
       "      <td>LMA Manager 2007</td>\n",
       "      <td>X360</td>\n",
       "      <td>2006</td>\n",
       "      <td>Sports</td>\n",
       "      <td>0.00</td>\n",
       "      <td>0.01</td>\n",
       "      <td>0.00</td>\n",
       "      <td>0.00</td>\n",
       "      <td>NaN</td>\n",
       "      <td>NaN</td>\n",
       "      <td>Not Rated</td>\n",
       "      <td>0.01</td>\n",
       "    </tr>\n",
       "    <tr>\n",
       "      <th>16712</th>\n",
       "      <td>Haitaka no Psychedelica</td>\n",
       "      <td>PSV</td>\n",
       "      <td>2016</td>\n",
       "      <td>Adventure</td>\n",
       "      <td>0.00</td>\n",
       "      <td>0.00</td>\n",
       "      <td>0.01</td>\n",
       "      <td>0.00</td>\n",
       "      <td>NaN</td>\n",
       "      <td>NaN</td>\n",
       "      <td>Not Rated</td>\n",
       "      <td>0.01</td>\n",
       "    </tr>\n",
       "    <tr>\n",
       "      <th>16713</th>\n",
       "      <td>Spirits &amp; Spells</td>\n",
       "      <td>GBA</td>\n",
       "      <td>2003</td>\n",
       "      <td>Platform</td>\n",
       "      <td>0.01</td>\n",
       "      <td>0.00</td>\n",
       "      <td>0.00</td>\n",
       "      <td>0.00</td>\n",
       "      <td>NaN</td>\n",
       "      <td>NaN</td>\n",
       "      <td>Not Rated</td>\n",
       "      <td>0.01</td>\n",
       "    </tr>\n",
       "    <tr>\n",
       "      <th>16714</th>\n",
       "      <td>Winning Post 8 2016</td>\n",
       "      <td>PSV</td>\n",
       "      <td>2016</td>\n",
       "      <td>Simulation</td>\n",
       "      <td>0.00</td>\n",
       "      <td>0.00</td>\n",
       "      <td>0.01</td>\n",
       "      <td>0.00</td>\n",
       "      <td>NaN</td>\n",
       "      <td>NaN</td>\n",
       "      <td>Not Rated</td>\n",
       "      <td>0.01</td>\n",
       "    </tr>\n",
       "  </tbody>\n",
       "</table>\n",
       "<p>16444 rows × 12 columns</p>\n",
       "</div>"
      ],
      "text/plain": [
       "                                name platform  year_of_release         genre  \\\n",
       "0                         Wii Sports      Wii             2006        Sports   \n",
       "1                  Super Mario Bros.      NES             1985      Platform   \n",
       "2                     Mario Kart Wii      Wii             2008        Racing   \n",
       "3                  Wii Sports Resort      Wii             2009        Sports   \n",
       "4           Pokemon Red/Pokemon Blue       GB             1996  Role-Playing   \n",
       "...                              ...      ...              ...           ...   \n",
       "16710  Samurai Warriors: Sanada Maru      PS3             2016        Action   \n",
       "16711               LMA Manager 2007     X360             2006        Sports   \n",
       "16712        Haitaka no Psychedelica      PSV             2016     Adventure   \n",
       "16713               Spirits & Spells      GBA             2003      Platform   \n",
       "16714            Winning Post 8 2016      PSV             2016    Simulation   \n",
       "\n",
       "       na_sales  eu_sales  jp_sales  other_sales  critic_score  user_score  \\\n",
       "0         41.36     28.96      3.77         8.45          76.0         8.0   \n",
       "1         29.08      3.58      6.81         0.77           NaN         NaN   \n",
       "2         15.68     12.76      3.79         3.29          82.0         8.3   \n",
       "3         15.61     10.93      3.28         2.95          80.0         8.0   \n",
       "4         11.27      8.89     10.22         1.00           NaN         NaN   \n",
       "...         ...       ...       ...          ...           ...         ...   \n",
       "16710      0.00      0.00      0.01         0.00           NaN         NaN   \n",
       "16711      0.00      0.01      0.00         0.00           NaN         NaN   \n",
       "16712      0.00      0.00      0.01         0.00           NaN         NaN   \n",
       "16713      0.01      0.00      0.00         0.00           NaN         NaN   \n",
       "16714      0.00      0.00      0.01         0.00           NaN         NaN   \n",
       "\n",
       "          rating  total_sales  \n",
       "0              E        82.54  \n",
       "1      Not Rated        40.24  \n",
       "2              E        35.52  \n",
       "3              E        32.77  \n",
       "4      Not Rated        31.38  \n",
       "...          ...          ...  \n",
       "16710  Not Rated         0.01  \n",
       "16711  Not Rated         0.01  \n",
       "16712  Not Rated         0.01  \n",
       "16713  Not Rated         0.01  \n",
       "16714  Not Rated         0.01  \n",
       "\n",
       "[16444 rows x 12 columns]"
      ]
     },
     "execution_count": 19,
     "metadata": {},
     "output_type": "execute_result"
    }
   ],
   "source": [
    "df_gaming['total_sales']=df_gaming[['na_sales', 'eu_sales', 'jp_sales', 'other_sales']].sum(axis=1)\n",
    "df_gaming"
   ]
  },
  {
   "cell_type": "markdown",
   "metadata": {},
   "source": [
    "I calculated the total sales for each game by summing sales across each region. The sum (axis=1) function ensures the summation is done row wise adding the values for each game"
   ]
  },
  {
   "cell_type": "code",
   "execution_count": 20,
   "metadata": {},
   "outputs": [
    {
     "data": {
      "text/html": [
       "<div>\n",
       "<style scoped>\n",
       "    .dataframe tbody tr th:only-of-type {\n",
       "        vertical-align: middle;\n",
       "    }\n",
       "\n",
       "    .dataframe tbody tr th {\n",
       "        vertical-align: top;\n",
       "    }\n",
       "\n",
       "    .dataframe thead th {\n",
       "        text-align: right;\n",
       "    }\n",
       "</style>\n",
       "<table border=\"1\" class=\"dataframe\">\n",
       "  <thead>\n",
       "    <tr style=\"text-align: right;\">\n",
       "      <th></th>\n",
       "      <th>name</th>\n",
       "      <th>platform</th>\n",
       "      <th>year_of_release</th>\n",
       "      <th>genre</th>\n",
       "      <th>na_sales</th>\n",
       "      <th>eu_sales</th>\n",
       "      <th>jp_sales</th>\n",
       "      <th>other_sales</th>\n",
       "      <th>critic_score</th>\n",
       "      <th>user_score</th>\n",
       "      <th>rating</th>\n",
       "      <th>total_sales</th>\n",
       "    </tr>\n",
       "  </thead>\n",
       "  <tbody>\n",
       "    <tr>\n",
       "      <th>15957</th>\n",
       "      <td>Strongest Tokyo University Shogi DS</td>\n",
       "      <td>DS</td>\n",
       "      <td>1985</td>\n",
       "      <td>Action</td>\n",
       "      <td>0.0</td>\n",
       "      <td>0.0</td>\n",
       "      <td>0.02</td>\n",
       "      <td>0.0</td>\n",
       "      <td>NaN</td>\n",
       "      <td>NaN</td>\n",
       "      <td>Not Rated</td>\n",
       "      <td>0.02</td>\n",
       "    </tr>\n",
       "  </tbody>\n",
       "</table>\n",
       "</div>"
      ],
      "text/plain": [
       "                                      name platform  year_of_release   genre  \\\n",
       "15957  Strongest Tokyo University Shogi DS       DS             1985  Action   \n",
       "\n",
       "       na_sales  eu_sales  jp_sales  other_sales  critic_score  user_score  \\\n",
       "15957       0.0       0.0      0.02          0.0           NaN         NaN   \n",
       "\n",
       "          rating  total_sales  \n",
       "15957  Not Rated         0.02  "
      ]
     },
     "metadata": {},
     "output_type": "display_data"
    }
   ],
   "source": [
    "display(df_gaming[(df_gaming['platform'] == 'DS') & (df_gaming['year_of_release'] < 2004)])\n",
    "df_gaming = df_gaming[~((df_gaming['platform'] == 'DS') & (df_gaming['year_of_release'] < 2004))]"
   ]
  },
  {
   "cell_type": "markdown",
   "metadata": {},
   "source": [
    "I filtered the data to show only games released on Nintendo DS platform before 2004, I removed all rows where the DS platform release year thats before 2004 using the tilde(~). I removed the entries for df_gaming because DS was offially release in 2004 making those data points incorrect."
   ]
  },
  {
   "cell_type": "code",
   "execution_count": 21,
   "metadata": {},
   "outputs": [
    {
     "data": {
      "text/plain": [
       "0"
      ]
     },
     "execution_count": 21,
     "metadata": {},
     "output_type": "execute_result"
    }
   ],
   "source": [
    "gaming_duplicates=df_gaming.duplicated().sum()\n",
    "gaming_duplicates"
   ]
  },
  {
   "cell_type": "markdown",
   "metadata": {},
   "source": [
    "Ran this code to verify if there were any duplicates and the results were 0"
   ]
  },
  {
   "cell_type": "markdown",
   "metadata": {},
   "source": [
    "In conclusion the data preprocessing included column names that were standardized to lowercase for consistency, cleaning missing values, converting data types, and ensuring numerical consistency, followed by removing incorrect records (such as pre-2004 DS games) and checking for duplicates, resulting in a refined dataset ready for analysis while preserving data integrity."
   ]
  },
  {
   "cell_type": "markdown",
   "metadata": {},
   "source": [
    "# Step 3 Analyze the data"
   ]
  },
  {
   "cell_type": "code",
   "execution_count": 22,
   "metadata": {},
   "outputs": [],
   "source": [
    "games_per_year= df_gaming['year_of_release'].value_counts().sort_index()"
   ]
  },
  {
   "cell_type": "markdown",
   "metadata": {},
   "source": [
    "For this function I used values_counts to count how many games were released each year and used sort_index to insure the years are in chronological order for proper visualization."
   ]
  },
  {
   "cell_type": "code",
   "execution_count": 23,
   "metadata": {},
   "outputs": [
    {
     "data": {
      "image/png": "[encoded data removed]",
      "text/plain": [
       "<Figure size 1000x600 with 1 Axes>"
      ]
     },
     "metadata": {},
     "output_type": "display_data"
    }
   ],
   "source": [
    "plt.figure(figsize=(10, 6))\n",
    "games_per_year.plot()\n",
    "plt.title('Number of Games Release per Year')\n",
    "plt.xlabel('Year')\n",
    "plt.ylabel('Number of Games')\n",
    "plt.grid(axis='y')\n",
    "plt.show()"
   ]
  },
  {
   "cell_type": "markdown",
   "metadata": {},
   "source": [
    "A Line graph was used to visualise the number of video games per year over time. The graph shows the rise and fall of video games releases which shows it peaked around 2008 and decline afterwards."
   ]
  },
  {
   "cell_type": "code",
   "execution_count": 24,
   "metadata": {},
   "outputs": [
    {
     "data": {
      "text/plain": [
       "platform\n",
       "PS2     1233.56\n",
       "X360     961.24\n",
       "PS3      931.34\n",
       "Wii      891.18\n",
       "DS       802.76\n",
       "Name: total_sales, dtype: float64"
      ]
     },
     "execution_count": 24,
     "metadata": {},
     "output_type": "execute_result"
    }
   ],
   "source": [
    "platform_sales = df_gaming.groupby('platform')['total_sales'].sum().sort_values(ascending=False)\n",
    "platform_sales.head()"
   ]
  },
  {
   "cell_type": "code",
   "execution_count": 25,
   "metadata": {},
   "outputs": [
    {
     "data": {
      "text/plain": [
       "Index(['PS2', 'X360', 'PS3', 'Wii', 'DS'], dtype='object', name='platform')"
      ]
     },
     "execution_count": 25,
     "metadata": {},
     "output_type": "execute_result"
    }
   ],
   "source": [
    "top_platforms= platform_sales.head(5).index\n",
    "top_platforms"
   ]
  },
  {
   "cell_type": "markdown",
   "metadata": {},
   "source": [
    "df_gaming is grouped by the platform column, the total sales for each platform are summed up and the platform are sorted in decending order based on total sales.The goal of this code is to determine the top 5 gaming platform based on totl sales."
   ]
  },
  {
   "cell_type": "code",
   "execution_count": 26,
   "metadata": {},
   "outputs": [
    {
     "data": {
      "image/png": "[encoded data removed]",
      "text/plain": [
       "<Figure size 1000x600 with 1 Axes>"
      ]
     },
     "metadata": {},
     "output_type": "display_data"
    }
   ],
   "source": [
    "plt.figure(figsize=(10, 6))\n",
    "for platform in top_platforms:\n",
    "    #print(platform)\n",
    "    sales_data = df_gaming[df_gaming['platform'] == platform].groupby('year_of_release')['total_sales'].sum()\n",
    "    # print(sales_data)\n",
    "    # if not sales_data.empty:\n",
    "    plt.plot(sales_data.index, sales_data.values, label=platform)\n",
    "plt.title('Sales Distribution Over the Years')\n",
    "plt.xlabel('Year')\n",
    "plt.ylabel('Total Sales(by the millions USD)')\n",
    "plt.legend()\n",
    "plt.grid(True)\n",
    "plt.show()"
   ]
  },
  {
   "cell_type": "markdown",
   "metadata": {},
   "source": [
    "Most gaming platforms take around 3-5 years to reach peak sales, maintain high sales for 5-8 years, and decline over 3-6 years, resulting in an average lifespan of 10-15 years before becoming obsolete."
   ]
  },
  {
   "cell_type": "code",
   "execution_count": 27,
   "metadata": {},
   "outputs": [
    {
     "data": {
      "text/html": [
       "<div>\n",
       "<style scoped>\n",
       "    .dataframe tbody tr th:only-of-type {\n",
       "        vertical-align: middle;\n",
       "    }\n",
       "\n",
       "    .dataframe tbody tr th {\n",
       "        vertical-align: top;\n",
       "    }\n",
       "\n",
       "    .dataframe thead th {\n",
       "        text-align: right;\n",
       "    }\n",
       "</style>\n",
       "<table border=\"1\" class=\"dataframe\">\n",
       "  <thead>\n",
       "    <tr style=\"text-align: right;\">\n",
       "      <th></th>\n",
       "      <th>name</th>\n",
       "      <th>platform</th>\n",
       "      <th>year_of_release</th>\n",
       "      <th>genre</th>\n",
       "      <th>na_sales</th>\n",
       "      <th>eu_sales</th>\n",
       "      <th>jp_sales</th>\n",
       "      <th>other_sales</th>\n",
       "      <th>critic_score</th>\n",
       "      <th>user_score</th>\n",
       "      <th>rating</th>\n",
       "      <th>total_sales</th>\n",
       "    </tr>\n",
       "  </thead>\n",
       "  <tbody>\n",
       "    <tr>\n",
       "      <th>31</th>\n",
       "      <td>Call of Duty: Black Ops 3</td>\n",
       "      <td>PS4</td>\n",
       "      <td>2015</td>\n",
       "      <td>Shooter</td>\n",
       "      <td>6.03</td>\n",
       "      <td>5.86</td>\n",
       "      <td>0.36</td>\n",
       "      <td>2.38</td>\n",
       "      <td>NaN</td>\n",
       "      <td>NaN</td>\n",
       "      <td>Not Rated</td>\n",
       "      <td>14.63</td>\n",
       "    </tr>\n",
       "    <tr>\n",
       "      <th>42</th>\n",
       "      <td>Grand Theft Auto V</td>\n",
       "      <td>PS4</td>\n",
       "      <td>2014</td>\n",
       "      <td>Action</td>\n",
       "      <td>3.96</td>\n",
       "      <td>6.31</td>\n",
       "      <td>0.38</td>\n",
       "      <td>1.97</td>\n",
       "      <td>97.0</td>\n",
       "      <td>8.3</td>\n",
       "      <td>M</td>\n",
       "      <td>12.62</td>\n",
       "    </tr>\n",
       "    <tr>\n",
       "      <th>47</th>\n",
       "      <td>Pokemon Omega Ruby/Pokemon Alpha Sapphire</td>\n",
       "      <td>3DS</td>\n",
       "      <td>2014</td>\n",
       "      <td>Role-Playing</td>\n",
       "      <td>4.35</td>\n",
       "      <td>3.49</td>\n",
       "      <td>3.10</td>\n",
       "      <td>0.74</td>\n",
       "      <td>NaN</td>\n",
       "      <td>NaN</td>\n",
       "      <td>Not Rated</td>\n",
       "      <td>11.68</td>\n",
       "    </tr>\n",
       "    <tr>\n",
       "      <th>77</th>\n",
       "      <td>FIFA 16</td>\n",
       "      <td>PS4</td>\n",
       "      <td>2015</td>\n",
       "      <td>Sports</td>\n",
       "      <td>1.12</td>\n",
       "      <td>6.12</td>\n",
       "      <td>0.06</td>\n",
       "      <td>1.28</td>\n",
       "      <td>82.0</td>\n",
       "      <td>4.3</td>\n",
       "      <td>E</td>\n",
       "      <td>8.58</td>\n",
       "    </tr>\n",
       "    <tr>\n",
       "      <th>87</th>\n",
       "      <td>Star Wars Battlefront (2015)</td>\n",
       "      <td>PS4</td>\n",
       "      <td>2015</td>\n",
       "      <td>Shooter</td>\n",
       "      <td>2.99</td>\n",
       "      <td>3.49</td>\n",
       "      <td>0.22</td>\n",
       "      <td>1.28</td>\n",
       "      <td>NaN</td>\n",
       "      <td>NaN</td>\n",
       "      <td>Not Rated</td>\n",
       "      <td>7.98</td>\n",
       "    </tr>\n",
       "    <tr>\n",
       "      <th>...</th>\n",
       "      <td>...</td>\n",
       "      <td>...</td>\n",
       "      <td>...</td>\n",
       "      <td>...</td>\n",
       "      <td>...</td>\n",
       "      <td>...</td>\n",
       "      <td>...</td>\n",
       "      <td>...</td>\n",
       "      <td>...</td>\n",
       "      <td>...</td>\n",
       "      <td>...</td>\n",
       "      <td>...</td>\n",
       "    </tr>\n",
       "    <tr>\n",
       "      <th>16703</th>\n",
       "      <td>Strawberry Nauts</td>\n",
       "      <td>PSV</td>\n",
       "      <td>2016</td>\n",
       "      <td>Adventure</td>\n",
       "      <td>0.00</td>\n",
       "      <td>0.00</td>\n",
       "      <td>0.01</td>\n",
       "      <td>0.00</td>\n",
       "      <td>NaN</td>\n",
       "      <td>NaN</td>\n",
       "      <td>Not Rated</td>\n",
       "      <td>0.01</td>\n",
       "    </tr>\n",
       "    <tr>\n",
       "      <th>16707</th>\n",
       "      <td>Aiyoku no Eustia</td>\n",
       "      <td>PSV</td>\n",
       "      <td>2014</td>\n",
       "      <td>Misc</td>\n",
       "      <td>0.00</td>\n",
       "      <td>0.00</td>\n",
       "      <td>0.01</td>\n",
       "      <td>0.00</td>\n",
       "      <td>NaN</td>\n",
       "      <td>NaN</td>\n",
       "      <td>Not Rated</td>\n",
       "      <td>0.01</td>\n",
       "    </tr>\n",
       "    <tr>\n",
       "      <th>16710</th>\n",
       "      <td>Samurai Warriors: Sanada Maru</td>\n",
       "      <td>PS3</td>\n",
       "      <td>2016</td>\n",
       "      <td>Action</td>\n",
       "      <td>0.00</td>\n",
       "      <td>0.00</td>\n",
       "      <td>0.01</td>\n",
       "      <td>0.00</td>\n",
       "      <td>NaN</td>\n",
       "      <td>NaN</td>\n",
       "      <td>Not Rated</td>\n",
       "      <td>0.01</td>\n",
       "    </tr>\n",
       "    <tr>\n",
       "      <th>16712</th>\n",
       "      <td>Haitaka no Psychedelica</td>\n",
       "      <td>PSV</td>\n",
       "      <td>2016</td>\n",
       "      <td>Adventure</td>\n",
       "      <td>0.00</td>\n",
       "      <td>0.00</td>\n",
       "      <td>0.01</td>\n",
       "      <td>0.00</td>\n",
       "      <td>NaN</td>\n",
       "      <td>NaN</td>\n",
       "      <td>Not Rated</td>\n",
       "      <td>0.01</td>\n",
       "    </tr>\n",
       "    <tr>\n",
       "      <th>16714</th>\n",
       "      <td>Winning Post 8 2016</td>\n",
       "      <td>PSV</td>\n",
       "      <td>2016</td>\n",
       "      <td>Simulation</td>\n",
       "      <td>0.00</td>\n",
       "      <td>0.00</td>\n",
       "      <td>0.01</td>\n",
       "      <td>0.00</td>\n",
       "      <td>NaN</td>\n",
       "      <td>NaN</td>\n",
       "      <td>Not Rated</td>\n",
       "      <td>0.01</td>\n",
       "    </tr>\n",
       "  </tbody>\n",
       "</table>\n",
       "<p>1689 rows × 12 columns</p>\n",
       "</div>"
      ],
      "text/plain": [
       "                                            name platform  year_of_release  \\\n",
       "31                     Call of Duty: Black Ops 3      PS4             2015   \n",
       "42                            Grand Theft Auto V      PS4             2014   \n",
       "47     Pokemon Omega Ruby/Pokemon Alpha Sapphire      3DS             2014   \n",
       "77                                       FIFA 16      PS4             2015   \n",
       "87                  Star Wars Battlefront (2015)      PS4             2015   \n",
       "...                                          ...      ...              ...   \n",
       "16703                           Strawberry Nauts      PSV             2016   \n",
       "16707                           Aiyoku no Eustia      PSV             2014   \n",
       "16710              Samurai Warriors: Sanada Maru      PS3             2016   \n",
       "16712                    Haitaka no Psychedelica      PSV             2016   \n",
       "16714                        Winning Post 8 2016      PSV             2016   \n",
       "\n",
       "              genre  na_sales  eu_sales  jp_sales  other_sales  critic_score  \\\n",
       "31          Shooter      6.03      5.86      0.36         2.38           NaN   \n",
       "42           Action      3.96      6.31      0.38         1.97          97.0   \n",
       "47     Role-Playing      4.35      3.49      3.10         0.74           NaN   \n",
       "77           Sports      1.12      6.12      0.06         1.28          82.0   \n",
       "87          Shooter      2.99      3.49      0.22         1.28           NaN   \n",
       "...             ...       ...       ...       ...          ...           ...   \n",
       "16703     Adventure      0.00      0.00      0.01         0.00           NaN   \n",
       "16707          Misc      0.00      0.00      0.01         0.00           NaN   \n",
       "16710        Action      0.00      0.00      0.01         0.00           NaN   \n",
       "16712     Adventure      0.00      0.00      0.01         0.00           NaN   \n",
       "16714    Simulation      0.00      0.00      0.01         0.00           NaN   \n",
       "\n",
       "       user_score     rating  total_sales  \n",
       "31            NaN  Not Rated        14.63  \n",
       "42            8.3          M        12.62  \n",
       "47            NaN  Not Rated        11.68  \n",
       "77            4.3          E         8.58  \n",
       "87            NaN  Not Rated         7.98  \n",
       "...           ...        ...          ...  \n",
       "16703         NaN  Not Rated         0.01  \n",
       "16707         NaN  Not Rated         0.01  \n",
       "16710         NaN  Not Rated         0.01  \n",
       "16712         NaN  Not Rated         0.01  \n",
       "16714         NaN  Not Rated         0.01  \n",
       "\n",
       "[1689 rows x 12 columns]"
      ]
     },
     "execution_count": 27,
     "metadata": {},
     "output_type": "execute_result"
    }
   ],
   "source": [
    "recent_years_data = df_gaming[df_gaming['year_of_release'] >= 2014]\n",
    "recent_years_data"
   ]
  },
  {
   "cell_type": "markdown",
   "metadata": {},
   "source": [
    "df_gaming is filtered to include only games the were release from 2014 or later from 'year_of_release' and the subset was stored in recent_years_data."
   ]
  },
  {
   "cell_type": "code",
   "execution_count": 28,
   "metadata": {},
   "outputs": [
    {
     "name": "stdout",
     "output_type": "stream",
     "text": [
      "platform\n",
      "PS4     288.15\n",
      "XOne    140.36\n",
      "3DS      86.68\n",
      "PS3      68.18\n",
      "X360     48.22\n",
      "WiiU     42.98\n",
      "PC       27.05\n",
      "PSV      22.40\n",
      "Wii       5.07\n",
      "PSP       0.36\n",
      "Name: total_sales, dtype: float64\n"
     ]
    }
   ],
   "source": [
    "platform_totals= recent_years_data.groupby('platform')['total_sales'].sum()\n",
    "print(platform_totals.sort_values(ascending=False))"
   ]
  },
  {
   "cell_type": "markdown",
   "metadata": {},
   "source": [
    "recent_years_data is grouped by the platform column, the total sales for each platform are summed up and the platform are sorted in ascending order based on total sales."
   ]
  },
  {
   "cell_type": "code",
   "execution_count": 29,
   "metadata": {},
   "outputs": [
    {
     "data": {
      "image/png": "[encoded data removed]",
      "text/plain": [
       "<Figure size 1200x600 with 1 Axes>"
      ]
     },
     "metadata": {},
     "output_type": "display_data"
    }
   ],
   "source": [
    "plt.figure(figsize=(12, 6))\n",
    "sns.boxplot(x='platform', y='total_sales', data=recent_years_data, showfliers=False)\n",
    "# plt.ylim(0,2)\n",
    "plt.title('Total sales by Platform')\n",
    "plt.xticks(rotation=50)\n",
    "plt.show()"
   ]
  },
  {
   "cell_type": "markdown",
   "metadata": {},
   "source": [
    "A boxplot graph is shown here to help analyze the distribution of total sales across different platforms it shows the median sales which is the centerline in each box, the interquartile range which is the box size. This helps understand the gaming market in 2014. "
   ]
  },
  {
   "cell_type": "code",
   "execution_count": 30,
   "metadata": {},
   "outputs": [],
   "source": [
    "platform_score_sales = recent_years_data.copy()\n",
    "platform_score_sales = platform_score_sales[(platform_score_sales['critic_score'] != 0) & (platform_score_sales['user_score'] != 0)]\n",
    "platform_score_sales['user_score']= platform_score_sales['user_score'] * 10\n"
   ]
  },
  {
   "cell_type": "markdown",
   "metadata": {},
   "source": [
    "For these functions recent_years_data was copied to avoid modifying the original data. the datset if filtered to remove games with missing (0) critic_scores and user_scores. The user_score column is multiplied by 10 because the user_score datasets are stored on a scale from 0-10 while critic_score are 0-100."
   ]
  },
  {
   "cell_type": "code",
   "execution_count": 31,
   "metadata": {},
   "outputs": [
    {
     "data": {
      "image/png": "[encoded data removed]",
      "text/plain": [
       "<Figure size 1200x500 with 1 Axes>"
      ]
     },
     "metadata": {},
     "output_type": "display_data"
    }
   ],
   "source": [
    "platform= platform_score_sales[platform_score_sales['platform'] == 'PS4']\n",
    "\n",
    "plt.figure(figsize=(12, 5))\n",
    "\n",
    "plt.scatter(platform['user_score'], platform['total_sales'], alpha=0.50, label=\"User Score\")\n",
    "plt.scatter(platform['critic_score'], platform['total_sales'], alpha=0.50, label=\"Critic Score\")\n",
    "plt.title('User Score vs. Total Sales PS4')\n",
    "plt.xlabel('User Score')\n",
    "plt.ylabel('Total Sales')\n",
    "plt.legend()\n",
    "plt.show()\n"
   ]
  },
  {
   "cell_type": "code",
   "execution_count": 32,
   "metadata": {},
   "outputs": [
    {
     "data": {
      "image/png": "[encoded data removed]",
      "text/plain": [
       "<Figure size 1200x500 with 1 Axes>"
      ]
     },
     "metadata": {},
     "output_type": "display_data"
    }
   ],
   "source": [
    "platform= platform_score_sales[platform_score_sales['platform'] == 'X360']\n",
    "\n",
    "plt.figure(figsize=(12, 5))\n",
    "\n",
    "plt.scatter(platform['user_score'], platform['total_sales'], alpha=0.50, label=\"User Score\")\n",
    "plt.scatter(platform['critic_score'], platform['total_sales'], alpha=0.50, label=\"Critic Score\")\n",
    "plt.title('User Score vs. Total Sales X360')\n",
    "plt.xlabel('User Score')\n",
    "plt.ylabel('Total Sales')\n",
    "plt.legend()\n",
    "plt.show()"
   ]
  },
  {
   "cell_type": "code",
   "execution_count": 33,
   "metadata": {},
   "outputs": [
    {
     "data": {
      "image/png": "[encoded data removed]",
      "text/plain": [
       "<Figure size 1200x500 with 1 Axes>"
      ]
     },
     "metadata": {},
     "output_type": "display_data"
    }
   ],
   "source": [
    "platform= platform_score_sales[platform_score_sales['platform'] == '3DS']\n",
    "\n",
    "plt.figure(figsize=(12, 5))\n",
    "\n",
    "plt.scatter(platform['user_score'], platform['total_sales'], alpha=0.50, label=\"User Score\")\n",
    "plt.scatter(platform['critic_score'], platform['total_sales'], alpha=0.50, label=\"Critic Score\")\n",
    "plt.title('User Score vs. Total Sales 3DS')\n",
    "plt.xlabel('User Score')\n",
    "plt.ylabel('Total Sales')\n",
    "plt.legend()\n",
    "plt.show()"
   ]
  },
  {
   "cell_type": "markdown",
   "metadata": {},
   "source": [
    "The scatter plot graph shows the relationship between user_score, critic_score, and total sales from different platforms PS4, X360 and 3DS. The critic_score seems to have more sales on PS4 then X360 and 3DS. User_score has some impact but less correlated with high sales from all three platforms."
   ]
  },
  {
   "cell_type": "code",
   "execution_count": 34,
   "metadata": {},
   "outputs": [
    {
     "data": {
      "text/plain": [
       "genre\n",
       "Action          199.36\n",
       "Adventure        17.55\n",
       "Fighting         28.22\n",
       "Misc             37.55\n",
       "Platform         18.09\n",
       "Puzzle            2.21\n",
       "Racing           27.52\n",
       "Role-Playing    101.44\n",
       "Shooter         170.94\n",
       "Simulation       13.13\n",
       "Sports          109.48\n",
       "Strategy          3.96\n",
       "Name: total_sales, dtype: float64"
      ]
     },
     "execution_count": 34,
     "metadata": {},
     "output_type": "execute_result"
    }
   ],
   "source": [
    "game_sales=recent_years_data.groupby('genre')['total_sales'].sum()\n",
    "game_sales"
   ]
  },
  {
   "cell_type": "markdown",
   "metadata": {},
   "source": [
    "recent_years_data is grouped by the genre column, the total sales for each platform are summed up."
   ]
  },
  {
   "cell_type": "code",
   "execution_count": 35,
   "metadata": {},
   "outputs": [
    {
     "data": {
      "image/png": "[encoded data removed]",
      "text/plain": [
       "<Figure size 1200x600 with 1 Axes>"
      ]
     },
     "metadata": {},
     "output_type": "display_data"
    }
   ],
   "source": [
    "plt.figure(figsize=(12, 6))\n",
    "sns.boxplot(x='genre', y='total_sales', data=recent_years_data, showfliers=False)\n",
    "plt.title('Distribution of Total Sales of Games by Genre')\n",
    "plt.xlabel('Genre')\n",
    "plt.ylabel('Total Sales')\n",
    "plt.xticks(rotation=50)\n",
    "plt.show()"
   ]
  },
  {
   "cell_type": "markdown",
   "metadata": {},
   "source": [
    "A boxplot graph is shown here to help analyze the distribution of total sales of game genres it shows the median sales which is the centerlie in each box, the interquartile range which is the box size. Shooter games are the most successful genre with high sales where action, role playing and sports games have more variability but still produce high selling games. Puzzle, strategy and adventure games have lower sales."
   ]
  },
  {
   "cell_type": "markdown",
   "metadata": {},
   "source": [
    "# Step 4 Create a user profile for each region"
   ]
  },
  {
   "cell_type": "code",
   "execution_count": 36,
   "metadata": {},
   "outputs": [
    {
     "data": {
      "text/html": [
       "<div>\n",
       "<style scoped>\n",
       "    .dataframe tbody tr th:only-of-type {\n",
       "        vertical-align: middle;\n",
       "    }\n",
       "\n",
       "    .dataframe tbody tr th {\n",
       "        vertical-align: top;\n",
       "    }\n",
       "\n",
       "    .dataframe thead th {\n",
       "        text-align: right;\n",
       "    }\n",
       "</style>\n",
       "<table border=\"1\" class=\"dataframe\">\n",
       "  <thead>\n",
       "    <tr style=\"text-align: right;\">\n",
       "      <th></th>\n",
       "      <th>name</th>\n",
       "      <th>platform</th>\n",
       "      <th>year_of_release</th>\n",
       "      <th>genre</th>\n",
       "      <th>na_sales</th>\n",
       "      <th>eu_sales</th>\n",
       "      <th>jp_sales</th>\n",
       "      <th>other_sales</th>\n",
       "      <th>critic_score</th>\n",
       "      <th>user_score</th>\n",
       "      <th>rating</th>\n",
       "      <th>total_sales</th>\n",
       "    </tr>\n",
       "  </thead>\n",
       "  <tbody>\n",
       "    <tr>\n",
       "      <th>0</th>\n",
       "      <td>Wii Sports</td>\n",
       "      <td>Wii</td>\n",
       "      <td>2006</td>\n",
       "      <td>Sports</td>\n",
       "      <td>41.36</td>\n",
       "      <td>28.96</td>\n",
       "      <td>3.77</td>\n",
       "      <td>8.45</td>\n",
       "      <td>76.0</td>\n",
       "      <td>8.0</td>\n",
       "      <td>E</td>\n",
       "      <td>82.54</td>\n",
       "    </tr>\n",
       "    <tr>\n",
       "      <th>1</th>\n",
       "      <td>Super Mario Bros.</td>\n",
       "      <td>NES</td>\n",
       "      <td>1985</td>\n",
       "      <td>Platform</td>\n",
       "      <td>29.08</td>\n",
       "      <td>3.58</td>\n",
       "      <td>6.81</td>\n",
       "      <td>0.77</td>\n",
       "      <td>NaN</td>\n",
       "      <td>NaN</td>\n",
       "      <td>Not Rated</td>\n",
       "      <td>40.24</td>\n",
       "    </tr>\n",
       "    <tr>\n",
       "      <th>2</th>\n",
       "      <td>Mario Kart Wii</td>\n",
       "      <td>Wii</td>\n",
       "      <td>2008</td>\n",
       "      <td>Racing</td>\n",
       "      <td>15.68</td>\n",
       "      <td>12.76</td>\n",
       "      <td>3.79</td>\n",
       "      <td>3.29</td>\n",
       "      <td>82.0</td>\n",
       "      <td>8.3</td>\n",
       "      <td>E</td>\n",
       "      <td>35.52</td>\n",
       "    </tr>\n",
       "    <tr>\n",
       "      <th>3</th>\n",
       "      <td>Wii Sports Resort</td>\n",
       "      <td>Wii</td>\n",
       "      <td>2009</td>\n",
       "      <td>Sports</td>\n",
       "      <td>15.61</td>\n",
       "      <td>10.93</td>\n",
       "      <td>3.28</td>\n",
       "      <td>2.95</td>\n",
       "      <td>80.0</td>\n",
       "      <td>8.0</td>\n",
       "      <td>E</td>\n",
       "      <td>32.77</td>\n",
       "    </tr>\n",
       "    <tr>\n",
       "      <th>4</th>\n",
       "      <td>Pokemon Red/Pokemon Blue</td>\n",
       "      <td>GB</td>\n",
       "      <td>1996</td>\n",
       "      <td>Role-Playing</td>\n",
       "      <td>11.27</td>\n",
       "      <td>8.89</td>\n",
       "      <td>10.22</td>\n",
       "      <td>1.00</td>\n",
       "      <td>NaN</td>\n",
       "      <td>NaN</td>\n",
       "      <td>Not Rated</td>\n",
       "      <td>31.38</td>\n",
       "    </tr>\n",
       "  </tbody>\n",
       "</table>\n",
       "</div>"
      ],
      "text/plain": [
       "                       name platform  year_of_release         genre  na_sales  \\\n",
       "0                Wii Sports      Wii             2006        Sports     41.36   \n",
       "1         Super Mario Bros.      NES             1985      Platform     29.08   \n",
       "2            Mario Kart Wii      Wii             2008        Racing     15.68   \n",
       "3         Wii Sports Resort      Wii             2009        Sports     15.61   \n",
       "4  Pokemon Red/Pokemon Blue       GB             1996  Role-Playing     11.27   \n",
       "\n",
       "   eu_sales  jp_sales  other_sales  critic_score  user_score     rating  \\\n",
       "0     28.96      3.77         8.45          76.0         8.0          E   \n",
       "1      3.58      6.81         0.77           NaN         NaN  Not Rated   \n",
       "2     12.76      3.79         3.29          82.0         8.3          E   \n",
       "3     10.93      3.28         2.95          80.0         8.0          E   \n",
       "4      8.89     10.22         1.00           NaN         NaN  Not Rated   \n",
       "\n",
       "   total_sales  \n",
       "0        82.54  \n",
       "1        40.24  \n",
       "2        35.52  \n",
       "3        32.77  \n",
       "4        31.38  "
      ]
     },
     "execution_count": 36,
     "metadata": {},
     "output_type": "execute_result"
    }
   ],
   "source": [
    "df_gaming.head()"
   ]
  },
  {
   "cell_type": "code",
   "execution_count": 37,
   "metadata": {},
   "outputs": [
    {
     "name": "stdout",
     "output_type": "stream",
     "text": [
      "Top 5 platforms in na_sales:\n",
      "platform\n",
      "PS4     98.61\n",
      "XOne    81.27\n",
      "X360    28.30\n",
      "3DS     22.64\n",
      "PS3     22.05\n",
      "Name: na_sales, dtype: float64\n",
      "\n",
      "Top 5 platforms in eu_sales:\n",
      "platform\n",
      "PS4     130.04\n",
      "XOne     46.25\n",
      "PS3      25.54\n",
      "PC       17.97\n",
      "3DS      16.12\n",
      "Name: eu_sales, dtype: float64\n",
      "\n",
      "Top 5 platforms in jp_sales:\n",
      "platform\n",
      "3DS     44.24\n",
      "PS4     15.02\n",
      "PSV     14.54\n",
      "PS3     11.22\n",
      "WiiU     7.31\n",
      "Name: jp_sales, dtype: float64\n",
      "\n"
     ]
    }
   ],
   "source": [
    "for region in ['na_sales', 'eu_sales', 'jp_sales']:\n",
    "    region_platform_sales=recent_years_data.groupby('platform')[region].sum().sort_values(ascending=False).head()\n",
    "    print(f\"Top 5 platforms in {region}:\\n{region_platform_sales}\\n\")"
   ]
  },
  {
   "cell_type": "markdown",
   "metadata": {},
   "source": [
    "This analysis revealed that PS4 dominated sales in North America and Europe, while handheld consoles like the 3DS and PSV were more popular in Japan, highlighting regional gaming preferences where Xbox performed well in the North America markets but struggled in Japan, and PC gaming had a stronger presence in Europe than in other regions."
   ]
  },
  {
   "cell_type": "code",
   "execution_count": 38,
   "metadata": {},
   "outputs": [
    {
     "name": "stdout",
     "output_type": "stream",
     "text": [
      "Top 5 genre in na_sales:\n",
      "genre\n",
      "Shooter         79.02\n",
      "Action          72.53\n",
      "Sports          46.13\n",
      "Role-Playing    33.47\n",
      "Misc            15.05\n",
      "Name: na_sales, dtype: float64\n",
      "\n",
      "Top 5 genre in eu_sales:\n",
      "genre\n",
      "Action          74.68\n",
      "Shooter         65.52\n",
      "Sports          45.73\n",
      "Role-Playing    28.17\n",
      "Racing          14.13\n",
      "Name: eu_sales, dtype: float64\n",
      "\n",
      "Top 5 genre in jp_sales:\n",
      "genre\n",
      "Role-Playing    31.16\n",
      "Action          29.58\n",
      "Fighting         6.37\n",
      "Misc             5.61\n",
      "Shooter          4.87\n",
      "Name: jp_sales, dtype: float64\n",
      "\n"
     ]
    }
   ],
   "source": [
    "for region in ['na_sales', 'eu_sales', 'jp_sales']:\n",
    "    region_genre_sales=recent_years_data.groupby('genre')[region].sum().sort_values(ascending=False).head()\n",
    "    print(f\"Top 5 genre in {region}:\\n{region_genre_sales}\\n\")"
   ]
  },
  {
   "cell_type": "markdown",
   "metadata": {},
   "source": [
    "This analysis revealed that Shooter and Action games were the most popular genres in North America and Europe, while Role-Playing games dominated in Japan, highlighting regional preferences where sports and racing games performed well in the Europe markets, while fighting and miscellaneous genres had a stronger presence in Japan."
   ]
  },
  {
   "cell_type": "code",
   "execution_count": 39,
   "metadata": {},
   "outputs": [
    {
     "name": "stdout",
     "output_type": "stream",
     "text": [
      "Top 5 genre in na_sales:\n",
      "rating\n",
      "M            96.42\n",
      "Not Rated    64.72\n",
      "E            50.74\n",
      "T            38.95\n",
      "E10+         33.23\n",
      "Name: na_sales, dtype: float64\n",
      "\n",
      "Top 5 genre in eu_sales:\n",
      "rating\n",
      "M            93.44\n",
      "Not Rated    58.95\n",
      "E            58.06\n",
      "T            34.07\n",
      "E10+         26.16\n",
      "Name: eu_sales, dtype: float64\n",
      "\n",
      "Top 5 genre in jp_sales:\n",
      "rating\n",
      "Not Rated    56.90\n",
      "T            14.78\n",
      "E             8.94\n",
      "M             8.01\n",
      "E10+          4.46\n",
      "Name: jp_sales, dtype: float64\n",
      "\n"
     ]
    }
   ],
   "source": [
    "for region in ['na_sales', 'eu_sales', 'jp_sales']:\n",
    "    region_rating_sales=recent_years_data.groupby('rating')[region].sum().sort_values(ascending=False).head()\n",
    "    print(f\"Top 5 genre in {region}:\\n{region_rating_sales}\\n\")"
   ]
  },
  {
   "cell_type": "markdown",
   "metadata": {},
   "source": [
    "This analysis showed that M-rated games were the top-selling category in North America and Europe, while Japan had the highest sales in unrated and T-rated (Teen) games, indicating that the North America and Europe markets favored mature content, whereas Japan had a stronger preference for family-friendly and teen-rated games."
   ]
  },
  {
   "cell_type": "markdown",
   "metadata": {},
   "source": [
    "A for loops was use to iterate throught each region sales(North America, Europe, and Japan) and identify the 5 for gaming platforms, genre, and rating based on the total sales in each region. using the for loop dynamically process and prints the top gaming platform, genres, and ratings making the analysis more efficient."
   ]
  },
  {
   "cell_type": "markdown",
   "metadata": {},
   "source": [
    "# Step 5 Test the following hypotheses"
   ]
  },
  {
   "cell_type": "markdown",
   "metadata": {},
   "source": [
    "Null Hypothesis (H0): The average user ratings of the Xbox One and PC platforms are the same. \\\n",
    "Alternative Hypothesis (H1): The average user ratings of the Xbox One and PC platforms are not the same. "
   ]
  },
  {
   "cell_type": "code",
   "execution_count": 40,
   "metadata": {},
   "outputs": [
    {
     "name": "stdout",
     "output_type": "stream",
     "text": [
      "p-value: 0.10450507919348416\n",
      "Fail to reject the null hypothesis: The average ratings are the same.\n"
     ]
    }
   ],
   "source": [
    "df_xbox=recent_years_data[recent_years_data['platform'] == 'XOne']['user_score'].dropna()\n",
    "df_pc=recent_years_data[recent_years_data['platform'] == 'PC']['user_score'].dropna()\n",
    "\n",
    "alpha= 0.05\n",
    "\n",
    "results= st.ttest_ind(df_xbox, df_pc)\n",
    "\n",
    "print('p-value:', results.pvalue)\n",
    "if results.pvalue < alpha:\n",
    "    print(\"Reject the null hypothesis: The average ratings are different.\")\n",
    "else:\n",
    "    print(\"Fail to reject the null hypothesis: The average ratings are the same.\")"
   ]
  },
  {
   "cell_type": "code",
   "execution_count": 41,
   "metadata": {},
   "outputs": [
    {
     "data": {
      "text/plain": [
       "458      3.9\n",
       "1530     5.4\n",
       "1677     NaN\n",
       "1730     7.9\n",
       "2303     5.7\n",
       "        ... \n",
       "16509    7.9\n",
       "16518    1.4\n",
       "16617    NaN\n",
       "16631    NaN\n",
       "16692    7.6\n",
       "Name: user_score, Length: 151, dtype: float64"
      ]
     },
     "execution_count": 41,
     "metadata": {},
     "output_type": "execute_result"
    }
   ],
   "source": [
    "recent_years_data[recent_years_data['platform'] == 'PC']['user_score']"
   ]
  },
  {
   "cell_type": "markdown",
   "metadata": {},
   "source": [
    "Null Hypothesis (H0): Average user ratings for the Action and Sports genres are the same.\n",
    "Alternative Hypothesis (H1): Average user ratings for the Action and Sports genres are not the same."
   ]
  },
  {
   "cell_type": "code",
   "execution_count": 42,
   "metadata": {},
   "outputs": [
    {
     "name": "stdout",
     "output_type": "stream",
     "text": [
      "p-value: 2.871114798510586e-19\n",
      "Reject the null hypothesis: The average ratings are different.\n"
     ]
    }
   ],
   "source": [
    "df_action = recent_years_data[recent_years_data['genre'] == 'Action']['user_score'].dropna()\n",
    "df_sports = recent_years_data[recent_years_data['genre'] == 'Sports']['user_score'].dropna()\n",
    "\n",
    "alpha= 0.05\n",
    "\n",
    "results= st.ttest_ind(df_action, df_sports)\n",
    "\n",
    "print('p-value:', results.pvalue)\n",
    "if results.pvalue < alpha:\n",
    "    print(\"Reject the null hypothesis: The average ratings are different.\")\n",
    "else:\n",
    "    print(\"Fail to reject the null hypothesis: The average ratings are the same.\")"
   ]
  },
  {
   "cell_type": "markdown",
   "metadata": {},
   "source": [
    "The significance level that was reasonable is 0.05 which balance between detecting true differences and avoiding false alarm. The Xbox & PC test failed to reject hypothesis, meaning no significant difference in ratings and the Action & Sports test rejected hypothesis, meaning significant differences exist in ratings."
   ]
  },
  {
   "cell_type": "markdown",
   "metadata": {},
   "source": [
    "# Conculsion"
   ]
  },
  {
   "cell_type": "markdown",
   "metadata": {},
   "source": [
    "The goal of this project was to analyze historical video game sales, user and critic ratings, and platform performance to identify patterns that could be used for strategic decision-making in 2017. The analysis shows clear patterns in platform performance, genre preferences, and regional differences that can guide data-driven decisions for the gaming industry. While hypothesis testing revealed significant distinctions between certain game categories but no major differences in platform user ratings. By focusing on high-performing platforms, leveraging critic reviews, and targeting region-specific trends, businesses can maximize sales and optimize their game development and marketing strategies."
   ]
  }
 ],
 "metadata": {
  "ExecuteTimeLog": [
   {
    "duration": 363,
    "start_time": "2025-02-17T04:18:48.530Z"
   },
   {
    "duration": 38,
    "start_time": "2025-02-17T04:18:50.789Z"
   },
   {
    "duration": 18,
    "start_time": "2025-02-17T04:19:09.600Z"
   },
   {
    "duration": 278,
    "start_time": "2025-02-18T22:50:49.976Z"
   },
   {
    "duration": 35,
    "start_time": "2025-02-18T22:50:50.256Z"
   },
   {
    "duration": 18,
    "start_time": "2025-02-18T22:50:50.293Z"
   },
   {
    "duration": 181,
    "start_time": "2025-02-18T22:50:50.313Z"
   },
   {
    "duration": 13,
    "start_time": "2025-02-18T22:51:08.595Z"
   },
   {
    "duration": 10,
    "start_time": "2025-02-18T22:51:27.670Z"
   },
   {
    "duration": 11,
    "start_time": "2025-02-18T22:51:51.286Z"
   },
   {
    "duration": 10,
    "start_time": "2025-02-18T22:52:32.049Z"
   },
   {
    "duration": 11,
    "start_time": "2025-02-18T22:53:01.330Z"
   },
   {
    "duration": 10,
    "start_time": "2025-02-18T22:53:06.338Z"
   },
   {
    "duration": 13,
    "start_time": "2025-02-18T22:54:28.146Z"
   },
   {
    "duration": 13,
    "start_time": "2025-02-18T22:54:56.035Z"
   },
   {
    "duration": 13,
    "start_time": "2025-02-18T22:55:03.084Z"
   },
   {
    "duration": 3,
    "start_time": "2025-02-18T23:15:27.829Z"
   },
   {
    "duration": 4,
    "start_time": "2025-02-18T23:15:42.475Z"
   },
   {
    "duration": 16,
    "start_time": "2025-02-18T23:15:54.951Z"
   },
   {
    "duration": 4,
    "start_time": "2025-02-19T00:35:02.383Z"
   },
   {
    "duration": 527,
    "start_time": "2025-02-19T00:42:44.950Z"
   },
   {
    "duration": 25,
    "start_time": "2025-02-19T00:43:35.691Z"
   },
   {
    "duration": 11,
    "start_time": "2025-02-19T00:43:51.082Z"
   },
   {
    "duration": 10,
    "start_time": "2025-02-19T00:44:15.538Z"
   },
   {
    "duration": 15,
    "start_time": "2025-02-19T00:53:05.750Z"
   },
   {
    "duration": 96,
    "start_time": "2025-02-19T00:54:39.548Z"
   },
   {
    "duration": 13,
    "start_time": "2025-02-19T00:55:07.196Z"
   },
   {
    "duration": 7,
    "start_time": "2025-02-19T01:09:08.046Z"
   },
   {
    "duration": 4,
    "start_time": "2025-02-19T01:09:34.418Z"
   },
   {
    "duration": 39,
    "start_time": "2025-02-19T01:09:45.950Z"
   },
   {
    "duration": 7,
    "start_time": "2025-02-19T01:10:47.492Z"
   },
   {
    "duration": 14,
    "start_time": "2025-02-19T01:11:07.838Z"
   },
   {
    "duration": 14,
    "start_time": "2025-02-19T01:21:57.415Z"
   },
   {
    "duration": 4,
    "start_time": "2025-02-19T01:22:09.331Z"
   },
   {
    "duration": 3,
    "start_time": "2025-02-19T01:22:35.538Z"
   },
   {
    "duration": 11,
    "start_time": "2025-02-19T01:22:52.454Z"
   },
   {
    "duration": 17,
    "start_time": "2025-02-19T01:23:16.566Z"
   },
   {
    "duration": 16,
    "start_time": "2025-02-19T01:26:23.034Z"
   },
   {
    "duration": 13,
    "start_time": "2025-02-19T01:27:04.112Z"
   },
   {
    "duration": 13,
    "start_time": "2025-02-19T01:27:34.462Z"
   },
   {
    "duration": 3,
    "start_time": "2025-02-19T01:27:42.019Z"
   },
   {
    "duration": 24,
    "start_time": "2025-02-19T01:27:42.024Z"
   },
   {
    "duration": 21,
    "start_time": "2025-02-19T01:27:42.049Z"
   },
   {
    "duration": 3,
    "start_time": "2025-02-19T01:27:42.073Z"
   },
   {
    "duration": 12,
    "start_time": "2025-02-19T01:27:42.078Z"
   },
   {
    "duration": 31,
    "start_time": "2025-02-19T01:27:42.091Z"
   },
   {
    "duration": 19,
    "start_time": "2025-02-19T01:27:42.124Z"
   },
   {
    "duration": 72,
    "start_time": "2025-02-19T01:27:42.145Z"
   },
   {
    "duration": 49,
    "start_time": "2025-02-19T01:28:45.102Z"
   },
   {
    "duration": 4,
    "start_time": "2025-02-19T01:29:32.236Z"
   },
   {
    "duration": 75,
    "start_time": "2025-02-19T01:29:37.152Z"
   },
   {
    "duration": 44,
    "start_time": "2025-02-19T01:30:15.821Z"
   },
   {
    "duration": 5,
    "start_time": "2025-02-19T01:34:21.239Z"
   },
   {
    "duration": 4,
    "start_time": "2025-02-19T01:34:57.856Z"
   },
   {
    "duration": 49,
    "start_time": "2025-02-19T01:35:08.761Z"
   },
   {
    "duration": 18,
    "start_time": "2025-02-19T01:35:31.136Z"
   },
   {
    "duration": 20,
    "start_time": "2025-02-19T01:35:47.564Z"
   },
   {
    "duration": 4,
    "start_time": "2025-02-19T01:36:23.002Z"
   },
   {
    "duration": 4,
    "start_time": "2025-02-19T01:36:33.486Z"
   },
   {
    "duration": 287,
    "start_time": "2025-02-19T21:17:16.899Z"
   },
   {
    "duration": 36,
    "start_time": "2025-02-19T21:17:17.188Z"
   },
   {
    "duration": 19,
    "start_time": "2025-02-19T21:17:17.226Z"
   },
   {
    "duration": 6,
    "start_time": "2025-02-19T21:17:17.247Z"
   },
   {
    "duration": 16,
    "start_time": "2025-02-19T21:17:17.255Z"
   },
   {
    "duration": 21,
    "start_time": "2025-02-19T21:17:17.272Z"
   },
   {
    "duration": 14,
    "start_time": "2025-02-19T21:17:21.986Z"
   },
   {
    "duration": 6,
    "start_time": "2025-02-19T21:17:22.003Z"
   },
   {
    "duration": 4,
    "start_time": "2025-02-19T21:17:22.010Z"
   },
   {
    "duration": 3,
    "start_time": "2025-02-19T21:17:22.016Z"
   },
   {
    "duration": 16,
    "start_time": "2025-02-20T01:24:32.475Z"
   },
   {
    "duration": 86,
    "start_time": "2025-02-20T01:25:08.768Z"
   },
   {
    "duration": 5,
    "start_time": "2025-02-20T01:25:46.908Z"
   },
   {
    "duration": 3,
    "start_time": "2025-02-20T01:26:15.297Z"
   },
   {
    "duration": 3,
    "start_time": "2025-02-20T01:26:46.112Z"
   },
   {
    "duration": 3,
    "start_time": "2025-02-20T01:26:46.760Z"
   },
   {
    "duration": 16,
    "start_time": "2025-02-20T01:26:48.369Z"
   },
   {
    "duration": 3,
    "start_time": "2025-02-20T01:27:05.298Z"
   },
   {
    "duration": 10,
    "start_time": "2025-02-20T01:27:25.979Z"
   },
   {
    "duration": 9,
    "start_time": "2025-02-20T01:34:15.249Z"
   },
   {
    "duration": 16,
    "start_time": "2025-02-20T01:37:12.168Z"
   },
   {
    "duration": 3,
    "start_time": "2025-02-20T01:37:25.085Z"
   },
   {
    "duration": 4,
    "start_time": "2025-02-20T01:37:28.770Z"
   },
   {
    "duration": 11,
    "start_time": "2025-02-20T01:37:44.620Z"
   },
   {
    "duration": 9,
    "start_time": "2025-02-20T01:37:46.978Z"
   },
   {
    "duration": 5,
    "start_time": "2025-02-20T01:40:12.667Z"
   },
   {
    "duration": 16,
    "start_time": "2025-02-20T01:40:27.632Z"
   },
   {
    "duration": 13,
    "start_time": "2025-02-20T01:41:49.710Z"
   },
   {
    "duration": 4,
    "start_time": "2025-02-20T01:41:55.192Z"
   },
   {
    "duration": 18,
    "start_time": "2025-02-20T01:42:07.498Z"
   },
   {
    "duration": 8,
    "start_time": "2025-02-20T01:43:11.462Z"
   },
   {
    "duration": 3,
    "start_time": "2025-02-20T02:05:18.695Z"
   },
   {
    "duration": 3,
    "start_time": "2025-02-20T02:05:41.445Z"
   },
   {
    "duration": 7,
    "start_time": "2025-02-20T02:06:10.001Z"
   },
   {
    "duration": 487,
    "start_time": "2025-02-20T02:07:31.628Z"
   },
   {
    "duration": 4,
    "start_time": "2025-02-20T02:07:43.042Z"
   },
   {
    "duration": 5,
    "start_time": "2025-02-20T02:38:15.202Z"
   },
   {
    "duration": 7,
    "start_time": "2025-02-20T02:38:21.781Z"
   },
   {
    "duration": 13,
    "start_time": "2025-02-20T04:37:54.371Z"
   },
   {
    "duration": 4,
    "start_time": "2025-02-20T04:38:31.889Z"
   },
   {
    "duration": 4,
    "start_time": "2025-02-20T04:38:35.492Z"
   },
   {
    "duration": 6,
    "start_time": "2025-02-20T04:38:55.020Z"
   },
   {
    "duration": 18,
    "start_time": "2025-02-20T04:45:31.072Z"
   },
   {
    "duration": 373,
    "start_time": "2025-02-20T23:04:06.616Z"
   },
   {
    "duration": 48,
    "start_time": "2025-02-20T23:04:06.992Z"
   },
   {
    "duration": 24,
    "start_time": "2025-02-20T23:04:07.043Z"
   },
   {
    "duration": 3,
    "start_time": "2025-02-20T23:04:07.070Z"
   },
   {
    "duration": 20,
    "start_time": "2025-02-20T23:04:07.075Z"
   },
   {
    "duration": 10,
    "start_time": "2025-02-20T23:04:07.097Z"
   },
   {
    "duration": 27,
    "start_time": "2025-02-20T23:04:07.109Z"
   },
   {
    "duration": 13,
    "start_time": "2025-02-20T23:04:07.140Z"
   },
   {
    "duration": 5,
    "start_time": "2025-02-20T23:04:07.155Z"
   },
   {
    "duration": 24,
    "start_time": "2025-02-20T23:04:07.163Z"
   },
   {
    "duration": 5,
    "start_time": "2025-02-20T23:04:07.189Z"
   },
   {
    "duration": 8,
    "start_time": "2025-02-20T23:04:07.196Z"
   },
   {
    "duration": 30,
    "start_time": "2025-02-20T23:04:07.206Z"
   },
   {
    "duration": 22,
    "start_time": "2025-02-20T23:04:07.241Z"
   },
   {
    "duration": 33,
    "start_time": "2025-02-20T23:04:17.655Z"
   },
   {
    "duration": 382,
    "start_time": "2025-02-21T01:05:09.874Z"
   },
   {
    "duration": 34,
    "start_time": "2025-02-21T01:05:10.259Z"
   },
   {
    "duration": 25,
    "start_time": "2025-02-21T01:05:10.296Z"
   },
   {
    "duration": 4,
    "start_time": "2025-02-21T01:05:10.332Z"
   },
   {
    "duration": 22,
    "start_time": "2025-02-21T01:05:10.337Z"
   },
   {
    "duration": 10,
    "start_time": "2025-02-21T01:05:10.360Z"
   },
   {
    "duration": 25,
    "start_time": "2025-02-21T01:05:10.373Z"
   },
   {
    "duration": 369,
    "start_time": "2025-02-21T01:05:55.654Z"
   },
   {
    "duration": 48,
    "start_time": "2025-02-21T01:05:56.030Z"
   },
   {
    "duration": 30,
    "start_time": "2025-02-21T01:05:56.084Z"
   },
   {
    "duration": 18,
    "start_time": "2025-02-21T01:06:01.637Z"
   },
   {
    "duration": 358,
    "start_time": "2025-02-21T01:16:33.627Z"
   },
   {
    "duration": 37,
    "start_time": "2025-02-21T01:16:33.988Z"
   },
   {
    "duration": 29,
    "start_time": "2025-02-21T01:16:34.027Z"
   },
   {
    "duration": 4,
    "start_time": "2025-02-21T01:16:34.058Z"
   },
   {
    "duration": 4,
    "start_time": "2025-02-21T01:16:34.065Z"
   },
   {
    "duration": 9,
    "start_time": "2025-02-21T01:16:34.071Z"
   },
   {
    "duration": 3,
    "start_time": "2025-02-21T01:16:34.082Z"
   },
   {
    "duration": 47,
    "start_time": "2025-02-21T01:16:34.087Z"
   },
   {
    "duration": 4,
    "start_time": "2025-02-21T01:16:34.137Z"
   },
   {
    "duration": 23,
    "start_time": "2025-02-21T01:16:34.143Z"
   },
   {
    "duration": 383,
    "start_time": "2025-02-21T01:17:56.429Z"
   },
   {
    "duration": 38,
    "start_time": "2025-02-21T01:17:56.814Z"
   },
   {
    "duration": 26,
    "start_time": "2025-02-21T01:17:56.857Z"
   },
   {
    "duration": 3,
    "start_time": "2025-02-21T01:17:56.885Z"
   },
   {
    "duration": 11,
    "start_time": "2025-02-21T01:17:56.890Z"
   },
   {
    "duration": 10,
    "start_time": "2025-02-21T01:17:56.903Z"
   },
   {
    "duration": 17,
    "start_time": "2025-02-21T01:17:56.915Z"
   },
   {
    "duration": 21,
    "start_time": "2025-02-21T01:17:56.934Z"
   },
   {
    "duration": 3,
    "start_time": "2025-02-21T01:17:56.957Z"
   },
   {
    "duration": 23,
    "start_time": "2025-02-21T01:17:56.963Z"
   },
   {
    "duration": 4,
    "start_time": "2025-02-21T01:17:56.988Z"
   },
   {
    "duration": 9,
    "start_time": "2025-02-21T01:17:56.994Z"
   },
   {
    "duration": 29,
    "start_time": "2025-02-21T01:17:57.005Z"
   },
   {
    "duration": 3,
    "start_time": "2025-02-21T01:22:05.102Z"
   },
   {
    "duration": 316,
    "start_time": "2025-02-21T01:23:15.802Z"
   },
   {
    "duration": 30,
    "start_time": "2025-02-21T01:23:16.120Z"
   },
   {
    "duration": 32,
    "start_time": "2025-02-21T01:23:16.152Z"
   },
   {
    "duration": 4,
    "start_time": "2025-02-21T01:23:16.187Z"
   },
   {
    "duration": 5,
    "start_time": "2025-02-21T01:23:16.192Z"
   },
   {
    "duration": 8,
    "start_time": "2025-02-21T01:23:16.199Z"
   },
   {
    "duration": 3,
    "start_time": "2025-02-21T01:23:16.209Z"
   },
   {
    "duration": 28,
    "start_time": "2025-02-21T01:23:16.214Z"
   },
   {
    "duration": 3,
    "start_time": "2025-02-21T01:23:16.243Z"
   },
   {
    "duration": 24,
    "start_time": "2025-02-21T01:23:16.249Z"
   },
   {
    "duration": 3,
    "start_time": "2025-02-21T01:23:16.275Z"
   },
   {
    "duration": 5,
    "start_time": "2025-02-21T01:23:16.280Z"
   },
   {
    "duration": 5,
    "start_time": "2025-02-21T01:23:19.813Z"
   },
   {
    "duration": 10,
    "start_time": "2025-02-21T01:23:20.616Z"
   },
   {
    "duration": 301,
    "start_time": "2025-02-21T01:25:01.414Z"
   },
   {
    "duration": 36,
    "start_time": "2025-02-21T01:25:01.717Z"
   },
   {
    "duration": 26,
    "start_time": "2025-02-21T01:25:01.756Z"
   },
   {
    "duration": 3,
    "start_time": "2025-02-21T01:25:01.785Z"
   },
   {
    "duration": 4,
    "start_time": "2025-02-21T01:25:01.790Z"
   },
   {
    "duration": 8,
    "start_time": "2025-02-21T01:25:01.798Z"
   },
   {
    "duration": 25,
    "start_time": "2025-02-21T01:25:01.808Z"
   },
   {
    "duration": 13,
    "start_time": "2025-02-21T01:25:01.835Z"
   },
   {
    "duration": 3,
    "start_time": "2025-02-21T01:25:01.850Z"
   },
   {
    "duration": 22,
    "start_time": "2025-02-21T01:25:01.856Z"
   },
   {
    "duration": 3,
    "start_time": "2025-02-21T01:25:01.879Z"
   },
   {
    "duration": 7,
    "start_time": "2025-02-21T01:25:01.884Z"
   },
   {
    "duration": 39,
    "start_time": "2025-02-21T01:25:01.893Z"
   },
   {
    "duration": 21,
    "start_time": "2025-02-21T01:25:35.357Z"
   },
   {
    "duration": 2480,
    "start_time": "2025-02-21T01:32:17.325Z"
   },
   {
    "duration": 44,
    "start_time": "2025-02-21T01:32:19.813Z"
   },
   {
    "duration": 26,
    "start_time": "2025-02-21T01:32:19.860Z"
   },
   {
    "duration": 2,
    "start_time": "2025-02-21T01:32:19.888Z"
   },
   {
    "duration": 4,
    "start_time": "2025-02-21T01:32:19.894Z"
   },
   {
    "duration": 8,
    "start_time": "2025-02-21T01:32:19.902Z"
   },
   {
    "duration": 4,
    "start_time": "2025-02-21T01:32:19.932Z"
   },
   {
    "duration": 15,
    "start_time": "2025-02-21T01:32:19.938Z"
   },
   {
    "duration": 5,
    "start_time": "2025-02-21T01:32:19.954Z"
   },
   {
    "duration": 20,
    "start_time": "2025-02-21T01:32:19.960Z"
   },
   {
    "duration": 3,
    "start_time": "2025-02-21T01:32:19.982Z"
   },
   {
    "duration": 8,
    "start_time": "2025-02-21T01:32:19.987Z"
   },
   {
    "duration": 41,
    "start_time": "2025-02-21T01:32:19.997Z"
   },
   {
    "duration": 22,
    "start_time": "2025-02-21T01:32:20.041Z"
   },
   {
    "duration": 238,
    "start_time": "2025-02-21T01:36:24.506Z"
   },
   {
    "duration": 593,
    "start_time": "2025-02-21T01:36:55.588Z"
   },
   {
    "duration": 268,
    "start_time": "2025-02-21T01:37:24.552Z"
   },
   {
    "duration": 122,
    "start_time": "2025-02-21T01:37:39.887Z"
   },
   {
    "duration": 58,
    "start_time": "2025-02-21T02:12:17.157Z"
   },
   {
    "duration": 5,
    "start_time": "2025-02-21T02:12:49.100Z"
   },
   {
    "duration": 271,
    "start_time": "2025-02-21T02:24:44.315Z"
   },
   {
    "duration": 270,
    "start_time": "2025-02-21T02:24:49.985Z"
   },
   {
    "duration": 263,
    "start_time": "2025-02-21T02:26:25.620Z"
   },
   {
    "duration": 317,
    "start_time": "2025-02-21T02:26:59.361Z"
   },
   {
    "duration": 377,
    "start_time": "2025-02-21T02:27:20.961Z"
   },
   {
    "duration": 14,
    "start_time": "2025-02-21T03:14:45.419Z"
   },
   {
    "duration": 15,
    "start_time": "2025-02-21T03:15:24.917Z"
   },
   {
    "duration": 503,
    "start_time": "2025-02-21T03:16:26.747Z"
   },
   {
    "duration": 371,
    "start_time": "2025-02-21T03:18:08.772Z"
   },
   {
    "duration": 122,
    "start_time": "2025-02-21T03:18:27.584Z"
   },
   {
    "duration": 100,
    "start_time": "2025-02-21T03:18:49.135Z"
   },
   {
    "duration": 375,
    "start_time": "2025-02-21T03:18:59.184Z"
   },
   {
    "duration": 4176,
    "start_time": "2025-02-21T03:19:20.795Z"
   },
   {
    "duration": 17,
    "start_time": "2025-02-21T03:20:26.124Z"
   },
   {
    "duration": 2345,
    "start_time": "2025-02-21T22:23:46.642Z"
   },
   {
    "duration": 40,
    "start_time": "2025-02-21T22:23:48.990Z"
   },
   {
    "duration": 19,
    "start_time": "2025-02-21T22:23:49.031Z"
   },
   {
    "duration": 3,
    "start_time": "2025-02-21T22:23:49.052Z"
   },
   {
    "duration": 5,
    "start_time": "2025-02-21T22:23:49.057Z"
   },
   {
    "duration": 7,
    "start_time": "2025-02-21T22:23:49.063Z"
   },
   {
    "duration": 3,
    "start_time": "2025-02-21T22:23:49.072Z"
   },
   {
    "duration": 40,
    "start_time": "2025-02-21T22:23:49.077Z"
   },
   {
    "duration": 3,
    "start_time": "2025-02-21T22:23:49.119Z"
   },
   {
    "duration": 19,
    "start_time": "2025-02-21T22:23:49.125Z"
   },
   {
    "duration": 4,
    "start_time": "2025-02-21T22:23:49.146Z"
   },
   {
    "duration": 8,
    "start_time": "2025-02-21T22:23:49.151Z"
   },
   {
    "duration": 8,
    "start_time": "2025-02-21T22:23:49.160Z"
   },
   {
    "duration": 51,
    "start_time": "2025-02-21T22:23:49.170Z"
   },
   {
    "duration": 5,
    "start_time": "2025-02-21T22:23:49.223Z"
   },
   {
    "duration": 325,
    "start_time": "2025-02-21T22:23:49.229Z"
   },
   {
    "duration": 4,
    "start_time": "2025-02-21T22:24:18.850Z"
   },
   {
    "duration": 8,
    "start_time": "2025-02-21T22:24:49.342Z"
   },
   {
    "duration": 3,
    "start_time": "2025-02-21T22:25:29.996Z"
   },
   {
    "duration": 4,
    "start_time": "2025-02-21T22:25:43.172Z"
   },
   {
    "duration": 4,
    "start_time": "2025-02-21T22:51:39.556Z"
   },
   {
    "duration": 174,
    "start_time": "2025-02-21T22:52:01.321Z"
   },
   {
    "duration": 7,
    "start_time": "2025-02-21T22:54:09.734Z"
   },
   {
    "duration": 168,
    "start_time": "2025-02-21T22:54:16.007Z"
   },
   {
    "duration": 163,
    "start_time": "2025-02-21T23:01:57.959Z"
   },
   {
    "duration": 164,
    "start_time": "2025-02-21T23:03:08.136Z"
   },
   {
    "duration": 18,
    "start_time": "2025-02-21T23:07:26.466Z"
   },
   {
    "duration": 166,
    "start_time": "2025-02-21T23:08:40.631Z"
   },
   {
    "duration": 6,
    "start_time": "2025-02-21T23:09:31.534Z"
   },
   {
    "duration": 4,
    "start_time": "2025-02-21T23:09:52.869Z"
   },
   {
    "duration": 5,
    "start_time": "2025-02-21T23:09:59.921Z"
   },
   {
    "duration": 4,
    "start_time": "2025-02-21T23:10:14.777Z"
   },
   {
    "duration": 4,
    "start_time": "2025-02-21T23:10:24.380Z"
   },
   {
    "duration": 4,
    "start_time": "2025-02-21T23:10:33.301Z"
   },
   {
    "duration": 4,
    "start_time": "2025-02-21T23:10:44.890Z"
   },
   {
    "duration": 5,
    "start_time": "2025-02-21T23:10:49.722Z"
   },
   {
    "duration": 5,
    "start_time": "2025-02-21T23:11:02.679Z"
   },
   {
    "duration": 4,
    "start_time": "2025-02-21T23:11:07.941Z"
   },
   {
    "duration": 6,
    "start_time": "2025-02-21T23:15:14.396Z"
   },
   {
    "duration": 170,
    "start_time": "2025-02-21T23:15:23.553Z"
   },
   {
    "duration": 160,
    "start_time": "2025-02-21T23:16:19.484Z"
   },
   {
    "duration": 4,
    "start_time": "2025-02-21T23:16:31.737Z"
   },
   {
    "duration": 4,
    "start_time": "2025-02-21T23:16:39.266Z"
   },
   {
    "duration": 4,
    "start_time": "2025-02-21T23:16:47.870Z"
   },
   {
    "duration": 115,
    "start_time": "2025-02-21T23:17:02.908Z"
   },
   {
    "duration": 3,
    "start_time": "2025-02-21T23:20:34.350Z"
   },
   {
    "duration": 3,
    "start_time": "2025-02-21T23:20:53.955Z"
   },
   {
    "duration": 4,
    "start_time": "2025-02-21T23:21:00.360Z"
   },
   {
    "duration": 159,
    "start_time": "2025-02-21T23:21:10.286Z"
   },
   {
    "duration": 220,
    "start_time": "2025-02-21T23:21:59.004Z"
   },
   {
    "duration": 153,
    "start_time": "2025-02-21T23:22:56.815Z"
   },
   {
    "duration": 7,
    "start_time": "2025-02-21T23:23:18.934Z"
   },
   {
    "duration": 157,
    "start_time": "2025-02-21T23:25:21.366Z"
   },
   {
    "duration": 5,
    "start_time": "2025-02-21T23:29:31.934Z"
   },
   {
    "duration": 5,
    "start_time": "2025-02-21T23:30:19.795Z"
   },
   {
    "duration": 5,
    "start_time": "2025-02-21T23:32:57.897Z"
   },
   {
    "duration": 4,
    "start_time": "2025-02-21T23:33:06.017Z"
   },
   {
    "duration": 593,
    "start_time": "2025-02-21T23:33:23.504Z"
   },
   {
    "duration": 53,
    "start_time": "2025-02-21T23:33:34.034Z"
   },
   {
    "duration": 5,
    "start_time": "2025-02-21T23:47:33.065Z"
   },
   {
    "duration": 20,
    "start_time": "2025-02-21T23:47:44.669Z"
   },
   {
    "duration": 2284,
    "start_time": "2025-02-22T02:16:01.840Z"
   },
   {
    "duration": 38,
    "start_time": "2025-02-22T02:16:04.127Z"
   },
   {
    "duration": 18,
    "start_time": "2025-02-22T02:16:04.167Z"
   },
   {
    "duration": 2,
    "start_time": "2025-02-22T02:16:04.187Z"
   },
   {
    "duration": 4,
    "start_time": "2025-02-22T02:16:04.192Z"
   },
   {
    "duration": 7,
    "start_time": "2025-02-22T02:16:04.197Z"
   },
   {
    "duration": 3,
    "start_time": "2025-02-22T02:16:04.207Z"
   },
   {
    "duration": 12,
    "start_time": "2025-02-22T02:16:04.224Z"
   },
   {
    "duration": 3,
    "start_time": "2025-02-22T02:16:04.238Z"
   },
   {
    "duration": 18,
    "start_time": "2025-02-22T02:16:04.243Z"
   },
   {
    "duration": 3,
    "start_time": "2025-02-22T02:16:04.263Z"
   },
   {
    "duration": 7,
    "start_time": "2025-02-22T02:16:04.269Z"
   },
   {
    "duration": 8,
    "start_time": "2025-02-22T02:16:04.278Z"
   },
   {
    "duration": 53,
    "start_time": "2025-02-22T02:16:04.290Z"
   },
   {
    "duration": 5,
    "start_time": "2025-02-22T02:16:04.344Z"
   },
   {
    "duration": 274,
    "start_time": "2025-02-22T02:16:04.351Z"
   },
   {
    "duration": 8,
    "start_time": "2025-02-22T02:16:04.627Z"
   },
   {
    "duration": 4,
    "start_time": "2025-02-22T02:16:04.636Z"
   },
   {
    "duration": 211,
    "start_time": "2025-02-22T02:16:04.642Z"
   },
   {
    "duration": 17,
    "start_time": "2025-02-22T02:16:04.854Z"
   },
   {
    "duration": 5,
    "start_time": "2025-02-22T02:17:23.810Z"
   },
   {
    "duration": 136,
    "start_time": "2025-02-22T02:19:23.467Z"
   },
   {
    "duration": 175,
    "start_time": "2025-02-22T02:21:19.606Z"
   },
   {
    "duration": 169,
    "start_time": "2025-02-22T02:23:10.184Z"
   },
   {
    "duration": 420,
    "start_time": "2025-02-22T02:31:37.800Z"
   },
   {
    "duration": 25,
    "start_time": "2025-02-22T02:31:38.223Z"
   },
   {
    "duration": 17,
    "start_time": "2025-02-22T02:31:38.250Z"
   },
   {
    "duration": 3,
    "start_time": "2025-02-22T02:31:38.269Z"
   },
   {
    "duration": 4,
    "start_time": "2025-02-22T02:31:38.273Z"
   },
   {
    "duration": 7,
    "start_time": "2025-02-22T02:31:38.278Z"
   },
   {
    "duration": 3,
    "start_time": "2025-02-22T02:31:38.287Z"
   },
   {
    "duration": 39,
    "start_time": "2025-02-22T02:31:38.291Z"
   },
   {
    "duration": 2,
    "start_time": "2025-02-22T02:31:38.332Z"
   },
   {
    "duration": 16,
    "start_time": "2025-02-22T02:31:38.337Z"
   },
   {
    "duration": 3,
    "start_time": "2025-02-22T02:31:38.355Z"
   },
   {
    "duration": 7,
    "start_time": "2025-02-22T02:31:38.360Z"
   },
   {
    "duration": 6,
    "start_time": "2025-02-22T02:31:38.368Z"
   },
   {
    "duration": 50,
    "start_time": "2025-02-22T02:31:38.376Z"
   },
   {
    "duration": 5,
    "start_time": "2025-02-22T02:31:38.427Z"
   },
   {
    "duration": 144,
    "start_time": "2025-02-22T02:31:38.434Z"
   },
   {
    "duration": 6,
    "start_time": "2025-02-22T02:31:38.580Z"
   },
   {
    "duration": 4,
    "start_time": "2025-02-22T02:31:38.588Z"
   },
   {
    "duration": 188,
    "start_time": "2025-02-22T02:31:38.594Z"
   },
   {
    "duration": 17,
    "start_time": "2025-02-22T02:31:38.783Z"
   },
   {
    "duration": 22,
    "start_time": "2025-02-22T02:31:38.802Z"
   },
   {
    "duration": 2,
    "start_time": "2025-02-22T02:49:21.312Z"
   },
   {
    "duration": 24,
    "start_time": "2025-02-22T02:49:21.316Z"
   },
   {
    "duration": 16,
    "start_time": "2025-02-22T02:49:21.341Z"
   },
   {
    "duration": 3,
    "start_time": "2025-02-22T02:49:21.358Z"
   },
   {
    "duration": 3,
    "start_time": "2025-02-22T02:49:21.363Z"
   },
   {
    "duration": 6,
    "start_time": "2025-02-22T02:49:21.367Z"
   },
   {
    "duration": 3,
    "start_time": "2025-02-22T02:49:21.374Z"
   },
   {
    "duration": 9,
    "start_time": "2025-02-22T02:49:21.379Z"
   },
   {
    "duration": 35,
    "start_time": "2025-02-22T02:49:21.390Z"
   },
   {
    "duration": 18,
    "start_time": "2025-02-22T02:49:21.427Z"
   },
   {
    "duration": 3,
    "start_time": "2025-02-22T02:49:21.447Z"
   },
   {
    "duration": 7,
    "start_time": "2025-02-22T02:49:21.451Z"
   },
   {
    "duration": 7,
    "start_time": "2025-02-22T02:49:21.461Z"
   },
   {
    "duration": 18,
    "start_time": "2025-02-22T02:49:21.469Z"
   },
   {
    "duration": 37,
    "start_time": "2025-02-22T02:49:21.488Z"
   },
   {
    "duration": 139,
    "start_time": "2025-02-22T02:49:21.527Z"
   },
   {
    "duration": 7,
    "start_time": "2025-02-22T02:49:21.668Z"
   },
   {
    "duration": 5,
    "start_time": "2025-02-22T02:49:21.676Z"
   },
   {
    "duration": 247,
    "start_time": "2025-02-22T02:49:21.682Z"
   },
   {
    "duration": 26,
    "start_time": "2025-02-22T02:49:21.931Z"
   },
   {
    "duration": 5,
    "start_time": "2025-02-22T02:49:21.958Z"
   },
   {
    "duration": 409,
    "start_time": "2025-02-22T02:54:12.041Z"
   },
   {
    "duration": 196,
    "start_time": "2025-02-22T02:54:26.743Z"
   },
   {
    "duration": 228,
    "start_time": "2025-02-22T02:54:54.202Z"
   },
   {
    "duration": 194,
    "start_time": "2025-02-22T02:55:10.114Z"
   },
   {
    "duration": 195,
    "start_time": "2025-02-22T02:55:19.737Z"
   },
   {
    "duration": 192,
    "start_time": "2025-02-22T02:55:29.016Z"
   },
   {
    "duration": 193,
    "start_time": "2025-02-22T02:55:43.399Z"
   },
   {
    "duration": 3,
    "start_time": "2025-02-22T03:07:51.434Z"
   },
   {
    "duration": 17,
    "start_time": "2025-02-22T03:08:17.938Z"
   },
   {
    "duration": 2547,
    "start_time": "2025-02-22T23:24:28.401Z"
   },
   {
    "duration": 36,
    "start_time": "2025-02-22T23:24:30.950Z"
   },
   {
    "duration": 18,
    "start_time": "2025-02-22T23:24:30.988Z"
   },
   {
    "duration": 3,
    "start_time": "2025-02-22T23:24:31.008Z"
   },
   {
    "duration": 5,
    "start_time": "2025-02-22T23:24:31.012Z"
   },
   {
    "duration": 6,
    "start_time": "2025-02-22T23:24:31.018Z"
   },
   {
    "duration": 3,
    "start_time": "2025-02-22T23:24:31.026Z"
   },
   {
    "duration": 10,
    "start_time": "2025-02-22T23:24:31.030Z"
   },
   {
    "duration": 2,
    "start_time": "2025-02-22T23:24:31.042Z"
   },
   {
    "duration": 17,
    "start_time": "2025-02-22T23:24:31.047Z"
   },
   {
    "duration": 3,
    "start_time": "2025-02-22T23:24:31.066Z"
   },
   {
    "duration": 44,
    "start_time": "2025-02-22T23:24:31.070Z"
   },
   {
    "duration": 7,
    "start_time": "2025-02-22T23:24:31.116Z"
   },
   {
    "duration": 18,
    "start_time": "2025-02-22T23:24:31.126Z"
   },
   {
    "duration": 3,
    "start_time": "2025-02-22T23:24:31.146Z"
   },
   {
    "duration": 171,
    "start_time": "2025-02-22T23:24:31.152Z"
   },
   {
    "duration": 6,
    "start_time": "2025-02-22T23:24:31.324Z"
   },
   {
    "duration": 4,
    "start_time": "2025-02-22T23:24:31.332Z"
   },
   {
    "duration": 199,
    "start_time": "2025-02-22T23:24:31.338Z"
   },
   {
    "duration": 16,
    "start_time": "2025-02-22T23:24:31.539Z"
   },
   {
    "duration": 4,
    "start_time": "2025-02-22T23:24:31.557Z"
   },
   {
    "duration": 201,
    "start_time": "2025-02-22T23:24:31.563Z"
   },
   {
    "duration": 20,
    "start_time": "2025-02-22T23:24:31.766Z"
   },
   {
    "duration": 5,
    "start_time": "2025-02-22T23:24:38.490Z"
   },
   {
    "duration": 349,
    "start_time": "2025-02-22T23:24:50.670Z"
   },
   {
    "duration": 136,
    "start_time": "2025-02-22T23:25:29.067Z"
   },
   {
    "duration": 219,
    "start_time": "2025-02-22T23:36:39.019Z"
   },
   {
    "duration": 361,
    "start_time": "2025-02-22T23:36:55.248Z"
   },
   {
    "duration": 304,
    "start_time": "2025-02-22T23:45:40.526Z"
   },
   {
    "duration": 330,
    "start_time": "2025-02-22T23:46:08.386Z"
   },
   {
    "duration": 208,
    "start_time": "2025-02-22T23:57:07.558Z"
   },
   {
    "duration": 280,
    "start_time": "2025-02-22T23:57:20.114Z"
   },
   {
    "duration": 232,
    "start_time": "2025-02-22T23:57:50.843Z"
   },
   {
    "duration": 410,
    "start_time": "2025-02-22T23:58:01.336Z"
   },
   {
    "duration": 430,
    "start_time": "2025-02-22T23:58:19.927Z"
   },
   {
    "duration": 414,
    "start_time": "2025-02-22T23:58:42.163Z"
   },
   {
    "duration": 366,
    "start_time": "2025-02-23T00:02:44.297Z"
   },
   {
    "duration": 388,
    "start_time": "2025-02-23T00:08:46.199Z"
   },
   {
    "duration": 350,
    "start_time": "2025-02-23T00:09:03.827Z"
   },
   {
    "duration": 249,
    "start_time": "2025-02-23T00:09:20.415Z"
   },
   {
    "duration": 4,
    "start_time": "2025-02-23T00:11:08.192Z"
   },
   {
    "duration": 5,
    "start_time": "2025-02-23T00:12:04.052Z"
   },
   {
    "duration": 134,
    "start_time": "2025-02-23T01:13:00.294Z"
   },
   {
    "duration": 158,
    "start_time": "2025-02-23T01:13:28.622Z"
   },
   {
    "duration": 3,
    "start_time": "2025-02-23T01:20:25.214Z"
   },
   {
    "duration": 157,
    "start_time": "2025-02-23T01:20:32.228Z"
   },
   {
    "duration": 786,
    "start_time": "2025-02-23T01:20:41.612Z"
   },
   {
    "duration": 29,
    "start_time": "2025-02-23T01:20:42.400Z"
   },
   {
    "duration": 18,
    "start_time": "2025-02-23T01:20:42.434Z"
   },
   {
    "duration": 3,
    "start_time": "2025-02-23T01:20:42.453Z"
   },
   {
    "duration": 4,
    "start_time": "2025-02-23T01:20:42.458Z"
   },
   {
    "duration": 6,
    "start_time": "2025-02-23T01:20:42.464Z"
   },
   {
    "duration": 3,
    "start_time": "2025-02-23T01:20:42.471Z"
   },
   {
    "duration": 10,
    "start_time": "2025-02-23T01:20:42.509Z"
   },
   {
    "duration": 2,
    "start_time": "2025-02-23T01:20:42.521Z"
   },
   {
    "duration": 17,
    "start_time": "2025-02-23T01:20:42.525Z"
   },
   {
    "duration": 3,
    "start_time": "2025-02-23T01:20:42.543Z"
   },
   {
    "duration": 6,
    "start_time": "2025-02-23T01:20:42.548Z"
   },
   {
    "duration": 7,
    "start_time": "2025-02-23T01:20:42.555Z"
   },
   {
    "duration": 59,
    "start_time": "2025-02-23T01:20:42.564Z"
   },
   {
    "duration": 4,
    "start_time": "2025-02-23T01:20:42.625Z"
   },
   {
    "duration": 156,
    "start_time": "2025-02-23T01:20:42.632Z"
   },
   {
    "duration": 7,
    "start_time": "2025-02-23T01:20:42.790Z"
   },
   {
    "duration": 12,
    "start_time": "2025-02-23T01:20:42.798Z"
   },
   {
    "duration": 214,
    "start_time": "2025-02-23T01:20:42.812Z"
   },
   {
    "duration": 17,
    "start_time": "2025-02-23T01:20:43.028Z"
   },
   {
    "duration": 4,
    "start_time": "2025-02-23T01:20:43.047Z"
   },
   {
    "duration": 242,
    "start_time": "2025-02-23T01:20:43.053Z"
   },
   {
    "duration": 25,
    "start_time": "2025-02-23T01:20:43.297Z"
   },
   {
    "duration": 4,
    "start_time": "2025-02-23T01:20:43.324Z"
   },
   {
    "duration": 171,
    "start_time": "2025-02-23T01:20:43.329Z"
   },
   {
    "duration": 793,
    "start_time": "2025-02-23T01:31:32.091Z"
   },
   {
    "duration": 29,
    "start_time": "2025-02-23T01:31:32.886Z"
   },
   {
    "duration": 18,
    "start_time": "2025-02-23T01:31:32.916Z"
   },
   {
    "duration": 3,
    "start_time": "2025-02-23T01:31:32.936Z"
   },
   {
    "duration": 3,
    "start_time": "2025-02-23T01:31:32.941Z"
   },
   {
    "duration": 6,
    "start_time": "2025-02-23T01:31:32.946Z"
   },
   {
    "duration": 4,
    "start_time": "2025-02-23T01:31:32.953Z"
   },
   {
    "duration": 10,
    "start_time": "2025-02-23T01:31:32.958Z"
   },
   {
    "duration": 2,
    "start_time": "2025-02-23T01:31:32.970Z"
   },
   {
    "duration": 49,
    "start_time": "2025-02-23T01:31:32.975Z"
   },
   {
    "duration": 3,
    "start_time": "2025-02-23T01:31:33.026Z"
   },
   {
    "duration": 7,
    "start_time": "2025-02-23T01:31:33.030Z"
   },
   {
    "duration": 7,
    "start_time": "2025-02-23T01:31:33.039Z"
   },
   {
    "duration": 18,
    "start_time": "2025-02-23T01:31:33.047Z"
   },
   {
    "duration": 4,
    "start_time": "2025-02-23T01:31:33.066Z"
   },
   {
    "duration": 145,
    "start_time": "2025-02-23T01:31:33.108Z"
   },
   {
    "duration": 8,
    "start_time": "2025-02-23T01:31:33.255Z"
   },
   {
    "duration": 4,
    "start_time": "2025-02-23T01:31:33.264Z"
   },
   {
    "duration": 203,
    "start_time": "2025-02-23T01:31:33.270Z"
   },
   {
    "duration": 18,
    "start_time": "2025-02-23T01:31:33.475Z"
   },
   {
    "duration": 5,
    "start_time": "2025-02-23T01:31:33.494Z"
   },
   {
    "duration": 273,
    "start_time": "2025-02-23T01:31:33.500Z"
   },
   {
    "duration": 3,
    "start_time": "2025-02-23T01:31:33.775Z"
   },
   {
    "duration": 174,
    "start_time": "2025-02-23T01:31:33.780Z"
   },
   {
    "duration": 156,
    "start_time": "2025-02-23T01:31:33.955Z"
   },
   {
    "duration": 150,
    "start_time": "2025-02-23T01:32:00.870Z"
   },
   {
    "duration": 861,
    "start_time": "2025-02-23T01:36:03.331Z"
   },
   {
    "duration": 28,
    "start_time": "2025-02-23T01:36:04.194Z"
   },
   {
    "duration": 19,
    "start_time": "2025-02-23T01:36:04.223Z"
   },
   {
    "duration": 3,
    "start_time": "2025-02-23T01:36:04.243Z"
   },
   {
    "duration": 4,
    "start_time": "2025-02-23T01:36:04.248Z"
   },
   {
    "duration": 6,
    "start_time": "2025-02-23T01:36:04.253Z"
   },
   {
    "duration": 3,
    "start_time": "2025-02-23T01:36:04.261Z"
   },
   {
    "duration": 12,
    "start_time": "2025-02-23T01:36:04.265Z"
   },
   {
    "duration": 32,
    "start_time": "2025-02-23T01:36:04.278Z"
   },
   {
    "duration": 16,
    "start_time": "2025-02-23T01:36:04.314Z"
   },
   {
    "duration": 3,
    "start_time": "2025-02-23T01:36:04.332Z"
   },
   {
    "duration": 7,
    "start_time": "2025-02-23T01:36:04.337Z"
   },
   {
    "duration": 7,
    "start_time": "2025-02-23T01:36:04.345Z"
   },
   {
    "duration": 19,
    "start_time": "2025-02-23T01:36:04.353Z"
   },
   {
    "duration": 4,
    "start_time": "2025-02-23T01:36:04.410Z"
   },
   {
    "duration": 152,
    "start_time": "2025-02-23T01:36:04.415Z"
   },
   {
    "duration": 7,
    "start_time": "2025-02-23T01:36:04.569Z"
   },
   {
    "duration": 3,
    "start_time": "2025-02-23T01:36:04.579Z"
   },
   {
    "duration": 210,
    "start_time": "2025-02-23T01:36:04.584Z"
   },
   {
    "duration": 17,
    "start_time": "2025-02-23T01:36:04.796Z"
   },
   {
    "duration": 4,
    "start_time": "2025-02-23T01:36:04.815Z"
   },
   {
    "duration": 256,
    "start_time": "2025-02-23T01:36:04.821Z"
   },
   {
    "duration": 4,
    "start_time": "2025-02-23T01:36:05.080Z"
   },
   {
    "duration": 165,
    "start_time": "2025-02-23T01:36:05.085Z"
   },
   {
    "duration": 166,
    "start_time": "2025-02-23T01:36:05.251Z"
   },
   {
    "duration": 142,
    "start_time": "2025-02-23T01:39:38.346Z"
   },
   {
    "duration": 4,
    "start_time": "2025-02-23T01:40:21.415Z"
   },
   {
    "duration": 140,
    "start_time": "2025-02-23T01:40:32.147Z"
   },
   {
    "duration": 816,
    "start_time": "2025-02-23T01:40:40.929Z"
   },
   {
    "duration": 23,
    "start_time": "2025-02-23T01:40:41.747Z"
   },
   {
    "duration": 17,
    "start_time": "2025-02-23T01:40:41.772Z"
   },
   {
    "duration": 3,
    "start_time": "2025-02-23T01:40:41.791Z"
   },
   {
    "duration": 4,
    "start_time": "2025-02-23T01:40:41.809Z"
   },
   {
    "duration": 6,
    "start_time": "2025-02-23T01:40:41.815Z"
   },
   {
    "duration": 4,
    "start_time": "2025-02-23T01:40:41.822Z"
   },
   {
    "duration": 10,
    "start_time": "2025-02-23T01:40:41.828Z"
   },
   {
    "duration": 3,
    "start_time": "2025-02-23T01:40:41.839Z"
   },
   {
    "duration": 17,
    "start_time": "2025-02-23T01:40:41.845Z"
   },
   {
    "duration": 3,
    "start_time": "2025-02-23T01:40:41.864Z"
   },
   {
    "duration": 41,
    "start_time": "2025-02-23T01:40:41.868Z"
   },
   {
    "duration": 6,
    "start_time": "2025-02-23T01:40:41.911Z"
   },
   {
    "duration": 19,
    "start_time": "2025-02-23T01:40:41.919Z"
   },
   {
    "duration": 4,
    "start_time": "2025-02-23T01:40:41.939Z"
   },
   {
    "duration": 172,
    "start_time": "2025-02-23T01:40:41.945Z"
   },
   {
    "duration": 7,
    "start_time": "2025-02-23T01:40:42.119Z"
   },
   {
    "duration": 4,
    "start_time": "2025-02-23T01:40:42.127Z"
   },
   {
    "duration": 204,
    "start_time": "2025-02-23T01:40:42.133Z"
   },
   {
    "duration": 23,
    "start_time": "2025-02-23T01:40:42.339Z"
   },
   {
    "duration": 6,
    "start_time": "2025-02-23T01:40:42.364Z"
   },
   {
    "duration": 248,
    "start_time": "2025-02-23T01:40:42.372Z"
   },
   {
    "duration": 5,
    "start_time": "2025-02-23T01:40:42.622Z"
   },
   {
    "duration": 160,
    "start_time": "2025-02-23T01:40:42.628Z"
   },
   {
    "duration": 165,
    "start_time": "2025-02-23T01:40:42.789Z"
   },
   {
    "duration": 149,
    "start_time": "2025-02-23T01:40:42.956Z"
   },
   {
    "duration": 821,
    "start_time": "2025-02-23T01:42:23.522Z"
   },
   {
    "duration": 29,
    "start_time": "2025-02-23T01:42:24.346Z"
   },
   {
    "duration": 17,
    "start_time": "2025-02-23T01:42:24.378Z"
   },
   {
    "duration": 12,
    "start_time": "2025-02-23T01:42:24.397Z"
   },
   {
    "duration": 4,
    "start_time": "2025-02-23T01:42:24.412Z"
   },
   {
    "duration": 7,
    "start_time": "2025-02-23T01:42:24.418Z"
   },
   {
    "duration": 3,
    "start_time": "2025-02-23T01:42:24.427Z"
   },
   {
    "duration": 11,
    "start_time": "2025-02-23T01:42:24.431Z"
   },
   {
    "duration": 3,
    "start_time": "2025-02-23T01:42:24.443Z"
   },
   {
    "duration": 19,
    "start_time": "2025-02-23T01:42:24.447Z"
   },
   {
    "duration": 3,
    "start_time": "2025-02-23T01:42:24.468Z"
   },
   {
    "duration": 6,
    "start_time": "2025-02-23T01:42:24.509Z"
   },
   {
    "duration": 7,
    "start_time": "2025-02-23T01:42:24.517Z"
   },
   {
    "duration": 17,
    "start_time": "2025-02-23T01:42:24.527Z"
   },
   {
    "duration": 3,
    "start_time": "2025-02-23T01:42:24.546Z"
   },
   {
    "duration": 169,
    "start_time": "2025-02-23T01:42:24.551Z"
   },
   {
    "duration": 6,
    "start_time": "2025-02-23T01:42:24.723Z"
   },
   {
    "duration": 3,
    "start_time": "2025-02-23T01:42:24.731Z"
   },
   {
    "duration": 201,
    "start_time": "2025-02-23T01:42:24.736Z"
   },
   {
    "duration": 18,
    "start_time": "2025-02-23T01:42:24.939Z"
   },
   {
    "duration": 5,
    "start_time": "2025-02-23T01:42:24.958Z"
   },
   {
    "duration": 245,
    "start_time": "2025-02-23T01:42:24.965Z"
   },
   {
    "duration": 4,
    "start_time": "2025-02-23T01:42:25.212Z"
   },
   {
    "duration": 160,
    "start_time": "2025-02-23T01:42:25.217Z"
   },
   {
    "duration": 165,
    "start_time": "2025-02-23T01:42:25.380Z"
   },
   {
    "duration": 152,
    "start_time": "2025-02-23T01:42:25.548Z"
   },
   {
    "duration": 814,
    "start_time": "2025-02-23T01:42:50.246Z"
   },
   {
    "duration": 24,
    "start_time": "2025-02-23T01:42:51.062Z"
   },
   {
    "duration": 25,
    "start_time": "2025-02-23T01:42:51.087Z"
   },
   {
    "duration": 3,
    "start_time": "2025-02-23T01:42:51.114Z"
   },
   {
    "duration": 3,
    "start_time": "2025-02-23T01:42:51.119Z"
   },
   {
    "duration": 7,
    "start_time": "2025-02-23T01:42:51.124Z"
   },
   {
    "duration": 3,
    "start_time": "2025-02-23T01:42:51.132Z"
   },
   {
    "duration": 10,
    "start_time": "2025-02-23T01:42:51.137Z"
   },
   {
    "duration": 3,
    "start_time": "2025-02-23T01:42:51.148Z"
   },
   {
    "duration": 18,
    "start_time": "2025-02-23T01:42:51.154Z"
   },
   {
    "duration": 36,
    "start_time": "2025-02-23T01:42:51.173Z"
   },
   {
    "duration": 7,
    "start_time": "2025-02-23T01:42:51.211Z"
   },
   {
    "duration": 6,
    "start_time": "2025-02-23T01:42:51.219Z"
   },
   {
    "duration": 18,
    "start_time": "2025-02-23T01:42:51.227Z"
   },
   {
    "duration": 4,
    "start_time": "2025-02-23T01:42:51.246Z"
   },
   {
    "duration": 174,
    "start_time": "2025-02-23T01:42:51.251Z"
   },
   {
    "duration": 7,
    "start_time": "2025-02-23T01:42:51.426Z"
   },
   {
    "duration": 4,
    "start_time": "2025-02-23T01:42:51.434Z"
   },
   {
    "duration": 207,
    "start_time": "2025-02-23T01:42:51.439Z"
   },
   {
    "duration": 18,
    "start_time": "2025-02-23T01:42:51.647Z"
   },
   {
    "duration": 5,
    "start_time": "2025-02-23T01:42:51.667Z"
   },
   {
    "duration": 253,
    "start_time": "2025-02-23T01:42:51.673Z"
   },
   {
    "duration": 4,
    "start_time": "2025-02-23T01:42:51.928Z"
   },
   {
    "duration": 169,
    "start_time": "2025-02-23T01:42:51.934Z"
   },
   {
    "duration": 165,
    "start_time": "2025-02-23T01:42:52.108Z"
   },
   {
    "duration": 146,
    "start_time": "2025-02-23T01:42:52.275Z"
   },
   {
    "duration": 818,
    "start_time": "2025-02-23T01:44:11.791Z"
   },
   {
    "duration": 24,
    "start_time": "2025-02-23T01:44:12.612Z"
   },
   {
    "duration": 16,
    "start_time": "2025-02-23T01:44:12.638Z"
   },
   {
    "duration": 3,
    "start_time": "2025-02-23T01:44:12.656Z"
   },
   {
    "duration": 5,
    "start_time": "2025-02-23T01:44:12.662Z"
   },
   {
    "duration": 6,
    "start_time": "2025-02-23T01:44:12.668Z"
   },
   {
    "duration": 3,
    "start_time": "2025-02-23T01:44:12.676Z"
   },
   {
    "duration": 11,
    "start_time": "2025-02-23T01:44:12.708Z"
   },
   {
    "duration": 5,
    "start_time": "2025-02-23T01:44:12.721Z"
   },
   {
    "duration": 17,
    "start_time": "2025-02-23T01:44:12.728Z"
   },
   {
    "duration": 3,
    "start_time": "2025-02-23T01:44:12.747Z"
   },
   {
    "duration": 7,
    "start_time": "2025-02-23T01:44:12.751Z"
   },
   {
    "duration": 7,
    "start_time": "2025-02-23T01:44:12.759Z"
   },
   {
    "duration": 50,
    "start_time": "2025-02-23T01:44:12.769Z"
   },
   {
    "duration": 4,
    "start_time": "2025-02-23T01:44:12.821Z"
   },
   {
    "duration": 157,
    "start_time": "2025-02-23T01:44:12.826Z"
   },
   {
    "duration": 6,
    "start_time": "2025-02-23T01:44:12.985Z"
   },
   {
    "duration": 17,
    "start_time": "2025-02-23T01:44:12.993Z"
   },
   {
    "duration": 193,
    "start_time": "2025-02-23T01:44:13.012Z"
   },
   {
    "duration": 17,
    "start_time": "2025-02-23T01:44:13.207Z"
   },
   {
    "duration": 5,
    "start_time": "2025-02-23T01:44:13.226Z"
   },
   {
    "duration": 256,
    "start_time": "2025-02-23T01:44:13.233Z"
   },
   {
    "duration": 5,
    "start_time": "2025-02-23T01:44:13.491Z"
   },
   {
    "duration": 179,
    "start_time": "2025-02-23T01:44:13.497Z"
   },
   {
    "duration": 174,
    "start_time": "2025-02-23T01:44:13.678Z"
   },
   {
    "duration": 166,
    "start_time": "2025-02-23T01:44:13.853Z"
   },
   {
    "duration": 159,
    "start_time": "2025-02-23T01:44:25.694Z"
   },
   {
    "duration": 19,
    "start_time": "2025-02-23T01:51:12.199Z"
   },
   {
    "duration": 11,
    "start_time": "2025-02-23T01:52:11.426Z"
   },
   {
    "duration": 21,
    "start_time": "2025-02-23T01:57:36.330Z"
   },
   {
    "duration": 801,
    "start_time": "2025-02-23T01:58:11.114Z"
   },
   {
    "duration": 23,
    "start_time": "2025-02-23T01:58:11.917Z"
   },
   {
    "duration": 17,
    "start_time": "2025-02-23T01:58:11.942Z"
   },
   {
    "duration": 3,
    "start_time": "2025-02-23T01:58:11.961Z"
   },
   {
    "duration": 4,
    "start_time": "2025-02-23T01:58:11.966Z"
   },
   {
    "duration": 6,
    "start_time": "2025-02-23T01:58:11.972Z"
   },
   {
    "duration": 30,
    "start_time": "2025-02-23T01:58:11.980Z"
   },
   {
    "duration": 10,
    "start_time": "2025-02-23T01:58:12.012Z"
   },
   {
    "duration": 3,
    "start_time": "2025-02-23T01:58:12.023Z"
   },
   {
    "duration": 18,
    "start_time": "2025-02-23T01:58:12.029Z"
   },
   {
    "duration": 2,
    "start_time": "2025-02-23T01:58:12.049Z"
   },
   {
    "duration": 7,
    "start_time": "2025-02-23T01:58:12.053Z"
   },
   {
    "duration": 7,
    "start_time": "2025-02-23T01:58:12.061Z"
   },
   {
    "duration": 53,
    "start_time": "2025-02-23T01:58:12.069Z"
   },
   {
    "duration": 14,
    "start_time": "2025-02-23T01:58:12.123Z"
   },
   {
    "duration": 4,
    "start_time": "2025-02-23T01:58:12.139Z"
   },
   {
    "duration": 165,
    "start_time": "2025-02-23T01:58:12.144Z"
   },
   {
    "duration": 7,
    "start_time": "2025-02-23T01:58:12.310Z"
   },
   {
    "duration": 4,
    "start_time": "2025-02-23T01:58:12.318Z"
   },
   {
    "duration": 219,
    "start_time": "2025-02-23T01:58:12.323Z"
   },
   {
    "duration": 19,
    "start_time": "2025-02-23T01:58:12.543Z"
   },
   {
    "duration": 5,
    "start_time": "2025-02-23T01:58:12.563Z"
   },
   {
    "duration": 249,
    "start_time": "2025-02-23T01:58:12.569Z"
   },
   {
    "duration": 5,
    "start_time": "2025-02-23T01:58:12.820Z"
   },
   {
    "duration": 165,
    "start_time": "2025-02-23T01:58:12.827Z"
   },
   {
    "duration": 171,
    "start_time": "2025-02-23T01:58:12.993Z"
   },
   {
    "duration": 167,
    "start_time": "2025-02-23T01:58:13.165Z"
   },
   {
    "duration": 3,
    "start_time": "2025-02-23T02:23:41.442Z"
   },
   {
    "duration": 4,
    "start_time": "2025-02-23T02:23:56.624Z"
   },
   {
    "duration": 6,
    "start_time": "2025-02-23T02:24:36.719Z"
   },
   {
    "duration": 224,
    "start_time": "2025-02-23T02:36:39.764Z"
   },
   {
    "duration": 234,
    "start_time": "2025-02-23T02:46:34.736Z"
   },
   {
    "duration": 2562,
    "start_time": "2025-02-24T01:46:03.029Z"
   },
   {
    "duration": 35,
    "start_time": "2025-02-24T01:46:05.593Z"
   },
   {
    "duration": 17,
    "start_time": "2025-02-24T01:46:05.629Z"
   },
   {
    "duration": 3,
    "start_time": "2025-02-24T01:46:05.648Z"
   },
   {
    "duration": 4,
    "start_time": "2025-02-24T01:46:05.654Z"
   },
   {
    "duration": 6,
    "start_time": "2025-02-24T01:46:05.659Z"
   },
   {
    "duration": 3,
    "start_time": "2025-02-24T01:46:05.667Z"
   },
   {
    "duration": 35,
    "start_time": "2025-02-24T01:46:05.671Z"
   },
   {
    "duration": 3,
    "start_time": "2025-02-24T01:46:05.707Z"
   },
   {
    "duration": 18,
    "start_time": "2025-02-24T01:46:05.711Z"
   },
   {
    "duration": 2,
    "start_time": "2025-02-24T01:46:05.730Z"
   },
   {
    "duration": 6,
    "start_time": "2025-02-24T01:46:05.734Z"
   },
   {
    "duration": 7,
    "start_time": "2025-02-24T01:46:05.742Z"
   },
   {
    "duration": 18,
    "start_time": "2025-02-24T01:46:05.752Z"
   },
   {
    "duration": 15,
    "start_time": "2025-02-24T01:46:05.805Z"
   },
   {
    "duration": 3,
    "start_time": "2025-02-24T01:46:05.823Z"
   },
   {
    "duration": 173,
    "start_time": "2025-02-24T01:46:05.828Z"
   },
   {
    "duration": 9,
    "start_time": "2025-02-24T01:46:06.003Z"
   },
   {
    "duration": 7,
    "start_time": "2025-02-24T01:46:06.014Z"
   },
   {
    "duration": 230,
    "start_time": "2025-02-24T01:46:06.023Z"
   },
   {
    "duration": 19,
    "start_time": "2025-02-24T01:46:06.255Z"
   },
   {
    "duration": 5,
    "start_time": "2025-02-24T01:46:06.275Z"
   },
   {
    "duration": 221,
    "start_time": "2025-02-24T01:46:06.282Z"
   },
   {
    "duration": 5,
    "start_time": "2025-02-24T01:46:06.507Z"
   },
   {
    "duration": 259,
    "start_time": "2025-02-24T01:46:06.514Z"
   },
   {
    "duration": 166,
    "start_time": "2025-02-24T01:46:06.774Z"
   },
   {
    "duration": 187,
    "start_time": "2025-02-24T01:46:06.942Z"
   },
   {
    "duration": 6,
    "start_time": "2025-02-24T01:46:07.132Z"
   },
   {
    "duration": 235,
    "start_time": "2025-02-24T01:46:07.140Z"
   },
   {
    "duration": 13,
    "start_time": "2025-02-24T01:46:37.820Z"
   },
   {
    "duration": 10,
    "start_time": "2025-02-24T02:02:19.041Z"
   },
   {
    "duration": 11,
    "start_time": "2025-02-24T02:03:33.418Z"
   },
   {
    "duration": 10,
    "start_time": "2025-02-24T02:05:38.910Z"
   },
   {
    "duration": 9,
    "start_time": "2025-02-24T02:06:48.953Z"
   },
   {
    "duration": 9,
    "start_time": "2025-02-24T02:07:26.864Z"
   },
   {
    "duration": 3,
    "start_time": "2025-02-24T02:29:47.014Z"
   },
   {
    "duration": 794,
    "start_time": "2025-02-24T02:29:54.416Z"
   },
   {
    "duration": 24,
    "start_time": "2025-02-24T02:29:55.213Z"
   },
   {
    "duration": 18,
    "start_time": "2025-02-24T02:29:55.239Z"
   },
   {
    "duration": 2,
    "start_time": "2025-02-24T02:29:55.259Z"
   },
   {
    "duration": 3,
    "start_time": "2025-02-24T02:29:55.264Z"
   },
   {
    "duration": 6,
    "start_time": "2025-02-24T02:29:55.269Z"
   },
   {
    "duration": 3,
    "start_time": "2025-02-24T02:29:55.276Z"
   },
   {
    "duration": 11,
    "start_time": "2025-02-24T02:29:55.306Z"
   },
   {
    "duration": 3,
    "start_time": "2025-02-24T02:29:55.318Z"
   },
   {
    "duration": 19,
    "start_time": "2025-02-24T02:29:55.323Z"
   },
   {
    "duration": 3,
    "start_time": "2025-02-24T02:29:55.343Z"
   },
   {
    "duration": 7,
    "start_time": "2025-02-24T02:29:55.347Z"
   },
   {
    "duration": 6,
    "start_time": "2025-02-24T02:29:55.355Z"
   },
   {
    "duration": 49,
    "start_time": "2025-02-24T02:29:55.364Z"
   },
   {
    "duration": 15,
    "start_time": "2025-02-24T02:29:55.415Z"
   },
   {
    "duration": 4,
    "start_time": "2025-02-24T02:29:55.431Z"
   },
   {
    "duration": 169,
    "start_time": "2025-02-24T02:29:55.437Z"
   },
   {
    "duration": 6,
    "start_time": "2025-02-24T02:29:55.608Z"
   },
   {
    "duration": 4,
    "start_time": "2025-02-24T02:29:55.616Z"
   },
   {
    "duration": 212,
    "start_time": "2025-02-24T02:29:55.621Z"
   },
   {
    "duration": 17,
    "start_time": "2025-02-24T02:29:55.835Z"
   },
   {
    "duration": 5,
    "start_time": "2025-02-24T02:29:55.853Z"
   },
   {
    "duration": 241,
    "start_time": "2025-02-24T02:29:55.859Z"
   },
   {
    "duration": 4,
    "start_time": "2025-02-24T02:29:56.105Z"
   },
   {
    "duration": 165,
    "start_time": "2025-02-24T02:29:56.110Z"
   },
   {
    "duration": 168,
    "start_time": "2025-02-24T02:29:56.277Z"
   },
   {
    "duration": 166,
    "start_time": "2025-02-24T02:29:56.447Z"
   },
   {
    "duration": 7,
    "start_time": "2025-02-24T02:29:56.615Z"
   },
   {
    "duration": 243,
    "start_time": "2025-02-24T02:29:56.624Z"
   },
   {
    "duration": 13,
    "start_time": "2025-02-24T02:29:56.869Z"
   },
   {
    "duration": 24,
    "start_time": "2025-02-24T02:29:56.883Z"
   },
   {
    "duration": 11,
    "start_time": "2025-02-24T02:29:56.909Z"
   },
   {
    "duration": 10,
    "start_time": "2025-02-24T02:29:56.922Z"
   },
   {
    "duration": 220,
    "start_time": "2025-02-24T02:45:58.983Z"
   },
   {
    "duration": 10,
    "start_time": "2025-02-24T02:46:10.739Z"
   },
   {
    "duration": 19,
    "start_time": "2025-02-24T02:46:53.572Z"
   },
   {
    "duration": 6,
    "start_time": "2025-02-24T02:47:18.880Z"
   },
   {
    "duration": 20,
    "start_time": "2025-02-24T02:52:24.597Z"
   },
   {
    "duration": 8,
    "start_time": "2025-02-24T02:52:37.742Z"
   },
   {
    "duration": 80,
    "start_time": "2025-02-24T02:52:56.072Z"
   },
   {
    "duration": 7,
    "start_time": "2025-02-24T02:53:14.614Z"
   },
   {
    "duration": 2513,
    "start_time": "2025-02-25T00:50:00.346Z"
   },
   {
    "duration": 33,
    "start_time": "2025-02-25T00:50:02.861Z"
   },
   {
    "duration": 18,
    "start_time": "2025-02-25T00:50:02.896Z"
   },
   {
    "duration": 2,
    "start_time": "2025-02-25T00:50:02.916Z"
   },
   {
    "duration": 3,
    "start_time": "2025-02-25T00:50:02.931Z"
   },
   {
    "duration": 6,
    "start_time": "2025-02-25T00:50:02.935Z"
   },
   {
    "duration": 3,
    "start_time": "2025-02-25T00:50:02.943Z"
   },
   {
    "duration": 10,
    "start_time": "2025-02-25T00:50:02.948Z"
   },
   {
    "duration": 2,
    "start_time": "2025-02-25T00:50:02.960Z"
   },
   {
    "duration": 19,
    "start_time": "2025-02-25T00:50:02.964Z"
   },
   {
    "duration": 3,
    "start_time": "2025-02-25T00:50:02.985Z"
   },
   {
    "duration": 42,
    "start_time": "2025-02-25T00:50:02.989Z"
   },
   {
    "duration": 7,
    "start_time": "2025-02-25T00:50:03.033Z"
   },
   {
    "duration": 18,
    "start_time": "2025-02-25T00:50:03.044Z"
   },
   {
    "duration": 15,
    "start_time": "2025-02-25T00:50:03.064Z"
   },
   {
    "duration": 4,
    "start_time": "2025-02-25T00:50:03.080Z"
   },
   {
    "duration": 173,
    "start_time": "2025-02-25T00:50:03.086Z"
   },
   {
    "duration": 6,
    "start_time": "2025-02-25T00:50:03.261Z"
   },
   {
    "duration": 3,
    "start_time": "2025-02-25T00:50:03.269Z"
   },
   {
    "duration": 219,
    "start_time": "2025-02-25T00:50:03.273Z"
   },
   {
    "duration": 18,
    "start_time": "2025-02-25T00:50:03.493Z"
   },
   {
    "duration": 4,
    "start_time": "2025-02-25T00:50:03.513Z"
   },
   {
    "duration": 217,
    "start_time": "2025-02-25T00:50:03.519Z"
   },
   {
    "duration": 5,
    "start_time": "2025-02-25T00:50:03.738Z"
   },
   {
    "duration": 218,
    "start_time": "2025-02-25T00:50:03.744Z"
   },
   {
    "duration": 163,
    "start_time": "2025-02-25T00:50:03.964Z"
   },
   {
    "duration": 167,
    "start_time": "2025-02-25T00:50:04.132Z"
   },
   {
    "duration": 5,
    "start_time": "2025-02-25T00:50:04.301Z"
   },
   {
    "duration": 234,
    "start_time": "2025-02-25T00:50:04.308Z"
   },
   {
    "duration": 16,
    "start_time": "2025-02-25T00:50:04.544Z"
   },
   {
    "duration": 9,
    "start_time": "2025-02-25T00:50:04.562Z"
   },
   {
    "duration": 10,
    "start_time": "2025-02-25T00:50:04.573Z"
   },
   {
    "duration": 8,
    "start_time": "2025-02-25T00:50:04.584Z"
   },
   {
    "duration": 7,
    "start_time": "2025-02-25T00:50:04.594Z"
   },
   {
    "duration": 7,
    "start_time": "2025-02-25T00:50:04.631Z"
   },
   {
    "duration": 813,
    "start_time": "2025-02-25T00:51:36.569Z"
   },
   {
    "duration": 23,
    "start_time": "2025-02-25T00:51:37.385Z"
   },
   {
    "duration": 26,
    "start_time": "2025-02-25T00:51:37.410Z"
   },
   {
    "duration": 3,
    "start_time": "2025-02-25T00:51:37.437Z"
   },
   {
    "duration": 4,
    "start_time": "2025-02-25T00:51:37.443Z"
   },
   {
    "duration": 6,
    "start_time": "2025-02-25T00:51:37.448Z"
   },
   {
    "duration": 3,
    "start_time": "2025-02-25T00:51:37.456Z"
   },
   {
    "duration": 10,
    "start_time": "2025-02-25T00:51:37.461Z"
   },
   {
    "duration": 2,
    "start_time": "2025-02-25T00:51:37.473Z"
   },
   {
    "duration": 16,
    "start_time": "2025-02-25T00:51:37.480Z"
   },
   {
    "duration": 2,
    "start_time": "2025-02-25T00:51:37.531Z"
   },
   {
    "duration": 7,
    "start_time": "2025-02-25T00:51:37.535Z"
   },
   {
    "duration": 8,
    "start_time": "2025-02-25T00:51:37.543Z"
   },
   {
    "duration": 16,
    "start_time": "2025-02-25T00:51:37.554Z"
   },
   {
    "duration": 16,
    "start_time": "2025-02-25T00:51:37.572Z"
   },
   {
    "duration": 4,
    "start_time": "2025-02-25T00:51:37.589Z"
   },
   {
    "duration": 189,
    "start_time": "2025-02-25T00:51:37.594Z"
   },
   {
    "duration": 7,
    "start_time": "2025-02-25T00:51:37.784Z"
   },
   {
    "duration": 4,
    "start_time": "2025-02-25T00:51:37.792Z"
   },
   {
    "duration": 222,
    "start_time": "2025-02-25T00:51:37.798Z"
   },
   {
    "duration": 22,
    "start_time": "2025-02-25T00:51:38.022Z"
   },
   {
    "duration": 5,
    "start_time": "2025-02-25T00:51:38.045Z"
   },
   {
    "duration": 251,
    "start_time": "2025-02-25T00:51:38.052Z"
   },
   {
    "duration": 6,
    "start_time": "2025-02-25T00:51:38.305Z"
   },
   {
    "duration": 183,
    "start_time": "2025-02-25T00:51:38.314Z"
   },
   {
    "duration": 166,
    "start_time": "2025-02-25T00:51:38.499Z"
   },
   {
    "duration": 175,
    "start_time": "2025-02-25T00:51:38.666Z"
   },
   {
    "duration": 6,
    "start_time": "2025-02-25T00:51:38.843Z"
   },
   {
    "duration": 235,
    "start_time": "2025-02-25T00:51:38.850Z"
   },
   {
    "duration": 10,
    "start_time": "2025-02-25T00:51:39.087Z"
   },
   {
    "duration": 9,
    "start_time": "2025-02-25T00:51:39.099Z"
   },
   {
    "duration": 29,
    "start_time": "2025-02-25T00:51:39.110Z"
   },
   {
    "duration": 9,
    "start_time": "2025-02-25T00:51:39.141Z"
   },
   {
    "duration": 7,
    "start_time": "2025-02-25T00:51:39.151Z"
   },
   {
    "duration": 7,
    "start_time": "2025-02-25T00:51:39.160Z"
   },
   {
    "duration": 807,
    "start_time": "2025-02-25T01:02:09.807Z"
   },
   {
    "duration": 29,
    "start_time": "2025-02-25T01:02:10.617Z"
   },
   {
    "duration": 17,
    "start_time": "2025-02-25T01:02:10.647Z"
   },
   {
    "duration": 2,
    "start_time": "2025-02-25T01:02:10.666Z"
   },
   {
    "duration": 812,
    "start_time": "2025-02-25T01:02:10.670Z"
   },
   {
    "duration": 0,
    "start_time": "2025-02-25T01:02:11.485Z"
   },
   {
    "duration": 0,
    "start_time": "2025-02-25T01:02:11.486Z"
   },
   {
    "duration": 0,
    "start_time": "2025-02-25T01:02:11.487Z"
   },
   {
    "duration": 0,
    "start_time": "2025-02-25T01:02:11.488Z"
   },
   {
    "duration": 0,
    "start_time": "2025-02-25T01:02:11.489Z"
   },
   {
    "duration": 0,
    "start_time": "2025-02-25T01:02:11.490Z"
   },
   {
    "duration": 0,
    "start_time": "2025-02-25T01:02:11.491Z"
   },
   {
    "duration": 0,
    "start_time": "2025-02-25T01:02:11.492Z"
   },
   {
    "duration": 0,
    "start_time": "2025-02-25T01:02:11.493Z"
   },
   {
    "duration": 0,
    "start_time": "2025-02-25T01:02:11.494Z"
   },
   {
    "duration": 0,
    "start_time": "2025-02-25T01:02:11.495Z"
   },
   {
    "duration": 0,
    "start_time": "2025-02-25T01:02:11.496Z"
   },
   {
    "duration": 0,
    "start_time": "2025-02-25T01:02:11.498Z"
   },
   {
    "duration": 0,
    "start_time": "2025-02-25T01:02:11.499Z"
   },
   {
    "duration": 0,
    "start_time": "2025-02-25T01:02:11.500Z"
   },
   {
    "duration": 0,
    "start_time": "2025-02-25T01:02:11.501Z"
   },
   {
    "duration": 0,
    "start_time": "2025-02-25T01:02:11.502Z"
   },
   {
    "duration": 0,
    "start_time": "2025-02-25T01:02:11.503Z"
   },
   {
    "duration": 0,
    "start_time": "2025-02-25T01:02:11.504Z"
   },
   {
    "duration": 0,
    "start_time": "2025-02-25T01:02:11.504Z"
   },
   {
    "duration": 0,
    "start_time": "2025-02-25T01:02:11.505Z"
   },
   {
    "duration": 0,
    "start_time": "2025-02-25T01:02:11.505Z"
   },
   {
    "duration": 0,
    "start_time": "2025-02-25T01:02:11.506Z"
   },
   {
    "duration": 0,
    "start_time": "2025-02-25T01:02:11.533Z"
   },
   {
    "duration": 0,
    "start_time": "2025-02-25T01:02:11.534Z"
   },
   {
    "duration": 0,
    "start_time": "2025-02-25T01:02:11.535Z"
   },
   {
    "duration": 0,
    "start_time": "2025-02-25T01:02:11.537Z"
   },
   {
    "duration": 0,
    "start_time": "2025-02-25T01:02:11.538Z"
   },
   {
    "duration": 0,
    "start_time": "2025-02-25T01:02:11.540Z"
   },
   {
    "duration": 0,
    "start_time": "2025-02-25T01:02:11.546Z"
   },
   {
    "duration": 46,
    "start_time": "2025-02-25T01:02:30.063Z"
   },
   {
    "duration": 4,
    "start_time": "2025-02-25T01:02:36.525Z"
   },
   {
    "duration": 802,
    "start_time": "2025-02-25T01:04:15.418Z"
   },
   {
    "duration": 26,
    "start_time": "2025-02-25T01:04:16.222Z"
   },
   {
    "duration": 11,
    "start_time": "2025-02-25T01:04:16.249Z"
   },
   {
    "duration": 3,
    "start_time": "2025-02-25T01:04:56.182Z"
   },
   {
    "duration": 11,
    "start_time": "2025-02-25T01:04:58.858Z"
   },
   {
    "duration": 800,
    "start_time": "2025-02-25T01:05:12.612Z"
   },
   {
    "duration": 842,
    "start_time": "2025-02-25T01:09:42.056Z"
   },
   {
    "duration": 24,
    "start_time": "2025-02-25T01:09:42.900Z"
   },
   {
    "duration": 22,
    "start_time": "2025-02-25T01:09:42.926Z"
   },
   {
    "duration": 2,
    "start_time": "2025-02-25T01:09:42.949Z"
   },
   {
    "duration": 10,
    "start_time": "2025-02-25T01:09:42.954Z"
   },
   {
    "duration": 6,
    "start_time": "2025-02-25T01:09:42.966Z"
   },
   {
    "duration": 3,
    "start_time": "2025-02-25T01:09:42.973Z"
   },
   {
    "duration": 10,
    "start_time": "2025-02-25T01:09:42.978Z"
   },
   {
    "duration": 3,
    "start_time": "2025-02-25T01:09:42.989Z"
   },
   {
    "duration": 49,
    "start_time": "2025-02-25T01:09:42.994Z"
   },
   {
    "duration": 3,
    "start_time": "2025-02-25T01:09:43.044Z"
   },
   {
    "duration": 7,
    "start_time": "2025-02-25T01:09:43.048Z"
   },
   {
    "duration": 829,
    "start_time": "2025-02-25T01:13:25.478Z"
   },
   {
    "duration": 28,
    "start_time": "2025-02-25T01:13:26.309Z"
   },
   {
    "duration": 17,
    "start_time": "2025-02-25T01:13:26.339Z"
   },
   {
    "duration": 2,
    "start_time": "2025-02-25T01:13:26.359Z"
   },
   {
    "duration": 10,
    "start_time": "2025-02-25T01:13:26.363Z"
   },
   {
    "duration": 7,
    "start_time": "2025-02-25T01:13:26.375Z"
   },
   {
    "duration": 2,
    "start_time": "2025-02-25T01:13:26.384Z"
   },
   {
    "duration": 10,
    "start_time": "2025-02-25T01:13:26.388Z"
   },
   {
    "duration": 33,
    "start_time": "2025-02-25T01:13:26.399Z"
   },
   {
    "duration": 12,
    "start_time": "2025-02-25T01:13:26.436Z"
   },
   {
    "duration": 2,
    "start_time": "2025-02-25T01:13:26.450Z"
   },
   {
    "duration": 7,
    "start_time": "2025-02-25T01:13:26.454Z"
   },
   {
    "duration": 7,
    "start_time": "2025-02-25T01:13:26.462Z"
   },
   {
    "duration": 18,
    "start_time": "2025-02-25T01:13:26.471Z"
   },
   {
    "duration": 52,
    "start_time": "2025-02-25T01:13:26.490Z"
   },
   {
    "duration": 3,
    "start_time": "2025-02-25T01:13:26.544Z"
   },
   {
    "duration": 161,
    "start_time": "2025-02-25T01:13:26.549Z"
   },
   {
    "duration": 7,
    "start_time": "2025-02-25T01:13:26.711Z"
   },
   {
    "duration": 12,
    "start_time": "2025-02-25T01:13:26.720Z"
   },
   {
    "duration": 202,
    "start_time": "2025-02-25T01:13:26.733Z"
   },
   {
    "duration": 20,
    "start_time": "2025-02-25T01:13:26.937Z"
   },
   {
    "duration": 4,
    "start_time": "2025-02-25T01:13:26.959Z"
   },
   {
    "duration": 335,
    "start_time": "2025-02-25T01:13:26.965Z"
   },
   {
    "duration": 6,
    "start_time": "2025-02-25T01:13:27.302Z"
   },
   {
    "duration": 186,
    "start_time": "2025-02-25T01:13:27.311Z"
   },
   {
    "duration": 203,
    "start_time": "2025-02-25T01:13:27.499Z"
   },
   {
    "duration": 183,
    "start_time": "2025-02-25T01:13:27.706Z"
   },
   {
    "duration": 6,
    "start_time": "2025-02-25T01:13:27.894Z"
   },
   {
    "duration": 310,
    "start_time": "2025-02-25T01:13:27.901Z"
   },
   {
    "duration": 22,
    "start_time": "2025-02-25T01:13:28.213Z"
   },
   {
    "duration": 15,
    "start_time": "2025-02-25T01:13:28.237Z"
   },
   {
    "duration": 9,
    "start_time": "2025-02-25T01:13:28.254Z"
   },
   {
    "duration": 10,
    "start_time": "2025-02-25T01:13:28.265Z"
   },
   {
    "duration": 7,
    "start_time": "2025-02-25T01:13:28.277Z"
   },
   {
    "duration": 7,
    "start_time": "2025-02-25T01:13:28.286Z"
   },
   {
    "duration": 2460,
    "start_time": "2025-02-25T12:26:59.402Z"
   },
   {
    "duration": 34,
    "start_time": "2025-02-25T12:27:01.865Z"
   },
   {
    "duration": 17,
    "start_time": "2025-02-25T12:27:01.901Z"
   },
   {
    "duration": 3,
    "start_time": "2025-02-25T12:27:01.920Z"
   },
   {
    "duration": 12,
    "start_time": "2025-02-25T12:27:01.924Z"
   },
   {
    "duration": 6,
    "start_time": "2025-02-25T12:27:01.937Z"
   },
   {
    "duration": 3,
    "start_time": "2025-02-25T12:27:01.945Z"
   },
   {
    "duration": 3,
    "start_time": "2025-02-25T12:27:01.949Z"
   },
   {
    "duration": 13,
    "start_time": "2025-02-25T12:27:01.954Z"
   },
   {
    "duration": 2,
    "start_time": "2025-02-25T12:27:01.970Z"
   },
   {
    "duration": 7,
    "start_time": "2025-02-25T12:27:02.009Z"
   },
   {
    "duration": 7,
    "start_time": "2025-02-25T12:27:02.017Z"
   },
   {
    "duration": 17,
    "start_time": "2025-02-25T12:27:02.026Z"
   },
   {
    "duration": 13,
    "start_time": "2025-02-25T12:27:02.044Z"
   },
   {
    "duration": 4,
    "start_time": "2025-02-25T12:27:02.058Z"
   },
   {
    "duration": 181,
    "start_time": "2025-02-25T12:27:02.063Z"
   },
   {
    "duration": 7,
    "start_time": "2025-02-25T12:27:02.245Z"
   },
   {
    "duration": 4,
    "start_time": "2025-02-25T12:27:02.254Z"
   },
   {
    "duration": 222,
    "start_time": "2025-02-25T12:27:02.259Z"
   },
   {
    "duration": 17,
    "start_time": "2025-02-25T12:27:02.483Z"
   },
   {
    "duration": 5,
    "start_time": "2025-02-25T12:27:02.502Z"
   },
   {
    "duration": 203,
    "start_time": "2025-02-25T12:27:02.508Z"
   },
   {
    "duration": 5,
    "start_time": "2025-02-25T12:27:02.712Z"
   },
   {
    "duration": 165,
    "start_time": "2025-02-25T12:27:02.720Z"
   },
   {
    "duration": 163,
    "start_time": "2025-02-25T12:27:02.887Z"
   },
   {
    "duration": 168,
    "start_time": "2025-02-25T12:27:03.052Z"
   },
   {
    "duration": 7,
    "start_time": "2025-02-25T12:27:03.222Z"
   },
   {
    "duration": 236,
    "start_time": "2025-02-25T12:27:03.234Z"
   },
   {
    "duration": 11,
    "start_time": "2025-02-25T12:27:03.472Z"
   },
   {
    "duration": 24,
    "start_time": "2025-02-25T12:27:03.485Z"
   },
   {
    "duration": 9,
    "start_time": "2025-02-25T12:27:03.510Z"
   },
   {
    "duration": 10,
    "start_time": "2025-02-25T12:27:03.521Z"
   },
   {
    "duration": 8,
    "start_time": "2025-02-25T12:27:03.532Z"
   },
   {
    "duration": 7,
    "start_time": "2025-02-25T12:27:03.541Z"
   },
   {
    "duration": 17,
    "start_time": "2025-02-25T12:29:15.412Z"
   },
   {
    "duration": 168,
    "start_time": "2025-02-25T21:02:29.084Z"
   },
   {
    "duration": 13,
    "start_time": "2025-02-25T21:02:44.390Z"
   },
   {
    "duration": 2599,
    "start_time": "2025-02-25T21:03:00.532Z"
   },
   {
    "duration": 36,
    "start_time": "2025-02-25T21:03:03.133Z"
   },
   {
    "duration": 18,
    "start_time": "2025-02-25T21:03:03.170Z"
   },
   {
    "duration": 3,
    "start_time": "2025-02-25T21:03:03.190Z"
   },
   {
    "duration": 16,
    "start_time": "2025-02-25T21:03:03.194Z"
   },
   {
    "duration": 5,
    "start_time": "2025-02-25T21:03:03.212Z"
   },
   {
    "duration": 6,
    "start_time": "2025-02-25T21:03:03.219Z"
   },
   {
    "duration": 3,
    "start_time": "2025-02-25T21:03:03.227Z"
   },
   {
    "duration": 13,
    "start_time": "2025-02-25T21:03:03.232Z"
   },
   {
    "duration": 2,
    "start_time": "2025-02-25T21:03:03.249Z"
   },
   {
    "duration": 7,
    "start_time": "2025-02-25T21:03:03.252Z"
   },
   {
    "duration": 7,
    "start_time": "2025-02-25T21:03:03.260Z"
   },
   {
    "duration": 51,
    "start_time": "2025-02-25T21:03:03.269Z"
   },
   {
    "duration": 13,
    "start_time": "2025-02-25T21:03:03.323Z"
   },
   {
    "duration": 3,
    "start_time": "2025-02-25T21:03:03.338Z"
   },
   {
    "duration": 177,
    "start_time": "2025-02-25T21:03:03.343Z"
   },
   {
    "duration": 7,
    "start_time": "2025-02-25T21:03:03.522Z"
   },
   {
    "duration": 4,
    "start_time": "2025-02-25T21:03:03.530Z"
   },
   {
    "duration": 222,
    "start_time": "2025-02-25T21:03:03.536Z"
   },
   {
    "duration": 17,
    "start_time": "2025-02-25T21:03:03.759Z"
   },
   {
    "duration": 5,
    "start_time": "2025-02-25T21:03:03.777Z"
   },
   {
    "duration": 672,
    "start_time": "2025-02-25T21:03:03.783Z"
   },
   {
    "duration": 0,
    "start_time": "2025-02-25T21:03:04.457Z"
   },
   {
    "duration": 0,
    "start_time": "2025-02-25T21:03:04.460Z"
   },
   {
    "duration": 0,
    "start_time": "2025-02-25T21:03:04.461Z"
   },
   {
    "duration": 0,
    "start_time": "2025-02-25T21:03:04.462Z"
   },
   {
    "duration": 0,
    "start_time": "2025-02-25T21:03:04.463Z"
   },
   {
    "duration": 0,
    "start_time": "2025-02-25T21:03:04.464Z"
   },
   {
    "duration": 0,
    "start_time": "2025-02-25T21:03:04.466Z"
   },
   {
    "duration": 0,
    "start_time": "2025-02-25T21:03:04.467Z"
   },
   {
    "duration": 0,
    "start_time": "2025-02-25T21:03:04.468Z"
   },
   {
    "duration": 0,
    "start_time": "2025-02-25T21:03:04.469Z"
   },
   {
    "duration": 0,
    "start_time": "2025-02-25T21:03:04.471Z"
   },
   {
    "duration": 0,
    "start_time": "2025-02-25T21:03:04.472Z"
   },
   {
    "duration": 208,
    "start_time": "2025-02-25T21:03:13.584Z"
   },
   {
    "duration": 205,
    "start_time": "2025-02-25T21:03:25.420Z"
   },
   {
    "duration": 271,
    "start_time": "2025-02-25T21:05:29.369Z"
   },
   {
    "duration": 198,
    "start_time": "2025-02-25T21:06:52.102Z"
   },
   {
    "duration": 202,
    "start_time": "2025-02-25T21:07:42.813Z"
   },
   {
    "duration": 186,
    "start_time": "2025-02-25T21:10:08.823Z"
   },
   {
    "duration": 195,
    "start_time": "2025-02-25T21:10:20.057Z"
   },
   {
    "duration": 192,
    "start_time": "2025-02-25T21:10:34.343Z"
   },
   {
    "duration": 276,
    "start_time": "2025-02-25T21:10:47.911Z"
   },
   {
    "duration": 15,
    "start_time": "2025-02-25T21:13:15.265Z"
   },
   {
    "duration": 13,
    "start_time": "2025-02-25T21:15:04.438Z"
   },
   {
    "duration": 13,
    "start_time": "2025-02-25T21:15:41.385Z"
   },
   {
    "duration": 814,
    "start_time": "2025-02-25T21:15:48.161Z"
   },
   {
    "duration": 36,
    "start_time": "2025-02-25T21:15:48.977Z"
   },
   {
    "duration": 19,
    "start_time": "2025-02-25T21:15:49.015Z"
   },
   {
    "duration": 2,
    "start_time": "2025-02-25T21:15:49.036Z"
   },
   {
    "duration": 12,
    "start_time": "2025-02-25T21:15:49.040Z"
   },
   {
    "duration": 6,
    "start_time": "2025-02-25T21:15:49.053Z"
   },
   {
    "duration": 3,
    "start_time": "2025-02-25T21:15:49.061Z"
   },
   {
    "duration": 3,
    "start_time": "2025-02-25T21:15:49.065Z"
   },
   {
    "duration": 47,
    "start_time": "2025-02-25T21:15:49.069Z"
   },
   {
    "duration": 3,
    "start_time": "2025-02-25T21:15:49.120Z"
   },
   {
    "duration": 7,
    "start_time": "2025-02-25T21:15:49.124Z"
   },
   {
    "duration": 7,
    "start_time": "2025-02-25T21:15:49.132Z"
   },
   {
    "duration": 16,
    "start_time": "2025-02-25T21:15:49.141Z"
   },
   {
    "duration": 13,
    "start_time": "2025-02-25T21:15:49.159Z"
   },
   {
    "duration": 160,
    "start_time": "2025-02-25T21:15:49.173Z"
   },
   {
    "duration": 0,
    "start_time": "2025-02-25T21:15:49.335Z"
   },
   {
    "duration": 0,
    "start_time": "2025-02-25T21:15:49.336Z"
   },
   {
    "duration": 0,
    "start_time": "2025-02-25T21:15:49.338Z"
   },
   {
    "duration": 0,
    "start_time": "2025-02-25T21:15:49.339Z"
   },
   {
    "duration": 0,
    "start_time": "2025-02-25T21:15:49.341Z"
   },
   {
    "duration": 0,
    "start_time": "2025-02-25T21:15:49.342Z"
   },
   {
    "duration": 0,
    "start_time": "2025-02-25T21:15:49.343Z"
   },
   {
    "duration": 0,
    "start_time": "2025-02-25T21:15:49.344Z"
   },
   {
    "duration": 0,
    "start_time": "2025-02-25T21:15:49.345Z"
   },
   {
    "duration": 0,
    "start_time": "2025-02-25T21:15:49.346Z"
   },
   {
    "duration": 0,
    "start_time": "2025-02-25T21:15:49.347Z"
   },
   {
    "duration": 0,
    "start_time": "2025-02-25T21:15:49.352Z"
   },
   {
    "duration": 0,
    "start_time": "2025-02-25T21:15:49.353Z"
   },
   {
    "duration": 0,
    "start_time": "2025-02-25T21:15:49.354Z"
   },
   {
    "duration": 0,
    "start_time": "2025-02-25T21:15:49.355Z"
   },
   {
    "duration": 0,
    "start_time": "2025-02-25T21:15:49.358Z"
   },
   {
    "duration": 0,
    "start_time": "2025-02-25T21:15:49.359Z"
   },
   {
    "duration": 0,
    "start_time": "2025-02-25T21:15:49.360Z"
   },
   {
    "duration": 0,
    "start_time": "2025-02-25T21:15:49.361Z"
   },
   {
    "duration": 0,
    "start_time": "2025-02-25T21:15:49.363Z"
   },
   {
    "duration": 16,
    "start_time": "2025-02-25T21:16:44.739Z"
   },
   {
    "duration": 14,
    "start_time": "2025-02-25T21:17:25.454Z"
   },
   {
    "duration": 11,
    "start_time": "2025-02-25T21:17:41.403Z"
   },
   {
    "duration": 851,
    "start_time": "2025-02-25T21:22:13.529Z"
   },
   {
    "duration": 25,
    "start_time": "2025-02-25T21:22:14.383Z"
   },
   {
    "duration": 17,
    "start_time": "2025-02-25T21:22:14.409Z"
   },
   {
    "duration": 3,
    "start_time": "2025-02-25T21:22:14.428Z"
   },
   {
    "duration": 13,
    "start_time": "2025-02-25T21:22:14.432Z"
   },
   {
    "duration": 6,
    "start_time": "2025-02-25T21:22:14.447Z"
   },
   {
    "duration": 3,
    "start_time": "2025-02-25T21:22:14.455Z"
   },
   {
    "duration": 4,
    "start_time": "2025-02-25T21:22:14.459Z"
   },
   {
    "duration": 44,
    "start_time": "2025-02-25T21:22:14.464Z"
   },
   {
    "duration": 3,
    "start_time": "2025-02-25T21:22:14.511Z"
   },
   {
    "duration": 6,
    "start_time": "2025-02-25T21:22:14.516Z"
   },
   {
    "duration": 7,
    "start_time": "2025-02-25T21:22:14.524Z"
   },
   {
    "duration": 18,
    "start_time": "2025-02-25T21:22:14.533Z"
   },
   {
    "duration": 15,
    "start_time": "2025-02-25T21:22:14.552Z"
   },
   {
    "duration": 14,
    "start_time": "2025-02-25T21:22:14.605Z"
   },
   {
    "duration": 4,
    "start_time": "2025-02-25T21:22:14.621Z"
   },
   {
    "duration": 161,
    "start_time": "2025-02-25T21:22:14.627Z"
   },
   {
    "duration": 7,
    "start_time": "2025-02-25T21:22:14.791Z"
   },
   {
    "duration": 8,
    "start_time": "2025-02-25T21:22:14.799Z"
   },
   {
    "duration": 211,
    "start_time": "2025-02-25T21:22:14.808Z"
   },
   {
    "duration": 17,
    "start_time": "2025-02-25T21:22:15.021Z"
   },
   {
    "duration": 5,
    "start_time": "2025-02-25T21:22:15.039Z"
   },
   {
    "duration": 262,
    "start_time": "2025-02-25T21:22:15.046Z"
   },
   {
    "duration": 5,
    "start_time": "2025-02-25T21:22:15.310Z"
   },
   {
    "duration": 169,
    "start_time": "2025-02-25T21:22:15.316Z"
   },
   {
    "duration": 167,
    "start_time": "2025-02-25T21:22:15.487Z"
   },
   {
    "duration": 172,
    "start_time": "2025-02-25T21:22:15.656Z"
   },
   {
    "duration": 5,
    "start_time": "2025-02-25T21:22:15.831Z"
   },
   {
    "duration": 241,
    "start_time": "2025-02-25T21:22:15.838Z"
   },
   {
    "duration": 11,
    "start_time": "2025-02-25T21:22:16.081Z"
   },
   {
    "duration": 20,
    "start_time": "2025-02-25T21:22:16.093Z"
   },
   {
    "duration": 9,
    "start_time": "2025-02-25T21:22:16.115Z"
   },
   {
    "duration": 10,
    "start_time": "2025-02-25T21:22:16.125Z"
   },
   {
    "duration": 7,
    "start_time": "2025-02-25T21:22:16.137Z"
   },
   {
    "duration": 7,
    "start_time": "2025-02-25T21:22:16.145Z"
   },
   {
    "duration": 7,
    "start_time": "2025-02-25T22:08:47.078Z"
   },
   {
    "duration": 8,
    "start_time": "2025-02-25T22:09:02.020Z"
   },
   {
    "duration": 10,
    "start_time": "2025-02-25T22:09:11.699Z"
   },
   {
    "duration": 768,
    "start_time": "2025-02-25T22:24:08.230Z"
   },
   {
    "duration": 43,
    "start_time": "2025-02-25T22:24:27.572Z"
   },
   {
    "duration": 43,
    "start_time": "2025-02-25T22:24:41.165Z"
   },
   {
    "duration": 43,
    "start_time": "2025-02-25T22:25:11.436Z"
   },
   {
    "duration": 42,
    "start_time": "2025-02-25T22:25:37.543Z"
   },
   {
    "duration": 7,
    "start_time": "2025-02-25T22:25:52.737Z"
   },
   {
    "duration": 5,
    "start_time": "2025-02-25T22:26:26.753Z"
   },
   {
    "duration": 86,
    "start_time": "2025-02-25T22:26:50.409Z"
   },
   {
    "duration": 6,
    "start_time": "2025-02-25T22:27:02.596Z"
   },
   {
    "duration": 7,
    "start_time": "2025-02-25T22:28:25.649Z"
   },
   {
    "duration": 8,
    "start_time": "2025-02-25T22:43:20.402Z"
   },
   {
    "duration": 6,
    "start_time": "2025-02-25T22:44:08.785Z"
   },
   {
    "duration": 6,
    "start_time": "2025-02-25T22:44:25.993Z"
   },
   {
    "duration": 806,
    "start_time": "2025-02-26T01:05:43.288Z"
   },
   {
    "duration": 26,
    "start_time": "2025-02-26T01:05:44.096Z"
   },
   {
    "duration": 23,
    "start_time": "2025-02-26T01:05:44.124Z"
   },
   {
    "duration": 4,
    "start_time": "2025-02-26T01:05:44.149Z"
   },
   {
    "duration": 12,
    "start_time": "2025-02-26T01:05:44.155Z"
   },
   {
    "duration": 6,
    "start_time": "2025-02-26T01:05:44.169Z"
   },
   {
    "duration": 3,
    "start_time": "2025-02-26T01:05:44.177Z"
   },
   {
    "duration": 3,
    "start_time": "2025-02-26T01:05:44.205Z"
   },
   {
    "duration": 14,
    "start_time": "2025-02-26T01:05:44.210Z"
   },
   {
    "duration": 2,
    "start_time": "2025-02-26T01:05:44.228Z"
   },
   {
    "duration": 6,
    "start_time": "2025-02-26T01:05:44.232Z"
   },
   {
    "duration": 6,
    "start_time": "2025-02-26T01:05:44.241Z"
   },
   {
    "duration": 17,
    "start_time": "2025-02-26T01:05:44.248Z"
   },
   {
    "duration": 48,
    "start_time": "2025-02-26T01:05:44.267Z"
   },
   {
    "duration": 11,
    "start_time": "2025-02-26T01:05:44.317Z"
   },
   {
    "duration": 3,
    "start_time": "2025-02-26T01:05:44.330Z"
   },
   {
    "duration": 165,
    "start_time": "2025-02-26T01:05:44.335Z"
   },
   {
    "duration": 7,
    "start_time": "2025-02-26T01:05:44.502Z"
   },
   {
    "duration": 3,
    "start_time": "2025-02-26T01:05:44.511Z"
   },
   {
    "duration": 213,
    "start_time": "2025-02-26T01:05:44.516Z"
   },
   {
    "duration": 18,
    "start_time": "2025-02-26T01:05:44.732Z"
   },
   {
    "duration": 5,
    "start_time": "2025-02-26T01:05:44.752Z"
   },
   {
    "duration": 251,
    "start_time": "2025-02-26T01:05:44.759Z"
   },
   {
    "duration": 6,
    "start_time": "2025-02-26T01:05:45.012Z"
   },
   {
    "duration": 188,
    "start_time": "2025-02-26T01:05:45.020Z"
   },
   {
    "duration": 156,
    "start_time": "2025-02-26T01:05:45.210Z"
   },
   {
    "duration": 173,
    "start_time": "2025-02-26T01:05:45.367Z"
   },
   {
    "duration": 6,
    "start_time": "2025-02-26T01:05:45.544Z"
   },
   {
    "duration": 236,
    "start_time": "2025-02-26T01:05:45.551Z"
   },
   {
    "duration": 11,
    "start_time": "2025-02-26T01:05:45.789Z"
   },
   {
    "duration": 8,
    "start_time": "2025-02-26T01:05:45.806Z"
   },
   {
    "duration": 8,
    "start_time": "2025-02-26T01:05:45.815Z"
   },
   {
    "duration": 6,
    "start_time": "2025-02-26T01:05:45.825Z"
   },
   {
    "duration": 5,
    "start_time": "2025-02-26T01:05:45.833Z"
   },
   {
    "duration": 5,
    "start_time": "2025-02-26T01:05:45.840Z"
   },
   {
    "duration": 191,
    "start_time": "2025-02-26T01:14:31.467Z"
   },
   {
    "duration": 198,
    "start_time": "2025-02-26T01:14:46.009Z"
   },
   {
    "duration": 273,
    "start_time": "2025-02-26T01:17:13.816Z"
   },
   {
    "duration": 234,
    "start_time": "2025-02-26T01:18:10.460Z"
   },
   {
    "duration": 217,
    "start_time": "2025-02-26T01:18:28.547Z"
   },
   {
    "duration": 6,
    "start_time": "2025-02-26T01:35:33.601Z"
   },
   {
    "duration": 827,
    "start_time": "2025-02-26T02:26:50.362Z"
   },
   {
    "duration": 26,
    "start_time": "2025-02-26T02:26:51.191Z"
   },
   {
    "duration": 19,
    "start_time": "2025-02-26T02:26:51.218Z"
   },
   {
    "duration": 3,
    "start_time": "2025-02-26T02:26:51.239Z"
   },
   {
    "duration": 11,
    "start_time": "2025-02-26T02:26:51.244Z"
   },
   {
    "duration": 6,
    "start_time": "2025-02-26T02:26:51.256Z"
   },
   {
    "duration": 2,
    "start_time": "2025-02-26T02:26:51.264Z"
   },
   {
    "duration": 2,
    "start_time": "2025-02-26T02:26:51.268Z"
   },
   {
    "duration": 43,
    "start_time": "2025-02-26T02:26:51.271Z"
   },
   {
    "duration": 2,
    "start_time": "2025-02-26T02:26:51.316Z"
   },
   {
    "duration": 6,
    "start_time": "2025-02-26T02:26:51.320Z"
   },
   {
    "duration": 6,
    "start_time": "2025-02-26T02:26:51.328Z"
   },
   {
    "duration": 17,
    "start_time": "2025-02-26T02:26:51.336Z"
   },
   {
    "duration": 13,
    "start_time": "2025-02-26T02:26:51.357Z"
   },
   {
    "duration": 41,
    "start_time": "2025-02-26T02:26:51.372Z"
   },
   {
    "duration": 5,
    "start_time": "2025-02-26T02:26:51.415Z"
   },
   {
    "duration": 164,
    "start_time": "2025-02-26T02:26:51.422Z"
   },
   {
    "duration": 18,
    "start_time": "2025-02-26T02:26:51.588Z"
   },
   {
    "duration": 3,
    "start_time": "2025-02-26T02:26:51.608Z"
   },
   {
    "duration": 208,
    "start_time": "2025-02-26T02:26:51.613Z"
   },
   {
    "duration": 18,
    "start_time": "2025-02-26T02:26:51.823Z"
   },
   {
    "duration": 4,
    "start_time": "2025-02-26T02:26:51.844Z"
   },
   {
    "duration": 240,
    "start_time": "2025-02-26T02:26:51.851Z"
   },
   {
    "duration": 5,
    "start_time": "2025-02-26T02:26:52.093Z"
   },
   {
    "duration": 160,
    "start_time": "2025-02-26T02:26:52.106Z"
   },
   {
    "duration": 147,
    "start_time": "2025-02-26T02:26:52.268Z"
   },
   {
    "duration": 176,
    "start_time": "2025-02-26T02:26:52.417Z"
   },
   {
    "duration": 15,
    "start_time": "2025-02-26T02:26:52.595Z"
   },
   {
    "duration": 228,
    "start_time": "2025-02-26T02:26:52.611Z"
   },
   {
    "duration": 10,
    "start_time": "2025-02-26T02:26:52.841Z"
   },
   {
    "duration": 7,
    "start_time": "2025-02-26T02:26:52.853Z"
   },
   {
    "duration": 7,
    "start_time": "2025-02-26T02:26:52.862Z"
   },
   {
    "duration": 35,
    "start_time": "2025-02-26T02:26:52.870Z"
   },
   {
    "duration": 7,
    "start_time": "2025-02-26T02:26:52.907Z"
   },
   {
    "duration": 10,
    "start_time": "2025-02-26T02:26:52.916Z"
   },
   {
    "duration": 846,
    "start_time": "2025-02-26T07:43:20.192Z"
   },
   {
    "duration": 35,
    "start_time": "2025-02-26T07:43:21.042Z"
   },
   {
    "duration": 19,
    "start_time": "2025-02-26T07:43:21.078Z"
   },
   {
    "duration": 3,
    "start_time": "2025-02-26T07:43:21.098Z"
   },
   {
    "duration": 10,
    "start_time": "2025-02-26T07:43:21.104Z"
   },
   {
    "duration": 5,
    "start_time": "2025-02-26T07:43:21.116Z"
   },
   {
    "duration": 3,
    "start_time": "2025-02-26T07:43:21.142Z"
   },
   {
    "duration": 3,
    "start_time": "2025-02-26T07:43:21.147Z"
   },
   {
    "duration": 14,
    "start_time": "2025-02-26T07:43:21.152Z"
   },
   {
    "duration": 3,
    "start_time": "2025-02-26T07:43:21.167Z"
   },
   {
    "duration": 8,
    "start_time": "2025-02-26T07:43:21.171Z"
   },
   {
    "duration": 6,
    "start_time": "2025-02-26T07:43:21.181Z"
   },
   {
    "duration": 17,
    "start_time": "2025-02-26T07:43:21.189Z"
   },
   {
    "duration": 15,
    "start_time": "2025-02-26T07:43:21.243Z"
   },
   {
    "duration": 11,
    "start_time": "2025-02-26T07:43:21.260Z"
   },
   {
    "duration": 3,
    "start_time": "2025-02-26T07:43:21.273Z"
   },
   {
    "duration": 166,
    "start_time": "2025-02-26T07:43:21.278Z"
   },
   {
    "duration": 6,
    "start_time": "2025-02-26T07:43:21.446Z"
   },
   {
    "duration": 4,
    "start_time": "2025-02-26T07:43:21.453Z"
   },
   {
    "duration": 206,
    "start_time": "2025-02-26T07:43:21.460Z"
   },
   {
    "duration": 17,
    "start_time": "2025-02-26T07:43:21.668Z"
   },
   {
    "duration": 4,
    "start_time": "2025-02-26T07:43:21.687Z"
   },
   {
    "duration": 255,
    "start_time": "2025-02-26T07:43:21.693Z"
   },
   {
    "duration": 5,
    "start_time": "2025-02-26T07:43:21.951Z"
   },
   {
    "duration": 172,
    "start_time": "2025-02-26T07:43:21.958Z"
   },
   {
    "duration": 148,
    "start_time": "2025-02-26T07:43:22.132Z"
   },
   {
    "duration": 172,
    "start_time": "2025-02-26T07:43:22.282Z"
   },
   {
    "duration": 7,
    "start_time": "2025-02-26T07:43:22.456Z"
   },
   {
    "duration": 228,
    "start_time": "2025-02-26T07:43:22.464Z"
   },
   {
    "duration": 11,
    "start_time": "2025-02-26T07:43:22.694Z"
   },
   {
    "duration": 7,
    "start_time": "2025-02-26T07:43:22.707Z"
   },
   {
    "duration": 28,
    "start_time": "2025-02-26T07:43:22.716Z"
   },
   {
    "duration": 7,
    "start_time": "2025-02-26T07:43:22.746Z"
   },
   {
    "duration": 9,
    "start_time": "2025-02-26T07:43:22.756Z"
   },
   {
    "duration": 9,
    "start_time": "2025-02-26T07:43:22.768Z"
   },
   {
    "duration": 5,
    "start_time": "2025-02-26T07:46:40.388Z"
   },
   {
    "duration": 4,
    "start_time": "2025-02-26T07:46:43.376Z"
   },
   {
    "duration": 6,
    "start_time": "2025-02-26T07:46:59.277Z"
   },
   {
    "duration": 8,
    "start_time": "2025-02-26T07:47:02.875Z"
   },
   {
    "duration": 5,
    "start_time": "2025-02-26T07:48:38.194Z"
   },
   {
    "duration": 5,
    "start_time": "2025-02-26T07:48:41.170Z"
   },
   {
    "duration": 6,
    "start_time": "2025-02-26T07:48:48.024Z"
   }
  ],
  "kernelspec": {
   "display_name": "base",
   "language": "python",
   "name": "python3"
  },
  "language_info": {
   "codemirror_mode": {
    "name": "ipython",
    "version": 3
   },
   "file_extension": ".py",
   "mimetype": "text/x-python",
   "name": "python",
   "nbconvert_exporter": "python",
   "pygments_lexer": "ipython3",
   "version": "3.12.7"
  },
  "toc": {
   "base_numbering": 1,
   "nav_menu": {},
   "number_sections": true,
   "sideBar": true,
   "skip_h1_title": true,
   "title_cell": "Table of Contents",
   "title_sidebar": "Contents",
   "toc_cell": false,
   "toc_position": {},
   "toc_section_display": true,
   "toc_window_display": true
  }
 },
 "nbformat": 4,
 "nbformat_minor": 2
}
