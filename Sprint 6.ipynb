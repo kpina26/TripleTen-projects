{
 "cells": [
  {
   "cell_type": "markdown",
   "metadata": {},
   "source": [
    "# Taxi Services in Chicago"
   ]
  },
  {
   "cell_type": "markdown",
   "metadata": {},
   "source": [
    "In this analysis, I will explore taxi trip data to uncover key trends in ride demand, company performance, and the impact of external factors on trip duration. By examining these trip counts across different taxi companies, I will identify the leading service providers and their market share, I will also analyze the most popular drop-off locations to understand high-demand areas in the city. Finally, I will conduct a statistical test to determine whether weather conditions significantly affect trip durations on Saturdays. This study provides valuable insights that can help improve taxi operations, optimize service strategies, and better understand ride patterns."
   ]
  },
  {
   "cell_type": "code",
   "execution_count": 1,
   "metadata": {},
   "outputs": [],
   "source": [
    "import pandas as pd\n",
    "import numpy as np\n",
    "import matplotlib.pyplot as plt\n",
    "import seaborn as sns\n",
    "from scipy import stats as st\n",
    "from scipy.stats import ttest_ind"
   ]
  },
  {
   "cell_type": "markdown",
   "metadata": {},
   "source": [
    "In addition to the data retrieved in previous tasks, a second file was assigned for analysis which contained the following two CSVs:\n",
    "\n",
    "1) `/datasets/project_sql_result_01.csv`, which contains:  \n",
    "    - a) `company_name`: the taxi company name, and  \n",
    "    - b) `trips_amount`: the number of rides for each taxi company on November 15-16, 2017.  \n",
    "\n",
    "2) `/datasets/project_sql_result_04.csv`, which contains:  \n",
    "    - a) `dropoff_locations_name`: Chicago neighborhoods where rides ended, and  \n",
    "    - b) `average_trips`: the average number of rides that ended in each neighborhood in November 2017.  "
   ]
  },
  {
   "cell_type": "code",
   "execution_count": 2,
   "metadata": {},
   "outputs": [
    {
     "name": "stdout",
     "output_type": "stream",
     "text": [
      "                      company_name  trips_amount\n",
      "0                        Flash Cab         19558\n",
      "1        Taxi Affiliation Services         11422\n",
      "2                Medallion Leasing         10367\n",
      "3                       Yellow Cab          9888\n",
      "4  Taxi Affiliation Service Yellow          9299\n",
      "  dropoff_location_name  average_trips\n",
      "0                  Loop   10727.466667\n",
      "1           River North    9523.666667\n",
      "2         Streeterville    6664.666667\n",
      "3             West Loop    5163.666667\n",
      "4                O'Hare    2546.900000\n",
      "              start_ts weather_conditions  duration_seconds\n",
      "0  2017-11-25 16:00:00               Good            2410.0\n",
      "1  2017-11-25 14:00:00               Good            1920.0\n",
      "2  2017-11-25 12:00:00               Good            1543.0\n",
      "3  2017-11-04 10:00:00               Good            2512.0\n",
      "4  2017-11-11 07:00:00               Good            1440.0\n"
     ]
    }
   ],
   "source": [
    "result_01= pd.read_csv('/datasets/project_sql_result_01.csv')\n",
    "\n",
    "result_02= pd.read_csv('/datasets/project_sql_result_04.csv')\n",
    "\n",
    "result_03= pd.read_csv('/datasets/project_sql_result_07.csv')\n",
    "\n",
    "print(result_01.head())\n",
    "print(result_02.head())\n",
    "print(result_03.head())"
   ]
  },
  {
   "cell_type": "markdown",
   "metadata": {},
   "source": [
    "Three CSV files containing taxi trip data were loaded into pandas DataFrames (result_01, result_02, and result_03). The datasets contain information on taxi companies and the number of trips, average trips per drop-off location, and ride details including timestamps, weather conditions, and trip durations."
   ]
  },
  {
   "cell_type": "code",
   "execution_count": 3,
   "metadata": {},
   "outputs": [
    {
     "name": "stdout",
     "output_type": "stream",
     "text": [
      "<class 'pandas.core.frame.DataFrame'>\n",
      "RangeIndex: 64 entries, 0 to 63\n",
      "Data columns (total 2 columns):\n",
      " #   Column        Non-Null Count  Dtype \n",
      "---  ------        --------------  ----- \n",
      " 0   company_name  64 non-null     object\n",
      " 1   trips_amount  64 non-null     int64 \n",
      "dtypes: int64(1), object(1)\n",
      "memory usage: 1.1+ KB\n"
     ]
    }
   ],
   "source": [
    "result_01.info()"
   ]
  },
  {
   "cell_type": "code",
   "execution_count": 4,
   "metadata": {},
   "outputs": [
    {
     "data": {
      "text/html": [
       "<div>\n",
       "<style scoped>\n",
       "    .dataframe tbody tr th:only-of-type {\n",
       "        vertical-align: middle;\n",
       "    }\n",
       "\n",
       "    .dataframe tbody tr th {\n",
       "        vertical-align: top;\n",
       "    }\n",
       "\n",
       "    .dataframe thead th {\n",
       "        text-align: right;\n",
       "    }\n",
       "</style>\n",
       "<table border=\"1\" class=\"dataframe\">\n",
       "  <thead>\n",
       "    <tr style=\"text-align: right;\">\n",
       "      <th></th>\n",
       "      <th>company_name</th>\n",
       "      <th>trips_amount</th>\n",
       "    </tr>\n",
       "  </thead>\n",
       "  <tbody>\n",
       "    <tr>\n",
       "      <th>0</th>\n",
       "      <td>Flash Cab</td>\n",
       "      <td>19558</td>\n",
       "    </tr>\n",
       "    <tr>\n",
       "      <th>1</th>\n",
       "      <td>Taxi Affiliation Services</td>\n",
       "      <td>11422</td>\n",
       "    </tr>\n",
       "    <tr>\n",
       "      <th>2</th>\n",
       "      <td>Medallion Leasing</td>\n",
       "      <td>10367</td>\n",
       "    </tr>\n",
       "    <tr>\n",
       "      <th>3</th>\n",
       "      <td>Yellow Cab</td>\n",
       "      <td>9888</td>\n",
       "    </tr>\n",
       "    <tr>\n",
       "      <th>4</th>\n",
       "      <td>Taxi Affiliation Service Yellow</td>\n",
       "      <td>9299</td>\n",
       "    </tr>\n",
       "    <tr>\n",
       "      <th>...</th>\n",
       "      <td>...</td>\n",
       "      <td>...</td>\n",
       "    </tr>\n",
       "    <tr>\n",
       "      <th>59</th>\n",
       "      <td>4053 - 40193 Adwar H. Nikola</td>\n",
       "      <td>7</td>\n",
       "    </tr>\n",
       "    <tr>\n",
       "      <th>60</th>\n",
       "      <td>2733 - 74600 Benny Jona</td>\n",
       "      <td>7</td>\n",
       "    </tr>\n",
       "    <tr>\n",
       "      <th>61</th>\n",
       "      <td>5874 - 73628 Sergey Cab Corp.</td>\n",
       "      <td>5</td>\n",
       "    </tr>\n",
       "    <tr>\n",
       "      <th>62</th>\n",
       "      <td>2241 - 44667 - Felman Corp</td>\n",
       "      <td>3</td>\n",
       "    </tr>\n",
       "    <tr>\n",
       "      <th>63</th>\n",
       "      <td>3556 - 36214 RC Andrews Cab</td>\n",
       "      <td>2</td>\n",
       "    </tr>\n",
       "  </tbody>\n",
       "</table>\n",
       "<p>64 rows × 2 columns</p>\n",
       "</div>"
      ],
      "text/plain": [
       "                       company_name  trips_amount\n",
       "0                         Flash Cab         19558\n",
       "1         Taxi Affiliation Services         11422\n",
       "2                 Medallion Leasing         10367\n",
       "3                        Yellow Cab          9888\n",
       "4   Taxi Affiliation Service Yellow          9299\n",
       "..                              ...           ...\n",
       "59     4053 - 40193 Adwar H. Nikola             7\n",
       "60          2733 - 74600 Benny Jona             7\n",
       "61    5874 - 73628 Sergey Cab Corp.             5\n",
       "62       2241 - 44667 - Felman Corp             3\n",
       "63      3556 - 36214 RC Andrews Cab             2\n",
       "\n",
       "[64 rows x 2 columns]"
      ]
     },
     "execution_count": 4,
     "metadata": {},
     "output_type": "execute_result"
    }
   ],
   "source": [
    "result_01"
   ]
  },
  {
   "cell_type": "code",
   "execution_count": 5,
   "metadata": {},
   "outputs": [
    {
     "data": {
      "text/plain": [
       "0"
      ]
     },
     "execution_count": 5,
     "metadata": {},
     "output_type": "execute_result"
    }
   ],
   "source": [
    "result_01_duplicates= result_01.duplicated().sum()\n",
    "result_01_duplicates"
   ]
  },
  {
   "cell_type": "code",
   "execution_count": 6,
   "metadata": {},
   "outputs": [
    {
     "data": {
      "text/plain": [
       "count       64.000000\n",
       "mean      2145.484375\n",
       "std       3812.310186\n",
       "min          2.000000\n",
       "25%         20.750000\n",
       "50%        178.500000\n",
       "75%       2106.500000\n",
       "max      19558.000000\n",
       "Name: trips_amount, dtype: float64"
      ]
     },
     "execution_count": 6,
     "metadata": {},
     "output_type": "execute_result"
    }
   ],
   "source": [
    "result_01['trips_amount'].describe()"
   ]
  },
  {
   "cell_type": "code",
   "execution_count": 7,
   "metadata": {},
   "outputs": [
    {
     "name": "stdout",
     "output_type": "stream",
     "text": [
      "<class 'pandas.core.frame.DataFrame'>\n",
      "RangeIndex: 64 entries, 0 to 63\n",
      "Data columns (total 2 columns):\n",
      " #   Column        Non-Null Count  Dtype \n",
      "---  ------        --------------  ----- \n",
      " 0   company_name  64 non-null     object\n",
      " 1   trips_amount  64 non-null     int64 \n",
      "dtypes: int64(1), object(1)\n",
      "memory usage: 1.1+ KB\n"
     ]
    }
   ],
   "source": [
    "result_01.info()"
   ]
  },
  {
   "cell_type": "code",
   "execution_count": 8,
   "metadata": {},
   "outputs": [
    {
     "data": {
      "text/html": [
       "<div>\n",
       "<style scoped>\n",
       "    .dataframe tbody tr th:only-of-type {\n",
       "        vertical-align: middle;\n",
       "    }\n",
       "\n",
       "    .dataframe tbody tr th {\n",
       "        vertical-align: top;\n",
       "    }\n",
       "\n",
       "    .dataframe thead th {\n",
       "        text-align: right;\n",
       "    }\n",
       "</style>\n",
       "<table border=\"1\" class=\"dataframe\">\n",
       "  <thead>\n",
       "    <tr style=\"text-align: right;\">\n",
       "      <th></th>\n",
       "      <th>dropoff_location_name</th>\n",
       "      <th>average_trips</th>\n",
       "    </tr>\n",
       "  </thead>\n",
       "  <tbody>\n",
       "    <tr>\n",
       "      <th>0</th>\n",
       "      <td>Loop</td>\n",
       "      <td>10727.466667</td>\n",
       "    </tr>\n",
       "    <tr>\n",
       "      <th>1</th>\n",
       "      <td>River North</td>\n",
       "      <td>9523.666667</td>\n",
       "    </tr>\n",
       "    <tr>\n",
       "      <th>2</th>\n",
       "      <td>Streeterville</td>\n",
       "      <td>6664.666667</td>\n",
       "    </tr>\n",
       "    <tr>\n",
       "      <th>3</th>\n",
       "      <td>West Loop</td>\n",
       "      <td>5163.666667</td>\n",
       "    </tr>\n",
       "    <tr>\n",
       "      <th>4</th>\n",
       "      <td>O'Hare</td>\n",
       "      <td>2546.900000</td>\n",
       "    </tr>\n",
       "    <tr>\n",
       "      <th>...</th>\n",
       "      <td>...</td>\n",
       "      <td>...</td>\n",
       "    </tr>\n",
       "    <tr>\n",
       "      <th>89</th>\n",
       "      <td>Mount Greenwood</td>\n",
       "      <td>3.137931</td>\n",
       "    </tr>\n",
       "    <tr>\n",
       "      <th>90</th>\n",
       "      <td>Hegewisch</td>\n",
       "      <td>3.117647</td>\n",
       "    </tr>\n",
       "    <tr>\n",
       "      <th>91</th>\n",
       "      <td>Burnside</td>\n",
       "      <td>2.333333</td>\n",
       "    </tr>\n",
       "    <tr>\n",
       "      <th>92</th>\n",
       "      <td>East Side</td>\n",
       "      <td>1.961538</td>\n",
       "    </tr>\n",
       "    <tr>\n",
       "      <th>93</th>\n",
       "      <td>Riverdale</td>\n",
       "      <td>1.800000</td>\n",
       "    </tr>\n",
       "  </tbody>\n",
       "</table>\n",
       "<p>94 rows × 2 columns</p>\n",
       "</div>"
      ],
      "text/plain": [
       "   dropoff_location_name  average_trips\n",
       "0                   Loop   10727.466667\n",
       "1            River North    9523.666667\n",
       "2          Streeterville    6664.666667\n",
       "3              West Loop    5163.666667\n",
       "4                 O'Hare    2546.900000\n",
       "..                   ...            ...\n",
       "89       Mount Greenwood       3.137931\n",
       "90             Hegewisch       3.117647\n",
       "91              Burnside       2.333333\n",
       "92             East Side       1.961538\n",
       "93             Riverdale       1.800000\n",
       "\n",
       "[94 rows x 2 columns]"
      ]
     },
     "execution_count": 8,
     "metadata": {},
     "output_type": "execute_result"
    }
   ],
   "source": [
    "result_02"
   ]
  },
  {
   "cell_type": "code",
   "execution_count": 9,
   "metadata": {},
   "outputs": [
    {
     "name": "stdout",
     "output_type": "stream",
     "text": [
      "<class 'pandas.core.frame.DataFrame'>\n",
      "RangeIndex: 94 entries, 0 to 93\n",
      "Data columns (total 2 columns):\n",
      " #   Column                 Non-Null Count  Dtype  \n",
      "---  ------                 --------------  -----  \n",
      " 0   dropoff_location_name  94 non-null     object \n",
      " 1   average_trips          94 non-null     float64\n",
      "dtypes: float64(1), object(1)\n",
      "memory usage: 1.6+ KB\n"
     ]
    }
   ],
   "source": [
    "result_02.info()"
   ]
  },
  {
   "cell_type": "code",
   "execution_count": 10,
   "metadata": {},
   "outputs": [
    {
     "data": {
      "text/plain": [
       "0"
      ]
     },
     "execution_count": 10,
     "metadata": {},
     "output_type": "execute_result"
    }
   ],
   "source": [
    "result_02_duplicates= result_02.duplicated().sum()\n",
    "result_02_duplicates"
   ]
  },
  {
   "cell_type": "code",
   "execution_count": 11,
   "metadata": {},
   "outputs": [
    {
     "data": {
      "text/plain": [
       "count       94.000000\n",
       "mean       599.953728\n",
       "std       1714.591098\n",
       "min          1.800000\n",
       "25%         14.266667\n",
       "50%         52.016667\n",
       "75%        298.858333\n",
       "max      10727.466667\n",
       "Name: average_trips, dtype: float64"
      ]
     },
     "execution_count": 11,
     "metadata": {},
     "output_type": "execute_result"
    }
   ],
   "source": [
    "result_02['average_trips'].describe()"
   ]
  },
  {
   "cell_type": "markdown",
   "metadata": {},
   "source": [
    "The dataset result_01 was analyzed by checking its structure using .info(), displaying its contents, checking for duplicate rows, and generating descriptive statistics for the trips_amount column. The dataset result_02 was examined by displaying its contents, checking for duplicates, and computing summary statistics for the average_trips column. The dataset structure was assessed using .info() to understand data types and completeness."
   ]
  },
  {
   "cell_type": "code",
   "execution_count": 12,
   "metadata": {},
   "outputs": [
    {
     "name": "stdout",
     "output_type": "stream",
     "text": [
      "<class 'pandas.core.frame.DataFrame'>\n",
      "RangeIndex: 1068 entries, 0 to 1067\n",
      "Data columns (total 3 columns):\n",
      " #   Column              Non-Null Count  Dtype  \n",
      "---  ------              --------------  -----  \n",
      " 0   start_ts            1068 non-null   object \n",
      " 1   weather_conditions  1068 non-null   object \n",
      " 2   duration_seconds    1068 non-null   float64\n",
      "dtypes: float64(1), object(2)\n",
      "memory usage: 25.2+ KB\n"
     ]
    }
   ],
   "source": [
    "result_03.info()"
   ]
  },
  {
   "cell_type": "code",
   "execution_count": 13,
   "metadata": {},
   "outputs": [
    {
     "name": "stdout",
     "output_type": "stream",
     "text": [
      "<class 'pandas.core.frame.DataFrame'>\n",
      "RangeIndex: 1068 entries, 0 to 1067\n",
      "Data columns (total 3 columns):\n",
      " #   Column              Non-Null Count  Dtype         \n",
      "---  ------              --------------  -----         \n",
      " 0   start_ts            1068 non-null   datetime64[ns]\n",
      " 1   weather_conditions  1068 non-null   object        \n",
      " 2   duration_seconds    1068 non-null   float64       \n",
      "dtypes: datetime64[ns](1), float64(1), object(1)\n",
      "memory usage: 25.2+ KB\n"
     ]
    }
   ],
   "source": [
    "result_03['start_ts']= pd.to_datetime(result_03['start_ts'])\n",
    "result_03.info()"
   ]
  },
  {
   "cell_type": "code",
   "execution_count": 14,
   "metadata": {},
   "outputs": [
    {
     "data": {
      "text/html": [
       "<div>\n",
       "<style scoped>\n",
       "    .dataframe tbody tr th:only-of-type {\n",
       "        vertical-align: middle;\n",
       "    }\n",
       "\n",
       "    .dataframe tbody tr th {\n",
       "        vertical-align: top;\n",
       "    }\n",
       "\n",
       "    .dataframe thead th {\n",
       "        text-align: right;\n",
       "    }\n",
       "</style>\n",
       "<table border=\"1\" class=\"dataframe\">\n",
       "  <thead>\n",
       "    <tr style=\"text-align: right;\">\n",
       "      <th></th>\n",
       "      <th>start_ts</th>\n",
       "      <th>weather_conditions</th>\n",
       "      <th>duration_seconds</th>\n",
       "    </tr>\n",
       "  </thead>\n",
       "  <tbody>\n",
       "    <tr>\n",
       "      <th>0</th>\n",
       "      <td>2017-11-25 16:00:00</td>\n",
       "      <td>Good</td>\n",
       "      <td>2410.0</td>\n",
       "    </tr>\n",
       "    <tr>\n",
       "      <th>1</th>\n",
       "      <td>2017-11-25 14:00:00</td>\n",
       "      <td>Good</td>\n",
       "      <td>1920.0</td>\n",
       "    </tr>\n",
       "    <tr>\n",
       "      <th>2</th>\n",
       "      <td>2017-11-25 12:00:00</td>\n",
       "      <td>Good</td>\n",
       "      <td>1543.0</td>\n",
       "    </tr>\n",
       "    <tr>\n",
       "      <th>3</th>\n",
       "      <td>2017-11-04 10:00:00</td>\n",
       "      <td>Good</td>\n",
       "      <td>2512.0</td>\n",
       "    </tr>\n",
       "    <tr>\n",
       "      <th>4</th>\n",
       "      <td>2017-11-11 07:00:00</td>\n",
       "      <td>Good</td>\n",
       "      <td>1440.0</td>\n",
       "    </tr>\n",
       "    <tr>\n",
       "      <th>...</th>\n",
       "      <td>...</td>\n",
       "      <td>...</td>\n",
       "      <td>...</td>\n",
       "    </tr>\n",
       "    <tr>\n",
       "      <th>1063</th>\n",
       "      <td>2017-11-25 11:00:00</td>\n",
       "      <td>Good</td>\n",
       "      <td>0.0</td>\n",
       "    </tr>\n",
       "    <tr>\n",
       "      <th>1064</th>\n",
       "      <td>2017-11-11 10:00:00</td>\n",
       "      <td>Good</td>\n",
       "      <td>1318.0</td>\n",
       "    </tr>\n",
       "    <tr>\n",
       "      <th>1065</th>\n",
       "      <td>2017-11-11 13:00:00</td>\n",
       "      <td>Good</td>\n",
       "      <td>2100.0</td>\n",
       "    </tr>\n",
       "    <tr>\n",
       "      <th>1066</th>\n",
       "      <td>2017-11-11 08:00:00</td>\n",
       "      <td>Good</td>\n",
       "      <td>1380.0</td>\n",
       "    </tr>\n",
       "    <tr>\n",
       "      <th>1067</th>\n",
       "      <td>2017-11-04 16:00:00</td>\n",
       "      <td>Bad</td>\n",
       "      <td>2834.0</td>\n",
       "    </tr>\n",
       "  </tbody>\n",
       "</table>\n",
       "<p>1068 rows × 3 columns</p>\n",
       "</div>"
      ],
      "text/plain": [
       "                start_ts weather_conditions  duration_seconds\n",
       "0    2017-11-25 16:00:00               Good            2410.0\n",
       "1    2017-11-25 14:00:00               Good            1920.0\n",
       "2    2017-11-25 12:00:00               Good            1543.0\n",
       "3    2017-11-04 10:00:00               Good            2512.0\n",
       "4    2017-11-11 07:00:00               Good            1440.0\n",
       "...                  ...                ...               ...\n",
       "1063 2017-11-25 11:00:00               Good               0.0\n",
       "1064 2017-11-11 10:00:00               Good            1318.0\n",
       "1065 2017-11-11 13:00:00               Good            2100.0\n",
       "1066 2017-11-11 08:00:00               Good            1380.0\n",
       "1067 2017-11-04 16:00:00                Bad            2834.0\n",
       "\n",
       "[1068 rows x 3 columns]"
      ]
     },
     "execution_count": 14,
     "metadata": {},
     "output_type": "execute_result"
    }
   ],
   "source": [
    "result_03"
   ]
  },
  {
   "cell_type": "code",
   "execution_count": 15,
   "metadata": {},
   "outputs": [
    {
     "name": "stdout",
     "output_type": "stream",
     "text": [
      "             start_ts weather_conditions  duration_seconds       dow\n",
      "0 2017-11-25 16:00:00               Good            2410.0  Saturday\n",
      "1 2017-11-25 14:00:00               Good            1920.0  Saturday\n",
      "2 2017-11-25 12:00:00               Good            1543.0  Saturday\n",
      "3 2017-11-04 10:00:00               Good            2512.0  Saturday\n",
      "4 2017-11-11 07:00:00               Good            1440.0  Saturday\n"
     ]
    }
   ],
   "source": [
    "result_03['dow']= result_03['start_ts'].dt.day_name()\n",
    "print(result_03.head())"
   ]
  },
  {
   "cell_type": "code",
   "execution_count": 16,
   "metadata": {},
   "outputs": [
    {
     "data": {
      "text/plain": [
       "197"
      ]
     },
     "execution_count": 16,
     "metadata": {},
     "output_type": "execute_result"
    }
   ],
   "source": [
    "result_03_duplicates= result_03.duplicated().sum()\n",
    "result_03_duplicates"
   ]
  },
  {
   "cell_type": "code",
   "execution_count": 17,
   "metadata": {},
   "outputs": [
    {
     "data": {
      "text/plain": [
       "0       False\n",
       "1       False\n",
       "2       False\n",
       "3       False\n",
       "4       False\n",
       "        ...  \n",
       "1063    False\n",
       "1064    False\n",
       "1065     True\n",
       "1066     True\n",
       "1067    False\n",
       "Length: 1068, dtype: bool"
      ]
     },
     "execution_count": 17,
     "metadata": {},
     "output_type": "execute_result"
    }
   ],
   "source": [
    "result_03.duplicated()"
   ]
  },
  {
   "cell_type": "markdown",
   "metadata": {},
   "source": [
    "The result_03 dataset was analyzed checking its structure using .info() to understand its data types. I also converted the start_ts column to a datetime format using pd.to_datetime() I also extracted the day of the week from start_ts and storing it in a new column called dow using .dt.day_name(). i checked for duplicate rows in result_03 using .duplicated().sum(), revealing that there are 197 duplicate entries."
   ]
  },
  {
   "cell_type": "code",
   "execution_count": 18,
   "metadata": {},
   "outputs": [
    {
     "name": "stdout",
     "output_type": "stream",
     "text": [
      "                        company_name  trips_amount\n",
      "0                          Flash Cab         19558\n",
      "1          Taxi Affiliation Services         11422\n",
      "2                  Medallion Leasing         10367\n",
      "3                         Yellow Cab          9888\n",
      "4    Taxi Affiliation Service Yellow          9299\n",
      "5          Chicago Carriage Cab Corp          9181\n",
      "6                       City Service          8448\n",
      "7                           Sun Taxi          7701\n",
      "8          Star North Management LLC          7455\n",
      "9  Blue Ribbon Taxi Association Inc.          5953\n"
     ]
    }
   ],
   "source": [
    "top_taxi_companies = result_01.sort_values(by='trips_amount', ascending=False).head(10)\n",
    "print(top_taxi_companies)"
   ]
  },
  {
   "cell_type": "code",
   "execution_count": 19,
   "metadata": {},
   "outputs": [
    {
     "data": {
      "image/png": "[encoded data removed]",
      "text/plain": [
       "<Figure size 1200x600 with 1 Axes>"
      ]
     },
     "metadata": {},
     "output_type": "display_data"
    }
   ],
   "source": [
    "plt.figure(figsize=(12,6))\n",
    "plt.bar(top_taxi_companies['company_name'], top_taxi_companies['trips_amount'], color='darkgreen')\n",
    "plt.ylabel(\"Number of Rides\")\n",
    "plt.xlabel(\"Taxi Company\")\n",
    "plt.title(\"Top Taxi Companies by Number of Rides\")\n",
    "plt.xticks(rotation=45)\n",
    "plt.show()"
   ]
  },
  {
   "cell_type": "markdown",
   "metadata": {},
   "source": [
    "The graph shows that Flash Cab dominates the taxi market with the highest number of rides, followed by Taxi Affiliation Services and Medallion Leasing, while smaller companies have significantly fewer trips, indicating market concentration among a few major companies."
   ]
  },
  {
   "cell_type": "code",
   "execution_count": 20,
   "metadata": {},
   "outputs": [
    {
     "name": "stdout",
     "output_type": "stream",
     "text": [
      "  dropoff_location_name  average_trips\n",
      "0                  Loop   10727.466667\n",
      "1           River North    9523.666667\n",
      "2         Streeterville    6664.666667\n",
      "3             West Loop    5163.666667\n",
      "4                O'Hare    2546.900000\n",
      "5             Lake View    2420.966667\n",
      "6            Grant Park    2068.533333\n",
      "7         Museum Campus    1510.000000\n",
      "8            Gold Coast    1364.233333\n",
      "9    Sheffield & DePaul    1259.766667\n"
     ]
    }
   ],
   "source": [
    "top_10_dropoff = result_02.sort_values(by='average_trips', ascending=False).head(10)\n",
    "print(top_10_dropoff)"
   ]
  },
  {
   "cell_type": "code",
   "execution_count": 21,
   "metadata": {},
   "outputs": [
    {
     "data": {
      "image/png": "[encoded data removed]",
      "text/plain": [
       "<Figure size 1200x600 with 1 Axes>"
      ]
     },
     "metadata": {},
     "output_type": "display_data"
    }
   ],
   "source": [
    "plt.figure(figsize=(12,6))\n",
    "plt.bar(top_10_dropoff['dropoff_location_name'], top_10_dropoff['average_trips'], color='darkorange')\n",
    "plt.ylabel(\"Average Number of Drop-offs\")\n",
    "plt.xlabel(\"Neighborhood\")\n",
    "plt.title(\"Top 10 Neighborhoods by Drop-offs\")\n",
    "plt.xticks(rotation=45)\n",
    "plt.show()"
   ]
  },
  {
   "cell_type": "markdown",
   "metadata": {},
   "source": [
    "The graph indicates that the Loop and River North neighborhoods have the highest average number of taxi drop-offs, suggesting they are major commercial or business hubs, while other areas like O'Hare, Hyde Park and the rest of the areas see significantly fewer drop-offs, indicating less taxi demand in those regions."
   ]
  },
  {
   "cell_type": "code",
   "execution_count": 22,
   "metadata": {},
   "outputs": [
    {
     "data": {
      "image/png": "[encoded data removed]",
      "text/plain": [
       "<Figure size 1200x600 with 1 Axes>"
      ]
     },
     "metadata": {},
     "output_type": "display_data"
    }
   ],
   "source": [
    "plt.figure(figsize=(12, 6))\n",
    "sns.boxplot(x='weather_conditions', y='duration_seconds', data=result_03)\n",
    "plt.title('Durations by Weather')\n",
    "plt.xticks(rotation=50)\n",
    "plt.show()"
   ]
  },
  {
   "cell_type": "markdown",
   "metadata": {},
   "source": [
    "On this graph it shows that there are more outliers on good weather_conditions then on bad weather_conditions."
   ]
  },
  {
   "cell_type": "code",
   "execution_count": 23,
   "metadata": {},
   "outputs": [
    {
     "name": "stdout",
     "output_type": "stream",
     "text": [
      "p-value: 6.738994326108734e-12\n",
      "We reject the null hypothesis\n"
     ]
    }
   ],
   "source": [
    "result_saturday = result_03[result_03['dow'] == 'Saturday']\n",
    "good_weather = result_saturday[result_saturday['weather_conditions'] == 'Good']['duration_seconds']\n",
    "bad_weather = result_saturday[result_saturday['weather_conditions'] == 'Bad']['duration_seconds']\n",
    "\n",
    "results = ttest_ind(good_weather, bad_weather, equal_var = False)\n",
    "alpha = 0.05\n",
    "print('p-value:', results.pvalue)\n",
    "\n",
    "if results.pvalue < alpha:\n",
    "    print('We reject the null hypothesis')\n",
    "else:\n",
    "    print('No rejection to null hypothesis')"
   ]
  },
  {
   "cell_type": "markdown",
   "metadata": {},
   "source": [
    "The null hypothesis assumed no significant difference in trip duration on Saturdays between good and bad weather conditions, while the alternative hypothesis proposed a significant difference. A two-sample independent t-test was used with a significance level of 0.05, and since the p-value was extremely low the null hypothesis was rejected, indicating that weather conditions significantly impact trip duration on Saturdays."
   ]
  },
  {
   "cell_type": "markdown",
   "metadata": {},
   "source": [
    "# General Conclusion"
   ]
  },
  {
   "cell_type": "markdown",
   "metadata": {},
   "source": [
    "Through my analysis of taxi trip data, I found that Flash Cab dominates the market with the highest number of rides, while other companies have significantly fewer trips. The most popular drop-off locations, such as Loop and River North, indicate high taxi demand in commercial and business districts. Additionally, my statistical test on trip durations showed that weather conditions significantly impact travel times on Saturdays, suggesting that bad weather leads to longer trips. These insights can help optimize taxi operations, improve service efficiency, and better understand how external factors influence ride demand."
   ]
  }
 ],
 "metadata": {
  "ExecuteTimeLog": [
   {
    "duration": 2534,
    "start_time": "2025-03-11T20:25:46.243Z"
   },
   {
    "duration": 9,
    "start_time": "2025-03-11T21:47:47.323Z"
   },
   {
    "duration": 12,
    "start_time": "2025-03-11T21:48:10.681Z"
   },
   {
    "duration": 10,
    "start_time": "2025-03-11T21:48:53.076Z"
   },
   {
    "duration": 193,
    "start_time": "2025-03-12T01:32:41.608Z"
   },
   {
    "duration": 3019,
    "start_time": "2025-03-12T01:32:49.465Z"
   },
   {
    "duration": 10,
    "start_time": "2025-03-12T01:32:52.487Z"
   },
   {
    "duration": 16,
    "start_time": "2025-03-12T01:32:52.500Z"
   },
   {
    "duration": 10,
    "start_time": "2025-03-12T01:32:52.517Z"
   },
   {
    "duration": 9,
    "start_time": "2025-03-12T01:32:52.529Z"
   },
   {
    "duration": 7,
    "start_time": "2025-03-12T01:33:27.218Z"
   },
   {
    "duration": 5,
    "start_time": "2025-03-12T01:33:28.172Z"
   },
   {
    "duration": 10,
    "start_time": "2025-03-12T01:33:28.919Z"
   },
   {
    "duration": 12,
    "start_time": "2025-03-12T01:33:51.976Z"
   },
   {
    "duration": 9,
    "start_time": "2025-03-12T01:34:05.121Z"
   },
   {
    "duration": 243,
    "start_time": "2025-03-12T01:42:31.163Z"
   },
   {
    "duration": 5,
    "start_time": "2025-03-12T01:42:43.461Z"
   },
   {
    "duration": 7,
    "start_time": "2025-03-12T01:54:46.140Z"
   },
   {
    "duration": 15,
    "start_time": "2025-03-12T01:57:11.499Z"
   },
   {
    "duration": 16,
    "start_time": "2025-03-12T01:57:34.687Z"
   },
   {
    "duration": 4,
    "start_time": "2025-03-12T01:57:44.572Z"
   },
   {
    "duration": 4,
    "start_time": "2025-03-12T01:57:51.200Z"
   },
   {
    "duration": 5,
    "start_time": "2025-03-12T01:58:15.046Z"
   },
   {
    "duration": 12,
    "start_time": "2025-03-12T01:59:15.748Z"
   },
   {
    "duration": 11,
    "start_time": "2025-03-12T02:00:33.442Z"
   },
   {
    "duration": 4,
    "start_time": "2025-03-12T02:01:33.584Z"
   },
   {
    "duration": 5,
    "start_time": "2025-03-12T02:01:48.755Z"
   },
   {
    "duration": 7,
    "start_time": "2025-03-12T02:20:02.714Z"
   },
   {
    "duration": 6,
    "start_time": "2025-03-12T02:27:03.902Z"
   },
   {
    "duration": 9,
    "start_time": "2025-03-12T02:27:31.984Z"
   },
   {
    "duration": 8,
    "start_time": "2025-03-12T02:28:16.435Z"
   },
   {
    "duration": 8,
    "start_time": "2025-03-12T02:28:38.191Z"
   },
   {
    "duration": 7,
    "start_time": "2025-03-12T02:29:54.742Z"
   },
   {
    "duration": 8,
    "start_time": "2025-03-12T02:30:17.847Z"
   },
   {
    "duration": 2543,
    "start_time": "2025-03-13T00:41:05.627Z"
   },
   {
    "duration": 19,
    "start_time": "2025-03-13T00:41:08.172Z"
   },
   {
    "duration": 8,
    "start_time": "2025-03-13T00:41:08.194Z"
   },
   {
    "duration": 9,
    "start_time": "2025-03-13T00:41:08.205Z"
   },
   {
    "duration": 4,
    "start_time": "2025-03-13T00:41:08.215Z"
   },
   {
    "duration": 26,
    "start_time": "2025-03-13T00:41:08.221Z"
   },
   {
    "duration": 7,
    "start_time": "2025-03-13T00:41:08.248Z"
   },
   {
    "duration": 8,
    "start_time": "2025-03-13T00:41:08.257Z"
   },
   {
    "duration": 7,
    "start_time": "2025-03-13T00:41:08.267Z"
   },
   {
    "duration": 5,
    "start_time": "2025-03-13T00:41:08.275Z"
   },
   {
    "duration": 7,
    "start_time": "2025-03-13T00:41:08.281Z"
   },
   {
    "duration": 6,
    "start_time": "2025-03-13T00:41:08.289Z"
   },
   {
    "duration": 127,
    "start_time": "2025-03-13T00:44:28.503Z"
   },
   {
    "duration": 5,
    "start_time": "2025-03-13T00:44:47.046Z"
   },
   {
    "duration": 114,
    "start_time": "2025-03-13T01:03:08.619Z"
   },
   {
    "duration": 18,
    "start_time": "2025-03-13T01:03:13.640Z"
   },
   {
    "duration": 438,
    "start_time": "2025-03-13T01:03:42.030Z"
   },
   {
    "duration": 4,
    "start_time": "2025-03-13T01:24:46.794Z"
   },
   {
    "duration": 87,
    "start_time": "2025-03-13T01:24:53.337Z"
   },
   {
    "duration": 49,
    "start_time": "2025-03-13T01:25:02.208Z"
   },
   {
    "duration": 6,
    "start_time": "2025-03-13T01:26:16.491Z"
   },
   {
    "duration": 3,
    "start_time": "2025-03-13T01:26:48.387Z"
   },
   {
    "duration": 4,
    "start_time": "2025-03-13T01:27:13.131Z"
   },
   {
    "duration": 4,
    "start_time": "2025-03-13T01:27:31.655Z"
   },
   {
    "duration": 2,
    "start_time": "2025-03-13T01:28:01.753Z"
   },
   {
    "duration": 47,
    "start_time": "2025-03-13T01:28:08.089Z"
   },
   {
    "duration": 13,
    "start_time": "2025-03-13T01:28:43.165Z"
   },
   {
    "duration": 3,
    "start_time": "2025-03-13T01:28:50.955Z"
   },
   {
    "duration": 159,
    "start_time": "2025-03-13T01:28:54.845Z"
   },
   {
    "duration": 159,
    "start_time": "2025-03-13T01:31:11.486Z"
   },
   {
    "duration": 137,
    "start_time": "2025-03-13T01:31:27.094Z"
   },
   {
    "duration": 132,
    "start_time": "2025-03-13T01:31:36.958Z"
   },
   {
    "duration": 139,
    "start_time": "2025-03-13T01:31:50.341Z"
   },
   {
    "duration": 4,
    "start_time": "2025-03-13T01:35:15.258Z"
   },
   {
    "duration": 2,
    "start_time": "2025-03-13T01:35:27.070Z"
   },
   {
    "duration": 3,
    "start_time": "2025-03-13T01:35:47.343Z"
   },
   {
    "duration": 17,
    "start_time": "2025-03-13T01:36:00.859Z"
   },
   {
    "duration": 122,
    "start_time": "2025-03-13T01:36:15.313Z"
   },
   {
    "duration": 126,
    "start_time": "2025-03-13T01:36:28.252Z"
   },
   {
    "duration": 807,
    "start_time": "2025-03-13T01:36:40.003Z"
   },
   {
    "duration": 142,
    "start_time": "2025-03-13T01:37:08.431Z"
   },
   {
    "duration": 158,
    "start_time": "2025-03-13T01:37:19.051Z"
   },
   {
    "duration": 120,
    "start_time": "2025-03-13T01:37:39.488Z"
   },
   {
    "duration": 116,
    "start_time": "2025-03-13T01:37:59.704Z"
   },
   {
    "duration": 3,
    "start_time": "2025-03-13T01:40:55.754Z"
   },
   {
    "duration": 110,
    "start_time": "2025-03-13T01:40:58.799Z"
   },
   {
    "duration": 71,
    "start_time": "2025-03-13T01:41:08.342Z"
   },
   {
    "duration": 2,
    "start_time": "2025-03-13T01:41:23.105Z"
   },
   {
    "duration": 42,
    "start_time": "2025-03-13T01:41:24.696Z"
   },
   {
    "duration": 2,
    "start_time": "2025-03-13T01:42:43.494Z"
   },
   {
    "duration": 3,
    "start_time": "2025-03-13T01:42:44.109Z"
   },
   {
    "duration": 3,
    "start_time": "2025-03-13T01:47:42.070Z"
   },
   {
    "duration": 3,
    "start_time": "2025-03-13T01:47:42.818Z"
   },
   {
    "duration": 141,
    "start_time": "2025-03-13T01:47:44.255Z"
   },
   {
    "duration": 239,
    "start_time": "2025-03-13T01:48:13.256Z"
   },
   {
    "duration": 141,
    "start_time": "2025-03-13T01:50:54.641Z"
   },
   {
    "duration": 138,
    "start_time": "2025-03-13T01:51:03.879Z"
   },
   {
    "duration": 142,
    "start_time": "2025-03-13T01:51:12.322Z"
   },
   {
    "duration": 142,
    "start_time": "2025-03-13T01:51:58.499Z"
   },
   {
    "duration": 143,
    "start_time": "2025-03-13T01:52:21.397Z"
   },
   {
    "duration": 312,
    "start_time": "2025-03-13T01:54:31.608Z"
   },
   {
    "duration": 161,
    "start_time": "2025-03-13T01:55:08.689Z"
   },
   {
    "duration": 4,
    "start_time": "2025-03-13T01:55:34.364Z"
   },
   {
    "duration": 7,
    "start_time": "2025-03-13T01:55:48.550Z"
   },
   {
    "duration": 4,
    "start_time": "2025-03-13T01:56:41.179Z"
   },
   {
    "duration": 73,
    "start_time": "2025-03-13T01:57:36.053Z"
   },
   {
    "duration": 43,
    "start_time": "2025-03-13T01:57:50.990Z"
   },
   {
    "duration": 116,
    "start_time": "2025-03-13T01:58:01.395Z"
   },
   {
    "duration": 16,
    "start_time": "2025-03-13T01:59:10.715Z"
   },
   {
    "duration": 156,
    "start_time": "2025-03-13T02:00:48.124Z"
   },
   {
    "duration": 142,
    "start_time": "2025-03-13T02:01:11.579Z"
   },
   {
    "duration": 150,
    "start_time": "2025-03-13T02:01:28.305Z"
   },
   {
    "duration": 141,
    "start_time": "2025-03-13T02:01:48.077Z"
   },
   {
    "duration": 151,
    "start_time": "2025-03-13T02:01:57.635Z"
   },
   {
    "duration": 3,
    "start_time": "2025-03-13T02:07:38.996Z"
   },
   {
    "duration": 4,
    "start_time": "2025-03-13T02:07:39.789Z"
   },
   {
    "duration": 198,
    "start_time": "2025-03-13T02:07:40.773Z"
   },
   {
    "duration": 157,
    "start_time": "2025-03-14T00:11:41.664Z"
   },
   {
    "duration": 2480,
    "start_time": "2025-03-14T00:11:49.146Z"
   },
   {
    "duration": 26,
    "start_time": "2025-03-14T00:11:51.628Z"
   },
   {
    "duration": 8,
    "start_time": "2025-03-14T00:11:51.657Z"
   },
   {
    "duration": 8,
    "start_time": "2025-03-14T00:11:51.667Z"
   },
   {
    "duration": 13,
    "start_time": "2025-03-14T00:11:51.677Z"
   },
   {
    "duration": 5,
    "start_time": "2025-03-14T00:11:51.692Z"
   },
   {
    "duration": 7,
    "start_time": "2025-03-14T00:11:51.699Z"
   },
   {
    "duration": 8,
    "start_time": "2025-03-14T00:11:51.707Z"
   },
   {
    "duration": 8,
    "start_time": "2025-03-14T00:11:51.716Z"
   },
   {
    "duration": 4,
    "start_time": "2025-03-14T00:11:51.726Z"
   },
   {
    "duration": 6,
    "start_time": "2025-03-14T00:11:51.732Z"
   },
   {
    "duration": 5,
    "start_time": "2025-03-14T00:11:51.739Z"
   },
   {
    "duration": 3,
    "start_time": "2025-03-14T00:11:51.786Z"
   },
   {
    "duration": 3,
    "start_time": "2025-03-14T00:11:51.792Z"
   },
   {
    "duration": 219,
    "start_time": "2025-03-14T00:11:51.796Z"
   },
   {
    "duration": 5,
    "start_time": "2025-03-14T00:11:52.017Z"
   },
   {
    "duration": 2,
    "start_time": "2025-03-14T00:11:52.024Z"
   },
   {
    "duration": 4,
    "start_time": "2025-03-14T00:11:52.028Z"
   },
   {
    "duration": 159,
    "start_time": "2025-03-14T00:11:52.034Z"
   },
   {
    "duration": 11,
    "start_time": "2025-03-14T00:12:41.234Z"
   },
   {
    "duration": 9,
    "start_time": "2025-03-14T00:12:57.395Z"
   },
   {
    "duration": 219,
    "start_time": "2025-03-14T00:14:09.015Z"
   },
   {
    "duration": 4,
    "start_time": "2025-03-14T00:14:16.454Z"
   },
   {
    "duration": 4,
    "start_time": "2025-03-14T00:14:20.003Z"
   },
   {
    "duration": 5,
    "start_time": "2025-03-14T00:14:34.906Z"
   },
   {
    "duration": 6,
    "start_time": "2025-03-14T00:18:07.912Z"
   },
   {
    "duration": 4,
    "start_time": "2025-03-14T00:28:55.983Z"
   },
   {
    "duration": 10,
    "start_time": "2025-03-14T00:29:16.720Z"
   },
   {
    "duration": 10,
    "start_time": "2025-03-14T00:46:08.625Z"
   },
   {
    "duration": 798,
    "start_time": "2025-03-14T00:46:48.254Z"
   },
   {
    "duration": 21,
    "start_time": "2025-03-14T00:46:49.054Z"
   },
   {
    "duration": 12,
    "start_time": "2025-03-14T00:46:49.077Z"
   },
   {
    "duration": 9,
    "start_time": "2025-03-14T00:46:49.091Z"
   },
   {
    "duration": 4,
    "start_time": "2025-03-14T00:46:49.102Z"
   },
   {
    "duration": 6,
    "start_time": "2025-03-14T00:46:49.107Z"
   },
   {
    "duration": 8,
    "start_time": "2025-03-14T00:46:49.115Z"
   },
   {
    "duration": 8,
    "start_time": "2025-03-14T00:46:49.124Z"
   },
   {
    "duration": 9,
    "start_time": "2025-03-14T00:46:49.133Z"
   },
   {
    "duration": 42,
    "start_time": "2025-03-14T00:46:49.145Z"
   },
   {
    "duration": 5,
    "start_time": "2025-03-14T00:46:49.189Z"
   },
   {
    "duration": 7,
    "start_time": "2025-03-14T00:46:49.196Z"
   },
   {
    "duration": 8,
    "start_time": "2025-03-14T00:46:49.205Z"
   },
   {
    "duration": 8,
    "start_time": "2025-03-14T00:46:49.215Z"
   },
   {
    "duration": 4,
    "start_time": "2025-03-14T00:46:49.225Z"
   },
   {
    "duration": 5,
    "start_time": "2025-03-14T00:46:49.231Z"
   },
   {
    "duration": 48,
    "start_time": "2025-03-14T00:46:49.238Z"
   },
   {
    "duration": 6,
    "start_time": "2025-03-14T00:55:07.806Z"
   },
   {
    "duration": 512,
    "start_time": "2025-03-14T01:08:43.321Z"
   },
   {
    "duration": 62,
    "start_time": "2025-03-14T01:09:27.268Z"
   },
   {
    "duration": 3,
    "start_time": "2025-03-14T01:10:18.036Z"
   },
   {
    "duration": 6,
    "start_time": "2025-03-14T01:10:32.990Z"
   },
   {
    "duration": 7,
    "start_time": "2025-03-14T01:11:08.813Z"
   },
   {
    "duration": 9,
    "start_time": "2025-03-14T01:11:20.126Z"
   },
   {
    "duration": 8,
    "start_time": "2025-03-14T01:11:45.774Z"
   },
   {
    "duration": 3,
    "start_time": "2025-03-14T01:14:36.847Z"
   },
   {
    "duration": 7,
    "start_time": "2025-03-14T01:14:51.057Z"
   },
   {
    "duration": 5,
    "start_time": "2025-03-14T01:15:49.060Z"
   },
   {
    "duration": 4,
    "start_time": "2025-03-14T01:17:08.586Z"
   },
   {
    "duration": 17,
    "start_time": "2025-03-14T01:31:14.737Z"
   },
   {
    "duration": 19,
    "start_time": "2025-03-14T01:33:34.184Z"
   },
   {
    "duration": 386,
    "start_time": "2025-03-14T01:34:52.495Z"
   },
   {
    "duration": 19,
    "start_time": "2025-03-14T01:35:10.048Z"
   },
   {
    "duration": 795,
    "start_time": "2025-03-14T01:37:28.774Z"
   },
   {
    "duration": 39,
    "start_time": "2025-03-14T01:37:29.574Z"
   },
   {
    "duration": 9,
    "start_time": "2025-03-14T01:37:29.615Z"
   },
   {
    "duration": 9,
    "start_time": "2025-03-14T01:37:29.626Z"
   },
   {
    "duration": 5,
    "start_time": "2025-03-14T01:37:29.636Z"
   },
   {
    "duration": 6,
    "start_time": "2025-03-14T01:37:29.643Z"
   },
   {
    "duration": 9,
    "start_time": "2025-03-14T01:37:29.650Z"
   },
   {
    "duration": 26,
    "start_time": "2025-03-14T01:37:29.661Z"
   },
   {
    "duration": 8,
    "start_time": "2025-03-14T01:37:29.691Z"
   },
   {
    "duration": 4,
    "start_time": "2025-03-14T01:37:29.700Z"
   },
   {
    "duration": 6,
    "start_time": "2025-03-14T01:37:29.706Z"
   },
   {
    "duration": 8,
    "start_time": "2025-03-14T01:37:29.713Z"
   },
   {
    "duration": 10,
    "start_time": "2025-03-14T01:37:29.722Z"
   },
   {
    "duration": 9,
    "start_time": "2025-03-14T01:37:29.733Z"
   },
   {
    "duration": 46,
    "start_time": "2025-03-14T01:37:29.744Z"
   },
   {
    "duration": 6,
    "start_time": "2025-03-14T01:37:29.792Z"
   },
   {
    "duration": 5,
    "start_time": "2025-03-14T01:37:29.799Z"
   },
   {
    "duration": 5,
    "start_time": "2025-03-14T01:37:29.806Z"
   },
   {
    "duration": 3,
    "start_time": "2025-03-14T01:37:29.813Z"
   },
   {
    "duration": 4,
    "start_time": "2025-03-14T01:37:29.818Z"
   },
   {
    "duration": 247,
    "start_time": "2025-03-14T01:37:29.824Z"
   },
   {
    "duration": 5,
    "start_time": "2025-03-14T01:37:30.073Z"
   },
   {
    "duration": 4,
    "start_time": "2025-03-14T01:37:30.080Z"
   },
   {
    "duration": 4,
    "start_time": "2025-03-14T01:37:30.085Z"
   },
   {
    "duration": 157,
    "start_time": "2025-03-14T01:37:30.090Z"
   },
   {
    "duration": 553,
    "start_time": "2025-03-14T01:37:30.249Z"
   },
   {
    "duration": 117,
    "start_time": "2025-03-14T01:38:14.767Z"
   },
   {
    "duration": 52,
    "start_time": "2025-03-14T01:38:44.747Z"
   },
   {
    "duration": 55,
    "start_time": "2025-03-14T01:39:07.076Z"
   },
   {
    "duration": 55,
    "start_time": "2025-03-14T01:48:01.156Z"
   },
   {
    "duration": 6,
    "start_time": "2025-03-14T01:48:21.927Z"
   },
   {
    "duration": 8,
    "start_time": "2025-03-14T01:58:35.703Z"
   },
   {
    "duration": 6,
    "start_time": "2025-03-14T02:56:35.840Z"
   },
   {
    "duration": 845,
    "start_time": "2025-03-14T07:57:06.242Z"
   },
   {
    "duration": 28,
    "start_time": "2025-03-14T07:57:07.089Z"
   },
   {
    "duration": 9,
    "start_time": "2025-03-14T07:57:07.118Z"
   },
   {
    "duration": 9,
    "start_time": "2025-03-14T07:57:07.129Z"
   },
   {
    "duration": 6,
    "start_time": "2025-03-14T07:57:07.140Z"
   },
   {
    "duration": 6,
    "start_time": "2025-03-14T07:57:07.148Z"
   },
   {
    "duration": 31,
    "start_time": "2025-03-14T07:57:07.156Z"
   },
   {
    "duration": 9,
    "start_time": "2025-03-14T07:57:07.190Z"
   },
   {
    "duration": 8,
    "start_time": "2025-03-14T07:57:07.200Z"
   },
   {
    "duration": 5,
    "start_time": "2025-03-14T07:57:07.210Z"
   },
   {
    "duration": 7,
    "start_time": "2025-03-14T07:57:07.217Z"
   },
   {
    "duration": 8,
    "start_time": "2025-03-14T07:57:07.226Z"
   },
   {
    "duration": 9,
    "start_time": "2025-03-14T07:57:07.236Z"
   },
   {
    "duration": 10,
    "start_time": "2025-03-14T07:57:07.287Z"
   },
   {
    "duration": 6,
    "start_time": "2025-03-14T07:57:07.298Z"
   },
   {
    "duration": 6,
    "start_time": "2025-03-14T07:57:07.306Z"
   },
   {
    "duration": 6,
    "start_time": "2025-03-14T07:57:07.313Z"
   },
   {
    "duration": 4,
    "start_time": "2025-03-14T07:57:07.321Z"
   },
   {
    "duration": 4,
    "start_time": "2025-03-14T07:57:07.327Z"
   },
   {
    "duration": 4,
    "start_time": "2025-03-14T07:57:07.332Z"
   },
   {
    "duration": 234,
    "start_time": "2025-03-14T07:57:07.338Z"
   },
   {
    "duration": 13,
    "start_time": "2025-03-14T07:57:07.574Z"
   },
   {
    "duration": 3,
    "start_time": "2025-03-14T07:57:07.589Z"
   },
   {
    "duration": 3,
    "start_time": "2025-03-14T07:57:07.594Z"
   },
   {
    "duration": 166,
    "start_time": "2025-03-14T07:57:07.599Z"
   },
   {
    "duration": 8,
    "start_time": "2025-03-14T07:57:07.767Z"
   },
   {
    "duration": 2598,
    "start_time": "2025-03-14T22:43:55.098Z"
   },
   {
    "duration": 26,
    "start_time": "2025-03-14T22:43:57.698Z"
   },
   {
    "duration": 8,
    "start_time": "2025-03-14T22:43:57.725Z"
   },
   {
    "duration": 9,
    "start_time": "2025-03-14T22:43:57.735Z"
   },
   {
    "duration": 4,
    "start_time": "2025-03-14T22:43:57.746Z"
   },
   {
    "duration": 21,
    "start_time": "2025-03-14T22:43:57.752Z"
   },
   {
    "duration": 8,
    "start_time": "2025-03-14T22:43:57.774Z"
   },
   {
    "duration": 8,
    "start_time": "2025-03-14T22:43:57.784Z"
   },
   {
    "duration": 7,
    "start_time": "2025-03-14T22:43:57.793Z"
   },
   {
    "duration": 5,
    "start_time": "2025-03-14T22:43:57.802Z"
   },
   {
    "duration": 6,
    "start_time": "2025-03-14T22:43:57.808Z"
   },
   {
    "duration": 8,
    "start_time": "2025-03-14T22:43:57.815Z"
   },
   {
    "duration": 52,
    "start_time": "2025-03-14T22:43:57.825Z"
   },
   {
    "duration": 10,
    "start_time": "2025-03-14T22:43:57.879Z"
   },
   {
    "duration": 6,
    "start_time": "2025-03-14T22:43:57.890Z"
   },
   {
    "duration": 5,
    "start_time": "2025-03-14T22:43:57.897Z"
   },
   {
    "duration": 6,
    "start_time": "2025-03-14T22:43:57.903Z"
   },
   {
    "duration": 4,
    "start_time": "2025-03-14T22:43:57.912Z"
   },
   {
    "duration": 3,
    "start_time": "2025-03-14T22:43:57.917Z"
   },
   {
    "duration": 5,
    "start_time": "2025-03-14T22:43:57.922Z"
   },
   {
    "duration": 631,
    "start_time": "2025-03-14T22:43:57.969Z"
   },
   {
    "duration": 0,
    "start_time": "2025-03-14T22:43:58.602Z"
   },
   {
    "duration": 0,
    "start_time": "2025-03-14T22:43:58.603Z"
   },
   {
    "duration": 0,
    "start_time": "2025-03-14T22:43:58.604Z"
   },
   {
    "duration": 0,
    "start_time": "2025-03-14T22:43:58.605Z"
   },
   {
    "duration": 0,
    "start_time": "2025-03-14T22:43:58.607Z"
   },
   {
    "duration": 14,
    "start_time": "2025-03-14T22:44:25.294Z"
   },
   {
    "duration": 14,
    "start_time": "2025-03-14T22:44:45.129Z"
   },
   {
    "duration": 9,
    "start_time": "2025-03-14T22:44:46.593Z"
   },
   {
    "duration": 9,
    "start_time": "2025-03-14T22:44:46.782Z"
   },
   {
    "duration": 5,
    "start_time": "2025-03-14T22:44:46.997Z"
   },
   {
    "duration": 7,
    "start_time": "2025-03-14T22:44:47.218Z"
   },
   {
    "duration": 8,
    "start_time": "2025-03-14T22:44:47.437Z"
   },
   {
    "duration": 8,
    "start_time": "2025-03-14T22:44:47.650Z"
   },
   {
    "duration": 8,
    "start_time": "2025-03-14T22:44:47.878Z"
   },
   {
    "duration": 4,
    "start_time": "2025-03-14T22:44:48.093Z"
   },
   {
    "duration": 6,
    "start_time": "2025-03-14T22:44:48.329Z"
   },
   {
    "duration": 10,
    "start_time": "2025-03-14T22:44:48.842Z"
   },
   {
    "duration": 11,
    "start_time": "2025-03-14T22:44:49.139Z"
   },
   {
    "duration": 10,
    "start_time": "2025-03-14T22:44:49.602Z"
   },
   {
    "duration": 6,
    "start_time": "2025-03-14T22:44:50.005Z"
   },
   {
    "duration": 6,
    "start_time": "2025-03-14T22:44:50.358Z"
   },
   {
    "duration": 7,
    "start_time": "2025-03-14T22:44:50.664Z"
   },
   {
    "duration": 5,
    "start_time": "2025-03-14T22:44:51.267Z"
   },
   {
    "duration": 3,
    "start_time": "2025-03-14T22:44:52.442Z"
   },
   {
    "duration": 5,
    "start_time": "2025-03-14T22:44:55.186Z"
   },
   {
    "duration": 43,
    "start_time": "2025-03-14T22:44:58.472Z"
   },
   {
    "duration": 5,
    "start_time": "2025-03-14T22:45:01.445Z"
   },
   {
    "duration": 3,
    "start_time": "2025-03-14T22:45:02.090Z"
   },
   {
    "duration": 4,
    "start_time": "2025-03-14T22:45:04.181Z"
   },
   {
    "duration": 178,
    "start_time": "2025-03-14T22:45:06.049Z"
   },
   {
    "duration": 3,
    "start_time": "2025-03-14T22:45:46.507Z"
   },
   {
    "duration": 190,
    "start_time": "2025-03-14T22:45:48.268Z"
   },
   {
    "duration": 248,
    "start_time": "2025-03-14T22:53:19.922Z"
   },
   {
    "duration": 3,
    "start_time": "2025-03-14T22:53:26.140Z"
   },
   {
    "duration": 182,
    "start_time": "2025-03-14T22:53:27.129Z"
   },
   {
    "duration": 145,
    "start_time": "2025-03-14T22:53:38.442Z"
   },
   {
    "duration": 168,
    "start_time": "2025-03-15T00:53:21.953Z"
   },
   {
    "duration": 157,
    "start_time": "2025-03-15T00:53:46.409Z"
   },
   {
    "duration": 806,
    "start_time": "2025-03-15T00:53:54.054Z"
   },
   {
    "duration": 21,
    "start_time": "2025-03-15T00:53:54.862Z"
   },
   {
    "duration": 7,
    "start_time": "2025-03-15T00:53:54.885Z"
   },
   {
    "duration": 8,
    "start_time": "2025-03-15T00:53:54.896Z"
   },
   {
    "duration": 4,
    "start_time": "2025-03-15T00:53:54.906Z"
   },
   {
    "duration": 6,
    "start_time": "2025-03-15T00:53:54.912Z"
   },
   {
    "duration": 7,
    "start_time": "2025-03-15T00:53:54.919Z"
   },
   {
    "duration": 8,
    "start_time": "2025-03-15T00:53:54.927Z"
   },
   {
    "duration": 7,
    "start_time": "2025-03-15T00:53:54.970Z"
   },
   {
    "duration": 3,
    "start_time": "2025-03-15T00:53:54.982Z"
   },
   {
    "duration": 6,
    "start_time": "2025-03-15T00:53:54.987Z"
   },
   {
    "duration": 7,
    "start_time": "2025-03-15T00:53:54.995Z"
   },
   {
    "duration": 9,
    "start_time": "2025-03-15T00:53:55.004Z"
   },
   {
    "duration": 8,
    "start_time": "2025-03-15T00:53:55.016Z"
   },
   {
    "duration": 5,
    "start_time": "2025-03-15T00:53:55.026Z"
   },
   {
    "duration": 5,
    "start_time": "2025-03-15T00:53:55.069Z"
   },
   {
    "duration": 6,
    "start_time": "2025-03-15T00:53:55.075Z"
   },
   {
    "duration": 5,
    "start_time": "2025-03-15T00:53:55.082Z"
   },
   {
    "duration": 695,
    "start_time": "2025-03-15T00:53:55.088Z"
   },
   {
    "duration": 0,
    "start_time": "2025-03-15T00:53:55.785Z"
   },
   {
    "duration": 0,
    "start_time": "2025-03-15T00:53:55.787Z"
   },
   {
    "duration": 0,
    "start_time": "2025-03-15T00:53:55.788Z"
   },
   {
    "duration": 198,
    "start_time": "2025-03-15T01:00:06.941Z"
   },
   {
    "duration": 17,
    "start_time": "2025-03-15T01:00:28.330Z"
   },
   {
    "duration": 818,
    "start_time": "2025-03-15T01:00:38.948Z"
   },
   {
    "duration": 16,
    "start_time": "2025-03-15T01:00:39.770Z"
   },
   {
    "duration": 8,
    "start_time": "2025-03-15T01:00:39.788Z"
   },
   {
    "duration": 8,
    "start_time": "2025-03-15T01:00:39.798Z"
   },
   {
    "duration": 4,
    "start_time": "2025-03-15T01:00:39.808Z"
   },
   {
    "duration": 8,
    "start_time": "2025-03-15T01:00:39.814Z"
   },
   {
    "duration": 8,
    "start_time": "2025-03-15T01:00:39.824Z"
   },
   {
    "duration": 39,
    "start_time": "2025-03-15T01:00:39.834Z"
   },
   {
    "duration": 8,
    "start_time": "2025-03-15T01:00:39.875Z"
   },
   {
    "duration": 4,
    "start_time": "2025-03-15T01:00:39.887Z"
   },
   {
    "duration": 6,
    "start_time": "2025-03-15T01:00:39.892Z"
   },
   {
    "duration": 8,
    "start_time": "2025-03-15T01:00:39.900Z"
   },
   {
    "duration": 10,
    "start_time": "2025-03-15T01:00:39.909Z"
   },
   {
    "duration": 8,
    "start_time": "2025-03-15T01:00:39.920Z"
   },
   {
    "duration": 6,
    "start_time": "2025-03-15T01:00:39.970Z"
   },
   {
    "duration": 5,
    "start_time": "2025-03-15T01:00:39.978Z"
   },
   {
    "duration": 5,
    "start_time": "2025-03-15T01:00:39.985Z"
   },
   {
    "duration": 4,
    "start_time": "2025-03-15T01:00:39.992Z"
   },
   {
    "duration": 241,
    "start_time": "2025-03-15T01:00:39.998Z"
   },
   {
    "duration": 5,
    "start_time": "2025-03-15T01:00:40.241Z"
   },
   {
    "duration": 147,
    "start_time": "2025-03-15T01:00:40.248Z"
   },
   {
    "duration": 7,
    "start_time": "2025-03-15T01:00:40.397Z"
   },
   {
    "duration": 180,
    "start_time": "2025-03-15T01:10:07.946Z"
   },
   {
    "duration": 120,
    "start_time": "2025-03-15T01:10:24.581Z"
   },
   {
    "duration": 121,
    "start_time": "2025-03-15T01:11:52.034Z"
   },
   {
    "duration": 3064,
    "start_time": "2025-03-15T06:15:16.541Z"
   },
   {
    "duration": 23,
    "start_time": "2025-03-15T06:15:19.607Z"
   },
   {
    "duration": 7,
    "start_time": "2025-03-15T06:15:19.632Z"
   },
   {
    "duration": 8,
    "start_time": "2025-03-15T06:15:19.643Z"
   },
   {
    "duration": 4,
    "start_time": "2025-03-15T06:15:19.653Z"
   },
   {
    "duration": 6,
    "start_time": "2025-03-15T06:15:19.658Z"
   },
   {
    "duration": 8,
    "start_time": "2025-03-15T06:15:19.666Z"
   },
   {
    "duration": 8,
    "start_time": "2025-03-15T06:15:19.675Z"
   },
   {
    "duration": 51,
    "start_time": "2025-03-15T06:15:19.685Z"
   },
   {
    "duration": 5,
    "start_time": "2025-03-15T06:15:19.740Z"
   },
   {
    "duration": 6,
    "start_time": "2025-03-15T06:15:19.746Z"
   },
   {
    "duration": 14,
    "start_time": "2025-03-15T06:15:19.754Z"
   },
   {
    "duration": 13,
    "start_time": "2025-03-15T06:15:19.770Z"
   },
   {
    "duration": 13,
    "start_time": "2025-03-15T06:15:19.786Z"
   },
   {
    "duration": 31,
    "start_time": "2025-03-15T06:15:19.801Z"
   },
   {
    "duration": 5,
    "start_time": "2025-03-15T06:15:19.834Z"
   },
   {
    "duration": 6,
    "start_time": "2025-03-15T06:15:19.842Z"
   },
   {
    "duration": 5,
    "start_time": "2025-03-15T06:15:19.849Z"
   },
   {
    "duration": 228,
    "start_time": "2025-03-15T06:15:19.855Z"
   },
   {
    "duration": 5,
    "start_time": "2025-03-15T06:15:20.085Z"
   },
   {
    "duration": 156,
    "start_time": "2025-03-15T06:15:20.092Z"
   },
   {
    "duration": 129,
    "start_time": "2025-03-15T06:15:20.250Z"
   },
   {
    "duration": 8,
    "start_time": "2025-03-15T06:15:20.381Z"
   }
  ],
  "kernelspec": {
   "display_name": "Python 3 (ipykernel)",
   "language": "python",
   "name": "python3"
  },
  "language_info": {
   "codemirror_mode": {
    "name": "ipython",
    "version": 3
   },
   "file_extension": ".py",
   "mimetype": "text/x-python",
   "name": "python",
   "nbconvert_exporter": "python",
   "pygments_lexer": "ipython3",
   "version": "3.9.19"
  },
  "toc": {
   "base_numbering": 1,
   "nav_menu": {},
   "number_sections": true,
   "sideBar": true,
   "skip_h1_title": true,
   "title_cell": "Table of Contents",
   "title_sidebar": "Contents",
   "toc_cell": false,
   "toc_position": {},
   "toc_section_display": true,
   "toc_window_display": false
  }
 },
 "nbformat": 4,
 "nbformat_minor": 2
}
